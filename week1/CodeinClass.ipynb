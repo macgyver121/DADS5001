{
  "nbformat": 4,
  "nbformat_minor": 0,
  "metadata": {
    "colab": {
      "name": "week1.ipynb",
      "provenance": [],
      "collapsed_sections": [],
      "include_colab_link": true
    },
    "kernelspec": {
      "name": "python3",
      "display_name": "Python 3"
    },
    "language_info": {
      "name": "python"
    }
  },
  "cells": [
    {
      "cell_type": "markdown",
      "metadata": {
        "id": "view-in-github",
        "colab_type": "text"
      },
      "source": [
        "<a href=\"https://colab.research.google.com/github/macgyver121/DADS5001/blob/main/week1/CodeinClass.ipynb\" target=\"_parent\"><img src=\"https://colab.research.google.com/assets/colab-badge.svg\" alt=\"Open In Colab\"/></a>"
      ]
    },
    {
      "cell_type": "markdown",
      "source": [
        "# 1. Youtube"
      ],
      "metadata": {
        "id": "sD8ky2n3mkQQ"
      }
    },
    {
      "cell_type": "code",
      "source": [
        "!pip install pytchat #https://github.com/taizan-hokuto/pytchat/wiki"
      ],
      "metadata": {
        "id": "Pgo6b68WmFIJ",
        "colab": {
          "base_uri": "https://localhost:8080/"
        },
        "outputId": "59142858-2d3a-4441-9829-0407fa847fa8"
      },
      "execution_count": null,
      "outputs": [
        {
          "output_type": "stream",
          "name": "stdout",
          "text": [
            "Collecting pytchat\n",
            "  Downloading pytchat-0.5.5-py3-none-any.whl (69 kB)\n",
            "\u001b[K     |████████████████████████████████| 69 kB 3.2 MB/s \n",
            "\u001b[?25hCollecting httpx[http2]\n",
            "  Downloading httpx-0.21.3-py3-none-any.whl (83 kB)\n",
            "\u001b[K     |████████████████████████████████| 83 kB 2.2 MB/s \n",
            "\u001b[?25hRequirement already satisfied: certifi in /usr/local/lib/python3.7/dist-packages (from httpx[http2]->pytchat) (2021.10.8)\n",
            "Collecting httpcore<0.15.0,>=0.14.0\n",
            "  Downloading httpcore-0.14.4-py3-none-any.whl (59 kB)\n",
            "\u001b[K     |████████████████████████████████| 59 kB 6.9 MB/s \n",
            "\u001b[?25hCollecting sniffio\n",
            "  Downloading sniffio-1.2.0-py3-none-any.whl (10 kB)\n",
            "Collecting rfc3986[idna2008]<2,>=1.3\n",
            "  Downloading rfc3986-1.5.0-py2.py3-none-any.whl (31 kB)\n",
            "Requirement already satisfied: charset-normalizer in /usr/local/lib/python3.7/dist-packages (from httpx[http2]->pytchat) (2.0.10)\n",
            "Collecting h2<5,>=3\n",
            "  Downloading h2-4.1.0-py3-none-any.whl (57 kB)\n",
            "\u001b[K     |████████████████████████████████| 57 kB 5.3 MB/s \n",
            "\u001b[?25hCollecting hpack<5,>=4.0\n",
            "  Downloading hpack-4.0.0-py3-none-any.whl (32 kB)\n",
            "Collecting hyperframe<7,>=6.0\n",
            "  Downloading hyperframe-6.0.1-py3-none-any.whl (12 kB)\n",
            "Collecting h11<0.13,>=0.11\n",
            "  Downloading h11-0.12.0-py3-none-any.whl (54 kB)\n",
            "\u001b[K     |████████████████████████████████| 54 kB 3.3 MB/s \n",
            "\u001b[?25hCollecting anyio==3.*\n",
            "  Downloading anyio-3.4.0-py3-none-any.whl (78 kB)\n",
            "\u001b[K     |████████████████████████████████| 78 kB 7.2 MB/s \n",
            "\u001b[?25hRequirement already satisfied: idna>=2.8 in /usr/local/lib/python3.7/dist-packages (from anyio==3.*->httpcore<0.15.0,>=0.14.0->httpx[http2]->pytchat) (2.10)\n",
            "Requirement already satisfied: typing-extensions in /usr/local/lib/python3.7/dist-packages (from anyio==3.*->httpcore<0.15.0,>=0.14.0->httpx[http2]->pytchat) (3.10.0.2)\n",
            "Installing collected packages: sniffio, rfc3986, h11, anyio, hyperframe, httpcore, hpack, httpx, h2, pytchat\n",
            "Successfully installed anyio-3.4.0 h11-0.12.0 h2-4.1.0 hpack-4.0.0 httpcore-0.14.4 httpx-0.21.3 hyperframe-6.0.1 pytchat-0.5.5 rfc3986-1.5.0 sniffio-1.2.0\n"
          ]
        }
      ]
    },
    {
      "cell_type": "code",
      "execution_count": null,
      "metadata": {
        "id": "pgCSzTNYkmqi"
      },
      "outputs": [],
      "source": [
        "import pytchat\n",
        "chat = pytchat.create(video_id=\"oTSzxLvoEJE\")\n",
        "\n",
        "while chat.is_alive():\n",
        "  for c in chat.get().sync_items():\n",
        "    print(f\"{c.datetime} [{c.author.name}]- {c.message}\")"
      ]
    },
    {
      "cell_type": "code",
      "source": [
        "import pytchat\n",
        "import pandas as pd \n",
        "chat = pytchat.create(video_id=\"ZrBKH5Liv_c\")\n",
        "\n",
        "dList = []\n",
        "aList = []\n",
        "mList = []\n",
        "\n",
        "i = 0\n",
        "while chat.is_alive():\n",
        "  for c in chat.get().sync_items():\n",
        "    print(f\"{c.datetime} [{c.author.name}]- {c.message}\")\n",
        "    dList.append(c.datetime)\n",
        "    aList.append(c.author.name)\n",
        "    mList.append(c.message)\n",
        "    i = i+1\n",
        "    if i == 5:\n",
        "        chat.terminate()\n",
        "        break\n",
        "\n",
        "# dictionary of lists \n",
        "dict = {'dateTime': dList, 'authorName': aList, 'Message': mList}\n",
        "\n",
        "df = pd.DataFrame(dict)\n",
        "df.head()\n",
        "\n",
        "from google.colab import files\n",
        "df.to_csv(\"data.csv\",encoding=\"utf_8_sig\", index=False)\n",
        "files.download(\"data.csv\")\n",
        "\n"
      ],
      "metadata": {
        "colab": {
          "base_uri": "https://localhost:8080/",
          "height": 104
        },
        "id": "vsr1OM129uRq",
        "outputId": "b14f6dd8-ddf5-4481-e5c9-33db4f9daa7d"
      },
      "execution_count": null,
      "outputs": [
        {
          "output_type": "stream",
          "name": "stdout",
          "text": [
            "2022-01-10 21:44:27 [COOL HAND ANGELS]- มาาา\n",
            "2022-01-10 21:44:30 [Manow Soda]- สวัสดีค่ะ\n",
            "2022-01-10 21:44:39 [K TW]- ใจเย็นครับพี่อ้นยังไม่ทันจบเลย5555\n",
            "2022-01-10 21:44:42 [กิจ กิจ]- สวัสดีครับ\n",
            "2022-01-10 21:44:42 [car like]- หวัดดีงับ\n"
          ]
        },
        {
          "output_type": "display_data",
          "data": {
            "application/javascript": [
              "\n",
              "    async function download(id, filename, size) {\n",
              "      if (!google.colab.kernel.accessAllowed) {\n",
              "        return;\n",
              "      }\n",
              "      const div = document.createElement('div');\n",
              "      const label = document.createElement('label');\n",
              "      label.textContent = `Downloading \"${filename}\": `;\n",
              "      div.appendChild(label);\n",
              "      const progress = document.createElement('progress');\n",
              "      progress.max = size;\n",
              "      div.appendChild(progress);\n",
              "      document.body.appendChild(div);\n",
              "\n",
              "      const buffers = [];\n",
              "      let downloaded = 0;\n",
              "\n",
              "      const channel = await google.colab.kernel.comms.open(id);\n",
              "      // Send a message to notify the kernel that we're ready.\n",
              "      channel.send({})\n",
              "\n",
              "      for await (const message of channel.messages) {\n",
              "        // Send a message to notify the kernel that we're ready.\n",
              "        channel.send({})\n",
              "        if (message.buffers) {\n",
              "          for (const buffer of message.buffers) {\n",
              "            buffers.push(buffer);\n",
              "            downloaded += buffer.byteLength;\n",
              "            progress.value = downloaded;\n",
              "          }\n",
              "        }\n",
              "      }\n",
              "      const blob = new Blob(buffers, {type: 'application/binary'});\n",
              "      const a = document.createElement('a');\n",
              "      a.href = window.URL.createObjectURL(blob);\n",
              "      a.download = filename;\n",
              "      div.appendChild(a);\n",
              "      a.click();\n",
              "      div.remove();\n",
              "    }\n",
              "  "
            ],
            "text/plain": [
              "<IPython.core.display.Javascript object>"
            ]
          },
          "metadata": {}
        },
        {
          "output_type": "display_data",
          "data": {
            "application/javascript": [
              "download(\"download_0807dacc-407d-46b7-983c-9f0ba6514a25\", \"data.csv\", 388)"
            ],
            "text/plain": [
              "<IPython.core.display.Javascript object>"
            ]
          },
          "metadata": {}
        }
      ]
    },
    {
      "cell_type": "markdown",
      "source": [
        "# 2. Twitter"
      ],
      "metadata": {
        "id": "-Is6zOw5n0n_"
      }
    },
    {
      "cell_type": "code",
      "source": [
        "!pip install tweepy #https://www.tweepy.org/"
      ],
      "metadata": {
        "id": "n0a9S2EXos5J"
      },
      "execution_count": null,
      "outputs": []
    },
    {
      "cell_type": "code",
      "source": [
        "from getpass import getpass\n",
        "consumer_key = getpass('Enter the consumer_key: ')\n",
        "consumer_secret = getpass('Enter the consumer_secret: ')\n",
        "access_token = getpass('Enter the access_token: ')\n",
        "access_token_secret = getpass('Enter the access_token_secret: ')"
      ],
      "metadata": {
        "id": "u9zghkeYEZ2D"
      },
      "execution_count": null,
      "outputs": []
    },
    {
      "cell_type": "markdown",
      "source": [
        "### Streaming\n",
        "### Idea project: monitor ดูว่าเวลา คุณ kim property live แล้ว ราคา crypto ขึ้น/ลง สวนทางกับที่แกพูดแค่ไหน"
      ],
      "metadata": {
        "id": "vFj8KMfRFT4C"
      }
    },
    {
      "cell_type": "code",
      "source": [
        "import tweepy\n",
        "from tweepy import Stream\n",
        "from tweepy import OAuthHandler\n",
        "from tweepy.streaming import StreamListener\n",
        "\n",
        "class listener(StreamListener):\n",
        "\n",
        "    def on_data(self, data):\n",
        "        print (data.encode().decode('unicode_escape'))\n",
        "        return True\n",
        "\n",
        "    def on_error(self, status):\n",
        "        print (status)\n",
        "\n",
        "auth = tweepy.OAuthHandler(consumer_key, consumer_secret)\n",
        "auth.set_access_token(access_token, access_token_secret)\n",
        "twitterStream = Stream(auth, listener())\n",
        "twitterStream.filter(track=[\"elonmusk\"])"
      ],
      "metadata": {
        "id": "MbCNsaJFnz6I"
      },
      "execution_count": null,
      "outputs": []
    },
    {
      "cell_type": "markdown",
      "source": [
        "### Setup key"
      ],
      "metadata": {
        "id": "yHyQTyfiFjML"
      }
    },
    {
      "cell_type": "code",
      "source": [
        "import tweepy\n",
        "\n",
        "auth = tweepy.OAuthHandler(consumer_key, consumer_secret)\n",
        "auth.set_access_token(access_token, access_token_secret)\n",
        "\n",
        "api = tweepy.API(auth)"
      ],
      "metadata": {
        "id": "1YA_65_hFDbz"
      },
      "execution_count": null,
      "outputs": []
    },
    {
      "cell_type": "markdown",
      "source": [
        "### User home timeline"
      ],
      "metadata": {
        "id": "cRvXO7DfFXtK"
      }
    },
    {
      "cell_type": "code",
      "source": [
        "public_tweets = api.home_timeline()\n",
        "for tweet in public_tweets:\n",
        "    print(tweet.text)\n",
        "    print(\"---\")"
      ],
      "metadata": {
        "id": "a_Rq4gkpqCu4"
      },
      "execution_count": null,
      "outputs": []
    },
    {
      "cell_type": "markdown",
      "source": [
        "### Save data to file"
      ],
      "metadata": {
        "id": "qEpJQsk6FoTE"
      }
    },
    {
      "cell_type": "code",
      "source": [
        "import pandas as pd\n",
        "dList = []\n",
        "aList = []\n",
        "mList = []\n",
        "userID = \"InsomPoramin\"\n",
        "user = api.get_user(userID)\n",
        "\n",
        "tweets = api.user_timeline(screen_name=userID, \n",
        "                           # 200 is the maximum allowed count\n",
        "                           count=200,\n",
        "                           include_rts = False,\n",
        "                           # Necessary to keep full_text \n",
        "                           # otherwise only the first 140 words are extracted\n",
        "                           tweet_mode = 'extended'\n",
        "                           )\n",
        "\n",
        "for info in tweets[:3]:\n",
        "    print(\"ID: {}\".format(info.id))\n",
        "    print(info.created_at)\n",
        "    print(info.full_text)\n",
        "    print(\"\\n\")\n",
        "    dList.append(info.id)\n",
        "    aList.append(info.created_at)\n",
        "    mList.append(info.full_text.encode().decode('unicode_escape'))\n",
        "\n",
        "dict = {'id': dList, 'time': aList, 'text': mList}\n",
        "\n",
        "df = pd.DataFrame(dict)\n",
        "df.head()\n",
        "\n",
        "from google.colab import files\n",
        "df.to_csv(\"data.csv\", encoding=\"ISO-8859-1\", index=False)\n",
        "files.download(\"data.csv\")\n"
      ],
      "metadata": {
        "colab": {
          "base_uri": "https://localhost:8080/",
          "height": 277
        },
        "id": "AxBMi_5GsGGI",
        "outputId": "59a51d83-4567-4218-ccaf-3487772d30e1"
      },
      "execution_count": null,
      "outputs": [
        {
          "output_type": "stream",
          "name": "stdout",
          "text": [
            "ID: 1478981743205965826\n",
            "2022-01-06 06:48:20\n",
            "@Queue253629 ไม่ครับ\n",
            "\n",
            "\n",
            "ID: 1478981364464508934\n",
            "2022-01-06 06:46:50\n",
            "🔴ต่อด้วยเรื่อง NFT https://t.co/Ur1wqSqPkR\n",
            "\n",
            "\n",
            "ID: 1478980474772996096\n",
            "2022-01-06 06:43:17\n",
            "@TonHor @tan_twtt คุณอย่าจุดประเด็น\n",
            "\n",
            "\n"
          ]
        },
        {
          "output_type": "display_data",
          "data": {
            "application/javascript": [
              "\n",
              "    async function download(id, filename, size) {\n",
              "      if (!google.colab.kernel.accessAllowed) {\n",
              "        return;\n",
              "      }\n",
              "      const div = document.createElement('div');\n",
              "      const label = document.createElement('label');\n",
              "      label.textContent = `Downloading \"${filename}\": `;\n",
              "      div.appendChild(label);\n",
              "      const progress = document.createElement('progress');\n",
              "      progress.max = size;\n",
              "      div.appendChild(progress);\n",
              "      document.body.appendChild(div);\n",
              "\n",
              "      const buffers = [];\n",
              "      let downloaded = 0;\n",
              "\n",
              "      const channel = await google.colab.kernel.comms.open(id);\n",
              "      // Send a message to notify the kernel that we're ready.\n",
              "      channel.send({})\n",
              "\n",
              "      for await (const message of channel.messages) {\n",
              "        // Send a message to notify the kernel that we're ready.\n",
              "        channel.send({})\n",
              "        if (message.buffers) {\n",
              "          for (const buffer of message.buffers) {\n",
              "            buffers.push(buffer);\n",
              "            downloaded += buffer.byteLength;\n",
              "            progress.value = downloaded;\n",
              "          }\n",
              "        }\n",
              "      }\n",
              "      const blob = new Blob(buffers, {type: 'application/binary'});\n",
              "      const a = document.createElement('a');\n",
              "      a.href = window.URL.createObjectURL(blob);\n",
              "      a.download = filename;\n",
              "      div.appendChild(a);\n",
              "      a.click();\n",
              "      div.remove();\n",
              "    }\n",
              "  "
            ],
            "text/plain": [
              "<IPython.core.display.Javascript object>"
            ]
          },
          "metadata": {}
        },
        {
          "output_type": "display_data",
          "data": {
            "application/javascript": [
              "download(\"download_d9ede120-d2bf-4ccd-84fb-1ec397280ae6\", \"data.csv\", 310)"
            ],
            "text/plain": [
              "<IPython.core.display.Javascript object>"
            ]
          },
          "metadata": {}
        }
      ]
    },
    {
      "cell_type": "markdown",
      "source": [
        "### Web scraping"
      ],
      "metadata": {
        "id": "TKHf6gy-PYnb"
      }
    },
    {
      "cell_type": "code",
      "source": [
        "import requests\n",
        "from bs4 import BeautifulSoup\n",
        "url = requests.get('https://www.blognone.com/node/109731')\n",
        "soup = BeautifulSoup(url.content, 'html.parser')\n",
        "data = soup.find(itemprop='name')\n",
        "print(data)\n",
        "\n",
        "####\n",
        "\n",
        "data = ''\n",
        "for i in soup.find_all(itemprop='description'):\n",
        "  data += i.find('p').text\n",
        "  print(data)"
      ],
      "metadata": {
        "colab": {
          "base_uri": "https://localhost:8080/"
        },
        "id": "TfnV1SYjPbEL",
        "outputId": "d1885a56-923e-4494-a8b4-395f839aec95"
      },
      "execution_count": null,
      "outputs": [
        {
          "output_type": "stream",
          "name": "stdout",
          "text": [
            "<h2 itemprop=\"name\"><a href=\"/node/109731\" title=\"Bitcoin ราคาล่าสุด ทะลุ 7,000 ดอลลาร์ แล้ว\">Bitcoin ราคาล่าสุด ทะลุ 7,000 ดอลลาร์ แล้ว</a></h2>\n",
            "ช่วงนี้อาจมีหลายคนพูดว่ารู้อะไรไม่สู้รู้งี้ โดยราคา Bitcoin ล่าสุด ได้ซื้อขายกันสูงกว่า 7,000 ดอลลาร์ เป็นที่เรียบร้อยแล้ว ตั้งแต่เมื่อวานนี้ (11 พฤษภาคม) ซึ่งเป็นราคาสูงสุดในรอบ 8 เดือน และราคาปรับขึ้นกว่า 22% ในช่วงสัปดาห์ที่ผ่านมา ราคาล่าสุดตอนนี้อยู่ราว 7,300 ดอลลาร์\n"
          ]
        }
      ]
    },
    {
      "cell_type": "code",
      "source": [
        "import requests #connect url\n",
        "\n",
        "from bs4 import BeautifulSoup #https://www.crummy.com/software/BeautifulSoup/bs4/doc/\n",
        "\n",
        "\n",
        "\n",
        "url = requests.get('https://www.blognone.com/node/109731')\n",
        "\n",
        "#print(\"url = \",url)\n",
        "\n",
        "\n",
        "\n",
        "soup = BeautifulSoup(url.content, 'html.parser')\n",
        "#print(\"soup = \",soup)\n",
        "\n",
        "\n",
        "\n",
        "#data = soup.find(itemprop='name')\n",
        "\n",
        "#print(data)\n",
        "\n",
        "\n",
        "\n",
        "####\n",
        "\n",
        "data = ''\n",
        "\n",
        "idx = 1\n",
        "\n",
        "for i in soup.find_all(\"div\", {\"class\": \"field-item even\"}):\n",
        "    print(i)\n"
      ],
      "metadata": {
        "colab": {
          "base_uri": "https://localhost:8080/"
        },
        "id": "riIjPqk1S8Eg",
        "outputId": "7cb8eed1-abe9-4e35-995b-d02bda7e2859"
      },
      "execution_count": null,
      "outputs": [
        {
          "output_type": "stream",
          "name": "stdout",
          "text": [
            "<div class=\"field-item even\"><a href=\"/topics/bitcoin\">Bitcoin</a></div>\n",
            "<div class=\"field-item even\"><p>ช่วงนี้อาจมีหลายคนพูดว่ารู้อะไรไม่สู้รู้งี้ โดยราคา Bitcoin ล่าสุด ได้ซื้อขายกันสูงกว่า 7,000 ดอลลาร์ เป็นที่เรียบร้อยแล้ว ตั้งแต่เมื่อวานนี้ (11 พฤษภาคม) ซึ่งเป็นราคาสูงสุดในรอบ 8 เดือน และราคาปรับขึ้นกว่า 22% ในช่วงสัปดาห์ที่ผ่านมา ราคาล่าสุดตอนนี้อยู่ราว 7,300 ดอลลาร์</p>\n",
            "<p>เงินคริปโตสกุลอื่นก็มีแนวโน้มปรับตัวเพิ่มขึ้นเช่นกัน โดย Ethereum ราคาล่าสุดอยู่ที่ 194 ดอลลาร์ ส่วน XRP อยู่ที่ 0.318 ดอลลาร์</p>\n",
            "<p>ที่มา: <a href=\"https://www.coindesk.com/bitcoin-price-hits-8-month-high-close-to-7k\">Coindesk</a></p>\n",
            "<p><img alt='alt=\"BTC\"' src=\"https://www.blognone.com/sites/default/files/externals/f5ce425f4c6e4bc26812a23240c63ed5.png\"/></p>\n",
            "</div>\n",
            "<div class=\"field-item even\"><p>โดนใครปั่น เหมือนไม่มีข่าวดีอะไรเลย</p>\n",
            "</div>\n",
            "<div class=\"field-item even\"><p>ปั่นน่ะปั่นแน่ครับ ช่วงนี้ดูเหมือนพวกแฮกเกอร์ทั้งหลายเองก็คึกคัก กระหน่ำโจมตี รวมทั้งแฮกเงินคลิปโตบ่อยจนผิดสังเกตุ น่าจะเป็นการเก็บไว้เพื่อรอขายในช่วงราคาขึ้นสุดทำกำไร คงจะมีข่าววงในอะไรซักอย่างที่เราไม่รู้ได้น่ะครับ</p>\n",
            "<p>รอดูว่าจะมีเม่าบินเข้าไปตายรอบนี้เท่าไหร่</p>\n",
            "</div>\n",
            "<div class=\"field-item even\"><p>ช่วงที่มีข่าวแรงๆ เรื่อง USDT มีการทยอยขนเงินจาก Bitfinex กับ Binance (ขาย BNB ทิ้ง) ไปปั่นบน Coinbase ครับ</p>\n",
            "<p>เนื่องจากแนวต้าน Coinbaes มันน้อยกว่า Bitfinex 10 เท่า แล้วแทบจะไม่มีแนวต้านรายทางเลย พอไปปั่นให้แพงกว่าเว็ปอื่น แถมด้วยเว็ปนี้มันอยู่อันดับต้นๆ ที่ bot ซิงค์ถึงกันได้ พวก bot เจ้าของเว็ปที่ขายราคาถูกกว่ามันจะซิงค์แล้วปั่นตามขึ้นไป ราคาก็ตามนั้นครับ</p>\n",
            "<p>ส่วนสาเหตุที่ปั่น อาจจะเอาไปโป๊ะจำนวนเงิน Backup USDT ที่ Bitfinex มีไม่เท่าจำนวนจริง หรือเอาไปโป๊ะ binnacle ที่โดนขโมย BTC หรือแค่ปั่นเพราะมีข่าวร้าย หรือเปล่าอันนี้ไม่อาจทราบได้นะครับ</p>\n",
            "</div>\n",
            "<div class=\"field-item even\"><p>ขึ้นเงียบๆนี่ขึ้นจริงนะผมว่า</p>\n",
            "</div>\n",
            "<div class=\"field-item even\"><p>มีประชาชนในบางประเทศตอนนี้ อยู่ได้ด้วย Coin เพราะเศรษฐกิจประเทศพัง สกุลเงินหลักไม่มีค่า ดันกลายเป็นว่า คนที่รอด คือคนที่ถือ Coin ซะงั้น</p>\n",
            "</div>\n"
          ]
        }
      ]
    },
    {
      "cell_type": "code",
      "source": [
        "\n",
        "  output = i.find(\"p\")\n",
        "\n",
        "  #print(type(output))\n",
        "\n",
        "  if output != None:\n",
        "\n",
        "    print(idx, \" = \", output.text)\n",
        "\n",
        "    idx = idx + 1"
      ],
      "metadata": {
        "id": "h5OdI7-mVwzm"
      },
      "execution_count": null,
      "outputs": []
    },
    {
      "cell_type": "code",
      "source": [
        "import requests #connect url\n",
        "\n",
        "from bs4 import BeautifulSoup #https://www.crummy.com/software/BeautifulSoup/bs4/doc/\n",
        "\n",
        "url = requests.get('https://www.swensens1112.com/th/product/scoop')\n",
        "\n",
        "soup = BeautifulSoup(url.content, 'html.parser')\n",
        "\n",
        "for i in soup.find_all('h1', {'class': \"product-name height_name\"}) :\n",
        "    j = i.text\n",
        "    print(j)"
      ],
      "metadata": {
        "colab": {
          "base_uri": "https://localhost:8080/"
        },
        "id": "pjDqHre1S617",
        "outputId": "0249cf75-da9f-47ec-e1a7-819b172d6406"
      },
      "execution_count": null,
      "outputs": [
        {
          "output_type": "stream",
          "name": "stdout",
          "text": [
            " สตรอว์เบอร์รี ฮอกไกโด มิลค์ ไดฟุกุ \n",
            " สตรอว์เบอร์รี สเปเชียล ไทม์ \n",
            " สตรอว์เบอร์รี ซอร์เบท์ \n",
            " โรเซ่ \n",
            " มะม่วง ซอร์เบท์ \n",
            " แอปเปิ้ล แครนเบอร์รี่ ซอร์เบท์ \n",
            " มะนาว เชอร์เบท \n",
            " ดาร์กช็อกโกแลต ทรัฟเฟิล \n",
            " มิดไนท์ บราวนี่ส์ \n",
            " สติคกี้ ซูวี่ ช็อกโกแลต \n",
            " ร็อคกี้โรด \n",
            " ช็อกโกแลต \n",
            " ช็อกโกแลตชิพ \n",
            " คุกกี้ แอนด์ ครีม \n",
            " มิ้นท์ช็อกโกแลตชิพ \n",
            " สตรอเบอร์รี บานาน่า แอนด์ ครีม \n",
            " รัมลูกเกด \n",
            " มอคค่า อัลมอนด์ ฟัดจ์ \n",
            " แมคคาเดเมีย \n",
            " วานิลลา \n",
            " สตรอเบอร์รี ช็อคโกแลต ชังค์ \n",
            " บลูเบอร์รี่ ชีสเค้ก \n",
            " เวรี่สตรอว์เบอร์รี \n",
            " สตรอเบอร์รี่ ชีสเค้ก \n",
            " แคนตาลูป \n",
            " บับเบิ้ล กัม \n",
            " มัทฉะ กรีนที \n",
            " กาแฟ เทอร์กิช \n"
          ]
        }
      ]
    },
    {
      "cell_type": "markdown",
      "source": [
        "## Kaggle"
      ],
      "metadata": {
        "id": "hmp7AACDalXL"
      }
    },
    {
      "cell_type": "code",
      "source": [
        "## download from kaggle\n",
        "import pandas as pd\n",
        "df = pd.read_csv('covid-variants.csv')"
      ],
      "metadata": {
        "id": "Y_Wa06nsTUp3"
      },
      "execution_count": null,
      "outputs": []
    },
    {
      "cell_type": "code",
      "source": [
        "df.head()"
      ],
      "metadata": {
        "id": "7qaz8mI5aSiO",
        "outputId": "84a205b3-2180-4b38-8509-c7d845153e07",
        "colab": {
          "base_uri": "https://localhost:8080/",
          "height": 337
        }
      },
      "execution_count": null,
      "outputs": [
        {
          "output_type": "execute_result",
          "data": {
            "text/html": [
              "\n",
              "  <div id=\"df-9286a99c-e310-415e-bbf4-bbee1c81a000\">\n",
              "    <div class=\"colab-df-container\">\n",
              "      <div>\n",
              "<style scoped>\n",
              "    .dataframe tbody tr th:only-of-type {\n",
              "        vertical-align: middle;\n",
              "    }\n",
              "\n",
              "    .dataframe tbody tr th {\n",
              "        vertical-align: top;\n",
              "    }\n",
              "\n",
              "    .dataframe thead th {\n",
              "        text-align: right;\n",
              "    }\n",
              "</style>\n",
              "<table border=\"1\" class=\"dataframe\">\n",
              "  <thead>\n",
              "    <tr style=\"text-align: right;\">\n",
              "      <th></th>\n",
              "      <th>location</th>\n",
              "      <th>date</th>\n",
              "      <th>variant</th>\n",
              "      <th>num_sequences</th>\n",
              "      <th>perc_sequences</th>\n",
              "      <th>num_sequences_total</th>\n",
              "    </tr>\n",
              "  </thead>\n",
              "  <tbody>\n",
              "    <tr>\n",
              "      <th>0</th>\n",
              "      <td>Angola</td>\n",
              "      <td>2020-07-06</td>\n",
              "      <td>Alpha</td>\n",
              "      <td>0</td>\n",
              "      <td>0.0</td>\n",
              "      <td>3</td>\n",
              "    </tr>\n",
              "    <tr>\n",
              "      <th>1</th>\n",
              "      <td>Angola</td>\n",
              "      <td>2020-07-06</td>\n",
              "      <td>B.1.1.277</td>\n",
              "      <td>0</td>\n",
              "      <td>0.0</td>\n",
              "      <td>3</td>\n",
              "    </tr>\n",
              "    <tr>\n",
              "      <th>2</th>\n",
              "      <td>Angola</td>\n",
              "      <td>2020-07-06</td>\n",
              "      <td>B.1.1.302</td>\n",
              "      <td>0</td>\n",
              "      <td>0.0</td>\n",
              "      <td>3</td>\n",
              "    </tr>\n",
              "    <tr>\n",
              "      <th>3</th>\n",
              "      <td>Angola</td>\n",
              "      <td>2020-07-06</td>\n",
              "      <td>B.1.1.519</td>\n",
              "      <td>0</td>\n",
              "      <td>0.0</td>\n",
              "      <td>3</td>\n",
              "    </tr>\n",
              "    <tr>\n",
              "      <th>4</th>\n",
              "      <td>Angola</td>\n",
              "      <td>2020-07-06</td>\n",
              "      <td>B.1.160</td>\n",
              "      <td>0</td>\n",
              "      <td>0.0</td>\n",
              "      <td>3</td>\n",
              "    </tr>\n",
              "  </tbody>\n",
              "</table>\n",
              "</div>\n",
              "      <button class=\"colab-df-convert\" onclick=\"convertToInteractive('df-9286a99c-e310-415e-bbf4-bbee1c81a000')\"\n",
              "              title=\"Convert this dataframe to an interactive table.\"\n",
              "              style=\"display:none;\">\n",
              "        \n",
              "  <svg xmlns=\"http://www.w3.org/2000/svg\" height=\"24px\"viewBox=\"0 0 24 24\"\n",
              "       width=\"24px\">\n",
              "    <path d=\"M0 0h24v24H0V0z\" fill=\"none\"/>\n",
              "    <path d=\"M18.56 5.44l.94 2.06.94-2.06 2.06-.94-2.06-.94-.94-2.06-.94 2.06-2.06.94zm-11 1L8.5 8.5l.94-2.06 2.06-.94-2.06-.94L8.5 2.5l-.94 2.06-2.06.94zm10 10l.94 2.06.94-2.06 2.06-.94-2.06-.94-.94-2.06-.94 2.06-2.06.94z\"/><path d=\"M17.41 7.96l-1.37-1.37c-.4-.4-.92-.59-1.43-.59-.52 0-1.04.2-1.43.59L10.3 9.45l-7.72 7.72c-.78.78-.78 2.05 0 2.83L4 21.41c.39.39.9.59 1.41.59.51 0 1.02-.2 1.41-.59l7.78-7.78 2.81-2.81c.8-.78.8-2.07 0-2.86zM5.41 20L4 18.59l7.72-7.72 1.47 1.35L5.41 20z\"/>\n",
              "  </svg>\n",
              "      </button>\n",
              "      \n",
              "  <style>\n",
              "    .colab-df-container {\n",
              "      display:flex;\n",
              "      flex-wrap:wrap;\n",
              "      gap: 12px;\n",
              "    }\n",
              "\n",
              "    .colab-df-convert {\n",
              "      background-color: #E8F0FE;\n",
              "      border: none;\n",
              "      border-radius: 50%;\n",
              "      cursor: pointer;\n",
              "      display: none;\n",
              "      fill: #1967D2;\n",
              "      height: 32px;\n",
              "      padding: 0 0 0 0;\n",
              "      width: 32px;\n",
              "    }\n",
              "\n",
              "    .colab-df-convert:hover {\n",
              "      background-color: #E2EBFA;\n",
              "      box-shadow: 0px 1px 2px rgba(60, 64, 67, 0.3), 0px 1px 3px 1px rgba(60, 64, 67, 0.15);\n",
              "      fill: #174EA6;\n",
              "    }\n",
              "\n",
              "    [theme=dark] .colab-df-convert {\n",
              "      background-color: #3B4455;\n",
              "      fill: #D2E3FC;\n",
              "    }\n",
              "\n",
              "    [theme=dark] .colab-df-convert:hover {\n",
              "      background-color: #434B5C;\n",
              "      box-shadow: 0px 1px 3px 1px rgba(0, 0, 0, 0.15);\n",
              "      filter: drop-shadow(0px 1px 2px rgba(0, 0, 0, 0.3));\n",
              "      fill: #FFFFFF;\n",
              "    }\n",
              "  </style>\n",
              "\n",
              "      <script>\n",
              "        const buttonEl =\n",
              "          document.querySelector('#df-9286a99c-e310-415e-bbf4-bbee1c81a000 button.colab-df-convert');\n",
              "        buttonEl.style.display =\n",
              "          google.colab.kernel.accessAllowed ? 'block' : 'none';\n",
              "\n",
              "        async function convertToInteractive(key) {\n",
              "          const element = document.querySelector('#df-9286a99c-e310-415e-bbf4-bbee1c81a000');\n",
              "          const dataTable =\n",
              "            await google.colab.kernel.invokeFunction('convertToInteractive',\n",
              "                                                     [key], {});\n",
              "          if (!dataTable) return;\n",
              "\n",
              "          const docLinkHtml = 'Like what you see? Visit the ' +\n",
              "            '<a target=\"_blank\" href=https://colab.research.google.com/notebooks/data_table.ipynb>data table notebook</a>'\n",
              "            + ' to learn more about interactive tables.';\n",
              "          element.innerHTML = '';\n",
              "          dataTable['output_type'] = 'display_data';\n",
              "          await google.colab.output.renderOutput(dataTable, element);\n",
              "          const docLink = document.createElement('div');\n",
              "          docLink.innerHTML = docLinkHtml;\n",
              "          element.appendChild(docLink);\n",
              "        }\n",
              "      </script>\n",
              "    </div>\n",
              "  </div>\n",
              "  "
            ],
            "text/plain": [
              "  location        date  ... perc_sequences  num_sequences_total\n",
              "0   Angola  2020-07-06  ...            0.0                    3\n",
              "1   Angola  2020-07-06  ...            0.0                    3\n",
              "2   Angola  2020-07-06  ...            0.0                    3\n",
              "3   Angola  2020-07-06  ...            0.0                    3\n",
              "4   Angola  2020-07-06  ...            0.0                    3\n",
              "\n",
              "[5 rows x 6 columns]"
            ]
          },
          "metadata": {},
          "execution_count": 32
        }
      ]
    },
    {
      "cell_type": "code",
      "source": [
        "df.value_counts('variant')"
      ],
      "metadata": {
        "id": "HlpH_ZowaTg5",
        "outputId": "00a21284-d177-4103-a46a-510610eeefd4",
        "colab": {
          "base_uri": "https://localhost:8080/"
        }
      },
      "execution_count": null,
      "outputs": [
        {
          "output_type": "execute_result",
          "data": {
            "text/plain": [
              "variant\n",
              "others            4184\n",
              "non_who           4184\n",
              "B.1.1.277         4184\n",
              "B.1.1.302         4184\n",
              "B.1.1.519         4184\n",
              "B.1.160           4184\n",
              "B.1.177           4184\n",
              "B.1.221           4184\n",
              "B.1.258           4184\n",
              "B.1.367           4184\n",
              "B.1.620           4184\n",
              "Beta              4184\n",
              "Delta             4184\n",
              "Epsilon           4184\n",
              "Eta               4184\n",
              "Gamma             4184\n",
              "Iota              4184\n",
              "Kappa             4184\n",
              "Lambda            4184\n",
              "Mu                4184\n",
              "Omicron           4184\n",
              "S:677H.Robin1     4184\n",
              "S:677P.Pelican    4184\n",
              "Alpha             4184\n",
              "dtype: int64"
            ]
          },
          "metadata": {},
          "execution_count": 34
        }
      ]
    },
    {
      "cell_type": "code",
      "source": [
        ""
      ],
      "metadata": {
        "id": "Tl0J8o_rabnR"
      },
      "execution_count": null,
      "outputs": []
    }
  ]
}