{
  "nbformat": 4,
  "nbformat_minor": 0,
  "metadata": {
    "anaconda-cloud": {},
    "kernelspec": {
      "display_name": "Python 3",
      "language": "python",
      "name": "python3"
    },
    "language_info": {
      "codemirror_mode": {
        "name": "ipython",
        "version": 3
      },
      "file_extension": ".py",
      "mimetype": "text/x-python",
      "name": "python",
      "nbconvert_exporter": "python",
      "pygments_lexer": "ipython3",
      "version": "3.7.3"
    },
    "toc": {
      "base_numbering": 1,
      "nav_menu": {},
      "number_sections": true,
      "sideBar": true,
      "skip_h1_title": false,
      "title_cell": "Table of Contents",
      "title_sidebar": "Contents",
      "toc_cell": false,
      "toc_position": {},
      "toc_section_display": true,
      "toc_window_display": false
    },
    "colab": {
      "name": "Exercises_with_solutions.ipynb",
      "provenance": []
    }
  },
  "cells": [
    {
      "cell_type": "markdown",
      "metadata": {
        "id": "ImObmLL1x6En"
      },
      "source": [
        "# Ex1 - Filtering and Sorting Data\n",
        "\n",
        "Check out [Chipotle Exercises Video Tutorial](https://youtu.be/ZZPiWZpdekA) to watch a data scientist go through the exercises"
      ]
    },
    {
      "cell_type": "markdown",
      "metadata": {
        "id": "71vBSx0Sx6Es"
      },
      "source": [
        "This time we are going to pull data directly from the internet.\n",
        "Special thanks to: https://github.com/justmarkham for sharing the dataset and materials.\n",
        "\n",
        "### Step 1. Import the necessary libraries"
      ]
    },
    {
      "cell_type": "code",
      "metadata": {
        "id": "gfC_a5-2x6Et"
      },
      "source": [
        "import pandas as pd"
      ],
      "execution_count": null,
      "outputs": []
    },
    {
      "cell_type": "markdown",
      "metadata": {
        "id": "3K1T-tGBx6Ev"
      },
      "source": [
        "### Step 2. Import the dataset from this [address](https://raw.githubusercontent.com/justmarkham/DAT8/master/data/chipotle.tsv). "
      ]
    },
    {
      "cell_type": "markdown",
      "metadata": {
        "id": "kHh65R9mx6Ev"
      },
      "source": [
        "### Step 3. Assign it to a variable called chipo."
      ]
    },
    {
      "cell_type": "code",
      "metadata": {
        "id": "TbBPTDbSx6Ew",
        "outputId": "660cd1e0-dcf8-463a-f1fe-0ed040f61f47",
        "colab": {
          "base_uri": "https://localhost:8080/",
          "height": 205
        }
      },
      "source": [
        "url = 'https://raw.githubusercontent.com/justmarkham/DAT8/master/data/chipotle.tsv'\n",
        "\n",
        "chipo = pd.read_csv(url, sep = '\\t')\n",
        "\n",
        "chipo.head()"
      ],
      "execution_count": null,
      "outputs": [
        {
          "output_type": "execute_result",
          "data": {
            "text/html": [
              "<div>\n",
              "<style scoped>\n",
              "    .dataframe tbody tr th:only-of-type {\n",
              "        vertical-align: middle;\n",
              "    }\n",
              "\n",
              "    .dataframe tbody tr th {\n",
              "        vertical-align: top;\n",
              "    }\n",
              "\n",
              "    .dataframe thead th {\n",
              "        text-align: right;\n",
              "    }\n",
              "</style>\n",
              "<table border=\"1\" class=\"dataframe\">\n",
              "  <thead>\n",
              "    <tr style=\"text-align: right;\">\n",
              "      <th></th>\n",
              "      <th>order_id</th>\n",
              "      <th>quantity</th>\n",
              "      <th>item_name</th>\n",
              "      <th>choice_description</th>\n",
              "      <th>item_price</th>\n",
              "    </tr>\n",
              "  </thead>\n",
              "  <tbody>\n",
              "    <tr>\n",
              "      <th>0</th>\n",
              "      <td>1</td>\n",
              "      <td>1</td>\n",
              "      <td>Chips and Fresh Tomato Salsa</td>\n",
              "      <td>NaN</td>\n",
              "      <td>$2.39</td>\n",
              "    </tr>\n",
              "    <tr>\n",
              "      <th>1</th>\n",
              "      <td>1</td>\n",
              "      <td>1</td>\n",
              "      <td>Izze</td>\n",
              "      <td>[Clementine]</td>\n",
              "      <td>$3.39</td>\n",
              "    </tr>\n",
              "    <tr>\n",
              "      <th>2</th>\n",
              "      <td>1</td>\n",
              "      <td>1</td>\n",
              "      <td>Nantucket Nectar</td>\n",
              "      <td>[Apple]</td>\n",
              "      <td>$3.39</td>\n",
              "    </tr>\n",
              "    <tr>\n",
              "      <th>3</th>\n",
              "      <td>1</td>\n",
              "      <td>1</td>\n",
              "      <td>Chips and Tomatillo-Green Chili Salsa</td>\n",
              "      <td>NaN</td>\n",
              "      <td>$2.39</td>\n",
              "    </tr>\n",
              "    <tr>\n",
              "      <th>4</th>\n",
              "      <td>2</td>\n",
              "      <td>2</td>\n",
              "      <td>Chicken Bowl</td>\n",
              "      <td>[Tomatillo-Red Chili Salsa (Hot), [Black Beans...</td>\n",
              "      <td>$16.98</td>\n",
              "    </tr>\n",
              "  </tbody>\n",
              "</table>\n",
              "</div>"
            ],
            "text/plain": [
              "   order_id  ...  item_price\n",
              "0         1  ...      $2.39 \n",
              "1         1  ...      $3.39 \n",
              "2         1  ...      $3.39 \n",
              "3         1  ...      $2.39 \n",
              "4         2  ...     $16.98 \n",
              "\n",
              "[5 rows x 5 columns]"
            ]
          },
          "metadata": {},
          "execution_count": 60
        }
      ]
    },
    {
      "cell_type": "markdown",
      "metadata": {
        "id": "rxjrU0aJx6Ex"
      },
      "source": [
        "### Step 4. How many products cost more than $10.00?"
      ]
    },
    {
      "cell_type": "code",
      "metadata": {
        "id": "O451H5Ei0w8y",
        "outputId": "0dcb81a5-0e3c-48b2-9a72-ae572fb3070d",
        "colab": {
          "base_uri": "https://localhost:8080/"
        }
      },
      "source": [
        "#Loop\n",
        "# \"$2.39 \"\n",
        "# \"2.39\"\n",
        "#float เลขทศนิยม\n",
        "value = chipo.item_price[0]\n",
        "print(type(value))\n",
        "#print(value)\n",
        "print(type(float(value[1:-1])))\n",
        "x = \"bangkok\"\n",
        "print(x[2:5])\n"
      ],
      "execution_count": null,
      "outputs": [
        {
          "output_type": "stream",
          "name": "stdout",
          "text": [
            "<class 'str'>\n",
            "<class 'float'>\n",
            "ngk\n"
          ]
        }
      ]
    },
    {
      "cell_type": "code",
      "metadata": {
        "id": "o3AijgUNx6Ey",
        "outputId": "049fb5ad-68d7-47fd-bd93-1f62675aa62a",
        "colab": {
          "base_uri": "https://localhost:8080/"
        }
      },
      "source": [
        "# clean the item_price column and transform it in a float\n",
        "prices = [float(value[1 : -1]) for value in chipo.item_price]\n",
        "\n",
        "# reassign the column with the cleaned prices\n",
        "chipo.item_price = prices\n",
        "\n",
        "chipo.query(\"item_price > 10 & quantity > 2\").item_name.nunique()"
      ],
      "execution_count": null,
      "outputs": [
        {
          "output_type": "execute_result",
          "data": {
            "text/plain": [
              "11"
            ]
          },
          "metadata": {},
          "execution_count": 61
        }
      ]
    },
    {
      "cell_type": "markdown",
      "metadata": {
        "id": "FLTNV2rJx6E0"
      },
      "source": [
        "### Step 5. What is the price of each item? \n",
        "###### print a data frame with only two columns item_name and item_price"
      ]
    },
    {
      "cell_type": "code",
      "metadata": {
        "id": "HOq9YCLwx6E0",
        "outputId": "b843c180-2551-4978-cf65-0ec5f9cb4a0e",
        "colab": {
          "base_uri": "https://localhost:8080/",
          "height": 675
        }
      },
      "source": [
        "# delete the duplicates in item_name and quantity\n",
        "chipo_filtered = chipo.drop_duplicates(['item_name','quantity'])\n",
        "# chipo[(chipo['item_name'] == 'Izze') & (chipo['quantity'] == 2)]\n",
        "#chipo[(chipo.item_name == 'Izze') & (chipo.quantity == 2)]\n",
        "\n",
        "# select only the products with quantity equals to 1\n",
        "chipo_one_prod = chipo_filtered[chipo_filtered.quantity == 1]\n",
        "chipo_one_prod\n",
        "\n",
        "# select only the item_name and item_price columns\n",
        "price_per_item = chipo_one_prod[['item_name', 'item_price']]\n",
        "price_per_item\n",
        "\n",
        "# sort the values from the most to less expensive\n",
        "price_per_item.sort_values(by = \"item_price\", ascending = False).head(20)"
      ],
      "execution_count": null,
      "outputs": [
        {
          "output_type": "execute_result",
          "data": {
            "text/html": [
              "<div>\n",
              "<style scoped>\n",
              "    .dataframe tbody tr th:only-of-type {\n",
              "        vertical-align: middle;\n",
              "    }\n",
              "\n",
              "    .dataframe tbody tr th {\n",
              "        vertical-align: top;\n",
              "    }\n",
              "\n",
              "    .dataframe thead th {\n",
              "        text-align: right;\n",
              "    }\n",
              "</style>\n",
              "<table border=\"1\" class=\"dataframe\">\n",
              "  <thead>\n",
              "    <tr style=\"text-align: right;\">\n",
              "      <th></th>\n",
              "      <th>item_name</th>\n",
              "      <th>item_price</th>\n",
              "    </tr>\n",
              "  </thead>\n",
              "  <tbody>\n",
              "    <tr>\n",
              "      <th>606</th>\n",
              "      <td>Steak Salad Bowl</td>\n",
              "      <td>11.89</td>\n",
              "    </tr>\n",
              "    <tr>\n",
              "      <th>1229</th>\n",
              "      <td>Barbacoa Salad Bowl</td>\n",
              "      <td>11.89</td>\n",
              "    </tr>\n",
              "    <tr>\n",
              "      <th>1132</th>\n",
              "      <td>Carnitas Salad Bowl</td>\n",
              "      <td>11.89</td>\n",
              "    </tr>\n",
              "    <tr>\n",
              "      <th>7</th>\n",
              "      <td>Steak Burrito</td>\n",
              "      <td>11.75</td>\n",
              "    </tr>\n",
              "    <tr>\n",
              "      <th>168</th>\n",
              "      <td>Barbacoa Crispy Tacos</td>\n",
              "      <td>11.75</td>\n",
              "    </tr>\n",
              "    <tr>\n",
              "      <th>39</th>\n",
              "      <td>Barbacoa Bowl</td>\n",
              "      <td>11.75</td>\n",
              "    </tr>\n",
              "    <tr>\n",
              "      <th>738</th>\n",
              "      <td>Veggie Soft Tacos</td>\n",
              "      <td>11.25</td>\n",
              "    </tr>\n",
              "    <tr>\n",
              "      <th>186</th>\n",
              "      <td>Veggie Salad Bowl</td>\n",
              "      <td>11.25</td>\n",
              "    </tr>\n",
              "    <tr>\n",
              "      <th>62</th>\n",
              "      <td>Veggie Bowl</td>\n",
              "      <td>11.25</td>\n",
              "    </tr>\n",
              "    <tr>\n",
              "      <th>57</th>\n",
              "      <td>Veggie Burrito</td>\n",
              "      <td>11.25</td>\n",
              "    </tr>\n",
              "    <tr>\n",
              "      <th>250</th>\n",
              "      <td>Chicken Salad</td>\n",
              "      <td>10.98</td>\n",
              "    </tr>\n",
              "    <tr>\n",
              "      <th>5</th>\n",
              "      <td>Chicken Bowl</td>\n",
              "      <td>10.98</td>\n",
              "    </tr>\n",
              "    <tr>\n",
              "      <th>8</th>\n",
              "      <td>Steak Soft Tacos</td>\n",
              "      <td>9.25</td>\n",
              "    </tr>\n",
              "    <tr>\n",
              "      <th>554</th>\n",
              "      <td>Carnitas Crispy Tacos</td>\n",
              "      <td>9.25</td>\n",
              "    </tr>\n",
              "    <tr>\n",
              "      <th>237</th>\n",
              "      <td>Carnitas Soft Tacos</td>\n",
              "      <td>9.25</td>\n",
              "    </tr>\n",
              "    <tr>\n",
              "      <th>56</th>\n",
              "      <td>Barbacoa Soft Tacos</td>\n",
              "      <td>9.25</td>\n",
              "    </tr>\n",
              "    <tr>\n",
              "      <th>92</th>\n",
              "      <td>Steak Crispy Tacos</td>\n",
              "      <td>9.25</td>\n",
              "    </tr>\n",
              "    <tr>\n",
              "      <th>664</th>\n",
              "      <td>Steak Salad</td>\n",
              "      <td>8.99</td>\n",
              "    </tr>\n",
              "    <tr>\n",
              "      <th>54</th>\n",
              "      <td>Steak Bowl</td>\n",
              "      <td>8.99</td>\n",
              "    </tr>\n",
              "    <tr>\n",
              "      <th>3750</th>\n",
              "      <td>Carnitas Salad</td>\n",
              "      <td>8.99</td>\n",
              "    </tr>\n",
              "  </tbody>\n",
              "</table>\n",
              "</div>"
            ],
            "text/plain": [
              "                  item_name  item_price\n",
              "606        Steak Salad Bowl       11.89\n",
              "1229    Barbacoa Salad Bowl       11.89\n",
              "1132    Carnitas Salad Bowl       11.89\n",
              "7             Steak Burrito       11.75\n",
              "168   Barbacoa Crispy Tacos       11.75\n",
              "39            Barbacoa Bowl       11.75\n",
              "738       Veggie Soft Tacos       11.25\n",
              "186       Veggie Salad Bowl       11.25\n",
              "62              Veggie Bowl       11.25\n",
              "57           Veggie Burrito       11.25\n",
              "250           Chicken Salad       10.98\n",
              "5              Chicken Bowl       10.98\n",
              "8          Steak Soft Tacos        9.25\n",
              "554   Carnitas Crispy Tacos        9.25\n",
              "237     Carnitas Soft Tacos        9.25\n",
              "56      Barbacoa Soft Tacos        9.25\n",
              "92       Steak Crispy Tacos        9.25\n",
              "664             Steak Salad        8.99\n",
              "54               Steak Bowl        8.99\n",
              "3750         Carnitas Salad        8.99"
            ]
          },
          "metadata": {},
          "execution_count": 49
        }
      ]
    },
    {
      "cell_type": "markdown",
      "metadata": {
        "id": "vpL5h0MEx6E1"
      },
      "source": [
        "### Step 6. Sort by the name of the item"
      ]
    },
    {
      "cell_type": "code",
      "metadata": {
        "id": "nRSPjQWVx6E2",
        "outputId": "82e8156f-0151-43a3-f126-25f87ca8f236",
        "colab": {
          "base_uri": "https://localhost:8080/",
          "height": 422
        }
      },
      "source": [
        "chipo.item_name.sort_values()\n",
        "\n",
        "# OR\n",
        "\n",
        "chipo.sort_values(by = \"item_name\")"
      ],
      "execution_count": null,
      "outputs": [
        {
          "output_type": "execute_result",
          "data": {
            "text/html": [
              "<div>\n",
              "<style scoped>\n",
              "    .dataframe tbody tr th:only-of-type {\n",
              "        vertical-align: middle;\n",
              "    }\n",
              "\n",
              "    .dataframe tbody tr th {\n",
              "        vertical-align: top;\n",
              "    }\n",
              "\n",
              "    .dataframe thead th {\n",
              "        text-align: right;\n",
              "    }\n",
              "</style>\n",
              "<table border=\"1\" class=\"dataframe\">\n",
              "  <thead>\n",
              "    <tr style=\"text-align: right;\">\n",
              "      <th></th>\n",
              "      <th>order_id</th>\n",
              "      <th>quantity</th>\n",
              "      <th>item_name</th>\n",
              "      <th>choice_description</th>\n",
              "      <th>item_price</th>\n",
              "    </tr>\n",
              "  </thead>\n",
              "  <tbody>\n",
              "    <tr>\n",
              "      <th>3389</th>\n",
              "      <td>1360</td>\n",
              "      <td>2</td>\n",
              "      <td>6 Pack Soft Drink</td>\n",
              "      <td>[Diet Coke]</td>\n",
              "      <td>12.98</td>\n",
              "    </tr>\n",
              "    <tr>\n",
              "      <th>341</th>\n",
              "      <td>148</td>\n",
              "      <td>1</td>\n",
              "      <td>6 Pack Soft Drink</td>\n",
              "      <td>[Diet Coke]</td>\n",
              "      <td>6.49</td>\n",
              "    </tr>\n",
              "    <tr>\n",
              "      <th>1849</th>\n",
              "      <td>749</td>\n",
              "      <td>1</td>\n",
              "      <td>6 Pack Soft Drink</td>\n",
              "      <td>[Coke]</td>\n",
              "      <td>6.49</td>\n",
              "    </tr>\n",
              "    <tr>\n",
              "      <th>1860</th>\n",
              "      <td>754</td>\n",
              "      <td>1</td>\n",
              "      <td>6 Pack Soft Drink</td>\n",
              "      <td>[Diet Coke]</td>\n",
              "      <td>6.49</td>\n",
              "    </tr>\n",
              "    <tr>\n",
              "      <th>2713</th>\n",
              "      <td>1076</td>\n",
              "      <td>1</td>\n",
              "      <td>6 Pack Soft Drink</td>\n",
              "      <td>[Coke]</td>\n",
              "      <td>6.49</td>\n",
              "    </tr>\n",
              "    <tr>\n",
              "      <th>...</th>\n",
              "      <td>...</td>\n",
              "      <td>...</td>\n",
              "      <td>...</td>\n",
              "      <td>...</td>\n",
              "      <td>...</td>\n",
              "    </tr>\n",
              "    <tr>\n",
              "      <th>2384</th>\n",
              "      <td>948</td>\n",
              "      <td>1</td>\n",
              "      <td>Veggie Soft Tacos</td>\n",
              "      <td>[Roasted Chili Corn Salsa, [Fajita Vegetables,...</td>\n",
              "      <td>8.75</td>\n",
              "    </tr>\n",
              "    <tr>\n",
              "      <th>781</th>\n",
              "      <td>322</td>\n",
              "      <td>1</td>\n",
              "      <td>Veggie Soft Tacos</td>\n",
              "      <td>[Fresh Tomato Salsa, [Black Beans, Cheese, Sou...</td>\n",
              "      <td>8.75</td>\n",
              "    </tr>\n",
              "    <tr>\n",
              "      <th>2851</th>\n",
              "      <td>1132</td>\n",
              "      <td>1</td>\n",
              "      <td>Veggie Soft Tacos</td>\n",
              "      <td>[Roasted Chili Corn Salsa (Medium), [Black Bea...</td>\n",
              "      <td>8.49</td>\n",
              "    </tr>\n",
              "    <tr>\n",
              "      <th>1699</th>\n",
              "      <td>688</td>\n",
              "      <td>1</td>\n",
              "      <td>Veggie Soft Tacos</td>\n",
              "      <td>[Fresh Tomato Salsa, [Fajita Vegetables, Rice,...</td>\n",
              "      <td>11.25</td>\n",
              "    </tr>\n",
              "    <tr>\n",
              "      <th>1395</th>\n",
              "      <td>567</td>\n",
              "      <td>1</td>\n",
              "      <td>Veggie Soft Tacos</td>\n",
              "      <td>[Fresh Tomato Salsa (Mild), [Pinto Beans, Rice...</td>\n",
              "      <td>8.49</td>\n",
              "    </tr>\n",
              "  </tbody>\n",
              "</table>\n",
              "<p>4622 rows × 5 columns</p>\n",
              "</div>"
            ],
            "text/plain": [
              "      order_id  ...  item_price\n",
              "3389      1360  ...       12.98\n",
              "341        148  ...        6.49\n",
              "1849       749  ...        6.49\n",
              "1860       754  ...        6.49\n",
              "2713      1076  ...        6.49\n",
              "...        ...  ...         ...\n",
              "2384       948  ...        8.75\n",
              "781        322  ...        8.75\n",
              "2851      1132  ...        8.49\n",
              "1699       688  ...       11.25\n",
              "1395       567  ...        8.49\n",
              "\n",
              "[4622 rows x 5 columns]"
            ]
          },
          "metadata": {},
          "execution_count": 50
        }
      ]
    },
    {
      "cell_type": "markdown",
      "metadata": {
        "id": "kXrh0AR5x6E3"
      },
      "source": [
        "### Step 7. What was the quantity of the most expensive item ordered?"
      ]
    },
    {
      "cell_type": "code",
      "metadata": {
        "id": "lqQRblRhx6E3",
        "outputId": "3b29c58e-391d-4e7d-f69a-a9ec4d829df0",
        "colab": {
          "base_uri": "https://localhost:8080/",
          "height": 80
        }
      },
      "source": [
        "chipo.sort_values(by = \"item_price\", ascending = False).head(1)"
      ],
      "execution_count": null,
      "outputs": [
        {
          "output_type": "execute_result",
          "data": {
            "text/html": [
              "<div>\n",
              "<style scoped>\n",
              "    .dataframe tbody tr th:only-of-type {\n",
              "        vertical-align: middle;\n",
              "    }\n",
              "\n",
              "    .dataframe tbody tr th {\n",
              "        vertical-align: top;\n",
              "    }\n",
              "\n",
              "    .dataframe thead th {\n",
              "        text-align: right;\n",
              "    }\n",
              "</style>\n",
              "<table border=\"1\" class=\"dataframe\">\n",
              "  <thead>\n",
              "    <tr style=\"text-align: right;\">\n",
              "      <th></th>\n",
              "      <th>order_id</th>\n",
              "      <th>quantity</th>\n",
              "      <th>item_name</th>\n",
              "      <th>choice_description</th>\n",
              "      <th>item_price</th>\n",
              "    </tr>\n",
              "  </thead>\n",
              "  <tbody>\n",
              "    <tr>\n",
              "      <th>3598</th>\n",
              "      <td>1443</td>\n",
              "      <td>15</td>\n",
              "      <td>Chips and Fresh Tomato Salsa</td>\n",
              "      <td>NaN</td>\n",
              "      <td>44.25</td>\n",
              "    </tr>\n",
              "  </tbody>\n",
              "</table>\n",
              "</div>"
            ],
            "text/plain": [
              "      order_id  quantity  ... choice_description item_price\n",
              "3598      1443        15  ...                NaN      44.25\n",
              "\n",
              "[1 rows x 5 columns]"
            ]
          },
          "metadata": {},
          "execution_count": 51
        }
      ]
    },
    {
      "cell_type": "markdown",
      "metadata": {
        "id": "Cgckz3Obx6E3"
      },
      "source": [
        "### Step 8. How many times was a Veggie Salad Bowl ordered?"
      ]
    },
    {
      "cell_type": "code",
      "metadata": {
        "id": "OyOsP-fnx6E4",
        "outputId": "d6930309-ebab-4539-c34f-43bef5e1f56d",
        "colab": {
          "base_uri": "https://localhost:8080/"
        }
      },
      "source": [
        "chipo_salad = chipo[chipo.item_name == \"Veggie Salad Bowl\"]\n",
        "chipo_salad\n",
        "\n",
        "len(chipo_salad)"
      ],
      "execution_count": null,
      "outputs": [
        {
          "output_type": "execute_result",
          "data": {
            "text/plain": [
              "18"
            ]
          },
          "metadata": {},
          "execution_count": 56
        }
      ]
    },
    {
      "cell_type": "markdown",
      "metadata": {
        "id": "cUkubLiKx6E4"
      },
      "source": [
        "### Step 9. How many times did someone order more than one Canned Soda?"
      ]
    },
    {
      "cell_type": "code",
      "metadata": {
        "id": "dSXFs_Grx6E4",
        "outputId": "db58bba5-41f1-4768-f941-613c6f6c6325",
        "colab": {
          "base_uri": "https://localhost:8080/",
          "height": 675
        }
      },
      "source": [
        "chipo_drink_steak_bowl = chipo[(chipo.item_name == \"Canned Soda\") & (chipo.quantity > 1)]\n",
        "chipo_drink_steak_bowl\n",
        "#len(chipo_drink_steak_bowl)"
      ],
      "execution_count": null,
      "outputs": [
        {
          "output_type": "execute_result",
          "data": {
            "text/html": [
              "<div>\n",
              "<style scoped>\n",
              "    .dataframe tbody tr th:only-of-type {\n",
              "        vertical-align: middle;\n",
              "    }\n",
              "\n",
              "    .dataframe tbody tr th {\n",
              "        vertical-align: top;\n",
              "    }\n",
              "\n",
              "    .dataframe thead th {\n",
              "        text-align: right;\n",
              "    }\n",
              "</style>\n",
              "<table border=\"1\" class=\"dataframe\">\n",
              "  <thead>\n",
              "    <tr style=\"text-align: right;\">\n",
              "      <th></th>\n",
              "      <th>order_id</th>\n",
              "      <th>quantity</th>\n",
              "      <th>item_name</th>\n",
              "      <th>choice_description</th>\n",
              "      <th>item_price</th>\n",
              "    </tr>\n",
              "  </thead>\n",
              "  <tbody>\n",
              "    <tr>\n",
              "      <th>18</th>\n",
              "      <td>9</td>\n",
              "      <td>2</td>\n",
              "      <td>Canned Soda</td>\n",
              "      <td>[Sprite]</td>\n",
              "      <td>2.18</td>\n",
              "    </tr>\n",
              "    <tr>\n",
              "      <th>51</th>\n",
              "      <td>23</td>\n",
              "      <td>2</td>\n",
              "      <td>Canned Soda</td>\n",
              "      <td>[Mountain Dew]</td>\n",
              "      <td>2.18</td>\n",
              "    </tr>\n",
              "    <tr>\n",
              "      <th>162</th>\n",
              "      <td>73</td>\n",
              "      <td>2</td>\n",
              "      <td>Canned Soda</td>\n",
              "      <td>[Diet Coke]</td>\n",
              "      <td>2.18</td>\n",
              "    </tr>\n",
              "    <tr>\n",
              "      <th>171</th>\n",
              "      <td>76</td>\n",
              "      <td>2</td>\n",
              "      <td>Canned Soda</td>\n",
              "      <td>[Diet Dr. Pepper]</td>\n",
              "      <td>2.18</td>\n",
              "    </tr>\n",
              "    <tr>\n",
              "      <th>350</th>\n",
              "      <td>150</td>\n",
              "      <td>2</td>\n",
              "      <td>Canned Soda</td>\n",
              "      <td>[Diet Coke]</td>\n",
              "      <td>2.18</td>\n",
              "    </tr>\n",
              "    <tr>\n",
              "      <th>352</th>\n",
              "      <td>151</td>\n",
              "      <td>2</td>\n",
              "      <td>Canned Soda</td>\n",
              "      <td>[Coca Cola]</td>\n",
              "      <td>2.18</td>\n",
              "    </tr>\n",
              "    <tr>\n",
              "      <th>698</th>\n",
              "      <td>287</td>\n",
              "      <td>2</td>\n",
              "      <td>Canned Soda</td>\n",
              "      <td>[Coca Cola]</td>\n",
              "      <td>2.18</td>\n",
              "    </tr>\n",
              "    <tr>\n",
              "      <th>700</th>\n",
              "      <td>288</td>\n",
              "      <td>2</td>\n",
              "      <td>Canned Soda</td>\n",
              "      <td>[Coca Cola]</td>\n",
              "      <td>2.18</td>\n",
              "    </tr>\n",
              "    <tr>\n",
              "      <th>909</th>\n",
              "      <td>376</td>\n",
              "      <td>2</td>\n",
              "      <td>Canned Soda</td>\n",
              "      <td>[Mountain Dew]</td>\n",
              "      <td>2.18</td>\n",
              "    </tr>\n",
              "    <tr>\n",
              "      <th>1091</th>\n",
              "      <td>450</td>\n",
              "      <td>2</td>\n",
              "      <td>Canned Soda</td>\n",
              "      <td>[Dr. Pepper]</td>\n",
              "      <td>2.18</td>\n",
              "    </tr>\n",
              "    <tr>\n",
              "      <th>1092</th>\n",
              "      <td>450</td>\n",
              "      <td>2</td>\n",
              "      <td>Canned Soda</td>\n",
              "      <td>[Coca Cola]</td>\n",
              "      <td>2.18</td>\n",
              "    </tr>\n",
              "    <tr>\n",
              "      <th>1944</th>\n",
              "      <td>787</td>\n",
              "      <td>2</td>\n",
              "      <td>Canned Soda</td>\n",
              "      <td>[Dr. Pepper]</td>\n",
              "      <td>2.18</td>\n",
              "    </tr>\n",
              "    <tr>\n",
              "      <th>2135</th>\n",
              "      <td>859</td>\n",
              "      <td>2</td>\n",
              "      <td>Canned Soda</td>\n",
              "      <td>[Diet Coke]</td>\n",
              "      <td>2.18</td>\n",
              "    </tr>\n",
              "    <tr>\n",
              "      <th>2235</th>\n",
              "      <td>901</td>\n",
              "      <td>4</td>\n",
              "      <td>Canned Soda</td>\n",
              "      <td>[Sprite]</td>\n",
              "      <td>4.36</td>\n",
              "    </tr>\n",
              "    <tr>\n",
              "      <th>2905</th>\n",
              "      <td>1156</td>\n",
              "      <td>2</td>\n",
              "      <td>Canned Soda</td>\n",
              "      <td>[Coca Cola]</td>\n",
              "      <td>2.18</td>\n",
              "    </tr>\n",
              "    <tr>\n",
              "      <th>2906</th>\n",
              "      <td>1156</td>\n",
              "      <td>2</td>\n",
              "      <td>Canned Soda</td>\n",
              "      <td>[Sprite]</td>\n",
              "      <td>2.18</td>\n",
              "    </tr>\n",
              "    <tr>\n",
              "      <th>3152</th>\n",
              "      <td>1258</td>\n",
              "      <td>2</td>\n",
              "      <td>Canned Soda</td>\n",
              "      <td>[Dr. Pepper]</td>\n",
              "      <td>2.18</td>\n",
              "    </tr>\n",
              "    <tr>\n",
              "      <th>3364</th>\n",
              "      <td>1349</td>\n",
              "      <td>2</td>\n",
              "      <td>Canned Soda</td>\n",
              "      <td>[Coca Cola]</td>\n",
              "      <td>2.18</td>\n",
              "    </tr>\n",
              "    <tr>\n",
              "      <th>3592</th>\n",
              "      <td>1440</td>\n",
              "      <td>2</td>\n",
              "      <td>Canned Soda</td>\n",
              "      <td>[Diet Coke]</td>\n",
              "      <td>2.18</td>\n",
              "    </tr>\n",
              "    <tr>\n",
              "      <th>3866</th>\n",
              "      <td>1550</td>\n",
              "      <td>2</td>\n",
              "      <td>Canned Soda</td>\n",
              "      <td>[Mountain Dew]</td>\n",
              "      <td>2.18</td>\n",
              "    </tr>\n",
              "  </tbody>\n",
              "</table>\n",
              "</div>"
            ],
            "text/plain": [
              "      order_id  quantity    item_name choice_description  item_price\n",
              "18           9         2  Canned Soda           [Sprite]        2.18\n",
              "51          23         2  Canned Soda     [Mountain Dew]        2.18\n",
              "162         73         2  Canned Soda        [Diet Coke]        2.18\n",
              "171         76         2  Canned Soda  [Diet Dr. Pepper]        2.18\n",
              "350        150         2  Canned Soda        [Diet Coke]        2.18\n",
              "352        151         2  Canned Soda        [Coca Cola]        2.18\n",
              "698        287         2  Canned Soda        [Coca Cola]        2.18\n",
              "700        288         2  Canned Soda        [Coca Cola]        2.18\n",
              "909        376         2  Canned Soda     [Mountain Dew]        2.18\n",
              "1091       450         2  Canned Soda       [Dr. Pepper]        2.18\n",
              "1092       450         2  Canned Soda        [Coca Cola]        2.18\n",
              "1944       787         2  Canned Soda       [Dr. Pepper]        2.18\n",
              "2135       859         2  Canned Soda        [Diet Coke]        2.18\n",
              "2235       901         4  Canned Soda           [Sprite]        4.36\n",
              "2905      1156         2  Canned Soda        [Coca Cola]        2.18\n",
              "2906      1156         2  Canned Soda           [Sprite]        2.18\n",
              "3152      1258         2  Canned Soda       [Dr. Pepper]        2.18\n",
              "3364      1349         2  Canned Soda        [Coca Cola]        2.18\n",
              "3592      1440         2  Canned Soda        [Diet Coke]        2.18\n",
              "3866      1550         2  Canned Soda     [Mountain Dew]        2.18"
            ]
          },
          "metadata": {},
          "execution_count": 58
        }
      ]
    }
  ]
}