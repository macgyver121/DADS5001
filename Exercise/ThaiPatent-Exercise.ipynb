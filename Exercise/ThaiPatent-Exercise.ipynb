{
  "nbformat": 4,
  "nbformat_minor": 0,
  "metadata": {
    "colab": {
      "name": "ThaiPatent.ipynb",
      "provenance": [],
      "include_colab_link": true
    },
    "kernelspec": {
      "name": "python3",
      "display_name": "Python 3"
    },
    "language_info": {
      "name": "python"
    }
  },
  "cells": [
    {
      "cell_type": "markdown",
      "metadata": {
        "id": "view-in-github",
        "colab_type": "text"
      },
      "source": [
        "<a href=\"https://colab.research.google.com/github/macgyver121/DADS5001/blob/main/Exercise/ThaiPatent-Exercise.ipynb\" target=\"_parent\"><img src=\"https://colab.research.google.com/assets/colab-badge.svg\" alt=\"Open In Colab\"/></a>"
      ]
    },
    {
      "cell_type": "markdown",
      "metadata": {
        "id": "0HfZ4OvXtN79"
      },
      "source": [
        "# 1. โหลดข้อมูลมาจาก https://data.go.th/dataset/data-patent⚓"
      ]
    },
    {
      "cell_type": "code",
      "metadata": {
        "id": "dEl5KyNrtt81"
      },
      "source": [
        "import pandas as pd"
      ],
      "execution_count": null,
      "outputs": []
    },
    {
      "cell_type": "code",
      "metadata": {
        "colab": {
          "base_uri": "https://localhost:8080/",
          "height": 203
        },
        "id": "rhygS0PYtJmY",
        "outputId": "4508468f-f1b6-40c5-b543-f7c8141f43cb"
      },
      "source": [
        "url = 'https://raw.githubusercontent.com/ekaratnida/DADS5001-Data-Analytics-and-Data-Science-Tools-and-Programming/main/datasets/data_patent.csv'\n",
        "patent = pd.read_csv(url, sep=',')\n",
        "patent.head()"
      ],
      "execution_count": null,
      "outputs": [
        {
          "output_type": "execute_result",
          "data": {
            "text/html": [
              "<div>\n",
              "<style scoped>\n",
              "    .dataframe tbody tr th:only-of-type {\n",
              "        vertical-align: middle;\n",
              "    }\n",
              "\n",
              "    .dataframe tbody tr th {\n",
              "        vertical-align: top;\n",
              "    }\n",
              "\n",
              "    .dataframe thead th {\n",
              "        text-align: right;\n",
              "    }\n",
              "</style>\n",
              "<table border=\"1\" class=\"dataframe\">\n",
              "  <thead>\n",
              "    <tr style=\"text-align: right;\">\n",
              "      <th></th>\n",
              "      <th>Patent_ Owner</th>\n",
              "      <th>Type_Patent</th>\n",
              "      <th>Category</th>\n",
              "      <th>Year</th>\n",
              "      <th>Total</th>\n",
              "    </tr>\n",
              "  </thead>\n",
              "  <tbody>\n",
              "    <tr>\n",
              "      <th>0</th>\n",
              "      <td>ไทย</td>\n",
              "      <td>สิทธิบัตรการประดิษฐ์</td>\n",
              "      <td>ยื่นขอ</td>\n",
              "      <td>2557</td>\n",
              "      <td>983</td>\n",
              "    </tr>\n",
              "    <tr>\n",
              "      <th>1</th>\n",
              "      <td>ต่างชาติ</td>\n",
              "      <td>สิทธิบัตรการประดิษฐ์</td>\n",
              "      <td>ยื่นขอ</td>\n",
              "      <td>2557</td>\n",
              "      <td>6,947</td>\n",
              "    </tr>\n",
              "    <tr>\n",
              "      <th>2</th>\n",
              "      <td>ไทย</td>\n",
              "      <td>สิทธิบัตรการประดิษฐ์</td>\n",
              "      <td>ยื่นขอ</td>\n",
              "      <td>2558</td>\n",
              "      <td>1,029</td>\n",
              "    </tr>\n",
              "    <tr>\n",
              "      <th>3</th>\n",
              "      <td>ต่างชาติ</td>\n",
              "      <td>สิทธิบัตรการประดิษฐ์</td>\n",
              "      <td>ยื่นขอ</td>\n",
              "      <td>2558</td>\n",
              "      <td>7,138</td>\n",
              "    </tr>\n",
              "    <tr>\n",
              "      <th>4</th>\n",
              "      <td>ไทย</td>\n",
              "      <td>สิทธิบัตรการประดิษฐ์</td>\n",
              "      <td>ยื่นขอ</td>\n",
              "      <td>2559</td>\n",
              "      <td>1,098</td>\n",
              "    </tr>\n",
              "  </tbody>\n",
              "</table>\n",
              "</div>"
            ],
            "text/plain": [
              "   Patent_ Owner              Type_Patent Category  Year   Total \n",
              "0            ไทย  สิทธิบัตรการประดิษฐ์      ยื่นขอ  2557     983 \n",
              "1       ต่างชาติ  สิทธิบัตรการประดิษฐ์      ยื่นขอ  2557   6,947 \n",
              "2            ไทย  สิทธิบัตรการประดิษฐ์      ยื่นขอ  2558   1,029 \n",
              "3       ต่างชาติ  สิทธิบัตรการประดิษฐ์      ยื่นขอ  2558   7,138 \n",
              "4            ไทย  สิทธิบัตรการประดิษฐ์      ยื่นขอ  2559   1,098 "
            ]
          },
          "metadata": {},
          "execution_count": 19
        }
      ]
    },
    {
      "cell_type": "code",
      "metadata": {
        "colab": {
          "base_uri": "https://localhost:8080/"
        },
        "id": "-8HPsMCDx8iU",
        "outputId": "59c74c9f-667f-4bef-c6bd-2d23caa7220b"
      },
      "source": [
        "patent.info()"
      ],
      "execution_count": null,
      "outputs": [
        {
          "output_type": "stream",
          "name": "stdout",
          "text": [
            "<class 'pandas.core.frame.DataFrame'>\n",
            "RangeIndex: 40 entries, 0 to 39\n",
            "Data columns (total 5 columns):\n",
            " #   Column          Non-Null Count  Dtype \n",
            "---  ------          --------------  ----- \n",
            " 0    Patent_ Owner  40 non-null     object\n",
            " 1   Type_Patent     40 non-null     object\n",
            " 2   Category        40 non-null     object\n",
            " 3   Year            40 non-null     int64 \n",
            " 4    Total          40 non-null     object\n",
            "dtypes: int64(1), object(4)\n",
            "memory usage: 1.7+ KB\n"
          ]
        }
      ]
    },
    {
      "cell_type": "markdown",
      "metadata": {
        "id": "_lufmGi9t98d"
      },
      "source": [
        "# แบบฝึกหัด\n",
        "1. นับจำนวนว่ามี ไทย owner เท่าไหร่ ต่างชาติ owner เท่าไหร่ ใน file นี้\n",
        "2. column Type_Patent มีกี่ type \n",
        "3. Column Category มีกี่ category\n",
        "4. หา Unique year, min, max\n",
        "5. หา Total patent\n",
        "\n",
        "\n"
      ]
    },
    {
      "cell_type": "code",
      "metadata": {
        "id": "5yWeWpR4vj70"
      },
      "source": [
        "x = patent[patent[\" Patent_ Owner\"] == \"ไทย\"][\" Total \"]\n",
        "x"
      ],
      "execution_count": null,
      "outputs": []
    },
    {
      "cell_type": "code",
      "metadata": {
        "id": "tWCgWA043BkS"
      },
      "source": [
        ""
      ],
      "execution_count": null,
      "outputs": []
    },
    {
      "cell_type": "code",
      "metadata": {
        "colab": {
          "base_uri": "https://localhost:8080/"
        },
        "id": "0hQUb9qszoCs",
        "outputId": "6bc548b0-19cc-49bf-e810-ec9556df32c4"
      },
      "source": [
        "totalThai = [int(value.replace(',','')) for value in x]\n",
        "print(\"Thai own\", sum(totalThai))"
      ],
      "execution_count": null,
      "outputs": [
        {
          "output_type": "stream",
          "name": "stdout",
          "text": [
            "Thai own 32621\n"
          ]
        }
      ]
    },
    {
      "cell_type": "markdown",
      "metadata": {
        "id": "YJT9kVzl012C"
      },
      "source": [
        "Answer 2"
      ]
    },
    {
      "cell_type": "code",
      "metadata": {
        "colab": {
          "base_uri": "https://localhost:8080/"
        },
        "id": "KRVd1dIK0jlr",
        "outputId": "5b34d38e-d6df-4b87-ad36-fc4b1daaa99b"
      },
      "source": [
        "patent.Type_Patent.unique()\n",
        "#patent.Type_Patent.nunique()"
      ],
      "execution_count": null,
      "outputs": [
        {
          "output_type": "execute_result",
          "data": {
            "text/plain": [
              "array(['สิทธิบัตรการประดิษฐ์   ', 'สิทธิบัตรการออกแบบผลิตภัณฑ์'],\n",
              "      dtype=object)"
            ]
          },
          "metadata": {},
          "execution_count": 51
        }
      ]
    },
    {
      "cell_type": "markdown",
      "metadata": {
        "id": "s29Ob_Ug07bq"
      },
      "source": [
        "Answer 3"
      ]
    },
    {
      "cell_type": "code",
      "metadata": {
        "colab": {
          "base_uri": "https://localhost:8080/"
        },
        "id": "RswCDCqo09my",
        "outputId": "ef8b1d78-ecd8-4a41-c253-d1ba8052c56b"
      },
      "source": [
        "patent.Category.unique()"
      ],
      "execution_count": null,
      "outputs": [
        {
          "output_type": "execute_result",
          "data": {
            "text/plain": [
              "array(['ยื่นขอ', 'จด'], dtype=object)"
            ]
          },
          "metadata": {},
          "execution_count": 39
        }
      ]
    },
    {
      "cell_type": "markdown",
      "metadata": {
        "id": "nCj_Da8e1aKb"
      },
      "source": [
        "Answer 4"
      ]
    },
    {
      "cell_type": "code",
      "metadata": {
        "colab": {
          "base_uri": "https://localhost:8080/"
        },
        "id": "-MtQBEE01FGK",
        "outputId": "0b6927e5-8874-46f1-f4ca-f75625d61163"
      },
      "source": [
        "print(patent.Year.unique())\n",
        "print(\"Max\", patent.Year.max())\n",
        "print(\"Min\", patent.Year.min())"
      ],
      "execution_count": null,
      "outputs": [
        {
          "output_type": "stream",
          "name": "stdout",
          "text": [
            "[2557 2558 2559 2560 2561]\n",
            "Max 2561\n",
            "Min 2557\n"
          ]
        }
      ]
    },
    {
      "cell_type": "markdown",
      "metadata": {
        "id": "2lycSZy51ohy"
      },
      "source": [
        "Answer 5"
      ]
    },
    {
      "cell_type": "code",
      "metadata": {
        "colab": {
          "base_uri": "https://localhost:8080/"
        },
        "id": "DFb7PPQo1qpK",
        "outputId": "fd3c53b2-2c0f-4f9d-e37e-ce3bb55830ad"
      },
      "source": [
        "y = patent[\" Total \"]\n",
        "total = [int(value.replace(',','')) for value in y]\n",
        "sum(total)"
      ],
      "execution_count": null,
      "outputs": [
        {
          "output_type": "execute_result",
          "data": {
            "text/plain": [
              "92491"
            ]
          },
          "metadata": {},
          "execution_count": 46
        }
      ]
    }
  ]
}