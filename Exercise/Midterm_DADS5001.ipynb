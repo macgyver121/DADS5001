{
  "nbformat": 4,
  "nbformat_minor": 0,
  "metadata": {
    "colab": {
      "name": "Midterm_DADS5001.ipynb",
      "provenance": [],
      "mount_file_id": "https://github.com/macgyver121/DADS5001/blob/main/Exercise/Midterm_DADS5001.ipynb",
      "authorship_tag": "ABX9TyP4egVmAO1FuQuasyPIRBO3",
      "include_colab_link": true
    },
    "kernelspec": {
      "name": "python3",
      "display_name": "Python 3"
    },
    "language_info": {
      "name": "python"
    }
  },
  "cells": [
    {
      "cell_type": "markdown",
      "metadata": {
        "id": "view-in-github",
        "colab_type": "text"
      },
      "source": [
        "<a href=\"https://colab.research.google.com/github/macgyver121/DADS5001/blob/main/Exercise/Midterm_DADS5001.ipynb\" target=\"_parent\"><img src=\"https://colab.research.google.com/assets/colab-badge.svg\" alt=\"Open In Colab\"/></a>"
      ]
    },
    {
      "cell_type": "markdown",
      "source": [
        "# Question for Test"
      ],
      "metadata": {
        "id": "IHYcX1Dx04mX"
      }
    },
    {
      "cell_type": "markdown",
      "source": [
        "คำถาม\n",
        "- มีคนต่างชาติที่มาที่ติดโควิดที่ประเทศไทยเท่าไหร่\n",
        "- คนที่เดินทางมาจากตต่างประเทศ ประเทศไหนติดโควิดมาจากต้นทางมากที่สุด\n",
        "- ช่วงอายุไหนติดโควิดมากที่สุด\n",
        "- ผู้ชายหรือผู้หญิงติดโควิดมากกว่ากัน\n",
        "- ความเสี่ยงที่ทำให้คนติดเชื้อ 3 อันดับแรก คืออะไร\n",
        "- ถ้าเราต้องพาพนักงานในบริษัทไปสัมนาที่ต่างจังหวัด โดยพนักงานเสนอจังหวัดดังนี้ เชียงใหม่ ขอนแก่น ภูเก็ต เราจะเลือก\n",
        "จังหวัดไหนในการสัมนาโดยคำนึงถึงเรื่องโควิดเป็นสำคัญ\n"
      ],
      "metadata": {
        "id": "Uulru3yj1vF9"
      }
    },
    {
      "cell_type": "code",
      "source": [
        ""
      ],
      "metadata": {
        "id": "BjUPBUQC04V4"
      },
      "execution_count": 131,
      "outputs": []
    },
    {
      "cell_type": "markdown",
      "source": [
        "# Data preparation"
      ],
      "metadata": {
        "id": "KH6N_qKq08Ej"
      }
    },
    {
      "cell_type": "markdown",
      "source": [
        "## Import Data"
      ],
      "metadata": {
        "id": "AWNnUk6ze_TI"
      }
    },
    {
      "cell_type": "code",
      "source": [
        "from google.colab import drive\n",
        "drive.mount('/content/drive')"
      ],
      "metadata": {
        "colab": {
          "base_uri": "https://localhost:8080/"
        },
        "id": "nMhlNAmHVKGn",
        "outputId": "0c005723-4526-4496-e944-52e21294a7c0"
      },
      "execution_count": 181,
      "outputs": [
        {
          "output_type": "stream",
          "name": "stdout",
          "text": [
            "Drive already mounted at /content/drive; to attempt to forcibly remount, call drive.mount(\"/content/drive\", force_remount=True).\n"
          ]
        }
      ]
    },
    {
      "cell_type": "code",
      "source": [
        "!pwd"
      ],
      "metadata": {
        "colab": {
          "base_uri": "https://localhost:8080/"
        },
        "id": "QweTIvN2VKtU",
        "outputId": "920b86e2-9d21-4773-d8c6-71d414a17d44"
      },
      "execution_count": 183,
      "outputs": [
        {
          "output_type": "stream",
          "name": "stdout",
          "text": [
            "/content\n"
          ]
        }
      ]
    },
    {
      "cell_type": "code",
      "source": [
        "import pandas as pd\n",
        "import numpy as np"
      ],
      "metadata": {
        "id": "QDatad5QVnGW"
      },
      "execution_count": 185,
      "outputs": []
    },
    {
      "cell_type": "code",
      "source": [
        "df1 = pd.read_csv('/content/drive/MyDrive/DADS/DADS5001/confirmed-cases.csv')\n",
        "df2 = pd.read_csv('/content/drive/MyDrive/DADS/DADS5001/confirmed-cases-since-120864.csv')\n",
        "df3 = pd.read_csv('/content/drive/MyDrive/DADS/DADS5001/confirmed-cases-since-271064.csv')\n",
        "df4 = pd.read_csv('/content/drive/MyDrive/DADS/DADS5001/confirmed-cases-since-280265.csv')"
      ],
      "metadata": {
        "colab": {
          "base_uri": "https://localhost:8080/"
        },
        "id": "gt0kI9dtVqUE",
        "outputId": "4b63e1f6-66cc-46b8-f195-a56f467fbe3e"
      },
      "execution_count": 187,
      "outputs": [
        {
          "output_type": "stream",
          "name": "stderr",
          "text": [
            "/usr/local/lib/python3.7/dist-packages/IPython/core/interactiveshell.py:2882: DtypeWarning: Columns (4) have mixed types.Specify dtype option on import or set low_memory=False.\n",
            "  exec(code_obj, self.user_global_ns, self.user_ns)\n"
          ]
        }
      ]
    },
    {
      "cell_type": "markdown",
      "source": [
        "## Check info"
      ],
      "metadata": {
        "id": "RrreAvrQfDa0"
      }
    },
    {
      "cell_type": "code",
      "source": [
        "df1.info()"
      ],
      "metadata": {
        "colab": {
          "base_uri": "https://localhost:8080/"
        },
        "id": "h9CqK5AlV1eK",
        "outputId": "19d9f715-f40a-4d60-a366-395be0ae0b9d"
      },
      "execution_count": 200,
      "outputs": [
        {
          "output_type": "stream",
          "name": "stdout",
          "text": [
            "<class 'pandas.core.frame.DataFrame'>\n",
            "RangeIndex: 839771 entries, 0 to 839770\n",
            "Data columns (total 11 columns):\n",
            " #   Column                 Non-Null Count   Dtype \n",
            "---  ------                 --------------   ----- \n",
            " 0   No.                    839771 non-null  int64 \n",
            " 1   announce_date          839771 non-null  object\n",
            " 2   Notified date          836976 non-null  object\n",
            " 3   sex                    784876 non-null  object\n",
            " 4   age                    763606 non-null  object\n",
            " 5   Unit                   763746 non-null  object\n",
            " 6   nationality            755567 non-null  object\n",
            " 7   province_of_isolation  839499 non-null  object\n",
            " 8   risk                   838677 non-null  object\n",
            " 9   province_of_onset      740737 non-null  object\n",
            " 10  district_of_onset      680992 non-null  object\n",
            "dtypes: int64(1), object(10)\n",
            "memory usage: 70.5+ MB\n"
          ]
        }
      ]
    },
    {
      "cell_type": "code",
      "source": [
        "print(df1['No.'].count() + df2['No.'].count() + df3['No.'].count() + df4['No.'].count())"
      ],
      "metadata": {
        "colab": {
          "base_uri": "https://localhost:8080/"
        },
        "id": "1K08TMphW97d",
        "outputId": "5b6b506b-0462-4d77-df2c-b0445db5dd5c"
      },
      "execution_count": 202,
      "outputs": [
        {
          "output_type": "stream",
          "name": "stdout",
          "text": [
            "3111655\n"
          ]
        }
      ]
    },
    {
      "cell_type": "code",
      "source": [
        "df = df1.append((df2,df3,df4))"
      ],
      "metadata": {
        "id": "qzuU9NmxWYnO"
      },
      "execution_count": 204,
      "outputs": []
    },
    {
      "cell_type": "code",
      "source": [
        "df.info()"
      ],
      "metadata": {
        "colab": {
          "base_uri": "https://localhost:8080/"
        },
        "id": "dUDSpAxuW3HF",
        "outputId": "4e62b58c-5eb5-482c-8df9-1c559cb518dc"
      },
      "execution_count": 209,
      "outputs": [
        {
          "output_type": "stream",
          "name": "stdout",
          "text": [
            "<class 'pandas.core.frame.DataFrame'>\n",
            "Int64Index: 3111655 entries, 0 to 219256\n",
            "Data columns (total 12 columns):\n",
            " #   Column                 Dtype  \n",
            "---  ------                 -----  \n",
            " 0   No.                    int64  \n",
            " 1   announce_date          object \n",
            " 2   Notified date          object \n",
            " 3   sex                    object \n",
            " 4   age                    object \n",
            " 5   Unit                   object \n",
            " 6   nationality            object \n",
            " 7   province_of_isolation  object \n",
            " 8   risk                   object \n",
            " 9   province_of_onset      object \n",
            " 10  district_of_onset      object \n",
            " 11  Unnamed: 11            float64\n",
            "dtypes: float64(1), int64(1), object(10)\n",
            "memory usage: 308.6+ MB\n"
          ]
        }
      ]
    },
    {
      "cell_type": "code",
      "source": [
        "df.tail(5)"
      ],
      "metadata": {
        "colab": {
          "base_uri": "https://localhost:8080/",
          "height": 374
        },
        "id": "4Pwaa0_cYBNb",
        "outputId": "4ae3f682-8193-416d-a6cd-90b719be649b"
      },
      "execution_count": 210,
      "outputs": [
        {
          "output_type": "execute_result",
          "data": {
            "text/plain": [
              "            No. announce_date Notified date  sex   age Unit nationality  \\\n",
              "219252  3088869      9/3/2022      8/3/2022  ชาย   NaN  NaN    Thailand   \n",
              "219253  3088870      9/3/2022      8/3/2022  ชาย   NaN  NaN     Burmese   \n",
              "219254  3088871      9/3/2022      8/3/2022  ชาย   NaN  NaN    Thailand   \n",
              "219255  3088872      9/3/2022      8/3/2022  ชาย   NaN  NaN    Thailand   \n",
              "219256  3088873      9/3/2022      8/3/2022  ชาย  29.0   ปี     Burmese   \n",
              "\n",
              "       province_of_isolation              risk province_of_onset  \\\n",
              "219252                นครพนม  ทัณฑสถาน/เรือนจำ               NaN   \n",
              "219253             เชียงใหม่  ทัณฑสถาน/เรือนจำ               NaN   \n",
              "219254             เชียงใหม่  ทัณฑสถาน/เรือนจำ               NaN   \n",
              "219255             เชียงใหม่  ทัณฑสถาน/เรือนจำ               NaN   \n",
              "219256                   ตาก  ทัณฑสถาน/เรือนจำ               NaN   \n",
              "\n",
              "       district_of_onset  Unnamed: 11  \n",
              "219252               NaN          NaN  \n",
              "219253               NaN          NaN  \n",
              "219254               NaN          NaN  \n",
              "219255               NaN          NaN  \n",
              "219256               NaN          NaN  "
            ],
            "text/html": [
              "\n",
              "  <div id=\"df-0afc268e-6f6e-438b-914c-7d9f058feb6a\">\n",
              "    <div class=\"colab-df-container\">\n",
              "      <div>\n",
              "<style scoped>\n",
              "    .dataframe tbody tr th:only-of-type {\n",
              "        vertical-align: middle;\n",
              "    }\n",
              "\n",
              "    .dataframe tbody tr th {\n",
              "        vertical-align: top;\n",
              "    }\n",
              "\n",
              "    .dataframe thead th {\n",
              "        text-align: right;\n",
              "    }\n",
              "</style>\n",
              "<table border=\"1\" class=\"dataframe\">\n",
              "  <thead>\n",
              "    <tr style=\"text-align: right;\">\n",
              "      <th></th>\n",
              "      <th>No.</th>\n",
              "      <th>announce_date</th>\n",
              "      <th>Notified date</th>\n",
              "      <th>sex</th>\n",
              "      <th>age</th>\n",
              "      <th>Unit</th>\n",
              "      <th>nationality</th>\n",
              "      <th>province_of_isolation</th>\n",
              "      <th>risk</th>\n",
              "      <th>province_of_onset</th>\n",
              "      <th>district_of_onset</th>\n",
              "      <th>Unnamed: 11</th>\n",
              "    </tr>\n",
              "  </thead>\n",
              "  <tbody>\n",
              "    <tr>\n",
              "      <th>219252</th>\n",
              "      <td>3088869</td>\n",
              "      <td>9/3/2022</td>\n",
              "      <td>8/3/2022</td>\n",
              "      <td>ชาย</td>\n",
              "      <td>NaN</td>\n",
              "      <td>NaN</td>\n",
              "      <td>Thailand</td>\n",
              "      <td>นครพนม</td>\n",
              "      <td>ทัณฑสถาน/เรือนจำ</td>\n",
              "      <td>NaN</td>\n",
              "      <td>NaN</td>\n",
              "      <td>NaN</td>\n",
              "    </tr>\n",
              "    <tr>\n",
              "      <th>219253</th>\n",
              "      <td>3088870</td>\n",
              "      <td>9/3/2022</td>\n",
              "      <td>8/3/2022</td>\n",
              "      <td>ชาย</td>\n",
              "      <td>NaN</td>\n",
              "      <td>NaN</td>\n",
              "      <td>Burmese</td>\n",
              "      <td>เชียงใหม่</td>\n",
              "      <td>ทัณฑสถาน/เรือนจำ</td>\n",
              "      <td>NaN</td>\n",
              "      <td>NaN</td>\n",
              "      <td>NaN</td>\n",
              "    </tr>\n",
              "    <tr>\n",
              "      <th>219254</th>\n",
              "      <td>3088871</td>\n",
              "      <td>9/3/2022</td>\n",
              "      <td>8/3/2022</td>\n",
              "      <td>ชาย</td>\n",
              "      <td>NaN</td>\n",
              "      <td>NaN</td>\n",
              "      <td>Thailand</td>\n",
              "      <td>เชียงใหม่</td>\n",
              "      <td>ทัณฑสถาน/เรือนจำ</td>\n",
              "      <td>NaN</td>\n",
              "      <td>NaN</td>\n",
              "      <td>NaN</td>\n",
              "    </tr>\n",
              "    <tr>\n",
              "      <th>219255</th>\n",
              "      <td>3088872</td>\n",
              "      <td>9/3/2022</td>\n",
              "      <td>8/3/2022</td>\n",
              "      <td>ชาย</td>\n",
              "      <td>NaN</td>\n",
              "      <td>NaN</td>\n",
              "      <td>Thailand</td>\n",
              "      <td>เชียงใหม่</td>\n",
              "      <td>ทัณฑสถาน/เรือนจำ</td>\n",
              "      <td>NaN</td>\n",
              "      <td>NaN</td>\n",
              "      <td>NaN</td>\n",
              "    </tr>\n",
              "    <tr>\n",
              "      <th>219256</th>\n",
              "      <td>3088873</td>\n",
              "      <td>9/3/2022</td>\n",
              "      <td>8/3/2022</td>\n",
              "      <td>ชาย</td>\n",
              "      <td>29.0</td>\n",
              "      <td>ปี</td>\n",
              "      <td>Burmese</td>\n",
              "      <td>ตาก</td>\n",
              "      <td>ทัณฑสถาน/เรือนจำ</td>\n",
              "      <td>NaN</td>\n",
              "      <td>NaN</td>\n",
              "      <td>NaN</td>\n",
              "    </tr>\n",
              "  </tbody>\n",
              "</table>\n",
              "</div>\n",
              "      <button class=\"colab-df-convert\" onclick=\"convertToInteractive('df-0afc268e-6f6e-438b-914c-7d9f058feb6a')\"\n",
              "              title=\"Convert this dataframe to an interactive table.\"\n",
              "              style=\"display:none;\">\n",
              "        \n",
              "  <svg xmlns=\"http://www.w3.org/2000/svg\" height=\"24px\"viewBox=\"0 0 24 24\"\n",
              "       width=\"24px\">\n",
              "    <path d=\"M0 0h24v24H0V0z\" fill=\"none\"/>\n",
              "    <path d=\"M18.56 5.44l.94 2.06.94-2.06 2.06-.94-2.06-.94-.94-2.06-.94 2.06-2.06.94zm-11 1L8.5 8.5l.94-2.06 2.06-.94-2.06-.94L8.5 2.5l-.94 2.06-2.06.94zm10 10l.94 2.06.94-2.06 2.06-.94-2.06-.94-.94-2.06-.94 2.06-2.06.94z\"/><path d=\"M17.41 7.96l-1.37-1.37c-.4-.4-.92-.59-1.43-.59-.52 0-1.04.2-1.43.59L10.3 9.45l-7.72 7.72c-.78.78-.78 2.05 0 2.83L4 21.41c.39.39.9.59 1.41.59.51 0 1.02-.2 1.41-.59l7.78-7.78 2.81-2.81c.8-.78.8-2.07 0-2.86zM5.41 20L4 18.59l7.72-7.72 1.47 1.35L5.41 20z\"/>\n",
              "  </svg>\n",
              "      </button>\n",
              "      \n",
              "  <style>\n",
              "    .colab-df-container {\n",
              "      display:flex;\n",
              "      flex-wrap:wrap;\n",
              "      gap: 12px;\n",
              "    }\n",
              "\n",
              "    .colab-df-convert {\n",
              "      background-color: #E8F0FE;\n",
              "      border: none;\n",
              "      border-radius: 50%;\n",
              "      cursor: pointer;\n",
              "      display: none;\n",
              "      fill: #1967D2;\n",
              "      height: 32px;\n",
              "      padding: 0 0 0 0;\n",
              "      width: 32px;\n",
              "    }\n",
              "\n",
              "    .colab-df-convert:hover {\n",
              "      background-color: #E2EBFA;\n",
              "      box-shadow: 0px 1px 2px rgba(60, 64, 67, 0.3), 0px 1px 3px 1px rgba(60, 64, 67, 0.15);\n",
              "      fill: #174EA6;\n",
              "    }\n",
              "\n",
              "    [theme=dark] .colab-df-convert {\n",
              "      background-color: #3B4455;\n",
              "      fill: #D2E3FC;\n",
              "    }\n",
              "\n",
              "    [theme=dark] .colab-df-convert:hover {\n",
              "      background-color: #434B5C;\n",
              "      box-shadow: 0px 1px 3px 1px rgba(0, 0, 0, 0.15);\n",
              "      filter: drop-shadow(0px 1px 2px rgba(0, 0, 0, 0.3));\n",
              "      fill: #FFFFFF;\n",
              "    }\n",
              "  </style>\n",
              "\n",
              "      <script>\n",
              "        const buttonEl =\n",
              "          document.querySelector('#df-0afc268e-6f6e-438b-914c-7d9f058feb6a button.colab-df-convert');\n",
              "        buttonEl.style.display =\n",
              "          google.colab.kernel.accessAllowed ? 'block' : 'none';\n",
              "\n",
              "        async function convertToInteractive(key) {\n",
              "          const element = document.querySelector('#df-0afc268e-6f6e-438b-914c-7d9f058feb6a');\n",
              "          const dataTable =\n",
              "            await google.colab.kernel.invokeFunction('convertToInteractive',\n",
              "                                                     [key], {});\n",
              "          if (!dataTable) return;\n",
              "\n",
              "          const docLinkHtml = 'Like what you see? Visit the ' +\n",
              "            '<a target=\"_blank\" href=https://colab.research.google.com/notebooks/data_table.ipynb>data table notebook</a>'\n",
              "            + ' to learn more about interactive tables.';\n",
              "          element.innerHTML = '';\n",
              "          dataTable['output_type'] = 'display_data';\n",
              "          await google.colab.output.renderOutput(dataTable, element);\n",
              "          const docLink = document.createElement('div');\n",
              "          docLink.innerHTML = docLinkHtml;\n",
              "          element.appendChild(docLink);\n",
              "        }\n",
              "      </script>\n",
              "    </div>\n",
              "  </div>\n",
              "  "
            ]
          },
          "metadata": {},
          "execution_count": 210
        }
      ]
    },
    {
      "cell_type": "code",
      "source": [
        "df = df.reset_index()"
      ],
      "metadata": {
        "id": "6YKsMHHwWxUj"
      },
      "execution_count": 211,
      "outputs": []
    },
    {
      "cell_type": "code",
      "source": [
        "df.tail(5)"
      ],
      "metadata": {
        "colab": {
          "base_uri": "https://localhost:8080/",
          "height": 374
        },
        "id": "RSL9p7YuXiqU",
        "outputId": "b982109f-c48c-4c27-f59e-20f3a6f976c2"
      },
      "execution_count": 212,
      "outputs": [
        {
          "output_type": "execute_result",
          "data": {
            "text/plain": [
              "          index      No. announce_date Notified date  sex   age Unit  \\\n",
              "3111650  219252  3088869      9/3/2022      8/3/2022  ชาย   NaN  NaN   \n",
              "3111651  219253  3088870      9/3/2022      8/3/2022  ชาย   NaN  NaN   \n",
              "3111652  219254  3088871      9/3/2022      8/3/2022  ชาย   NaN  NaN   \n",
              "3111653  219255  3088872      9/3/2022      8/3/2022  ชาย   NaN  NaN   \n",
              "3111654  219256  3088873      9/3/2022      8/3/2022  ชาย  29.0   ปี   \n",
              "\n",
              "        nationality province_of_isolation              risk province_of_onset  \\\n",
              "3111650    Thailand                นครพนม  ทัณฑสถาน/เรือนจำ               NaN   \n",
              "3111651     Burmese             เชียงใหม่  ทัณฑสถาน/เรือนจำ               NaN   \n",
              "3111652    Thailand             เชียงใหม่  ทัณฑสถาน/เรือนจำ               NaN   \n",
              "3111653    Thailand             เชียงใหม่  ทัณฑสถาน/เรือนจำ               NaN   \n",
              "3111654     Burmese                   ตาก  ทัณฑสถาน/เรือนจำ               NaN   \n",
              "\n",
              "        district_of_onset  Unnamed: 11  \n",
              "3111650               NaN          NaN  \n",
              "3111651               NaN          NaN  \n",
              "3111652               NaN          NaN  \n",
              "3111653               NaN          NaN  \n",
              "3111654               NaN          NaN  "
            ],
            "text/html": [
              "\n",
              "  <div id=\"df-1a6237d0-79be-4978-ab06-dac43c59fb39\">\n",
              "    <div class=\"colab-df-container\">\n",
              "      <div>\n",
              "<style scoped>\n",
              "    .dataframe tbody tr th:only-of-type {\n",
              "        vertical-align: middle;\n",
              "    }\n",
              "\n",
              "    .dataframe tbody tr th {\n",
              "        vertical-align: top;\n",
              "    }\n",
              "\n",
              "    .dataframe thead th {\n",
              "        text-align: right;\n",
              "    }\n",
              "</style>\n",
              "<table border=\"1\" class=\"dataframe\">\n",
              "  <thead>\n",
              "    <tr style=\"text-align: right;\">\n",
              "      <th></th>\n",
              "      <th>index</th>\n",
              "      <th>No.</th>\n",
              "      <th>announce_date</th>\n",
              "      <th>Notified date</th>\n",
              "      <th>sex</th>\n",
              "      <th>age</th>\n",
              "      <th>Unit</th>\n",
              "      <th>nationality</th>\n",
              "      <th>province_of_isolation</th>\n",
              "      <th>risk</th>\n",
              "      <th>province_of_onset</th>\n",
              "      <th>district_of_onset</th>\n",
              "      <th>Unnamed: 11</th>\n",
              "    </tr>\n",
              "  </thead>\n",
              "  <tbody>\n",
              "    <tr>\n",
              "      <th>3111650</th>\n",
              "      <td>219252</td>\n",
              "      <td>3088869</td>\n",
              "      <td>9/3/2022</td>\n",
              "      <td>8/3/2022</td>\n",
              "      <td>ชาย</td>\n",
              "      <td>NaN</td>\n",
              "      <td>NaN</td>\n",
              "      <td>Thailand</td>\n",
              "      <td>นครพนม</td>\n",
              "      <td>ทัณฑสถาน/เรือนจำ</td>\n",
              "      <td>NaN</td>\n",
              "      <td>NaN</td>\n",
              "      <td>NaN</td>\n",
              "    </tr>\n",
              "    <tr>\n",
              "      <th>3111651</th>\n",
              "      <td>219253</td>\n",
              "      <td>3088870</td>\n",
              "      <td>9/3/2022</td>\n",
              "      <td>8/3/2022</td>\n",
              "      <td>ชาย</td>\n",
              "      <td>NaN</td>\n",
              "      <td>NaN</td>\n",
              "      <td>Burmese</td>\n",
              "      <td>เชียงใหม่</td>\n",
              "      <td>ทัณฑสถาน/เรือนจำ</td>\n",
              "      <td>NaN</td>\n",
              "      <td>NaN</td>\n",
              "      <td>NaN</td>\n",
              "    </tr>\n",
              "    <tr>\n",
              "      <th>3111652</th>\n",
              "      <td>219254</td>\n",
              "      <td>3088871</td>\n",
              "      <td>9/3/2022</td>\n",
              "      <td>8/3/2022</td>\n",
              "      <td>ชาย</td>\n",
              "      <td>NaN</td>\n",
              "      <td>NaN</td>\n",
              "      <td>Thailand</td>\n",
              "      <td>เชียงใหม่</td>\n",
              "      <td>ทัณฑสถาน/เรือนจำ</td>\n",
              "      <td>NaN</td>\n",
              "      <td>NaN</td>\n",
              "      <td>NaN</td>\n",
              "    </tr>\n",
              "    <tr>\n",
              "      <th>3111653</th>\n",
              "      <td>219255</td>\n",
              "      <td>3088872</td>\n",
              "      <td>9/3/2022</td>\n",
              "      <td>8/3/2022</td>\n",
              "      <td>ชาย</td>\n",
              "      <td>NaN</td>\n",
              "      <td>NaN</td>\n",
              "      <td>Thailand</td>\n",
              "      <td>เชียงใหม่</td>\n",
              "      <td>ทัณฑสถาน/เรือนจำ</td>\n",
              "      <td>NaN</td>\n",
              "      <td>NaN</td>\n",
              "      <td>NaN</td>\n",
              "    </tr>\n",
              "    <tr>\n",
              "      <th>3111654</th>\n",
              "      <td>219256</td>\n",
              "      <td>3088873</td>\n",
              "      <td>9/3/2022</td>\n",
              "      <td>8/3/2022</td>\n",
              "      <td>ชาย</td>\n",
              "      <td>29.0</td>\n",
              "      <td>ปี</td>\n",
              "      <td>Burmese</td>\n",
              "      <td>ตาก</td>\n",
              "      <td>ทัณฑสถาน/เรือนจำ</td>\n",
              "      <td>NaN</td>\n",
              "      <td>NaN</td>\n",
              "      <td>NaN</td>\n",
              "    </tr>\n",
              "  </tbody>\n",
              "</table>\n",
              "</div>\n",
              "      <button class=\"colab-df-convert\" onclick=\"convertToInteractive('df-1a6237d0-79be-4978-ab06-dac43c59fb39')\"\n",
              "              title=\"Convert this dataframe to an interactive table.\"\n",
              "              style=\"display:none;\">\n",
              "        \n",
              "  <svg xmlns=\"http://www.w3.org/2000/svg\" height=\"24px\"viewBox=\"0 0 24 24\"\n",
              "       width=\"24px\">\n",
              "    <path d=\"M0 0h24v24H0V0z\" fill=\"none\"/>\n",
              "    <path d=\"M18.56 5.44l.94 2.06.94-2.06 2.06-.94-2.06-.94-.94-2.06-.94 2.06-2.06.94zm-11 1L8.5 8.5l.94-2.06 2.06-.94-2.06-.94L8.5 2.5l-.94 2.06-2.06.94zm10 10l.94 2.06.94-2.06 2.06-.94-2.06-.94-.94-2.06-.94 2.06-2.06.94z\"/><path d=\"M17.41 7.96l-1.37-1.37c-.4-.4-.92-.59-1.43-.59-.52 0-1.04.2-1.43.59L10.3 9.45l-7.72 7.72c-.78.78-.78 2.05 0 2.83L4 21.41c.39.39.9.59 1.41.59.51 0 1.02-.2 1.41-.59l7.78-7.78 2.81-2.81c.8-.78.8-2.07 0-2.86zM5.41 20L4 18.59l7.72-7.72 1.47 1.35L5.41 20z\"/>\n",
              "  </svg>\n",
              "      </button>\n",
              "      \n",
              "  <style>\n",
              "    .colab-df-container {\n",
              "      display:flex;\n",
              "      flex-wrap:wrap;\n",
              "      gap: 12px;\n",
              "    }\n",
              "\n",
              "    .colab-df-convert {\n",
              "      background-color: #E8F0FE;\n",
              "      border: none;\n",
              "      border-radius: 50%;\n",
              "      cursor: pointer;\n",
              "      display: none;\n",
              "      fill: #1967D2;\n",
              "      height: 32px;\n",
              "      padding: 0 0 0 0;\n",
              "      width: 32px;\n",
              "    }\n",
              "\n",
              "    .colab-df-convert:hover {\n",
              "      background-color: #E2EBFA;\n",
              "      box-shadow: 0px 1px 2px rgba(60, 64, 67, 0.3), 0px 1px 3px 1px rgba(60, 64, 67, 0.15);\n",
              "      fill: #174EA6;\n",
              "    }\n",
              "\n",
              "    [theme=dark] .colab-df-convert {\n",
              "      background-color: #3B4455;\n",
              "      fill: #D2E3FC;\n",
              "    }\n",
              "\n",
              "    [theme=dark] .colab-df-convert:hover {\n",
              "      background-color: #434B5C;\n",
              "      box-shadow: 0px 1px 3px 1px rgba(0, 0, 0, 0.15);\n",
              "      filter: drop-shadow(0px 1px 2px rgba(0, 0, 0, 0.3));\n",
              "      fill: #FFFFFF;\n",
              "    }\n",
              "  </style>\n",
              "\n",
              "      <script>\n",
              "        const buttonEl =\n",
              "          document.querySelector('#df-1a6237d0-79be-4978-ab06-dac43c59fb39 button.colab-df-convert');\n",
              "        buttonEl.style.display =\n",
              "          google.colab.kernel.accessAllowed ? 'block' : 'none';\n",
              "\n",
              "        async function convertToInteractive(key) {\n",
              "          const element = document.querySelector('#df-1a6237d0-79be-4978-ab06-dac43c59fb39');\n",
              "          const dataTable =\n",
              "            await google.colab.kernel.invokeFunction('convertToInteractive',\n",
              "                                                     [key], {});\n",
              "          if (!dataTable) return;\n",
              "\n",
              "          const docLinkHtml = 'Like what you see? Visit the ' +\n",
              "            '<a target=\"_blank\" href=https://colab.research.google.com/notebooks/data_table.ipynb>data table notebook</a>'\n",
              "            + ' to learn more about interactive tables.';\n",
              "          element.innerHTML = '';\n",
              "          dataTable['output_type'] = 'display_data';\n",
              "          await google.colab.output.renderOutput(dataTable, element);\n",
              "          const docLink = document.createElement('div');\n",
              "          docLink.innerHTML = docLinkHtml;\n",
              "          element.appendChild(docLink);\n",
              "        }\n",
              "      </script>\n",
              "    </div>\n",
              "  </div>\n",
              "  "
            ]
          },
          "metadata": {},
          "execution_count": 212
        }
      ]
    },
    {
      "cell_type": "markdown",
      "source": [
        "## Delete unused column"
      ],
      "metadata": {
        "id": "w_yzGrx7fL2L"
      }
    },
    {
      "cell_type": "code",
      "source": [
        "del df['index']"
      ],
      "metadata": {
        "id": "Go0Yc-lsXkhg"
      },
      "execution_count": 213,
      "outputs": []
    },
    {
      "cell_type": "code",
      "source": [
        "del df['Unnamed: 11']"
      ],
      "metadata": {
        "id": "ZwtrR-arY9AC"
      },
      "execution_count": 214,
      "outputs": []
    },
    {
      "cell_type": "code",
      "source": [
        "df.tail(5)"
      ],
      "metadata": {
        "colab": {
          "base_uri": "https://localhost:8080/",
          "height": 354
        },
        "id": "2cmaOYqLYe18",
        "outputId": "e70bb39a-5f6d-4750-83a6-b618d48f3681"
      },
      "execution_count": 215,
      "outputs": [
        {
          "output_type": "execute_result",
          "data": {
            "text/plain": [
              "             No. announce_date Notified date  sex   age Unit nationality  \\\n",
              "3111650  3088869      9/3/2022      8/3/2022  ชาย   NaN  NaN    Thailand   \n",
              "3111651  3088870      9/3/2022      8/3/2022  ชาย   NaN  NaN     Burmese   \n",
              "3111652  3088871      9/3/2022      8/3/2022  ชาย   NaN  NaN    Thailand   \n",
              "3111653  3088872      9/3/2022      8/3/2022  ชาย   NaN  NaN    Thailand   \n",
              "3111654  3088873      9/3/2022      8/3/2022  ชาย  29.0   ปี     Burmese   \n",
              "\n",
              "        province_of_isolation              risk province_of_onset  \\\n",
              "3111650                นครพนม  ทัณฑสถาน/เรือนจำ               NaN   \n",
              "3111651             เชียงใหม่  ทัณฑสถาน/เรือนจำ               NaN   \n",
              "3111652             เชียงใหม่  ทัณฑสถาน/เรือนจำ               NaN   \n",
              "3111653             เชียงใหม่  ทัณฑสถาน/เรือนจำ               NaN   \n",
              "3111654                   ตาก  ทัณฑสถาน/เรือนจำ               NaN   \n",
              "\n",
              "        district_of_onset  \n",
              "3111650               NaN  \n",
              "3111651               NaN  \n",
              "3111652               NaN  \n",
              "3111653               NaN  \n",
              "3111654               NaN  "
            ],
            "text/html": [
              "\n",
              "  <div id=\"df-abdabd91-c4f3-4773-8356-8828d559518d\">\n",
              "    <div class=\"colab-df-container\">\n",
              "      <div>\n",
              "<style scoped>\n",
              "    .dataframe tbody tr th:only-of-type {\n",
              "        vertical-align: middle;\n",
              "    }\n",
              "\n",
              "    .dataframe tbody tr th {\n",
              "        vertical-align: top;\n",
              "    }\n",
              "\n",
              "    .dataframe thead th {\n",
              "        text-align: right;\n",
              "    }\n",
              "</style>\n",
              "<table border=\"1\" class=\"dataframe\">\n",
              "  <thead>\n",
              "    <tr style=\"text-align: right;\">\n",
              "      <th></th>\n",
              "      <th>No.</th>\n",
              "      <th>announce_date</th>\n",
              "      <th>Notified date</th>\n",
              "      <th>sex</th>\n",
              "      <th>age</th>\n",
              "      <th>Unit</th>\n",
              "      <th>nationality</th>\n",
              "      <th>province_of_isolation</th>\n",
              "      <th>risk</th>\n",
              "      <th>province_of_onset</th>\n",
              "      <th>district_of_onset</th>\n",
              "    </tr>\n",
              "  </thead>\n",
              "  <tbody>\n",
              "    <tr>\n",
              "      <th>3111650</th>\n",
              "      <td>3088869</td>\n",
              "      <td>9/3/2022</td>\n",
              "      <td>8/3/2022</td>\n",
              "      <td>ชาย</td>\n",
              "      <td>NaN</td>\n",
              "      <td>NaN</td>\n",
              "      <td>Thailand</td>\n",
              "      <td>นครพนม</td>\n",
              "      <td>ทัณฑสถาน/เรือนจำ</td>\n",
              "      <td>NaN</td>\n",
              "      <td>NaN</td>\n",
              "    </tr>\n",
              "    <tr>\n",
              "      <th>3111651</th>\n",
              "      <td>3088870</td>\n",
              "      <td>9/3/2022</td>\n",
              "      <td>8/3/2022</td>\n",
              "      <td>ชาย</td>\n",
              "      <td>NaN</td>\n",
              "      <td>NaN</td>\n",
              "      <td>Burmese</td>\n",
              "      <td>เชียงใหม่</td>\n",
              "      <td>ทัณฑสถาน/เรือนจำ</td>\n",
              "      <td>NaN</td>\n",
              "      <td>NaN</td>\n",
              "    </tr>\n",
              "    <tr>\n",
              "      <th>3111652</th>\n",
              "      <td>3088871</td>\n",
              "      <td>9/3/2022</td>\n",
              "      <td>8/3/2022</td>\n",
              "      <td>ชาย</td>\n",
              "      <td>NaN</td>\n",
              "      <td>NaN</td>\n",
              "      <td>Thailand</td>\n",
              "      <td>เชียงใหม่</td>\n",
              "      <td>ทัณฑสถาน/เรือนจำ</td>\n",
              "      <td>NaN</td>\n",
              "      <td>NaN</td>\n",
              "    </tr>\n",
              "    <tr>\n",
              "      <th>3111653</th>\n",
              "      <td>3088872</td>\n",
              "      <td>9/3/2022</td>\n",
              "      <td>8/3/2022</td>\n",
              "      <td>ชาย</td>\n",
              "      <td>NaN</td>\n",
              "      <td>NaN</td>\n",
              "      <td>Thailand</td>\n",
              "      <td>เชียงใหม่</td>\n",
              "      <td>ทัณฑสถาน/เรือนจำ</td>\n",
              "      <td>NaN</td>\n",
              "      <td>NaN</td>\n",
              "    </tr>\n",
              "    <tr>\n",
              "      <th>3111654</th>\n",
              "      <td>3088873</td>\n",
              "      <td>9/3/2022</td>\n",
              "      <td>8/3/2022</td>\n",
              "      <td>ชาย</td>\n",
              "      <td>29.0</td>\n",
              "      <td>ปี</td>\n",
              "      <td>Burmese</td>\n",
              "      <td>ตาก</td>\n",
              "      <td>ทัณฑสถาน/เรือนจำ</td>\n",
              "      <td>NaN</td>\n",
              "      <td>NaN</td>\n",
              "    </tr>\n",
              "  </tbody>\n",
              "</table>\n",
              "</div>\n",
              "      <button class=\"colab-df-convert\" onclick=\"convertToInteractive('df-abdabd91-c4f3-4773-8356-8828d559518d')\"\n",
              "              title=\"Convert this dataframe to an interactive table.\"\n",
              "              style=\"display:none;\">\n",
              "        \n",
              "  <svg xmlns=\"http://www.w3.org/2000/svg\" height=\"24px\"viewBox=\"0 0 24 24\"\n",
              "       width=\"24px\">\n",
              "    <path d=\"M0 0h24v24H0V0z\" fill=\"none\"/>\n",
              "    <path d=\"M18.56 5.44l.94 2.06.94-2.06 2.06-.94-2.06-.94-.94-2.06-.94 2.06-2.06.94zm-11 1L8.5 8.5l.94-2.06 2.06-.94-2.06-.94L8.5 2.5l-.94 2.06-2.06.94zm10 10l.94 2.06.94-2.06 2.06-.94-2.06-.94-.94-2.06-.94 2.06-2.06.94z\"/><path d=\"M17.41 7.96l-1.37-1.37c-.4-.4-.92-.59-1.43-.59-.52 0-1.04.2-1.43.59L10.3 9.45l-7.72 7.72c-.78.78-.78 2.05 0 2.83L4 21.41c.39.39.9.59 1.41.59.51 0 1.02-.2 1.41-.59l7.78-7.78 2.81-2.81c.8-.78.8-2.07 0-2.86zM5.41 20L4 18.59l7.72-7.72 1.47 1.35L5.41 20z\"/>\n",
              "  </svg>\n",
              "      </button>\n",
              "      \n",
              "  <style>\n",
              "    .colab-df-container {\n",
              "      display:flex;\n",
              "      flex-wrap:wrap;\n",
              "      gap: 12px;\n",
              "    }\n",
              "\n",
              "    .colab-df-convert {\n",
              "      background-color: #E8F0FE;\n",
              "      border: none;\n",
              "      border-radius: 50%;\n",
              "      cursor: pointer;\n",
              "      display: none;\n",
              "      fill: #1967D2;\n",
              "      height: 32px;\n",
              "      padding: 0 0 0 0;\n",
              "      width: 32px;\n",
              "    }\n",
              "\n",
              "    .colab-df-convert:hover {\n",
              "      background-color: #E2EBFA;\n",
              "      box-shadow: 0px 1px 2px rgba(60, 64, 67, 0.3), 0px 1px 3px 1px rgba(60, 64, 67, 0.15);\n",
              "      fill: #174EA6;\n",
              "    }\n",
              "\n",
              "    [theme=dark] .colab-df-convert {\n",
              "      background-color: #3B4455;\n",
              "      fill: #D2E3FC;\n",
              "    }\n",
              "\n",
              "    [theme=dark] .colab-df-convert:hover {\n",
              "      background-color: #434B5C;\n",
              "      box-shadow: 0px 1px 3px 1px rgba(0, 0, 0, 0.15);\n",
              "      filter: drop-shadow(0px 1px 2px rgba(0, 0, 0, 0.3));\n",
              "      fill: #FFFFFF;\n",
              "    }\n",
              "  </style>\n",
              "\n",
              "      <script>\n",
              "        const buttonEl =\n",
              "          document.querySelector('#df-abdabd91-c4f3-4773-8356-8828d559518d button.colab-df-convert');\n",
              "        buttonEl.style.display =\n",
              "          google.colab.kernel.accessAllowed ? 'block' : 'none';\n",
              "\n",
              "        async function convertToInteractive(key) {\n",
              "          const element = document.querySelector('#df-abdabd91-c4f3-4773-8356-8828d559518d');\n",
              "          const dataTable =\n",
              "            await google.colab.kernel.invokeFunction('convertToInteractive',\n",
              "                                                     [key], {});\n",
              "          if (!dataTable) return;\n",
              "\n",
              "          const docLinkHtml = 'Like what you see? Visit the ' +\n",
              "            '<a target=\"_blank\" href=https://colab.research.google.com/notebooks/data_table.ipynb>data table notebook</a>'\n",
              "            + ' to learn more about interactive tables.';\n",
              "          element.innerHTML = '';\n",
              "          dataTable['output_type'] = 'display_data';\n",
              "          await google.colab.output.renderOutput(dataTable, element);\n",
              "          const docLink = document.createElement('div');\n",
              "          docLink.innerHTML = docLinkHtml;\n",
              "          element.appendChild(docLink);\n",
              "        }\n",
              "      </script>\n",
              "    </div>\n",
              "  </div>\n",
              "  "
            ]
          },
          "metadata": {},
          "execution_count": 215
        }
      ]
    },
    {
      "cell_type": "markdown",
      "source": [
        "## check null"
      ],
      "metadata": {
        "id": "468tN1wSfVez"
      }
    },
    {
      "cell_type": "code",
      "source": [
        "df.isnull().sum()"
      ],
      "metadata": {
        "colab": {
          "base_uri": "https://localhost:8080/"
        },
        "id": "m1EmhcyxYdfM",
        "outputId": "6ad14f9f-cd7f-4ddb-a41a-ffd6cf0bc82e"
      },
      "execution_count": 216,
      "outputs": [
        {
          "output_type": "execute_result",
          "data": {
            "text/plain": [
              "No.                           0\n",
              "announce_date                 0\n",
              "Notified date              2795\n",
              "sex                      170589\n",
              "age                      256920\n",
              "Unit                     277092\n",
              "nationality              268489\n",
              "province_of_isolation      3956\n",
              "risk                       1174\n",
              "province_of_onset        378350\n",
              "district_of_onset        485107\n",
              "dtype: int64"
            ]
          },
          "metadata": {},
          "execution_count": 216
        }
      ]
    },
    {
      "cell_type": "markdown",
      "source": [
        "## cleaning Data [sex]"
      ],
      "metadata": {
        "id": "f69qQcFyfc-4"
      }
    },
    {
      "cell_type": "code",
      "source": [
        "df['sex'].value_counts()"
      ],
      "metadata": {
        "colab": {
          "base_uri": "https://localhost:8080/"
        },
        "id": "VBDvSEuUe6Gk",
        "outputId": "cbbc85cf-be1f-4186-e1b0-463206514525"
      },
      "execution_count": 217,
      "outputs": [
        {
          "output_type": "execute_result",
          "data": {
            "text/plain": [
              "หญิง      1546128\n",
              "ชาย       1394915\n",
              "นาย             9\n",
              "หญิิง           5\n",
              "ช               3\n",
              " หญิง           1\n",
              "ร.ต.ท.          1\n",
              "หห              1\n",
              "หญง             1\n",
              "ญ               1\n",
              "หณิง            1\n",
              "Name: sex, dtype: int64"
            ]
          },
          "metadata": {},
          "execution_count": 217
        }
      ]
    },
    {
      "cell_type": "code",
      "source": [
        "df['sex'] = df['sex'].str.strip()"
      ],
      "metadata": {
        "id": "jOvcx6v8jYDk"
      },
      "execution_count": 218,
      "outputs": []
    },
    {
      "cell_type": "code",
      "source": [
        "df['sex'] = df['sex'].replace(['นาย','ช','ร.ต.ท.'], 'ชาย')"
      ],
      "metadata": {
        "id": "awIhgGYSfpQJ"
      },
      "execution_count": 219,
      "outputs": []
    },
    {
      "cell_type": "code",
      "source": [
        "df['sex'] = df['sex'].replace(['หญิิง','หห','หญง','ญ','หณิง'], 'ชาย')"
      ],
      "metadata": {
        "id": "6g5Abd1JgyyT"
      },
      "execution_count": 220,
      "outputs": []
    },
    {
      "cell_type": "code",
      "source": [
        "df['sex'].value_counts()"
      ],
      "metadata": {
        "colab": {
          "base_uri": "https://localhost:8080/"
        },
        "id": "upLO-5P1f3pV",
        "outputId": "15de788a-51b8-4c8c-c2ee-819a2ec9588b"
      },
      "execution_count": 221,
      "outputs": [
        {
          "output_type": "execute_result",
          "data": {
            "text/plain": [
              "หญิง    1546129\n",
              "ชาย     1394937\n",
              "Name: sex, dtype: int64"
            ]
          },
          "metadata": {},
          "execution_count": 221
        }
      ]
    },
    {
      "cell_type": "markdown",
      "source": [
        "## cleaning Data [age]"
      ],
      "metadata": {
        "id": "EN9VsmBZjnAa"
      }
    },
    {
      "cell_type": "code",
      "source": [
        "age = df['age'].unique()"
      ],
      "metadata": {
        "id": "RZlRTIlKjmUZ"
      },
      "execution_count": 222,
      "outputs": []
    },
    {
      "cell_type": "code",
      "source": [
        "df[df['age'] == '55/664']"
      ],
      "metadata": {
        "colab": {
          "base_uri": "https://localhost:8080/",
          "height": 194
        },
        "id": "Gb_OKRLdlbd3",
        "outputId": "37f487ae-841d-4052-f9a1-73003aa01ef5"
      },
      "execution_count": 223,
      "outputs": [
        {
          "output_type": "execute_result",
          "data": {
            "text/plain": [
              "           No. announce_date Notified date   sex     age Unit nationality  \\\n",
              "100164  100165     16/5/2021     15/5/2021  หญิง  55/664  NaN    Thailand   \n",
              "\n",
              "       province_of_isolation                                         risk  \\\n",
              "100164                ภูเก็ต  สัมผัสใกล้ชิดกับผู้ป่วยยืนยันรายก่อนหน้านี้   \n",
              "\n",
              "       province_of_onset district_of_onset  \n",
              "100164            ภูเก็ต             เมือง  "
            ],
            "text/html": [
              "\n",
              "  <div id=\"df-1bf7db34-d6d8-4238-b85c-60fac07553c7\">\n",
              "    <div class=\"colab-df-container\">\n",
              "      <div>\n",
              "<style scoped>\n",
              "    .dataframe tbody tr th:only-of-type {\n",
              "        vertical-align: middle;\n",
              "    }\n",
              "\n",
              "    .dataframe tbody tr th {\n",
              "        vertical-align: top;\n",
              "    }\n",
              "\n",
              "    .dataframe thead th {\n",
              "        text-align: right;\n",
              "    }\n",
              "</style>\n",
              "<table border=\"1\" class=\"dataframe\">\n",
              "  <thead>\n",
              "    <tr style=\"text-align: right;\">\n",
              "      <th></th>\n",
              "      <th>No.</th>\n",
              "      <th>announce_date</th>\n",
              "      <th>Notified date</th>\n",
              "      <th>sex</th>\n",
              "      <th>age</th>\n",
              "      <th>Unit</th>\n",
              "      <th>nationality</th>\n",
              "      <th>province_of_isolation</th>\n",
              "      <th>risk</th>\n",
              "      <th>province_of_onset</th>\n",
              "      <th>district_of_onset</th>\n",
              "    </tr>\n",
              "  </thead>\n",
              "  <tbody>\n",
              "    <tr>\n",
              "      <th>100164</th>\n",
              "      <td>100165</td>\n",
              "      <td>16/5/2021</td>\n",
              "      <td>15/5/2021</td>\n",
              "      <td>หญิง</td>\n",
              "      <td>55/664</td>\n",
              "      <td>NaN</td>\n",
              "      <td>Thailand</td>\n",
              "      <td>ภูเก็ต</td>\n",
              "      <td>สัมผัสใกล้ชิดกับผู้ป่วยยืนยันรายก่อนหน้านี้</td>\n",
              "      <td>ภูเก็ต</td>\n",
              "      <td>เมือง</td>\n",
              "    </tr>\n",
              "  </tbody>\n",
              "</table>\n",
              "</div>\n",
              "      <button class=\"colab-df-convert\" onclick=\"convertToInteractive('df-1bf7db34-d6d8-4238-b85c-60fac07553c7')\"\n",
              "              title=\"Convert this dataframe to an interactive table.\"\n",
              "              style=\"display:none;\">\n",
              "        \n",
              "  <svg xmlns=\"http://www.w3.org/2000/svg\" height=\"24px\"viewBox=\"0 0 24 24\"\n",
              "       width=\"24px\">\n",
              "    <path d=\"M0 0h24v24H0V0z\" fill=\"none\"/>\n",
              "    <path d=\"M18.56 5.44l.94 2.06.94-2.06 2.06-.94-2.06-.94-.94-2.06-.94 2.06-2.06.94zm-11 1L8.5 8.5l.94-2.06 2.06-.94-2.06-.94L8.5 2.5l-.94 2.06-2.06.94zm10 10l.94 2.06.94-2.06 2.06-.94-2.06-.94-.94-2.06-.94 2.06-2.06.94z\"/><path d=\"M17.41 7.96l-1.37-1.37c-.4-.4-.92-.59-1.43-.59-.52 0-1.04.2-1.43.59L10.3 9.45l-7.72 7.72c-.78.78-.78 2.05 0 2.83L4 21.41c.39.39.9.59 1.41.59.51 0 1.02-.2 1.41-.59l7.78-7.78 2.81-2.81c.8-.78.8-2.07 0-2.86zM5.41 20L4 18.59l7.72-7.72 1.47 1.35L5.41 20z\"/>\n",
              "  </svg>\n",
              "      </button>\n",
              "      \n",
              "  <style>\n",
              "    .colab-df-container {\n",
              "      display:flex;\n",
              "      flex-wrap:wrap;\n",
              "      gap: 12px;\n",
              "    }\n",
              "\n",
              "    .colab-df-convert {\n",
              "      background-color: #E8F0FE;\n",
              "      border: none;\n",
              "      border-radius: 50%;\n",
              "      cursor: pointer;\n",
              "      display: none;\n",
              "      fill: #1967D2;\n",
              "      height: 32px;\n",
              "      padding: 0 0 0 0;\n",
              "      width: 32px;\n",
              "    }\n",
              "\n",
              "    .colab-df-convert:hover {\n",
              "      background-color: #E2EBFA;\n",
              "      box-shadow: 0px 1px 2px rgba(60, 64, 67, 0.3), 0px 1px 3px 1px rgba(60, 64, 67, 0.15);\n",
              "      fill: #174EA6;\n",
              "    }\n",
              "\n",
              "    [theme=dark] .colab-df-convert {\n",
              "      background-color: #3B4455;\n",
              "      fill: #D2E3FC;\n",
              "    }\n",
              "\n",
              "    [theme=dark] .colab-df-convert:hover {\n",
              "      background-color: #434B5C;\n",
              "      box-shadow: 0px 1px 3px 1px rgba(0, 0, 0, 0.15);\n",
              "      filter: drop-shadow(0px 1px 2px rgba(0, 0, 0, 0.3));\n",
              "      fill: #FFFFFF;\n",
              "    }\n",
              "  </style>\n",
              "\n",
              "      <script>\n",
              "        const buttonEl =\n",
              "          document.querySelector('#df-1bf7db34-d6d8-4238-b85c-60fac07553c7 button.colab-df-convert');\n",
              "        buttonEl.style.display =\n",
              "          google.colab.kernel.accessAllowed ? 'block' : 'none';\n",
              "\n",
              "        async function convertToInteractive(key) {\n",
              "          const element = document.querySelector('#df-1bf7db34-d6d8-4238-b85c-60fac07553c7');\n",
              "          const dataTable =\n",
              "            await google.colab.kernel.invokeFunction('convertToInteractive',\n",
              "                                                     [key], {});\n",
              "          if (!dataTable) return;\n",
              "\n",
              "          const docLinkHtml = 'Like what you see? Visit the ' +\n",
              "            '<a target=\"_blank\" href=https://colab.research.google.com/notebooks/data_table.ipynb>data table notebook</a>'\n",
              "            + ' to learn more about interactive tables.';\n",
              "          element.innerHTML = '';\n",
              "          dataTable['output_type'] = 'display_data';\n",
              "          await google.colab.output.renderOutput(dataTable, element);\n",
              "          const docLink = document.createElement('div');\n",
              "          docLink.innerHTML = docLinkHtml;\n",
              "          element.appendChild(docLink);\n",
              "        }\n",
              "      </script>\n",
              "    </div>\n",
              "  </div>\n",
              "  "
            ]
          },
          "metadata": {},
          "execution_count": 223
        }
      ]
    },
    {
      "cell_type": "code",
      "source": [
        "df[df['age'] == '35/11']"
      ],
      "metadata": {
        "colab": {
          "base_uri": "https://localhost:8080/",
          "height": 177
        },
        "id": "40CflullmlQ1",
        "outputId": "c119d3ea-27fa-42d5-ac2e-00b473ede57a"
      },
      "execution_count": 224,
      "outputs": [
        {
          "output_type": "execute_result",
          "data": {
            "text/plain": [
              "             No. announce_date Notified date   sex    age Unit nationality  \\\n",
              "2620435  2597654     14/2/2022     13/2/2022  หญิง  35/11  NaN    Thailand   \n",
              "\n",
              "        province_of_isolation                  risk province_of_onset  \\\n",
              "2620435       ประจวบคีรีขันธ์  อยู่ระหว่างการสอบสวน   ประจวบคีรีขันธ์   \n",
              "\n",
              "        district_of_onset  \n",
              "2620435          บางสะพาน  "
            ],
            "text/html": [
              "\n",
              "  <div id=\"df-92058f2e-ad0d-4cb2-a064-a7ae1ce6675b\">\n",
              "    <div class=\"colab-df-container\">\n",
              "      <div>\n",
              "<style scoped>\n",
              "    .dataframe tbody tr th:only-of-type {\n",
              "        vertical-align: middle;\n",
              "    }\n",
              "\n",
              "    .dataframe tbody tr th {\n",
              "        vertical-align: top;\n",
              "    }\n",
              "\n",
              "    .dataframe thead th {\n",
              "        text-align: right;\n",
              "    }\n",
              "</style>\n",
              "<table border=\"1\" class=\"dataframe\">\n",
              "  <thead>\n",
              "    <tr style=\"text-align: right;\">\n",
              "      <th></th>\n",
              "      <th>No.</th>\n",
              "      <th>announce_date</th>\n",
              "      <th>Notified date</th>\n",
              "      <th>sex</th>\n",
              "      <th>age</th>\n",
              "      <th>Unit</th>\n",
              "      <th>nationality</th>\n",
              "      <th>province_of_isolation</th>\n",
              "      <th>risk</th>\n",
              "      <th>province_of_onset</th>\n",
              "      <th>district_of_onset</th>\n",
              "    </tr>\n",
              "  </thead>\n",
              "  <tbody>\n",
              "    <tr>\n",
              "      <th>2620435</th>\n",
              "      <td>2597654</td>\n",
              "      <td>14/2/2022</td>\n",
              "      <td>13/2/2022</td>\n",
              "      <td>หญิง</td>\n",
              "      <td>35/11</td>\n",
              "      <td>NaN</td>\n",
              "      <td>Thailand</td>\n",
              "      <td>ประจวบคีรีขันธ์</td>\n",
              "      <td>อยู่ระหว่างการสอบสวน</td>\n",
              "      <td>ประจวบคีรีขันธ์</td>\n",
              "      <td>บางสะพาน</td>\n",
              "    </tr>\n",
              "  </tbody>\n",
              "</table>\n",
              "</div>\n",
              "      <button class=\"colab-df-convert\" onclick=\"convertToInteractive('df-92058f2e-ad0d-4cb2-a064-a7ae1ce6675b')\"\n",
              "              title=\"Convert this dataframe to an interactive table.\"\n",
              "              style=\"display:none;\">\n",
              "        \n",
              "  <svg xmlns=\"http://www.w3.org/2000/svg\" height=\"24px\"viewBox=\"0 0 24 24\"\n",
              "       width=\"24px\">\n",
              "    <path d=\"M0 0h24v24H0V0z\" fill=\"none\"/>\n",
              "    <path d=\"M18.56 5.44l.94 2.06.94-2.06 2.06-.94-2.06-.94-.94-2.06-.94 2.06-2.06.94zm-11 1L8.5 8.5l.94-2.06 2.06-.94-2.06-.94L8.5 2.5l-.94 2.06-2.06.94zm10 10l.94 2.06.94-2.06 2.06-.94-2.06-.94-.94-2.06-.94 2.06-2.06.94z\"/><path d=\"M17.41 7.96l-1.37-1.37c-.4-.4-.92-.59-1.43-.59-.52 0-1.04.2-1.43.59L10.3 9.45l-7.72 7.72c-.78.78-.78 2.05 0 2.83L4 21.41c.39.39.9.59 1.41.59.51 0 1.02-.2 1.41-.59l7.78-7.78 2.81-2.81c.8-.78.8-2.07 0-2.86zM5.41 20L4 18.59l7.72-7.72 1.47 1.35L5.41 20z\"/>\n",
              "  </svg>\n",
              "      </button>\n",
              "      \n",
              "  <style>\n",
              "    .colab-df-container {\n",
              "      display:flex;\n",
              "      flex-wrap:wrap;\n",
              "      gap: 12px;\n",
              "    }\n",
              "\n",
              "    .colab-df-convert {\n",
              "      background-color: #E8F0FE;\n",
              "      border: none;\n",
              "      border-radius: 50%;\n",
              "      cursor: pointer;\n",
              "      display: none;\n",
              "      fill: #1967D2;\n",
              "      height: 32px;\n",
              "      padding: 0 0 0 0;\n",
              "      width: 32px;\n",
              "    }\n",
              "\n",
              "    .colab-df-convert:hover {\n",
              "      background-color: #E2EBFA;\n",
              "      box-shadow: 0px 1px 2px rgba(60, 64, 67, 0.3), 0px 1px 3px 1px rgba(60, 64, 67, 0.15);\n",
              "      fill: #174EA6;\n",
              "    }\n",
              "\n",
              "    [theme=dark] .colab-df-convert {\n",
              "      background-color: #3B4455;\n",
              "      fill: #D2E3FC;\n",
              "    }\n",
              "\n",
              "    [theme=dark] .colab-df-convert:hover {\n",
              "      background-color: #434B5C;\n",
              "      box-shadow: 0px 1px 3px 1px rgba(0, 0, 0, 0.15);\n",
              "      filter: drop-shadow(0px 1px 2px rgba(0, 0, 0, 0.3));\n",
              "      fill: #FFFFFF;\n",
              "    }\n",
              "  </style>\n",
              "\n",
              "      <script>\n",
              "        const buttonEl =\n",
              "          document.querySelector('#df-92058f2e-ad0d-4cb2-a064-a7ae1ce6675b button.colab-df-convert');\n",
              "        buttonEl.style.display =\n",
              "          google.colab.kernel.accessAllowed ? 'block' : 'none';\n",
              "\n",
              "        async function convertToInteractive(key) {\n",
              "          const element = document.querySelector('#df-92058f2e-ad0d-4cb2-a064-a7ae1ce6675b');\n",
              "          const dataTable =\n",
              "            await google.colab.kernel.invokeFunction('convertToInteractive',\n",
              "                                                     [key], {});\n",
              "          if (!dataTable) return;\n",
              "\n",
              "          const docLinkHtml = 'Like what you see? Visit the ' +\n",
              "            '<a target=\"_blank\" href=https://colab.research.google.com/notebooks/data_table.ipynb>data table notebook</a>'\n",
              "            + ' to learn more about interactive tables.';\n",
              "          element.innerHTML = '';\n",
              "          dataTable['output_type'] = 'display_data';\n",
              "          await google.colab.output.renderOutput(dataTable, element);\n",
              "          const docLink = document.createElement('div');\n",
              "          docLink.innerHTML = docLinkHtml;\n",
              "          element.appendChild(docLink);\n",
              "        }\n",
              "      </script>\n",
              "    </div>\n",
              "  </div>\n",
              "  "
            ]
          },
          "metadata": {},
          "execution_count": 224
        }
      ]
    },
    {
      "cell_type": "markdown",
      "source": [
        "### delete row that age = 55/664, 35/11"
      ],
      "metadata": {
        "id": "VPT6pocrmSfB"
      }
    },
    {
      "cell_type": "code",
      "source": [
        "df = df.drop(100164)\n",
        "df = df.drop(2620435)"
      ],
      "metadata": {
        "id": "Dawnz4t5loNm"
      },
      "execution_count": 225,
      "outputs": []
    },
    {
      "cell_type": "code",
      "source": [
        "df['age'] = df['age'].astype(float)"
      ],
      "metadata": {
        "id": "iiXYS6dZmbx_"
      },
      "execution_count": 226,
      "outputs": []
    },
    {
      "cell_type": "markdown",
      "source": [
        "### delete row that age more than 122 (highest human age in the world)"
      ],
      "metadata": {
        "id": "Xgi4b-WdqOiE"
      }
    },
    {
      "cell_type": "code",
      "source": [
        "index_age_error = df[df['age'] > 122].index"
      ],
      "metadata": {
        "id": "IKR-h7E8pXhv"
      },
      "execution_count": 227,
      "outputs": []
    },
    {
      "cell_type": "code",
      "source": [
        "df = df.drop(index_age_error)"
      ],
      "metadata": {
        "id": "qXmHGQBzqWUS"
      },
      "execution_count": 228,
      "outputs": []
    },
    {
      "cell_type": "code",
      "source": [
        "df['age'].sort_values(ascending = False)"
      ],
      "metadata": {
        "id": "L4T8LZ1Qqbt8"
      },
      "execution_count": 229,
      "outputs": []
    },
    {
      "cell_type": "markdown",
      "source": [
        "### check value"
      ],
      "metadata": {
        "id": "HfOvYB0Sr4YK"
      }
    },
    {
      "cell_type": "code",
      "source": [
        "df['age'].value_counts()"
      ],
      "metadata": {
        "id": "B2msal8_nTaE"
      },
      "execution_count": null,
      "outputs": []
    },
    {
      "cell_type": "code",
      "source": [
        "df['age'].isna().sum()"
      ],
      "metadata": {
        "id": "tZNvQG49s7mQ"
      },
      "execution_count": null,
      "outputs": []
    },
    {
      "cell_type": "markdown",
      "source": [
        "## cleaning Data [unit]"
      ],
      "metadata": {
        "id": "99t4WP59sSoq"
      }
    },
    {
      "cell_type": "code",
      "source": [
        "df['Unit'] = df['Unit'].str.strip()"
      ],
      "metadata": {
        "id": "qMlDMEDXt-gZ"
      },
      "execution_count": null,
      "outputs": []
    },
    {
      "cell_type": "code",
      "source": [
        "df['Unit'].value_counts()"
      ],
      "metadata": {
        "id": "rEeIPHa-sVgR"
      },
      "execution_count": null,
      "outputs": []
    },
    {
      "cell_type": "markdown",
      "source": [
        "### change person that age is month and day to 0 year"
      ],
      "metadata": {
        "id": "6brgFEwE0FT1"
      }
    },
    {
      "cell_type": "code",
      "source": [
        "unit_md_index = df[df['Unit'].isin(['เดือน', 'วัน'])].index"
      ],
      "metadata": {
        "id": "nWVDXAmRuFrf"
      },
      "execution_count": null,
      "outputs": []
    },
    {
      "cell_type": "code",
      "source": [
        "df.loc[unit_md_index, 'age'] = 0"
      ],
      "metadata": {
        "id": "5t-cxCkxzgJz"
      },
      "execution_count": null,
      "outputs": []
    },
    {
      "cell_type": "code",
      "source": [
        "df[df['Unit'].isin(['เดือน', 'วัน'])]"
      ],
      "metadata": {
        "id": "vSAp0j5Dz4ty"
      },
      "execution_count": null,
      "outputs": []
    },
    {
      "cell_type": "code",
      "source": [
        "df.loc[unit_md_index, 'Unit'] = 'ปี'"
      ],
      "metadata": {
        "id": "sdCkz5Q30VVU"
      },
      "execution_count": null,
      "outputs": []
    },
    {
      "cell_type": "code",
      "source": [
        "df['Unit'].value_counts()"
      ],
      "metadata": {
        "id": "kvhlIZPT0bCB"
      },
      "execution_count": null,
      "outputs": []
    },
    {
      "cell_type": "markdown",
      "source": [
        "## cleaning Data [nationality]"
      ],
      "metadata": {
        "id": "dx0qul1C1LpS"
      }
    },
    {
      "cell_type": "markdown",
      "source": [
        "### setting show all data "
      ],
      "metadata": {
        "id": "eTI877rp1xuH"
      }
    },
    {
      "cell_type": "code",
      "source": [
        "pd.set_option(\"display.max_rows\", 7)"
      ],
      "metadata": {
        "id": "S1ZwBLws1pDs"
      },
      "execution_count": null,
      "outputs": []
    },
    {
      "cell_type": "markdown",
      "source": [
        "### change to lower text"
      ],
      "metadata": {
        "id": "kt_M1c-C3HBl"
      }
    },
    {
      "cell_type": "code",
      "source": [
        "df['nationality'] = df['nationality'].str.lower()"
      ],
      "metadata": {
        "id": "Ulq6fm523GD7"
      },
      "execution_count": null,
      "outputs": []
    },
    {
      "cell_type": "markdown",
      "source": [
        "### delete white space"
      ],
      "metadata": {
        "id": "551mY4HfCwW7"
      }
    },
    {
      "cell_type": "code",
      "source": [
        "df['nationality'] = df['nationality'].str.strip()"
      ],
      "metadata": {
        "id": "zNfBUBUxCuHn"
      },
      "execution_count": null,
      "outputs": []
    },
    {
      "cell_type": "code",
      "source": [
        "df['nationality'].head()"
      ],
      "metadata": {
        "id": "ngIb1ZOg3ee6"
      },
      "execution_count": null,
      "outputs": []
    },
    {
      "cell_type": "markdown",
      "source": [
        "### change duplicate data"
      ],
      "metadata": {
        "id": "VsJB0HJ0Ll4a"
      }
    },
    {
      "cell_type": "code",
      "source": [
        "a = df['nationality'].replace(['afghan / afghani','afghanistan'], 'afghan')\n",
        "a = a.replace(['albania'], 'albanian')\n",
        "a = a.replace(['algeria'], 'algerian')\n",
        "a = a.replace(['american samoa'], 'american samoan')\n",
        "a = a.replace(['americans','อเมริกา'], 'american')\n",
        "a = a.replace(['arabi'], 'saudi arabian')\n",
        "a = a.replace(['argentina', 'argentine / argentinian'], 'argentine')\n",
        "a = a.replace(['armenia'], 'armenian')\n",
        "a = a.replace(['au', 'australia'], 'australian')\n",
        "a = a.replace(['austria'], 'austrian')\n",
        "a = a.replace(['azerbaijan'], 'azerbaijani')\n",
        "a = a.replace(['bahrain'], 'bahraini')\n",
        "a = a.replace(['bangladesh'], 'bangladeshi')\n",
        "a = a.replace(['belarus'], 'belarusian')\n",
        "a = a.replace(['belgium'], 'belgian')\n",
        "a = a.replace(['bermuda'], 'bermudain')\n",
        "a = a.replace(['bhutan'], 'bhutanese')\n",
        "a = a.replace(['bosnian/herzegovinian'], 'bosnian')\n",
        "a = a.replace(['brazil', 'บราซิล'], 'brazilian')\n",
        "a = a.replace(['british / english', 'british / northern irish', 'british / scottish', 'british / welsh', 'british/english'], 'british')\n",
        "a = a.replace(['brunei'], 'bruneian')\n",
        "a = a.replace(['bulgaria'], 'bulgarian')\n",
        "a = a.replace(['burma', 'myanmar', 'พม่า', 'ไทยใหญ่', 'ไทใหญ่'], 'burmese')\n",
        "a = a.replace(['cambodia', 'กัมพูชา'], 'cambodian')\n",
        "a = a.replace(['cameroon'], 'cameroonian')\n",
        "a = a.replace(['canada'], 'canadian')\n",
        "a = a.replace(['china', 'จีน'], 'chinese')\n",
        "a = a.replace(['colombia'], 'colombian')\n",
        "a = a.replace(['congo', 'congo (brazzaville)'], 'congolese')\n",
        "a = a.replace(['croatia'], 'croatian')\n",
        "a = a.replace(['cuba'], 'cuban')\n",
        "a = a.replace(['czechia'], 'czech')"
      ],
      "metadata": {
        "id": "yOjzc5CJLkmy"
      },
      "execution_count": null,
      "outputs": []
    },
    {
      "cell_type": "code",
      "source": [
        "a = a.replace(['denmark'], 'danish')\n",
        "a = a.replace(['deutsch'], 'german')\n",
        "a = a.replace(['netherlands'], 'dutch')\n",
        "a = a.replace(['egypt'], 'egyptian')\n",
        "a = a.replace(['emirate', 'uae', 'united arab emirates'], 'emirati')\n",
        "a = a.replace(['eritrea'], 'eritrean')\n",
        "a = a.replace(['estonia'], 'estonian')\n",
        "a = a.replace(['ethiopia'], 'ethiopian')\n",
        "a = a.replace(['philipines'], 'filipino')\n",
        "a = a.replace(['finland'], 'finnish')\n",
        "a = a.replace(['franch', 'french guiana'], 'french')\n",
        "a = a.replace(['gambia', 'gambia, the'], 'gambian')\n",
        "a = a.replace(['germany', 'germen', 'gremany'], 'german')\n",
        "a = a.replace(['ghana'], 'ghanaian')\n",
        "a = a.replace(['greece'], 'greek')\n",
        "a = a.replace(['guinea'], 'guinean')\n",
        "a = a.replace(['hong kong'], 'chinese')\n",
        "a = a.replace(['hungary'], 'hungarian')\n",
        "a = a.replace(['iceland'], 'icelandic')\n",
        "a = a.replace(['india', 'india-thailand'], 'indian')\n",
        "a = a.replace(['indonesia'], 'indonesian')\n",
        "a = a.replace(['iran'], 'iranian')\n",
        "a = a.replace(['iraq'], 'iraqi')\n",
        "a = a.replace(['ireland'], 'irish')\n",
        "a = a.replace(['israel'], 'israeli')\n",
        "a = a.replace(['italy'], 'italian')\n",
        "a = a.replace(['japan'], 'japanese')\n",
        "a = a.replace(['jordan'], 'jordanian')"
      ],
      "metadata": {
        "id": "xHBaGZ9C1BH6"
      },
      "execution_count": null,
      "outputs": []
    },
    {
      "cell_type": "code",
      "source": [
        "a = a.replace(['kazakhstan', 'kazakh / kazakhstani'], 'kazakh')\n",
        "a = a.replace(['kenya'], 'kenyan')\n",
        "a = a.replace(['korea, south', 'korean'], 'south korean')\n",
        "a = a.replace(['kosovo'], 'kosovan')\n",
        "a = a.replace(['kuwait'], 'kuwaiti')\n",
        "a = a.replace(['kyrgyzstan'], 'kyrgyz')\n",
        "a = a.replace(['l', 'lao', 'laos', 'laotian / lao', 'laotian/lao'], 'laotian')\n",
        "a = a.replace(['latvia'], 'latvian')\n",
        "a = a.replace(['liberia'], 'liberian')\n",
        "a = a.replace(['libya'], 'libyan')\n",
        "a = a.replace(['lithuania'], 'lithuanian')\n",
        "a = a.replace(['luxembourg'], 'luxembourgish')\n",
        "a = a.replace(['macedonia'], 'macedonian')\n",
        "a = a.replace(['malawi'], 'malawin')\n",
        "a = a.replace(['malaysia'], 'malaysian')\n",
        "a = a.replace(['maldives'], 'maldivian')\n",
        "a = a.replace(['mali'], 'malian')\n",
        "a = a.replace(['malta'], 'maltese')\n",
        "a = a.replace(['mauritians', 'mauritius'], 'mauritian')\n",
        "a = a.replace(['mexico'], 'mexican')\n",
        "a = a.replace(['mongolia'], 'mongolian')\n",
        "a = a.replace(['namibia'], 'namibian')\n",
        "a = a.replace(['nepal', 'nepalese / nepali'], 'nepalese')\n",
        "a = a.replace(['new zealand'], 'new zealander')\n",
        "a = a.replace(['nicaragua'], 'nicaraguan')\n",
        "a = a.replace(['nigeria', 'ไนจีเรีย'], 'nigerian')\n",
        "a = a.replace(['norway'], 'norwegian')"
      ],
      "metadata": {
        "id": "mylzYKiXYiq-"
      },
      "execution_count": null,
      "outputs": []
    },
    {
      "cell_type": "code",
      "source": [
        "a = a.replace(['oman'], 'omani')\n",
        "a = a.replace(['pakistan'], 'pakistani')\n",
        "a = a.replace(['palestine'], 'palestinian')\n",
        "a = a.replace(['philippines'], 'filipino')\n",
        "a = a.replace(['poland'], 'polish')\n",
        "a = a.replace(['portugal'], 'portuguese')\n",
        "a = a.replace(['qatar', 'oatari'], 'qatari')\n",
        "a = a.replace(['romania'], 'romanian')\n",
        "a = a.replace(['russia'], 'russian')\n",
        "a = a.replace(['senegal'], 'senegalese')\n",
        "a = a.replace(['serbia'], 'serbian')\n",
        "a = a.replace(['sierra leone'], 'sierra leonian')\n",
        "a = a.replace(['singapore'], 'singaporean')\n",
        "a = a.replace(['slovak / slovakian'], 'slovak')\n",
        "a = a.replace(['slovenia', 'slovenian / slovene'], 'slovenian')\n",
        "a = a.replace(['somali / somalian', 'somalia'], 'somali')\n",
        "a = a.replace(['south africa'], 'south african')\n",
        "a = a.replace(['south korea'], 'south korean')\n",
        "a = a.replace(['spain'], 'spanish')\n",
        "a = a.replace(['sri lanka'], 'sri lankan')\n",
        "a = a.replace(['sudan'], 'sudanese')\n",
        "a = a.replace(['swaziland'], 'swazi')\n",
        "a = a.replace(['sweden', 'สวีเดน'], 'swedish')\n",
        "a = a.replace(['switzerland'], 'swiss')\n",
        "a = a.replace(['syria'], 'syrian')"
      ],
      "metadata": {
        "id": "FjT4EzGjbRt2"
      },
      "execution_count": null,
      "outputs": []
    },
    {
      "cell_type": "code",
      "source": [
        "a = a.replace(['taiwan'], 'taiwanese')\n",
        "a = a.replace(['tajik'], 'tajikistan')\n",
        "a = a.replace(['tanzania'], 'tanzanian')\n",
        "a = a.replace(['thailand'], 'thai')\n",
        "a = a.replace(['timor-leste'], 'timorese')\n",
        "a = a.replace(['tunisia'], 'tunisian')\n",
        "a = a.replace(['turkey', 'turkcish'], 'turkish')\n",
        "a = a.replace(['uganda'], 'ugandan')\n",
        "a = a.replace(['ukraine'], 'ukrainian')\n",
        "a = a.replace(['united kingdom'], 'british')\n",
        "a = a.replace(['united states of america'], 'american')\n",
        "a = a.replace(['uzbekistan'], 'uzbek')\n",
        "a = a.replace(['vietnam'], 'vietnamese')\n",
        "a = a.replace(['yemen', 'yemeni / yemenite'], 'yemeni')\n",
        "a = a.replace(['zimbabwe'], 'zimbabwean')\n",
        "a = a.replace(['ต่างด้าว'], 'other')\n",
        "a = a.replace(['ลาว'], 'laotian')\n",
        "a = a.replace(['ไม่มีสัญชาติ'], 'other')\n",
        "a = a.replace(['ไม่ระบุ'], 'other')"
      ],
      "metadata": {
        "id": "X0nzJ6D8dpbG"
      },
      "execution_count": null,
      "outputs": []
    },
    {
      "cell_type": "code",
      "source": [
        "df['nationality'] = a.str.capitalize()\n",
        "df.groupby('nationality').size()"
      ],
      "metadata": {
        "id": "j7M6egTzgIev"
      },
      "execution_count": null,
      "outputs": []
    },
    {
      "cell_type": "markdown",
      "source": [
        "use this ref to change nationality https://www.englishclub.com/vocabulary/world-countries-nationality.php"
      ],
      "metadata": {
        "id": "kdacuTF-5V9F"
      }
    },
    {
      "cell_type": "markdown",
      "source": [
        "## cleaning Data [province_of_isolation]"
      ],
      "metadata": {
        "id": "MMmAhW0-h97h"
      }
    },
    {
      "cell_type": "code",
      "source": [
        "pd.set_option(\"display.max_rows\", 7)"
      ],
      "metadata": {
        "id": "JaMWPfIhiTeX"
      },
      "execution_count": null,
      "outputs": []
    },
    {
      "cell_type": "markdown",
      "source": [
        "### delete white space"
      ],
      "metadata": {
        "id": "yOCk_PJAip-J"
      }
    },
    {
      "cell_type": "code",
      "source": [
        "df['province_of_isolation'] = df['province_of_isolation'].str.strip()"
      ],
      "metadata": {
        "id": "FwX1KvAxioc6"
      },
      "execution_count": null,
      "outputs": []
    },
    {
      "cell_type": "markdown",
      "source": [
        "### change duplicate data"
      ],
      "metadata": {
        "id": "PA7D9js7i1HG"
      }
    },
    {
      "cell_type": "code",
      "source": [
        "df['province_of_isolation'] = df['province_of_isolation'].replace(['กทม'], 'กรุงเทพมหานคร')\n",
        "df['province_of_isolation'] = df['province_of_isolation'].replace(['ภููเก็ต'], 'ภูเก็ต')"
      ],
      "metadata": {
        "id": "oFTvzW0siwdM"
      },
      "execution_count": null,
      "outputs": []
    },
    {
      "cell_type": "code",
      "source": [
        "df['province_of_isolation'].nunique()"
      ],
      "metadata": {
        "id": "Pt4pQ6FfjlyQ"
      },
      "execution_count": null,
      "outputs": []
    },
    {
      "cell_type": "code",
      "source": [
        "df.groupby('province_of_isolation').size()"
      ],
      "metadata": {
        "id": "WjROxeJLjKcK"
      },
      "execution_count": null,
      "outputs": []
    },
    {
      "cell_type": "code",
      "source": [
        "df['province_of_isolation'].value_counts()"
      ],
      "metadata": {
        "id": "XHVv1-mmjYLo"
      },
      "execution_count": null,
      "outputs": []
    },
    {
      "cell_type": "markdown",
      "source": [
        "## cleaning Data [risk]"
      ],
      "metadata": {
        "id": "J1KkAedXkt9e"
      }
    },
    {
      "cell_type": "code",
      "source": [
        "df = df1.append((df2,df3,df4))"
      ],
      "metadata": {
        "id": "K-tVnlWmjC6n"
      },
      "execution_count": null,
      "outputs": []
    },
    {
      "cell_type": "code",
      "source": [
        "df.head()"
      ],
      "metadata": {
        "id": "EAGA3mULj_aX"
      },
      "execution_count": null,
      "outputs": []
    },
    {
      "cell_type": "code",
      "source": [
        "pd.set_option(\"display.max_rows\", None)"
      ],
      "metadata": {
        "id": "NmAp-iDAajqy"
      },
      "execution_count": null,
      "outputs": []
    },
    {
      "cell_type": "markdown",
      "source": [
        "### delete white space"
      ],
      "metadata": {
        "id": "Vv04mCGlbgFk"
      }
    },
    {
      "cell_type": "code",
      "source": [
        "df['risk'] = df['risk'].str.strip()"
      ],
      "metadata": {
        "id": "zTHqcrH0a2tp"
      },
      "execution_count": null,
      "outputs": []
    },
    {
      "cell_type": "markdown",
      "source": [
        "### change to lower text"
      ],
      "metadata": {
        "id": "DdfhAlAArTmq"
      }
    },
    {
      "cell_type": "code",
      "source": [
        "df['risk'] = df['risk'].str.lower()"
      ],
      "metadata": {
        "id": "gUHEQZGlrW-m"
      },
      "execution_count": null,
      "outputs": []
    },
    {
      "cell_type": "code",
      "source": [
        "df.groupby('risk').size()"
      ],
      "metadata": {
        "id": "S_V_qZmUktY9"
      },
      "execution_count": null,
      "outputs": []
    },
    {
      "cell_type": "markdown",
      "source": [
        "### create new columns for new_risk"
      ],
      "metadata": {
        "id": "Rxq-jeSdptiQ"
      }
    },
    {
      "cell_type": "code",
      "source": [
        "# create a list of our conditions\n",
        "conditions = [\n",
        "    (df['risk'].str.contains('อาชีพเสี่ยง', na=False)),\n",
        "    (df['risk'].str.contains('สัมผัส', na=False)),\n",
        "    (df['risk'].str.contains('acf', na=False)),\n",
        "    (df['risk'].str.contains('cluster', na=False)),\n",
        "    (df['risk'].str.contains('sandbox', na=False)),\n",
        "    (df['risk'].str.contains('shui', na=False)),\n",
        "    (df['risk'].str.contains('samui plus', na=False)),\n",
        "    (df['risk'].str.contains('state quarantine', na=False)),\n",
        "    (df['risk'].str.contains('test and go', na=False)),\n",
        "    (df['risk'].str.contains('ค้นหา', na=False)),\n",
        "    (df['risk'].str.contains('ต่างประเทศ', na=False)),\n",
        "    (df['risk'].str.contains('พื้นที่เสี่ยง', na=False)),\n",
        "    (df['risk'].str.contains('ตรวจก่อน', na=False)),\n",
        "    (df['risk'].str.contains('ทัณฑสถาน', na=False)),\n",
        "    (df['risk'].str.contains('บุคลากร', na=False)),\n",
        "    (df['risk'].str.contains('ปอด', na=False)),\n",
        "    (df['risk'].str.contains('ผู้ที่เดินทางมาจากต่างประเทศ', na=False)),\n",
        "    (df['risk'].str.contains('พิธีกรรมทางศาสนา', na=False)),\n",
        "    (df['risk'].str.contains('ระบุไม่ได้', na=False)),\n",
        "    (df['risk'].str.contains('ผู้ต้องกัก', na=False)),\n",
        "    (df['risk'].str.contains('สถานที่ทำงาน', na=False)),\n",
        "    (df['risk'].str.contains('สถานบันเทิง', na=False)),\n",
        "    (df['risk'].str.contains('สถานศึกษา', na=False)),\n",
        "    (df['risk'].str.contains('สนามมวย', na=False)),\n",
        "    (df['risk'].str.contains('อยู่ระหว่าง', na=False)),\n",
        "    (df['risk'].str.contains('เดินทางมาจาก', na=False)),\n",
        "    (df['risk'].str.contains('ไป', na=False)),\n",
        "    (df['risk'].str.contains('ไม่ระบุ', na=False))\n",
        "    ]\n",
        "\n",
        "# create a list of the values we want to assign for each condition\n",
        "values = ['อาชีพเสี่ยง', 'สัมผัสใกล้ชิดกับผู้ป่วยยืนยันรายก่อนหน้านี้', 'การค้นหาผู้ป่วยเชิงรุกและค้นหาผู้ติดเชื้อในชุมชน', 'Cluster ตามสถานที่ต่างๆ','Sandbox','Sandbox', 'Sandbox', 'ผู้ที่เดินทางมาจากต่างประเทศ', 'ผู้ที่เดินทางมาจากต่างประเทศ','การค้นหาผู้ป่วยเชิงรุกและค้นหาผู้ติดเชื้อในชุมชน',\n",
        "          'ผู้ที่เดินทางมาจากต่างประเทศ', 'ไปสถานที่เสี่ยง', 'ตรวจเชื้อก่อนทำหัตถการ', 'ทัณฑสถาน/เรือนจำ', 'บุคลากรด้านการแพทย์และสาธารณสุข', 'ปอดอักเสบ',\n",
        "          'ผู้ที่เดินทางมาจากต่างประเทศ', 'พิธีกรรมทางศาสนา', 'ระบุไม่ได้', 'ทัณฑสถาน/เรือนจำ', 'สถานที่ทำงาน','สถานบันเทิง','สถานศึกษา','Cluster ตามสถานที่ต่างๆ',\n",
        "          'อยู่ระหว่างการสอบสวน', 'ไปสถานที่เสี่ยง', 'ไปสถานที่เสี่ยง', 'ระบุไม่ได้']\n",
        "\n",
        "# create a new column and use np.select to assign values to it using our lists as arguments\n",
        "df['new_risk'] = np.select(conditions, values, default = 'อื่นๆ')\n",
        "\n",
        "# display updated DataFrame\n",
        "df['new_risk'].value_counts()"
      ],
      "metadata": {
        "id": "AG8G6JNOf2ag"
      },
      "execution_count": null,
      "outputs": []
    },
    {
      "cell_type": "markdown",
      "source": [
        "------------------------------------------------"
      ],
      "metadata": {
        "id": "5qDgsES_1fnC"
      }
    },
    {
      "cell_type": "markdown",
      "source": [
        "## Drop na for all"
      ],
      "metadata": {
        "id": "YRQukVk5fjYO"
      }
    },
    {
      "cell_type": "code",
      "source": [
        "#df['No.'].count()"
      ],
      "metadata": {
        "id": "U57vu6rZ2Tll"
      },
      "execution_count": null,
      "outputs": []
    },
    {
      "cell_type": "code",
      "source": [
        "#df_no_na = df.dropna()"
      ],
      "metadata": {
        "id": "iBRo2oc6YztX"
      },
      "execution_count": null,
      "outputs": []
    },
    {
      "cell_type": "code",
      "source": [
        "#df_no_na['No.'].count()"
      ],
      "metadata": {
        "id": "clYjvy8cZXZ_"
      },
      "execution_count": null,
      "outputs": []
    },
    {
      "cell_type": "markdown",
      "source": [
        "## Visualization"
      ],
      "metadata": {
        "id": "SLQ-nIkKrw0O"
      }
    },
    {
      "cell_type": "code",
      "source": [
        "''' import matplotlib.pyplot as plt\n",
        "fig = plt.figure()\n",
        "ax = fig.add_subplot(111)\n",
        "ax.hist(df['age'], bins = 12)\n",
        "plt.xticks(range(0,121,10))\n",
        "plt.show() '''"
      ],
      "metadata": {
        "id": "E7rKE2hNrzRC"
      },
      "execution_count": null,
      "outputs": []
    },
    {
      "cell_type": "markdown",
      "source": [
        "## export Data"
      ],
      "metadata": {
        "id": "jQ9NminnfYJI"
      }
    },
    {
      "cell_type": "code",
      "source": [
        "''' from google.colab import files\n",
        "df.to_csv('datacovid.csv') \n",
        "files.download('datacovid.csv') '''"
      ],
      "metadata": {
        "id": "L5ItSuQdZb4-"
      },
      "execution_count": null,
      "outputs": []
    },
    {
      "cell_type": "code",
      "source": [
        ""
      ],
      "metadata": {
        "id": "Vrw_2TkKaeuc"
      },
      "execution_count": null,
      "outputs": []
    }
  ]
}