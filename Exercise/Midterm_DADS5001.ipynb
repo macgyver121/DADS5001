{
  "nbformat": 4,
  "nbformat_minor": 0,
  "metadata": {
    "colab": {
      "name": "Midterm_DADS5001.ipynb",
      "provenance": [],
      "toc_visible": true,
      "mount_file_id": "https://github.com/macgyver121/DADS5001/blob/main/Exercise/Midterm_DADS5001.ipynb",
      "authorship_tag": "ABX9TyPYGq/tfJ6LwciN+M2BDKH+",
      "include_colab_link": true
    },
    "kernelspec": {
      "name": "python3",
      "display_name": "Python 3"
    },
    "language_info": {
      "name": "python"
    }
  },
  "cells": [
    {
      "cell_type": "markdown",
      "metadata": {
        "id": "view-in-github",
        "colab_type": "text"
      },
      "source": [
        "<a href=\"https://colab.research.google.com/github/macgyver121/DADS5001/blob/main/Exercise/Midterm_DADS5001.ipynb\" target=\"_parent\"><img src=\"https://colab.research.google.com/assets/colab-badge.svg\" alt=\"Open In Colab\"/></a>"
      ]
    },
    {
      "cell_type": "markdown",
      "source": [
        "# Question for Test"
      ],
      "metadata": {
        "id": "IHYcX1Dx04mX"
      }
    },
    {
      "cell_type": "markdown",
      "source": [
        "คำถาม\n",
        "- คนจังหวัดอะไรติดโควิดเยอะสุด 5 อันดับแรก\n",
        "- ช่วงอายุไหนติดโควิดมากที่สุด\n",
        "- ผู้ชายหรือผู้หญิงติดโควิดมากกว่ากัน\n",
        "- ความเสี่ยงที่ทำให้คนติดเชื้อ 3 อันดับแรก คืออะไร\n",
        "- จากข้อมูลเดือนไหนมีคนติดโควิดเยอะที่สุด\n",
        "- คนที่เดินทางมาจากต่างประเทศ คนประเทศอะไรติดโควิดมาจากต้นทางมากที่สุด\n"
      ],
      "metadata": {
        "id": "Uulru3yj1vF9"
      }
    },
    {
      "cell_type": "markdown",
      "source": [
        "คำถาม insight\n",
        "- ถ้าเพื่อนคุณมาจากต่างประเทศ ต้องการไปเที่ยวภาคใดภาคหนึ่งของประเทศไทย เขาควรเลือกไปเที่ยวภาคไหน ซึ่งเขาเป็นคนที่กังวลเรื่องโควิดค่อนข้างมาก\n",
        "\n",
        "- ในช่วงสงกรานต์ที่จะถึง ถ้าออกแคมเปญเรื่องโควิดได้ ควรทำอย่างไร\n",
        "ดูอายุ\n",
        "ดูว่าช่วงอายุนั้นติดจากอะไรมากที่สุด\n",
        "\n",
        "- คิดว่าตั้งแต่มีการระบาดของโรคโควิดในประเทศไทย ถ้ามีงบประมาณอยู่ก้อนนึง แล้วต้องการเพิ่มเตียงและบุคลกรณ์ทางการแพทย์ให้จังหวัดใดจังหวัดนึงได้ ควรเพิ่มในจังหวัดไหนมากที่สุด"
      ],
      "metadata": {
        "id": "hJadQGTSZs8i"
      }
    },
    {
      "cell_type": "code",
      "source": [
        ""
      ],
      "metadata": {
        "id": "BjUPBUQC04V4"
      },
      "execution_count": null,
      "outputs": []
    },
    {
      "cell_type": "markdown",
      "source": [
        "# Data preparation"
      ],
      "metadata": {
        "id": "KH6N_qKq08Ej"
      }
    },
    {
      "cell_type": "markdown",
      "source": [
        "## Import Data"
      ],
      "metadata": {
        "id": "AWNnUk6ze_TI"
      }
    },
    {
      "cell_type": "code",
      "source": [
        "from google.colab import drive\n",
        "drive.mount('/content/drive')"
      ],
      "metadata": {
        "colab": {
          "base_uri": "https://localhost:8080/"
        },
        "id": "nMhlNAmHVKGn",
        "outputId": "7af6aa31-a27f-44b2-b198-35fece6c1ea4"
      },
      "execution_count": 1,
      "outputs": [
        {
          "output_type": "stream",
          "name": "stdout",
          "text": [
            "Drive already mounted at /content/drive; to attempt to forcibly remount, call drive.mount(\"/content/drive\", force_remount=True).\n"
          ]
        }
      ]
    },
    {
      "cell_type": "code",
      "source": [
        "!pwd"
      ],
      "metadata": {
        "colab": {
          "base_uri": "https://localhost:8080/"
        },
        "id": "QweTIvN2VKtU",
        "outputId": "64ed19ef-1ed1-4271-fac9-7c2303b1c1bb"
      },
      "execution_count": 2,
      "outputs": [
        {
          "output_type": "stream",
          "name": "stdout",
          "text": [
            "/content\n"
          ]
        }
      ]
    },
    {
      "cell_type": "code",
      "source": [
        "import pandas as pd\n",
        "import numpy as np\n",
        "import matplotlib.pyplot as plt"
      ],
      "metadata": {
        "id": "QDatad5QVnGW"
      },
      "execution_count": 3,
      "outputs": []
    },
    {
      "cell_type": "code",
      "source": [
        "df1 = pd.read_csv('/content/drive/MyDrive/DADS/DADS5001/confirmed-cases.csv')\n",
        "df2 = pd.read_csv('/content/drive/MyDrive/DADS/DADS5001/confirmed-cases-since-120864.csv')\n",
        "df3 = pd.read_csv('/content/drive/MyDrive/DADS/DADS5001/confirmed-cases-since-271064.csv')\n",
        "df4 = pd.read_csv('/content/drive/MyDrive/DADS/DADS5001/confirmed-cases-since-280265.csv')"
      ],
      "metadata": {
        "colab": {
          "base_uri": "https://localhost:8080/"
        },
        "id": "gt0kI9dtVqUE",
        "outputId": "bf41c765-d3bc-4464-e566-475fbc781eca"
      },
      "execution_count": 4,
      "outputs": [
        {
          "output_type": "stream",
          "name": "stderr",
          "text": [
            "/usr/local/lib/python3.7/dist-packages/IPython/core/interactiveshell.py:2882: DtypeWarning: Columns (4) have mixed types.Specify dtype option on import or set low_memory=False.\n",
            "  exec(code_obj, self.user_global_ns, self.user_ns)\n"
          ]
        }
      ]
    },
    {
      "cell_type": "markdown",
      "source": [
        "## Check info"
      ],
      "metadata": {
        "id": "RrreAvrQfDa0"
      }
    },
    {
      "cell_type": "code",
      "source": [
        "df1.info()"
      ],
      "metadata": {
        "colab": {
          "base_uri": "https://localhost:8080/"
        },
        "id": "h9CqK5AlV1eK",
        "outputId": "a596fc2e-974f-4594-b565-6636790bd608"
      },
      "execution_count": 5,
      "outputs": [
        {
          "output_type": "stream",
          "name": "stdout",
          "text": [
            "<class 'pandas.core.frame.DataFrame'>\n",
            "RangeIndex: 839771 entries, 0 to 839770\n",
            "Data columns (total 11 columns):\n",
            " #   Column                 Non-Null Count   Dtype \n",
            "---  ------                 --------------   ----- \n",
            " 0   No.                    839771 non-null  int64 \n",
            " 1   announce_date          839771 non-null  object\n",
            " 2   Notified date          836976 non-null  object\n",
            " 3   sex                    784876 non-null  object\n",
            " 4   age                    763606 non-null  object\n",
            " 5   Unit                   763746 non-null  object\n",
            " 6   nationality            755567 non-null  object\n",
            " 7   province_of_isolation  839499 non-null  object\n",
            " 8   risk                   838677 non-null  object\n",
            " 9   province_of_onset      740737 non-null  object\n",
            " 10  district_of_onset      680992 non-null  object\n",
            "dtypes: int64(1), object(10)\n",
            "memory usage: 70.5+ MB\n"
          ]
        }
      ]
    },
    {
      "cell_type": "code",
      "source": [
        "print(df1['No.'].count() + df2['No.'].count() + df3['No.'].count() + df4['No.'].count())"
      ],
      "metadata": {
        "colab": {
          "base_uri": "https://localhost:8080/"
        },
        "id": "1K08TMphW97d",
        "outputId": "b49ddcfb-0ce0-48a5-bc3d-63c130d65d2c"
      },
      "execution_count": 6,
      "outputs": [
        {
          "output_type": "stream",
          "name": "stdout",
          "text": [
            "3111655\n"
          ]
        }
      ]
    },
    {
      "cell_type": "markdown",
      "source": [
        "## Concatinate Data Frame"
      ],
      "metadata": {
        "id": "KRz4Pl1Us3RW"
      }
    },
    {
      "cell_type": "code",
      "source": [
        "df = df1.append((df2,df3,df4))"
      ],
      "metadata": {
        "id": "qzuU9NmxWYnO"
      },
      "execution_count": 7,
      "outputs": []
    },
    {
      "cell_type": "code",
      "source": [
        "df.info()"
      ],
      "metadata": {
        "colab": {
          "base_uri": "https://localhost:8080/"
        },
        "id": "dUDSpAxuW3HF",
        "outputId": "db64288d-d85d-4a04-9c4a-a9b53bd86195"
      },
      "execution_count": 8,
      "outputs": [
        {
          "output_type": "stream",
          "name": "stdout",
          "text": [
            "<class 'pandas.core.frame.DataFrame'>\n",
            "Int64Index: 3111655 entries, 0 to 219256\n",
            "Data columns (total 12 columns):\n",
            " #   Column                 Dtype  \n",
            "---  ------                 -----  \n",
            " 0   No.                    int64  \n",
            " 1   announce_date          object \n",
            " 2   Notified date          object \n",
            " 3   sex                    object \n",
            " 4   age                    object \n",
            " 5   Unit                   object \n",
            " 6   nationality            object \n",
            " 7   province_of_isolation  object \n",
            " 8   risk                   object \n",
            " 9   province_of_onset      object \n",
            " 10  district_of_onset      object \n",
            " 11  Unnamed: 11            float64\n",
            "dtypes: float64(1), int64(1), object(10)\n",
            "memory usage: 308.6+ MB\n"
          ]
        }
      ]
    },
    {
      "cell_type": "code",
      "source": [
        "df.tail(5)"
      ],
      "metadata": {
        "colab": {
          "base_uri": "https://localhost:8080/",
          "height": 0
        },
        "id": "4Pwaa0_cYBNb",
        "outputId": "103e9790-d2fa-4c3b-ff51-e4622a954a2c"
      },
      "execution_count": 9,
      "outputs": [
        {
          "output_type": "execute_result",
          "data": {
            "text/plain": [
              "            No. announce_date Notified date  sex   age Unit nationality  \\\n",
              "219252  3088869      9/3/2022      8/3/2022  ชาย   NaN  NaN    Thailand   \n",
              "219253  3088870      9/3/2022      8/3/2022  ชาย   NaN  NaN     Burmese   \n",
              "219254  3088871      9/3/2022      8/3/2022  ชาย   NaN  NaN    Thailand   \n",
              "219255  3088872      9/3/2022      8/3/2022  ชาย   NaN  NaN    Thailand   \n",
              "219256  3088873      9/3/2022      8/3/2022  ชาย  29.0   ปี     Burmese   \n",
              "\n",
              "       province_of_isolation              risk province_of_onset  \\\n",
              "219252                นครพนม  ทัณฑสถาน/เรือนจำ               NaN   \n",
              "219253             เชียงใหม่  ทัณฑสถาน/เรือนจำ               NaN   \n",
              "219254             เชียงใหม่  ทัณฑสถาน/เรือนจำ               NaN   \n",
              "219255             เชียงใหม่  ทัณฑสถาน/เรือนจำ               NaN   \n",
              "219256                   ตาก  ทัณฑสถาน/เรือนจำ               NaN   \n",
              "\n",
              "       district_of_onset  Unnamed: 11  \n",
              "219252               NaN          NaN  \n",
              "219253               NaN          NaN  \n",
              "219254               NaN          NaN  \n",
              "219255               NaN          NaN  \n",
              "219256               NaN          NaN  "
            ],
            "text/html": [
              "\n",
              "  <div id=\"df-fc5b1956-fba2-49e2-9c30-dbba5831d254\">\n",
              "    <div class=\"colab-df-container\">\n",
              "      <div>\n",
              "<style scoped>\n",
              "    .dataframe tbody tr th:only-of-type {\n",
              "        vertical-align: middle;\n",
              "    }\n",
              "\n",
              "    .dataframe tbody tr th {\n",
              "        vertical-align: top;\n",
              "    }\n",
              "\n",
              "    .dataframe thead th {\n",
              "        text-align: right;\n",
              "    }\n",
              "</style>\n",
              "<table border=\"1\" class=\"dataframe\">\n",
              "  <thead>\n",
              "    <tr style=\"text-align: right;\">\n",
              "      <th></th>\n",
              "      <th>No.</th>\n",
              "      <th>announce_date</th>\n",
              "      <th>Notified date</th>\n",
              "      <th>sex</th>\n",
              "      <th>age</th>\n",
              "      <th>Unit</th>\n",
              "      <th>nationality</th>\n",
              "      <th>province_of_isolation</th>\n",
              "      <th>risk</th>\n",
              "      <th>province_of_onset</th>\n",
              "      <th>district_of_onset</th>\n",
              "      <th>Unnamed: 11</th>\n",
              "    </tr>\n",
              "  </thead>\n",
              "  <tbody>\n",
              "    <tr>\n",
              "      <th>219252</th>\n",
              "      <td>3088869</td>\n",
              "      <td>9/3/2022</td>\n",
              "      <td>8/3/2022</td>\n",
              "      <td>ชาย</td>\n",
              "      <td>NaN</td>\n",
              "      <td>NaN</td>\n",
              "      <td>Thailand</td>\n",
              "      <td>นครพนม</td>\n",
              "      <td>ทัณฑสถาน/เรือนจำ</td>\n",
              "      <td>NaN</td>\n",
              "      <td>NaN</td>\n",
              "      <td>NaN</td>\n",
              "    </tr>\n",
              "    <tr>\n",
              "      <th>219253</th>\n",
              "      <td>3088870</td>\n",
              "      <td>9/3/2022</td>\n",
              "      <td>8/3/2022</td>\n",
              "      <td>ชาย</td>\n",
              "      <td>NaN</td>\n",
              "      <td>NaN</td>\n",
              "      <td>Burmese</td>\n",
              "      <td>เชียงใหม่</td>\n",
              "      <td>ทัณฑสถาน/เรือนจำ</td>\n",
              "      <td>NaN</td>\n",
              "      <td>NaN</td>\n",
              "      <td>NaN</td>\n",
              "    </tr>\n",
              "    <tr>\n",
              "      <th>219254</th>\n",
              "      <td>3088871</td>\n",
              "      <td>9/3/2022</td>\n",
              "      <td>8/3/2022</td>\n",
              "      <td>ชาย</td>\n",
              "      <td>NaN</td>\n",
              "      <td>NaN</td>\n",
              "      <td>Thailand</td>\n",
              "      <td>เชียงใหม่</td>\n",
              "      <td>ทัณฑสถาน/เรือนจำ</td>\n",
              "      <td>NaN</td>\n",
              "      <td>NaN</td>\n",
              "      <td>NaN</td>\n",
              "    </tr>\n",
              "    <tr>\n",
              "      <th>219255</th>\n",
              "      <td>3088872</td>\n",
              "      <td>9/3/2022</td>\n",
              "      <td>8/3/2022</td>\n",
              "      <td>ชาย</td>\n",
              "      <td>NaN</td>\n",
              "      <td>NaN</td>\n",
              "      <td>Thailand</td>\n",
              "      <td>เชียงใหม่</td>\n",
              "      <td>ทัณฑสถาน/เรือนจำ</td>\n",
              "      <td>NaN</td>\n",
              "      <td>NaN</td>\n",
              "      <td>NaN</td>\n",
              "    </tr>\n",
              "    <tr>\n",
              "      <th>219256</th>\n",
              "      <td>3088873</td>\n",
              "      <td>9/3/2022</td>\n",
              "      <td>8/3/2022</td>\n",
              "      <td>ชาย</td>\n",
              "      <td>29.0</td>\n",
              "      <td>ปี</td>\n",
              "      <td>Burmese</td>\n",
              "      <td>ตาก</td>\n",
              "      <td>ทัณฑสถาน/เรือนจำ</td>\n",
              "      <td>NaN</td>\n",
              "      <td>NaN</td>\n",
              "      <td>NaN</td>\n",
              "    </tr>\n",
              "  </tbody>\n",
              "</table>\n",
              "</div>\n",
              "      <button class=\"colab-df-convert\" onclick=\"convertToInteractive('df-fc5b1956-fba2-49e2-9c30-dbba5831d254')\"\n",
              "              title=\"Convert this dataframe to an interactive table.\"\n",
              "              style=\"display:none;\">\n",
              "        \n",
              "  <svg xmlns=\"http://www.w3.org/2000/svg\" height=\"24px\"viewBox=\"0 0 24 24\"\n",
              "       width=\"24px\">\n",
              "    <path d=\"M0 0h24v24H0V0z\" fill=\"none\"/>\n",
              "    <path d=\"M18.56 5.44l.94 2.06.94-2.06 2.06-.94-2.06-.94-.94-2.06-.94 2.06-2.06.94zm-11 1L8.5 8.5l.94-2.06 2.06-.94-2.06-.94L8.5 2.5l-.94 2.06-2.06.94zm10 10l.94 2.06.94-2.06 2.06-.94-2.06-.94-.94-2.06-.94 2.06-2.06.94z\"/><path d=\"M17.41 7.96l-1.37-1.37c-.4-.4-.92-.59-1.43-.59-.52 0-1.04.2-1.43.59L10.3 9.45l-7.72 7.72c-.78.78-.78 2.05 0 2.83L4 21.41c.39.39.9.59 1.41.59.51 0 1.02-.2 1.41-.59l7.78-7.78 2.81-2.81c.8-.78.8-2.07 0-2.86zM5.41 20L4 18.59l7.72-7.72 1.47 1.35L5.41 20z\"/>\n",
              "  </svg>\n",
              "      </button>\n",
              "      \n",
              "  <style>\n",
              "    .colab-df-container {\n",
              "      display:flex;\n",
              "      flex-wrap:wrap;\n",
              "      gap: 12px;\n",
              "    }\n",
              "\n",
              "    .colab-df-convert {\n",
              "      background-color: #E8F0FE;\n",
              "      border: none;\n",
              "      border-radius: 50%;\n",
              "      cursor: pointer;\n",
              "      display: none;\n",
              "      fill: #1967D2;\n",
              "      height: 32px;\n",
              "      padding: 0 0 0 0;\n",
              "      width: 32px;\n",
              "    }\n",
              "\n",
              "    .colab-df-convert:hover {\n",
              "      background-color: #E2EBFA;\n",
              "      box-shadow: 0px 1px 2px rgba(60, 64, 67, 0.3), 0px 1px 3px 1px rgba(60, 64, 67, 0.15);\n",
              "      fill: #174EA6;\n",
              "    }\n",
              "\n",
              "    [theme=dark] .colab-df-convert {\n",
              "      background-color: #3B4455;\n",
              "      fill: #D2E3FC;\n",
              "    }\n",
              "\n",
              "    [theme=dark] .colab-df-convert:hover {\n",
              "      background-color: #434B5C;\n",
              "      box-shadow: 0px 1px 3px 1px rgba(0, 0, 0, 0.15);\n",
              "      filter: drop-shadow(0px 1px 2px rgba(0, 0, 0, 0.3));\n",
              "      fill: #FFFFFF;\n",
              "    }\n",
              "  </style>\n",
              "\n",
              "      <script>\n",
              "        const buttonEl =\n",
              "          document.querySelector('#df-fc5b1956-fba2-49e2-9c30-dbba5831d254 button.colab-df-convert');\n",
              "        buttonEl.style.display =\n",
              "          google.colab.kernel.accessAllowed ? 'block' : 'none';\n",
              "\n",
              "        async function convertToInteractive(key) {\n",
              "          const element = document.querySelector('#df-fc5b1956-fba2-49e2-9c30-dbba5831d254');\n",
              "          const dataTable =\n",
              "            await google.colab.kernel.invokeFunction('convertToInteractive',\n",
              "                                                     [key], {});\n",
              "          if (!dataTable) return;\n",
              "\n",
              "          const docLinkHtml = 'Like what you see? Visit the ' +\n",
              "            '<a target=\"_blank\" href=https://colab.research.google.com/notebooks/data_table.ipynb>data table notebook</a>'\n",
              "            + ' to learn more about interactive tables.';\n",
              "          element.innerHTML = '';\n",
              "          dataTable['output_type'] = 'display_data';\n",
              "          await google.colab.output.renderOutput(dataTable, element);\n",
              "          const docLink = document.createElement('div');\n",
              "          docLink.innerHTML = docLinkHtml;\n",
              "          element.appendChild(docLink);\n",
              "        }\n",
              "      </script>\n",
              "    </div>\n",
              "  </div>\n",
              "  "
            ]
          },
          "metadata": {},
          "execution_count": 9
        }
      ]
    },
    {
      "cell_type": "markdown",
      "source": [
        "## Delete unused column"
      ],
      "metadata": {
        "id": "w_yzGrx7fL2L"
      }
    },
    {
      "cell_type": "code",
      "source": [
        "del df['index']"
      ],
      "metadata": {
        "id": "Go0Yc-lsXkhg"
      },
      "execution_count": 12,
      "outputs": []
    },
    {
      "cell_type": "code",
      "source": [
        "del df['Unnamed: 11']"
      ],
      "metadata": {
        "id": "ZwtrR-arY9AC"
      },
      "execution_count": 13,
      "outputs": []
    },
    {
      "cell_type": "code",
      "source": [
        "df.tail(5)"
      ],
      "metadata": {
        "colab": {
          "base_uri": "https://localhost:8080/",
          "height": 354
        },
        "id": "2cmaOYqLYe18",
        "outputId": "0d9f38fe-550c-4c82-cc87-1749a32f7968"
      },
      "execution_count": 14,
      "outputs": [
        {
          "output_type": "execute_result",
          "data": {
            "text/plain": [
              "             No. announce_date Notified date  sex   age Unit nationality  \\\n",
              "3111650  3088869      9/3/2022      8/3/2022  ชาย   NaN  NaN    Thailand   \n",
              "3111651  3088870      9/3/2022      8/3/2022  ชาย   NaN  NaN     Burmese   \n",
              "3111652  3088871      9/3/2022      8/3/2022  ชาย   NaN  NaN    Thailand   \n",
              "3111653  3088872      9/3/2022      8/3/2022  ชาย   NaN  NaN    Thailand   \n",
              "3111654  3088873      9/3/2022      8/3/2022  ชาย  29.0   ปี     Burmese   \n",
              "\n",
              "        province_of_isolation              risk province_of_onset  \\\n",
              "3111650                นครพนม  ทัณฑสถาน/เรือนจำ               NaN   \n",
              "3111651             เชียงใหม่  ทัณฑสถาน/เรือนจำ               NaN   \n",
              "3111652             เชียงใหม่  ทัณฑสถาน/เรือนจำ               NaN   \n",
              "3111653             เชียงใหม่  ทัณฑสถาน/เรือนจำ               NaN   \n",
              "3111654                   ตาก  ทัณฑสถาน/เรือนจำ               NaN   \n",
              "\n",
              "        district_of_onset  \n",
              "3111650               NaN  \n",
              "3111651               NaN  \n",
              "3111652               NaN  \n",
              "3111653               NaN  \n",
              "3111654               NaN  "
            ],
            "text/html": [
              "\n",
              "  <div id=\"df-59c40c00-3936-4597-981b-b3e8f3ce6ca1\">\n",
              "    <div class=\"colab-df-container\">\n",
              "      <div>\n",
              "<style scoped>\n",
              "    .dataframe tbody tr th:only-of-type {\n",
              "        vertical-align: middle;\n",
              "    }\n",
              "\n",
              "    .dataframe tbody tr th {\n",
              "        vertical-align: top;\n",
              "    }\n",
              "\n",
              "    .dataframe thead th {\n",
              "        text-align: right;\n",
              "    }\n",
              "</style>\n",
              "<table border=\"1\" class=\"dataframe\">\n",
              "  <thead>\n",
              "    <tr style=\"text-align: right;\">\n",
              "      <th></th>\n",
              "      <th>No.</th>\n",
              "      <th>announce_date</th>\n",
              "      <th>Notified date</th>\n",
              "      <th>sex</th>\n",
              "      <th>age</th>\n",
              "      <th>Unit</th>\n",
              "      <th>nationality</th>\n",
              "      <th>province_of_isolation</th>\n",
              "      <th>risk</th>\n",
              "      <th>province_of_onset</th>\n",
              "      <th>district_of_onset</th>\n",
              "    </tr>\n",
              "  </thead>\n",
              "  <tbody>\n",
              "    <tr>\n",
              "      <th>3111650</th>\n",
              "      <td>3088869</td>\n",
              "      <td>9/3/2022</td>\n",
              "      <td>8/3/2022</td>\n",
              "      <td>ชาย</td>\n",
              "      <td>NaN</td>\n",
              "      <td>NaN</td>\n",
              "      <td>Thailand</td>\n",
              "      <td>นครพนม</td>\n",
              "      <td>ทัณฑสถาน/เรือนจำ</td>\n",
              "      <td>NaN</td>\n",
              "      <td>NaN</td>\n",
              "    </tr>\n",
              "    <tr>\n",
              "      <th>3111651</th>\n",
              "      <td>3088870</td>\n",
              "      <td>9/3/2022</td>\n",
              "      <td>8/3/2022</td>\n",
              "      <td>ชาย</td>\n",
              "      <td>NaN</td>\n",
              "      <td>NaN</td>\n",
              "      <td>Burmese</td>\n",
              "      <td>เชียงใหม่</td>\n",
              "      <td>ทัณฑสถาน/เรือนจำ</td>\n",
              "      <td>NaN</td>\n",
              "      <td>NaN</td>\n",
              "    </tr>\n",
              "    <tr>\n",
              "      <th>3111652</th>\n",
              "      <td>3088871</td>\n",
              "      <td>9/3/2022</td>\n",
              "      <td>8/3/2022</td>\n",
              "      <td>ชาย</td>\n",
              "      <td>NaN</td>\n",
              "      <td>NaN</td>\n",
              "      <td>Thailand</td>\n",
              "      <td>เชียงใหม่</td>\n",
              "      <td>ทัณฑสถาน/เรือนจำ</td>\n",
              "      <td>NaN</td>\n",
              "      <td>NaN</td>\n",
              "    </tr>\n",
              "    <tr>\n",
              "      <th>3111653</th>\n",
              "      <td>3088872</td>\n",
              "      <td>9/3/2022</td>\n",
              "      <td>8/3/2022</td>\n",
              "      <td>ชาย</td>\n",
              "      <td>NaN</td>\n",
              "      <td>NaN</td>\n",
              "      <td>Thailand</td>\n",
              "      <td>เชียงใหม่</td>\n",
              "      <td>ทัณฑสถาน/เรือนจำ</td>\n",
              "      <td>NaN</td>\n",
              "      <td>NaN</td>\n",
              "    </tr>\n",
              "    <tr>\n",
              "      <th>3111654</th>\n",
              "      <td>3088873</td>\n",
              "      <td>9/3/2022</td>\n",
              "      <td>8/3/2022</td>\n",
              "      <td>ชาย</td>\n",
              "      <td>29.0</td>\n",
              "      <td>ปี</td>\n",
              "      <td>Burmese</td>\n",
              "      <td>ตาก</td>\n",
              "      <td>ทัณฑสถาน/เรือนจำ</td>\n",
              "      <td>NaN</td>\n",
              "      <td>NaN</td>\n",
              "    </tr>\n",
              "  </tbody>\n",
              "</table>\n",
              "</div>\n",
              "      <button class=\"colab-df-convert\" onclick=\"convertToInteractive('df-59c40c00-3936-4597-981b-b3e8f3ce6ca1')\"\n",
              "              title=\"Convert this dataframe to an interactive table.\"\n",
              "              style=\"display:none;\">\n",
              "        \n",
              "  <svg xmlns=\"http://www.w3.org/2000/svg\" height=\"24px\"viewBox=\"0 0 24 24\"\n",
              "       width=\"24px\">\n",
              "    <path d=\"M0 0h24v24H0V0z\" fill=\"none\"/>\n",
              "    <path d=\"M18.56 5.44l.94 2.06.94-2.06 2.06-.94-2.06-.94-.94-2.06-.94 2.06-2.06.94zm-11 1L8.5 8.5l.94-2.06 2.06-.94-2.06-.94L8.5 2.5l-.94 2.06-2.06.94zm10 10l.94 2.06.94-2.06 2.06-.94-2.06-.94-.94-2.06-.94 2.06-2.06.94z\"/><path d=\"M17.41 7.96l-1.37-1.37c-.4-.4-.92-.59-1.43-.59-.52 0-1.04.2-1.43.59L10.3 9.45l-7.72 7.72c-.78.78-.78 2.05 0 2.83L4 21.41c.39.39.9.59 1.41.59.51 0 1.02-.2 1.41-.59l7.78-7.78 2.81-2.81c.8-.78.8-2.07 0-2.86zM5.41 20L4 18.59l7.72-7.72 1.47 1.35L5.41 20z\"/>\n",
              "  </svg>\n",
              "      </button>\n",
              "      \n",
              "  <style>\n",
              "    .colab-df-container {\n",
              "      display:flex;\n",
              "      flex-wrap:wrap;\n",
              "      gap: 12px;\n",
              "    }\n",
              "\n",
              "    .colab-df-convert {\n",
              "      background-color: #E8F0FE;\n",
              "      border: none;\n",
              "      border-radius: 50%;\n",
              "      cursor: pointer;\n",
              "      display: none;\n",
              "      fill: #1967D2;\n",
              "      height: 32px;\n",
              "      padding: 0 0 0 0;\n",
              "      width: 32px;\n",
              "    }\n",
              "\n",
              "    .colab-df-convert:hover {\n",
              "      background-color: #E2EBFA;\n",
              "      box-shadow: 0px 1px 2px rgba(60, 64, 67, 0.3), 0px 1px 3px 1px rgba(60, 64, 67, 0.15);\n",
              "      fill: #174EA6;\n",
              "    }\n",
              "\n",
              "    [theme=dark] .colab-df-convert {\n",
              "      background-color: #3B4455;\n",
              "      fill: #D2E3FC;\n",
              "    }\n",
              "\n",
              "    [theme=dark] .colab-df-convert:hover {\n",
              "      background-color: #434B5C;\n",
              "      box-shadow: 0px 1px 3px 1px rgba(0, 0, 0, 0.15);\n",
              "      filter: drop-shadow(0px 1px 2px rgba(0, 0, 0, 0.3));\n",
              "      fill: #FFFFFF;\n",
              "    }\n",
              "  </style>\n",
              "\n",
              "      <script>\n",
              "        const buttonEl =\n",
              "          document.querySelector('#df-59c40c00-3936-4597-981b-b3e8f3ce6ca1 button.colab-df-convert');\n",
              "        buttonEl.style.display =\n",
              "          google.colab.kernel.accessAllowed ? 'block' : 'none';\n",
              "\n",
              "        async function convertToInteractive(key) {\n",
              "          const element = document.querySelector('#df-59c40c00-3936-4597-981b-b3e8f3ce6ca1');\n",
              "          const dataTable =\n",
              "            await google.colab.kernel.invokeFunction('convertToInteractive',\n",
              "                                                     [key], {});\n",
              "          if (!dataTable) return;\n",
              "\n",
              "          const docLinkHtml = 'Like what you see? Visit the ' +\n",
              "            '<a target=\"_blank\" href=https://colab.research.google.com/notebooks/data_table.ipynb>data table notebook</a>'\n",
              "            + ' to learn more about interactive tables.';\n",
              "          element.innerHTML = '';\n",
              "          dataTable['output_type'] = 'display_data';\n",
              "          await google.colab.output.renderOutput(dataTable, element);\n",
              "          const docLink = document.createElement('div');\n",
              "          docLink.innerHTML = docLinkHtml;\n",
              "          element.appendChild(docLink);\n",
              "        }\n",
              "      </script>\n",
              "    </div>\n",
              "  </div>\n",
              "  "
            ]
          },
          "metadata": {},
          "execution_count": 14
        }
      ]
    },
    {
      "cell_type": "markdown",
      "source": [
        "## Reset index"
      ],
      "metadata": {
        "id": "GLSzzuewtC-9"
      }
    },
    {
      "cell_type": "code",
      "source": [
        "df = df.reset_index()"
      ],
      "metadata": {
        "id": "6YKsMHHwWxUj"
      },
      "execution_count": 15,
      "outputs": []
    },
    {
      "cell_type": "code",
      "source": [
        "df.tail(5)"
      ],
      "metadata": {
        "colab": {
          "base_uri": "https://localhost:8080/",
          "height": 374
        },
        "id": "RSL9p7YuXiqU",
        "outputId": "6e42dff6-8d87-4cfa-bf86-7bd2a4b41971"
      },
      "execution_count": 16,
      "outputs": [
        {
          "output_type": "execute_result",
          "data": {
            "text/plain": [
              "           index      No. announce_date Notified date  sex   age Unit  \\\n",
              "3111650  3111650  3088869      9/3/2022      8/3/2022  ชาย   NaN  NaN   \n",
              "3111651  3111651  3088870      9/3/2022      8/3/2022  ชาย   NaN  NaN   \n",
              "3111652  3111652  3088871      9/3/2022      8/3/2022  ชาย   NaN  NaN   \n",
              "3111653  3111653  3088872      9/3/2022      8/3/2022  ชาย   NaN  NaN   \n",
              "3111654  3111654  3088873      9/3/2022      8/3/2022  ชาย  29.0   ปี   \n",
              "\n",
              "        nationality province_of_isolation              risk province_of_onset  \\\n",
              "3111650    Thailand                นครพนม  ทัณฑสถาน/เรือนจำ               NaN   \n",
              "3111651     Burmese             เชียงใหม่  ทัณฑสถาน/เรือนจำ               NaN   \n",
              "3111652    Thailand             เชียงใหม่  ทัณฑสถาน/เรือนจำ               NaN   \n",
              "3111653    Thailand             เชียงใหม่  ทัณฑสถาน/เรือนจำ               NaN   \n",
              "3111654     Burmese                   ตาก  ทัณฑสถาน/เรือนจำ               NaN   \n",
              "\n",
              "        district_of_onset  \n",
              "3111650               NaN  \n",
              "3111651               NaN  \n",
              "3111652               NaN  \n",
              "3111653               NaN  \n",
              "3111654               NaN  "
            ],
            "text/html": [
              "\n",
              "  <div id=\"df-3ff3655f-ef8a-4fd7-b35f-0fa67d50c826\">\n",
              "    <div class=\"colab-df-container\">\n",
              "      <div>\n",
              "<style scoped>\n",
              "    .dataframe tbody tr th:only-of-type {\n",
              "        vertical-align: middle;\n",
              "    }\n",
              "\n",
              "    .dataframe tbody tr th {\n",
              "        vertical-align: top;\n",
              "    }\n",
              "\n",
              "    .dataframe thead th {\n",
              "        text-align: right;\n",
              "    }\n",
              "</style>\n",
              "<table border=\"1\" class=\"dataframe\">\n",
              "  <thead>\n",
              "    <tr style=\"text-align: right;\">\n",
              "      <th></th>\n",
              "      <th>index</th>\n",
              "      <th>No.</th>\n",
              "      <th>announce_date</th>\n",
              "      <th>Notified date</th>\n",
              "      <th>sex</th>\n",
              "      <th>age</th>\n",
              "      <th>Unit</th>\n",
              "      <th>nationality</th>\n",
              "      <th>province_of_isolation</th>\n",
              "      <th>risk</th>\n",
              "      <th>province_of_onset</th>\n",
              "      <th>district_of_onset</th>\n",
              "    </tr>\n",
              "  </thead>\n",
              "  <tbody>\n",
              "    <tr>\n",
              "      <th>3111650</th>\n",
              "      <td>3111650</td>\n",
              "      <td>3088869</td>\n",
              "      <td>9/3/2022</td>\n",
              "      <td>8/3/2022</td>\n",
              "      <td>ชาย</td>\n",
              "      <td>NaN</td>\n",
              "      <td>NaN</td>\n",
              "      <td>Thailand</td>\n",
              "      <td>นครพนม</td>\n",
              "      <td>ทัณฑสถาน/เรือนจำ</td>\n",
              "      <td>NaN</td>\n",
              "      <td>NaN</td>\n",
              "    </tr>\n",
              "    <tr>\n",
              "      <th>3111651</th>\n",
              "      <td>3111651</td>\n",
              "      <td>3088870</td>\n",
              "      <td>9/3/2022</td>\n",
              "      <td>8/3/2022</td>\n",
              "      <td>ชาย</td>\n",
              "      <td>NaN</td>\n",
              "      <td>NaN</td>\n",
              "      <td>Burmese</td>\n",
              "      <td>เชียงใหม่</td>\n",
              "      <td>ทัณฑสถาน/เรือนจำ</td>\n",
              "      <td>NaN</td>\n",
              "      <td>NaN</td>\n",
              "    </tr>\n",
              "    <tr>\n",
              "      <th>3111652</th>\n",
              "      <td>3111652</td>\n",
              "      <td>3088871</td>\n",
              "      <td>9/3/2022</td>\n",
              "      <td>8/3/2022</td>\n",
              "      <td>ชาย</td>\n",
              "      <td>NaN</td>\n",
              "      <td>NaN</td>\n",
              "      <td>Thailand</td>\n",
              "      <td>เชียงใหม่</td>\n",
              "      <td>ทัณฑสถาน/เรือนจำ</td>\n",
              "      <td>NaN</td>\n",
              "      <td>NaN</td>\n",
              "    </tr>\n",
              "    <tr>\n",
              "      <th>3111653</th>\n",
              "      <td>3111653</td>\n",
              "      <td>3088872</td>\n",
              "      <td>9/3/2022</td>\n",
              "      <td>8/3/2022</td>\n",
              "      <td>ชาย</td>\n",
              "      <td>NaN</td>\n",
              "      <td>NaN</td>\n",
              "      <td>Thailand</td>\n",
              "      <td>เชียงใหม่</td>\n",
              "      <td>ทัณฑสถาน/เรือนจำ</td>\n",
              "      <td>NaN</td>\n",
              "      <td>NaN</td>\n",
              "    </tr>\n",
              "    <tr>\n",
              "      <th>3111654</th>\n",
              "      <td>3111654</td>\n",
              "      <td>3088873</td>\n",
              "      <td>9/3/2022</td>\n",
              "      <td>8/3/2022</td>\n",
              "      <td>ชาย</td>\n",
              "      <td>29.0</td>\n",
              "      <td>ปี</td>\n",
              "      <td>Burmese</td>\n",
              "      <td>ตาก</td>\n",
              "      <td>ทัณฑสถาน/เรือนจำ</td>\n",
              "      <td>NaN</td>\n",
              "      <td>NaN</td>\n",
              "    </tr>\n",
              "  </tbody>\n",
              "</table>\n",
              "</div>\n",
              "      <button class=\"colab-df-convert\" onclick=\"convertToInteractive('df-3ff3655f-ef8a-4fd7-b35f-0fa67d50c826')\"\n",
              "              title=\"Convert this dataframe to an interactive table.\"\n",
              "              style=\"display:none;\">\n",
              "        \n",
              "  <svg xmlns=\"http://www.w3.org/2000/svg\" height=\"24px\"viewBox=\"0 0 24 24\"\n",
              "       width=\"24px\">\n",
              "    <path d=\"M0 0h24v24H0V0z\" fill=\"none\"/>\n",
              "    <path d=\"M18.56 5.44l.94 2.06.94-2.06 2.06-.94-2.06-.94-.94-2.06-.94 2.06-2.06.94zm-11 1L8.5 8.5l.94-2.06 2.06-.94-2.06-.94L8.5 2.5l-.94 2.06-2.06.94zm10 10l.94 2.06.94-2.06 2.06-.94-2.06-.94-.94-2.06-.94 2.06-2.06.94z\"/><path d=\"M17.41 7.96l-1.37-1.37c-.4-.4-.92-.59-1.43-.59-.52 0-1.04.2-1.43.59L10.3 9.45l-7.72 7.72c-.78.78-.78 2.05 0 2.83L4 21.41c.39.39.9.59 1.41.59.51 0 1.02-.2 1.41-.59l7.78-7.78 2.81-2.81c.8-.78.8-2.07 0-2.86zM5.41 20L4 18.59l7.72-7.72 1.47 1.35L5.41 20z\"/>\n",
              "  </svg>\n",
              "      </button>\n",
              "      \n",
              "  <style>\n",
              "    .colab-df-container {\n",
              "      display:flex;\n",
              "      flex-wrap:wrap;\n",
              "      gap: 12px;\n",
              "    }\n",
              "\n",
              "    .colab-df-convert {\n",
              "      background-color: #E8F0FE;\n",
              "      border: none;\n",
              "      border-radius: 50%;\n",
              "      cursor: pointer;\n",
              "      display: none;\n",
              "      fill: #1967D2;\n",
              "      height: 32px;\n",
              "      padding: 0 0 0 0;\n",
              "      width: 32px;\n",
              "    }\n",
              "\n",
              "    .colab-df-convert:hover {\n",
              "      background-color: #E2EBFA;\n",
              "      box-shadow: 0px 1px 2px rgba(60, 64, 67, 0.3), 0px 1px 3px 1px rgba(60, 64, 67, 0.15);\n",
              "      fill: #174EA6;\n",
              "    }\n",
              "\n",
              "    [theme=dark] .colab-df-convert {\n",
              "      background-color: #3B4455;\n",
              "      fill: #D2E3FC;\n",
              "    }\n",
              "\n",
              "    [theme=dark] .colab-df-convert:hover {\n",
              "      background-color: #434B5C;\n",
              "      box-shadow: 0px 1px 3px 1px rgba(0, 0, 0, 0.15);\n",
              "      filter: drop-shadow(0px 1px 2px rgba(0, 0, 0, 0.3));\n",
              "      fill: #FFFFFF;\n",
              "    }\n",
              "  </style>\n",
              "\n",
              "      <script>\n",
              "        const buttonEl =\n",
              "          document.querySelector('#df-3ff3655f-ef8a-4fd7-b35f-0fa67d50c826 button.colab-df-convert');\n",
              "        buttonEl.style.display =\n",
              "          google.colab.kernel.accessAllowed ? 'block' : 'none';\n",
              "\n",
              "        async function convertToInteractive(key) {\n",
              "          const element = document.querySelector('#df-3ff3655f-ef8a-4fd7-b35f-0fa67d50c826');\n",
              "          const dataTable =\n",
              "            await google.colab.kernel.invokeFunction('convertToInteractive',\n",
              "                                                     [key], {});\n",
              "          if (!dataTable) return;\n",
              "\n",
              "          const docLinkHtml = 'Like what you see? Visit the ' +\n",
              "            '<a target=\"_blank\" href=https://colab.research.google.com/notebooks/data_table.ipynb>data table notebook</a>'\n",
              "            + ' to learn more about interactive tables.';\n",
              "          element.innerHTML = '';\n",
              "          dataTable['output_type'] = 'display_data';\n",
              "          await google.colab.output.renderOutput(dataTable, element);\n",
              "          const docLink = document.createElement('div');\n",
              "          docLink.innerHTML = docLinkHtml;\n",
              "          element.appendChild(docLink);\n",
              "        }\n",
              "      </script>\n",
              "    </div>\n",
              "  </div>\n",
              "  "
            ]
          },
          "metadata": {},
          "execution_count": 16
        }
      ]
    },
    {
      "cell_type": "markdown",
      "source": [
        "## check null"
      ],
      "metadata": {
        "id": "468tN1wSfVez"
      }
    },
    {
      "cell_type": "code",
      "source": [
        "df.isnull().sum()"
      ],
      "metadata": {
        "colab": {
          "base_uri": "https://localhost:8080/"
        },
        "id": "m1EmhcyxYdfM",
        "outputId": "1884b21a-7236-4b36-a3c4-cf72fbe3be44"
      },
      "execution_count": 17,
      "outputs": [
        {
          "output_type": "execute_result",
          "data": {
            "text/plain": [
              "index                         0\n",
              "No.                           0\n",
              "announce_date                 0\n",
              "Notified date              2795\n",
              "sex                      170589\n",
              "age                      256920\n",
              "Unit                     277092\n",
              "nationality              268489\n",
              "province_of_isolation      3956\n",
              "risk                       1174\n",
              "province_of_onset        378350\n",
              "district_of_onset        485107\n",
              "dtype: int64"
            ]
          },
          "metadata": {},
          "execution_count": 17
        }
      ]
    },
    {
      "cell_type": "markdown",
      "source": [
        "## cleaning Data [announce_date]"
      ],
      "metadata": {
        "id": "uXax-kqGsi7D"
      }
    },
    {
      "cell_type": "code",
      "source": [
        "df['announce_date'].iloc[0:3]"
      ],
      "metadata": {
        "colab": {
          "base_uri": "https://localhost:8080/"
        },
        "id": "3Pj7fhz6J0vz",
        "outputId": "444191fe-ebf4-4e25-aa79-9cfcaf1824d1"
      },
      "execution_count": 18,
      "outputs": [
        {
          "output_type": "execute_result",
          "data": {
            "text/plain": [
              "0    12/1/2020\n",
              "1    17/1/2020\n",
              "2    22/1/2020\n",
              "Name: announce_date, dtype: object"
            ]
          },
          "metadata": {},
          "execution_count": 18
        }
      ]
    },
    {
      "cell_type": "code",
      "source": [
        "df['new_date'] = pd.to_datetime(df['announce_date'], format='%d/%m/%Y')"
      ],
      "metadata": {
        "id": "CgC1e4PJJmcw"
      },
      "execution_count": 19,
      "outputs": []
    },
    {
      "cell_type": "code",
      "source": [
        "df['new_date']"
      ],
      "metadata": {
        "colab": {
          "base_uri": "https://localhost:8080/"
        },
        "id": "mKf5c-xRK4Cy",
        "outputId": "a813da4c-a7fa-4f72-cddd-c85d449e896a"
      },
      "execution_count": 20,
      "outputs": [
        {
          "output_type": "execute_result",
          "data": {
            "text/plain": [
              "0         2020-01-12\n",
              "1         2020-01-17\n",
              "2         2020-01-22\n",
              "3         2020-01-22\n",
              "4         2020-01-24\n",
              "             ...    \n",
              "3111650   2022-03-09\n",
              "3111651   2022-03-09\n",
              "3111652   2022-03-09\n",
              "3111653   2022-03-09\n",
              "3111654   2022-03-09\n",
              "Name: new_date, Length: 3111655, dtype: datetime64[ns]"
            ]
          },
          "metadata": {},
          "execution_count": 20
        }
      ]
    },
    {
      "cell_type": "code",
      "source": [
        "df['new_date'].max()"
      ],
      "metadata": {
        "colab": {
          "base_uri": "https://localhost:8080/"
        },
        "id": "n5aRnbauINox",
        "outputId": "db9cb1a4-1f1e-4868-ec6a-8cbb19c05881"
      },
      "execution_count": 21,
      "outputs": [
        {
          "output_type": "execute_result",
          "data": {
            "text/plain": [
              "Timestamp('2022-03-09 00:00:00')"
            ]
          },
          "metadata": {},
          "execution_count": 21
        }
      ]
    },
    {
      "cell_type": "code",
      "source": [
        "df['new_date'].min()"
      ],
      "metadata": {
        "colab": {
          "base_uri": "https://localhost:8080/"
        },
        "id": "y_mPPXD_LznR",
        "outputId": "54dc8466-b8fd-4989-bb91-960c329586fe"
      },
      "execution_count": 22,
      "outputs": [
        {
          "output_type": "execute_result",
          "data": {
            "text/plain": [
              "Timestamp('2020-01-12 00:00:00')"
            ]
          },
          "metadata": {},
          "execution_count": 22
        }
      ]
    },
    {
      "cell_type": "markdown",
      "source": [
        "## cleaning Data [sex]"
      ],
      "metadata": {
        "id": "f69qQcFyfc-4"
      }
    },
    {
      "cell_type": "code",
      "source": [
        "df['sex'].value_counts()"
      ],
      "metadata": {
        "colab": {
          "base_uri": "https://localhost:8080/"
        },
        "id": "VBDvSEuUe6Gk",
        "outputId": "115c091a-b5fe-4fce-830e-bf6ce5672a54"
      },
      "execution_count": 23,
      "outputs": [
        {
          "output_type": "execute_result",
          "data": {
            "text/plain": [
              "หญิง      1546128\n",
              "ชาย       1394915\n",
              "นาย             9\n",
              "หญิิง           5\n",
              "ช               3\n",
              " หญิง           1\n",
              "ร.ต.ท.          1\n",
              "หห              1\n",
              "หญง             1\n",
              "ญ               1\n",
              "หณิง            1\n",
              "Name: sex, dtype: int64"
            ]
          },
          "metadata": {},
          "execution_count": 23
        }
      ]
    },
    {
      "cell_type": "code",
      "source": [
        "df['sex'] = df['sex'].str.strip()"
      ],
      "metadata": {
        "id": "jOvcx6v8jYDk"
      },
      "execution_count": 24,
      "outputs": []
    },
    {
      "cell_type": "code",
      "source": [
        "df['sex'] = df['sex'].replace(['นาย','ช','ร.ต.ท.'], 'ชาย')"
      ],
      "metadata": {
        "id": "awIhgGYSfpQJ"
      },
      "execution_count": 25,
      "outputs": []
    },
    {
      "cell_type": "code",
      "source": [
        "df['sex'] = df['sex'].replace(['หญิิง','หห','หญง','ญ','หณิง'], 'ชาย')"
      ],
      "metadata": {
        "id": "6g5Abd1JgyyT"
      },
      "execution_count": 26,
      "outputs": []
    },
    {
      "cell_type": "code",
      "source": [
        "df['sex'].value_counts()"
      ],
      "metadata": {
        "colab": {
          "base_uri": "https://localhost:8080/"
        },
        "id": "upLO-5P1f3pV",
        "outputId": "eebeb3a9-cb43-41be-d900-eaae1950e871"
      },
      "execution_count": 27,
      "outputs": [
        {
          "output_type": "execute_result",
          "data": {
            "text/plain": [
              "หญิง    1546129\n",
              "ชาย     1394937\n",
              "Name: sex, dtype: int64"
            ]
          },
          "metadata": {},
          "execution_count": 27
        }
      ]
    },
    {
      "cell_type": "markdown",
      "source": [
        "## cleaning Data [age]"
      ],
      "metadata": {
        "id": "EN9VsmBZjnAa"
      }
    },
    {
      "cell_type": "code",
      "source": [
        "age = df['age'].unique()"
      ],
      "metadata": {
        "id": "RZlRTIlKjmUZ"
      },
      "execution_count": 28,
      "outputs": []
    },
    {
      "cell_type": "code",
      "source": [
        "df[df['age'] == '55/664']"
      ],
      "metadata": {
        "colab": {
          "base_uri": "https://localhost:8080/",
          "height": 301
        },
        "id": "Gb_OKRLdlbd3",
        "outputId": "6909c687-5bf0-4dc1-aa49-29d8252de304"
      },
      "execution_count": 29,
      "outputs": [
        {
          "output_type": "execute_result",
          "data": {
            "text/plain": [
              "         index     No. announce_date Notified date   sex     age Unit  \\\n",
              "100164  100164  100165     16/5/2021     15/5/2021  หญิง  55/664  NaN   \n",
              "\n",
              "       nationality province_of_isolation  \\\n",
              "100164    Thailand                ภูเก็ต   \n",
              "\n",
              "                                               risk province_of_onset  \\\n",
              "100164  สัมผัสใกล้ชิดกับผู้ป่วยยืนยันรายก่อนหน้านี้            ภูเก็ต   \n",
              "\n",
              "       district_of_onset   new_date  \n",
              "100164             เมือง 2021-05-16  "
            ],
            "text/html": [
              "\n",
              "  <div id=\"df-7500edd5-152a-49c9-8450-60d9388d518a\">\n",
              "    <div class=\"colab-df-container\">\n",
              "      <div>\n",
              "<style scoped>\n",
              "    .dataframe tbody tr th:only-of-type {\n",
              "        vertical-align: middle;\n",
              "    }\n",
              "\n",
              "    .dataframe tbody tr th {\n",
              "        vertical-align: top;\n",
              "    }\n",
              "\n",
              "    .dataframe thead th {\n",
              "        text-align: right;\n",
              "    }\n",
              "</style>\n",
              "<table border=\"1\" class=\"dataframe\">\n",
              "  <thead>\n",
              "    <tr style=\"text-align: right;\">\n",
              "      <th></th>\n",
              "      <th>index</th>\n",
              "      <th>No.</th>\n",
              "      <th>announce_date</th>\n",
              "      <th>Notified date</th>\n",
              "      <th>sex</th>\n",
              "      <th>age</th>\n",
              "      <th>Unit</th>\n",
              "      <th>nationality</th>\n",
              "      <th>province_of_isolation</th>\n",
              "      <th>risk</th>\n",
              "      <th>province_of_onset</th>\n",
              "      <th>district_of_onset</th>\n",
              "      <th>new_date</th>\n",
              "    </tr>\n",
              "  </thead>\n",
              "  <tbody>\n",
              "    <tr>\n",
              "      <th>100164</th>\n",
              "      <td>100164</td>\n",
              "      <td>100165</td>\n",
              "      <td>16/5/2021</td>\n",
              "      <td>15/5/2021</td>\n",
              "      <td>หญิง</td>\n",
              "      <td>55/664</td>\n",
              "      <td>NaN</td>\n",
              "      <td>Thailand</td>\n",
              "      <td>ภูเก็ต</td>\n",
              "      <td>สัมผัสใกล้ชิดกับผู้ป่วยยืนยันรายก่อนหน้านี้</td>\n",
              "      <td>ภูเก็ต</td>\n",
              "      <td>เมือง</td>\n",
              "      <td>2021-05-16</td>\n",
              "    </tr>\n",
              "  </tbody>\n",
              "</table>\n",
              "</div>\n",
              "      <button class=\"colab-df-convert\" onclick=\"convertToInteractive('df-7500edd5-152a-49c9-8450-60d9388d518a')\"\n",
              "              title=\"Convert this dataframe to an interactive table.\"\n",
              "              style=\"display:none;\">\n",
              "        \n",
              "  <svg xmlns=\"http://www.w3.org/2000/svg\" height=\"24px\"viewBox=\"0 0 24 24\"\n",
              "       width=\"24px\">\n",
              "    <path d=\"M0 0h24v24H0V0z\" fill=\"none\"/>\n",
              "    <path d=\"M18.56 5.44l.94 2.06.94-2.06 2.06-.94-2.06-.94-.94-2.06-.94 2.06-2.06.94zm-11 1L8.5 8.5l.94-2.06 2.06-.94-2.06-.94L8.5 2.5l-.94 2.06-2.06.94zm10 10l.94 2.06.94-2.06 2.06-.94-2.06-.94-.94-2.06-.94 2.06-2.06.94z\"/><path d=\"M17.41 7.96l-1.37-1.37c-.4-.4-.92-.59-1.43-.59-.52 0-1.04.2-1.43.59L10.3 9.45l-7.72 7.72c-.78.78-.78 2.05 0 2.83L4 21.41c.39.39.9.59 1.41.59.51 0 1.02-.2 1.41-.59l7.78-7.78 2.81-2.81c.8-.78.8-2.07 0-2.86zM5.41 20L4 18.59l7.72-7.72 1.47 1.35L5.41 20z\"/>\n",
              "  </svg>\n",
              "      </button>\n",
              "      \n",
              "  <style>\n",
              "    .colab-df-container {\n",
              "      display:flex;\n",
              "      flex-wrap:wrap;\n",
              "      gap: 12px;\n",
              "    }\n",
              "\n",
              "    .colab-df-convert {\n",
              "      background-color: #E8F0FE;\n",
              "      border: none;\n",
              "      border-radius: 50%;\n",
              "      cursor: pointer;\n",
              "      display: none;\n",
              "      fill: #1967D2;\n",
              "      height: 32px;\n",
              "      padding: 0 0 0 0;\n",
              "      width: 32px;\n",
              "    }\n",
              "\n",
              "    .colab-df-convert:hover {\n",
              "      background-color: #E2EBFA;\n",
              "      box-shadow: 0px 1px 2px rgba(60, 64, 67, 0.3), 0px 1px 3px 1px rgba(60, 64, 67, 0.15);\n",
              "      fill: #174EA6;\n",
              "    }\n",
              "\n",
              "    [theme=dark] .colab-df-convert {\n",
              "      background-color: #3B4455;\n",
              "      fill: #D2E3FC;\n",
              "    }\n",
              "\n",
              "    [theme=dark] .colab-df-convert:hover {\n",
              "      background-color: #434B5C;\n",
              "      box-shadow: 0px 1px 3px 1px rgba(0, 0, 0, 0.15);\n",
              "      filter: drop-shadow(0px 1px 2px rgba(0, 0, 0, 0.3));\n",
              "      fill: #FFFFFF;\n",
              "    }\n",
              "  </style>\n",
              "\n",
              "      <script>\n",
              "        const buttonEl =\n",
              "          document.querySelector('#df-7500edd5-152a-49c9-8450-60d9388d518a button.colab-df-convert');\n",
              "        buttonEl.style.display =\n",
              "          google.colab.kernel.accessAllowed ? 'block' : 'none';\n",
              "\n",
              "        async function convertToInteractive(key) {\n",
              "          const element = document.querySelector('#df-7500edd5-152a-49c9-8450-60d9388d518a');\n",
              "          const dataTable =\n",
              "            await google.colab.kernel.invokeFunction('convertToInteractive',\n",
              "                                                     [key], {});\n",
              "          if (!dataTable) return;\n",
              "\n",
              "          const docLinkHtml = 'Like what you see? Visit the ' +\n",
              "            '<a target=\"_blank\" href=https://colab.research.google.com/notebooks/data_table.ipynb>data table notebook</a>'\n",
              "            + ' to learn more about interactive tables.';\n",
              "          element.innerHTML = '';\n",
              "          dataTable['output_type'] = 'display_data';\n",
              "          await google.colab.output.renderOutput(dataTable, element);\n",
              "          const docLink = document.createElement('div');\n",
              "          docLink.innerHTML = docLinkHtml;\n",
              "          element.appendChild(docLink);\n",
              "        }\n",
              "      </script>\n",
              "    </div>\n",
              "  </div>\n",
              "  "
            ]
          },
          "metadata": {},
          "execution_count": 29
        }
      ]
    },
    {
      "cell_type": "code",
      "source": [
        "df[df['age'] == '35/11']"
      ],
      "metadata": {
        "colab": {
          "base_uri": "https://localhost:8080/",
          "height": 214
        },
        "id": "40CflullmlQ1",
        "outputId": "c112140b-7efd-4db1-f2c0-4117b3b53fbf"
      },
      "execution_count": 30,
      "outputs": [
        {
          "output_type": "execute_result",
          "data": {
            "text/plain": [
              "           index      No. announce_date Notified date   sex    age Unit  \\\n",
              "2620435  2620435  2597654     14/2/2022     13/2/2022  หญิง  35/11  NaN   \n",
              "\n",
              "        nationality province_of_isolation                  risk  \\\n",
              "2620435    Thailand       ประจวบคีรีขันธ์  อยู่ระหว่างการสอบสวน   \n",
              "\n",
              "        province_of_onset district_of_onset   new_date  \n",
              "2620435   ประจวบคีรีขันธ์          บางสะพาน 2022-02-14  "
            ],
            "text/html": [
              "\n",
              "  <div id=\"df-bd9484bf-a2b6-4c7a-91b1-02be6da94824\">\n",
              "    <div class=\"colab-df-container\">\n",
              "      <div>\n",
              "<style scoped>\n",
              "    .dataframe tbody tr th:only-of-type {\n",
              "        vertical-align: middle;\n",
              "    }\n",
              "\n",
              "    .dataframe tbody tr th {\n",
              "        vertical-align: top;\n",
              "    }\n",
              "\n",
              "    .dataframe thead th {\n",
              "        text-align: right;\n",
              "    }\n",
              "</style>\n",
              "<table border=\"1\" class=\"dataframe\">\n",
              "  <thead>\n",
              "    <tr style=\"text-align: right;\">\n",
              "      <th></th>\n",
              "      <th>index</th>\n",
              "      <th>No.</th>\n",
              "      <th>announce_date</th>\n",
              "      <th>Notified date</th>\n",
              "      <th>sex</th>\n",
              "      <th>age</th>\n",
              "      <th>Unit</th>\n",
              "      <th>nationality</th>\n",
              "      <th>province_of_isolation</th>\n",
              "      <th>risk</th>\n",
              "      <th>province_of_onset</th>\n",
              "      <th>district_of_onset</th>\n",
              "      <th>new_date</th>\n",
              "    </tr>\n",
              "  </thead>\n",
              "  <tbody>\n",
              "    <tr>\n",
              "      <th>2620435</th>\n",
              "      <td>2620435</td>\n",
              "      <td>2597654</td>\n",
              "      <td>14/2/2022</td>\n",
              "      <td>13/2/2022</td>\n",
              "      <td>หญิง</td>\n",
              "      <td>35/11</td>\n",
              "      <td>NaN</td>\n",
              "      <td>Thailand</td>\n",
              "      <td>ประจวบคีรีขันธ์</td>\n",
              "      <td>อยู่ระหว่างการสอบสวน</td>\n",
              "      <td>ประจวบคีรีขันธ์</td>\n",
              "      <td>บางสะพาน</td>\n",
              "      <td>2022-02-14</td>\n",
              "    </tr>\n",
              "  </tbody>\n",
              "</table>\n",
              "</div>\n",
              "      <button class=\"colab-df-convert\" onclick=\"convertToInteractive('df-bd9484bf-a2b6-4c7a-91b1-02be6da94824')\"\n",
              "              title=\"Convert this dataframe to an interactive table.\"\n",
              "              style=\"display:none;\">\n",
              "        \n",
              "  <svg xmlns=\"http://www.w3.org/2000/svg\" height=\"24px\"viewBox=\"0 0 24 24\"\n",
              "       width=\"24px\">\n",
              "    <path d=\"M0 0h24v24H0V0z\" fill=\"none\"/>\n",
              "    <path d=\"M18.56 5.44l.94 2.06.94-2.06 2.06-.94-2.06-.94-.94-2.06-.94 2.06-2.06.94zm-11 1L8.5 8.5l.94-2.06 2.06-.94-2.06-.94L8.5 2.5l-.94 2.06-2.06.94zm10 10l.94 2.06.94-2.06 2.06-.94-2.06-.94-.94-2.06-.94 2.06-2.06.94z\"/><path d=\"M17.41 7.96l-1.37-1.37c-.4-.4-.92-.59-1.43-.59-.52 0-1.04.2-1.43.59L10.3 9.45l-7.72 7.72c-.78.78-.78 2.05 0 2.83L4 21.41c.39.39.9.59 1.41.59.51 0 1.02-.2 1.41-.59l7.78-7.78 2.81-2.81c.8-.78.8-2.07 0-2.86zM5.41 20L4 18.59l7.72-7.72 1.47 1.35L5.41 20z\"/>\n",
              "  </svg>\n",
              "      </button>\n",
              "      \n",
              "  <style>\n",
              "    .colab-df-container {\n",
              "      display:flex;\n",
              "      flex-wrap:wrap;\n",
              "      gap: 12px;\n",
              "    }\n",
              "\n",
              "    .colab-df-convert {\n",
              "      background-color: #E8F0FE;\n",
              "      border: none;\n",
              "      border-radius: 50%;\n",
              "      cursor: pointer;\n",
              "      display: none;\n",
              "      fill: #1967D2;\n",
              "      height: 32px;\n",
              "      padding: 0 0 0 0;\n",
              "      width: 32px;\n",
              "    }\n",
              "\n",
              "    .colab-df-convert:hover {\n",
              "      background-color: #E2EBFA;\n",
              "      box-shadow: 0px 1px 2px rgba(60, 64, 67, 0.3), 0px 1px 3px 1px rgba(60, 64, 67, 0.15);\n",
              "      fill: #174EA6;\n",
              "    }\n",
              "\n",
              "    [theme=dark] .colab-df-convert {\n",
              "      background-color: #3B4455;\n",
              "      fill: #D2E3FC;\n",
              "    }\n",
              "\n",
              "    [theme=dark] .colab-df-convert:hover {\n",
              "      background-color: #434B5C;\n",
              "      box-shadow: 0px 1px 3px 1px rgba(0, 0, 0, 0.15);\n",
              "      filter: drop-shadow(0px 1px 2px rgba(0, 0, 0, 0.3));\n",
              "      fill: #FFFFFF;\n",
              "    }\n",
              "  </style>\n",
              "\n",
              "      <script>\n",
              "        const buttonEl =\n",
              "          document.querySelector('#df-bd9484bf-a2b6-4c7a-91b1-02be6da94824 button.colab-df-convert');\n",
              "        buttonEl.style.display =\n",
              "          google.colab.kernel.accessAllowed ? 'block' : 'none';\n",
              "\n",
              "        async function convertToInteractive(key) {\n",
              "          const element = document.querySelector('#df-bd9484bf-a2b6-4c7a-91b1-02be6da94824');\n",
              "          const dataTable =\n",
              "            await google.colab.kernel.invokeFunction('convertToInteractive',\n",
              "                                                     [key], {});\n",
              "          if (!dataTable) return;\n",
              "\n",
              "          const docLinkHtml = 'Like what you see? Visit the ' +\n",
              "            '<a target=\"_blank\" href=https://colab.research.google.com/notebooks/data_table.ipynb>data table notebook</a>'\n",
              "            + ' to learn more about interactive tables.';\n",
              "          element.innerHTML = '';\n",
              "          dataTable['output_type'] = 'display_data';\n",
              "          await google.colab.output.renderOutput(dataTable, element);\n",
              "          const docLink = document.createElement('div');\n",
              "          docLink.innerHTML = docLinkHtml;\n",
              "          element.appendChild(docLink);\n",
              "        }\n",
              "      </script>\n",
              "    </div>\n",
              "  </div>\n",
              "  "
            ]
          },
          "metadata": {},
          "execution_count": 30
        }
      ]
    },
    {
      "cell_type": "markdown",
      "source": [
        "### delete row that age = 55/664, 35/11"
      ],
      "metadata": {
        "id": "VPT6pocrmSfB"
      }
    },
    {
      "cell_type": "code",
      "source": [
        "df = df.drop(100164)\n",
        "df = df.drop(2620435)"
      ],
      "metadata": {
        "id": "Dawnz4t5loNm"
      },
      "execution_count": 31,
      "outputs": []
    },
    {
      "cell_type": "code",
      "source": [
        "df['age'] = df['age'].astype(float)"
      ],
      "metadata": {
        "id": "iiXYS6dZmbx_"
      },
      "execution_count": 32,
      "outputs": []
    },
    {
      "cell_type": "markdown",
      "source": [
        "### delete row that age more than 122 (highest human age in the world)"
      ],
      "metadata": {
        "id": "Xgi4b-WdqOiE"
      }
    },
    {
      "cell_type": "code",
      "source": [
        "index_age_error = df[df['age'] > 122].index"
      ],
      "metadata": {
        "id": "IKR-h7E8pXhv"
      },
      "execution_count": 33,
      "outputs": []
    },
    {
      "cell_type": "code",
      "source": [
        "df = df.drop(index_age_error)"
      ],
      "metadata": {
        "id": "qXmHGQBzqWUS"
      },
      "execution_count": 34,
      "outputs": []
    },
    {
      "cell_type": "code",
      "source": [
        "df['age'].sort_values(ascending = False)"
      ],
      "metadata": {
        "id": "L4T8LZ1Qqbt8",
        "outputId": "dca776d4-dc58-45bc-e8d7-8fa1ee0f2732",
        "colab": {
          "base_uri": "https://localhost:8080/"
        }
      },
      "execution_count": 35,
      "outputs": [
        {
          "output_type": "execute_result",
          "data": {
            "text/plain": [
              "2840765    122.0\n",
              "2841007    122.0\n",
              "2295985    121.0\n",
              "2382449    121.0\n",
              "1823216    119.0\n",
              "           ...  \n",
              "3111649      NaN\n",
              "3111650      NaN\n",
              "3111651      NaN\n",
              "3111652      NaN\n",
              "3111653      NaN\n",
              "Name: age, Length: 3111643, dtype: float64"
            ]
          },
          "metadata": {},
          "execution_count": 35
        }
      ]
    },
    {
      "cell_type": "markdown",
      "source": [
        "### check value"
      ],
      "metadata": {
        "id": "HfOvYB0Sr4YK"
      }
    },
    {
      "cell_type": "code",
      "source": [
        "df['age'].value_counts()"
      ],
      "metadata": {
        "id": "B2msal8_nTaE",
        "outputId": "acb29a97-6d0e-4848-cbc2-0067b4309460",
        "colab": {
          "base_uri": "https://localhost:8080/"
        }
      },
      "execution_count": 36,
      "outputs": [
        {
          "output_type": "execute_result",
          "data": {
            "text/plain": [
              "25.000000    71153\n",
              "26.000000    69871\n",
              "24.000000    69415\n",
              "30.000000    68444\n",
              "27.000000    68238\n",
              "             ...  \n",
              "54.240166        1\n",
              "54.280807        1\n",
              "54.321448        1\n",
              "54.362089        1\n",
              "4.300000         1\n",
              "Name: age, Length: 1215, dtype: int64"
            ]
          },
          "metadata": {},
          "execution_count": 36
        }
      ]
    },
    {
      "cell_type": "code",
      "source": [
        "df['age'].isna().sum()"
      ],
      "metadata": {
        "id": "tZNvQG49s7mQ",
        "outputId": "16ea9b2b-e2f3-4f48-ba46-e48617e0a4cf",
        "colab": {
          "base_uri": "https://localhost:8080/"
        }
      },
      "execution_count": 37,
      "outputs": [
        {
          "output_type": "execute_result",
          "data": {
            "text/plain": [
              "256920"
            ]
          },
          "metadata": {},
          "execution_count": 37
        }
      ]
    },
    {
      "cell_type": "markdown",
      "source": [
        "## cleaning Data [unit]"
      ],
      "metadata": {
        "id": "99t4WP59sSoq"
      }
    },
    {
      "cell_type": "code",
      "source": [
        "df['Unit'] = df['Unit'].str.strip()"
      ],
      "metadata": {
        "id": "qMlDMEDXt-gZ"
      },
      "execution_count": 38,
      "outputs": []
    },
    {
      "cell_type": "code",
      "source": [
        "df['Unit'].value_counts()"
      ],
      "metadata": {
        "id": "rEeIPHa-sVgR",
        "outputId": "06a91308-3671-403e-8bec-a66d925a329d",
        "colab": {
          "base_uri": "https://localhost:8080/"
        }
      },
      "execution_count": 39,
      "outputs": [
        {
          "output_type": "execute_result",
          "data": {
            "text/plain": [
              "ปี       2821098\n",
              "เดือน      12627\n",
              "วัน          835\n",
              "Name: Unit, dtype: int64"
            ]
          },
          "metadata": {},
          "execution_count": 39
        }
      ]
    },
    {
      "cell_type": "markdown",
      "source": [
        "### change person that age is month and day to 0 year"
      ],
      "metadata": {
        "id": "6brgFEwE0FT1"
      }
    },
    {
      "cell_type": "code",
      "source": [
        "unit_md_index = df[df['Unit'].isin(['เดือน', 'วัน'])].index"
      ],
      "metadata": {
        "id": "nWVDXAmRuFrf"
      },
      "execution_count": 40,
      "outputs": []
    },
    {
      "cell_type": "code",
      "source": [
        "df.loc[unit_md_index, 'age'] = 0"
      ],
      "metadata": {
        "id": "5t-cxCkxzgJz"
      },
      "execution_count": 41,
      "outputs": []
    },
    {
      "cell_type": "code",
      "source": [
        "df[df['Unit'].isin(['เดือน', 'วัน'])]"
      ],
      "metadata": {
        "id": "vSAp0j5Dz4ty",
        "outputId": "53263b3d-fb6c-4c88-9eeb-a24e9f6ca985",
        "colab": {
          "base_uri": "https://localhost:8080/",
          "height": 1000
        }
      },
      "execution_count": 42,
      "outputs": [
        {
          "output_type": "execute_result",
          "data": {
            "text/plain": [
              "           index      No. announce_date Notified date   sex  age   Unit  \\\n",
              "301          301      302     20/3/2020           NaN   ชาย  0.0  เดือน   \n",
              "1076        1076     1077     27/3/2020     26/3/2020   ชาย  0.0  เดือน   \n",
              "1676        1676     1677      1/4/2020     31/3/2020   ชาย  0.0  เดือน   \n",
              "1988        1988     1989      4/4/2020      3/4/2020   ชาย  0.0  เดือน   \n",
              "3507        3507     3508     22/9/2020     21/9/2020   ชาย  0.0  เดือน   \n",
              "...          ...      ...           ...           ...   ...  ...    ...   \n",
              "3107814  3107814  3085033      9/3/2022      8/3/2022   ชาย  0.0  เดือน   \n",
              "3107889  3107889  3085108      9/3/2022      8/3/2022  หญิง  0.0  เดือน   \n",
              "3107897  3107897  3085116      9/3/2022      8/3/2022  หญิง  0.0  เดือน   \n",
              "3107901  3107901  3085120      9/3/2022      8/3/2022  หญิง  0.0  เดือน   \n",
              "3107974  3107974  3085193      9/3/2022      8/3/2022  หญิง  0.0  เดือน   \n",
              "\n",
              "        nationality province_of_isolation  \\\n",
              "301        Thailand                ภูเก็ต   \n",
              "1076       Thailand          สุราษฎร์ธานี   \n",
              "1676          Japan         กรุงเทพมหานคร   \n",
              "1988       Thailand                 ระยอง   \n",
              "3507          India         กรุงเทพมหานคร   \n",
              "...             ...                   ...   \n",
              "3107814    Thailand                  สตูล   \n",
              "3107889    Thailand                  สตูล   \n",
              "3107897    Thailand                  สตูล   \n",
              "3107901    Thailand                  สตูล   \n",
              "3107974    Thailand                  สตูล   \n",
              "\n",
              "                                                 risk province_of_onset  \\\n",
              "301       สัมผัสใกล้ชิดกับผู้ป่วยยืนยันรายก่อนหน้านี้            ภูเก็ต   \n",
              "1076      สัมผัสใกล้ชิดกับผู้ป่วยยืนยันรายก่อนหน้านี้      สุราษฎร์ธานี   \n",
              "1676      สัมผัสใกล้ชิดกับผู้ป่วยยืนยันรายก่อนหน้านี้     กรุงเทพมหานคร   \n",
              "1988      สัมผัสใกล้ชิดกับผู้ป่วยยืนยันรายก่อนหน้านี้             ระยอง   \n",
              "3507     ผู้ที่เดินทางมาจากต่างประเทศ และเข้า ASQ/ALQ     กรุงเทพมหานคร   \n",
              "...                                               ...               ...   \n",
              "3107814   สัมผัสใกล้ชิดกับผู้ป่วยยืนยันรายก่อนหน้านี้              สตูล   \n",
              "3107889   สัมผัสใกล้ชิดกับผู้ป่วยยืนยันรายก่อนหน้านี้              สตูล   \n",
              "3107897   สัมผัสใกล้ชิดกับผู้ป่วยยืนยันรายก่อนหน้านี้              สตูล   \n",
              "3107901   สัมผัสใกล้ชิดกับผู้ป่วยยืนยันรายก่อนหน้านี้              สตูล   \n",
              "3107974   สัมผัสใกล้ชิดกับผู้ป่วยยืนยันรายก่อนหน้านี้              สตูล   \n",
              "\n",
              "        district_of_onset   new_date  \n",
              "301                 เมือง 2020-03-20  \n",
              "1076           กาญจนดิษฐ์ 2020-03-27  \n",
              "1676                  NaN 2020-04-01  \n",
              "1988              บ้านฉาง 2020-04-04  \n",
              "3507               พระนคร 2020-09-22  \n",
              "...                   ...        ...  \n",
              "3107814        เมืองพิมาน 2022-03-09  \n",
              "3107889            ควนโดน 2022-03-09  \n",
              "3107897            ควนโดน 2022-03-09  \n",
              "3107901            ควนโดน 2022-03-09  \n",
              "3107974          ทุ่งหว้า 2022-03-09  \n",
              "\n",
              "[13462 rows x 13 columns]"
            ],
            "text/html": [
              "\n",
              "  <div id=\"df-91314e54-975b-4cb9-a141-72b8f14dae5b\">\n",
              "    <div class=\"colab-df-container\">\n",
              "      <div>\n",
              "<style scoped>\n",
              "    .dataframe tbody tr th:only-of-type {\n",
              "        vertical-align: middle;\n",
              "    }\n",
              "\n",
              "    .dataframe tbody tr th {\n",
              "        vertical-align: top;\n",
              "    }\n",
              "\n",
              "    .dataframe thead th {\n",
              "        text-align: right;\n",
              "    }\n",
              "</style>\n",
              "<table border=\"1\" class=\"dataframe\">\n",
              "  <thead>\n",
              "    <tr style=\"text-align: right;\">\n",
              "      <th></th>\n",
              "      <th>index</th>\n",
              "      <th>No.</th>\n",
              "      <th>announce_date</th>\n",
              "      <th>Notified date</th>\n",
              "      <th>sex</th>\n",
              "      <th>age</th>\n",
              "      <th>Unit</th>\n",
              "      <th>nationality</th>\n",
              "      <th>province_of_isolation</th>\n",
              "      <th>risk</th>\n",
              "      <th>province_of_onset</th>\n",
              "      <th>district_of_onset</th>\n",
              "      <th>new_date</th>\n",
              "    </tr>\n",
              "  </thead>\n",
              "  <tbody>\n",
              "    <tr>\n",
              "      <th>301</th>\n",
              "      <td>301</td>\n",
              "      <td>302</td>\n",
              "      <td>20/3/2020</td>\n",
              "      <td>NaN</td>\n",
              "      <td>ชาย</td>\n",
              "      <td>0.0</td>\n",
              "      <td>เดือน</td>\n",
              "      <td>Thailand</td>\n",
              "      <td>ภูเก็ต</td>\n",
              "      <td>สัมผัสใกล้ชิดกับผู้ป่วยยืนยันรายก่อนหน้านี้</td>\n",
              "      <td>ภูเก็ต</td>\n",
              "      <td>เมือง</td>\n",
              "      <td>2020-03-20</td>\n",
              "    </tr>\n",
              "    <tr>\n",
              "      <th>1076</th>\n",
              "      <td>1076</td>\n",
              "      <td>1077</td>\n",
              "      <td>27/3/2020</td>\n",
              "      <td>26/3/2020</td>\n",
              "      <td>ชาย</td>\n",
              "      <td>0.0</td>\n",
              "      <td>เดือน</td>\n",
              "      <td>Thailand</td>\n",
              "      <td>สุราษฎร์ธานี</td>\n",
              "      <td>สัมผัสใกล้ชิดกับผู้ป่วยยืนยันรายก่อนหน้านี้</td>\n",
              "      <td>สุราษฎร์ธานี</td>\n",
              "      <td>กาญจนดิษฐ์</td>\n",
              "      <td>2020-03-27</td>\n",
              "    </tr>\n",
              "    <tr>\n",
              "      <th>1676</th>\n",
              "      <td>1676</td>\n",
              "      <td>1677</td>\n",
              "      <td>1/4/2020</td>\n",
              "      <td>31/3/2020</td>\n",
              "      <td>ชาย</td>\n",
              "      <td>0.0</td>\n",
              "      <td>เดือน</td>\n",
              "      <td>Japan</td>\n",
              "      <td>กรุงเทพมหานคร</td>\n",
              "      <td>สัมผัสใกล้ชิดกับผู้ป่วยยืนยันรายก่อนหน้านี้</td>\n",
              "      <td>กรุงเทพมหานคร</td>\n",
              "      <td>NaN</td>\n",
              "      <td>2020-04-01</td>\n",
              "    </tr>\n",
              "    <tr>\n",
              "      <th>1988</th>\n",
              "      <td>1988</td>\n",
              "      <td>1989</td>\n",
              "      <td>4/4/2020</td>\n",
              "      <td>3/4/2020</td>\n",
              "      <td>ชาย</td>\n",
              "      <td>0.0</td>\n",
              "      <td>เดือน</td>\n",
              "      <td>Thailand</td>\n",
              "      <td>ระยอง</td>\n",
              "      <td>สัมผัสใกล้ชิดกับผู้ป่วยยืนยันรายก่อนหน้านี้</td>\n",
              "      <td>ระยอง</td>\n",
              "      <td>บ้านฉาง</td>\n",
              "      <td>2020-04-04</td>\n",
              "    </tr>\n",
              "    <tr>\n",
              "      <th>3507</th>\n",
              "      <td>3507</td>\n",
              "      <td>3508</td>\n",
              "      <td>22/9/2020</td>\n",
              "      <td>21/9/2020</td>\n",
              "      <td>ชาย</td>\n",
              "      <td>0.0</td>\n",
              "      <td>เดือน</td>\n",
              "      <td>India</td>\n",
              "      <td>กรุงเทพมหานคร</td>\n",
              "      <td>ผู้ที่เดินทางมาจากต่างประเทศ และเข้า ASQ/ALQ</td>\n",
              "      <td>กรุงเทพมหานคร</td>\n",
              "      <td>พระนคร</td>\n",
              "      <td>2020-09-22</td>\n",
              "    </tr>\n",
              "    <tr>\n",
              "      <th>...</th>\n",
              "      <td>...</td>\n",
              "      <td>...</td>\n",
              "      <td>...</td>\n",
              "      <td>...</td>\n",
              "      <td>...</td>\n",
              "      <td>...</td>\n",
              "      <td>...</td>\n",
              "      <td>...</td>\n",
              "      <td>...</td>\n",
              "      <td>...</td>\n",
              "      <td>...</td>\n",
              "      <td>...</td>\n",
              "      <td>...</td>\n",
              "    </tr>\n",
              "    <tr>\n",
              "      <th>3107814</th>\n",
              "      <td>3107814</td>\n",
              "      <td>3085033</td>\n",
              "      <td>9/3/2022</td>\n",
              "      <td>8/3/2022</td>\n",
              "      <td>ชาย</td>\n",
              "      <td>0.0</td>\n",
              "      <td>เดือน</td>\n",
              "      <td>Thailand</td>\n",
              "      <td>สตูล</td>\n",
              "      <td>สัมผัสใกล้ชิดกับผู้ป่วยยืนยันรายก่อนหน้านี้</td>\n",
              "      <td>สตูล</td>\n",
              "      <td>เมืองพิมาน</td>\n",
              "      <td>2022-03-09</td>\n",
              "    </tr>\n",
              "    <tr>\n",
              "      <th>3107889</th>\n",
              "      <td>3107889</td>\n",
              "      <td>3085108</td>\n",
              "      <td>9/3/2022</td>\n",
              "      <td>8/3/2022</td>\n",
              "      <td>หญิง</td>\n",
              "      <td>0.0</td>\n",
              "      <td>เดือน</td>\n",
              "      <td>Thailand</td>\n",
              "      <td>สตูล</td>\n",
              "      <td>สัมผัสใกล้ชิดกับผู้ป่วยยืนยันรายก่อนหน้านี้</td>\n",
              "      <td>สตูล</td>\n",
              "      <td>ควนโดน</td>\n",
              "      <td>2022-03-09</td>\n",
              "    </tr>\n",
              "    <tr>\n",
              "      <th>3107897</th>\n",
              "      <td>3107897</td>\n",
              "      <td>3085116</td>\n",
              "      <td>9/3/2022</td>\n",
              "      <td>8/3/2022</td>\n",
              "      <td>หญิง</td>\n",
              "      <td>0.0</td>\n",
              "      <td>เดือน</td>\n",
              "      <td>Thailand</td>\n",
              "      <td>สตูล</td>\n",
              "      <td>สัมผัสใกล้ชิดกับผู้ป่วยยืนยันรายก่อนหน้านี้</td>\n",
              "      <td>สตูล</td>\n",
              "      <td>ควนโดน</td>\n",
              "      <td>2022-03-09</td>\n",
              "    </tr>\n",
              "    <tr>\n",
              "      <th>3107901</th>\n",
              "      <td>3107901</td>\n",
              "      <td>3085120</td>\n",
              "      <td>9/3/2022</td>\n",
              "      <td>8/3/2022</td>\n",
              "      <td>หญิง</td>\n",
              "      <td>0.0</td>\n",
              "      <td>เดือน</td>\n",
              "      <td>Thailand</td>\n",
              "      <td>สตูล</td>\n",
              "      <td>สัมผัสใกล้ชิดกับผู้ป่วยยืนยันรายก่อนหน้านี้</td>\n",
              "      <td>สตูล</td>\n",
              "      <td>ควนโดน</td>\n",
              "      <td>2022-03-09</td>\n",
              "    </tr>\n",
              "    <tr>\n",
              "      <th>3107974</th>\n",
              "      <td>3107974</td>\n",
              "      <td>3085193</td>\n",
              "      <td>9/3/2022</td>\n",
              "      <td>8/3/2022</td>\n",
              "      <td>หญิง</td>\n",
              "      <td>0.0</td>\n",
              "      <td>เดือน</td>\n",
              "      <td>Thailand</td>\n",
              "      <td>สตูล</td>\n",
              "      <td>สัมผัสใกล้ชิดกับผู้ป่วยยืนยันรายก่อนหน้านี้</td>\n",
              "      <td>สตูล</td>\n",
              "      <td>ทุ่งหว้า</td>\n",
              "      <td>2022-03-09</td>\n",
              "    </tr>\n",
              "  </tbody>\n",
              "</table>\n",
              "<p>13462 rows × 13 columns</p>\n",
              "</div>\n",
              "      <button class=\"colab-df-convert\" onclick=\"convertToInteractive('df-91314e54-975b-4cb9-a141-72b8f14dae5b')\"\n",
              "              title=\"Convert this dataframe to an interactive table.\"\n",
              "              style=\"display:none;\">\n",
              "        \n",
              "  <svg xmlns=\"http://www.w3.org/2000/svg\" height=\"24px\"viewBox=\"0 0 24 24\"\n",
              "       width=\"24px\">\n",
              "    <path d=\"M0 0h24v24H0V0z\" fill=\"none\"/>\n",
              "    <path d=\"M18.56 5.44l.94 2.06.94-2.06 2.06-.94-2.06-.94-.94-2.06-.94 2.06-2.06.94zm-11 1L8.5 8.5l.94-2.06 2.06-.94-2.06-.94L8.5 2.5l-.94 2.06-2.06.94zm10 10l.94 2.06.94-2.06 2.06-.94-2.06-.94-.94-2.06-.94 2.06-2.06.94z\"/><path d=\"M17.41 7.96l-1.37-1.37c-.4-.4-.92-.59-1.43-.59-.52 0-1.04.2-1.43.59L10.3 9.45l-7.72 7.72c-.78.78-.78 2.05 0 2.83L4 21.41c.39.39.9.59 1.41.59.51 0 1.02-.2 1.41-.59l7.78-7.78 2.81-2.81c.8-.78.8-2.07 0-2.86zM5.41 20L4 18.59l7.72-7.72 1.47 1.35L5.41 20z\"/>\n",
              "  </svg>\n",
              "      </button>\n",
              "      \n",
              "  <style>\n",
              "    .colab-df-container {\n",
              "      display:flex;\n",
              "      flex-wrap:wrap;\n",
              "      gap: 12px;\n",
              "    }\n",
              "\n",
              "    .colab-df-convert {\n",
              "      background-color: #E8F0FE;\n",
              "      border: none;\n",
              "      border-radius: 50%;\n",
              "      cursor: pointer;\n",
              "      display: none;\n",
              "      fill: #1967D2;\n",
              "      height: 32px;\n",
              "      padding: 0 0 0 0;\n",
              "      width: 32px;\n",
              "    }\n",
              "\n",
              "    .colab-df-convert:hover {\n",
              "      background-color: #E2EBFA;\n",
              "      box-shadow: 0px 1px 2px rgba(60, 64, 67, 0.3), 0px 1px 3px 1px rgba(60, 64, 67, 0.15);\n",
              "      fill: #174EA6;\n",
              "    }\n",
              "\n",
              "    [theme=dark] .colab-df-convert {\n",
              "      background-color: #3B4455;\n",
              "      fill: #D2E3FC;\n",
              "    }\n",
              "\n",
              "    [theme=dark] .colab-df-convert:hover {\n",
              "      background-color: #434B5C;\n",
              "      box-shadow: 0px 1px 3px 1px rgba(0, 0, 0, 0.15);\n",
              "      filter: drop-shadow(0px 1px 2px rgba(0, 0, 0, 0.3));\n",
              "      fill: #FFFFFF;\n",
              "    }\n",
              "  </style>\n",
              "\n",
              "      <script>\n",
              "        const buttonEl =\n",
              "          document.querySelector('#df-91314e54-975b-4cb9-a141-72b8f14dae5b button.colab-df-convert');\n",
              "        buttonEl.style.display =\n",
              "          google.colab.kernel.accessAllowed ? 'block' : 'none';\n",
              "\n",
              "        async function convertToInteractive(key) {\n",
              "          const element = document.querySelector('#df-91314e54-975b-4cb9-a141-72b8f14dae5b');\n",
              "          const dataTable =\n",
              "            await google.colab.kernel.invokeFunction('convertToInteractive',\n",
              "                                                     [key], {});\n",
              "          if (!dataTable) return;\n",
              "\n",
              "          const docLinkHtml = 'Like what you see? Visit the ' +\n",
              "            '<a target=\"_blank\" href=https://colab.research.google.com/notebooks/data_table.ipynb>data table notebook</a>'\n",
              "            + ' to learn more about interactive tables.';\n",
              "          element.innerHTML = '';\n",
              "          dataTable['output_type'] = 'display_data';\n",
              "          await google.colab.output.renderOutput(dataTable, element);\n",
              "          const docLink = document.createElement('div');\n",
              "          docLink.innerHTML = docLinkHtml;\n",
              "          element.appendChild(docLink);\n",
              "        }\n",
              "      </script>\n",
              "    </div>\n",
              "  </div>\n",
              "  "
            ]
          },
          "metadata": {},
          "execution_count": 42
        }
      ]
    },
    {
      "cell_type": "code",
      "source": [
        "df.loc[unit_md_index, 'Unit'] = 'ปี'"
      ],
      "metadata": {
        "id": "sdCkz5Q30VVU"
      },
      "execution_count": 43,
      "outputs": []
    },
    {
      "cell_type": "code",
      "source": [
        "df['Unit'].value_counts()"
      ],
      "metadata": {
        "id": "kvhlIZPT0bCB",
        "outputId": "ec9ef8cd-c349-43d8-cfb3-bd15d89cfdfa",
        "colab": {
          "base_uri": "https://localhost:8080/"
        }
      },
      "execution_count": 44,
      "outputs": [
        {
          "output_type": "execute_result",
          "data": {
            "text/plain": [
              "ปี    2834560\n",
              "Name: Unit, dtype: int64"
            ]
          },
          "metadata": {},
          "execution_count": 44
        }
      ]
    },
    {
      "cell_type": "markdown",
      "source": [
        "## cleaning Data [nationality]"
      ],
      "metadata": {
        "id": "dx0qul1C1LpS"
      }
    },
    {
      "cell_type": "markdown",
      "source": [
        "### setting show all data "
      ],
      "metadata": {
        "id": "eTI877rp1xuH"
      }
    },
    {
      "cell_type": "code",
      "source": [
        "pd.set_option(\"display.max_rows\", 7)"
      ],
      "metadata": {
        "id": "S1ZwBLws1pDs"
      },
      "execution_count": 45,
      "outputs": []
    },
    {
      "cell_type": "markdown",
      "source": [
        "### change to lower text"
      ],
      "metadata": {
        "id": "kt_M1c-C3HBl"
      }
    },
    {
      "cell_type": "code",
      "source": [
        "df['nationality'] = df['nationality'].str.lower()"
      ],
      "metadata": {
        "id": "Ulq6fm523GD7"
      },
      "execution_count": 46,
      "outputs": []
    },
    {
      "cell_type": "markdown",
      "source": [
        "### delete white space"
      ],
      "metadata": {
        "id": "551mY4HfCwW7"
      }
    },
    {
      "cell_type": "code",
      "source": [
        "df['nationality'] = df['nationality'].str.strip()"
      ],
      "metadata": {
        "id": "zNfBUBUxCuHn"
      },
      "execution_count": 47,
      "outputs": []
    },
    {
      "cell_type": "code",
      "source": [
        "df['nationality'].head()"
      ],
      "metadata": {
        "id": "ngIb1ZOg3ee6",
        "outputId": "940cb1d1-ca99-4a22-b751-584f499b279a",
        "colab": {
          "base_uri": "https://localhost:8080/"
        }
      },
      "execution_count": 48,
      "outputs": [
        {
          "output_type": "execute_result",
          "data": {
            "text/plain": [
              "0       china\n",
              "1       china\n",
              "2    thailand\n",
              "3       china\n",
              "4       china\n",
              "Name: nationality, dtype: object"
            ]
          },
          "metadata": {},
          "execution_count": 48
        }
      ]
    },
    {
      "cell_type": "markdown",
      "source": [
        "### change duplicate data"
      ],
      "metadata": {
        "id": "VsJB0HJ0Ll4a"
      }
    },
    {
      "cell_type": "code",
      "source": [
        "a = df['nationality'].replace(['afghan / afghani','afghanistan'], 'afghan')\n",
        "a = a.replace(['albania'], 'albanian')\n",
        "a = a.replace(['algeria'], 'algerian')\n",
        "a = a.replace(['american samoa'], 'american samoan')\n",
        "a = a.replace(['americans','อเมริกา'], 'american')\n",
        "a = a.replace(['arabi'], 'saudi arabian')\n",
        "a = a.replace(['argentina', 'argentine / argentinian'], 'argentine')\n",
        "a = a.replace(['armenia'], 'armenian')\n",
        "a = a.replace(['au', 'australia'], 'australian')\n",
        "a = a.replace(['austria'], 'austrian')\n",
        "a = a.replace(['azerbaijan'], 'azerbaijani')\n",
        "a = a.replace(['bahrain'], 'bahraini')\n",
        "a = a.replace(['bangladesh'], 'bangladeshi')\n",
        "a = a.replace(['belarus'], 'belarusian')\n",
        "a = a.replace(['belgium'], 'belgian')\n",
        "a = a.replace(['bermuda'], 'bermudain')\n",
        "a = a.replace(['bhutan'], 'bhutanese')\n",
        "a = a.replace(['bosnian/herzegovinian'], 'bosnian')\n",
        "a = a.replace(['brazil', 'บราซิล'], 'brazilian')\n",
        "a = a.replace(['british / english', 'british / northern irish', 'british / scottish', 'british / welsh', 'british/english'], 'british')\n",
        "a = a.replace(['brunei'], 'bruneian')\n",
        "a = a.replace(['bulgaria'], 'bulgarian')\n",
        "a = a.replace(['burma', 'myanmar', 'พม่า', 'ไทยใหญ่', 'ไทใหญ่'], 'burmese')\n",
        "a = a.replace(['cambodia', 'กัมพูชา'], 'cambodian')\n",
        "a = a.replace(['cameroon'], 'cameroonian')\n",
        "a = a.replace(['canada'], 'canadian')\n",
        "a = a.replace(['china', 'จีน'], 'chinese')\n",
        "a = a.replace(['colombia'], 'colombian')\n",
        "a = a.replace(['congo', 'congo (brazzaville)'], 'congolese')\n",
        "a = a.replace(['croatia'], 'croatian')\n",
        "a = a.replace(['cuba'], 'cuban')\n",
        "a = a.replace(['czechia'], 'czech')"
      ],
      "metadata": {
        "id": "yOjzc5CJLkmy"
      },
      "execution_count": 49,
      "outputs": []
    },
    {
      "cell_type": "code",
      "source": [
        "a = a.replace(['denmark'], 'danish')\n",
        "a = a.replace(['deutsch'], 'german')\n",
        "a = a.replace(['netherlands'], 'dutch')\n",
        "a = a.replace(['egypt'], 'egyptian')\n",
        "a = a.replace(['emirate', 'uae', 'united arab emirates'], 'emirati')\n",
        "a = a.replace(['eritrea'], 'eritrean')\n",
        "a = a.replace(['estonia'], 'estonian')\n",
        "a = a.replace(['ethiopia'], 'ethiopian')\n",
        "a = a.replace(['philipines'], 'filipino')\n",
        "a = a.replace(['finland'], 'finnish')\n",
        "a = a.replace(['franch', 'french guiana'], 'french')\n",
        "a = a.replace(['gambia', 'gambia, the'], 'gambian')\n",
        "a = a.replace(['germany', 'germen', 'gremany'], 'german')\n",
        "a = a.replace(['ghana'], 'ghanaian')\n",
        "a = a.replace(['greece'], 'greek')\n",
        "a = a.replace(['guinea'], 'guinean')\n",
        "a = a.replace(['hong kong'], 'chinese')\n",
        "a = a.replace(['hungary'], 'hungarian')\n",
        "a = a.replace(['iceland'], 'icelandic')\n",
        "a = a.replace(['india', 'india-thailand'], 'indian')\n",
        "a = a.replace(['indonesia'], 'indonesian')\n",
        "a = a.replace(['iran'], 'iranian')\n",
        "a = a.replace(['iraq'], 'iraqi')\n",
        "a = a.replace(['ireland'], 'irish')\n",
        "a = a.replace(['israel'], 'israeli')\n",
        "a = a.replace(['italy'], 'italian')\n",
        "a = a.replace(['japan'], 'japanese')\n",
        "a = a.replace(['jordan'], 'jordanian')"
      ],
      "metadata": {
        "id": "xHBaGZ9C1BH6"
      },
      "execution_count": 50,
      "outputs": []
    },
    {
      "cell_type": "code",
      "source": [
        "a = a.replace(['kazakhstan', 'kazakh / kazakhstani'], 'kazakh')\n",
        "a = a.replace(['kenya'], 'kenyan')\n",
        "a = a.replace(['korea, south', 'korean'], 'south korean')\n",
        "a = a.replace(['kosovo'], 'kosovan')\n",
        "a = a.replace(['kuwait'], 'kuwaiti')\n",
        "a = a.replace(['kyrgyzstan'], 'kyrgyz')\n",
        "a = a.replace(['l', 'lao', 'laos', 'laotian / lao', 'laotian/lao'], 'laotian')\n",
        "a = a.replace(['latvia'], 'latvian')\n",
        "a = a.replace(['liberia'], 'liberian')\n",
        "a = a.replace(['libya'], 'libyan')\n",
        "a = a.replace(['lithuania'], 'lithuanian')\n",
        "a = a.replace(['luxembourg'], 'luxembourgish')\n",
        "a = a.replace(['macedonia'], 'macedonian')\n",
        "a = a.replace(['malawi'], 'malawin')\n",
        "a = a.replace(['malaysia'], 'malaysian')\n",
        "a = a.replace(['maldives'], 'maldivian')\n",
        "a = a.replace(['mali'], 'malian')\n",
        "a = a.replace(['malta'], 'maltese')\n",
        "a = a.replace(['mauritians', 'mauritius'], 'mauritian')\n",
        "a = a.replace(['mexico'], 'mexican')\n",
        "a = a.replace(['mongolia'], 'mongolian')\n",
        "a = a.replace(['namibia'], 'namibian')\n",
        "a = a.replace(['nepal', 'nepalese / nepali'], 'nepalese')\n",
        "a = a.replace(['new zealand'], 'new zealander')\n",
        "a = a.replace(['nicaragua'], 'nicaraguan')\n",
        "a = a.replace(['nigeria', 'ไนจีเรีย'], 'nigerian')\n",
        "a = a.replace(['norway'], 'norwegian')"
      ],
      "metadata": {
        "id": "mylzYKiXYiq-"
      },
      "execution_count": 51,
      "outputs": []
    },
    {
      "cell_type": "code",
      "source": [
        "a = a.replace(['oman'], 'omani')\n",
        "a = a.replace(['pakistan'], 'pakistani')\n",
        "a = a.replace(['palestine'], 'palestinian')\n",
        "a = a.replace(['philippines'], 'filipino')\n",
        "a = a.replace(['poland'], 'polish')\n",
        "a = a.replace(['portugal'], 'portuguese')\n",
        "a = a.replace(['qatar', 'oatari'], 'qatari')\n",
        "a = a.replace(['romania'], 'romanian')\n",
        "a = a.replace(['russia'], 'russian')\n",
        "a = a.replace(['senegal'], 'senegalese')\n",
        "a = a.replace(['serbia'], 'serbian')\n",
        "a = a.replace(['sierra leone'], 'sierra leonian')\n",
        "a = a.replace(['singapore'], 'singaporean')\n",
        "a = a.replace(['slovak / slovakian'], 'slovak')\n",
        "a = a.replace(['slovenia', 'slovenian / slovene'], 'slovenian')\n",
        "a = a.replace(['somali / somalian', 'somalia'], 'somali')\n",
        "a = a.replace(['south africa'], 'south african')\n",
        "a = a.replace(['south korea'], 'south korean')\n",
        "a = a.replace(['spain'], 'spanish')\n",
        "a = a.replace(['sri lanka'], 'sri lankan')\n",
        "a = a.replace(['sudan'], 'sudanese')\n",
        "a = a.replace(['swaziland'], 'swazi')\n",
        "a = a.replace(['sweden', 'สวีเดน'], 'swedish')\n",
        "a = a.replace(['switzerland'], 'swiss')\n",
        "a = a.replace(['syria'], 'syrian')"
      ],
      "metadata": {
        "id": "FjT4EzGjbRt2"
      },
      "execution_count": 52,
      "outputs": []
    },
    {
      "cell_type": "code",
      "source": [
        "a = a.replace(['taiwan'], 'taiwanese')\n",
        "a = a.replace(['tajik'], 'tajikistan')\n",
        "a = a.replace(['tanzania'], 'tanzanian')\n",
        "a = a.replace(['thailand'], 'thai')\n",
        "a = a.replace(['timor-leste'], 'timorese')\n",
        "a = a.replace(['tunisia'], 'tunisian')\n",
        "a = a.replace(['turkey', 'turkcish'], 'turkish')\n",
        "a = a.replace(['uganda'], 'ugandan')\n",
        "a = a.replace(['ukraine'], 'ukrainian')\n",
        "a = a.replace(['united kingdom'], 'british')\n",
        "a = a.replace(['united states of america'], 'american')\n",
        "a = a.replace(['uzbekistan'], 'uzbek')\n",
        "a = a.replace(['vietnam'], 'vietnamese')\n",
        "a = a.replace(['yemen', 'yemeni / yemenite'], 'yemeni')\n",
        "a = a.replace(['zimbabwe'], 'zimbabwean')\n",
        "a = a.replace(['ต่างด้าว'], 'other')\n",
        "a = a.replace(['ลาว'], 'laotian')\n",
        "a = a.replace(['ไม่มีสัญชาติ'], 'other')\n",
        "a = a.replace(['ไม่ระบุ'], 'other')"
      ],
      "metadata": {
        "id": "X0nzJ6D8dpbG"
      },
      "execution_count": 53,
      "outputs": []
    },
    {
      "cell_type": "code",
      "source": [
        "df['nationality'] = a.str.capitalize()\n",
        "df.groupby('nationality').size()"
      ],
      "metadata": {
        "id": "j7M6egTzgIev",
        "outputId": "c1c54657-2e34-409a-8020-7a615fa2d9cd",
        "colab": {
          "base_uri": "https://localhost:8080/"
        }
      },
      "execution_count": 54,
      "outputs": [
        {
          "output_type": "execute_result",
          "data": {
            "text/plain": [
              "nationality\n",
              "Afghan        18\n",
              "African       23\n",
              "Albanian      13\n",
              "              ..\n",
              "Yemeni        11\n",
              "Zambian        2\n",
              "Zimbabwean     5\n",
              "Length: 144, dtype: int64"
            ]
          },
          "metadata": {},
          "execution_count": 54
        }
      ]
    },
    {
      "cell_type": "markdown",
      "source": [
        "use this ref to change nationality https://www.englishclub.com/vocabulary/world-countries-nationality.php"
      ],
      "metadata": {
        "id": "kdacuTF-5V9F"
      }
    },
    {
      "cell_type": "markdown",
      "source": [
        "## cleaning Data [province_of_isolation]"
      ],
      "metadata": {
        "id": "MMmAhW0-h97h"
      }
    },
    {
      "cell_type": "code",
      "source": [
        "pd.set_option(\"display.max_rows\", 7)"
      ],
      "metadata": {
        "id": "JaMWPfIhiTeX"
      },
      "execution_count": 55,
      "outputs": []
    },
    {
      "cell_type": "markdown",
      "source": [
        "### delete white space"
      ],
      "metadata": {
        "id": "yOCk_PJAip-J"
      }
    },
    {
      "cell_type": "code",
      "source": [
        "df['province_of_isolation'] = df['province_of_isolation'].str.strip()"
      ],
      "metadata": {
        "id": "FwX1KvAxioc6"
      },
      "execution_count": 56,
      "outputs": []
    },
    {
      "cell_type": "markdown",
      "source": [
        "### change duplicate data"
      ],
      "metadata": {
        "id": "PA7D9js7i1HG"
      }
    },
    {
      "cell_type": "code",
      "source": [
        "df['province_of_isolation'] = df['province_of_isolation'].replace(['กทม'], 'กรุงเทพมหานคร')\n",
        "df['province_of_isolation'] = df['province_of_isolation'].replace(['ภููเก็ต'], 'ภูเก็ต')"
      ],
      "metadata": {
        "id": "oFTvzW0siwdM"
      },
      "execution_count": 57,
      "outputs": []
    },
    {
      "cell_type": "code",
      "source": [
        "df['province_of_isolation'].nunique()"
      ],
      "metadata": {
        "id": "Pt4pQ6FfjlyQ",
        "outputId": "f92a5d82-016f-463b-b969-8d554dc00368",
        "colab": {
          "base_uri": "https://localhost:8080/"
        }
      },
      "execution_count": 58,
      "outputs": [
        {
          "output_type": "execute_result",
          "data": {
            "text/plain": [
              "77"
            ]
          },
          "metadata": {},
          "execution_count": 58
        }
      ]
    },
    {
      "cell_type": "code",
      "source": [
        "df.groupby('province_of_isolation').size()"
      ],
      "metadata": {
        "id": "WjROxeJLjKcK",
        "outputId": "bef097bc-0b2f-4c5c-8667-515c8b44c724",
        "colab": {
          "base_uri": "https://localhost:8080/"
        }
      },
      "execution_count": 59,
      "outputs": [
        {
          "output_type": "execute_result",
          "data": {
            "text/plain": [
              "province_of_isolation\n",
              "กระบี่            18350\n",
              "กรุงเทพมหานคร    601231\n",
              "กาญจนบุรี         34437\n",
              "                  ...  \n",
              "เลย                9470\n",
              "แพร่               5221\n",
              "แม่ฮ่องสอน         4243\n",
              "Length: 77, dtype: int64"
            ]
          },
          "metadata": {},
          "execution_count": 59
        }
      ]
    },
    {
      "cell_type": "code",
      "source": [
        "df['province_of_isolation'].value_counts()"
      ],
      "metadata": {
        "id": "XHVv1-mmjYLo",
        "outputId": "4432327f-c5e1-40aa-bfdb-f9cf964ef178",
        "colab": {
          "base_uri": "https://localhost:8080/"
        }
      },
      "execution_count": 60,
      "outputs": [
        {
          "output_type": "execute_result",
          "data": {
            "text/plain": [
              "กรุงเทพมหานคร    601231\n",
              "สมุทรปราการ      191016\n",
              "ชลบุรี           168600\n",
              "                  ...  \n",
              "อำนาจเจริญ         5244\n",
              "แพร่               5221\n",
              "แม่ฮ่องสอน         4243\n",
              "Name: province_of_isolation, Length: 77, dtype: int64"
            ]
          },
          "metadata": {},
          "execution_count": 60
        }
      ]
    },
    {
      "cell_type": "markdown",
      "source": [
        "## cleaning Data [risk]"
      ],
      "metadata": {
        "id": "J1KkAedXkt9e"
      }
    },
    {
      "cell_type": "code",
      "source": [
        "pd.set_option(\"display.max_rows\", 10)"
      ],
      "metadata": {
        "id": "ivQn8Iw4Z6wI"
      },
      "execution_count": 61,
      "outputs": []
    },
    {
      "cell_type": "markdown",
      "source": [
        "### delete white space"
      ],
      "metadata": {
        "id": "Vv04mCGlbgFk"
      }
    },
    {
      "cell_type": "code",
      "source": [
        "df['risk'] = df['risk'].str.strip()"
      ],
      "metadata": {
        "id": "zTHqcrH0a2tp"
      },
      "execution_count": 62,
      "outputs": []
    },
    {
      "cell_type": "markdown",
      "source": [
        "### change to lower text"
      ],
      "metadata": {
        "id": "DdfhAlAArTmq"
      }
    },
    {
      "cell_type": "code",
      "source": [
        "df['risk'] = df['risk'].str.lower()"
      ],
      "metadata": {
        "id": "gUHEQZGlrW-m"
      },
      "execution_count": 63,
      "outputs": []
    },
    {
      "cell_type": "code",
      "source": [
        "df.groupby('risk').size()"
      ],
      "metadata": {
        "id": "S_V_qZmUktY9",
        "outputId": "ab49f1e4-40d4-49a5-bdb4-c6cc7f579c61",
        "colab": {
          "base_uri": "https://localhost:8080/"
        }
      },
      "execution_count": 64,
      "outputs": [
        {
          "output_type": "execute_result",
          "data": {
            "text/plain": [
              "risk\n",
              "10.อื่นๆ                                               88\n",
              "2.สัมผัสผู้ติดเชื้อ                                    92\n",
              "8.สำรวจกลุ่มเสี่ยง (survey)                             1\n",
              "9.ขอตรวจหาเชื้อเอง                                      2\n",
              "acf รองเมือง                                           24\n",
              "                                                     ... \n",
              "ไปสถานที่เสี่ยง เช่น ตลาด สถานที่ชุมชน                  1\n",
              "ไปสถานที่แออัด เช่น งานแฟร์ คอนเสิร์ต                4144\n",
              "ไปเที่ยวสถานบันเทิงในอุบลที่พบการระบาดของโรค ubar       1\n",
              "ไปแหล่งชุมชน/สถานที่คนหนาแน่น                           5\n",
              "ไม่ระบุ                                                 4\n",
              "Length: 165, dtype: int64"
            ]
          },
          "metadata": {},
          "execution_count": 64
        }
      ]
    },
    {
      "cell_type": "markdown",
      "source": [
        "### create new columns for new_risk"
      ],
      "metadata": {
        "id": "Rxq-jeSdptiQ"
      }
    },
    {
      "cell_type": "code",
      "source": [
        "# create a list of our conditions\n",
        "conditions = [\n",
        "    (df['risk'].str.contains('คนต่างชาติเดินทางมาจากต่างประเทศ', na=False)),\n",
        "    (df['risk'].str.contains('อาชีพเสี่ยง', na=False)),\n",
        "    (df['risk'].str.contains('สัมผัส', na=False)),\n",
        "    (df['risk'].str.contains('acf', na=False)),\n",
        "    (df['risk'].str.contains('cluster', na=False)),\n",
        "    (df['risk'].str.contains('sandbox', na=False)),\n",
        "    (df['risk'].str.contains('shui', na=False)),\n",
        "    (df['risk'].str.contains('samui plus', na=False)),\n",
        "    (df['risk'].str.contains('state quarantine', na=False)),\n",
        "    (df['risk'].str.contains('test and go', na=False)),\n",
        "    (df['risk'].str.contains('ค้นหา', na=False)),\n",
        "    (df['risk'].str.contains('ต่างประเทศ', na=False)),\n",
        "    (df['risk'].str.contains('พื้นที่เสี่ยง', na=False)),\n",
        "    (df['risk'].str.contains('ตรวจก่อน', na=False)),\n",
        "    (df['risk'].str.contains('ทัณฑสถาน', na=False)),\n",
        "    (df['risk'].str.contains('บุคลากร', na=False)),\n",
        "    (df['risk'].str.contains('ปอด', na=False)),\n",
        "    (df['risk'].str.contains('ผู้ที่เดินทางมาจากต่างประเทศ', na=False)),\n",
        "    (df['risk'].str.contains('พิธีกรรมทางศาสนา', na=False)),\n",
        "    (df['risk'].str.contains('ระบุไม่ได้', na=False)),\n",
        "    (df['risk'].str.contains('ผู้ต้องกัก', na=False)),\n",
        "    (df['risk'].str.contains('สถานที่ทำงาน', na=False)),\n",
        "    (df['risk'].str.contains('สถานบันเทิง', na=False)),\n",
        "    (df['risk'].str.contains('สถานศึกษา', na=False)),\n",
        "    (df['risk'].str.contains('สนามมวย', na=False)),\n",
        "    (df['risk'].str.contains('อยู่ระหว่าง', na=False)),\n",
        "    (df['risk'].str.contains('เดินทางมาจาก', na=False)),\n",
        "    (df['risk'].str.contains('ไป', na=False)),\n",
        "    (df['risk'].str.contains('ไม่ระบุ', na=False))\n",
        "    ]\n",
        "\n",
        "# create a list of the values we want to assign for each condition\n",
        "values = ['ผู้ที่เดินทางมาจากต่างประเทศ','อาชีพเสี่ยง', 'สัมผัสใกล้ชิดกับผู้ป่วยยืนยันรายก่อนหน้านี้', 'การค้นหาผู้ป่วยเชิงรุกและค้นหาผู้ติดเชื้อในชุมชน', 'Cluster ตามสถานที่ต่างๆ','Sandbox','Sandbox', 'Sandbox', 'ผู้ที่เดินทางมาจากต่างประเทศ', 'ผู้ที่เดินทางมาจากต่างประเทศ','การค้นหาผู้ป่วยเชิงรุกและค้นหาผู้ติดเชื้อในชุมชน',\n",
        "          'ผู้ที่เดินทางมาจากต่างประเทศ', 'ไปสถานที่เสี่ยง', 'ตรวจเชื้อก่อนทำหัตถการ', 'ทัณฑสถาน/เรือนจำ', 'บุคลากรด้านการแพทย์และสาธารณสุข', 'ปอดอักเสบ',\n",
        "          'ผู้ที่เดินทางมาจากต่างประเทศ', 'พิธีกรรมทางศาสนา', 'ระบุไม่ได้', 'ทัณฑสถาน/เรือนจำ', 'สถานที่ทำงาน','สถานบันเทิง','สถานศึกษา','Cluster ตามสถานที่ต่างๆ',\n",
        "          'อยู่ระหว่างการสอบสวน', 'ไปสถานที่เสี่ยง', 'ไปสถานที่เสี่ยง', 'ระบุไม่ได้']\n",
        "\n",
        "# create a new column and use np.select to assign values to it using our lists as arguments\n",
        "df['new_risk'] = np.select(conditions, values, default = 'อื่นๆ')\n",
        "\n",
        "# display updated DataFrame\n",
        "df['new_risk'].value_counts()"
      ],
      "metadata": {
        "id": "AG8G6JNOf2ag",
        "outputId": "0d196722-84ee-4db0-ac05-75a1840321e1",
        "colab": {
          "base_uri": "https://localhost:8080/"
        }
      },
      "execution_count": 98,
      "outputs": [
        {
          "output_type": "execute_result",
          "data": {
            "text/plain": [
              "สัมผัสใกล้ชิดกับผู้ป่วยยืนยันรายก่อนหน้านี้    1326111\n",
              "อื่นๆ                                           869730\n",
              "อยู่ระหว่างการสอบสวน                            276596\n",
              "                                                ...   \n",
              "อาชีพเสี่ยง                                       4489\n",
              "ปอดอักเสบ                                         3463\n",
              "พิธีกรรมทางศาสนา                                  2906\n",
              "Name: new_risk, Length: 18, dtype: int64"
            ]
          },
          "metadata": {},
          "execution_count": 98
        }
      ]
    },
    {
      "cell_type": "markdown",
      "source": [
        "## cleaning Data [province_of_onset]"
      ],
      "metadata": {
        "id": "GhB1gtrTafax"
      }
    },
    {
      "cell_type": "code",
      "source": [
        "pd.set_option(\"display.max_rows\", 7)"
      ],
      "metadata": {
        "id": "G3o8GScRahCv"
      },
      "execution_count": 66,
      "outputs": []
    },
    {
      "cell_type": "markdown",
      "source": [
        "### delete white space"
      ],
      "metadata": {
        "id": "I6IOQMpgalHc"
      }
    },
    {
      "cell_type": "code",
      "source": [
        "df['province_of_onset'] = df['province_of_onset'].str.strip()"
      ],
      "metadata": {
        "id": "miKoI9EUam82"
      },
      "execution_count": 67,
      "outputs": []
    },
    {
      "cell_type": "markdown",
      "source": [
        "### check duplicate data"
      ],
      "metadata": {
        "id": "fuPrdkkjanZr"
      }
    },
    {
      "cell_type": "code",
      "source": [
        "df.groupby('province_of_onset').size()"
      ],
      "metadata": {
        "id": "DMt0AaAjasu5",
        "outputId": "296e96db-a1c4-4de9-ebde-ac5537ce2e4e",
        "colab": {
          "base_uri": "https://localhost:8080/"
        }
      },
      "execution_count": 68,
      "outputs": [
        {
          "output_type": "execute_result",
          "data": {
            "text/plain": [
              "province_of_onset\n",
              "USA                  2\n",
              "กทม               2258\n",
              "กทม.                 3\n",
              "                  ... \n",
              "ไชโย                 5\n",
              "ไม่มีชื่อหอพัก       1\n",
              "ไม่ระบุ             46\n",
              "Length: 372, dtype: int64"
            ]
          },
          "metadata": {},
          "execution_count": 68
        }
      ]
    },
    {
      "cell_type": "code",
      "source": [
        "df['province_of_onset'].value_counts()"
      ],
      "metadata": {
        "id": "wP3fQ-g6atLL",
        "outputId": "c922036e-70dd-4e4a-fe78-4cacd7a0f3c7",
        "colab": {
          "base_uri": "https://localhost:8080/"
        }
      },
      "execution_count": 69,
      "outputs": [
        {
          "output_type": "execute_result",
          "data": {
            "text/plain": [
              "กรุงเทพมหานคร    542448\n",
              "สมุทรปราการ      178372\n",
              "ชลบุรี           165137\n",
              "                  ...  \n",
              "สุระบุรี              1\n",
              "กะทู้                 1\n",
              "กาญจบุรี              1\n",
              "Name: province_of_onset, Length: 372, dtype: int64"
            ]
          },
          "metadata": {},
          "execution_count": 69
        }
      ]
    },
    {
      "cell_type": "code",
      "source": [
        "(df['province_of_onset'].value_counts() < 100)"
      ],
      "metadata": {
        "id": "kp9g15x6at6O",
        "outputId": "dd98721b-a448-48a7-be3e-be6e629953e1",
        "colab": {
          "base_uri": "https://localhost:8080/"
        }
      },
      "execution_count": 70,
      "outputs": [
        {
          "output_type": "execute_result",
          "data": {
            "text/plain": [
              "กรุงเทพมหานคร    False\n",
              "สมุทรปราการ      False\n",
              "ชลบุรี           False\n",
              "                 ...  \n",
              "สุระบุรี          True\n",
              "กะทู้             True\n",
              "กาญจบุรี          True\n",
              "Name: province_of_onset, Length: 372, dtype: bool"
            ]
          },
          "metadata": {},
          "execution_count": 70
        }
      ]
    },
    {
      "cell_type": "code",
      "source": [
        "useful_province = list(df['province_of_onset'].value_counts().index[:82])"
      ],
      "metadata": {
        "id": "eaV4o6M6aw5n"
      },
      "execution_count": 71,
      "outputs": []
    },
    {
      "cell_type": "code",
      "source": [
        "df[df['province_of_onset'].isin(useful_province)]['province_of_onset'].value_counts()"
      ],
      "metadata": {
        "id": "VQ-wftyuayIY",
        "outputId": "b7005b9e-19f2-46b8-93ee-e5b4532c94fa",
        "colab": {
          "base_uri": "https://localhost:8080/"
        }
      },
      "execution_count": 72,
      "outputs": [
        {
          "output_type": "execute_result",
          "data": {
            "text/plain": [
              "กรุงเทพมหานคร    542448\n",
              "สมุทรปราการ      178372\n",
              "ชลบุรี           165137\n",
              "                  ...  \n",
              "อยุธยา              304\n",
              "นครศรีฯ             176\n",
              "นราธฺวาส            152\n",
              "Name: province_of_onset, Length: 82, dtype: int64"
            ]
          },
          "metadata": {},
          "execution_count": 72
        }
      ]
    },
    {
      "cell_type": "code",
      "source": [
        "df[df['province_of_onset'].isin(useful_province)].groupby('province_of_onset').size()"
      ],
      "metadata": {
        "id": "ZsKPKADua0he",
        "outputId": "1905426e-4d19-4166-80d7-4818fb798bb2",
        "colab": {
          "base_uri": "https://localhost:8080/"
        }
      },
      "execution_count": 73,
      "outputs": [
        {
          "output_type": "execute_result",
          "data": {
            "text/plain": [
              "province_of_onset\n",
              "กทม                2258\n",
              "กระบี่            16138\n",
              "กรุงเทพมหานคร    542448\n",
              "                  ...  \n",
              "เลย                8982\n",
              "แพร่               4954\n",
              "แม่ฮ่องสอน         3908\n",
              "Length: 82, dtype: int64"
            ]
          },
          "metadata": {},
          "execution_count": 73
        }
      ]
    },
    {
      "cell_type": "markdown",
      "source": [
        "### change duplicate data"
      ],
      "metadata": {
        "id": "mwUAgJvTa4Dy"
      }
    },
    {
      "cell_type": "code",
      "source": [
        "df['province_of_onset'] = df['province_of_onset'].replace(['กรุงเทพมหานคร.'], 'กรุงเทพมหานคร')\n",
        "df['province_of_onset'] = df['province_of_onset'].replace(['กทม'], 'กรุงเทพมหานคร')\n",
        "df['province_of_onset'] = df['province_of_onset'].replace(['นครศรีฯ'], 'นครศรีธรรมราช')\n",
        "df['province_of_onset'] = df['province_of_onset'].replace(['นราธฺวาส'], 'นราธิวาส')\n",
        "df['province_of_onset'] = df['province_of_onset'].replace(['สุราษฏร์ธานี'], 'สุราษฎร์ธานี')\n",
        "df['province_of_onset'] = df['province_of_onset'].replace(['อยุธยา'], 'พระนครศรีอยุธยา')\n",
        "df['province_of_onset'] = df['province_of_onset'].replace(['นครศรีฯ'], 'นครศรีธรรมราช')\n",
        "df['province_of_onset'] = df['province_of_onset'].replace(['นครศรีฯ'], 'นครศรีธรรมราช')"
      ],
      "metadata": {
        "id": "5gLu6whea6WT"
      },
      "execution_count": 74,
      "outputs": []
    },
    {
      "cell_type": "code",
      "source": [
        "df[df['province_of_onset'].isin(useful_province)].groupby('province_of_onset').size()"
      ],
      "metadata": {
        "id": "rQ3Iwamva7Af",
        "outputId": "038bed07-65a2-4fdf-9730-b2f74e4963a9",
        "colab": {
          "base_uri": "https://localhost:8080/"
        }
      },
      "execution_count": 75,
      "outputs": [
        {
          "output_type": "execute_result",
          "data": {
            "text/plain": [
              "province_of_onset\n",
              "กระบี่            16138\n",
              "กรุงเทพมหานคร    545580\n",
              "กาญจนบุรี         22189\n",
              "                  ...  \n",
              "เลย                8982\n",
              "แพร่               4954\n",
              "แม่ฮ่องสอน         3908\n",
              "Length: 77, dtype: int64"
            ]
          },
          "metadata": {},
          "execution_count": 75
        }
      ]
    },
    {
      "cell_type": "code",
      "source": [
        "df[df['province_of_onset'].isin(useful_province)]['province_of_onset'].value_counts()"
      ],
      "metadata": {
        "id": "I0UoitFda8dA",
        "outputId": "1689b2af-e24f-41a8-a1f9-3805df26ba98",
        "colab": {
          "base_uri": "https://localhost:8080/"
        }
      },
      "execution_count": 76,
      "outputs": [
        {
          "output_type": "execute_result",
          "data": {
            "text/plain": [
              "กรุงเทพมหานคร    545580\n",
              "สมุทรปราการ      178372\n",
              "ชลบุรี           165137\n",
              "                  ...  \n",
              "แม่ฮ่องสอน         3908\n",
              "มุกดาหาร           3502\n",
              "อำนาจเจริญ         2495\n",
              "Name: province_of_onset, Length: 77, dtype: int64"
            ]
          },
          "metadata": {},
          "execution_count": 76
        }
      ]
    },
    {
      "cell_type": "code",
      "source": [
        "df.groupby('province_of_onset').size()"
      ],
      "metadata": {
        "colab": {
          "base_uri": "https://localhost:8080/"
        },
        "id": "ZQI_wjX629rI",
        "outputId": "5838c392-4f80-492e-9843-aa9de701d284"
      },
      "execution_count": 77,
      "outputs": [
        {
          "output_type": "execute_result",
          "data": {
            "text/plain": [
              "province_of_onset\n",
              "USA                2\n",
              "กทม.               3\n",
              "กบินทร์บุรี        1\n",
              "                  ..\n",
              "ไชโย               5\n",
              "ไม่มีชื่อหอพัก     1\n",
              "ไม่ระบุ           46\n",
              "Length: 366, dtype: int64"
            ]
          },
          "metadata": {},
          "execution_count": 77
        }
      ]
    },
    {
      "cell_type": "markdown",
      "source": [
        "## Delete row"
      ],
      "metadata": {
        "id": "CwyD-bnl5Ev3"
      }
    },
    {
      "cell_type": "markdown",
      "source": [
        "### delete province of onset that have value < 100"
      ],
      "metadata": {
        "id": "_-ievY9a3MdR"
      }
    },
    {
      "cell_type": "code",
      "source": [
        "unuse_province = list(df['province_of_onset'].value_counts().index[82:])"
      ],
      "metadata": {
        "id": "oWvmYlAV3fEf"
      },
      "execution_count": 78,
      "outputs": []
    },
    {
      "cell_type": "code",
      "source": [
        "df = df.drop(df[df['province_of_onset'].isin(unuse_province)].index)"
      ],
      "metadata": {
        "id": "tJ6jk1vZ3KtX"
      },
      "execution_count": 79,
      "outputs": []
    },
    {
      "cell_type": "code",
      "source": [
        "df['province_of_onset'].isin(unuse_province).value_counts()"
      ],
      "metadata": {
        "colab": {
          "base_uri": "https://localhost:8080/"
        },
        "id": "Q7n1K_DH4S1_",
        "outputId": "c3afb197-c4df-4500-dbaf-0dd3961284ee"
      },
      "execution_count": 80,
      "outputs": [
        {
          "output_type": "execute_result",
          "data": {
            "text/plain": [
              "False    3110927\n",
              "Name: province_of_onset, dtype: int64"
            ]
          },
          "metadata": {},
          "execution_count": 80
        }
      ]
    },
    {
      "cell_type": "markdown",
      "source": [
        "## Reset index"
      ],
      "metadata": {
        "id": "tBwGuOjJ5wLl"
      }
    },
    {
      "cell_type": "code",
      "source": [
        "df = df.reset_index()"
      ],
      "metadata": {
        "id": "ksqkM2ce52ok"
      },
      "execution_count": 81,
      "outputs": []
    },
    {
      "cell_type": "code",
      "source": [
        "df.tail()"
      ],
      "metadata": {
        "colab": {
          "base_uri": "https://localhost:8080/",
          "height": 0
        },
        "id": "idOwPCWL56AL",
        "outputId": "b9f5161f-c9ba-449d-b000-df7c62c09e5f"
      },
      "execution_count": 82,
      "outputs": [
        {
          "output_type": "execute_result",
          "data": {
            "text/plain": [
              "         level_0    index      No. announce_date Notified date  sex   age  \\\n",
              "3110922  3111650  3111650  3088869      9/3/2022      8/3/2022  ชาย   NaN   \n",
              "3110923  3111651  3111651  3088870      9/3/2022      8/3/2022  ชาย   NaN   \n",
              "3110924  3111652  3111652  3088871      9/3/2022      8/3/2022  ชาย   NaN   \n",
              "3110925  3111653  3111653  3088872      9/3/2022      8/3/2022  ชาย   NaN   \n",
              "3110926  3111654  3111654  3088873      9/3/2022      8/3/2022  ชาย  29.0   \n",
              "\n",
              "        Unit nationality province_of_isolation              risk  \\\n",
              "3110922  NaN        Thai                นครพนม  ทัณฑสถาน/เรือนจำ   \n",
              "3110923  NaN     Burmese             เชียงใหม่  ทัณฑสถาน/เรือนจำ   \n",
              "3110924  NaN        Thai             เชียงใหม่  ทัณฑสถาน/เรือนจำ   \n",
              "3110925  NaN        Thai             เชียงใหม่  ทัณฑสถาน/เรือนจำ   \n",
              "3110926   ปี     Burmese                   ตาก  ทัณฑสถาน/เรือนจำ   \n",
              "\n",
              "        province_of_onset district_of_onset   new_date          new_risk  \n",
              "3110922               NaN               NaN 2022-03-09  ทัณฑสถาน/เรือนจำ  \n",
              "3110923               NaN               NaN 2022-03-09  ทัณฑสถาน/เรือนจำ  \n",
              "3110924               NaN               NaN 2022-03-09  ทัณฑสถาน/เรือนจำ  \n",
              "3110925               NaN               NaN 2022-03-09  ทัณฑสถาน/เรือนจำ  \n",
              "3110926               NaN               NaN 2022-03-09  ทัณฑสถาน/เรือนจำ  "
            ],
            "text/html": [
              "\n",
              "  <div id=\"df-0ae6799b-d017-482b-aea2-6e2805ba69f3\">\n",
              "    <div class=\"colab-df-container\">\n",
              "      <div>\n",
              "<style scoped>\n",
              "    .dataframe tbody tr th:only-of-type {\n",
              "        vertical-align: middle;\n",
              "    }\n",
              "\n",
              "    .dataframe tbody tr th {\n",
              "        vertical-align: top;\n",
              "    }\n",
              "\n",
              "    .dataframe thead th {\n",
              "        text-align: right;\n",
              "    }\n",
              "</style>\n",
              "<table border=\"1\" class=\"dataframe\">\n",
              "  <thead>\n",
              "    <tr style=\"text-align: right;\">\n",
              "      <th></th>\n",
              "      <th>level_0</th>\n",
              "      <th>index</th>\n",
              "      <th>No.</th>\n",
              "      <th>announce_date</th>\n",
              "      <th>Notified date</th>\n",
              "      <th>sex</th>\n",
              "      <th>age</th>\n",
              "      <th>Unit</th>\n",
              "      <th>nationality</th>\n",
              "      <th>province_of_isolation</th>\n",
              "      <th>risk</th>\n",
              "      <th>province_of_onset</th>\n",
              "      <th>district_of_onset</th>\n",
              "      <th>new_date</th>\n",
              "      <th>new_risk</th>\n",
              "    </tr>\n",
              "  </thead>\n",
              "  <tbody>\n",
              "    <tr>\n",
              "      <th>3110922</th>\n",
              "      <td>3111650</td>\n",
              "      <td>3111650</td>\n",
              "      <td>3088869</td>\n",
              "      <td>9/3/2022</td>\n",
              "      <td>8/3/2022</td>\n",
              "      <td>ชาย</td>\n",
              "      <td>NaN</td>\n",
              "      <td>NaN</td>\n",
              "      <td>Thai</td>\n",
              "      <td>นครพนม</td>\n",
              "      <td>ทัณฑสถาน/เรือนจำ</td>\n",
              "      <td>NaN</td>\n",
              "      <td>NaN</td>\n",
              "      <td>2022-03-09</td>\n",
              "      <td>ทัณฑสถาน/เรือนจำ</td>\n",
              "    </tr>\n",
              "    <tr>\n",
              "      <th>3110923</th>\n",
              "      <td>3111651</td>\n",
              "      <td>3111651</td>\n",
              "      <td>3088870</td>\n",
              "      <td>9/3/2022</td>\n",
              "      <td>8/3/2022</td>\n",
              "      <td>ชาย</td>\n",
              "      <td>NaN</td>\n",
              "      <td>NaN</td>\n",
              "      <td>Burmese</td>\n",
              "      <td>เชียงใหม่</td>\n",
              "      <td>ทัณฑสถาน/เรือนจำ</td>\n",
              "      <td>NaN</td>\n",
              "      <td>NaN</td>\n",
              "      <td>2022-03-09</td>\n",
              "      <td>ทัณฑสถาน/เรือนจำ</td>\n",
              "    </tr>\n",
              "    <tr>\n",
              "      <th>3110924</th>\n",
              "      <td>3111652</td>\n",
              "      <td>3111652</td>\n",
              "      <td>3088871</td>\n",
              "      <td>9/3/2022</td>\n",
              "      <td>8/3/2022</td>\n",
              "      <td>ชาย</td>\n",
              "      <td>NaN</td>\n",
              "      <td>NaN</td>\n",
              "      <td>Thai</td>\n",
              "      <td>เชียงใหม่</td>\n",
              "      <td>ทัณฑสถาน/เรือนจำ</td>\n",
              "      <td>NaN</td>\n",
              "      <td>NaN</td>\n",
              "      <td>2022-03-09</td>\n",
              "      <td>ทัณฑสถาน/เรือนจำ</td>\n",
              "    </tr>\n",
              "    <tr>\n",
              "      <th>3110925</th>\n",
              "      <td>3111653</td>\n",
              "      <td>3111653</td>\n",
              "      <td>3088872</td>\n",
              "      <td>9/3/2022</td>\n",
              "      <td>8/3/2022</td>\n",
              "      <td>ชาย</td>\n",
              "      <td>NaN</td>\n",
              "      <td>NaN</td>\n",
              "      <td>Thai</td>\n",
              "      <td>เชียงใหม่</td>\n",
              "      <td>ทัณฑสถาน/เรือนจำ</td>\n",
              "      <td>NaN</td>\n",
              "      <td>NaN</td>\n",
              "      <td>2022-03-09</td>\n",
              "      <td>ทัณฑสถาน/เรือนจำ</td>\n",
              "    </tr>\n",
              "    <tr>\n",
              "      <th>3110926</th>\n",
              "      <td>3111654</td>\n",
              "      <td>3111654</td>\n",
              "      <td>3088873</td>\n",
              "      <td>9/3/2022</td>\n",
              "      <td>8/3/2022</td>\n",
              "      <td>ชาย</td>\n",
              "      <td>29.0</td>\n",
              "      <td>ปี</td>\n",
              "      <td>Burmese</td>\n",
              "      <td>ตาก</td>\n",
              "      <td>ทัณฑสถาน/เรือนจำ</td>\n",
              "      <td>NaN</td>\n",
              "      <td>NaN</td>\n",
              "      <td>2022-03-09</td>\n",
              "      <td>ทัณฑสถาน/เรือนจำ</td>\n",
              "    </tr>\n",
              "  </tbody>\n",
              "</table>\n",
              "</div>\n",
              "      <button class=\"colab-df-convert\" onclick=\"convertToInteractive('df-0ae6799b-d017-482b-aea2-6e2805ba69f3')\"\n",
              "              title=\"Convert this dataframe to an interactive table.\"\n",
              "              style=\"display:none;\">\n",
              "        \n",
              "  <svg xmlns=\"http://www.w3.org/2000/svg\" height=\"24px\"viewBox=\"0 0 24 24\"\n",
              "       width=\"24px\">\n",
              "    <path d=\"M0 0h24v24H0V0z\" fill=\"none\"/>\n",
              "    <path d=\"M18.56 5.44l.94 2.06.94-2.06 2.06-.94-2.06-.94-.94-2.06-.94 2.06-2.06.94zm-11 1L8.5 8.5l.94-2.06 2.06-.94-2.06-.94L8.5 2.5l-.94 2.06-2.06.94zm10 10l.94 2.06.94-2.06 2.06-.94-2.06-.94-.94-2.06-.94 2.06-2.06.94z\"/><path d=\"M17.41 7.96l-1.37-1.37c-.4-.4-.92-.59-1.43-.59-.52 0-1.04.2-1.43.59L10.3 9.45l-7.72 7.72c-.78.78-.78 2.05 0 2.83L4 21.41c.39.39.9.59 1.41.59.51 0 1.02-.2 1.41-.59l7.78-7.78 2.81-2.81c.8-.78.8-2.07 0-2.86zM5.41 20L4 18.59l7.72-7.72 1.47 1.35L5.41 20z\"/>\n",
              "  </svg>\n",
              "      </button>\n",
              "      \n",
              "  <style>\n",
              "    .colab-df-container {\n",
              "      display:flex;\n",
              "      flex-wrap:wrap;\n",
              "      gap: 12px;\n",
              "    }\n",
              "\n",
              "    .colab-df-convert {\n",
              "      background-color: #E8F0FE;\n",
              "      border: none;\n",
              "      border-radius: 50%;\n",
              "      cursor: pointer;\n",
              "      display: none;\n",
              "      fill: #1967D2;\n",
              "      height: 32px;\n",
              "      padding: 0 0 0 0;\n",
              "      width: 32px;\n",
              "    }\n",
              "\n",
              "    .colab-df-convert:hover {\n",
              "      background-color: #E2EBFA;\n",
              "      box-shadow: 0px 1px 2px rgba(60, 64, 67, 0.3), 0px 1px 3px 1px rgba(60, 64, 67, 0.15);\n",
              "      fill: #174EA6;\n",
              "    }\n",
              "\n",
              "    [theme=dark] .colab-df-convert {\n",
              "      background-color: #3B4455;\n",
              "      fill: #D2E3FC;\n",
              "    }\n",
              "\n",
              "    [theme=dark] .colab-df-convert:hover {\n",
              "      background-color: #434B5C;\n",
              "      box-shadow: 0px 1px 3px 1px rgba(0, 0, 0, 0.15);\n",
              "      filter: drop-shadow(0px 1px 2px rgba(0, 0, 0, 0.3));\n",
              "      fill: #FFFFFF;\n",
              "    }\n",
              "  </style>\n",
              "\n",
              "      <script>\n",
              "        const buttonEl =\n",
              "          document.querySelector('#df-0ae6799b-d017-482b-aea2-6e2805ba69f3 button.colab-df-convert');\n",
              "        buttonEl.style.display =\n",
              "          google.colab.kernel.accessAllowed ? 'block' : 'none';\n",
              "\n",
              "        async function convertToInteractive(key) {\n",
              "          const element = document.querySelector('#df-0ae6799b-d017-482b-aea2-6e2805ba69f3');\n",
              "          const dataTable =\n",
              "            await google.colab.kernel.invokeFunction('convertToInteractive',\n",
              "                                                     [key], {});\n",
              "          if (!dataTable) return;\n",
              "\n",
              "          const docLinkHtml = 'Like what you see? Visit the ' +\n",
              "            '<a target=\"_blank\" href=https://colab.research.google.com/notebooks/data_table.ipynb>data table notebook</a>'\n",
              "            + ' to learn more about interactive tables.';\n",
              "          element.innerHTML = '';\n",
              "          dataTable['output_type'] = 'display_data';\n",
              "          await google.colab.output.renderOutput(dataTable, element);\n",
              "          const docLink = document.createElement('div');\n",
              "          docLink.innerHTML = docLinkHtml;\n",
              "          element.appendChild(docLink);\n",
              "        }\n",
              "      </script>\n",
              "    </div>\n",
              "  </div>\n",
              "  "
            ]
          },
          "metadata": {},
          "execution_count": 82
        }
      ]
    },
    {
      "cell_type": "markdown",
      "source": [
        "## Drop na for all"
      ],
      "metadata": {
        "id": "YRQukVk5fjYO"
      }
    },
    {
      "cell_type": "code",
      "source": [
        "#df['No.'].count()"
      ],
      "metadata": {
        "id": "U57vu6rZ2Tll"
      },
      "execution_count": null,
      "outputs": []
    },
    {
      "cell_type": "code",
      "source": [
        "#del df['district_of_onset']\n",
        "#del df['Notified date']"
      ],
      "metadata": {
        "id": "PP2sgwZ9bCCl"
      },
      "execution_count": null,
      "outputs": []
    },
    {
      "cell_type": "code",
      "source": [
        "#df_no_na = df.dropna()"
      ],
      "metadata": {
        "id": "iBRo2oc6YztX"
      },
      "execution_count": null,
      "outputs": []
    },
    {
      "cell_type": "code",
      "source": [
        "#df_no_na['No.'].count()"
      ],
      "metadata": {
        "id": "clYjvy8cZXZ_"
      },
      "execution_count": null,
      "outputs": []
    },
    {
      "cell_type": "markdown",
      "source": [
        "------------------------------------------------"
      ],
      "metadata": {
        "id": "5qDgsES_1fnC"
      }
    },
    {
      "cell_type": "markdown",
      "source": [
        "# Answers"
      ],
      "metadata": {
        "id": "MAEjJLI5cL3v"
      }
    },
    {
      "cell_type": "markdown",
      "source": [
        "## เดือนที่ติดโควิดมากสุด"
      ],
      "metadata": {
        "id": "NWaJT_zK5XZA"
      }
    },
    {
      "cell_type": "code",
      "source": [
        "from matplotlib.dates import DateFormatter\n",
        "import matplotlib.dates as mdates"
      ],
      "metadata": {
        "id": "zyWoIRQgFgT6"
      },
      "execution_count": 83,
      "outputs": []
    },
    {
      "cell_type": "code",
      "source": [
        "df['new_date_my'] = df['new_date'].dt.strftime('%m/%y')"
      ],
      "metadata": {
        "id": "KpMmNFQP5g8H"
      },
      "execution_count": 84,
      "outputs": []
    },
    {
      "cell_type": "code",
      "source": [
        "df['new_date_my']"
      ],
      "metadata": {
        "colab": {
          "base_uri": "https://localhost:8080/"
        },
        "id": "W2im1TSX7Eqy",
        "outputId": "11c81319-6d40-480f-8cc7-60d63fa95f6f"
      },
      "execution_count": 85,
      "outputs": [
        {
          "output_type": "execute_result",
          "data": {
            "text/plain": [
              "0          01/20\n",
              "1          01/20\n",
              "2          01/20\n",
              "           ...  \n",
              "3110924    03/22\n",
              "3110925    03/22\n",
              "3110926    03/22\n",
              "Name: new_date_my, Length: 3110927, dtype: object"
            ]
          },
          "metadata": {},
          "execution_count": 85
        }
      ]
    },
    {
      "cell_type": "code",
      "source": [
        "df['new_date_my'].nunique()"
      ],
      "metadata": {
        "colab": {
          "base_uri": "https://localhost:8080/"
        },
        "id": "6wQQOL-mMtbo",
        "outputId": "9cd476cc-3179-4bc7-d406-f6bdc8ea7985"
      },
      "execution_count": 86,
      "outputs": [
        {
          "output_type": "execute_result",
          "data": {
            "text/plain": [
              "27"
            ]
          },
          "metadata": {},
          "execution_count": 86
        }
      ]
    },
    {
      "cell_type": "code",
      "source": [
        "fig, ax = plt.subplots(figsize=(15, 10))\n",
        "ax.hist(df['new_date'], bins = 27)\n",
        "\n",
        "# Define the date format\n",
        "ax.xaxis.set_major_formatter(mdates.DateFormatter(\"%b %Y\"))\n",
        "ax.xaxis.set_major_locator(mdates.MonthLocator(interval=1))\n",
        "plt.setp(ax.get_xticklabels(), rotation=30, ha=\"right\")\n",
        "ax.grid(True)\n",
        "plt.show()"
      ],
      "metadata": {
        "colab": {
          "base_uri": "https://localhost:8080/",
          "height": 615
        },
        "id": "42Ykgr6GFXE3",
        "outputId": "a443fe4a-ec94-49ca-b94c-bcc197768c7c"
      },
      "execution_count": 87,
      "outputs": [
        {
          "output_type": "display_data",
          "data": {
            "text/plain": [
              "<Figure size 1080x720 with 1 Axes>"
            ],
            "image/png": "[encoded data removed]"
          },
          "metadata": {
            "needs_background": "light"
          }
        }
      ]
    },
    {
      "cell_type": "markdown",
      "source": [
        "## คนที่เดินทางมาจากประเทศไหนเป็น covid มากสุด"
      ],
      "metadata": {
        "id": "NuywKdw4RU8y"
      }
    },
    {
      "cell_type": "code",
      "source": [
        "df.head()"
      ],
      "metadata": {
        "id": "n_cnIygSR3UU",
        "outputId": "0e1d7bd0-6efe-47d0-8a30-4fd1143dff6b",
        "colab": {
          "base_uri": "https://localhost:8080/",
          "height": 808
        }
      },
      "execution_count": 99,
      "outputs": [
        {
          "output_type": "execute_result",
          "data": {
            "text/plain": [
              "   level_0  index  No. announce_date Notified date   sex   age Unit  \\\n",
              "0        0      0    1     12/1/2020           NaN  หญิง  61.0   ปี   \n",
              "1        1      1    2     17/1/2020           NaN  หญิง  74.0   ปี   \n",
              "2        2      2    3     22/1/2020           NaN  หญิง  73.0   ปี   \n",
              "3        3      3    4     22/1/2020           NaN   ชาย  68.0   ปี   \n",
              "4        4      4    5     24/1/2020           NaN  หญิง  66.0   ปี   \n",
              "\n",
              "  nationality province_of_isolation                              risk  \\\n",
              "0     Chinese         กรุงเทพมหานคร  คนต่างชาติเดินทางมาจากต่างประเทศ   \n",
              "1     Chinese         กรุงเทพมหานคร  คนต่างชาติเดินทางมาจากต่างประเทศ   \n",
              "2        Thai                นครปฐม  คนต่างชาติเดินทางมาจากต่างประเทศ   \n",
              "3     Chinese         กรุงเทพมหานคร  คนต่างชาติเดินทางมาจากต่างประเทศ   \n",
              "4     Chinese               นนทบุรี  คนต่างชาติเดินทางมาจากต่างประเทศ   \n",
              "\n",
              "  province_of_onset district_of_onset   new_date  \\\n",
              "0     กรุงเทพมหานคร               NaN 2020-01-12   \n",
              "1     กรุงเทพมหานคร               NaN 2020-01-17   \n",
              "2            นครปฐม             เมือง 2020-01-22   \n",
              "3     กรุงเทพมหานคร               NaN 2020-01-22   \n",
              "4     กรุงเทพมหานคร               NaN 2020-01-24   \n",
              "\n",
              "                       new_risk new_date_my   region  \n",
              "0  ผู้ที่เดินทางมาจากต่างประเทศ       01/20  ภาคกลาง  \n",
              "1  ผู้ที่เดินทางมาจากต่างประเทศ       01/20  ภาคกลาง  \n",
              "2  ผู้ที่เดินทางมาจากต่างประเทศ       01/20  ภาคกลาง  \n",
              "3  ผู้ที่เดินทางมาจากต่างประเทศ       01/20  ภาคกลาง  \n",
              "4  ผู้ที่เดินทางมาจากต่างประเทศ       01/20  ภาคกลาง  "
            ],
            "text/html": [
              "\n",
              "  <div id=\"df-af0dac7a-ee97-4dce-b87c-34c1e7e54a7a\">\n",
              "    <div class=\"colab-df-container\">\n",
              "      <div>\n",
              "<style scoped>\n",
              "    .dataframe tbody tr th:only-of-type {\n",
              "        vertical-align: middle;\n",
              "    }\n",
              "\n",
              "    .dataframe tbody tr th {\n",
              "        vertical-align: top;\n",
              "    }\n",
              "\n",
              "    .dataframe thead th {\n",
              "        text-align: right;\n",
              "    }\n",
              "</style>\n",
              "<table border=\"1\" class=\"dataframe\">\n",
              "  <thead>\n",
              "    <tr style=\"text-align: right;\">\n",
              "      <th></th>\n",
              "      <th>level_0</th>\n",
              "      <th>index</th>\n",
              "      <th>No.</th>\n",
              "      <th>announce_date</th>\n",
              "      <th>Notified date</th>\n",
              "      <th>sex</th>\n",
              "      <th>age</th>\n",
              "      <th>Unit</th>\n",
              "      <th>nationality</th>\n",
              "      <th>province_of_isolation</th>\n",
              "      <th>risk</th>\n",
              "      <th>province_of_onset</th>\n",
              "      <th>district_of_onset</th>\n",
              "      <th>new_date</th>\n",
              "      <th>new_risk</th>\n",
              "      <th>new_date_my</th>\n",
              "      <th>region</th>\n",
              "    </tr>\n",
              "  </thead>\n",
              "  <tbody>\n",
              "    <tr>\n",
              "      <th>0</th>\n",
              "      <td>0</td>\n",
              "      <td>0</td>\n",
              "      <td>1</td>\n",
              "      <td>12/1/2020</td>\n",
              "      <td>NaN</td>\n",
              "      <td>หญิง</td>\n",
              "      <td>61.0</td>\n",
              "      <td>ปี</td>\n",
              "      <td>Chinese</td>\n",
              "      <td>กรุงเทพมหานคร</td>\n",
              "      <td>คนต่างชาติเดินทางมาจากต่างประเทศ</td>\n",
              "      <td>กรุงเทพมหานคร</td>\n",
              "      <td>NaN</td>\n",
              "      <td>2020-01-12</td>\n",
              "      <td>ผู้ที่เดินทางมาจากต่างประเทศ</td>\n",
              "      <td>01/20</td>\n",
              "      <td>ภาคกลาง</td>\n",
              "    </tr>\n",
              "    <tr>\n",
              "      <th>1</th>\n",
              "      <td>1</td>\n",
              "      <td>1</td>\n",
              "      <td>2</td>\n",
              "      <td>17/1/2020</td>\n",
              "      <td>NaN</td>\n",
              "      <td>หญิง</td>\n",
              "      <td>74.0</td>\n",
              "      <td>ปี</td>\n",
              "      <td>Chinese</td>\n",
              "      <td>กรุงเทพมหานคร</td>\n",
              "      <td>คนต่างชาติเดินทางมาจากต่างประเทศ</td>\n",
              "      <td>กรุงเทพมหานคร</td>\n",
              "      <td>NaN</td>\n",
              "      <td>2020-01-17</td>\n",
              "      <td>ผู้ที่เดินทางมาจากต่างประเทศ</td>\n",
              "      <td>01/20</td>\n",
              "      <td>ภาคกลาง</td>\n",
              "    </tr>\n",
              "    <tr>\n",
              "      <th>2</th>\n",
              "      <td>2</td>\n",
              "      <td>2</td>\n",
              "      <td>3</td>\n",
              "      <td>22/1/2020</td>\n",
              "      <td>NaN</td>\n",
              "      <td>หญิง</td>\n",
              "      <td>73.0</td>\n",
              "      <td>ปี</td>\n",
              "      <td>Thai</td>\n",
              "      <td>นครปฐม</td>\n",
              "      <td>คนต่างชาติเดินทางมาจากต่างประเทศ</td>\n",
              "      <td>นครปฐม</td>\n",
              "      <td>เมือง</td>\n",
              "      <td>2020-01-22</td>\n",
              "      <td>ผู้ที่เดินทางมาจากต่างประเทศ</td>\n",
              "      <td>01/20</td>\n",
              "      <td>ภาคกลาง</td>\n",
              "    </tr>\n",
              "    <tr>\n",
              "      <th>3</th>\n",
              "      <td>3</td>\n",
              "      <td>3</td>\n",
              "      <td>4</td>\n",
              "      <td>22/1/2020</td>\n",
              "      <td>NaN</td>\n",
              "      <td>ชาย</td>\n",
              "      <td>68.0</td>\n",
              "      <td>ปี</td>\n",
              "      <td>Chinese</td>\n",
              "      <td>กรุงเทพมหานคร</td>\n",
              "      <td>คนต่างชาติเดินทางมาจากต่างประเทศ</td>\n",
              "      <td>กรุงเทพมหานคร</td>\n",
              "      <td>NaN</td>\n",
              "      <td>2020-01-22</td>\n",
              "      <td>ผู้ที่เดินทางมาจากต่างประเทศ</td>\n",
              "      <td>01/20</td>\n",
              "      <td>ภาคกลาง</td>\n",
              "    </tr>\n",
              "    <tr>\n",
              "      <th>4</th>\n",
              "      <td>4</td>\n",
              "      <td>4</td>\n",
              "      <td>5</td>\n",
              "      <td>24/1/2020</td>\n",
              "      <td>NaN</td>\n",
              "      <td>หญิง</td>\n",
              "      <td>66.0</td>\n",
              "      <td>ปี</td>\n",
              "      <td>Chinese</td>\n",
              "      <td>นนทบุรี</td>\n",
              "      <td>คนต่างชาติเดินทางมาจากต่างประเทศ</td>\n",
              "      <td>กรุงเทพมหานคร</td>\n",
              "      <td>NaN</td>\n",
              "      <td>2020-01-24</td>\n",
              "      <td>ผู้ที่เดินทางมาจากต่างประเทศ</td>\n",
              "      <td>01/20</td>\n",
              "      <td>ภาคกลาง</td>\n",
              "    </tr>\n",
              "  </tbody>\n",
              "</table>\n",
              "</div>\n",
              "      <button class=\"colab-df-convert\" onclick=\"convertToInteractive('df-af0dac7a-ee97-4dce-b87c-34c1e7e54a7a')\"\n",
              "              title=\"Convert this dataframe to an interactive table.\"\n",
              "              style=\"display:none;\">\n",
              "        \n",
              "  <svg xmlns=\"http://www.w3.org/2000/svg\" height=\"24px\"viewBox=\"0 0 24 24\"\n",
              "       width=\"24px\">\n",
              "    <path d=\"M0 0h24v24H0V0z\" fill=\"none\"/>\n",
              "    <path d=\"M18.56 5.44l.94 2.06.94-2.06 2.06-.94-2.06-.94-.94-2.06-.94 2.06-2.06.94zm-11 1L8.5 8.5l.94-2.06 2.06-.94-2.06-.94L8.5 2.5l-.94 2.06-2.06.94zm10 10l.94 2.06.94-2.06 2.06-.94-2.06-.94-.94-2.06-.94 2.06-2.06.94z\"/><path d=\"M17.41 7.96l-1.37-1.37c-.4-.4-.92-.59-1.43-.59-.52 0-1.04.2-1.43.59L10.3 9.45l-7.72 7.72c-.78.78-.78 2.05 0 2.83L4 21.41c.39.39.9.59 1.41.59.51 0 1.02-.2 1.41-.59l7.78-7.78 2.81-2.81c.8-.78.8-2.07 0-2.86zM5.41 20L4 18.59l7.72-7.72 1.47 1.35L5.41 20z\"/>\n",
              "  </svg>\n",
              "      </button>\n",
              "      \n",
              "  <style>\n",
              "    .colab-df-container {\n",
              "      display:flex;\n",
              "      flex-wrap:wrap;\n",
              "      gap: 12px;\n",
              "    }\n",
              "\n",
              "    .colab-df-convert {\n",
              "      background-color: #E8F0FE;\n",
              "      border: none;\n",
              "      border-radius: 50%;\n",
              "      cursor: pointer;\n",
              "      display: none;\n",
              "      fill: #1967D2;\n",
              "      height: 32px;\n",
              "      padding: 0 0 0 0;\n",
              "      width: 32px;\n",
              "    }\n",
              "\n",
              "    .colab-df-convert:hover {\n",
              "      background-color: #E2EBFA;\n",
              "      box-shadow: 0px 1px 2px rgba(60, 64, 67, 0.3), 0px 1px 3px 1px rgba(60, 64, 67, 0.15);\n",
              "      fill: #174EA6;\n",
              "    }\n",
              "\n",
              "    [theme=dark] .colab-df-convert {\n",
              "      background-color: #3B4455;\n",
              "      fill: #D2E3FC;\n",
              "    }\n",
              "\n",
              "    [theme=dark] .colab-df-convert:hover {\n",
              "      background-color: #434B5C;\n",
              "      box-shadow: 0px 1px 3px 1px rgba(0, 0, 0, 0.15);\n",
              "      filter: drop-shadow(0px 1px 2px rgba(0, 0, 0, 0.3));\n",
              "      fill: #FFFFFF;\n",
              "    }\n",
              "  </style>\n",
              "\n",
              "      <script>\n",
              "        const buttonEl =\n",
              "          document.querySelector('#df-af0dac7a-ee97-4dce-b87c-34c1e7e54a7a button.colab-df-convert');\n",
              "        buttonEl.style.display =\n",
              "          google.colab.kernel.accessAllowed ? 'block' : 'none';\n",
              "\n",
              "        async function convertToInteractive(key) {\n",
              "          const element = document.querySelector('#df-af0dac7a-ee97-4dce-b87c-34c1e7e54a7a');\n",
              "          const dataTable =\n",
              "            await google.colab.kernel.invokeFunction('convertToInteractive',\n",
              "                                                     [key], {});\n",
              "          if (!dataTable) return;\n",
              "\n",
              "          const docLinkHtml = 'Like what you see? Visit the ' +\n",
              "            '<a target=\"_blank\" href=https://colab.research.google.com/notebooks/data_table.ipynb>data table notebook</a>'\n",
              "            + ' to learn more about interactive tables.';\n",
              "          element.innerHTML = '';\n",
              "          dataTable['output_type'] = 'display_data';\n",
              "          await google.colab.output.renderOutput(dataTable, element);\n",
              "          const docLink = document.createElement('div');\n",
              "          docLink.innerHTML = docLinkHtml;\n",
              "          element.appendChild(docLink);\n",
              "        }\n",
              "      </script>\n",
              "    </div>\n",
              "  </div>\n",
              "  "
            ]
          },
          "metadata": {},
          "execution_count": 99
        }
      ]
    },
    {
      "cell_type": "code",
      "source": [
        "df[df['new_risk'] == 'ผู้ที่เดินทางมาจากต่างประเทศ']['nationality'].value_counts()"
      ],
      "metadata": {
        "id": "lFEWsgmNRa7H",
        "outputId": "48d153a6-3d3c-470e-bf51-c7d05c7fcd9c",
        "colab": {
          "base_uri": "https://localhost:8080/"
        }
      },
      "execution_count": 101,
      "outputs": [
        {
          "output_type": "execute_result",
          "data": {
            "text/plain": [
              "Thai        6447\n",
              "British      672\n",
              "Burmese      571\n",
              "            ... \n",
              "Malian         1\n",
              "Maltese        1\n",
              "Bruneian       1\n",
              "Name: nationality, Length: 122, dtype: int64"
            ]
          },
          "metadata": {},
          "execution_count": 101
        }
      ]
    },
    {
      "cell_type": "markdown",
      "source": [
        "## จังหวัดที่ควรเอางบไปลง"
      ],
      "metadata": {
        "id": "aWOt_7e3Qkyd"
      }
    },
    {
      "cell_type": "code",
      "source": [
        "df['province_of_onset'].isnull().sum()"
      ],
      "metadata": {
        "colab": {
          "base_uri": "https://localhost:8080/"
        },
        "id": "sKpvwODHyO8Q",
        "outputId": "d51c0dad-eaa8-4521-dde6-b9a8964634c8"
      },
      "execution_count": 88,
      "outputs": [
        {
          "output_type": "execute_result",
          "data": {
            "text/plain": [
              "378350"
            ]
          },
          "metadata": {},
          "execution_count": 88
        }
      ]
    },
    {
      "cell_type": "code",
      "source": [
        "df[df['province_of_isolation'] != df['province_of_onset']]['province_of_onset'].value_counts()"
      ],
      "metadata": {
        "colab": {
          "base_uri": "https://localhost:8080/"
        },
        "id": "g0soPvpez036",
        "outputId": "f3b1c517-84f8-4d0f-b2cf-5821cbca4c40"
      },
      "execution_count": 89,
      "outputs": [
        {
          "output_type": "execute_result",
          "data": {
            "text/plain": [
              "กรุงเทพมหานคร    80663\n",
              "ปทุมธานี         28180\n",
              "สมุทรปราการ      26523\n",
              "                 ...  \n",
              "กัมพูชา             44\n",
              "ต่างจังหวัด         31\n",
              "กำเพงเพชร           21\n",
              "Name: province_of_onset, Length: 82, dtype: int64"
            ]
          },
          "metadata": {},
          "execution_count": 89
        }
      ]
    },
    {
      "cell_type": "code",
      "source": [
        "df_bkk = df[df['province_of_onset'] == 'กรุงเทพมหานคร']"
      ],
      "metadata": {
        "id": "ZgsqOBW7cSsJ"
      },
      "execution_count": 90,
      "outputs": []
    },
    {
      "cell_type": "code",
      "source": [
        "df_bkk[df_bkk['province_of_isolation'] != df_bkk['province_of_onset']]['province_of_isolation'].value_counts()"
      ],
      "metadata": {
        "id": "_DGabmD8cU3-",
        "outputId": "60620451-b01d-443f-a3cc-75d744b05caa",
        "colab": {
          "base_uri": "https://localhost:8080/"
        }
      },
      "execution_count": 91,
      "outputs": [
        {
          "output_type": "execute_result",
          "data": {
            "text/plain": [
              "สมุทรปราการ    29048\n",
              "นนทบุรี         9306\n",
              "อุบลราชธานี     7420\n",
              "               ...  \n",
              "ระนอง              3\n",
              "อุทัยธานี          2\n",
              "เพชรบูรณ์          2\n",
              "Name: province_of_isolation, Length: 76, dtype: int64"
            ]
          },
          "metadata": {},
          "execution_count": 91
        }
      ]
    },
    {
      "cell_type": "markdown",
      "source": [
        "## อายุเท่าไหร่ ทำยังไง"
      ],
      "metadata": {
        "id": "NHmz5zmY5UqU"
      }
    },
    {
      "cell_type": "code",
      "source": [
        "import matplotlib.pyplot as plt\n",
        "fig = plt.figure()\n",
        "ax = fig.add_subplot(111)\n",
        "ax.hist(df['age'], bins = 12)\n",
        "plt.xticks(range(0,121,10))\n",
        "plt.show()"
      ],
      "metadata": {
        "id": "E7rKE2hNrzRC",
        "outputId": "2a8e50e0-8764-4c1a-ef4d-cc834d6d4d23",
        "colab": {
          "base_uri": "https://localhost:8080/",
          "height": 265
        }
      },
      "execution_count": 92,
      "outputs": [
        {
          "output_type": "display_data",
          "data": {
            "text/plain": [
              "<Figure size 432x288 with 1 Axes>"
            ],
            "image/png": "[encoded data removed]"
          },
          "metadata": {
            "needs_background": "light"
          }
        }
      ]
    },
    {
      "cell_type": "code",
      "source": [
        "df[(df['age'] >= 20) & (df['age'] <= 40)]['new_risk'].value_counts()"
      ],
      "metadata": {
        "id": "DNSBzUprcV1p",
        "outputId": "8d5818de-0df8-402e-db75-6bae795412fe",
        "colab": {
          "base_uri": "https://localhost:8080/"
        }
      },
      "execution_count": 93,
      "outputs": [
        {
          "output_type": "execute_result",
          "data": {
            "text/plain": [
              "สัมผัสใกล้ชิดกับผู้ป่วยยืนยันรายก่อนหน้านี้         526348\n",
              "อื่นๆ                                               330033\n",
              "การค้นหาผู้ป่วยเชิงรุกและค้นหาผู้ติดเชื้อในชุมชน    111943\n",
              "                                                     ...  \n",
              "ปอดอักเสบ                                             1171\n",
              "สถานศึกษา                                              836\n",
              "พิธีกรรมทางศาสนา                                       683\n",
              "Name: new_risk, Length: 18, dtype: int64"
            ]
          },
          "metadata": {},
          "execution_count": 93
        }
      ]
    },
    {
      "cell_type": "markdown",
      "source": [
        "-------------------"
      ],
      "metadata": {
        "id": "m0bXbKI35gKO"
      }
    },
    {
      "cell_type": "markdown",
      "source": [
        "## เที่ยวภาคไหนดี"
      ],
      "metadata": {
        "id": "UZBkvKDhQ4wU"
      }
    },
    {
      "cell_type": "markdown",
      "source": [
        "### create region"
      ],
      "metadata": {
        "id": "ppq8wWjdcltK"
      }
    },
    {
      "cell_type": "code",
      "source": [
        "northern = ['เชียงราย', 'เชียงใหม่', 'น่าน', 'พะเยา', 'แพร่', 'แม่ฮ่องสอน', 'ลำปาง', 'ลำพูน', 'อุตรดิตถ์']\n",
        "northeastern = ['กาฬสินธุ์', 'ขอนแก่น', 'ชัยภูมิ', 'นครพนม', 'นครราชสีมา', 'บึงกาฬ', 'บุรีรัมย์', 'มหาสารคาม', 'มุกดาหาร', \n",
        "                'ยโสธร', 'ร้อยเอ็ด', 'เลย', 'สกลนคร', 'สุรินทร์', 'ศรีสะเกษ', 'หนองคาย', 'หนองบัวลำภู', 'อุดรธานี', 'อุบลราชธานี', 'อำนาจเจริญ']\n",
        "central = ['กรุงเทพมหานคร','กำแพงเพชร','ชัยนาท','นครนายก','นครปฐม','นครสวรรค์','นนทบุรี','ปทุมธานี','พระนครศรีอยุธยา','พิจิตร',\n",
        "           'พิษณุโลก','เพชรบูรณ์','ลพบุรี','สมุทรปราการ','สมุทรสงคราม','สมุทรสาคร','สิงห์บุรี','สุโขทัย','สุพรรณบุรี','สระบุรี','อ่างทอง','อุทัยธานี']\n",
        "eastern = ['จันทบุรี','ฉะเชิงเทรา','ชลบุรี','ตราด','ปราจีนบุรี','ระยอง','สระแก้ว']\n",
        "western = ['กาญจนบุรี','ตาก','ประจวบคีรีขันธ์','เพชรบุรี','ราชบุรี']\n",
        "southern = ['กระบี่','ชุมพร','ตรัง','นครศรีธรรมราช','นราธิวาส','ปัตตานี','พังงา','พัทลุง','ภูเก็ต','ระนอง','สตูล','สงขลา','สุราษฎร์ธานี','ยะลา']"
      ],
      "metadata": {
        "id": "Eo5MUm4wcu6w"
      },
      "execution_count": 94,
      "outputs": []
    },
    {
      "cell_type": "code",
      "source": [
        "# create a list of our conditions\n",
        "conditions = [\n",
        "    (df['province_of_onset'].isin(northern)),\n",
        "    (df['province_of_onset'].isin(northeastern)), \n",
        "    (df['province_of_onset'].isin(central)),\n",
        "    (df['province_of_onset'].isin(eastern)), \n",
        "    (df['province_of_onset'].isin(western)), \n",
        "    (df['province_of_onset'].isin(southern)), \n",
        "]\n",
        "\n",
        "# create a list of the values we want to assign for each condition\n",
        "values = ['ภาคเหนือ', 'ภาคตะวันออกเฉียงเหนือ', 'ภาคกลาง', 'ภาคตะวันออก', 'ภาคตะวันตก', 'ภาคใต้']\n",
        "\n",
        "# create a new column and use np.select to assign values to it using our lists as arguments\n",
        "df['region'] = np.select(conditions, values, default = None)\n",
        "\n",
        "# display updated DataFrame\n",
        "df['region'].value_counts()"
      ],
      "metadata": {
        "id": "AEopbVUvhhbm",
        "outputId": "44d3c49a-2a29-48c9-8709-0e05024e1a3e",
        "colab": {
          "base_uri": "https://localhost:8080/"
        }
      },
      "execution_count": 95,
      "outputs": [
        {
          "output_type": "execute_result",
          "data": {
            "text/plain": [
              "ภาคกลาง                  1385662\n",
              "ภาคใต้                    475812\n",
              "ภาคตะวันออก               384326\n",
              "ภาคตะวันออกเฉียงเหนือ     251082\n",
              "ภาคตะวันตก                147525\n",
              "ภาคเหนือ                   87933\n",
              "Name: region, dtype: int64"
            ]
          },
          "metadata": {},
          "execution_count": 95
        }
      ]
    },
    {
      "cell_type": "code",
      "source": [
        "df['region'].isnull().sum()"
      ],
      "metadata": {
        "id": "EDqC1kT5jRBQ",
        "outputId": "a8dd80e2-b78c-4173-e5a9-1ef28d8d3c88",
        "colab": {
          "base_uri": "https://localhost:8080/"
        }
      },
      "execution_count": 96,
      "outputs": [
        {
          "output_type": "execute_result",
          "data": {
            "text/plain": [
              "378587"
            ]
          },
          "metadata": {},
          "execution_count": 96
        }
      ]
    },
    {
      "cell_type": "markdown",
      "source": [
        "# export Data"
      ],
      "metadata": {
        "id": "jQ9NminnfYJI"
      }
    },
    {
      "cell_type": "code",
      "source": [
        "''' from google.colab import files\n",
        "df.to_csv('datacovid.csv') \n",
        "files.download('datacovid.csv') '''"
      ],
      "metadata": {
        "id": "L5ItSuQdZb4-",
        "outputId": "c0915ce0-62e5-469f-8008-ece65c8ee3d1",
        "colab": {
          "base_uri": "https://localhost:8080/",
          "height": 35
        }
      },
      "execution_count": null,
      "outputs": [
        {
          "output_type": "execute_result",
          "data": {
            "text/plain": [
              "\" from google.colab import files\\ndf.to_csv('datacovid.csv') \\nfiles.download('datacovid.csv') \""
            ],
            "application/vnd.google.colaboratory.intrinsic+json": {
              "type": "string"
            }
          },
          "metadata": {},
          "execution_count": 79
        }
      ]
    },
    {
      "cell_type": "code",
      "source": [
        ""
      ],
      "metadata": {
        "id": "Vrw_2TkKaeuc"
      },
      "execution_count": null,
      "outputs": []
    }
  ]
}