{
  "nbformat": 4,
  "nbformat_minor": 0,
  "metadata": {
    "colab": {
      "name": "Midterm_DADS5001.ipynb",
      "provenance": [],
      "toc_visible": true,
      "mount_file_id": "https://github.com/macgyver121/DADS5001/blob/main/Exercise/Midterm_DADS5001.ipynb",
      "authorship_tag": "ABX9TyOP99vHVaYa99xKvW3Y5eES",
      "include_colab_link": true
    },
    "kernelspec": {
      "name": "python3",
      "display_name": "Python 3"
    },
    "language_info": {
      "name": "python"
    }
  },
  "cells": [
    {
      "cell_type": "markdown",
      "metadata": {
        "id": "view-in-github",
        "colab_type": "text"
      },
      "source": [
        "<a href=\"https://colab.research.google.com/github/macgyver121/DADS5001/blob/main/Exercise/Midterm_DADS5001.ipynb\" target=\"_parent\"><img src=\"https://colab.research.google.com/assets/colab-badge.svg\" alt=\"Open In Colab\"/></a>"
      ]
    },
    {
      "cell_type": "markdown",
      "source": [
        "# Question for Test"
      ],
      "metadata": {
        "id": "IHYcX1Dx04mX"
      }
    },
    {
      "cell_type": "markdown",
      "source": [
        "คำถาม\n",
        "- มีคนต่างชาติที่มาที่ติดโควิดที่ประเทศไทยเท่าไหร่\n",
        "- คนที่เดินทางมาจากตต่างประเทศ ประเทศไหนติดโควิดมาจากต้นทางมากที่สุด\n",
        "- ช่วงอายุไหนติดโควิดมากที่สุด\n",
        "- ผู้ชายหรือผู้หญิงติดโควิดมากกว่ากัน\n",
        "- ความเสี่ยงที่ทำให้คนติดเชื้อ 3 อันดับแรก คืออะไร\n",
        "- ถ้าเราต้องพาพนักงานในบริษัทไปสัมนาที่ต่างจังหวัด โดยพนักงานเสนอจังหวัดดังนี้ เชียงใหม่ ขอนแก่น ภูเก็ต เราจะเลือก\n",
        "จังหวัดไหนในการสัมนาโดยคำนึงถึงเรื่องโควิดเป็นสำคัญ\n"
      ],
      "metadata": {
        "id": "Uulru3yj1vF9"
      }
    },
    {
      "cell_type": "markdown",
      "source": [
        "คำถาม insight\n",
        "- ถ้าเพื่อนคุณมาจากต่างประเทศ ต้องการไปเที่ยวภาคใดภาคหนึ่งของประเทศไทย เขาควรเลือกไปเที่ยวภาคไหน ซึ่งเขาเป็นคนที่กังวลเรื่องโควิดค่อนข้างมาก\n",
        "\n",
        "- ในช่วงสงกรานต์ที่จะถึง ถ้าออกแคมเปญเรื่องโควิดได้ ควรทำอย่างไร\n",
        "ดูอายุ\n",
        "ดูว่าช่วงอายุนั้นติดจากอะไรมากที่สุด\n",
        "\n",
        "- คิดว่าตั้งแต่มีการระบาดของโรคโควิดในประเทศไทย ถ้ามีงบประมาณอยู่ก้อนนึง แล้วต้องการเพิ่มเตียงและบุคลกรณ์ทางการแพทย์ให้จังหวัดใดจังหวัดนึงได้ ควรเพิ่มในจังหวัดไหนมากที่สุด"
      ],
      "metadata": {
        "id": "hJadQGTSZs8i"
      }
    },
    {
      "cell_type": "code",
      "source": [
        ""
      ],
      "metadata": {
        "id": "BjUPBUQC04V4"
      },
      "execution_count": null,
      "outputs": []
    },
    {
      "cell_type": "markdown",
      "source": [
        "# Data preparation"
      ],
      "metadata": {
        "id": "KH6N_qKq08Ej"
      }
    },
    {
      "cell_type": "markdown",
      "source": [
        "## Import Data"
      ],
      "metadata": {
        "id": "AWNnUk6ze_TI"
      }
    },
    {
      "cell_type": "code",
      "source": [
        "from google.colab import drive\n",
        "drive.mount('/content/drive')"
      ],
      "metadata": {
        "colab": {
          "base_uri": "https://localhost:8080/"
        },
        "id": "nMhlNAmHVKGn",
        "outputId": "d9f76737-5c38-4f6b-befd-aa3124014619"
      },
      "execution_count": 1,
      "outputs": [
        {
          "output_type": "stream",
          "name": "stdout",
          "text": [
            "Drive already mounted at /content/drive; to attempt to forcibly remount, call drive.mount(\"/content/drive\", force_remount=True).\n"
          ]
        }
      ]
    },
    {
      "cell_type": "code",
      "source": [
        "!pwd"
      ],
      "metadata": {
        "colab": {
          "base_uri": "https://localhost:8080/"
        },
        "id": "QweTIvN2VKtU",
        "outputId": "83aa9442-de6d-4c7e-a470-7c86616d65fa"
      },
      "execution_count": 2,
      "outputs": [
        {
          "output_type": "stream",
          "name": "stdout",
          "text": [
            "/content\n"
          ]
        }
      ]
    },
    {
      "cell_type": "code",
      "source": [
        "import pandas as pd\n",
        "import numpy as np"
      ],
      "metadata": {
        "id": "QDatad5QVnGW"
      },
      "execution_count": 3,
      "outputs": []
    },
    {
      "cell_type": "code",
      "source": [
        "df1 = pd.read_csv('/content/drive/MyDrive/DADS/DADS5001/confirmed-cases.csv')\n",
        "df2 = pd.read_csv('/content/drive/MyDrive/DADS/DADS5001/confirmed-cases-since-120864.csv')\n",
        "df3 = pd.read_csv('/content/drive/MyDrive/DADS/DADS5001/confirmed-cases-since-271064.csv')\n",
        "df4 = pd.read_csv('/content/drive/MyDrive/DADS/DADS5001/confirmed-cases-since-280265.csv')"
      ],
      "metadata": {
        "colab": {
          "base_uri": "https://localhost:8080/"
        },
        "id": "gt0kI9dtVqUE",
        "outputId": "4395aee9-28bd-4c52-bfbb-92b0987d8dc4"
      },
      "execution_count": 4,
      "outputs": [
        {
          "output_type": "stream",
          "name": "stderr",
          "text": [
            "/usr/local/lib/python3.7/dist-packages/IPython/core/interactiveshell.py:2882: DtypeWarning: Columns (4) have mixed types.Specify dtype option on import or set low_memory=False.\n",
            "  exec(code_obj, self.user_global_ns, self.user_ns)\n"
          ]
        }
      ]
    },
    {
      "cell_type": "markdown",
      "source": [
        "## Check info"
      ],
      "metadata": {
        "id": "RrreAvrQfDa0"
      }
    },
    {
      "cell_type": "code",
      "source": [
        "df1.info()"
      ],
      "metadata": {
        "colab": {
          "base_uri": "https://localhost:8080/"
        },
        "id": "h9CqK5AlV1eK",
        "outputId": "9b1f9f87-dc35-4b65-e28c-24b30a6b5b9f"
      },
      "execution_count": 5,
      "outputs": [
        {
          "output_type": "stream",
          "name": "stdout",
          "text": [
            "<class 'pandas.core.frame.DataFrame'>\n",
            "RangeIndex: 839771 entries, 0 to 839770\n",
            "Data columns (total 11 columns):\n",
            " #   Column                 Non-Null Count   Dtype \n",
            "---  ------                 --------------   ----- \n",
            " 0   No.                    839771 non-null  int64 \n",
            " 1   announce_date          839771 non-null  object\n",
            " 2   Notified date          836976 non-null  object\n",
            " 3   sex                    784876 non-null  object\n",
            " 4   age                    763606 non-null  object\n",
            " 5   Unit                   763746 non-null  object\n",
            " 6   nationality            755567 non-null  object\n",
            " 7   province_of_isolation  839499 non-null  object\n",
            " 8   risk                   838677 non-null  object\n",
            " 9   province_of_onset      740737 non-null  object\n",
            " 10  district_of_onset      680992 non-null  object\n",
            "dtypes: int64(1), object(10)\n",
            "memory usage: 70.5+ MB\n"
          ]
        }
      ]
    },
    {
      "cell_type": "code",
      "source": [
        "print(df1['No.'].count() + df2['No.'].count() + df3['No.'].count() + df4['No.'].count())"
      ],
      "metadata": {
        "colab": {
          "base_uri": "https://localhost:8080/"
        },
        "id": "1K08TMphW97d",
        "outputId": "a9e17aba-bdea-493f-eeda-1b4c225a088f"
      },
      "execution_count": 6,
      "outputs": [
        {
          "output_type": "stream",
          "name": "stdout",
          "text": [
            "3111655\n"
          ]
        }
      ]
    },
    {
      "cell_type": "code",
      "source": [
        "df = df1.append((df2,df3,df4))"
      ],
      "metadata": {
        "id": "qzuU9NmxWYnO"
      },
      "execution_count": 7,
      "outputs": []
    },
    {
      "cell_type": "code",
      "source": [
        "df.info()"
      ],
      "metadata": {
        "colab": {
          "base_uri": "https://localhost:8080/"
        },
        "id": "dUDSpAxuW3HF",
        "outputId": "cfaf8cca-a800-4204-87c5-d75e157d47c9"
      },
      "execution_count": 8,
      "outputs": [
        {
          "output_type": "stream",
          "name": "stdout",
          "text": [
            "<class 'pandas.core.frame.DataFrame'>\n",
            "Int64Index: 3111655 entries, 0 to 219256\n",
            "Data columns (total 12 columns):\n",
            " #   Column                 Dtype  \n",
            "---  ------                 -----  \n",
            " 0   No.                    int64  \n",
            " 1   announce_date          object \n",
            " 2   Notified date          object \n",
            " 3   sex                    object \n",
            " 4   age                    object \n",
            " 5   Unit                   object \n",
            " 6   nationality            object \n",
            " 7   province_of_isolation  object \n",
            " 8   risk                   object \n",
            " 9   province_of_onset      object \n",
            " 10  district_of_onset      object \n",
            " 11  Unnamed: 11            float64\n",
            "dtypes: float64(1), int64(1), object(10)\n",
            "memory usage: 308.6+ MB\n"
          ]
        }
      ]
    },
    {
      "cell_type": "code",
      "source": [
        "df.tail(5)"
      ],
      "metadata": {
        "colab": {
          "base_uri": "https://localhost:8080/",
          "height": 374
        },
        "id": "4Pwaa0_cYBNb",
        "outputId": "ec6e794a-2d29-4cd0-9e05-a970b2fb6469"
      },
      "execution_count": 9,
      "outputs": [
        {
          "output_type": "execute_result",
          "data": {
            "text/plain": [
              "            No. announce_date Notified date  sex   age Unit nationality  \\\n",
              "219252  3088869      9/3/2022      8/3/2022  ชาย   NaN  NaN    Thailand   \n",
              "219253  3088870      9/3/2022      8/3/2022  ชาย   NaN  NaN     Burmese   \n",
              "219254  3088871      9/3/2022      8/3/2022  ชาย   NaN  NaN    Thailand   \n",
              "219255  3088872      9/3/2022      8/3/2022  ชาย   NaN  NaN    Thailand   \n",
              "219256  3088873      9/3/2022      8/3/2022  ชาย  29.0   ปี     Burmese   \n",
              "\n",
              "       province_of_isolation              risk province_of_onset  \\\n",
              "219252                นครพนม  ทัณฑสถาน/เรือนจำ               NaN   \n",
              "219253             เชียงใหม่  ทัณฑสถาน/เรือนจำ               NaN   \n",
              "219254             เชียงใหม่  ทัณฑสถาน/เรือนจำ               NaN   \n",
              "219255             เชียงใหม่  ทัณฑสถาน/เรือนจำ               NaN   \n",
              "219256                   ตาก  ทัณฑสถาน/เรือนจำ               NaN   \n",
              "\n",
              "       district_of_onset  Unnamed: 11  \n",
              "219252               NaN          NaN  \n",
              "219253               NaN          NaN  \n",
              "219254               NaN          NaN  \n",
              "219255               NaN          NaN  \n",
              "219256               NaN          NaN  "
            ],
            "text/html": [
              "\n",
              "  <div id=\"df-cbc5054f-7b47-475c-b3a8-e7a1580fb0a8\">\n",
              "    <div class=\"colab-df-container\">\n",
              "      <div>\n",
              "<style scoped>\n",
              "    .dataframe tbody tr th:only-of-type {\n",
              "        vertical-align: middle;\n",
              "    }\n",
              "\n",
              "    .dataframe tbody tr th {\n",
              "        vertical-align: top;\n",
              "    }\n",
              "\n",
              "    .dataframe thead th {\n",
              "        text-align: right;\n",
              "    }\n",
              "</style>\n",
              "<table border=\"1\" class=\"dataframe\">\n",
              "  <thead>\n",
              "    <tr style=\"text-align: right;\">\n",
              "      <th></th>\n",
              "      <th>No.</th>\n",
              "      <th>announce_date</th>\n",
              "      <th>Notified date</th>\n",
              "      <th>sex</th>\n",
              "      <th>age</th>\n",
              "      <th>Unit</th>\n",
              "      <th>nationality</th>\n",
              "      <th>province_of_isolation</th>\n",
              "      <th>risk</th>\n",
              "      <th>province_of_onset</th>\n",
              "      <th>district_of_onset</th>\n",
              "      <th>Unnamed: 11</th>\n",
              "    </tr>\n",
              "  </thead>\n",
              "  <tbody>\n",
              "    <tr>\n",
              "      <th>219252</th>\n",
              "      <td>3088869</td>\n",
              "      <td>9/3/2022</td>\n",
              "      <td>8/3/2022</td>\n",
              "      <td>ชาย</td>\n",
              "      <td>NaN</td>\n",
              "      <td>NaN</td>\n",
              "      <td>Thailand</td>\n",
              "      <td>นครพนม</td>\n",
              "      <td>ทัณฑสถาน/เรือนจำ</td>\n",
              "      <td>NaN</td>\n",
              "      <td>NaN</td>\n",
              "      <td>NaN</td>\n",
              "    </tr>\n",
              "    <tr>\n",
              "      <th>219253</th>\n",
              "      <td>3088870</td>\n",
              "      <td>9/3/2022</td>\n",
              "      <td>8/3/2022</td>\n",
              "      <td>ชาย</td>\n",
              "      <td>NaN</td>\n",
              "      <td>NaN</td>\n",
              "      <td>Burmese</td>\n",
              "      <td>เชียงใหม่</td>\n",
              "      <td>ทัณฑสถาน/เรือนจำ</td>\n",
              "      <td>NaN</td>\n",
              "      <td>NaN</td>\n",
              "      <td>NaN</td>\n",
              "    </tr>\n",
              "    <tr>\n",
              "      <th>219254</th>\n",
              "      <td>3088871</td>\n",
              "      <td>9/3/2022</td>\n",
              "      <td>8/3/2022</td>\n",
              "      <td>ชาย</td>\n",
              "      <td>NaN</td>\n",
              "      <td>NaN</td>\n",
              "      <td>Thailand</td>\n",
              "      <td>เชียงใหม่</td>\n",
              "      <td>ทัณฑสถาน/เรือนจำ</td>\n",
              "      <td>NaN</td>\n",
              "      <td>NaN</td>\n",
              "      <td>NaN</td>\n",
              "    </tr>\n",
              "    <tr>\n",
              "      <th>219255</th>\n",
              "      <td>3088872</td>\n",
              "      <td>9/3/2022</td>\n",
              "      <td>8/3/2022</td>\n",
              "      <td>ชาย</td>\n",
              "      <td>NaN</td>\n",
              "      <td>NaN</td>\n",
              "      <td>Thailand</td>\n",
              "      <td>เชียงใหม่</td>\n",
              "      <td>ทัณฑสถาน/เรือนจำ</td>\n",
              "      <td>NaN</td>\n",
              "      <td>NaN</td>\n",
              "      <td>NaN</td>\n",
              "    </tr>\n",
              "    <tr>\n",
              "      <th>219256</th>\n",
              "      <td>3088873</td>\n",
              "      <td>9/3/2022</td>\n",
              "      <td>8/3/2022</td>\n",
              "      <td>ชาย</td>\n",
              "      <td>29.0</td>\n",
              "      <td>ปี</td>\n",
              "      <td>Burmese</td>\n",
              "      <td>ตาก</td>\n",
              "      <td>ทัณฑสถาน/เรือนจำ</td>\n",
              "      <td>NaN</td>\n",
              "      <td>NaN</td>\n",
              "      <td>NaN</td>\n",
              "    </tr>\n",
              "  </tbody>\n",
              "</table>\n",
              "</div>\n",
              "      <button class=\"colab-df-convert\" onclick=\"convertToInteractive('df-cbc5054f-7b47-475c-b3a8-e7a1580fb0a8')\"\n",
              "              title=\"Convert this dataframe to an interactive table.\"\n",
              "              style=\"display:none;\">\n",
              "        \n",
              "  <svg xmlns=\"http://www.w3.org/2000/svg\" height=\"24px\"viewBox=\"0 0 24 24\"\n",
              "       width=\"24px\">\n",
              "    <path d=\"M0 0h24v24H0V0z\" fill=\"none\"/>\n",
              "    <path d=\"M18.56 5.44l.94 2.06.94-2.06 2.06-.94-2.06-.94-.94-2.06-.94 2.06-2.06.94zm-11 1L8.5 8.5l.94-2.06 2.06-.94-2.06-.94L8.5 2.5l-.94 2.06-2.06.94zm10 10l.94 2.06.94-2.06 2.06-.94-2.06-.94-.94-2.06-.94 2.06-2.06.94z\"/><path d=\"M17.41 7.96l-1.37-1.37c-.4-.4-.92-.59-1.43-.59-.52 0-1.04.2-1.43.59L10.3 9.45l-7.72 7.72c-.78.78-.78 2.05 0 2.83L4 21.41c.39.39.9.59 1.41.59.51 0 1.02-.2 1.41-.59l7.78-7.78 2.81-2.81c.8-.78.8-2.07 0-2.86zM5.41 20L4 18.59l7.72-7.72 1.47 1.35L5.41 20z\"/>\n",
              "  </svg>\n",
              "      </button>\n",
              "      \n",
              "  <style>\n",
              "    .colab-df-container {\n",
              "      display:flex;\n",
              "      flex-wrap:wrap;\n",
              "      gap: 12px;\n",
              "    }\n",
              "\n",
              "    .colab-df-convert {\n",
              "      background-color: #E8F0FE;\n",
              "      border: none;\n",
              "      border-radius: 50%;\n",
              "      cursor: pointer;\n",
              "      display: none;\n",
              "      fill: #1967D2;\n",
              "      height: 32px;\n",
              "      padding: 0 0 0 0;\n",
              "      width: 32px;\n",
              "    }\n",
              "\n",
              "    .colab-df-convert:hover {\n",
              "      background-color: #E2EBFA;\n",
              "      box-shadow: 0px 1px 2px rgba(60, 64, 67, 0.3), 0px 1px 3px 1px rgba(60, 64, 67, 0.15);\n",
              "      fill: #174EA6;\n",
              "    }\n",
              "\n",
              "    [theme=dark] .colab-df-convert {\n",
              "      background-color: #3B4455;\n",
              "      fill: #D2E3FC;\n",
              "    }\n",
              "\n",
              "    [theme=dark] .colab-df-convert:hover {\n",
              "      background-color: #434B5C;\n",
              "      box-shadow: 0px 1px 3px 1px rgba(0, 0, 0, 0.15);\n",
              "      filter: drop-shadow(0px 1px 2px rgba(0, 0, 0, 0.3));\n",
              "      fill: #FFFFFF;\n",
              "    }\n",
              "  </style>\n",
              "\n",
              "      <script>\n",
              "        const buttonEl =\n",
              "          document.querySelector('#df-cbc5054f-7b47-475c-b3a8-e7a1580fb0a8 button.colab-df-convert');\n",
              "        buttonEl.style.display =\n",
              "          google.colab.kernel.accessAllowed ? 'block' : 'none';\n",
              "\n",
              "        async function convertToInteractive(key) {\n",
              "          const element = document.querySelector('#df-cbc5054f-7b47-475c-b3a8-e7a1580fb0a8');\n",
              "          const dataTable =\n",
              "            await google.colab.kernel.invokeFunction('convertToInteractive',\n",
              "                                                     [key], {});\n",
              "          if (!dataTable) return;\n",
              "\n",
              "          const docLinkHtml = 'Like what you see? Visit the ' +\n",
              "            '<a target=\"_blank\" href=https://colab.research.google.com/notebooks/data_table.ipynb>data table notebook</a>'\n",
              "            + ' to learn more about interactive tables.';\n",
              "          element.innerHTML = '';\n",
              "          dataTable['output_type'] = 'display_data';\n",
              "          await google.colab.output.renderOutput(dataTable, element);\n",
              "          const docLink = document.createElement('div');\n",
              "          docLink.innerHTML = docLinkHtml;\n",
              "          element.appendChild(docLink);\n",
              "        }\n",
              "      </script>\n",
              "    </div>\n",
              "  </div>\n",
              "  "
            ]
          },
          "metadata": {},
          "execution_count": 9
        }
      ]
    },
    {
      "cell_type": "code",
      "source": [
        "df = df.reset_index()"
      ],
      "metadata": {
        "id": "6YKsMHHwWxUj"
      },
      "execution_count": 10,
      "outputs": []
    },
    {
      "cell_type": "code",
      "source": [
        "df.tail(5)"
      ],
      "metadata": {
        "colab": {
          "base_uri": "https://localhost:8080/",
          "height": 374
        },
        "id": "RSL9p7YuXiqU",
        "outputId": "49407482-97c7-48f4-9dd8-a5779e6f1cf9"
      },
      "execution_count": 11,
      "outputs": [
        {
          "output_type": "execute_result",
          "data": {
            "text/plain": [
              "          index      No. announce_date Notified date  sex   age Unit  \\\n",
              "3111650  219252  3088869      9/3/2022      8/3/2022  ชาย   NaN  NaN   \n",
              "3111651  219253  3088870      9/3/2022      8/3/2022  ชาย   NaN  NaN   \n",
              "3111652  219254  3088871      9/3/2022      8/3/2022  ชาย   NaN  NaN   \n",
              "3111653  219255  3088872      9/3/2022      8/3/2022  ชาย   NaN  NaN   \n",
              "3111654  219256  3088873      9/3/2022      8/3/2022  ชาย  29.0   ปี   \n",
              "\n",
              "        nationality province_of_isolation              risk province_of_onset  \\\n",
              "3111650    Thailand                นครพนม  ทัณฑสถาน/เรือนจำ               NaN   \n",
              "3111651     Burmese             เชียงใหม่  ทัณฑสถาน/เรือนจำ               NaN   \n",
              "3111652    Thailand             เชียงใหม่  ทัณฑสถาน/เรือนจำ               NaN   \n",
              "3111653    Thailand             เชียงใหม่  ทัณฑสถาน/เรือนจำ               NaN   \n",
              "3111654     Burmese                   ตาก  ทัณฑสถาน/เรือนจำ               NaN   \n",
              "\n",
              "        district_of_onset  Unnamed: 11  \n",
              "3111650               NaN          NaN  \n",
              "3111651               NaN          NaN  \n",
              "3111652               NaN          NaN  \n",
              "3111653               NaN          NaN  \n",
              "3111654               NaN          NaN  "
            ],
            "text/html": [
              "\n",
              "  <div id=\"df-c3c0d065-5f2a-4084-8cb7-ca49f1afb7ed\">\n",
              "    <div class=\"colab-df-container\">\n",
              "      <div>\n",
              "<style scoped>\n",
              "    .dataframe tbody tr th:only-of-type {\n",
              "        vertical-align: middle;\n",
              "    }\n",
              "\n",
              "    .dataframe tbody tr th {\n",
              "        vertical-align: top;\n",
              "    }\n",
              "\n",
              "    .dataframe thead th {\n",
              "        text-align: right;\n",
              "    }\n",
              "</style>\n",
              "<table border=\"1\" class=\"dataframe\">\n",
              "  <thead>\n",
              "    <tr style=\"text-align: right;\">\n",
              "      <th></th>\n",
              "      <th>index</th>\n",
              "      <th>No.</th>\n",
              "      <th>announce_date</th>\n",
              "      <th>Notified date</th>\n",
              "      <th>sex</th>\n",
              "      <th>age</th>\n",
              "      <th>Unit</th>\n",
              "      <th>nationality</th>\n",
              "      <th>province_of_isolation</th>\n",
              "      <th>risk</th>\n",
              "      <th>province_of_onset</th>\n",
              "      <th>district_of_onset</th>\n",
              "      <th>Unnamed: 11</th>\n",
              "    </tr>\n",
              "  </thead>\n",
              "  <tbody>\n",
              "    <tr>\n",
              "      <th>3111650</th>\n",
              "      <td>219252</td>\n",
              "      <td>3088869</td>\n",
              "      <td>9/3/2022</td>\n",
              "      <td>8/3/2022</td>\n",
              "      <td>ชาย</td>\n",
              "      <td>NaN</td>\n",
              "      <td>NaN</td>\n",
              "      <td>Thailand</td>\n",
              "      <td>นครพนม</td>\n",
              "      <td>ทัณฑสถาน/เรือนจำ</td>\n",
              "      <td>NaN</td>\n",
              "      <td>NaN</td>\n",
              "      <td>NaN</td>\n",
              "    </tr>\n",
              "    <tr>\n",
              "      <th>3111651</th>\n",
              "      <td>219253</td>\n",
              "      <td>3088870</td>\n",
              "      <td>9/3/2022</td>\n",
              "      <td>8/3/2022</td>\n",
              "      <td>ชาย</td>\n",
              "      <td>NaN</td>\n",
              "      <td>NaN</td>\n",
              "      <td>Burmese</td>\n",
              "      <td>เชียงใหม่</td>\n",
              "      <td>ทัณฑสถาน/เรือนจำ</td>\n",
              "      <td>NaN</td>\n",
              "      <td>NaN</td>\n",
              "      <td>NaN</td>\n",
              "    </tr>\n",
              "    <tr>\n",
              "      <th>3111652</th>\n",
              "      <td>219254</td>\n",
              "      <td>3088871</td>\n",
              "      <td>9/3/2022</td>\n",
              "      <td>8/3/2022</td>\n",
              "      <td>ชาย</td>\n",
              "      <td>NaN</td>\n",
              "      <td>NaN</td>\n",
              "      <td>Thailand</td>\n",
              "      <td>เชียงใหม่</td>\n",
              "      <td>ทัณฑสถาน/เรือนจำ</td>\n",
              "      <td>NaN</td>\n",
              "      <td>NaN</td>\n",
              "      <td>NaN</td>\n",
              "    </tr>\n",
              "    <tr>\n",
              "      <th>3111653</th>\n",
              "      <td>219255</td>\n",
              "      <td>3088872</td>\n",
              "      <td>9/3/2022</td>\n",
              "      <td>8/3/2022</td>\n",
              "      <td>ชาย</td>\n",
              "      <td>NaN</td>\n",
              "      <td>NaN</td>\n",
              "      <td>Thailand</td>\n",
              "      <td>เชียงใหม่</td>\n",
              "      <td>ทัณฑสถาน/เรือนจำ</td>\n",
              "      <td>NaN</td>\n",
              "      <td>NaN</td>\n",
              "      <td>NaN</td>\n",
              "    </tr>\n",
              "    <tr>\n",
              "      <th>3111654</th>\n",
              "      <td>219256</td>\n",
              "      <td>3088873</td>\n",
              "      <td>9/3/2022</td>\n",
              "      <td>8/3/2022</td>\n",
              "      <td>ชาย</td>\n",
              "      <td>29.0</td>\n",
              "      <td>ปี</td>\n",
              "      <td>Burmese</td>\n",
              "      <td>ตาก</td>\n",
              "      <td>ทัณฑสถาน/เรือนจำ</td>\n",
              "      <td>NaN</td>\n",
              "      <td>NaN</td>\n",
              "      <td>NaN</td>\n",
              "    </tr>\n",
              "  </tbody>\n",
              "</table>\n",
              "</div>\n",
              "      <button class=\"colab-df-convert\" onclick=\"convertToInteractive('df-c3c0d065-5f2a-4084-8cb7-ca49f1afb7ed')\"\n",
              "              title=\"Convert this dataframe to an interactive table.\"\n",
              "              style=\"display:none;\">\n",
              "        \n",
              "  <svg xmlns=\"http://www.w3.org/2000/svg\" height=\"24px\"viewBox=\"0 0 24 24\"\n",
              "       width=\"24px\">\n",
              "    <path d=\"M0 0h24v24H0V0z\" fill=\"none\"/>\n",
              "    <path d=\"M18.56 5.44l.94 2.06.94-2.06 2.06-.94-2.06-.94-.94-2.06-.94 2.06-2.06.94zm-11 1L8.5 8.5l.94-2.06 2.06-.94-2.06-.94L8.5 2.5l-.94 2.06-2.06.94zm10 10l.94 2.06.94-2.06 2.06-.94-2.06-.94-.94-2.06-.94 2.06-2.06.94z\"/><path d=\"M17.41 7.96l-1.37-1.37c-.4-.4-.92-.59-1.43-.59-.52 0-1.04.2-1.43.59L10.3 9.45l-7.72 7.72c-.78.78-.78 2.05 0 2.83L4 21.41c.39.39.9.59 1.41.59.51 0 1.02-.2 1.41-.59l7.78-7.78 2.81-2.81c.8-.78.8-2.07 0-2.86zM5.41 20L4 18.59l7.72-7.72 1.47 1.35L5.41 20z\"/>\n",
              "  </svg>\n",
              "      </button>\n",
              "      \n",
              "  <style>\n",
              "    .colab-df-container {\n",
              "      display:flex;\n",
              "      flex-wrap:wrap;\n",
              "      gap: 12px;\n",
              "    }\n",
              "\n",
              "    .colab-df-convert {\n",
              "      background-color: #E8F0FE;\n",
              "      border: none;\n",
              "      border-radius: 50%;\n",
              "      cursor: pointer;\n",
              "      display: none;\n",
              "      fill: #1967D2;\n",
              "      height: 32px;\n",
              "      padding: 0 0 0 0;\n",
              "      width: 32px;\n",
              "    }\n",
              "\n",
              "    .colab-df-convert:hover {\n",
              "      background-color: #E2EBFA;\n",
              "      box-shadow: 0px 1px 2px rgba(60, 64, 67, 0.3), 0px 1px 3px 1px rgba(60, 64, 67, 0.15);\n",
              "      fill: #174EA6;\n",
              "    }\n",
              "\n",
              "    [theme=dark] .colab-df-convert {\n",
              "      background-color: #3B4455;\n",
              "      fill: #D2E3FC;\n",
              "    }\n",
              "\n",
              "    [theme=dark] .colab-df-convert:hover {\n",
              "      background-color: #434B5C;\n",
              "      box-shadow: 0px 1px 3px 1px rgba(0, 0, 0, 0.15);\n",
              "      filter: drop-shadow(0px 1px 2px rgba(0, 0, 0, 0.3));\n",
              "      fill: #FFFFFF;\n",
              "    }\n",
              "  </style>\n",
              "\n",
              "      <script>\n",
              "        const buttonEl =\n",
              "          document.querySelector('#df-c3c0d065-5f2a-4084-8cb7-ca49f1afb7ed button.colab-df-convert');\n",
              "        buttonEl.style.display =\n",
              "          google.colab.kernel.accessAllowed ? 'block' : 'none';\n",
              "\n",
              "        async function convertToInteractive(key) {\n",
              "          const element = document.querySelector('#df-c3c0d065-5f2a-4084-8cb7-ca49f1afb7ed');\n",
              "          const dataTable =\n",
              "            await google.colab.kernel.invokeFunction('convertToInteractive',\n",
              "                                                     [key], {});\n",
              "          if (!dataTable) return;\n",
              "\n",
              "          const docLinkHtml = 'Like what you see? Visit the ' +\n",
              "            '<a target=\"_blank\" href=https://colab.research.google.com/notebooks/data_table.ipynb>data table notebook</a>'\n",
              "            + ' to learn more about interactive tables.';\n",
              "          element.innerHTML = '';\n",
              "          dataTable['output_type'] = 'display_data';\n",
              "          await google.colab.output.renderOutput(dataTable, element);\n",
              "          const docLink = document.createElement('div');\n",
              "          docLink.innerHTML = docLinkHtml;\n",
              "          element.appendChild(docLink);\n",
              "        }\n",
              "      </script>\n",
              "    </div>\n",
              "  </div>\n",
              "  "
            ]
          },
          "metadata": {},
          "execution_count": 11
        }
      ]
    },
    {
      "cell_type": "markdown",
      "source": [
        "## Delete unused column"
      ],
      "metadata": {
        "id": "w_yzGrx7fL2L"
      }
    },
    {
      "cell_type": "code",
      "source": [
        "del df['index']"
      ],
      "metadata": {
        "id": "Go0Yc-lsXkhg"
      },
      "execution_count": 12,
      "outputs": []
    },
    {
      "cell_type": "code",
      "source": [
        "del df['Unnamed: 11']"
      ],
      "metadata": {
        "id": "ZwtrR-arY9AC"
      },
      "execution_count": 13,
      "outputs": []
    },
    {
      "cell_type": "code",
      "source": [
        "df.tail(5)"
      ],
      "metadata": {
        "colab": {
          "base_uri": "https://localhost:8080/",
          "height": 354
        },
        "id": "2cmaOYqLYe18",
        "outputId": "7df2bb58-689c-4dff-ffe4-d7332ad288d0"
      },
      "execution_count": 14,
      "outputs": [
        {
          "output_type": "execute_result",
          "data": {
            "text/plain": [
              "             No. announce_date Notified date  sex   age Unit nationality  \\\n",
              "3111650  3088869      9/3/2022      8/3/2022  ชาย   NaN  NaN    Thailand   \n",
              "3111651  3088870      9/3/2022      8/3/2022  ชาย   NaN  NaN     Burmese   \n",
              "3111652  3088871      9/3/2022      8/3/2022  ชาย   NaN  NaN    Thailand   \n",
              "3111653  3088872      9/3/2022      8/3/2022  ชาย   NaN  NaN    Thailand   \n",
              "3111654  3088873      9/3/2022      8/3/2022  ชาย  29.0   ปี     Burmese   \n",
              "\n",
              "        province_of_isolation              risk province_of_onset  \\\n",
              "3111650                นครพนม  ทัณฑสถาน/เรือนจำ               NaN   \n",
              "3111651             เชียงใหม่  ทัณฑสถาน/เรือนจำ               NaN   \n",
              "3111652             เชียงใหม่  ทัณฑสถาน/เรือนจำ               NaN   \n",
              "3111653             เชียงใหม่  ทัณฑสถาน/เรือนจำ               NaN   \n",
              "3111654                   ตาก  ทัณฑสถาน/เรือนจำ               NaN   \n",
              "\n",
              "        district_of_onset  \n",
              "3111650               NaN  \n",
              "3111651               NaN  \n",
              "3111652               NaN  \n",
              "3111653               NaN  \n",
              "3111654               NaN  "
            ],
            "text/html": [
              "\n",
              "  <div id=\"df-850aec6b-5e92-4095-b49f-03d3cf7d73da\">\n",
              "    <div class=\"colab-df-container\">\n",
              "      <div>\n",
              "<style scoped>\n",
              "    .dataframe tbody tr th:only-of-type {\n",
              "        vertical-align: middle;\n",
              "    }\n",
              "\n",
              "    .dataframe tbody tr th {\n",
              "        vertical-align: top;\n",
              "    }\n",
              "\n",
              "    .dataframe thead th {\n",
              "        text-align: right;\n",
              "    }\n",
              "</style>\n",
              "<table border=\"1\" class=\"dataframe\">\n",
              "  <thead>\n",
              "    <tr style=\"text-align: right;\">\n",
              "      <th></th>\n",
              "      <th>No.</th>\n",
              "      <th>announce_date</th>\n",
              "      <th>Notified date</th>\n",
              "      <th>sex</th>\n",
              "      <th>age</th>\n",
              "      <th>Unit</th>\n",
              "      <th>nationality</th>\n",
              "      <th>province_of_isolation</th>\n",
              "      <th>risk</th>\n",
              "      <th>province_of_onset</th>\n",
              "      <th>district_of_onset</th>\n",
              "    </tr>\n",
              "  </thead>\n",
              "  <tbody>\n",
              "    <tr>\n",
              "      <th>3111650</th>\n",
              "      <td>3088869</td>\n",
              "      <td>9/3/2022</td>\n",
              "      <td>8/3/2022</td>\n",
              "      <td>ชาย</td>\n",
              "      <td>NaN</td>\n",
              "      <td>NaN</td>\n",
              "      <td>Thailand</td>\n",
              "      <td>นครพนม</td>\n",
              "      <td>ทัณฑสถาน/เรือนจำ</td>\n",
              "      <td>NaN</td>\n",
              "      <td>NaN</td>\n",
              "    </tr>\n",
              "    <tr>\n",
              "      <th>3111651</th>\n",
              "      <td>3088870</td>\n",
              "      <td>9/3/2022</td>\n",
              "      <td>8/3/2022</td>\n",
              "      <td>ชาย</td>\n",
              "      <td>NaN</td>\n",
              "      <td>NaN</td>\n",
              "      <td>Burmese</td>\n",
              "      <td>เชียงใหม่</td>\n",
              "      <td>ทัณฑสถาน/เรือนจำ</td>\n",
              "      <td>NaN</td>\n",
              "      <td>NaN</td>\n",
              "    </tr>\n",
              "    <tr>\n",
              "      <th>3111652</th>\n",
              "      <td>3088871</td>\n",
              "      <td>9/3/2022</td>\n",
              "      <td>8/3/2022</td>\n",
              "      <td>ชาย</td>\n",
              "      <td>NaN</td>\n",
              "      <td>NaN</td>\n",
              "      <td>Thailand</td>\n",
              "      <td>เชียงใหม่</td>\n",
              "      <td>ทัณฑสถาน/เรือนจำ</td>\n",
              "      <td>NaN</td>\n",
              "      <td>NaN</td>\n",
              "    </tr>\n",
              "    <tr>\n",
              "      <th>3111653</th>\n",
              "      <td>3088872</td>\n",
              "      <td>9/3/2022</td>\n",
              "      <td>8/3/2022</td>\n",
              "      <td>ชาย</td>\n",
              "      <td>NaN</td>\n",
              "      <td>NaN</td>\n",
              "      <td>Thailand</td>\n",
              "      <td>เชียงใหม่</td>\n",
              "      <td>ทัณฑสถาน/เรือนจำ</td>\n",
              "      <td>NaN</td>\n",
              "      <td>NaN</td>\n",
              "    </tr>\n",
              "    <tr>\n",
              "      <th>3111654</th>\n",
              "      <td>3088873</td>\n",
              "      <td>9/3/2022</td>\n",
              "      <td>8/3/2022</td>\n",
              "      <td>ชาย</td>\n",
              "      <td>29.0</td>\n",
              "      <td>ปี</td>\n",
              "      <td>Burmese</td>\n",
              "      <td>ตาก</td>\n",
              "      <td>ทัณฑสถาน/เรือนจำ</td>\n",
              "      <td>NaN</td>\n",
              "      <td>NaN</td>\n",
              "    </tr>\n",
              "  </tbody>\n",
              "</table>\n",
              "</div>\n",
              "      <button class=\"colab-df-convert\" onclick=\"convertToInteractive('df-850aec6b-5e92-4095-b49f-03d3cf7d73da')\"\n",
              "              title=\"Convert this dataframe to an interactive table.\"\n",
              "              style=\"display:none;\">\n",
              "        \n",
              "  <svg xmlns=\"http://www.w3.org/2000/svg\" height=\"24px\"viewBox=\"0 0 24 24\"\n",
              "       width=\"24px\">\n",
              "    <path d=\"M0 0h24v24H0V0z\" fill=\"none\"/>\n",
              "    <path d=\"M18.56 5.44l.94 2.06.94-2.06 2.06-.94-2.06-.94-.94-2.06-.94 2.06-2.06.94zm-11 1L8.5 8.5l.94-2.06 2.06-.94-2.06-.94L8.5 2.5l-.94 2.06-2.06.94zm10 10l.94 2.06.94-2.06 2.06-.94-2.06-.94-.94-2.06-.94 2.06-2.06.94z\"/><path d=\"M17.41 7.96l-1.37-1.37c-.4-.4-.92-.59-1.43-.59-.52 0-1.04.2-1.43.59L10.3 9.45l-7.72 7.72c-.78.78-.78 2.05 0 2.83L4 21.41c.39.39.9.59 1.41.59.51 0 1.02-.2 1.41-.59l7.78-7.78 2.81-2.81c.8-.78.8-2.07 0-2.86zM5.41 20L4 18.59l7.72-7.72 1.47 1.35L5.41 20z\"/>\n",
              "  </svg>\n",
              "      </button>\n",
              "      \n",
              "  <style>\n",
              "    .colab-df-container {\n",
              "      display:flex;\n",
              "      flex-wrap:wrap;\n",
              "      gap: 12px;\n",
              "    }\n",
              "\n",
              "    .colab-df-convert {\n",
              "      background-color: #E8F0FE;\n",
              "      border: none;\n",
              "      border-radius: 50%;\n",
              "      cursor: pointer;\n",
              "      display: none;\n",
              "      fill: #1967D2;\n",
              "      height: 32px;\n",
              "      padding: 0 0 0 0;\n",
              "      width: 32px;\n",
              "    }\n",
              "\n",
              "    .colab-df-convert:hover {\n",
              "      background-color: #E2EBFA;\n",
              "      box-shadow: 0px 1px 2px rgba(60, 64, 67, 0.3), 0px 1px 3px 1px rgba(60, 64, 67, 0.15);\n",
              "      fill: #174EA6;\n",
              "    }\n",
              "\n",
              "    [theme=dark] .colab-df-convert {\n",
              "      background-color: #3B4455;\n",
              "      fill: #D2E3FC;\n",
              "    }\n",
              "\n",
              "    [theme=dark] .colab-df-convert:hover {\n",
              "      background-color: #434B5C;\n",
              "      box-shadow: 0px 1px 3px 1px rgba(0, 0, 0, 0.15);\n",
              "      filter: drop-shadow(0px 1px 2px rgba(0, 0, 0, 0.3));\n",
              "      fill: #FFFFFF;\n",
              "    }\n",
              "  </style>\n",
              "\n",
              "      <script>\n",
              "        const buttonEl =\n",
              "          document.querySelector('#df-850aec6b-5e92-4095-b49f-03d3cf7d73da button.colab-df-convert');\n",
              "        buttonEl.style.display =\n",
              "          google.colab.kernel.accessAllowed ? 'block' : 'none';\n",
              "\n",
              "        async function convertToInteractive(key) {\n",
              "          const element = document.querySelector('#df-850aec6b-5e92-4095-b49f-03d3cf7d73da');\n",
              "          const dataTable =\n",
              "            await google.colab.kernel.invokeFunction('convertToInteractive',\n",
              "                                                     [key], {});\n",
              "          if (!dataTable) return;\n",
              "\n",
              "          const docLinkHtml = 'Like what you see? Visit the ' +\n",
              "            '<a target=\"_blank\" href=https://colab.research.google.com/notebooks/data_table.ipynb>data table notebook</a>'\n",
              "            + ' to learn more about interactive tables.';\n",
              "          element.innerHTML = '';\n",
              "          dataTable['output_type'] = 'display_data';\n",
              "          await google.colab.output.renderOutput(dataTable, element);\n",
              "          const docLink = document.createElement('div');\n",
              "          docLink.innerHTML = docLinkHtml;\n",
              "          element.appendChild(docLink);\n",
              "        }\n",
              "      </script>\n",
              "    </div>\n",
              "  </div>\n",
              "  "
            ]
          },
          "metadata": {},
          "execution_count": 14
        }
      ]
    },
    {
      "cell_type": "markdown",
      "source": [
        "## check null"
      ],
      "metadata": {
        "id": "468tN1wSfVez"
      }
    },
    {
      "cell_type": "code",
      "source": [
        "df.isnull().sum()"
      ],
      "metadata": {
        "colab": {
          "base_uri": "https://localhost:8080/"
        },
        "id": "m1EmhcyxYdfM",
        "outputId": "c74c41c4-e016-42f2-fd20-7f882c625e43"
      },
      "execution_count": 15,
      "outputs": [
        {
          "output_type": "execute_result",
          "data": {
            "text/plain": [
              "No.                           0\n",
              "announce_date                 0\n",
              "Notified date              2795\n",
              "sex                      170589\n",
              "age                      256920\n",
              "Unit                     277092\n",
              "nationality              268489\n",
              "province_of_isolation      3956\n",
              "risk                       1174\n",
              "province_of_onset        378350\n",
              "district_of_onset        485107\n",
              "dtype: int64"
            ]
          },
          "metadata": {},
          "execution_count": 15
        }
      ]
    },
    {
      "cell_type": "markdown",
      "source": [
        "## cleaning Data [sex]"
      ],
      "metadata": {
        "id": "f69qQcFyfc-4"
      }
    },
    {
      "cell_type": "code",
      "source": [
        "df['sex'].value_counts()"
      ],
      "metadata": {
        "colab": {
          "base_uri": "https://localhost:8080/"
        },
        "id": "VBDvSEuUe6Gk",
        "outputId": "49ed41ea-34de-4b74-ef6e-05db5be79530"
      },
      "execution_count": 16,
      "outputs": [
        {
          "output_type": "execute_result",
          "data": {
            "text/plain": [
              "หญิง      1546128\n",
              "ชาย       1394915\n",
              "นาย             9\n",
              "หญิิง           5\n",
              "ช               3\n",
              " หญิง           1\n",
              "ร.ต.ท.          1\n",
              "หห              1\n",
              "หญง             1\n",
              "ญ               1\n",
              "หณิง            1\n",
              "Name: sex, dtype: int64"
            ]
          },
          "metadata": {},
          "execution_count": 16
        }
      ]
    },
    {
      "cell_type": "code",
      "source": [
        "df['sex'] = df['sex'].str.strip()"
      ],
      "metadata": {
        "id": "jOvcx6v8jYDk"
      },
      "execution_count": 17,
      "outputs": []
    },
    {
      "cell_type": "code",
      "source": [
        "df['sex'] = df['sex'].replace(['นาย','ช','ร.ต.ท.'], 'ชาย')"
      ],
      "metadata": {
        "id": "awIhgGYSfpQJ"
      },
      "execution_count": 18,
      "outputs": []
    },
    {
      "cell_type": "code",
      "source": [
        "df['sex'] = df['sex'].replace(['หญิิง','หห','หญง','ญ','หณิง'], 'ชาย')"
      ],
      "metadata": {
        "id": "6g5Abd1JgyyT"
      },
      "execution_count": 19,
      "outputs": []
    },
    {
      "cell_type": "code",
      "source": [
        "df['sex'].value_counts()"
      ],
      "metadata": {
        "colab": {
          "base_uri": "https://localhost:8080/"
        },
        "id": "upLO-5P1f3pV",
        "outputId": "7a918412-5202-4db7-c1aa-e7f4ed6b0443"
      },
      "execution_count": 20,
      "outputs": [
        {
          "output_type": "execute_result",
          "data": {
            "text/plain": [
              "หญิง    1546129\n",
              "ชาย     1394937\n",
              "Name: sex, dtype: int64"
            ]
          },
          "metadata": {},
          "execution_count": 20
        }
      ]
    },
    {
      "cell_type": "markdown",
      "source": [
        "## cleaning Data [age]"
      ],
      "metadata": {
        "id": "EN9VsmBZjnAa"
      }
    },
    {
      "cell_type": "code",
      "source": [
        "age = df['age'].unique()"
      ],
      "metadata": {
        "id": "RZlRTIlKjmUZ"
      },
      "execution_count": 21,
      "outputs": []
    },
    {
      "cell_type": "code",
      "source": [
        "df[df['age'] == '55/664']"
      ],
      "metadata": {
        "colab": {
          "base_uri": "https://localhost:8080/",
          "height": 194
        },
        "id": "Gb_OKRLdlbd3",
        "outputId": "a9cce7dd-6fdd-47c9-c2d0-c2973b2fbcc3"
      },
      "execution_count": 22,
      "outputs": [
        {
          "output_type": "execute_result",
          "data": {
            "text/plain": [
              "           No. announce_date Notified date   sex     age Unit nationality  \\\n",
              "100164  100165     16/5/2021     15/5/2021  หญิง  55/664  NaN    Thailand   \n",
              "\n",
              "       province_of_isolation                                         risk  \\\n",
              "100164                ภูเก็ต  สัมผัสใกล้ชิดกับผู้ป่วยยืนยันรายก่อนหน้านี้   \n",
              "\n",
              "       province_of_onset district_of_onset  \n",
              "100164            ภูเก็ต             เมือง  "
            ],
            "text/html": [
              "\n",
              "  <div id=\"df-5ed79bff-c88f-4759-a76f-63fd925c9f80\">\n",
              "    <div class=\"colab-df-container\">\n",
              "      <div>\n",
              "<style scoped>\n",
              "    .dataframe tbody tr th:only-of-type {\n",
              "        vertical-align: middle;\n",
              "    }\n",
              "\n",
              "    .dataframe tbody tr th {\n",
              "        vertical-align: top;\n",
              "    }\n",
              "\n",
              "    .dataframe thead th {\n",
              "        text-align: right;\n",
              "    }\n",
              "</style>\n",
              "<table border=\"1\" class=\"dataframe\">\n",
              "  <thead>\n",
              "    <tr style=\"text-align: right;\">\n",
              "      <th></th>\n",
              "      <th>No.</th>\n",
              "      <th>announce_date</th>\n",
              "      <th>Notified date</th>\n",
              "      <th>sex</th>\n",
              "      <th>age</th>\n",
              "      <th>Unit</th>\n",
              "      <th>nationality</th>\n",
              "      <th>province_of_isolation</th>\n",
              "      <th>risk</th>\n",
              "      <th>province_of_onset</th>\n",
              "      <th>district_of_onset</th>\n",
              "    </tr>\n",
              "  </thead>\n",
              "  <tbody>\n",
              "    <tr>\n",
              "      <th>100164</th>\n",
              "      <td>100165</td>\n",
              "      <td>16/5/2021</td>\n",
              "      <td>15/5/2021</td>\n",
              "      <td>หญิง</td>\n",
              "      <td>55/664</td>\n",
              "      <td>NaN</td>\n",
              "      <td>Thailand</td>\n",
              "      <td>ภูเก็ต</td>\n",
              "      <td>สัมผัสใกล้ชิดกับผู้ป่วยยืนยันรายก่อนหน้านี้</td>\n",
              "      <td>ภูเก็ต</td>\n",
              "      <td>เมือง</td>\n",
              "    </tr>\n",
              "  </tbody>\n",
              "</table>\n",
              "</div>\n",
              "      <button class=\"colab-df-convert\" onclick=\"convertToInteractive('df-5ed79bff-c88f-4759-a76f-63fd925c9f80')\"\n",
              "              title=\"Convert this dataframe to an interactive table.\"\n",
              "              style=\"display:none;\">\n",
              "        \n",
              "  <svg xmlns=\"http://www.w3.org/2000/svg\" height=\"24px\"viewBox=\"0 0 24 24\"\n",
              "       width=\"24px\">\n",
              "    <path d=\"M0 0h24v24H0V0z\" fill=\"none\"/>\n",
              "    <path d=\"M18.56 5.44l.94 2.06.94-2.06 2.06-.94-2.06-.94-.94-2.06-.94 2.06-2.06.94zm-11 1L8.5 8.5l.94-2.06 2.06-.94-2.06-.94L8.5 2.5l-.94 2.06-2.06.94zm10 10l.94 2.06.94-2.06 2.06-.94-2.06-.94-.94-2.06-.94 2.06-2.06.94z\"/><path d=\"M17.41 7.96l-1.37-1.37c-.4-.4-.92-.59-1.43-.59-.52 0-1.04.2-1.43.59L10.3 9.45l-7.72 7.72c-.78.78-.78 2.05 0 2.83L4 21.41c.39.39.9.59 1.41.59.51 0 1.02-.2 1.41-.59l7.78-7.78 2.81-2.81c.8-.78.8-2.07 0-2.86zM5.41 20L4 18.59l7.72-7.72 1.47 1.35L5.41 20z\"/>\n",
              "  </svg>\n",
              "      </button>\n",
              "      \n",
              "  <style>\n",
              "    .colab-df-container {\n",
              "      display:flex;\n",
              "      flex-wrap:wrap;\n",
              "      gap: 12px;\n",
              "    }\n",
              "\n",
              "    .colab-df-convert {\n",
              "      background-color: #E8F0FE;\n",
              "      border: none;\n",
              "      border-radius: 50%;\n",
              "      cursor: pointer;\n",
              "      display: none;\n",
              "      fill: #1967D2;\n",
              "      height: 32px;\n",
              "      padding: 0 0 0 0;\n",
              "      width: 32px;\n",
              "    }\n",
              "\n",
              "    .colab-df-convert:hover {\n",
              "      background-color: #E2EBFA;\n",
              "      box-shadow: 0px 1px 2px rgba(60, 64, 67, 0.3), 0px 1px 3px 1px rgba(60, 64, 67, 0.15);\n",
              "      fill: #174EA6;\n",
              "    }\n",
              "\n",
              "    [theme=dark] .colab-df-convert {\n",
              "      background-color: #3B4455;\n",
              "      fill: #D2E3FC;\n",
              "    }\n",
              "\n",
              "    [theme=dark] .colab-df-convert:hover {\n",
              "      background-color: #434B5C;\n",
              "      box-shadow: 0px 1px 3px 1px rgba(0, 0, 0, 0.15);\n",
              "      filter: drop-shadow(0px 1px 2px rgba(0, 0, 0, 0.3));\n",
              "      fill: #FFFFFF;\n",
              "    }\n",
              "  </style>\n",
              "\n",
              "      <script>\n",
              "        const buttonEl =\n",
              "          document.querySelector('#df-5ed79bff-c88f-4759-a76f-63fd925c9f80 button.colab-df-convert');\n",
              "        buttonEl.style.display =\n",
              "          google.colab.kernel.accessAllowed ? 'block' : 'none';\n",
              "\n",
              "        async function convertToInteractive(key) {\n",
              "          const element = document.querySelector('#df-5ed79bff-c88f-4759-a76f-63fd925c9f80');\n",
              "          const dataTable =\n",
              "            await google.colab.kernel.invokeFunction('convertToInteractive',\n",
              "                                                     [key], {});\n",
              "          if (!dataTable) return;\n",
              "\n",
              "          const docLinkHtml = 'Like what you see? Visit the ' +\n",
              "            '<a target=\"_blank\" href=https://colab.research.google.com/notebooks/data_table.ipynb>data table notebook</a>'\n",
              "            + ' to learn more about interactive tables.';\n",
              "          element.innerHTML = '';\n",
              "          dataTable['output_type'] = 'display_data';\n",
              "          await google.colab.output.renderOutput(dataTable, element);\n",
              "          const docLink = document.createElement('div');\n",
              "          docLink.innerHTML = docLinkHtml;\n",
              "          element.appendChild(docLink);\n",
              "        }\n",
              "      </script>\n",
              "    </div>\n",
              "  </div>\n",
              "  "
            ]
          },
          "metadata": {},
          "execution_count": 22
        }
      ]
    },
    {
      "cell_type": "code",
      "source": [
        "df[df['age'] == '35/11']"
      ],
      "metadata": {
        "colab": {
          "base_uri": "https://localhost:8080/",
          "height": 177
        },
        "id": "40CflullmlQ1",
        "outputId": "e7b09b8b-fff6-4eb9-f228-47b491b38398"
      },
      "execution_count": 23,
      "outputs": [
        {
          "output_type": "execute_result",
          "data": {
            "text/plain": [
              "             No. announce_date Notified date   sex    age Unit nationality  \\\n",
              "2620435  2597654     14/2/2022     13/2/2022  หญิง  35/11  NaN    Thailand   \n",
              "\n",
              "        province_of_isolation                  risk province_of_onset  \\\n",
              "2620435       ประจวบคีรีขันธ์  อยู่ระหว่างการสอบสวน   ประจวบคีรีขันธ์   \n",
              "\n",
              "        district_of_onset  \n",
              "2620435          บางสะพาน  "
            ],
            "text/html": [
              "\n",
              "  <div id=\"df-659e48b4-9972-4ea0-8812-21efeeb74026\">\n",
              "    <div class=\"colab-df-container\">\n",
              "      <div>\n",
              "<style scoped>\n",
              "    .dataframe tbody tr th:only-of-type {\n",
              "        vertical-align: middle;\n",
              "    }\n",
              "\n",
              "    .dataframe tbody tr th {\n",
              "        vertical-align: top;\n",
              "    }\n",
              "\n",
              "    .dataframe thead th {\n",
              "        text-align: right;\n",
              "    }\n",
              "</style>\n",
              "<table border=\"1\" class=\"dataframe\">\n",
              "  <thead>\n",
              "    <tr style=\"text-align: right;\">\n",
              "      <th></th>\n",
              "      <th>No.</th>\n",
              "      <th>announce_date</th>\n",
              "      <th>Notified date</th>\n",
              "      <th>sex</th>\n",
              "      <th>age</th>\n",
              "      <th>Unit</th>\n",
              "      <th>nationality</th>\n",
              "      <th>province_of_isolation</th>\n",
              "      <th>risk</th>\n",
              "      <th>province_of_onset</th>\n",
              "      <th>district_of_onset</th>\n",
              "    </tr>\n",
              "  </thead>\n",
              "  <tbody>\n",
              "    <tr>\n",
              "      <th>2620435</th>\n",
              "      <td>2597654</td>\n",
              "      <td>14/2/2022</td>\n",
              "      <td>13/2/2022</td>\n",
              "      <td>หญิง</td>\n",
              "      <td>35/11</td>\n",
              "      <td>NaN</td>\n",
              "      <td>Thailand</td>\n",
              "      <td>ประจวบคีรีขันธ์</td>\n",
              "      <td>อยู่ระหว่างการสอบสวน</td>\n",
              "      <td>ประจวบคีรีขันธ์</td>\n",
              "      <td>บางสะพาน</td>\n",
              "    </tr>\n",
              "  </tbody>\n",
              "</table>\n",
              "</div>\n",
              "      <button class=\"colab-df-convert\" onclick=\"convertToInteractive('df-659e48b4-9972-4ea0-8812-21efeeb74026')\"\n",
              "              title=\"Convert this dataframe to an interactive table.\"\n",
              "              style=\"display:none;\">\n",
              "        \n",
              "  <svg xmlns=\"http://www.w3.org/2000/svg\" height=\"24px\"viewBox=\"0 0 24 24\"\n",
              "       width=\"24px\">\n",
              "    <path d=\"M0 0h24v24H0V0z\" fill=\"none\"/>\n",
              "    <path d=\"M18.56 5.44l.94 2.06.94-2.06 2.06-.94-2.06-.94-.94-2.06-.94 2.06-2.06.94zm-11 1L8.5 8.5l.94-2.06 2.06-.94-2.06-.94L8.5 2.5l-.94 2.06-2.06.94zm10 10l.94 2.06.94-2.06 2.06-.94-2.06-.94-.94-2.06-.94 2.06-2.06.94z\"/><path d=\"M17.41 7.96l-1.37-1.37c-.4-.4-.92-.59-1.43-.59-.52 0-1.04.2-1.43.59L10.3 9.45l-7.72 7.72c-.78.78-.78 2.05 0 2.83L4 21.41c.39.39.9.59 1.41.59.51 0 1.02-.2 1.41-.59l7.78-7.78 2.81-2.81c.8-.78.8-2.07 0-2.86zM5.41 20L4 18.59l7.72-7.72 1.47 1.35L5.41 20z\"/>\n",
              "  </svg>\n",
              "      </button>\n",
              "      \n",
              "  <style>\n",
              "    .colab-df-container {\n",
              "      display:flex;\n",
              "      flex-wrap:wrap;\n",
              "      gap: 12px;\n",
              "    }\n",
              "\n",
              "    .colab-df-convert {\n",
              "      background-color: #E8F0FE;\n",
              "      border: none;\n",
              "      border-radius: 50%;\n",
              "      cursor: pointer;\n",
              "      display: none;\n",
              "      fill: #1967D2;\n",
              "      height: 32px;\n",
              "      padding: 0 0 0 0;\n",
              "      width: 32px;\n",
              "    }\n",
              "\n",
              "    .colab-df-convert:hover {\n",
              "      background-color: #E2EBFA;\n",
              "      box-shadow: 0px 1px 2px rgba(60, 64, 67, 0.3), 0px 1px 3px 1px rgba(60, 64, 67, 0.15);\n",
              "      fill: #174EA6;\n",
              "    }\n",
              "\n",
              "    [theme=dark] .colab-df-convert {\n",
              "      background-color: #3B4455;\n",
              "      fill: #D2E3FC;\n",
              "    }\n",
              "\n",
              "    [theme=dark] .colab-df-convert:hover {\n",
              "      background-color: #434B5C;\n",
              "      box-shadow: 0px 1px 3px 1px rgba(0, 0, 0, 0.15);\n",
              "      filter: drop-shadow(0px 1px 2px rgba(0, 0, 0, 0.3));\n",
              "      fill: #FFFFFF;\n",
              "    }\n",
              "  </style>\n",
              "\n",
              "      <script>\n",
              "        const buttonEl =\n",
              "          document.querySelector('#df-659e48b4-9972-4ea0-8812-21efeeb74026 button.colab-df-convert');\n",
              "        buttonEl.style.display =\n",
              "          google.colab.kernel.accessAllowed ? 'block' : 'none';\n",
              "\n",
              "        async function convertToInteractive(key) {\n",
              "          const element = document.querySelector('#df-659e48b4-9972-4ea0-8812-21efeeb74026');\n",
              "          const dataTable =\n",
              "            await google.colab.kernel.invokeFunction('convertToInteractive',\n",
              "                                                     [key], {});\n",
              "          if (!dataTable) return;\n",
              "\n",
              "          const docLinkHtml = 'Like what you see? Visit the ' +\n",
              "            '<a target=\"_blank\" href=https://colab.research.google.com/notebooks/data_table.ipynb>data table notebook</a>'\n",
              "            + ' to learn more about interactive tables.';\n",
              "          element.innerHTML = '';\n",
              "          dataTable['output_type'] = 'display_data';\n",
              "          await google.colab.output.renderOutput(dataTable, element);\n",
              "          const docLink = document.createElement('div');\n",
              "          docLink.innerHTML = docLinkHtml;\n",
              "          element.appendChild(docLink);\n",
              "        }\n",
              "      </script>\n",
              "    </div>\n",
              "  </div>\n",
              "  "
            ]
          },
          "metadata": {},
          "execution_count": 23
        }
      ]
    },
    {
      "cell_type": "markdown",
      "source": [
        "### delete row that age = 55/664, 35/11"
      ],
      "metadata": {
        "id": "VPT6pocrmSfB"
      }
    },
    {
      "cell_type": "code",
      "source": [
        "df = df.drop(100164)\n",
        "df = df.drop(2620435)"
      ],
      "metadata": {
        "id": "Dawnz4t5loNm"
      },
      "execution_count": 24,
      "outputs": []
    },
    {
      "cell_type": "code",
      "source": [
        "df['age'] = df['age'].astype(float)"
      ],
      "metadata": {
        "id": "iiXYS6dZmbx_"
      },
      "execution_count": 25,
      "outputs": []
    },
    {
      "cell_type": "markdown",
      "source": [
        "### delete row that age more than 122 (highest human age in the world)"
      ],
      "metadata": {
        "id": "Xgi4b-WdqOiE"
      }
    },
    {
      "cell_type": "code",
      "source": [
        "index_age_error = df[df['age'] > 122].index"
      ],
      "metadata": {
        "id": "IKR-h7E8pXhv"
      },
      "execution_count": 26,
      "outputs": []
    },
    {
      "cell_type": "code",
      "source": [
        "df = df.drop(index_age_error)"
      ],
      "metadata": {
        "id": "qXmHGQBzqWUS"
      },
      "execution_count": 27,
      "outputs": []
    },
    {
      "cell_type": "code",
      "source": [
        "df['age'].sort_values(ascending = False)"
      ],
      "metadata": {
        "id": "L4T8LZ1Qqbt8",
        "outputId": "2ac10799-78c0-42df-e84a-959be5270014",
        "colab": {
          "base_uri": "https://localhost:8080/"
        }
      },
      "execution_count": 28,
      "outputs": [
        {
          "output_type": "execute_result",
          "data": {
            "text/plain": [
              "2840765    122.0\n",
              "2841007    122.0\n",
              "2295985    121.0\n",
              "2382449    121.0\n",
              "1823216    119.0\n",
              "           ...  \n",
              "3111649      NaN\n",
              "3111650      NaN\n",
              "3111651      NaN\n",
              "3111652      NaN\n",
              "3111653      NaN\n",
              "Name: age, Length: 3111643, dtype: float64"
            ]
          },
          "metadata": {},
          "execution_count": 28
        }
      ]
    },
    {
      "cell_type": "markdown",
      "source": [
        "### check value"
      ],
      "metadata": {
        "id": "HfOvYB0Sr4YK"
      }
    },
    {
      "cell_type": "code",
      "source": [
        "df['age'].value_counts()"
      ],
      "metadata": {
        "id": "B2msal8_nTaE",
        "outputId": "5e76ddd5-c2c6-41d6-f391-6220b9145b77",
        "colab": {
          "base_uri": "https://localhost:8080/"
        }
      },
      "execution_count": 29,
      "outputs": [
        {
          "output_type": "execute_result",
          "data": {
            "text/plain": [
              "25.000000    71153\n",
              "26.000000    69871\n",
              "24.000000    69415\n",
              "30.000000    68444\n",
              "27.000000    68238\n",
              "             ...  \n",
              "54.240166        1\n",
              "54.280807        1\n",
              "54.321448        1\n",
              "54.362089        1\n",
              "4.300000         1\n",
              "Name: age, Length: 1215, dtype: int64"
            ]
          },
          "metadata": {},
          "execution_count": 29
        }
      ]
    },
    {
      "cell_type": "code",
      "source": [
        "df['age'].isna().sum()"
      ],
      "metadata": {
        "id": "tZNvQG49s7mQ",
        "outputId": "2df6c56c-ae79-4df6-fea9-a5acedefd41d",
        "colab": {
          "base_uri": "https://localhost:8080/"
        }
      },
      "execution_count": 30,
      "outputs": [
        {
          "output_type": "execute_result",
          "data": {
            "text/plain": [
              "256920"
            ]
          },
          "metadata": {},
          "execution_count": 30
        }
      ]
    },
    {
      "cell_type": "markdown",
      "source": [
        "## cleaning Data [unit]"
      ],
      "metadata": {
        "id": "99t4WP59sSoq"
      }
    },
    {
      "cell_type": "code",
      "source": [
        "df['Unit'] = df['Unit'].str.strip()"
      ],
      "metadata": {
        "id": "qMlDMEDXt-gZ"
      },
      "execution_count": 31,
      "outputs": []
    },
    {
      "cell_type": "code",
      "source": [
        "df['Unit'].value_counts()"
      ],
      "metadata": {
        "id": "rEeIPHa-sVgR",
        "outputId": "8a6a6e2b-c33f-412e-8757-8dca5eef9316",
        "colab": {
          "base_uri": "https://localhost:8080/"
        }
      },
      "execution_count": 32,
      "outputs": [
        {
          "output_type": "execute_result",
          "data": {
            "text/plain": [
              "ปี       2821098\n",
              "เดือน      12627\n",
              "วัน          835\n",
              "Name: Unit, dtype: int64"
            ]
          },
          "metadata": {},
          "execution_count": 32
        }
      ]
    },
    {
      "cell_type": "markdown",
      "source": [
        "### change person that age is month and day to 0 year"
      ],
      "metadata": {
        "id": "6brgFEwE0FT1"
      }
    },
    {
      "cell_type": "code",
      "source": [
        "unit_md_index = df[df['Unit'].isin(['เดือน', 'วัน'])].index"
      ],
      "metadata": {
        "id": "nWVDXAmRuFrf"
      },
      "execution_count": 33,
      "outputs": []
    },
    {
      "cell_type": "code",
      "source": [
        "df.loc[unit_md_index, 'age'] = 0"
      ],
      "metadata": {
        "id": "5t-cxCkxzgJz"
      },
      "execution_count": 34,
      "outputs": []
    },
    {
      "cell_type": "code",
      "source": [
        "df[df['Unit'].isin(['เดือน', 'วัน'])]"
      ],
      "metadata": {
        "id": "vSAp0j5Dz4ty",
        "outputId": "14c8b55e-3289-4a74-bf06-9a6f56c0c7d9",
        "colab": {
          "base_uri": "https://localhost:8080/",
          "height": 0
        }
      },
      "execution_count": 35,
      "outputs": [
        {
          "output_type": "execute_result",
          "data": {
            "text/plain": [
              "             No. announce_date Notified date   sex  age   Unit nationality  \\\n",
              "301          302     20/3/2020           NaN   ชาย  0.0  เดือน    Thailand   \n",
              "1076        1077     27/3/2020     26/3/2020   ชาย  0.0  เดือน    Thailand   \n",
              "1676        1677      1/4/2020     31/3/2020   ชาย  0.0  เดือน       Japan   \n",
              "1988        1989      4/4/2020      3/4/2020   ชาย  0.0  เดือน    Thailand   \n",
              "3507        3508     22/9/2020     21/9/2020   ชาย  0.0  เดือน       India   \n",
              "...          ...           ...           ...   ...  ...    ...         ...   \n",
              "3107814  3085033      9/3/2022      8/3/2022   ชาย  0.0  เดือน    Thailand   \n",
              "3107889  3085108      9/3/2022      8/3/2022  หญิง  0.0  เดือน    Thailand   \n",
              "3107897  3085116      9/3/2022      8/3/2022  หญิง  0.0  เดือน    Thailand   \n",
              "3107901  3085120      9/3/2022      8/3/2022  หญิง  0.0  เดือน    Thailand   \n",
              "3107974  3085193      9/3/2022      8/3/2022  หญิง  0.0  เดือน    Thailand   \n",
              "\n",
              "        province_of_isolation                                          risk  \\\n",
              "301                    ภูเก็ต   สัมผัสใกล้ชิดกับผู้ป่วยยืนยันรายก่อนหน้านี้   \n",
              "1076             สุราษฎร์ธานี   สัมผัสใกล้ชิดกับผู้ป่วยยืนยันรายก่อนหน้านี้   \n",
              "1676            กรุงเทพมหานคร   สัมผัสใกล้ชิดกับผู้ป่วยยืนยันรายก่อนหน้านี้   \n",
              "1988                    ระยอง   สัมผัสใกล้ชิดกับผู้ป่วยยืนยันรายก่อนหน้านี้   \n",
              "3507            กรุงเทพมหานคร  ผู้ที่เดินทางมาจากต่างประเทศ และเข้า ASQ/ALQ   \n",
              "...                       ...                                           ...   \n",
              "3107814                  สตูล   สัมผัสใกล้ชิดกับผู้ป่วยยืนยันรายก่อนหน้านี้   \n",
              "3107889                  สตูล   สัมผัสใกล้ชิดกับผู้ป่วยยืนยันรายก่อนหน้านี้   \n",
              "3107897                  สตูล   สัมผัสใกล้ชิดกับผู้ป่วยยืนยันรายก่อนหน้านี้   \n",
              "3107901                  สตูล   สัมผัสใกล้ชิดกับผู้ป่วยยืนยันรายก่อนหน้านี้   \n",
              "3107974                  สตูล   สัมผัสใกล้ชิดกับผู้ป่วยยืนยันรายก่อนหน้านี้   \n",
              "\n",
              "        province_of_onset district_of_onset  \n",
              "301                ภูเก็ต             เมือง  \n",
              "1076         สุราษฎร์ธานี        กาญจนดิษฐ์  \n",
              "1676        กรุงเทพมหานคร               NaN  \n",
              "1988                ระยอง           บ้านฉาง  \n",
              "3507        กรุงเทพมหานคร            พระนคร  \n",
              "...                   ...               ...  \n",
              "3107814              สตูล        เมืองพิมาน  \n",
              "3107889              สตูล            ควนโดน  \n",
              "3107897              สตูล            ควนโดน  \n",
              "3107901              สตูล            ควนโดน  \n",
              "3107974              สตูล          ทุ่งหว้า  \n",
              "\n",
              "[13462 rows x 11 columns]"
            ],
            "text/html": [
              "\n",
              "  <div id=\"df-0b9644c7-373b-4b73-ae75-b3fbbc71de58\">\n",
              "    <div class=\"colab-df-container\">\n",
              "      <div>\n",
              "<style scoped>\n",
              "    .dataframe tbody tr th:only-of-type {\n",
              "        vertical-align: middle;\n",
              "    }\n",
              "\n",
              "    .dataframe tbody tr th {\n",
              "        vertical-align: top;\n",
              "    }\n",
              "\n",
              "    .dataframe thead th {\n",
              "        text-align: right;\n",
              "    }\n",
              "</style>\n",
              "<table border=\"1\" class=\"dataframe\">\n",
              "  <thead>\n",
              "    <tr style=\"text-align: right;\">\n",
              "      <th></th>\n",
              "      <th>No.</th>\n",
              "      <th>announce_date</th>\n",
              "      <th>Notified date</th>\n",
              "      <th>sex</th>\n",
              "      <th>age</th>\n",
              "      <th>Unit</th>\n",
              "      <th>nationality</th>\n",
              "      <th>province_of_isolation</th>\n",
              "      <th>risk</th>\n",
              "      <th>province_of_onset</th>\n",
              "      <th>district_of_onset</th>\n",
              "    </tr>\n",
              "  </thead>\n",
              "  <tbody>\n",
              "    <tr>\n",
              "      <th>301</th>\n",
              "      <td>302</td>\n",
              "      <td>20/3/2020</td>\n",
              "      <td>NaN</td>\n",
              "      <td>ชาย</td>\n",
              "      <td>0.0</td>\n",
              "      <td>เดือน</td>\n",
              "      <td>Thailand</td>\n",
              "      <td>ภูเก็ต</td>\n",
              "      <td>สัมผัสใกล้ชิดกับผู้ป่วยยืนยันรายก่อนหน้านี้</td>\n",
              "      <td>ภูเก็ต</td>\n",
              "      <td>เมือง</td>\n",
              "    </tr>\n",
              "    <tr>\n",
              "      <th>1076</th>\n",
              "      <td>1077</td>\n",
              "      <td>27/3/2020</td>\n",
              "      <td>26/3/2020</td>\n",
              "      <td>ชาย</td>\n",
              "      <td>0.0</td>\n",
              "      <td>เดือน</td>\n",
              "      <td>Thailand</td>\n",
              "      <td>สุราษฎร์ธานี</td>\n",
              "      <td>สัมผัสใกล้ชิดกับผู้ป่วยยืนยันรายก่อนหน้านี้</td>\n",
              "      <td>สุราษฎร์ธานี</td>\n",
              "      <td>กาญจนดิษฐ์</td>\n",
              "    </tr>\n",
              "    <tr>\n",
              "      <th>1676</th>\n",
              "      <td>1677</td>\n",
              "      <td>1/4/2020</td>\n",
              "      <td>31/3/2020</td>\n",
              "      <td>ชาย</td>\n",
              "      <td>0.0</td>\n",
              "      <td>เดือน</td>\n",
              "      <td>Japan</td>\n",
              "      <td>กรุงเทพมหานคร</td>\n",
              "      <td>สัมผัสใกล้ชิดกับผู้ป่วยยืนยันรายก่อนหน้านี้</td>\n",
              "      <td>กรุงเทพมหานคร</td>\n",
              "      <td>NaN</td>\n",
              "    </tr>\n",
              "    <tr>\n",
              "      <th>1988</th>\n",
              "      <td>1989</td>\n",
              "      <td>4/4/2020</td>\n",
              "      <td>3/4/2020</td>\n",
              "      <td>ชาย</td>\n",
              "      <td>0.0</td>\n",
              "      <td>เดือน</td>\n",
              "      <td>Thailand</td>\n",
              "      <td>ระยอง</td>\n",
              "      <td>สัมผัสใกล้ชิดกับผู้ป่วยยืนยันรายก่อนหน้านี้</td>\n",
              "      <td>ระยอง</td>\n",
              "      <td>บ้านฉาง</td>\n",
              "    </tr>\n",
              "    <tr>\n",
              "      <th>3507</th>\n",
              "      <td>3508</td>\n",
              "      <td>22/9/2020</td>\n",
              "      <td>21/9/2020</td>\n",
              "      <td>ชาย</td>\n",
              "      <td>0.0</td>\n",
              "      <td>เดือน</td>\n",
              "      <td>India</td>\n",
              "      <td>กรุงเทพมหานคร</td>\n",
              "      <td>ผู้ที่เดินทางมาจากต่างประเทศ และเข้า ASQ/ALQ</td>\n",
              "      <td>กรุงเทพมหานคร</td>\n",
              "      <td>พระนคร</td>\n",
              "    </tr>\n",
              "    <tr>\n",
              "      <th>...</th>\n",
              "      <td>...</td>\n",
              "      <td>...</td>\n",
              "      <td>...</td>\n",
              "      <td>...</td>\n",
              "      <td>...</td>\n",
              "      <td>...</td>\n",
              "      <td>...</td>\n",
              "      <td>...</td>\n",
              "      <td>...</td>\n",
              "      <td>...</td>\n",
              "      <td>...</td>\n",
              "    </tr>\n",
              "    <tr>\n",
              "      <th>3107814</th>\n",
              "      <td>3085033</td>\n",
              "      <td>9/3/2022</td>\n",
              "      <td>8/3/2022</td>\n",
              "      <td>ชาย</td>\n",
              "      <td>0.0</td>\n",
              "      <td>เดือน</td>\n",
              "      <td>Thailand</td>\n",
              "      <td>สตูล</td>\n",
              "      <td>สัมผัสใกล้ชิดกับผู้ป่วยยืนยันรายก่อนหน้านี้</td>\n",
              "      <td>สตูล</td>\n",
              "      <td>เมืองพิมาน</td>\n",
              "    </tr>\n",
              "    <tr>\n",
              "      <th>3107889</th>\n",
              "      <td>3085108</td>\n",
              "      <td>9/3/2022</td>\n",
              "      <td>8/3/2022</td>\n",
              "      <td>หญิง</td>\n",
              "      <td>0.0</td>\n",
              "      <td>เดือน</td>\n",
              "      <td>Thailand</td>\n",
              "      <td>สตูล</td>\n",
              "      <td>สัมผัสใกล้ชิดกับผู้ป่วยยืนยันรายก่อนหน้านี้</td>\n",
              "      <td>สตูล</td>\n",
              "      <td>ควนโดน</td>\n",
              "    </tr>\n",
              "    <tr>\n",
              "      <th>3107897</th>\n",
              "      <td>3085116</td>\n",
              "      <td>9/3/2022</td>\n",
              "      <td>8/3/2022</td>\n",
              "      <td>หญิง</td>\n",
              "      <td>0.0</td>\n",
              "      <td>เดือน</td>\n",
              "      <td>Thailand</td>\n",
              "      <td>สตูล</td>\n",
              "      <td>สัมผัสใกล้ชิดกับผู้ป่วยยืนยันรายก่อนหน้านี้</td>\n",
              "      <td>สตูล</td>\n",
              "      <td>ควนโดน</td>\n",
              "    </tr>\n",
              "    <tr>\n",
              "      <th>3107901</th>\n",
              "      <td>3085120</td>\n",
              "      <td>9/3/2022</td>\n",
              "      <td>8/3/2022</td>\n",
              "      <td>หญิง</td>\n",
              "      <td>0.0</td>\n",
              "      <td>เดือน</td>\n",
              "      <td>Thailand</td>\n",
              "      <td>สตูล</td>\n",
              "      <td>สัมผัสใกล้ชิดกับผู้ป่วยยืนยันรายก่อนหน้านี้</td>\n",
              "      <td>สตูล</td>\n",
              "      <td>ควนโดน</td>\n",
              "    </tr>\n",
              "    <tr>\n",
              "      <th>3107974</th>\n",
              "      <td>3085193</td>\n",
              "      <td>9/3/2022</td>\n",
              "      <td>8/3/2022</td>\n",
              "      <td>หญิง</td>\n",
              "      <td>0.0</td>\n",
              "      <td>เดือน</td>\n",
              "      <td>Thailand</td>\n",
              "      <td>สตูล</td>\n",
              "      <td>สัมผัสใกล้ชิดกับผู้ป่วยยืนยันรายก่อนหน้านี้</td>\n",
              "      <td>สตูล</td>\n",
              "      <td>ทุ่งหว้า</td>\n",
              "    </tr>\n",
              "  </tbody>\n",
              "</table>\n",
              "<p>13462 rows × 11 columns</p>\n",
              "</div>\n",
              "      <button class=\"colab-df-convert\" onclick=\"convertToInteractive('df-0b9644c7-373b-4b73-ae75-b3fbbc71de58')\"\n",
              "              title=\"Convert this dataframe to an interactive table.\"\n",
              "              style=\"display:none;\">\n",
              "        \n",
              "  <svg xmlns=\"http://www.w3.org/2000/svg\" height=\"24px\"viewBox=\"0 0 24 24\"\n",
              "       width=\"24px\">\n",
              "    <path d=\"M0 0h24v24H0V0z\" fill=\"none\"/>\n",
              "    <path d=\"M18.56 5.44l.94 2.06.94-2.06 2.06-.94-2.06-.94-.94-2.06-.94 2.06-2.06.94zm-11 1L8.5 8.5l.94-2.06 2.06-.94-2.06-.94L8.5 2.5l-.94 2.06-2.06.94zm10 10l.94 2.06.94-2.06 2.06-.94-2.06-.94-.94-2.06-.94 2.06-2.06.94z\"/><path d=\"M17.41 7.96l-1.37-1.37c-.4-.4-.92-.59-1.43-.59-.52 0-1.04.2-1.43.59L10.3 9.45l-7.72 7.72c-.78.78-.78 2.05 0 2.83L4 21.41c.39.39.9.59 1.41.59.51 0 1.02-.2 1.41-.59l7.78-7.78 2.81-2.81c.8-.78.8-2.07 0-2.86zM5.41 20L4 18.59l7.72-7.72 1.47 1.35L5.41 20z\"/>\n",
              "  </svg>\n",
              "      </button>\n",
              "      \n",
              "  <style>\n",
              "    .colab-df-container {\n",
              "      display:flex;\n",
              "      flex-wrap:wrap;\n",
              "      gap: 12px;\n",
              "    }\n",
              "\n",
              "    .colab-df-convert {\n",
              "      background-color: #E8F0FE;\n",
              "      border: none;\n",
              "      border-radius: 50%;\n",
              "      cursor: pointer;\n",
              "      display: none;\n",
              "      fill: #1967D2;\n",
              "      height: 32px;\n",
              "      padding: 0 0 0 0;\n",
              "      width: 32px;\n",
              "    }\n",
              "\n",
              "    .colab-df-convert:hover {\n",
              "      background-color: #E2EBFA;\n",
              "      box-shadow: 0px 1px 2px rgba(60, 64, 67, 0.3), 0px 1px 3px 1px rgba(60, 64, 67, 0.15);\n",
              "      fill: #174EA6;\n",
              "    }\n",
              "\n",
              "    [theme=dark] .colab-df-convert {\n",
              "      background-color: #3B4455;\n",
              "      fill: #D2E3FC;\n",
              "    }\n",
              "\n",
              "    [theme=dark] .colab-df-convert:hover {\n",
              "      background-color: #434B5C;\n",
              "      box-shadow: 0px 1px 3px 1px rgba(0, 0, 0, 0.15);\n",
              "      filter: drop-shadow(0px 1px 2px rgba(0, 0, 0, 0.3));\n",
              "      fill: #FFFFFF;\n",
              "    }\n",
              "  </style>\n",
              "\n",
              "      <script>\n",
              "        const buttonEl =\n",
              "          document.querySelector('#df-0b9644c7-373b-4b73-ae75-b3fbbc71de58 button.colab-df-convert');\n",
              "        buttonEl.style.display =\n",
              "          google.colab.kernel.accessAllowed ? 'block' : 'none';\n",
              "\n",
              "        async function convertToInteractive(key) {\n",
              "          const element = document.querySelector('#df-0b9644c7-373b-4b73-ae75-b3fbbc71de58');\n",
              "          const dataTable =\n",
              "            await google.colab.kernel.invokeFunction('convertToInteractive',\n",
              "                                                     [key], {});\n",
              "          if (!dataTable) return;\n",
              "\n",
              "          const docLinkHtml = 'Like what you see? Visit the ' +\n",
              "            '<a target=\"_blank\" href=https://colab.research.google.com/notebooks/data_table.ipynb>data table notebook</a>'\n",
              "            + ' to learn more about interactive tables.';\n",
              "          element.innerHTML = '';\n",
              "          dataTable['output_type'] = 'display_data';\n",
              "          await google.colab.output.renderOutput(dataTable, element);\n",
              "          const docLink = document.createElement('div');\n",
              "          docLink.innerHTML = docLinkHtml;\n",
              "          element.appendChild(docLink);\n",
              "        }\n",
              "      </script>\n",
              "    </div>\n",
              "  </div>\n",
              "  "
            ]
          },
          "metadata": {},
          "execution_count": 35
        }
      ]
    },
    {
      "cell_type": "code",
      "source": [
        "df.loc[unit_md_index, 'Unit'] = 'ปี'"
      ],
      "metadata": {
        "id": "sdCkz5Q30VVU"
      },
      "execution_count": 36,
      "outputs": []
    },
    {
      "cell_type": "code",
      "source": [
        "df['Unit'].value_counts()"
      ],
      "metadata": {
        "id": "kvhlIZPT0bCB",
        "outputId": "55ebe6ca-d172-4c41-e2a4-041ffba7d17c",
        "colab": {
          "base_uri": "https://localhost:8080/"
        }
      },
      "execution_count": 37,
      "outputs": [
        {
          "output_type": "execute_result",
          "data": {
            "text/plain": [
              "ปี    2834560\n",
              "Name: Unit, dtype: int64"
            ]
          },
          "metadata": {},
          "execution_count": 37
        }
      ]
    },
    {
      "cell_type": "markdown",
      "source": [
        "## cleaning Data [nationality]"
      ],
      "metadata": {
        "id": "dx0qul1C1LpS"
      }
    },
    {
      "cell_type": "markdown",
      "source": [
        "### setting show all data "
      ],
      "metadata": {
        "id": "eTI877rp1xuH"
      }
    },
    {
      "cell_type": "code",
      "source": [
        "pd.set_option(\"display.max_rows\", 7)"
      ],
      "metadata": {
        "id": "S1ZwBLws1pDs"
      },
      "execution_count": 38,
      "outputs": []
    },
    {
      "cell_type": "markdown",
      "source": [
        "### change to lower text"
      ],
      "metadata": {
        "id": "kt_M1c-C3HBl"
      }
    },
    {
      "cell_type": "code",
      "source": [
        "df['nationality'] = df['nationality'].str.lower()"
      ],
      "metadata": {
        "id": "Ulq6fm523GD7"
      },
      "execution_count": 39,
      "outputs": []
    },
    {
      "cell_type": "markdown",
      "source": [
        "### delete white space"
      ],
      "metadata": {
        "id": "551mY4HfCwW7"
      }
    },
    {
      "cell_type": "code",
      "source": [
        "df['nationality'] = df['nationality'].str.strip()"
      ],
      "metadata": {
        "id": "zNfBUBUxCuHn"
      },
      "execution_count": 40,
      "outputs": []
    },
    {
      "cell_type": "code",
      "source": [
        "df['nationality'].head()"
      ],
      "metadata": {
        "id": "ngIb1ZOg3ee6",
        "outputId": "e35f1962-ed3b-4367-be99-c5223ec91eac",
        "colab": {
          "base_uri": "https://localhost:8080/"
        }
      },
      "execution_count": 41,
      "outputs": [
        {
          "output_type": "execute_result",
          "data": {
            "text/plain": [
              "0       china\n",
              "1       china\n",
              "2    thailand\n",
              "3       china\n",
              "4       china\n",
              "Name: nationality, dtype: object"
            ]
          },
          "metadata": {},
          "execution_count": 41
        }
      ]
    },
    {
      "cell_type": "markdown",
      "source": [
        "### change duplicate data"
      ],
      "metadata": {
        "id": "VsJB0HJ0Ll4a"
      }
    },
    {
      "cell_type": "code",
      "source": [
        "a = df['nationality'].replace(['afghan / afghani','afghanistan'], 'afghan')\n",
        "a = a.replace(['albania'], 'albanian')\n",
        "a = a.replace(['algeria'], 'algerian')\n",
        "a = a.replace(['american samoa'], 'american samoan')\n",
        "a = a.replace(['americans','อเมริกา'], 'american')\n",
        "a = a.replace(['arabi'], 'saudi arabian')\n",
        "a = a.replace(['argentina', 'argentine / argentinian'], 'argentine')\n",
        "a = a.replace(['armenia'], 'armenian')\n",
        "a = a.replace(['au', 'australia'], 'australian')\n",
        "a = a.replace(['austria'], 'austrian')\n",
        "a = a.replace(['azerbaijan'], 'azerbaijani')\n",
        "a = a.replace(['bahrain'], 'bahraini')\n",
        "a = a.replace(['bangladesh'], 'bangladeshi')\n",
        "a = a.replace(['belarus'], 'belarusian')\n",
        "a = a.replace(['belgium'], 'belgian')\n",
        "a = a.replace(['bermuda'], 'bermudain')\n",
        "a = a.replace(['bhutan'], 'bhutanese')\n",
        "a = a.replace(['bosnian/herzegovinian'], 'bosnian')\n",
        "a = a.replace(['brazil', 'บราซิล'], 'brazilian')\n",
        "a = a.replace(['british / english', 'british / northern irish', 'british / scottish', 'british / welsh', 'british/english'], 'british')\n",
        "a = a.replace(['brunei'], 'bruneian')\n",
        "a = a.replace(['bulgaria'], 'bulgarian')\n",
        "a = a.replace(['burma', 'myanmar', 'พม่า', 'ไทยใหญ่', 'ไทใหญ่'], 'burmese')\n",
        "a = a.replace(['cambodia', 'กัมพูชา'], 'cambodian')\n",
        "a = a.replace(['cameroon'], 'cameroonian')\n",
        "a = a.replace(['canada'], 'canadian')\n",
        "a = a.replace(['china', 'จีน'], 'chinese')\n",
        "a = a.replace(['colombia'], 'colombian')\n",
        "a = a.replace(['congo', 'congo (brazzaville)'], 'congolese')\n",
        "a = a.replace(['croatia'], 'croatian')\n",
        "a = a.replace(['cuba'], 'cuban')\n",
        "a = a.replace(['czechia'], 'czech')"
      ],
      "metadata": {
        "id": "yOjzc5CJLkmy"
      },
      "execution_count": 42,
      "outputs": []
    },
    {
      "cell_type": "code",
      "source": [
        "a = a.replace(['denmark'], 'danish')\n",
        "a = a.replace(['deutsch'], 'german')\n",
        "a = a.replace(['netherlands'], 'dutch')\n",
        "a = a.replace(['egypt'], 'egyptian')\n",
        "a = a.replace(['emirate', 'uae', 'united arab emirates'], 'emirati')\n",
        "a = a.replace(['eritrea'], 'eritrean')\n",
        "a = a.replace(['estonia'], 'estonian')\n",
        "a = a.replace(['ethiopia'], 'ethiopian')\n",
        "a = a.replace(['philipines'], 'filipino')\n",
        "a = a.replace(['finland'], 'finnish')\n",
        "a = a.replace(['franch', 'french guiana'], 'french')\n",
        "a = a.replace(['gambia', 'gambia, the'], 'gambian')\n",
        "a = a.replace(['germany', 'germen', 'gremany'], 'german')\n",
        "a = a.replace(['ghana'], 'ghanaian')\n",
        "a = a.replace(['greece'], 'greek')\n",
        "a = a.replace(['guinea'], 'guinean')\n",
        "a = a.replace(['hong kong'], 'chinese')\n",
        "a = a.replace(['hungary'], 'hungarian')\n",
        "a = a.replace(['iceland'], 'icelandic')\n",
        "a = a.replace(['india', 'india-thailand'], 'indian')\n",
        "a = a.replace(['indonesia'], 'indonesian')\n",
        "a = a.replace(['iran'], 'iranian')\n",
        "a = a.replace(['iraq'], 'iraqi')\n",
        "a = a.replace(['ireland'], 'irish')\n",
        "a = a.replace(['israel'], 'israeli')\n",
        "a = a.replace(['italy'], 'italian')\n",
        "a = a.replace(['japan'], 'japanese')\n",
        "a = a.replace(['jordan'], 'jordanian')"
      ],
      "metadata": {
        "id": "xHBaGZ9C1BH6"
      },
      "execution_count": 43,
      "outputs": []
    },
    {
      "cell_type": "code",
      "source": [
        "a = a.replace(['kazakhstan', 'kazakh / kazakhstani'], 'kazakh')\n",
        "a = a.replace(['kenya'], 'kenyan')\n",
        "a = a.replace(['korea, south', 'korean'], 'south korean')\n",
        "a = a.replace(['kosovo'], 'kosovan')\n",
        "a = a.replace(['kuwait'], 'kuwaiti')\n",
        "a = a.replace(['kyrgyzstan'], 'kyrgyz')\n",
        "a = a.replace(['l', 'lao', 'laos', 'laotian / lao', 'laotian/lao'], 'laotian')\n",
        "a = a.replace(['latvia'], 'latvian')\n",
        "a = a.replace(['liberia'], 'liberian')\n",
        "a = a.replace(['libya'], 'libyan')\n",
        "a = a.replace(['lithuania'], 'lithuanian')\n",
        "a = a.replace(['luxembourg'], 'luxembourgish')\n",
        "a = a.replace(['macedonia'], 'macedonian')\n",
        "a = a.replace(['malawi'], 'malawin')\n",
        "a = a.replace(['malaysia'], 'malaysian')\n",
        "a = a.replace(['maldives'], 'maldivian')\n",
        "a = a.replace(['mali'], 'malian')\n",
        "a = a.replace(['malta'], 'maltese')\n",
        "a = a.replace(['mauritians', 'mauritius'], 'mauritian')\n",
        "a = a.replace(['mexico'], 'mexican')\n",
        "a = a.replace(['mongolia'], 'mongolian')\n",
        "a = a.replace(['namibia'], 'namibian')\n",
        "a = a.replace(['nepal', 'nepalese / nepali'], 'nepalese')\n",
        "a = a.replace(['new zealand'], 'new zealander')\n",
        "a = a.replace(['nicaragua'], 'nicaraguan')\n",
        "a = a.replace(['nigeria', 'ไนจีเรีย'], 'nigerian')\n",
        "a = a.replace(['norway'], 'norwegian')"
      ],
      "metadata": {
        "id": "mylzYKiXYiq-"
      },
      "execution_count": 44,
      "outputs": []
    },
    {
      "cell_type": "code",
      "source": [
        "a = a.replace(['oman'], 'omani')\n",
        "a = a.replace(['pakistan'], 'pakistani')\n",
        "a = a.replace(['palestine'], 'palestinian')\n",
        "a = a.replace(['philippines'], 'filipino')\n",
        "a = a.replace(['poland'], 'polish')\n",
        "a = a.replace(['portugal'], 'portuguese')\n",
        "a = a.replace(['qatar', 'oatari'], 'qatari')\n",
        "a = a.replace(['romania'], 'romanian')\n",
        "a = a.replace(['russia'], 'russian')\n",
        "a = a.replace(['senegal'], 'senegalese')\n",
        "a = a.replace(['serbia'], 'serbian')\n",
        "a = a.replace(['sierra leone'], 'sierra leonian')\n",
        "a = a.replace(['singapore'], 'singaporean')\n",
        "a = a.replace(['slovak / slovakian'], 'slovak')\n",
        "a = a.replace(['slovenia', 'slovenian / slovene'], 'slovenian')\n",
        "a = a.replace(['somali / somalian', 'somalia'], 'somali')\n",
        "a = a.replace(['south africa'], 'south african')\n",
        "a = a.replace(['south korea'], 'south korean')\n",
        "a = a.replace(['spain'], 'spanish')\n",
        "a = a.replace(['sri lanka'], 'sri lankan')\n",
        "a = a.replace(['sudan'], 'sudanese')\n",
        "a = a.replace(['swaziland'], 'swazi')\n",
        "a = a.replace(['sweden', 'สวีเดน'], 'swedish')\n",
        "a = a.replace(['switzerland'], 'swiss')\n",
        "a = a.replace(['syria'], 'syrian')"
      ],
      "metadata": {
        "id": "FjT4EzGjbRt2"
      },
      "execution_count": 45,
      "outputs": []
    },
    {
      "cell_type": "code",
      "source": [
        "a = a.replace(['taiwan'], 'taiwanese')\n",
        "a = a.replace(['tajik'], 'tajikistan')\n",
        "a = a.replace(['tanzania'], 'tanzanian')\n",
        "a = a.replace(['thailand'], 'thai')\n",
        "a = a.replace(['timor-leste'], 'timorese')\n",
        "a = a.replace(['tunisia'], 'tunisian')\n",
        "a = a.replace(['turkey', 'turkcish'], 'turkish')\n",
        "a = a.replace(['uganda'], 'ugandan')\n",
        "a = a.replace(['ukraine'], 'ukrainian')\n",
        "a = a.replace(['united kingdom'], 'british')\n",
        "a = a.replace(['united states of america'], 'american')\n",
        "a = a.replace(['uzbekistan'], 'uzbek')\n",
        "a = a.replace(['vietnam'], 'vietnamese')\n",
        "a = a.replace(['yemen', 'yemeni / yemenite'], 'yemeni')\n",
        "a = a.replace(['zimbabwe'], 'zimbabwean')\n",
        "a = a.replace(['ต่างด้าว'], 'other')\n",
        "a = a.replace(['ลาว'], 'laotian')\n",
        "a = a.replace(['ไม่มีสัญชาติ'], 'other')\n",
        "a = a.replace(['ไม่ระบุ'], 'other')"
      ],
      "metadata": {
        "id": "X0nzJ6D8dpbG"
      },
      "execution_count": 46,
      "outputs": []
    },
    {
      "cell_type": "code",
      "source": [
        "df['nationality'] = a.str.capitalize()\n",
        "df.groupby('nationality').size()"
      ],
      "metadata": {
        "id": "j7M6egTzgIev",
        "outputId": "92e3ff77-a381-426b-92e7-a4aa60cf175b",
        "colab": {
          "base_uri": "https://localhost:8080/"
        }
      },
      "execution_count": 47,
      "outputs": [
        {
          "output_type": "execute_result",
          "data": {
            "text/plain": [
              "nationality\n",
              "Afghan        18\n",
              "African       23\n",
              "Albanian      13\n",
              "              ..\n",
              "Yemeni        11\n",
              "Zambian        2\n",
              "Zimbabwean     5\n",
              "Length: 144, dtype: int64"
            ]
          },
          "metadata": {},
          "execution_count": 47
        }
      ]
    },
    {
      "cell_type": "markdown",
      "source": [
        "use this ref to change nationality https://www.englishclub.com/vocabulary/world-countries-nationality.php"
      ],
      "metadata": {
        "id": "kdacuTF-5V9F"
      }
    },
    {
      "cell_type": "markdown",
      "source": [
        "## cleaning Data [province_of_isolation]"
      ],
      "metadata": {
        "id": "MMmAhW0-h97h"
      }
    },
    {
      "cell_type": "code",
      "source": [
        "pd.set_option(\"display.max_rows\", 7)"
      ],
      "metadata": {
        "id": "JaMWPfIhiTeX"
      },
      "execution_count": 48,
      "outputs": []
    },
    {
      "cell_type": "markdown",
      "source": [
        "### delete white space"
      ],
      "metadata": {
        "id": "yOCk_PJAip-J"
      }
    },
    {
      "cell_type": "code",
      "source": [
        "df['province_of_isolation'] = df['province_of_isolation'].str.strip()"
      ],
      "metadata": {
        "id": "FwX1KvAxioc6"
      },
      "execution_count": 49,
      "outputs": []
    },
    {
      "cell_type": "markdown",
      "source": [
        "### change duplicate data"
      ],
      "metadata": {
        "id": "PA7D9js7i1HG"
      }
    },
    {
      "cell_type": "code",
      "source": [
        "df['province_of_isolation'] = df['province_of_isolation'].replace(['กทม'], 'กรุงเทพมหานคร')\n",
        "df['province_of_isolation'] = df['province_of_isolation'].replace(['ภููเก็ต'], 'ภูเก็ต')"
      ],
      "metadata": {
        "id": "oFTvzW0siwdM"
      },
      "execution_count": 50,
      "outputs": []
    },
    {
      "cell_type": "code",
      "source": [
        "df['province_of_isolation'].nunique()"
      ],
      "metadata": {
        "id": "Pt4pQ6FfjlyQ",
        "outputId": "870bf841-ee94-4c3b-d4ba-f7e670a87680",
        "colab": {
          "base_uri": "https://localhost:8080/"
        }
      },
      "execution_count": 51,
      "outputs": [
        {
          "output_type": "execute_result",
          "data": {
            "text/plain": [
              "77"
            ]
          },
          "metadata": {},
          "execution_count": 51
        }
      ]
    },
    {
      "cell_type": "code",
      "source": [
        "df.groupby('province_of_isolation').size()"
      ],
      "metadata": {
        "id": "WjROxeJLjKcK",
        "outputId": "64335877-caf2-47aa-e439-c5851ce0b2a6",
        "colab": {
          "base_uri": "https://localhost:8080/"
        }
      },
      "execution_count": 52,
      "outputs": [
        {
          "output_type": "execute_result",
          "data": {
            "text/plain": [
              "province_of_isolation\n",
              "กระบี่            18350\n",
              "กรุงเทพมหานคร    601231\n",
              "กาญจนบุรี         34437\n",
              "                  ...  \n",
              "เลย                9470\n",
              "แพร่               5221\n",
              "แม่ฮ่องสอน         4243\n",
              "Length: 77, dtype: int64"
            ]
          },
          "metadata": {},
          "execution_count": 52
        }
      ]
    },
    {
      "cell_type": "code",
      "source": [
        "df['province_of_isolation'].value_counts()"
      ],
      "metadata": {
        "id": "XHVv1-mmjYLo",
        "outputId": "b13d0aac-746d-4638-c2b5-36b9320cf50a",
        "colab": {
          "base_uri": "https://localhost:8080/"
        }
      },
      "execution_count": 53,
      "outputs": [
        {
          "output_type": "execute_result",
          "data": {
            "text/plain": [
              "กรุงเทพมหานคร    601231\n",
              "สมุทรปราการ      191016\n",
              "ชลบุรี           168600\n",
              "                  ...  \n",
              "อำนาจเจริญ         5244\n",
              "แพร่               5221\n",
              "แม่ฮ่องสอน         4243\n",
              "Name: province_of_isolation, Length: 77, dtype: int64"
            ]
          },
          "metadata": {},
          "execution_count": 53
        }
      ]
    },
    {
      "cell_type": "markdown",
      "source": [
        "## cleaning Data [risk]"
      ],
      "metadata": {
        "id": "J1KkAedXkt9e"
      }
    },
    {
      "cell_type": "code",
      "source": [
        "pd.set_option(\"display.max_rows\", 10)"
      ],
      "metadata": {
        "id": "ivQn8Iw4Z6wI"
      },
      "execution_count": 54,
      "outputs": []
    },
    {
      "cell_type": "markdown",
      "source": [
        "### delete white space"
      ],
      "metadata": {
        "id": "Vv04mCGlbgFk"
      }
    },
    {
      "cell_type": "code",
      "source": [
        "df['risk'] = df['risk'].str.strip()"
      ],
      "metadata": {
        "id": "zTHqcrH0a2tp"
      },
      "execution_count": 55,
      "outputs": []
    },
    {
      "cell_type": "markdown",
      "source": [
        "### change to lower text"
      ],
      "metadata": {
        "id": "DdfhAlAArTmq"
      }
    },
    {
      "cell_type": "code",
      "source": [
        "df['risk'] = df['risk'].str.lower()"
      ],
      "metadata": {
        "id": "gUHEQZGlrW-m"
      },
      "execution_count": 56,
      "outputs": []
    },
    {
      "cell_type": "code",
      "source": [
        "df.groupby('risk').size()"
      ],
      "metadata": {
        "id": "S_V_qZmUktY9",
        "outputId": "b4acd9a6-c97a-4ea6-9e92-0c5902ee7773",
        "colab": {
          "base_uri": "https://localhost:8080/"
        }
      },
      "execution_count": 57,
      "outputs": [
        {
          "output_type": "execute_result",
          "data": {
            "text/plain": [
              "risk\n",
              "10.อื่นๆ                                               88\n",
              "2.สัมผัสผู้ติดเชื้อ                                    92\n",
              "8.สำรวจกลุ่มเสี่ยง (survey)                             1\n",
              "9.ขอตรวจหาเชื้อเอง                                      2\n",
              "acf รองเมือง                                           24\n",
              "                                                     ... \n",
              "ไปสถานที่เสี่ยง เช่น ตลาด สถานที่ชุมชน                  1\n",
              "ไปสถานที่แออัด เช่น งานแฟร์ คอนเสิร์ต                4144\n",
              "ไปเที่ยวสถานบันเทิงในอุบลที่พบการระบาดของโรค ubar       1\n",
              "ไปแหล่งชุมชน/สถานที่คนหนาแน่น                           5\n",
              "ไม่ระบุ                                                 4\n",
              "Length: 165, dtype: int64"
            ]
          },
          "metadata": {},
          "execution_count": 57
        }
      ]
    },
    {
      "cell_type": "markdown",
      "source": [
        "### create new columns for new_risk"
      ],
      "metadata": {
        "id": "Rxq-jeSdptiQ"
      }
    },
    {
      "cell_type": "code",
      "source": [
        "# create a list of our conditions\n",
        "conditions = [\n",
        "    (df['risk'].str.contains('อาชีพเสี่ยง', na=False)),\n",
        "    (df['risk'].str.contains('สัมผัส', na=False)),\n",
        "    (df['risk'].str.contains('acf', na=False)),\n",
        "    (df['risk'].str.contains('cluster', na=False)),\n",
        "    (df['risk'].str.contains('sandbox', na=False)),\n",
        "    (df['risk'].str.contains('shui', na=False)),\n",
        "    (df['risk'].str.contains('samui plus', na=False)),\n",
        "    (df['risk'].str.contains('state quarantine', na=False)),\n",
        "    (df['risk'].str.contains('test and go', na=False)),\n",
        "    (df['risk'].str.contains('ค้นหา', na=False)),\n",
        "    (df['risk'].str.contains('ต่างประเทศ', na=False)),\n",
        "    (df['risk'].str.contains('พื้นที่เสี่ยง', na=False)),\n",
        "    (df['risk'].str.contains('ตรวจก่อน', na=False)),\n",
        "    (df['risk'].str.contains('ทัณฑสถาน', na=False)),\n",
        "    (df['risk'].str.contains('บุคลากร', na=False)),\n",
        "    (df['risk'].str.contains('ปอด', na=False)),\n",
        "    (df['risk'].str.contains('ผู้ที่เดินทางมาจากต่างประเทศ', na=False)),\n",
        "    (df['risk'].str.contains('พิธีกรรมทางศาสนา', na=False)),\n",
        "    (df['risk'].str.contains('ระบุไม่ได้', na=False)),\n",
        "    (df['risk'].str.contains('ผู้ต้องกัก', na=False)),\n",
        "    (df['risk'].str.contains('สถานที่ทำงาน', na=False)),\n",
        "    (df['risk'].str.contains('สถานบันเทิง', na=False)),\n",
        "    (df['risk'].str.contains('สถานศึกษา', na=False)),\n",
        "    (df['risk'].str.contains('สนามมวย', na=False)),\n",
        "    (df['risk'].str.contains('อยู่ระหว่าง', na=False)),\n",
        "    (df['risk'].str.contains('เดินทางมาจาก', na=False)),\n",
        "    (df['risk'].str.contains('ไป', na=False)),\n",
        "    (df['risk'].str.contains('ไม่ระบุ', na=False))\n",
        "    ]\n",
        "\n",
        "# create a list of the values we want to assign for each condition\n",
        "values = ['อาชีพเสี่ยง', 'สัมผัสใกล้ชิดกับผู้ป่วยยืนยันรายก่อนหน้านี้', 'การค้นหาผู้ป่วยเชิงรุกและค้นหาผู้ติดเชื้อในชุมชน', 'Cluster ตามสถานที่ต่างๆ','Sandbox','Sandbox', 'Sandbox', 'ผู้ที่เดินทางมาจากต่างประเทศ', 'ผู้ที่เดินทางมาจากต่างประเทศ','การค้นหาผู้ป่วยเชิงรุกและค้นหาผู้ติดเชื้อในชุมชน',\n",
        "          'ผู้ที่เดินทางมาจากต่างประเทศ', 'ไปสถานที่เสี่ยง', 'ตรวจเชื้อก่อนทำหัตถการ', 'ทัณฑสถาน/เรือนจำ', 'บุคลากรด้านการแพทย์และสาธารณสุข', 'ปอดอักเสบ',\n",
        "          'ผู้ที่เดินทางมาจากต่างประเทศ', 'พิธีกรรมทางศาสนา', 'ระบุไม่ได้', 'ทัณฑสถาน/เรือนจำ', 'สถานที่ทำงาน','สถานบันเทิง','สถานศึกษา','Cluster ตามสถานที่ต่างๆ',\n",
        "          'อยู่ระหว่างการสอบสวน', 'ไปสถานที่เสี่ยง', 'ไปสถานที่เสี่ยง', 'ระบุไม่ได้']\n",
        "\n",
        "# create a new column and use np.select to assign values to it using our lists as arguments\n",
        "df['new_risk'] = np.select(conditions, values, default = 'อื่นๆ')\n",
        "\n",
        "# display updated DataFrame\n",
        "df['new_risk'].value_counts()"
      ],
      "metadata": {
        "id": "AG8G6JNOf2ag",
        "outputId": "80095dba-c431-4a8d-d712-2dc3c435cd76",
        "colab": {
          "base_uri": "https://localhost:8080/"
        }
      },
      "execution_count": 58,
      "outputs": [
        {
          "output_type": "execute_result",
          "data": {
            "text/plain": [
              "สัมผัสใกล้ชิดกับผู้ป่วยยืนยันรายก่อนหน้านี้         1326385\n",
              "อื่นๆ                                                870067\n",
              "อยู่ระหว่างการสอบสวน                                 276634\n",
              "การค้นหาผู้ป่วยเชิงรุกและค้นหาผู้ติดเชื้อในชุมชน     251738\n",
              "ทัณฑสถาน/เรือนจำ                                      93059\n",
              "                                                     ...   \n",
              "Sandbox                                                7075\n",
              "สถานศึกษา                                              5162\n",
              "อาชีพเสี่ยง                                            4489\n",
              "ปอดอักเสบ                                              3464\n",
              "พิธีกรรมทางศาสนา                                       2906\n",
              "Name: new_risk, Length: 18, dtype: int64"
            ]
          },
          "metadata": {},
          "execution_count": 58
        }
      ]
    },
    {
      "cell_type": "markdown",
      "source": [
        "## cleaning Data [province_of_onset]"
      ],
      "metadata": {
        "id": "GhB1gtrTafax"
      }
    },
    {
      "cell_type": "code",
      "source": [
        "pd.set_option(\"display.max_rows\", 10)"
      ],
      "metadata": {
        "id": "G3o8GScRahCv"
      },
      "execution_count": 59,
      "outputs": []
    },
    {
      "cell_type": "markdown",
      "source": [
        "### delete white space"
      ],
      "metadata": {
        "id": "I6IOQMpgalHc"
      }
    },
    {
      "cell_type": "code",
      "source": [
        "df['province_of_onset'] = df['province_of_onset'].str.strip()"
      ],
      "metadata": {
        "id": "miKoI9EUam82"
      },
      "execution_count": 60,
      "outputs": []
    },
    {
      "cell_type": "markdown",
      "source": [
        "### check duplicate data"
      ],
      "metadata": {
        "id": "fuPrdkkjanZr"
      }
    },
    {
      "cell_type": "code",
      "source": [
        "df.groupby('province_of_onset').size()"
      ],
      "metadata": {
        "id": "DMt0AaAjasu5",
        "outputId": "57198fde-dd04-47a3-b1ea-766112458bdd",
        "colab": {
          "base_uri": "https://localhost:8080/"
        }
      },
      "execution_count": 61,
      "outputs": [
        {
          "output_type": "execute_result",
          "data": {
            "text/plain": [
              "province_of_onset\n",
              "USA                   2\n",
              "กทม                2258\n",
              "กทม.                  3\n",
              "กบินทร์บุรี           1\n",
              "กระบี่            16138\n",
              "                  ...  \n",
              "แล้วป่วย              1\n",
              "โพธิ์ทอง              9\n",
              "ไชโย                  5\n",
              "ไม่มีชื่อหอพัก        1\n",
              "ไม่ระบุ              46\n",
              "Length: 372, dtype: int64"
            ]
          },
          "metadata": {},
          "execution_count": 61
        }
      ]
    },
    {
      "cell_type": "code",
      "source": [
        "df['province_of_onset'].value_counts()"
      ],
      "metadata": {
        "id": "wP3fQ-g6atLL",
        "outputId": "c94626b7-117a-49c7-e6a9-8f34a57f08ae",
        "colab": {
          "base_uri": "https://localhost:8080/"
        }
      },
      "execution_count": 62,
      "outputs": [
        {
          "output_type": "execute_result",
          "data": {
            "text/plain": [
              "กรุงเทพมหานคร    542448\n",
              "สมุทรปราการ      178372\n",
              "ชลบุรี           165137\n",
              "สมุทรสาคร        116990\n",
              "นนทบุรี          111802\n",
              "                  ...  \n",
              "สมุทรศาคร             1\n",
              "นครสีธรรมราช          1\n",
              "สุระบุรี              1\n",
              "กะทู้                 1\n",
              "กาญจบุรี              1\n",
              "Name: province_of_onset, Length: 372, dtype: int64"
            ]
          },
          "metadata": {},
          "execution_count": 62
        }
      ]
    },
    {
      "cell_type": "code",
      "source": [
        "(df['province_of_onset'].value_counts() < 100)"
      ],
      "metadata": {
        "id": "kp9g15x6at6O",
        "outputId": "bf7e7ec3-ff4b-4f81-ccd3-37c5e9e7681b",
        "colab": {
          "base_uri": "https://localhost:8080/"
        }
      },
      "execution_count": 63,
      "outputs": [
        {
          "output_type": "execute_result",
          "data": {
            "text/plain": [
              "กรุงเทพมหานคร    False\n",
              "สมุทรปราการ      False\n",
              "ชลบุรี           False\n",
              "สมุทรสาคร        False\n",
              "นนทบุรี          False\n",
              "                 ...  \n",
              "สมุทรศาคร         True\n",
              "นครสีธรรมราช      True\n",
              "สุระบุรี          True\n",
              "กะทู้             True\n",
              "กาญจบุรี          True\n",
              "Name: province_of_onset, Length: 372, dtype: bool"
            ]
          },
          "metadata": {},
          "execution_count": 63
        }
      ]
    },
    {
      "cell_type": "code",
      "source": [
        "useful_province = list(df['province_of_onset'].value_counts().index[:82])"
      ],
      "metadata": {
        "id": "eaV4o6M6aw5n"
      },
      "execution_count": 64,
      "outputs": []
    },
    {
      "cell_type": "code",
      "source": [
        "df[df['province_of_onset'].isin(useful_province)]['province_of_onset'].value_counts()"
      ],
      "metadata": {
        "id": "VQ-wftyuayIY",
        "outputId": "f68afe20-2831-429d-9c3e-2835acf5255c",
        "colab": {
          "base_uri": "https://localhost:8080/"
        }
      },
      "execution_count": 65,
      "outputs": [
        {
          "output_type": "execute_result",
          "data": {
            "text/plain": [
              "กรุงเทพมหานคร     542448\n",
              "สมุทรปราการ       178372\n",
              "ชลบุรี            165137\n",
              "สมุทรสาคร         116990\n",
              "นนทบุรี           111802\n",
              "                   ...  \n",
              "กทม                 2258\n",
              "กรุงเทพมหานคร.       874\n",
              "อยุธยา               304\n",
              "นครศรีฯ              176\n",
              "นราธฺวาส             152\n",
              "Name: province_of_onset, Length: 82, dtype: int64"
            ]
          },
          "metadata": {},
          "execution_count": 65
        }
      ]
    },
    {
      "cell_type": "code",
      "source": [
        "df[df['province_of_onset'].isin(useful_province)].groupby('province_of_onset').size()"
      ],
      "metadata": {
        "id": "ZsKPKADua0he",
        "outputId": "2caf3caf-afd4-4707-8fce-9b52c8e371d9",
        "colab": {
          "base_uri": "https://localhost:8080/"
        }
      },
      "execution_count": 66,
      "outputs": [
        {
          "output_type": "execute_result",
          "data": {
            "text/plain": [
              "province_of_onset\n",
              "กทม                 2258\n",
              "กระบี่             16138\n",
              "กรุงเทพมหานคร     542448\n",
              "กรุงเทพมหานคร.       874\n",
              "กาญจนบุรี          22189\n",
              "                   ...  \n",
              "เพชรบุรี           27819\n",
              "เพชรบูรณ์          17545\n",
              "เลย                 8982\n",
              "แพร่                4954\n",
              "แม่ฮ่องสอน          3908\n",
              "Length: 82, dtype: int64"
            ]
          },
          "metadata": {},
          "execution_count": 66
        }
      ]
    },
    {
      "cell_type": "markdown",
      "source": [
        "### change duplicate data"
      ],
      "metadata": {
        "id": "mwUAgJvTa4Dy"
      }
    },
    {
      "cell_type": "code",
      "source": [
        "df['province_of_onset'] = df['province_of_onset'].replace(['กรุงเทพมหานคร.'], 'กรุงเทพมหานคร')\n",
        "df['province_of_onset'] = df['province_of_onset'].replace(['กทม'], 'กรุงเทพมหานคร')\n",
        "df['province_of_onset'] = df['province_of_onset'].replace(['นครศรีฯ'], 'นครศรีธรรมราช')\n",
        "df['province_of_onset'] = df['province_of_onset'].replace(['นราธฺวาส'], 'นราธิวาส')\n",
        "df['province_of_onset'] = df['province_of_onset'].replace(['สุราษฏร์ธานี'], 'สุราษฎร์ธานี')\n",
        "df['province_of_onset'] = df['province_of_onset'].replace(['อยุธยา'], 'พระนครศรีอยุธยา')\n",
        "df['province_of_onset'] = df['province_of_onset'].replace(['นครศรีฯ'], 'นครศรีธรรมราช')\n",
        "df['province_of_onset'] = df['province_of_onset'].replace(['นครศรีฯ'], 'นครศรีธรรมราช')"
      ],
      "metadata": {
        "id": "5gLu6whea6WT"
      },
      "execution_count": 67,
      "outputs": []
    },
    {
      "cell_type": "code",
      "source": [
        "df[df['province_of_onset'].isin(useful_province)].groupby('province_of_onset').size()"
      ],
      "metadata": {
        "id": "rQ3Iwamva7Af",
        "outputId": "56c42d4b-b737-451f-9cbb-caa708060868",
        "colab": {
          "base_uri": "https://localhost:8080/"
        }
      },
      "execution_count": 68,
      "outputs": [
        {
          "output_type": "execute_result",
          "data": {
            "text/plain": [
              "province_of_onset\n",
              "กระบี่            16138\n",
              "กรุงเทพมหานคร    545580\n",
              "กาญจนบุรี         22189\n",
              "กาฬสินธุ์         16447\n",
              "กำแพงเพชร         11769\n",
              "                  ...  \n",
              "เพชรบุรี          27819\n",
              "เพชรบูรณ์         17545\n",
              "เลย                8982\n",
              "แพร่               4954\n",
              "แม่ฮ่องสอน         3908\n",
              "Length: 77, dtype: int64"
            ]
          },
          "metadata": {},
          "execution_count": 68
        }
      ]
    },
    {
      "cell_type": "code",
      "source": [
        "df[df['province_of_onset'].isin(useful_province)]['province_of_onset'].value_counts()"
      ],
      "metadata": {
        "id": "I0UoitFda8dA",
        "outputId": "1f9bbb2b-ec0d-4a19-bcfb-8c8612732a14",
        "colab": {
          "base_uri": "https://localhost:8080/"
        }
      },
      "execution_count": 69,
      "outputs": [
        {
          "output_type": "execute_result",
          "data": {
            "text/plain": [
              "กรุงเทพมหานคร    545580\n",
              "สมุทรปราการ      178372\n",
              "ชลบุรี           165137\n",
              "สมุทรสาคร        116990\n",
              "นนทบุรี          111802\n",
              "                  ...  \n",
              "ชัยนาท             4421\n",
              "บึงกาฬ             4319\n",
              "แม่ฮ่องสอน         3908\n",
              "มุกดาหาร           3502\n",
              "อำนาจเจริญ         2495\n",
              "Name: province_of_onset, Length: 77, dtype: int64"
            ]
          },
          "metadata": {},
          "execution_count": 69
        }
      ]
    },
    {
      "cell_type": "code",
      "source": [
        "df.head(20)"
      ],
      "metadata": {
        "id": "A019Q0NXa-FU",
        "outputId": "e7701096-4a7b-49e4-e51e-2a3dc7af6824",
        "colab": {
          "base_uri": "https://localhost:8080/",
          "height": 1000
        }
      },
      "execution_count": 70,
      "outputs": [
        {
          "output_type": "execute_result",
          "data": {
            "text/plain": [
              "    No. announce_date Notified date   sex   age Unit nationality  \\\n",
              "0     1     12/1/2020           NaN  หญิง  61.0   ปี     Chinese   \n",
              "1     2     17/1/2020           NaN  หญิง  74.0   ปี     Chinese   \n",
              "2     3     22/1/2020           NaN  หญิง  73.0   ปี        Thai   \n",
              "3     4     22/1/2020           NaN   ชาย  68.0   ปี     Chinese   \n",
              "4     5     24/1/2020           NaN  หญิง  66.0   ปี     Chinese   \n",
              "..  ...           ...           ...   ...   ...  ...         ...   \n",
              "15   16     31/1/2020           NaN   ชาย  50.0   ปี        Thai   \n",
              "16   17     31/1/2020           NaN   ชาย  28.0   ปี     Chinese   \n",
              "17   18     31/1/2020           NaN   ชาย  30.0   ปี     Chinese   \n",
              "18   19     31/1/2020           NaN   ชาย  33.0   ปี     Chinese   \n",
              "19   20      4/2/2020           NaN  หญิง  43.0   ปี        Thai   \n",
              "\n",
              "   province_of_isolation                                               risk  \\\n",
              "0          กรุงเทพมหานคร                   คนต่างชาติเดินทางมาจากต่างประเทศ   \n",
              "1          กรุงเทพมหานคร                   คนต่างชาติเดินทางมาจากต่างประเทศ   \n",
              "2                 นครปฐม                   คนต่างชาติเดินทางมาจากต่างประเทศ   \n",
              "3          กรุงเทพมหานคร                   คนต่างชาติเดินทางมาจากต่างประเทศ   \n",
              "4                นนทบุรี                   คนต่างชาติเดินทางมาจากต่างประเทศ   \n",
              "..                   ...                                                ...   \n",
              "15         กรุงเทพมหานคร  อาชีพเสี่ยง เช่น ทำงานในสถานที่แออัด หรือทำงาน...   \n",
              "16             เชียงใหม่                   คนต่างชาติเดินทางมาจากต่างประเทศ   \n",
              "17         กรุงเทพมหานคร                   คนต่างชาติเดินทางมาจากต่างประเทศ   \n",
              "18         กรุงเทพมหานคร                   คนต่างชาติเดินทางมาจากต่างประเทศ   \n",
              "19         กรุงเทพมหานคร                      คนไทยเดินทางกลับจากต่างประเทศ   \n",
              "\n",
              "   province_of_onset district_of_onset                      new_risk  \n",
              "0      กรุงเทพมหานคร               NaN  ผู้ที่เดินทางมาจากต่างประเทศ  \n",
              "1      กรุงเทพมหานคร               NaN  ผู้ที่เดินทางมาจากต่างประเทศ  \n",
              "2             นครปฐม             เมือง  ผู้ที่เดินทางมาจากต่างประเทศ  \n",
              "3      กรุงเทพมหานคร               NaN  ผู้ที่เดินทางมาจากต่างประเทศ  \n",
              "4      กรุงเทพมหานคร               NaN  ผู้ที่เดินทางมาจากต่างประเทศ  \n",
              "..               ...               ...                           ...  \n",
              "15     กรุงเทพมหานคร               NaN                   อาชีพเสี่ยง  \n",
              "16         เชียงใหม่             หางดง  ผู้ที่เดินทางมาจากต่างประเทศ  \n",
              "17     กรุงเทพมหานคร               NaN  ผู้ที่เดินทางมาจากต่างประเทศ  \n",
              "18     กรุงเทพมหานคร               NaN  ผู้ที่เดินทางมาจากต่างประเทศ  \n",
              "19     กรุงเทพมหานคร               NaN  ผู้ที่เดินทางมาจากต่างประเทศ  \n",
              "\n",
              "[20 rows x 12 columns]"
            ],
            "text/html": [
              "\n",
              "  <div id=\"df-13c45c07-6682-4604-b781-a5cee099d853\">\n",
              "    <div class=\"colab-df-container\">\n",
              "      <div>\n",
              "<style scoped>\n",
              "    .dataframe tbody tr th:only-of-type {\n",
              "        vertical-align: middle;\n",
              "    }\n",
              "\n",
              "    .dataframe tbody tr th {\n",
              "        vertical-align: top;\n",
              "    }\n",
              "\n",
              "    .dataframe thead th {\n",
              "        text-align: right;\n",
              "    }\n",
              "</style>\n",
              "<table border=\"1\" class=\"dataframe\">\n",
              "  <thead>\n",
              "    <tr style=\"text-align: right;\">\n",
              "      <th></th>\n",
              "      <th>No.</th>\n",
              "      <th>announce_date</th>\n",
              "      <th>Notified date</th>\n",
              "      <th>sex</th>\n",
              "      <th>age</th>\n",
              "      <th>Unit</th>\n",
              "      <th>nationality</th>\n",
              "      <th>province_of_isolation</th>\n",
              "      <th>risk</th>\n",
              "      <th>province_of_onset</th>\n",
              "      <th>district_of_onset</th>\n",
              "      <th>new_risk</th>\n",
              "    </tr>\n",
              "  </thead>\n",
              "  <tbody>\n",
              "    <tr>\n",
              "      <th>0</th>\n",
              "      <td>1</td>\n",
              "      <td>12/1/2020</td>\n",
              "      <td>NaN</td>\n",
              "      <td>หญิง</td>\n",
              "      <td>61.0</td>\n",
              "      <td>ปี</td>\n",
              "      <td>Chinese</td>\n",
              "      <td>กรุงเทพมหานคร</td>\n",
              "      <td>คนต่างชาติเดินทางมาจากต่างประเทศ</td>\n",
              "      <td>กรุงเทพมหานคร</td>\n",
              "      <td>NaN</td>\n",
              "      <td>ผู้ที่เดินทางมาจากต่างประเทศ</td>\n",
              "    </tr>\n",
              "    <tr>\n",
              "      <th>1</th>\n",
              "      <td>2</td>\n",
              "      <td>17/1/2020</td>\n",
              "      <td>NaN</td>\n",
              "      <td>หญิง</td>\n",
              "      <td>74.0</td>\n",
              "      <td>ปี</td>\n",
              "      <td>Chinese</td>\n",
              "      <td>กรุงเทพมหานคร</td>\n",
              "      <td>คนต่างชาติเดินทางมาจากต่างประเทศ</td>\n",
              "      <td>กรุงเทพมหานคร</td>\n",
              "      <td>NaN</td>\n",
              "      <td>ผู้ที่เดินทางมาจากต่างประเทศ</td>\n",
              "    </tr>\n",
              "    <tr>\n",
              "      <th>2</th>\n",
              "      <td>3</td>\n",
              "      <td>22/1/2020</td>\n",
              "      <td>NaN</td>\n",
              "      <td>หญิง</td>\n",
              "      <td>73.0</td>\n",
              "      <td>ปี</td>\n",
              "      <td>Thai</td>\n",
              "      <td>นครปฐม</td>\n",
              "      <td>คนต่างชาติเดินทางมาจากต่างประเทศ</td>\n",
              "      <td>นครปฐม</td>\n",
              "      <td>เมือง</td>\n",
              "      <td>ผู้ที่เดินทางมาจากต่างประเทศ</td>\n",
              "    </tr>\n",
              "    <tr>\n",
              "      <th>3</th>\n",
              "      <td>4</td>\n",
              "      <td>22/1/2020</td>\n",
              "      <td>NaN</td>\n",
              "      <td>ชาย</td>\n",
              "      <td>68.0</td>\n",
              "      <td>ปี</td>\n",
              "      <td>Chinese</td>\n",
              "      <td>กรุงเทพมหานคร</td>\n",
              "      <td>คนต่างชาติเดินทางมาจากต่างประเทศ</td>\n",
              "      <td>กรุงเทพมหานคร</td>\n",
              "      <td>NaN</td>\n",
              "      <td>ผู้ที่เดินทางมาจากต่างประเทศ</td>\n",
              "    </tr>\n",
              "    <tr>\n",
              "      <th>4</th>\n",
              "      <td>5</td>\n",
              "      <td>24/1/2020</td>\n",
              "      <td>NaN</td>\n",
              "      <td>หญิง</td>\n",
              "      <td>66.0</td>\n",
              "      <td>ปี</td>\n",
              "      <td>Chinese</td>\n",
              "      <td>นนทบุรี</td>\n",
              "      <td>คนต่างชาติเดินทางมาจากต่างประเทศ</td>\n",
              "      <td>กรุงเทพมหานคร</td>\n",
              "      <td>NaN</td>\n",
              "      <td>ผู้ที่เดินทางมาจากต่างประเทศ</td>\n",
              "    </tr>\n",
              "    <tr>\n",
              "      <th>...</th>\n",
              "      <td>...</td>\n",
              "      <td>...</td>\n",
              "      <td>...</td>\n",
              "      <td>...</td>\n",
              "      <td>...</td>\n",
              "      <td>...</td>\n",
              "      <td>...</td>\n",
              "      <td>...</td>\n",
              "      <td>...</td>\n",
              "      <td>...</td>\n",
              "      <td>...</td>\n",
              "      <td>...</td>\n",
              "    </tr>\n",
              "    <tr>\n",
              "      <th>15</th>\n",
              "      <td>16</td>\n",
              "      <td>31/1/2020</td>\n",
              "      <td>NaN</td>\n",
              "      <td>ชาย</td>\n",
              "      <td>50.0</td>\n",
              "      <td>ปี</td>\n",
              "      <td>Thai</td>\n",
              "      <td>กรุงเทพมหานคร</td>\n",
              "      <td>อาชีพเสี่ยง เช่น ทำงานในสถานที่แออัด หรือทำงาน...</td>\n",
              "      <td>กรุงเทพมหานคร</td>\n",
              "      <td>NaN</td>\n",
              "      <td>อาชีพเสี่ยง</td>\n",
              "    </tr>\n",
              "    <tr>\n",
              "      <th>16</th>\n",
              "      <td>17</td>\n",
              "      <td>31/1/2020</td>\n",
              "      <td>NaN</td>\n",
              "      <td>ชาย</td>\n",
              "      <td>28.0</td>\n",
              "      <td>ปี</td>\n",
              "      <td>Chinese</td>\n",
              "      <td>เชียงใหม่</td>\n",
              "      <td>คนต่างชาติเดินทางมาจากต่างประเทศ</td>\n",
              "      <td>เชียงใหม่</td>\n",
              "      <td>หางดง</td>\n",
              "      <td>ผู้ที่เดินทางมาจากต่างประเทศ</td>\n",
              "    </tr>\n",
              "    <tr>\n",
              "      <th>17</th>\n",
              "      <td>18</td>\n",
              "      <td>31/1/2020</td>\n",
              "      <td>NaN</td>\n",
              "      <td>ชาย</td>\n",
              "      <td>30.0</td>\n",
              "      <td>ปี</td>\n",
              "      <td>Chinese</td>\n",
              "      <td>กรุงเทพมหานคร</td>\n",
              "      <td>คนต่างชาติเดินทางมาจากต่างประเทศ</td>\n",
              "      <td>กรุงเทพมหานคร</td>\n",
              "      <td>NaN</td>\n",
              "      <td>ผู้ที่เดินทางมาจากต่างประเทศ</td>\n",
              "    </tr>\n",
              "    <tr>\n",
              "      <th>18</th>\n",
              "      <td>19</td>\n",
              "      <td>31/1/2020</td>\n",
              "      <td>NaN</td>\n",
              "      <td>ชาย</td>\n",
              "      <td>33.0</td>\n",
              "      <td>ปี</td>\n",
              "      <td>Chinese</td>\n",
              "      <td>กรุงเทพมหานคร</td>\n",
              "      <td>คนต่างชาติเดินทางมาจากต่างประเทศ</td>\n",
              "      <td>กรุงเทพมหานคร</td>\n",
              "      <td>NaN</td>\n",
              "      <td>ผู้ที่เดินทางมาจากต่างประเทศ</td>\n",
              "    </tr>\n",
              "    <tr>\n",
              "      <th>19</th>\n",
              "      <td>20</td>\n",
              "      <td>4/2/2020</td>\n",
              "      <td>NaN</td>\n",
              "      <td>หญิง</td>\n",
              "      <td>43.0</td>\n",
              "      <td>ปี</td>\n",
              "      <td>Thai</td>\n",
              "      <td>กรุงเทพมหานคร</td>\n",
              "      <td>คนไทยเดินทางกลับจากต่างประเทศ</td>\n",
              "      <td>กรุงเทพมหานคร</td>\n",
              "      <td>NaN</td>\n",
              "      <td>ผู้ที่เดินทางมาจากต่างประเทศ</td>\n",
              "    </tr>\n",
              "  </tbody>\n",
              "</table>\n",
              "<p>20 rows × 12 columns</p>\n",
              "</div>\n",
              "      <button class=\"colab-df-convert\" onclick=\"convertToInteractive('df-13c45c07-6682-4604-b781-a5cee099d853')\"\n",
              "              title=\"Convert this dataframe to an interactive table.\"\n",
              "              style=\"display:none;\">\n",
              "        \n",
              "  <svg xmlns=\"http://www.w3.org/2000/svg\" height=\"24px\"viewBox=\"0 0 24 24\"\n",
              "       width=\"24px\">\n",
              "    <path d=\"M0 0h24v24H0V0z\" fill=\"none\"/>\n",
              "    <path d=\"M18.56 5.44l.94 2.06.94-2.06 2.06-.94-2.06-.94-.94-2.06-.94 2.06-2.06.94zm-11 1L8.5 8.5l.94-2.06 2.06-.94-2.06-.94L8.5 2.5l-.94 2.06-2.06.94zm10 10l.94 2.06.94-2.06 2.06-.94-2.06-.94-.94-2.06-.94 2.06-2.06.94z\"/><path d=\"M17.41 7.96l-1.37-1.37c-.4-.4-.92-.59-1.43-.59-.52 0-1.04.2-1.43.59L10.3 9.45l-7.72 7.72c-.78.78-.78 2.05 0 2.83L4 21.41c.39.39.9.59 1.41.59.51 0 1.02-.2 1.41-.59l7.78-7.78 2.81-2.81c.8-.78.8-2.07 0-2.86zM5.41 20L4 18.59l7.72-7.72 1.47 1.35L5.41 20z\"/>\n",
              "  </svg>\n",
              "      </button>\n",
              "      \n",
              "  <style>\n",
              "    .colab-df-container {\n",
              "      display:flex;\n",
              "      flex-wrap:wrap;\n",
              "      gap: 12px;\n",
              "    }\n",
              "\n",
              "    .colab-df-convert {\n",
              "      background-color: #E8F0FE;\n",
              "      border: none;\n",
              "      border-radius: 50%;\n",
              "      cursor: pointer;\n",
              "      display: none;\n",
              "      fill: #1967D2;\n",
              "      height: 32px;\n",
              "      padding: 0 0 0 0;\n",
              "      width: 32px;\n",
              "    }\n",
              "\n",
              "    .colab-df-convert:hover {\n",
              "      background-color: #E2EBFA;\n",
              "      box-shadow: 0px 1px 2px rgba(60, 64, 67, 0.3), 0px 1px 3px 1px rgba(60, 64, 67, 0.15);\n",
              "      fill: #174EA6;\n",
              "    }\n",
              "\n",
              "    [theme=dark] .colab-df-convert {\n",
              "      background-color: #3B4455;\n",
              "      fill: #D2E3FC;\n",
              "    }\n",
              "\n",
              "    [theme=dark] .colab-df-convert:hover {\n",
              "      background-color: #434B5C;\n",
              "      box-shadow: 0px 1px 3px 1px rgba(0, 0, 0, 0.15);\n",
              "      filter: drop-shadow(0px 1px 2px rgba(0, 0, 0, 0.3));\n",
              "      fill: #FFFFFF;\n",
              "    }\n",
              "  </style>\n",
              "\n",
              "      <script>\n",
              "        const buttonEl =\n",
              "          document.querySelector('#df-13c45c07-6682-4604-b781-a5cee099d853 button.colab-df-convert');\n",
              "        buttonEl.style.display =\n",
              "          google.colab.kernel.accessAllowed ? 'block' : 'none';\n",
              "\n",
              "        async function convertToInteractive(key) {\n",
              "          const element = document.querySelector('#df-13c45c07-6682-4604-b781-a5cee099d853');\n",
              "          const dataTable =\n",
              "            await google.colab.kernel.invokeFunction('convertToInteractive',\n",
              "                                                     [key], {});\n",
              "          if (!dataTable) return;\n",
              "\n",
              "          const docLinkHtml = 'Like what you see? Visit the ' +\n",
              "            '<a target=\"_blank\" href=https://colab.research.google.com/notebooks/data_table.ipynb>data table notebook</a>'\n",
              "            + ' to learn more about interactive tables.';\n",
              "          element.innerHTML = '';\n",
              "          dataTable['output_type'] = 'display_data';\n",
              "          await google.colab.output.renderOutput(dataTable, element);\n",
              "          const docLink = document.createElement('div');\n",
              "          docLink.innerHTML = docLinkHtml;\n",
              "          element.appendChild(docLink);\n",
              "        }\n",
              "      </script>\n",
              "    </div>\n",
              "  </div>\n",
              "  "
            ]
          },
          "metadata": {},
          "execution_count": 70
        }
      ]
    },
    {
      "cell_type": "markdown",
      "source": [
        "------------------------------------------------"
      ],
      "metadata": {
        "id": "5qDgsES_1fnC"
      }
    },
    {
      "cell_type": "markdown",
      "source": [
        "## Drop na for all"
      ],
      "metadata": {
        "id": "YRQukVk5fjYO"
      }
    },
    {
      "cell_type": "code",
      "source": [
        "#df['No.'].count()"
      ],
      "metadata": {
        "id": "U57vu6rZ2Tll"
      },
      "execution_count": 71,
      "outputs": []
    },
    {
      "cell_type": "code",
      "source": [
        "#del df['district_of_onset']"
      ],
      "metadata": {
        "id": "PP2sgwZ9bCCl"
      },
      "execution_count": 72,
      "outputs": []
    },
    {
      "cell_type": "code",
      "source": [
        "df_no_na = df.dropna()"
      ],
      "metadata": {
        "id": "iBRo2oc6YztX"
      },
      "execution_count": 81,
      "outputs": []
    },
    {
      "cell_type": "code",
      "source": [
        "#df_no_na['No.'].count()"
      ],
      "metadata": {
        "id": "clYjvy8cZXZ_"
      },
      "execution_count": 74,
      "outputs": []
    },
    {
      "cell_type": "markdown",
      "source": [
        "# Answers"
      ],
      "metadata": {
        "id": "MAEjJLI5cL3v"
      }
    },
    {
      "cell_type": "code",
      "source": [
        "df_bkk = df_no_na[df_no_na['province_of_onset'] == 'กรุงเทพมหานคร']"
      ],
      "metadata": {
        "id": "ZgsqOBW7cSsJ"
      },
      "execution_count": 82,
      "outputs": []
    },
    {
      "cell_type": "code",
      "source": [
        "df_bkk[df_bkk['province_of_isolation'] != df_bkk['province_of_onset']]['province_of_isolation'].value_counts()"
      ],
      "metadata": {
        "id": "_DGabmD8cU3-",
        "outputId": "af3f04a7-44d9-425b-f8d7-e5fc7010ad0e",
        "colab": {
          "base_uri": "https://localhost:8080/"
        }
      },
      "execution_count": 83,
      "outputs": [
        {
          "output_type": "execute_result",
          "data": {
            "text/plain": [
              "สมุทรปราการ    27961\n",
              "นนทบุรี         9112\n",
              "สมุทรสาคร       6427\n",
              "ปทุมธานี        5169\n",
              "ศรีสะเกษ        2692\n",
              "               ...  \n",
              "มหาสารคาม          2\n",
              "อุทัยธานี          2\n",
              "เพชรบูรณ์          2\n",
              "สุโขทัย            1\n",
              "ตาก                1\n",
              "Name: province_of_isolation, Length: 75, dtype: int64"
            ]
          },
          "metadata": {},
          "execution_count": 83
        }
      ]
    },
    {
      "cell_type": "code",
      "source": [
        "df[(df['age'] >= 20) & (df['age'] <= 40)]['new_risk'].value_counts()"
      ],
      "metadata": {
        "id": "DNSBzUprcV1p",
        "outputId": "a5637113-795b-488c-d0a2-b5bbeca7f3ec",
        "colab": {
          "base_uri": "https://localhost:8080/"
        }
      },
      "execution_count": 84,
      "outputs": [
        {
          "output_type": "execute_result",
          "data": {
            "text/plain": [
              "สัมผัสใกล้ชิดกับผู้ป่วยยืนยันรายก่อนหน้านี้         526453\n",
              "อื่นๆ                                               330174\n",
              "การค้นหาผู้ป่วยเชิงรุกและค้นหาผู้ติดเชื้อในชุมชน    111948\n",
              "อยู่ระหว่างการสอบสวน                                111337\n",
              "สถานที่ทำงาน                                         56399\n",
              "                                                     ...  \n",
              "ตรวจเชื้อก่อนทำหัตถการ                                3180\n",
              "อาชีพเสี่ยง                                           2340\n",
              "ปอดอักเสบ                                             1172\n",
              "สถานศึกษา                                              836\n",
              "พิธีกรรมทางศาสนา                                       683\n",
              "Name: new_risk, Length: 18, dtype: int64"
            ]
          },
          "metadata": {},
          "execution_count": 84
        }
      ]
    },
    {
      "cell_type": "markdown",
      "source": [
        "## create region"
      ],
      "metadata": {
        "id": "ppq8wWjdcltK"
      }
    },
    {
      "cell_type": "code",
      "source": [
        "northern = ['เชียงราย', 'เชียงใหม่', 'น่าน', 'พะเยา', 'แพร่', 'แม่ฮ่องสอน', 'ลำปาง', 'ลำพูน', 'อุตรดิตถ์']\n",
        "northeastern = ['กาฬสินธุ์', 'ขอนแก่น', 'ชัยภูมิ', 'นครพนม', 'นครราชสีมา', 'บึงกาฬ', 'บุรีรัมย์', 'มหาสารคาม', 'มุกดาหาร', \n",
        "                'ยโสธร', 'ร้อยเอ็ด', 'เลย', 'สกลนคร', 'สุรินทร์', 'ศรีสะเกษ', 'หนองคาย', 'หนองบัวลำภู', 'อุดรธานี', 'อุบลราชธานี', 'อำนาจเจริญ']\n",
        "central = ['กรุงเทพมหานคร','กำแพงเพชร','ชัยนาท','นครนายก','นครปฐม','นครสวรรค์','นนทบุรี','ปทุมธานี','พระนครศรีอยุธยา','พิจิตร',\n",
        "           'พิษณุโลก','เพชรบูรณ์','ลพบุรี','สมุทรปราการ','สมุทรสงคราม','สมุทรสาคร','สิงห์บุรี','สุโขทัย','สุพรรณบุรี','สระบุรี','อ่างทอง','อุทัยธานี']\n",
        "eastern = ['จันทบุรี','ฉะเชิงเทรา','ชลบุรี','ตราด','ปราจีนบุรี','ระยอง','สระแก้ว']\n",
        "western = ['กาญจนบุรี','ตาก','ประจวบคีรีขันธ์','เพชรบุรี','ราชบุรี']\n",
        "southern = ['กระบี่','ชุมพร','ตรัง','นครศรีธรรมราช','นราธิวาส','ปัตตานี','พังงา','พัทลุง','ภูเก็ต','ระนอง','สตูล','สงขลา','สุราษฎร์ธานี','ยะลา']"
      ],
      "metadata": {
        "id": "Eo5MUm4wcu6w"
      },
      "execution_count": 85,
      "outputs": []
    },
    {
      "cell_type": "code",
      "source": [
        "# create a list of our conditions\n",
        "conditions = [\n",
        "    (df['province_of_onset'].isin(northern)),\n",
        "    (df['province_of_onset'].isin(northeastern)), \n",
        "    (df['province_of_onset'].isin(central)),\n",
        "    (df['province_of_onset'].isin(eastern)), \n",
        "    (df['province_of_onset'].isin(western)), \n",
        "    (df['province_of_onset'].isin(southern)), \n",
        "]\n",
        "\n",
        "# create a list of the values we want to assign for each condition\n",
        "values = ['ภาคเหนือ', 'ภาคตะวันออกเฉียงเหนือ', 'ภาคกลาง', 'ภาคตะวันออก', 'ภาคตะวันตก', 'ภาคใต้']\n",
        "\n",
        "# create a new column and use np.select to assign values to it using our lists as arguments\n",
        "df['region'] = np.select(conditions, values, default = None)\n",
        "\n",
        "# display updated DataFrame\n",
        "df['region'].value_counts()"
      ],
      "metadata": {
        "id": "AEopbVUvhhbm",
        "outputId": "39b76eb8-d826-4fd9-f157-f919942c027e",
        "colab": {
          "base_uri": "https://localhost:8080/"
        }
      },
      "execution_count": 99,
      "outputs": [
        {
          "output_type": "execute_result",
          "data": {
            "text/plain": [
              "ภาคกลาง                  1385662\n",
              "ภาคใต้                    475812\n",
              "ภาคตะวันออก               384326\n",
              "ภาคตะวันออกเฉียงเหนือ     251082\n",
              "ภาคตะวันตก                147525\n",
              "ภาคเหนือ                   87933\n",
              "Name: region, dtype: int64"
            ]
          },
          "metadata": {},
          "execution_count": 99
        }
      ]
    },
    {
      "cell_type": "code",
      "source": [
        "df['region'].isnull().sum()"
      ],
      "metadata": {
        "id": "EDqC1kT5jRBQ",
        "outputId": "f30e7694-dc5f-4fae-a83e-ca1273a5e304",
        "colab": {
          "base_uri": "https://localhost:8080/"
        }
      },
      "execution_count": 103,
      "outputs": [
        {
          "output_type": "execute_result",
          "data": {
            "text/plain": [
              "379303"
            ]
          },
          "metadata": {},
          "execution_count": 103
        }
      ]
    },
    {
      "cell_type": "markdown",
      "source": [
        "# Visualization"
      ],
      "metadata": {
        "id": "SLQ-nIkKrw0O"
      }
    },
    {
      "cell_type": "code",
      "source": [
        "''' import matplotlib.pyplot as plt\n",
        "fig = plt.figure()\n",
        "ax = fig.add_subplot(111)\n",
        "ax.hist(df['age'], bins = 12)\n",
        "plt.xticks(range(0,121,10))\n",
        "plt.show() '''"
      ],
      "metadata": {
        "id": "E7rKE2hNrzRC",
        "outputId": "7fd6744f-e20d-47f8-e067-4f2892c41b5e",
        "colab": {
          "base_uri": "https://localhost:8080/",
          "height": 53
        }
      },
      "execution_count": 78,
      "outputs": [
        {
          "output_type": "execute_result",
          "data": {
            "text/plain": [
              "\" import matplotlib.pyplot as plt\\nfig = plt.figure()\\nax = fig.add_subplot(111)\\nax.hist(df['age'], bins = 12)\\nplt.xticks(range(0,121,10))\\nplt.show() \""
            ],
            "application/vnd.google.colaboratory.intrinsic+json": {
              "type": "string"
            }
          },
          "metadata": {},
          "execution_count": 78
        }
      ]
    },
    {
      "cell_type": "markdown",
      "source": [
        "# export Data"
      ],
      "metadata": {
        "id": "jQ9NminnfYJI"
      }
    },
    {
      "cell_type": "code",
      "source": [
        "''' from google.colab import files\n",
        "df.to_csv('datacovid.csv') \n",
        "files.download('datacovid.csv') '''"
      ],
      "metadata": {
        "id": "L5ItSuQdZb4-",
        "outputId": "c0915ce0-62e5-469f-8008-ece65c8ee3d1",
        "colab": {
          "base_uri": "https://localhost:8080/",
          "height": 35
        }
      },
      "execution_count": 79,
      "outputs": [
        {
          "output_type": "execute_result",
          "data": {
            "text/plain": [
              "\" from google.colab import files\\ndf.to_csv('datacovid.csv') \\nfiles.download('datacovid.csv') \""
            ],
            "application/vnd.google.colaboratory.intrinsic+json": {
              "type": "string"
            }
          },
          "metadata": {},
          "execution_count": 79
        }
      ]
    },
    {
      "cell_type": "code",
      "source": [
        ""
      ],
      "metadata": {
        "id": "Vrw_2TkKaeuc"
      },
      "execution_count": 79,
      "outputs": []
    }
  ]
}