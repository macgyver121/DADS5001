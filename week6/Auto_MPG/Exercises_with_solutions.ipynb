{
  "nbformat": 4,
  "nbformat_minor": 0,
  "metadata": {
    "anaconda-cloud": {},
    "kernelspec": {
      "display_name": "Python [default]",
      "language": "python",
      "name": "python2"
    },
    "language_info": {
      "codemirror_mode": {
        "name": "ipython",
        "version": 2
      },
      "file_extension": ".py",
      "mimetype": "text/x-python",
      "name": "python",
      "nbconvert_exporter": "python",
      "pygments_lexer": "ipython2",
      "version": "2.7.12"
    },
    "colab": {
      "name": "Exercises_with_solutions.ipynb",
      "provenance": [],
      "include_colab_link": true
    }
  },
  "cells": [
    {
      "cell_type": "markdown",
      "metadata": {
        "id": "view-in-github",
        "colab_type": "text"
      },
      "source": [
        "<a href=\"https://colab.research.google.com/github/macgyver121/DADS5001/blob/main/week6/Auto_MPG/Exercises_with_solutions.ipynb\" target=\"_parent\"><img src=\"https://colab.research.google.com/assets/colab-badge.svg\" alt=\"Open In Colab\"/></a>"
      ]
    },
    {
      "cell_type": "markdown",
      "metadata": {
        "id": "D6RXQ_B32Af0"
      },
      "source": [
        "# MPG Cars\n",
        "\n",
        "Check out [Cars Exercises Video Tutorial](https://www.youtube.com/watch?v=avzLRBxoguU&list=PLgJhDSE2ZLxaY_DigHeiIDC1cD09rXgJv&index=3) to watch a data scientist go through the exercises"
      ]
    },
    {
      "cell_type": "markdown",
      "metadata": {
        "id": "9tDXLFn-2Af6"
      },
      "source": [
        "### Introduction:\n",
        "\n",
        "The following exercise utilizes data from [UC Irvine Machine Learning Repository](https://archive.ics.uci.edu/ml/datasets/Auto+MPG)\n",
        "\n",
        "### Step 1. Import the necessary libraries"
      ]
    },
    {
      "cell_type": "code",
      "metadata": {
        "id": "i0-G5xQ-2Af7"
      },
      "source": [
        "import pandas as pd\n",
        "import numpy as np"
      ],
      "execution_count": null,
      "outputs": []
    },
    {
      "cell_type": "markdown",
      "metadata": {
        "id": "jXB5dHHe2Af8"
      },
      "source": [
        "### Step 2. Import the first dataset [cars1](https://raw.githubusercontent.com/guipsamora/pandas_exercises/master/05_Merge/Auto_MPG/cars1.csv) and [cars2](https://raw.githubusercontent.com/guipsamora/pandas_exercises/master/05_Merge/Auto_MPG/cars2.csv).  "
      ]
    },
    {
      "cell_type": "markdown",
      "metadata": {
        "id": "YE2RvxbN2Af8"
      },
      "source": [
        "   ### Step 3. Assign each to a to a variable called cars1 and cars2"
      ]
    },
    {
      "cell_type": "code",
      "metadata": {
        "id": "GhG9ENuC2Af9",
        "colab": {
          "base_uri": "https://localhost:8080/"
        },
        "outputId": "c67908f1-a6a7-4c73-f99b-0d1eb165622f"
      },
      "source": [
        "cars1 = pd.read_csv(\"https://raw.githubusercontent.com/guipsamora/pandas_exercises/master/05_Merge/Auto_MPG/cars1.csv\")\n",
        "cars2 = pd.read_csv(\"https://raw.githubusercontent.com/guipsamora/pandas_exercises/master/05_Merge/Auto_MPG/cars2.csv\")\n",
        "\n",
        "print(cars1.head())\n",
        "print(cars2.head())"
      ],
      "execution_count": null,
      "outputs": [
        {
          "output_type": "stream",
          "name": "stdout",
          "text": [
            "    mpg  cylinders  displacement  ... Unnamed: 11  Unnamed: 12  Unnamed: 13\n",
            "0  18.0          8           307  ...         NaN          NaN          NaN\n",
            "1  15.0          8           350  ...         NaN          NaN          NaN\n",
            "2  18.0          8           318  ...         NaN          NaN          NaN\n",
            "3  16.0          8           304  ...         NaN          NaN          NaN\n",
            "4  17.0          8           302  ...         NaN          NaN          NaN\n",
            "\n",
            "[5 rows x 14 columns]\n",
            "    mpg  cylinders  displacement  ... model  origin                 car\n",
            "0  33.0          4            91  ...    76       3         honda civic\n",
            "1  20.0          6           225  ...    76       1      dodge aspen se\n",
            "2  18.0          6           250  ...    76       1   ford granada ghia\n",
            "3  18.5          6           250  ...    76       1  pontiac ventura sj\n",
            "4  17.5          6           258  ...    76       1       amc pacer d/l\n",
            "\n",
            "[5 rows x 9 columns]\n"
          ]
        }
      ]
    },
    {
      "cell_type": "code",
      "metadata": {
        "id": "28AtEl7uvpcL",
        "outputId": "ffcd16e8-83b9-4c2d-a558-8b1b28eb5e93",
        "colab": {
          "base_uri": "https://localhost:8080/"
        }
      },
      "source": [
        "cars1.info()"
      ],
      "execution_count": null,
      "outputs": [
        {
          "output_type": "stream",
          "name": "stdout",
          "text": [
            "<class 'pandas.core.frame.DataFrame'>\n",
            "RangeIndex: 198 entries, 0 to 197\n",
            "Data columns (total 14 columns):\n",
            " #   Column        Non-Null Count  Dtype  \n",
            "---  ------        --------------  -----  \n",
            " 0   mpg           198 non-null    float64\n",
            " 1   cylinders     198 non-null    int64  \n",
            " 2   displacement  198 non-null    int64  \n",
            " 3   horsepower    198 non-null    object \n",
            " 4   weight        198 non-null    int64  \n",
            " 5   acceleration  198 non-null    float64\n",
            " 6   model         198 non-null    int64  \n",
            " 7   origin        198 non-null    int64  \n",
            " 8   car           198 non-null    object \n",
            " 9   Unnamed: 9    0 non-null      float64\n",
            " 10  Unnamed: 10   0 non-null      float64\n",
            " 11  Unnamed: 11   0 non-null      float64\n",
            " 12  Unnamed: 12   0 non-null      float64\n",
            " 13  Unnamed: 13   0 non-null      float64\n",
            "dtypes: float64(7), int64(5), object(2)\n",
            "memory usage: 21.8+ KB\n"
          ]
        }
      ]
    },
    {
      "cell_type": "code",
      "metadata": {
        "id": "cja1Pry4vs5b",
        "outputId": "1edf6c19-927e-4f51-9fd0-2d4356997ed0",
        "colab": {
          "base_uri": "https://localhost:8080/"
        }
      },
      "source": [
        "cars2.info()"
      ],
      "execution_count": null,
      "outputs": [
        {
          "output_type": "stream",
          "name": "stdout",
          "text": [
            "<class 'pandas.core.frame.DataFrame'>\n",
            "RangeIndex: 200 entries, 0 to 199\n",
            "Data columns (total 9 columns):\n",
            " #   Column        Non-Null Count  Dtype  \n",
            "---  ------        --------------  -----  \n",
            " 0   mpg           200 non-null    float64\n",
            " 1   cylinders     200 non-null    int64  \n",
            " 2   displacement  200 non-null    int64  \n",
            " 3   horsepower    200 non-null    object \n",
            " 4   weight        200 non-null    int64  \n",
            " 5   acceleration  200 non-null    float64\n",
            " 6   model         200 non-null    int64  \n",
            " 7   origin        200 non-null    int64  \n",
            " 8   car           200 non-null    object \n",
            "dtypes: float64(2), int64(5), object(2)\n",
            "memory usage: 14.2+ KB\n"
          ]
        }
      ]
    },
    {
      "cell_type": "markdown",
      "metadata": {
        "id": "l0Ycb8I72Af-"
      },
      "source": [
        "### Step 4. Oops, it seems our first dataset has some unnamed blank columns, fix cars1"
      ]
    },
    {
      "cell_type": "code",
      "metadata": {
        "id": "uOyPsbDr2Af_",
        "colab": {
          "base_uri": "https://localhost:8080/",
          "height": 203
        },
        "outputId": "38fc19e5-2b4f-435b-abd3-58360c95a5b4"
      },
      "source": [
        "cars1 = cars1.loc[:, \"mpg\":\"car\"]\n",
        "cars1.head()"
      ],
      "execution_count": null,
      "outputs": [
        {
          "output_type": "execute_result",
          "data": {
            "text/html": [
              "<div>\n",
              "<style scoped>\n",
              "    .dataframe tbody tr th:only-of-type {\n",
              "        vertical-align: middle;\n",
              "    }\n",
              "\n",
              "    .dataframe tbody tr th {\n",
              "        vertical-align: top;\n",
              "    }\n",
              "\n",
              "    .dataframe thead th {\n",
              "        text-align: right;\n",
              "    }\n",
              "</style>\n",
              "<table border=\"1\" class=\"dataframe\">\n",
              "  <thead>\n",
              "    <tr style=\"text-align: right;\">\n",
              "      <th></th>\n",
              "      <th>mpg</th>\n",
              "      <th>cylinders</th>\n",
              "      <th>displacement</th>\n",
              "      <th>horsepower</th>\n",
              "      <th>weight</th>\n",
              "      <th>acceleration</th>\n",
              "      <th>model</th>\n",
              "      <th>origin</th>\n",
              "      <th>car</th>\n",
              "    </tr>\n",
              "  </thead>\n",
              "  <tbody>\n",
              "    <tr>\n",
              "      <th>0</th>\n",
              "      <td>18.0</td>\n",
              "      <td>8</td>\n",
              "      <td>307</td>\n",
              "      <td>130</td>\n",
              "      <td>3504</td>\n",
              "      <td>12.0</td>\n",
              "      <td>70</td>\n",
              "      <td>1</td>\n",
              "      <td>chevrolet chevelle malibu</td>\n",
              "    </tr>\n",
              "    <tr>\n",
              "      <th>1</th>\n",
              "      <td>15.0</td>\n",
              "      <td>8</td>\n",
              "      <td>350</td>\n",
              "      <td>165</td>\n",
              "      <td>3693</td>\n",
              "      <td>11.5</td>\n",
              "      <td>70</td>\n",
              "      <td>1</td>\n",
              "      <td>buick skylark 320</td>\n",
              "    </tr>\n",
              "    <tr>\n",
              "      <th>2</th>\n",
              "      <td>18.0</td>\n",
              "      <td>8</td>\n",
              "      <td>318</td>\n",
              "      <td>150</td>\n",
              "      <td>3436</td>\n",
              "      <td>11.0</td>\n",
              "      <td>70</td>\n",
              "      <td>1</td>\n",
              "      <td>plymouth satellite</td>\n",
              "    </tr>\n",
              "    <tr>\n",
              "      <th>3</th>\n",
              "      <td>16.0</td>\n",
              "      <td>8</td>\n",
              "      <td>304</td>\n",
              "      <td>150</td>\n",
              "      <td>3433</td>\n",
              "      <td>12.0</td>\n",
              "      <td>70</td>\n",
              "      <td>1</td>\n",
              "      <td>amc rebel sst</td>\n",
              "    </tr>\n",
              "    <tr>\n",
              "      <th>4</th>\n",
              "      <td>17.0</td>\n",
              "      <td>8</td>\n",
              "      <td>302</td>\n",
              "      <td>140</td>\n",
              "      <td>3449</td>\n",
              "      <td>10.5</td>\n",
              "      <td>70</td>\n",
              "      <td>1</td>\n",
              "      <td>ford torino</td>\n",
              "    </tr>\n",
              "  </tbody>\n",
              "</table>\n",
              "</div>"
            ],
            "text/plain": [
              "    mpg  cylinders  displacement  ... model  origin                        car\n",
              "0  18.0          8           307  ...    70       1  chevrolet chevelle malibu\n",
              "1  15.0          8           350  ...    70       1          buick skylark 320\n",
              "2  18.0          8           318  ...    70       1         plymouth satellite\n",
              "3  16.0          8           304  ...    70       1              amc rebel sst\n",
              "4  17.0          8           302  ...    70       1                ford torino\n",
              "\n",
              "[5 rows x 9 columns]"
            ]
          },
          "metadata": {},
          "execution_count": 6
        }
      ]
    },
    {
      "cell_type": "markdown",
      "metadata": {
        "id": "btJqamDa2Af_"
      },
      "source": [
        "### Step 5. What is the number of observations in each dataset?"
      ]
    },
    {
      "cell_type": "code",
      "metadata": {
        "id": "Cnxb9gCk2AgA",
        "colab": {
          "base_uri": "https://localhost:8080/"
        },
        "outputId": "d8874ac4-90db-4358-c6f5-354bb1c1278d"
      },
      "source": [
        "print(cars1.shape)\n",
        "print(cars2.shape)"
      ],
      "execution_count": null,
      "outputs": [
        {
          "output_type": "stream",
          "name": "stdout",
          "text": [
            "(198, 9)\n",
            "(200, 9)\n"
          ]
        }
      ]
    },
    {
      "cell_type": "markdown",
      "metadata": {
        "id": "GuRoLv1U2AgB"
      },
      "source": [
        "### Step 6. Join cars1 and cars2 into a single DataFrame called cars"
      ]
    },
    {
      "cell_type": "code",
      "metadata": {
        "id": "wwGA5n0o2AgB",
        "colab": {
          "base_uri": "https://localhost:8080/",
          "height": 203
        },
        "outputId": "b61818b3-6aad-4e5a-f77e-e90c3e9d9871"
      },
      "source": [
        "cars = cars1.append(cars2)\n",
        "cars.tail()"
      ],
      "execution_count": null,
      "outputs": [
        {
          "output_type": "execute_result",
          "data": {
            "text/html": [
              "<div>\n",
              "<style scoped>\n",
              "    .dataframe tbody tr th:only-of-type {\n",
              "        vertical-align: middle;\n",
              "    }\n",
              "\n",
              "    .dataframe tbody tr th {\n",
              "        vertical-align: top;\n",
              "    }\n",
              "\n",
              "    .dataframe thead th {\n",
              "        text-align: right;\n",
              "    }\n",
              "</style>\n",
              "<table border=\"1\" class=\"dataframe\">\n",
              "  <thead>\n",
              "    <tr style=\"text-align: right;\">\n",
              "      <th></th>\n",
              "      <th>mpg</th>\n",
              "      <th>cylinders</th>\n",
              "      <th>displacement</th>\n",
              "      <th>horsepower</th>\n",
              "      <th>weight</th>\n",
              "      <th>acceleration</th>\n",
              "      <th>model</th>\n",
              "      <th>origin</th>\n",
              "      <th>car</th>\n",
              "    </tr>\n",
              "  </thead>\n",
              "  <tbody>\n",
              "    <tr>\n",
              "      <th>195</th>\n",
              "      <td>27.0</td>\n",
              "      <td>4</td>\n",
              "      <td>140</td>\n",
              "      <td>86</td>\n",
              "      <td>2790</td>\n",
              "      <td>15.6</td>\n",
              "      <td>82</td>\n",
              "      <td>1</td>\n",
              "      <td>ford mustang gl</td>\n",
              "    </tr>\n",
              "    <tr>\n",
              "      <th>196</th>\n",
              "      <td>44.0</td>\n",
              "      <td>4</td>\n",
              "      <td>97</td>\n",
              "      <td>52</td>\n",
              "      <td>2130</td>\n",
              "      <td>24.6</td>\n",
              "      <td>82</td>\n",
              "      <td>2</td>\n",
              "      <td>vw pickup</td>\n",
              "    </tr>\n",
              "    <tr>\n",
              "      <th>197</th>\n",
              "      <td>32.0</td>\n",
              "      <td>4</td>\n",
              "      <td>135</td>\n",
              "      <td>84</td>\n",
              "      <td>2295</td>\n",
              "      <td>11.6</td>\n",
              "      <td>82</td>\n",
              "      <td>1</td>\n",
              "      <td>dodge rampage</td>\n",
              "    </tr>\n",
              "    <tr>\n",
              "      <th>198</th>\n",
              "      <td>28.0</td>\n",
              "      <td>4</td>\n",
              "      <td>120</td>\n",
              "      <td>79</td>\n",
              "      <td>2625</td>\n",
              "      <td>18.6</td>\n",
              "      <td>82</td>\n",
              "      <td>1</td>\n",
              "      <td>ford ranger</td>\n",
              "    </tr>\n",
              "    <tr>\n",
              "      <th>199</th>\n",
              "      <td>31.0</td>\n",
              "      <td>4</td>\n",
              "      <td>119</td>\n",
              "      <td>82</td>\n",
              "      <td>2720</td>\n",
              "      <td>19.4</td>\n",
              "      <td>82</td>\n",
              "      <td>1</td>\n",
              "      <td>chevy s-10</td>\n",
              "    </tr>\n",
              "  </tbody>\n",
              "</table>\n",
              "</div>"
            ],
            "text/plain": [
              "      mpg  cylinders  displacement  ... model  origin              car\n",
              "195  27.0          4           140  ...    82       1  ford mustang gl\n",
              "196  44.0          4            97  ...    82       2        vw pickup\n",
              "197  32.0          4           135  ...    82       1    dodge rampage\n",
              "198  28.0          4           120  ...    82       1      ford ranger\n",
              "199  31.0          4           119  ...    82       1       chevy s-10\n",
              "\n",
              "[5 rows x 9 columns]"
            ]
          },
          "metadata": {},
          "execution_count": 10
        }
      ]
    },
    {
      "cell_type": "markdown",
      "metadata": {
        "id": "MDm-a5702AgB"
      },
      "source": [
        "### Step 7. Oops, there is a column missing, called owners. Create a random number Series from 15,000 to 73,000."
      ]
    },
    {
      "cell_type": "code",
      "metadata": {
        "id": "ZH-ekhwU2AgC",
        "colab": {
          "base_uri": "https://localhost:8080/"
        },
        "outputId": "88586011-64c5-4810-be6d-dfa94ba56ea6"
      },
      "source": [
        "nr_owners = np.random.randint(15000, high=73001, size=398, dtype='l')\n",
        "nr_owners"
      ],
      "execution_count": null,
      "outputs": [
        {
          "output_type": "execute_result",
          "data": {
            "text/plain": [
              "array([59437, 70094, 53358, 17592, 28767, 29264, 38178, 27362, 44940,\n",
              "       51284, 50912, 61081, 48340, 29051, 37147, 64616, 16018, 23148,\n",
              "       68999, 27654, 43785, 22377, 56209, 66011, 35867, 48635, 31031,\n",
              "       37370, 37883, 53970, 68091, 68406, 64420, 65099, 22698, 42858,\n",
              "       38113, 24205, 67657, 71999, 58708, 60150, 29937, 57427, 51973,\n",
              "       18002, 60290, 54134, 28494, 37842, 43132, 30210, 67458, 72881,\n",
              "       50677, 59342, 49725, 66995, 61269, 69490, 39985, 16364, 54506,\n",
              "       23797, 58738, 59106, 24099, 56228, 50338, 52515, 41235, 22194,\n",
              "       53057, 50223, 57298, 38865, 37310, 72973, 21567, 43688, 68780,\n",
              "       16619, 58233, 48230, 37596, 38890, 50571, 72442, 28484, 66087,\n",
              "       64005, 51705, 39688, 19342, 28487, 64133, 67743, 15769, 16510,\n",
              "       30545, 66857, 16643, 62604, 57015, 50336, 36375, 37508, 51997,\n",
              "       49224, 48759, 39503, 66289, 31408, 32284, 23137, 61949, 23383,\n",
              "       17252, 33535, 44907, 59846, 15227, 72332, 30138, 48182, 18479,\n",
              "       43538, 34741, 37401, 21502, 58497, 31042, 67692, 72478, 30290,\n",
              "       46699, 39256, 71626, 33552, 25075, 47084, 49722, 28709, 63360,\n",
              "       69741, 45101, 66592, 66146, 70323, 71883, 46417, 62021, 70774,\n",
              "       64512, 62564, 32189, 22619, 42721, 25144, 37344, 45890, 60004,\n",
              "       51391, 38883, 45306, 64300, 18450, 21842, 52137, 70776, 27358,\n",
              "       54217, 57766, 23089, 36544, 39955, 30615, 72220, 30300, 34094,\n",
              "       53529, 24886, 63703, 30362, 71050, 68587, 22905, 47695, 33213,\n",
              "       72434, 48616, 61424, 63056, 31544, 60162, 59459, 70433, 52121,\n",
              "       38776, 41341, 29853, 36682, 40616, 33933, 42044, 54127, 34301,\n",
              "       53090, 15759, 22068, 72070, 44784, 29689, 27644, 39403, 38171,\n",
              "       19180, 41992, 57428, 61896, 28336, 18043, 17411, 23707, 20533,\n",
              "       65110, 52298, 67871, 36593, 40392, 45945, 45984, 67752, 71650,\n",
              "       46954, 18488, 45179, 56550, 50885, 27741, 67691, 51122, 66356,\n",
              "       36382, 22217, 41958, 70780, 64969, 71274, 67539, 70066, 19255,\n",
              "       25474, 18419, 59184, 36118, 42396, 25128, 71291, 50541, 32920,\n",
              "       52240, 15804, 47229, 62679, 36676, 23861, 16192, 47392, 56488,\n",
              "       65664, 18881, 55056, 61649, 37824, 40371, 21033, 40520, 43555,\n",
              "       55546, 68163, 63677, 28956, 51711, 57146, 47118, 67771, 68463,\n",
              "       37709, 33784, 24869, 70706, 51688, 65305, 54717, 34781, 68261,\n",
              "       67358, 27144, 66909, 60865, 24244, 31029, 69525, 58776, 18752,\n",
              "       44462, 34046, 31992, 46387, 51869, 34475, 62770, 37178, 46523,\n",
              "       18948, 25662, 69761, 59385, 40116, 42386, 17767, 25767, 70263,\n",
              "       59601, 44021, 70454, 34342, 50922, 46371, 66530, 56144, 63439,\n",
              "       30139, 25764, 36102, 40653, 32769, 60213, 64311, 28255, 19311,\n",
              "       33693, 46935, 48617, 70056, 59070, 19483, 23348, 27120, 55444,\n",
              "       19672, 36595, 48280, 38333, 43710, 62699, 29255, 19148, 19469,\n",
              "       33863, 70637, 17223, 37320, 43360, 37631, 35852, 29915, 57285,\n",
              "       51968, 63144, 30987, 44572, 64504, 31613, 16388, 29745, 18593,\n",
              "       45542, 48604, 64764, 72653, 19548, 69189, 21269, 32760, 61101,\n",
              "       57580, 64701, 25944, 26868, 55029, 20216, 43928, 60879, 59019,\n",
              "       57480, 61874])"
            ]
          },
          "metadata": {},
          "execution_count": 11
        }
      ]
    },
    {
      "cell_type": "markdown",
      "metadata": {
        "id": "PWr03ID_2AgC"
      },
      "source": [
        "### Step 8. Add the column owners to cars"
      ]
    },
    {
      "cell_type": "code",
      "metadata": {
        "id": "azeD5uDq2AgC",
        "colab": {
          "base_uri": "https://localhost:8080/",
          "height": 203
        },
        "outputId": "5975e763-958a-4102-b2b3-fd2cdcdfa601"
      },
      "source": [
        "cars['owners'] = nr_owners\n",
        "cars.tail()"
      ],
      "execution_count": null,
      "outputs": [
        {
          "output_type": "execute_result",
          "data": {
            "text/html": [
              "<div>\n",
              "<style scoped>\n",
              "    .dataframe tbody tr th:only-of-type {\n",
              "        vertical-align: middle;\n",
              "    }\n",
              "\n",
              "    .dataframe tbody tr th {\n",
              "        vertical-align: top;\n",
              "    }\n",
              "\n",
              "    .dataframe thead th {\n",
              "        text-align: right;\n",
              "    }\n",
              "</style>\n",
              "<table border=\"1\" class=\"dataframe\">\n",
              "  <thead>\n",
              "    <tr style=\"text-align: right;\">\n",
              "      <th></th>\n",
              "      <th>mpg</th>\n",
              "      <th>cylinders</th>\n",
              "      <th>displacement</th>\n",
              "      <th>horsepower</th>\n",
              "      <th>weight</th>\n",
              "      <th>acceleration</th>\n",
              "      <th>model</th>\n",
              "      <th>origin</th>\n",
              "      <th>car</th>\n",
              "      <th>owners</th>\n",
              "    </tr>\n",
              "  </thead>\n",
              "  <tbody>\n",
              "    <tr>\n",
              "      <th>195</th>\n",
              "      <td>27.0</td>\n",
              "      <td>4</td>\n",
              "      <td>140</td>\n",
              "      <td>86</td>\n",
              "      <td>2790</td>\n",
              "      <td>15.6</td>\n",
              "      <td>82</td>\n",
              "      <td>1</td>\n",
              "      <td>ford mustang gl</td>\n",
              "      <td>43928</td>\n",
              "    </tr>\n",
              "    <tr>\n",
              "      <th>196</th>\n",
              "      <td>44.0</td>\n",
              "      <td>4</td>\n",
              "      <td>97</td>\n",
              "      <td>52</td>\n",
              "      <td>2130</td>\n",
              "      <td>24.6</td>\n",
              "      <td>82</td>\n",
              "      <td>2</td>\n",
              "      <td>vw pickup</td>\n",
              "      <td>60879</td>\n",
              "    </tr>\n",
              "    <tr>\n",
              "      <th>197</th>\n",
              "      <td>32.0</td>\n",
              "      <td>4</td>\n",
              "      <td>135</td>\n",
              "      <td>84</td>\n",
              "      <td>2295</td>\n",
              "      <td>11.6</td>\n",
              "      <td>82</td>\n",
              "      <td>1</td>\n",
              "      <td>dodge rampage</td>\n",
              "      <td>59019</td>\n",
              "    </tr>\n",
              "    <tr>\n",
              "      <th>198</th>\n",
              "      <td>28.0</td>\n",
              "      <td>4</td>\n",
              "      <td>120</td>\n",
              "      <td>79</td>\n",
              "      <td>2625</td>\n",
              "      <td>18.6</td>\n",
              "      <td>82</td>\n",
              "      <td>1</td>\n",
              "      <td>ford ranger</td>\n",
              "      <td>57480</td>\n",
              "    </tr>\n",
              "    <tr>\n",
              "      <th>199</th>\n",
              "      <td>31.0</td>\n",
              "      <td>4</td>\n",
              "      <td>119</td>\n",
              "      <td>82</td>\n",
              "      <td>2720</td>\n",
              "      <td>19.4</td>\n",
              "      <td>82</td>\n",
              "      <td>1</td>\n",
              "      <td>chevy s-10</td>\n",
              "      <td>61874</td>\n",
              "    </tr>\n",
              "  </tbody>\n",
              "</table>\n",
              "</div>"
            ],
            "text/plain": [
              "      mpg  cylinders  displacement  ... origin              car  owners\n",
              "195  27.0          4           140  ...      1  ford mustang gl   43928\n",
              "196  44.0          4            97  ...      2        vw pickup   60879\n",
              "197  32.0          4           135  ...      1    dodge rampage   59019\n",
              "198  28.0          4           120  ...      1      ford ranger   57480\n",
              "199  31.0          4           119  ...      1       chevy s-10   61874\n",
              "\n",
              "[5 rows x 10 columns]"
            ]
          },
          "metadata": {},
          "execution_count": 12
        }
      ]
    },
    {
      "cell_type": "code",
      "metadata": {
        "id": "h4nl1zXNxDlb",
        "outputId": "26c48b03-6603-479f-c186-db82c29b1182",
        "colab": {
          "base_uri": "https://localhost:8080/"
        }
      },
      "source": [
        "cars.shape"
      ],
      "execution_count": null,
      "outputs": [
        {
          "output_type": "execute_result",
          "data": {
            "text/plain": [
              "(398, 10)"
            ]
          },
          "metadata": {},
          "execution_count": 14
        }
      ]
    },
    {
      "cell_type": "code",
      "metadata": {
        "id": "fDddTO1jxVzr"
      },
      "source": [
        "cars = cars.reset_index()"
      ],
      "execution_count": null,
      "outputs": []
    },
    {
      "cell_type": "code",
      "metadata": {
        "id": "Nlu24eAyxcVU",
        "outputId": "d9bfffff-377c-48f8-be35-e50f640710cb",
        "colab": {
          "base_uri": "https://localhost:8080/",
          "height": 203
        }
      },
      "source": [
        "cars.tail()"
      ],
      "execution_count": null,
      "outputs": [
        {
          "output_type": "execute_result",
          "data": {
            "text/html": [
              "<div>\n",
              "<style scoped>\n",
              "    .dataframe tbody tr th:only-of-type {\n",
              "        vertical-align: middle;\n",
              "    }\n",
              "\n",
              "    .dataframe tbody tr th {\n",
              "        vertical-align: top;\n",
              "    }\n",
              "\n",
              "    .dataframe thead th {\n",
              "        text-align: right;\n",
              "    }\n",
              "</style>\n",
              "<table border=\"1\" class=\"dataframe\">\n",
              "  <thead>\n",
              "    <tr style=\"text-align: right;\">\n",
              "      <th></th>\n",
              "      <th>index</th>\n",
              "      <th>mpg</th>\n",
              "      <th>cylinders</th>\n",
              "      <th>displacement</th>\n",
              "      <th>horsepower</th>\n",
              "      <th>weight</th>\n",
              "      <th>acceleration</th>\n",
              "      <th>model</th>\n",
              "      <th>origin</th>\n",
              "      <th>car</th>\n",
              "      <th>owners</th>\n",
              "    </tr>\n",
              "  </thead>\n",
              "  <tbody>\n",
              "    <tr>\n",
              "      <th>393</th>\n",
              "      <td>195</td>\n",
              "      <td>27.0</td>\n",
              "      <td>4</td>\n",
              "      <td>140</td>\n",
              "      <td>86</td>\n",
              "      <td>2790</td>\n",
              "      <td>15.6</td>\n",
              "      <td>82</td>\n",
              "      <td>1</td>\n",
              "      <td>ford mustang gl</td>\n",
              "      <td>43928</td>\n",
              "    </tr>\n",
              "    <tr>\n",
              "      <th>394</th>\n",
              "      <td>196</td>\n",
              "      <td>44.0</td>\n",
              "      <td>4</td>\n",
              "      <td>97</td>\n",
              "      <td>52</td>\n",
              "      <td>2130</td>\n",
              "      <td>24.6</td>\n",
              "      <td>82</td>\n",
              "      <td>2</td>\n",
              "      <td>vw pickup</td>\n",
              "      <td>60879</td>\n",
              "    </tr>\n",
              "    <tr>\n",
              "      <th>395</th>\n",
              "      <td>197</td>\n",
              "      <td>32.0</td>\n",
              "      <td>4</td>\n",
              "      <td>135</td>\n",
              "      <td>84</td>\n",
              "      <td>2295</td>\n",
              "      <td>11.6</td>\n",
              "      <td>82</td>\n",
              "      <td>1</td>\n",
              "      <td>dodge rampage</td>\n",
              "      <td>59019</td>\n",
              "    </tr>\n",
              "    <tr>\n",
              "      <th>396</th>\n",
              "      <td>198</td>\n",
              "      <td>28.0</td>\n",
              "      <td>4</td>\n",
              "      <td>120</td>\n",
              "      <td>79</td>\n",
              "      <td>2625</td>\n",
              "      <td>18.6</td>\n",
              "      <td>82</td>\n",
              "      <td>1</td>\n",
              "      <td>ford ranger</td>\n",
              "      <td>57480</td>\n",
              "    </tr>\n",
              "    <tr>\n",
              "      <th>397</th>\n",
              "      <td>199</td>\n",
              "      <td>31.0</td>\n",
              "      <td>4</td>\n",
              "      <td>119</td>\n",
              "      <td>82</td>\n",
              "      <td>2720</td>\n",
              "      <td>19.4</td>\n",
              "      <td>82</td>\n",
              "      <td>1</td>\n",
              "      <td>chevy s-10</td>\n",
              "      <td>61874</td>\n",
              "    </tr>\n",
              "  </tbody>\n",
              "</table>\n",
              "</div>"
            ],
            "text/plain": [
              "     index   mpg  cylinders  ...  origin              car  owners\n",
              "393    195  27.0          4  ...       1  ford mustang gl   43928\n",
              "394    196  44.0          4  ...       2        vw pickup   60879\n",
              "395    197  32.0          4  ...       1    dodge rampage   59019\n",
              "396    198  28.0          4  ...       1      ford ranger   57480\n",
              "397    199  31.0          4  ...       1       chevy s-10   61874\n",
              "\n",
              "[5 rows x 11 columns]"
            ]
          },
          "metadata": {},
          "execution_count": 18
        }
      ]
    }
  ]
}