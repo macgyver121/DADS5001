{
  "nbformat": 4,
  "nbformat_minor": 0,
  "metadata": {
    "colab": {
      "name": "ThaiPatent.ipynb",
      "provenance": [],
      "include_colab_link": true
    },
    "kernelspec": {
      "name": "python3",
      "display_name": "Python 3"
    },
    "language_info": {
      "name": "python"
    }
  },
  "cells": [
    {
      "cell_type": "markdown",
      "metadata": {
        "id": "view-in-github",
        "colab_type": "text"
      },
      "source": [
        "<a href=\"https://colab.research.google.com/github/macgyver121/DADS5001/blob/main/week6/ThaiPatent-exercise.ipynb\" target=\"_parent\"><img src=\"https://colab.research.google.com/assets/colab-badge.svg\" alt=\"Open In Colab\"/></a>"
      ]
    },
    {
      "cell_type": "markdown",
      "metadata": {
        "id": "0HfZ4OvXtN79"
      },
      "source": [
        "# 1. โหลดข้อมูลมาจาก https://data.go.th/dataset/data-patent⚓"
      ]
    },
    {
      "cell_type": "code",
      "metadata": {
        "id": "dEl5KyNrtt81"
      },
      "source": [
        "import pandas as pd\n",
        "import numpy as np"
      ],
      "execution_count": null,
      "outputs": []
    },
    {
      "cell_type": "code",
      "metadata": {
        "colab": {
          "base_uri": "https://localhost:8080/",
          "height": 206
        },
        "id": "rhygS0PYtJmY",
        "outputId": "5266bef7-71c4-4a63-b861-e5335c2b0d02"
      },
      "source": [
        "url = 'https://raw.githubusercontent.com/ekaratnida/DADS5001-Data-Analytics-and-Data-Science-Tools-and-Programming/main/datasets/data_patent.csv'\n",
        "patent = pd.read_csv(url, sep=',')\n",
        "patent.head()"
      ],
      "execution_count": null,
      "outputs": [
        {
          "output_type": "execute_result",
          "data": {
            "text/html": [
              "\n",
              "  <div id=\"df-8639b909-eae4-4786-abb6-266afeda04e6\">\n",
              "    <div class=\"colab-df-container\">\n",
              "      <div>\n",
              "<style scoped>\n",
              "    .dataframe tbody tr th:only-of-type {\n",
              "        vertical-align: middle;\n",
              "    }\n",
              "\n",
              "    .dataframe tbody tr th {\n",
              "        vertical-align: top;\n",
              "    }\n",
              "\n",
              "    .dataframe thead th {\n",
              "        text-align: right;\n",
              "    }\n",
              "</style>\n",
              "<table border=\"1\" class=\"dataframe\">\n",
              "  <thead>\n",
              "    <tr style=\"text-align: right;\">\n",
              "      <th></th>\n",
              "      <th>Patent_ Owner</th>\n",
              "      <th>Type_Patent</th>\n",
              "      <th>Category</th>\n",
              "      <th>Year</th>\n",
              "      <th>Total</th>\n",
              "    </tr>\n",
              "  </thead>\n",
              "  <tbody>\n",
              "    <tr>\n",
              "      <th>0</th>\n",
              "      <td>ไทย</td>\n",
              "      <td>สิทธิบัตรการประดิษฐ์</td>\n",
              "      <td>ยื่นขอ</td>\n",
              "      <td>2557</td>\n",
              "      <td>983</td>\n",
              "    </tr>\n",
              "    <tr>\n",
              "      <th>1</th>\n",
              "      <td>ต่างชาติ</td>\n",
              "      <td>สิทธิบัตรการประดิษฐ์</td>\n",
              "      <td>ยื่นขอ</td>\n",
              "      <td>2557</td>\n",
              "      <td>6,947</td>\n",
              "    </tr>\n",
              "    <tr>\n",
              "      <th>2</th>\n",
              "      <td>ไทย</td>\n",
              "      <td>สิทธิบัตรการประดิษฐ์</td>\n",
              "      <td>ยื่นขอ</td>\n",
              "      <td>2558</td>\n",
              "      <td>1,029</td>\n",
              "    </tr>\n",
              "    <tr>\n",
              "      <th>3</th>\n",
              "      <td>ต่างชาติ</td>\n",
              "      <td>สิทธิบัตรการประดิษฐ์</td>\n",
              "      <td>ยื่นขอ</td>\n",
              "      <td>2558</td>\n",
              "      <td>7,138</td>\n",
              "    </tr>\n",
              "    <tr>\n",
              "      <th>4</th>\n",
              "      <td>ไทย</td>\n",
              "      <td>สิทธิบัตรการประดิษฐ์</td>\n",
              "      <td>ยื่นขอ</td>\n",
              "      <td>2559</td>\n",
              "      <td>1,098</td>\n",
              "    </tr>\n",
              "  </tbody>\n",
              "</table>\n",
              "</div>\n",
              "      <button class=\"colab-df-convert\" onclick=\"convertToInteractive('df-8639b909-eae4-4786-abb6-266afeda04e6')\"\n",
              "              title=\"Convert this dataframe to an interactive table.\"\n",
              "              style=\"display:none;\">\n",
              "        \n",
              "  <svg xmlns=\"http://www.w3.org/2000/svg\" height=\"24px\"viewBox=\"0 0 24 24\"\n",
              "       width=\"24px\">\n",
              "    <path d=\"M0 0h24v24H0V0z\" fill=\"none\"/>\n",
              "    <path d=\"M18.56 5.44l.94 2.06.94-2.06 2.06-.94-2.06-.94-.94-2.06-.94 2.06-2.06.94zm-11 1L8.5 8.5l.94-2.06 2.06-.94-2.06-.94L8.5 2.5l-.94 2.06-2.06.94zm10 10l.94 2.06.94-2.06 2.06-.94-2.06-.94-.94-2.06-.94 2.06-2.06.94z\"/><path d=\"M17.41 7.96l-1.37-1.37c-.4-.4-.92-.59-1.43-.59-.52 0-1.04.2-1.43.59L10.3 9.45l-7.72 7.72c-.78.78-.78 2.05 0 2.83L4 21.41c.39.39.9.59 1.41.59.51 0 1.02-.2 1.41-.59l7.78-7.78 2.81-2.81c.8-.78.8-2.07 0-2.86zM5.41 20L4 18.59l7.72-7.72 1.47 1.35L5.41 20z\"/>\n",
              "  </svg>\n",
              "      </button>\n",
              "      \n",
              "  <style>\n",
              "    .colab-df-container {\n",
              "      display:flex;\n",
              "      flex-wrap:wrap;\n",
              "      gap: 12px;\n",
              "    }\n",
              "\n",
              "    .colab-df-convert {\n",
              "      background-color: #E8F0FE;\n",
              "      border: none;\n",
              "      border-radius: 50%;\n",
              "      cursor: pointer;\n",
              "      display: none;\n",
              "      fill: #1967D2;\n",
              "      height: 32px;\n",
              "      padding: 0 0 0 0;\n",
              "      width: 32px;\n",
              "    }\n",
              "\n",
              "    .colab-df-convert:hover {\n",
              "      background-color: #E2EBFA;\n",
              "      box-shadow: 0px 1px 2px rgba(60, 64, 67, 0.3), 0px 1px 3px 1px rgba(60, 64, 67, 0.15);\n",
              "      fill: #174EA6;\n",
              "    }\n",
              "\n",
              "    [theme=dark] .colab-df-convert {\n",
              "      background-color: #3B4455;\n",
              "      fill: #D2E3FC;\n",
              "    }\n",
              "\n",
              "    [theme=dark] .colab-df-convert:hover {\n",
              "      background-color: #434B5C;\n",
              "      box-shadow: 0px 1px 3px 1px rgba(0, 0, 0, 0.15);\n",
              "      filter: drop-shadow(0px 1px 2px rgba(0, 0, 0, 0.3));\n",
              "      fill: #FFFFFF;\n",
              "    }\n",
              "  </style>\n",
              "\n",
              "      <script>\n",
              "        const buttonEl =\n",
              "          document.querySelector('#df-8639b909-eae4-4786-abb6-266afeda04e6 button.colab-df-convert');\n",
              "        buttonEl.style.display =\n",
              "          google.colab.kernel.accessAllowed ? 'block' : 'none';\n",
              "\n",
              "        async function convertToInteractive(key) {\n",
              "          const element = document.querySelector('#df-8639b909-eae4-4786-abb6-266afeda04e6');\n",
              "          const dataTable =\n",
              "            await google.colab.kernel.invokeFunction('convertToInteractive',\n",
              "                                                     [key], {});\n",
              "          if (!dataTable) return;\n",
              "\n",
              "          const docLinkHtml = 'Like what you see? Visit the ' +\n",
              "            '<a target=\"_blank\" href=https://colab.research.google.com/notebooks/data_table.ipynb>data table notebook</a>'\n",
              "            + ' to learn more about interactive tables.';\n",
              "          element.innerHTML = '';\n",
              "          dataTable['output_type'] = 'display_data';\n",
              "          await google.colab.output.renderOutput(dataTable, element);\n",
              "          const docLink = document.createElement('div');\n",
              "          docLink.innerHTML = docLinkHtml;\n",
              "          element.appendChild(docLink);\n",
              "        }\n",
              "      </script>\n",
              "    </div>\n",
              "  </div>\n",
              "  "
            ],
            "text/plain": [
              "   Patent_ Owner              Type_Patent Category  Year   Total \n",
              "0            ไทย  สิทธิบัตรการประดิษฐ์      ยื่นขอ  2557     983 \n",
              "1       ต่างชาติ  สิทธิบัตรการประดิษฐ์      ยื่นขอ  2557   6,947 \n",
              "2            ไทย  สิทธิบัตรการประดิษฐ์      ยื่นขอ  2558   1,029 \n",
              "3       ต่างชาติ  สิทธิบัตรการประดิษฐ์      ยื่นขอ  2558   7,138 \n",
              "4            ไทย  สิทธิบัตรการประดิษฐ์      ยื่นขอ  2559   1,098 "
            ]
          },
          "metadata": {},
          "execution_count": 10
        }
      ]
    },
    {
      "cell_type": "code",
      "metadata": {
        "colab": {
          "base_uri": "https://localhost:8080/"
        },
        "id": "-8HPsMCDx8iU",
        "outputId": "7f663850-459d-4d46-b3cb-70e4d13f5ca8"
      },
      "source": [
        "patent.info()"
      ],
      "execution_count": null,
      "outputs": [
        {
          "output_type": "stream",
          "name": "stdout",
          "text": [
            "<class 'pandas.core.frame.DataFrame'>\n",
            "RangeIndex: 40 entries, 0 to 39\n",
            "Data columns (total 5 columns):\n",
            " #   Column          Non-Null Count  Dtype \n",
            "---  ------          --------------  ----- \n",
            " 0    Patent_ Owner  40 non-null     object\n",
            " 1   Type_Patent     40 non-null     object\n",
            " 2   Category        40 non-null     object\n",
            " 3   Year            40 non-null     int64 \n",
            " 4    Total          40 non-null     object\n",
            "dtypes: int64(1), object(4)\n",
            "memory usage: 1.7+ KB\n"
          ]
        }
      ]
    },
    {
      "cell_type": "markdown",
      "metadata": {
        "id": "_lufmGi9t98d"
      },
      "source": [
        "# แบบฝึกหัด\n",
        "1. นับจำนวนว่ามี ไทย owner เท่าไหร่ ต่างชาติ owner เท่าไหร่ ใน file นี้\n",
        "2. column Type_Patent มีกี่ type \n",
        "3. Column Category มีกี่ category\n",
        "4. หา Unique year, min, max\n",
        "5. หา Total patent\n",
        "6. ตั้งคำถาม และหาคำตอบ 3 คำถาม\n",
        "\n",
        "\n"
      ]
    },
    {
      "cell_type": "code",
      "source": [
        "# นับจำนวนว่ามี ไทย owner เท่าไหร่ ต่างชาติ owner เท่าไหร่ ใน file นี้\n",
        "patent[' Patent_ Owner'].value_counts()"
      ],
      "metadata": {
        "colab": {
          "base_uri": "https://localhost:8080/"
        },
        "id": "f7BwZAbmUD4-",
        "outputId": "72349350-cdcf-4de2-fe0b-fc62c31503c2"
      },
      "execution_count": null,
      "outputs": [
        {
          "output_type": "execute_result",
          "data": {
            "text/plain": [
              "ไทย         20\n",
              "ต่างชาติ    20\n",
              "Name:  Patent_ Owner, dtype: int64"
            ]
          },
          "metadata": {},
          "execution_count": 12
        }
      ]
    },
    {
      "cell_type": "code",
      "source": [
        "# column Type_Patent มีกี่ type\n",
        "patent['Type_Patent'].unique()"
      ],
      "metadata": {
        "colab": {
          "base_uri": "https://localhost:8080/"
        },
        "id": "ygNuYNCzUGx1",
        "outputId": "ad47c8d4-ee20-404d-d675-10bcaa85f1d6"
      },
      "execution_count": null,
      "outputs": [
        {
          "output_type": "execute_result",
          "data": {
            "text/plain": [
              "array(['สิทธิบัตรการประดิษฐ์   ', 'สิทธิบัตรการออกแบบผลิตภัณฑ์'],\n",
              "      dtype=object)"
            ]
          },
          "metadata": {},
          "execution_count": 16
        }
      ]
    },
    {
      "cell_type": "code",
      "source": [
        "# Column Category มีกี่ category\n",
        "patent['Category'].unique()"
      ],
      "metadata": {
        "colab": {
          "base_uri": "https://localhost:8080/"
        },
        "id": "pZYvNb4HV_Gq",
        "outputId": "885d7a66-3e27-47c8-d73a-b3f504febd64"
      },
      "execution_count": null,
      "outputs": [
        {
          "output_type": "execute_result",
          "data": {
            "text/plain": [
              "array(['ยื่นขอ', 'จด'], dtype=object)"
            ]
          },
          "metadata": {},
          "execution_count": 18
        }
      ]
    },
    {
      "cell_type": "code",
      "source": [
        "# หา Unique year, min, max\n",
        "print(patent['Year'].unique().max())\n",
        "print(patent['Year'].unique().min())"
      ],
      "metadata": {
        "colab": {
          "base_uri": "https://localhost:8080/"
        },
        "id": "WPx_6qZuWJSW",
        "outputId": "cd87e321-32d7-41b8-e8dd-3c37ef4f680a"
      },
      "execution_count": null,
      "outputs": [
        {
          "output_type": "stream",
          "name": "stdout",
          "text": [
            "2561\n",
            "2557\n"
          ]
        }
      ]
    },
    {
      "cell_type": "code",
      "source": [
        "patent['Year'].aggregate([np.max, np.min])"
      ],
      "metadata": {
        "id": "K_vvUhn0clj6",
        "outputId": "54202c5e-3aca-4e0e-eb36-2cc0291225a6",
        "colab": {
          "base_uri": "https://localhost:8080/"
        }
      },
      "execution_count": null,
      "outputs": [
        {
          "output_type": "execute_result",
          "data": {
            "text/plain": [
              "amax    2561\n",
              "amin    2557\n",
              "Name: Year, dtype: int64"
            ]
          },
          "metadata": {},
          "execution_count": 72
        }
      ]
    },
    {
      "cell_type": "code",
      "source": [
        "patent.columns"
      ],
      "metadata": {
        "colab": {
          "base_uri": "https://localhost:8080/"
        },
        "id": "M39uZ3-SWdB9",
        "outputId": "bfe10f56-a92e-412f-8a27-df15ace3a03c"
      },
      "execution_count": null,
      "outputs": [
        {
          "output_type": "execute_result",
          "data": {
            "text/plain": [
              "Index([' Patent_ Owner', 'Type_Patent', 'Category', 'Year', ' Total '], dtype='object')"
            ]
          },
          "metadata": {},
          "execution_count": 40
        }
      ]
    },
    {
      "cell_type": "code",
      "source": [
        "patent[' Total '] = patent[' Total '].aggregate(lambda x : x.replace(',', '')).astype('int')"
      ],
      "metadata": {
        "id": "sFIZkbOyXOkZ"
      },
      "execution_count": null,
      "outputs": []
    },
    {
      "cell_type": "code",
      "source": [
        "# หา Total patent\n",
        "patent[' Total '].sum()"
      ],
      "metadata": {
        "colab": {
          "base_uri": "https://localhost:8080/"
        },
        "id": "mV3_GQ3OXxnJ",
        "outputId": "8aeeec26-c901-43ac-fe84-6774a77e66e0"
      },
      "execution_count": null,
      "outputs": [
        {
          "output_type": "execute_result",
          "data": {
            "text/plain": [
              "92491"
            ]
          },
          "metadata": {},
          "execution_count": 52
        }
      ]
    },
    {
      "cell_type": "code",
      "source": [
        "# 1 มี total patent เท่าไหร่ แยกตามคนไทยและคนต่างชาติ\n",
        "patent.groupby(' Patent_ Owner')[' Total '].sum()"
      ],
      "metadata": {
        "colab": {
          "base_uri": "https://localhost:8080/"
        },
        "id": "5_0XfDJ9YF5S",
        "outputId": "7045a9b1-5805-4fb9-b657-74db7229b505"
      },
      "execution_count": null,
      "outputs": [
        {
          "output_type": "execute_result",
          "data": {
            "text/plain": [
              " Patent_ Owner\n",
              "ต่างชาติ    59870\n",
              "ไทย         32621\n",
              "Name:  Total , dtype: int64"
            ]
          },
          "metadata": {},
          "execution_count": 54
        }
      ]
    },
    {
      "cell_type": "code",
      "source": [
        "# 2 ปีไหนมี patent รวมสูงที่สุด\n",
        "patent.groupby('Year')[' Total '].sum()"
      ],
      "metadata": {
        "colab": {
          "base_uri": "https://localhost:8080/"
        },
        "id": "PdoX_iezZ_G4",
        "outputId": "d19988a8-3128-4d8d-ff65-b508b3acddc7"
      },
      "execution_count": null,
      "outputs": [
        {
          "output_type": "execute_result",
          "data": {
            "text/plain": [
              "Year\n",
              "2557    15770\n",
              "2558    17703\n",
              "2559    18336\n",
              "2560    19628\n",
              "2561    21054\n",
              "Name:  Total , dtype: int64"
            ]
          },
          "metadata": {},
          "execution_count": 64
        }
      ]
    },
    {
      "cell_type": "code",
      "source": [
        "# 3 ในแต่ละปีมีคนไทยและคนต่างชาติทำ patent เฉลี่ยที่เท่าไหร่\n",
        "patent.groupby(['Year', ' Patent_ Owner']).mean()"
      ],
      "metadata": {
        "colab": {
          "base_uri": "https://localhost:8080/",
          "height": 394
        },
        "id": "_miEvPYBaak0",
        "outputId": "3f4fc01c-dfb0-441b-8732-e37c72699d93"
      },
      "execution_count": null,
      "outputs": [
        {
          "output_type": "execute_result",
          "data": {
            "text/html": [
              "\n",
              "  <div id=\"df-1628aa62-af0f-46ac-88b2-4f4fc7db21e0\">\n",
              "    <div class=\"colab-df-container\">\n",
              "      <div>\n",
              "<style scoped>\n",
              "    .dataframe tbody tr th:only-of-type {\n",
              "        vertical-align: middle;\n",
              "    }\n",
              "\n",
              "    .dataframe tbody tr th {\n",
              "        vertical-align: top;\n",
              "    }\n",
              "\n",
              "    .dataframe thead th {\n",
              "        text-align: right;\n",
              "    }\n",
              "</style>\n",
              "<table border=\"1\" class=\"dataframe\">\n",
              "  <thead>\n",
              "    <tr style=\"text-align: right;\">\n",
              "      <th></th>\n",
              "      <th></th>\n",
              "      <th>Total</th>\n",
              "    </tr>\n",
              "    <tr>\n",
              "      <th>Year</th>\n",
              "      <th>Patent_ Owner</th>\n",
              "      <th></th>\n",
              "    </tr>\n",
              "  </thead>\n",
              "  <tbody>\n",
              "    <tr>\n",
              "      <th rowspan=\"2\" valign=\"top\">2557</th>\n",
              "      <th>ต่างชาติ</th>\n",
              "      <td>2614.75</td>\n",
              "    </tr>\n",
              "    <tr>\n",
              "      <th>ไทย</th>\n",
              "      <td>1327.75</td>\n",
              "    </tr>\n",
              "    <tr>\n",
              "      <th rowspan=\"2\" valign=\"top\">2558</th>\n",
              "      <th>ต่างชาติ</th>\n",
              "      <td>2840.00</td>\n",
              "    </tr>\n",
              "    <tr>\n",
              "      <th>ไทย</th>\n",
              "      <td>1585.75</td>\n",
              "    </tr>\n",
              "    <tr>\n",
              "      <th rowspan=\"2\" valign=\"top\">2559</th>\n",
              "      <th>ต่างชาติ</th>\n",
              "      <td>2877.00</td>\n",
              "    </tr>\n",
              "    <tr>\n",
              "      <th>ไทย</th>\n",
              "      <td>1707.00</td>\n",
              "    </tr>\n",
              "    <tr>\n",
              "      <th rowspan=\"2\" valign=\"top\">2560</th>\n",
              "      <th>ต่างชาติ</th>\n",
              "      <td>3192.75</td>\n",
              "    </tr>\n",
              "    <tr>\n",
              "      <th>ไทย</th>\n",
              "      <td>1714.25</td>\n",
              "    </tr>\n",
              "    <tr>\n",
              "      <th rowspan=\"2\" valign=\"top\">2561</th>\n",
              "      <th>ต่างชาติ</th>\n",
              "      <td>3443.00</td>\n",
              "    </tr>\n",
              "    <tr>\n",
              "      <th>ไทย</th>\n",
              "      <td>1820.50</td>\n",
              "    </tr>\n",
              "  </tbody>\n",
              "</table>\n",
              "</div>\n",
              "      <button class=\"colab-df-convert\" onclick=\"convertToInteractive('df-1628aa62-af0f-46ac-88b2-4f4fc7db21e0')\"\n",
              "              title=\"Convert this dataframe to an interactive table.\"\n",
              "              style=\"display:none;\">\n",
              "        \n",
              "  <svg xmlns=\"http://www.w3.org/2000/svg\" height=\"24px\"viewBox=\"0 0 24 24\"\n",
              "       width=\"24px\">\n",
              "    <path d=\"M0 0h24v24H0V0z\" fill=\"none\"/>\n",
              "    <path d=\"M18.56 5.44l.94 2.06.94-2.06 2.06-.94-2.06-.94-.94-2.06-.94 2.06-2.06.94zm-11 1L8.5 8.5l.94-2.06 2.06-.94-2.06-.94L8.5 2.5l-.94 2.06-2.06.94zm10 10l.94 2.06.94-2.06 2.06-.94-2.06-.94-.94-2.06-.94 2.06-2.06.94z\"/><path d=\"M17.41 7.96l-1.37-1.37c-.4-.4-.92-.59-1.43-.59-.52 0-1.04.2-1.43.59L10.3 9.45l-7.72 7.72c-.78.78-.78 2.05 0 2.83L4 21.41c.39.39.9.59 1.41.59.51 0 1.02-.2 1.41-.59l7.78-7.78 2.81-2.81c.8-.78.8-2.07 0-2.86zM5.41 20L4 18.59l7.72-7.72 1.47 1.35L5.41 20z\"/>\n",
              "  </svg>\n",
              "      </button>\n",
              "      \n",
              "  <style>\n",
              "    .colab-df-container {\n",
              "      display:flex;\n",
              "      flex-wrap:wrap;\n",
              "      gap: 12px;\n",
              "    }\n",
              "\n",
              "    .colab-df-convert {\n",
              "      background-color: #E8F0FE;\n",
              "      border: none;\n",
              "      border-radius: 50%;\n",
              "      cursor: pointer;\n",
              "      display: none;\n",
              "      fill: #1967D2;\n",
              "      height: 32px;\n",
              "      padding: 0 0 0 0;\n",
              "      width: 32px;\n",
              "    }\n",
              "\n",
              "    .colab-df-convert:hover {\n",
              "      background-color: #E2EBFA;\n",
              "      box-shadow: 0px 1px 2px rgba(60, 64, 67, 0.3), 0px 1px 3px 1px rgba(60, 64, 67, 0.15);\n",
              "      fill: #174EA6;\n",
              "    }\n",
              "\n",
              "    [theme=dark] .colab-df-convert {\n",
              "      background-color: #3B4455;\n",
              "      fill: #D2E3FC;\n",
              "    }\n",
              "\n",
              "    [theme=dark] .colab-df-convert:hover {\n",
              "      background-color: #434B5C;\n",
              "      box-shadow: 0px 1px 3px 1px rgba(0, 0, 0, 0.15);\n",
              "      filter: drop-shadow(0px 1px 2px rgba(0, 0, 0, 0.3));\n",
              "      fill: #FFFFFF;\n",
              "    }\n",
              "  </style>\n",
              "\n",
              "      <script>\n",
              "        const buttonEl =\n",
              "          document.querySelector('#df-1628aa62-af0f-46ac-88b2-4f4fc7db21e0 button.colab-df-convert');\n",
              "        buttonEl.style.display =\n",
              "          google.colab.kernel.accessAllowed ? 'block' : 'none';\n",
              "\n",
              "        async function convertToInteractive(key) {\n",
              "          const element = document.querySelector('#df-1628aa62-af0f-46ac-88b2-4f4fc7db21e0');\n",
              "          const dataTable =\n",
              "            await google.colab.kernel.invokeFunction('convertToInteractive',\n",
              "                                                     [key], {});\n",
              "          if (!dataTable) return;\n",
              "\n",
              "          const docLinkHtml = 'Like what you see? Visit the ' +\n",
              "            '<a target=\"_blank\" href=https://colab.research.google.com/notebooks/data_table.ipynb>data table notebook</a>'\n",
              "            + ' to learn more about interactive tables.';\n",
              "          element.innerHTML = '';\n",
              "          dataTable['output_type'] = 'display_data';\n",
              "          await google.colab.output.renderOutput(dataTable, element);\n",
              "          const docLink = document.createElement('div');\n",
              "          docLink.innerHTML = docLinkHtml;\n",
              "          element.appendChild(docLink);\n",
              "        }\n",
              "      </script>\n",
              "    </div>\n",
              "  </div>\n",
              "  "
            ],
            "text/plain": [
              "                      Total \n",
              "Year  Patent_ Owner         \n",
              "2557 ต่างชาติ        2614.75\n",
              "     ไทย             1327.75\n",
              "2558 ต่างชาติ        2840.00\n",
              "     ไทย             1585.75\n",
              "2559 ต่างชาติ        2877.00\n",
              "     ไทย             1707.00\n",
              "2560 ต่างชาติ        3192.75\n",
              "     ไทย             1714.25\n",
              "2561 ต่างชาติ        3443.00\n",
              "     ไทย             1820.50"
            ]
          },
          "metadata": {},
          "execution_count": 67
        }
      ]
    },
    {
      "cell_type": "markdown",
      "source": [
        "----------------------------------------"
      ],
      "metadata": {
        "id": "4oRqz-UmdXB6"
      }
    },
    {
      "cell_type": "code",
      "source": [
        "patent.columns = patent.columns.str.replace(' ', '')"
      ],
      "metadata": {
        "id": "ymLoooojbKQD"
      },
      "execution_count": null,
      "outputs": []
    },
    {
      "cell_type": "code",
      "source": [
        "patent.columns"
      ],
      "metadata": {
        "id": "jy2Rg_nndgDH",
        "outputId": "edff1745-41b6-4a65-ee76-b1da258727b2",
        "colab": {
          "base_uri": "https://localhost:8080/"
        }
      },
      "execution_count": null,
      "outputs": [
        {
          "output_type": "execute_result",
          "data": {
            "text/plain": [
              "Index(['Patent_Owner', 'Type_Patent', 'Category', 'Year', 'Total'], dtype='object')"
            ]
          },
          "metadata": {},
          "execution_count": 76
        }
      ]
    },
    {
      "cell_type": "code",
      "source": [
        ""
      ],
      "metadata": {
        "id": "oOagl7RqeqBb"
      },
      "execution_count": null,
      "outputs": []
    }
  ]
}