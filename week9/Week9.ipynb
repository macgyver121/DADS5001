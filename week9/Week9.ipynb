{
  "nbformat": 4,
  "nbformat_minor": 0,
  "metadata": {
    "colab": {
      "name": "Week9.ipynb",
      "provenance": [],
      "collapsed_sections": [],
      "include_colab_link": true
    },
    "kernelspec": {
      "name": "python3",
      "display_name": "Python 3"
    },
    "language_info": {
      "name": "python"
    }
  },
  "cells": [
    {
      "cell_type": "markdown",
      "metadata": {
        "id": "view-in-github",
        "colab_type": "text"
      },
      "source": [
        "<a href=\"https://colab.research.google.com/github/macgyver121/DADS5001/blob/main/week9/Week9.ipynb\" target=\"_parent\"><img src=\"https://colab.research.google.com/assets/colab-badge.svg\" alt=\"Open In Colab\"/></a>"
      ]
    },
    {
      "cell_type": "markdown",
      "source": [
        "# Plotly 101"
      ],
      "metadata": {
        "id": "tPHlIcgywOy8"
      }
    },
    {
      "cell_type": "markdown",
      "source": [
        "ref\n",
        "- https://plotly.com/python/\n",
        "- https://pbpython.com/plotly-look.html\n",
        "- https://plotly.com/python/line-and-scatter/"
      ],
      "metadata": {
        "id": "HeQl7anDwmFn"
      }
    },
    {
      "cell_type": "code",
      "source": [
        "# x and y given as array_like objects\n",
        "import plotly.express as px\n",
        "fig = px.scatter(x=[0, 1, 2, 3, 4], y=[0, 1, 4, 9, 16])\n",
        "fig.show()"
      ],
      "metadata": {
        "colab": {
          "base_uri": "https://localhost:8080/",
          "height": 542
        },
        "id": "jtKnDUQawVWf",
        "outputId": "27f501ff-7320-4e9b-9232-a145fc14aef3"
      },
      "execution_count": null,
      "outputs": [
        {
          "output_type": "display_data",
          "data": {
            "text/html": [
              "<html>\n",
              "<head><meta charset=\"utf-8\" /></head>\n",
              "<body>\n",
              "    <div>            <script src=\"https://cdnjs.cloudflare.com/ajax/libs/mathjax/2.7.5/MathJax.js?config=TeX-AMS-MML_SVG\"></script><script type=\"text/javascript\">if (window.MathJax) {MathJax.Hub.Config({SVG: {font: \"STIX-Web\"}});}</script>                <script type=\"text/javascript\">window.PlotlyConfig = {MathJaxConfig: 'local'};</script>\n",
              "        <script src=\"https://cdn.plot.ly/plotly-2.8.3.min.js\"></script>                <div id=\"bb1a35b5-73d9-4389-95a2-5464d3e6a9e6\" class=\"plotly-graph-div\" style=\"height:525px; width:100%;\"></div>            <script type=\"text/javascript\">                                    window.PLOTLYENV=window.PLOTLYENV || {};                                    if (document.getElementById(\"bb1a35b5-73d9-4389-95a2-5464d3e6a9e6\")) {                    Plotly.newPlot(                        \"bb1a35b5-73d9-4389-95a2-5464d3e6a9e6\",                        [{\"hovertemplate\":\"x=%{x}<br>y=%{y}<extra></extra>\",\"legendgroup\":\"\",\"marker\":{\"color\":\"#636efa\",\"symbol\":\"circle\"},\"mode\":\"markers\",\"name\":\"\",\"orientation\":\"v\",\"showlegend\":false,\"x\":[0,1,2,3,4],\"xaxis\":\"x\",\"y\":[0,1,4,9,16],\"yaxis\":\"y\",\"type\":\"scatter\"}],                        {\"template\":{\"data\":{\"bar\":[{\"error_x\":{\"color\":\"#2a3f5f\"},\"error_y\":{\"color\":\"#2a3f5f\"},\"marker\":{\"line\":{\"color\":\"#E5ECF6\",\"width\":0.5},\"pattern\":{\"fillmode\":\"overlay\",\"size\":10,\"solidity\":0.2}},\"type\":\"bar\"}],\"barpolar\":[{\"marker\":{\"line\":{\"color\":\"#E5ECF6\",\"width\":0.5},\"pattern\":{\"fillmode\":\"overlay\",\"size\":10,\"solidity\":0.2}},\"type\":\"barpolar\"}],\"carpet\":[{\"aaxis\":{\"endlinecolor\":\"#2a3f5f\",\"gridcolor\":\"white\",\"linecolor\":\"white\",\"minorgridcolor\":\"white\",\"startlinecolor\":\"#2a3f5f\"},\"baxis\":{\"endlinecolor\":\"#2a3f5f\",\"gridcolor\":\"white\",\"linecolor\":\"white\",\"minorgridcolor\":\"white\",\"startlinecolor\":\"#2a3f5f\"},\"type\":\"carpet\"}],\"choropleth\":[{\"colorbar\":{\"outlinewidth\":0,\"ticks\":\"\"},\"type\":\"choropleth\"}],\"contour\":[{\"colorbar\":{\"outlinewidth\":0,\"ticks\":\"\"},\"colorscale\":[[0.0,\"#0d0887\"],[0.1111111111111111,\"#46039f\"],[0.2222222222222222,\"#7201a8\"],[0.3333333333333333,\"#9c179e\"],[0.4444444444444444,\"#bd3786\"],[0.5555555555555556,\"#d8576b\"],[0.6666666666666666,\"#ed7953\"],[0.7777777777777778,\"#fb9f3a\"],[0.8888888888888888,\"#fdca26\"],[1.0,\"#f0f921\"]],\"type\":\"contour\"}],\"contourcarpet\":[{\"colorbar\":{\"outlinewidth\":0,\"ticks\":\"\"},\"type\":\"contourcarpet\"}],\"heatmap\":[{\"colorbar\":{\"outlinewidth\":0,\"ticks\":\"\"},\"colorscale\":[[0.0,\"#0d0887\"],[0.1111111111111111,\"#46039f\"],[0.2222222222222222,\"#7201a8\"],[0.3333333333333333,\"#9c179e\"],[0.4444444444444444,\"#bd3786\"],[0.5555555555555556,\"#d8576b\"],[0.6666666666666666,\"#ed7953\"],[0.7777777777777778,\"#fb9f3a\"],[0.8888888888888888,\"#fdca26\"],[1.0,\"#f0f921\"]],\"type\":\"heatmap\"}],\"heatmapgl\":[{\"colorbar\":{\"outlinewidth\":0,\"ticks\":\"\"},\"colorscale\":[[0.0,\"#0d0887\"],[0.1111111111111111,\"#46039f\"],[0.2222222222222222,\"#7201a8\"],[0.3333333333333333,\"#9c179e\"],[0.4444444444444444,\"#bd3786\"],[0.5555555555555556,\"#d8576b\"],[0.6666666666666666,\"#ed7953\"],[0.7777777777777778,\"#fb9f3a\"],[0.8888888888888888,\"#fdca26\"],[1.0,\"#f0f921\"]],\"type\":\"heatmapgl\"}],\"histogram\":[{\"marker\":{\"pattern\":{\"fillmode\":\"overlay\",\"size\":10,\"solidity\":0.2}},\"type\":\"histogram\"}],\"histogram2d\":[{\"colorbar\":{\"outlinewidth\":0,\"ticks\":\"\"},\"colorscale\":[[0.0,\"#0d0887\"],[0.1111111111111111,\"#46039f\"],[0.2222222222222222,\"#7201a8\"],[0.3333333333333333,\"#9c179e\"],[0.4444444444444444,\"#bd3786\"],[0.5555555555555556,\"#d8576b\"],[0.6666666666666666,\"#ed7953\"],[0.7777777777777778,\"#fb9f3a\"],[0.8888888888888888,\"#fdca26\"],[1.0,\"#f0f921\"]],\"type\":\"histogram2d\"}],\"histogram2dcontour\":[{\"colorbar\":{\"outlinewidth\":0,\"ticks\":\"\"},\"colorscale\":[[0.0,\"#0d0887\"],[0.1111111111111111,\"#46039f\"],[0.2222222222222222,\"#7201a8\"],[0.3333333333333333,\"#9c179e\"],[0.4444444444444444,\"#bd3786\"],[0.5555555555555556,\"#d8576b\"],[0.6666666666666666,\"#ed7953\"],[0.7777777777777778,\"#fb9f3a\"],[0.8888888888888888,\"#fdca26\"],[1.0,\"#f0f921\"]],\"type\":\"histogram2dcontour\"}],\"mesh3d\":[{\"colorbar\":{\"outlinewidth\":0,\"ticks\":\"\"},\"type\":\"mesh3d\"}],\"parcoords\":[{\"line\":{\"colorbar\":{\"outlinewidth\":0,\"ticks\":\"\"}},\"type\":\"parcoords\"}],\"pie\":[{\"automargin\":true,\"type\":\"pie\"}],\"scatter\":[{\"marker\":{\"colorbar\":{\"outlinewidth\":0,\"ticks\":\"\"}},\"type\":\"scatter\"}],\"scatter3d\":[{\"line\":{\"colorbar\":{\"outlinewidth\":0,\"ticks\":\"\"}},\"marker\":{\"colorbar\":{\"outlinewidth\":0,\"ticks\":\"\"}},\"type\":\"scatter3d\"}],\"scattercarpet\":[{\"marker\":{\"colorbar\":{\"outlinewidth\":0,\"ticks\":\"\"}},\"type\":\"scattercarpet\"}],\"scattergeo\":[{\"marker\":{\"colorbar\":{\"outlinewidth\":0,\"ticks\":\"\"}},\"type\":\"scattergeo\"}],\"scattergl\":[{\"marker\":{\"colorbar\":{\"outlinewidth\":0,\"ticks\":\"\"}},\"type\":\"scattergl\"}],\"scattermapbox\":[{\"marker\":{\"colorbar\":{\"outlinewidth\":0,\"ticks\":\"\"}},\"type\":\"scattermapbox\"}],\"scatterpolar\":[{\"marker\":{\"colorbar\":{\"outlinewidth\":0,\"ticks\":\"\"}},\"type\":\"scatterpolar\"}],\"scatterpolargl\":[{\"marker\":{\"colorbar\":{\"outlinewidth\":0,\"ticks\":\"\"}},\"type\":\"scatterpolargl\"}],\"scatterternary\":[{\"marker\":{\"colorbar\":{\"outlinewidth\":0,\"ticks\":\"\"}},\"type\":\"scatterternary\"}],\"surface\":[{\"colorbar\":{\"outlinewidth\":0,\"ticks\":\"\"},\"colorscale\":[[0.0,\"#0d0887\"],[0.1111111111111111,\"#46039f\"],[0.2222222222222222,\"#7201a8\"],[0.3333333333333333,\"#9c179e\"],[0.4444444444444444,\"#bd3786\"],[0.5555555555555556,\"#d8576b\"],[0.6666666666666666,\"#ed7953\"],[0.7777777777777778,\"#fb9f3a\"],[0.8888888888888888,\"#fdca26\"],[1.0,\"#f0f921\"]],\"type\":\"surface\"}],\"table\":[{\"cells\":{\"fill\":{\"color\":\"#EBF0F8\"},\"line\":{\"color\":\"white\"}},\"header\":{\"fill\":{\"color\":\"#C8D4E3\"},\"line\":{\"color\":\"white\"}},\"type\":\"table\"}]},\"layout\":{\"annotationdefaults\":{\"arrowcolor\":\"#2a3f5f\",\"arrowhead\":0,\"arrowwidth\":1},\"autotypenumbers\":\"strict\",\"coloraxis\":{\"colorbar\":{\"outlinewidth\":0,\"ticks\":\"\"}},\"colorscale\":{\"diverging\":[[0,\"#8e0152\"],[0.1,\"#c51b7d\"],[0.2,\"#de77ae\"],[0.3,\"#f1b6da\"],[0.4,\"#fde0ef\"],[0.5,\"#f7f7f7\"],[0.6,\"#e6f5d0\"],[0.7,\"#b8e186\"],[0.8,\"#7fbc41\"],[0.9,\"#4d9221\"],[1,\"#276419\"]],\"sequential\":[[0.0,\"#0d0887\"],[0.1111111111111111,\"#46039f\"],[0.2222222222222222,\"#7201a8\"],[0.3333333333333333,\"#9c179e\"],[0.4444444444444444,\"#bd3786\"],[0.5555555555555556,\"#d8576b\"],[0.6666666666666666,\"#ed7953\"],[0.7777777777777778,\"#fb9f3a\"],[0.8888888888888888,\"#fdca26\"],[1.0,\"#f0f921\"]],\"sequentialminus\":[[0.0,\"#0d0887\"],[0.1111111111111111,\"#46039f\"],[0.2222222222222222,\"#7201a8\"],[0.3333333333333333,\"#9c179e\"],[0.4444444444444444,\"#bd3786\"],[0.5555555555555556,\"#d8576b\"],[0.6666666666666666,\"#ed7953\"],[0.7777777777777778,\"#fb9f3a\"],[0.8888888888888888,\"#fdca26\"],[1.0,\"#f0f921\"]]},\"colorway\":[\"#636efa\",\"#EF553B\",\"#00cc96\",\"#ab63fa\",\"#FFA15A\",\"#19d3f3\",\"#FF6692\",\"#B6E880\",\"#FF97FF\",\"#FECB52\"],\"font\":{\"color\":\"#2a3f5f\"},\"geo\":{\"bgcolor\":\"white\",\"lakecolor\":\"white\",\"landcolor\":\"#E5ECF6\",\"showlakes\":true,\"showland\":true,\"subunitcolor\":\"white\"},\"hoverlabel\":{\"align\":\"left\"},\"hovermode\":\"closest\",\"mapbox\":{\"style\":\"light\"},\"paper_bgcolor\":\"white\",\"plot_bgcolor\":\"#E5ECF6\",\"polar\":{\"angularaxis\":{\"gridcolor\":\"white\",\"linecolor\":\"white\",\"ticks\":\"\"},\"bgcolor\":\"#E5ECF6\",\"radialaxis\":{\"gridcolor\":\"white\",\"linecolor\":\"white\",\"ticks\":\"\"}},\"scene\":{\"xaxis\":{\"backgroundcolor\":\"#E5ECF6\",\"gridcolor\":\"white\",\"gridwidth\":2,\"linecolor\":\"white\",\"showbackground\":true,\"ticks\":\"\",\"zerolinecolor\":\"white\"},\"yaxis\":{\"backgroundcolor\":\"#E5ECF6\",\"gridcolor\":\"white\",\"gridwidth\":2,\"linecolor\":\"white\",\"showbackground\":true,\"ticks\":\"\",\"zerolinecolor\":\"white\"},\"zaxis\":{\"backgroundcolor\":\"#E5ECF6\",\"gridcolor\":\"white\",\"gridwidth\":2,\"linecolor\":\"white\",\"showbackground\":true,\"ticks\":\"\",\"zerolinecolor\":\"white\"}},\"shapedefaults\":{\"line\":{\"color\":\"#2a3f5f\"}},\"ternary\":{\"aaxis\":{\"gridcolor\":\"white\",\"linecolor\":\"white\",\"ticks\":\"\"},\"baxis\":{\"gridcolor\":\"white\",\"linecolor\":\"white\",\"ticks\":\"\"},\"bgcolor\":\"#E5ECF6\",\"caxis\":{\"gridcolor\":\"white\",\"linecolor\":\"white\",\"ticks\":\"\"}},\"title\":{\"x\":0.05},\"xaxis\":{\"automargin\":true,\"gridcolor\":\"white\",\"linecolor\":\"white\",\"ticks\":\"\",\"title\":{\"standoff\":15},\"zerolinecolor\":\"white\",\"zerolinewidth\":2},\"yaxis\":{\"automargin\":true,\"gridcolor\":\"white\",\"linecolor\":\"white\",\"ticks\":\"\",\"title\":{\"standoff\":15},\"zerolinecolor\":\"white\",\"zerolinewidth\":2}}},\"xaxis\":{\"anchor\":\"y\",\"domain\":[0.0,1.0],\"title\":{\"text\":\"x\"}},\"yaxis\":{\"anchor\":\"x\",\"domain\":[0.0,1.0],\"title\":{\"text\":\"y\"}},\"legend\":{\"tracegroupgap\":0},\"margin\":{\"t\":60}},                        {\"responsive\": true}                    ).then(function(){\n",
              "                            \n",
              "var gd = document.getElementById('bb1a35b5-73d9-4389-95a2-5464d3e6a9e6');\n",
              "var x = new MutationObserver(function (mutations, observer) {{\n",
              "        var display = window.getComputedStyle(gd).display;\n",
              "        if (!display || display === 'none') {{\n",
              "            console.log([gd, 'removed!']);\n",
              "            Plotly.purge(gd);\n",
              "            observer.disconnect();\n",
              "        }}\n",
              "}});\n",
              "\n",
              "// Listen for the removal of the full notebook cells\n",
              "var notebookContainer = gd.closest('#notebook-container');\n",
              "if (notebookContainer) {{\n",
              "    x.observe(notebookContainer, {childList: true});\n",
              "}}\n",
              "\n",
              "// Listen for the clearing of the current output cell\n",
              "var outputEl = gd.closest('.output');\n",
              "if (outputEl) {{\n",
              "    x.observe(outputEl, {childList: true});\n",
              "}}\n",
              "\n",
              "                        })                };                            </script>        </div>\n",
              "</body>\n",
              "</html>"
            ]
          },
          "metadata": {}
        }
      ]
    },
    {
      "cell_type": "code",
      "source": [
        "# x and y given as DataFrame columns\n",
        "import plotly.express as px\n",
        "df = px.data.iris() # iris is a pandas DataFrame\n",
        "fig = px.scatter(df, x=\"sepal_width\", y=\"sepal_length\")\n",
        "fig.show()"
      ],
      "metadata": {
        "colab": {
          "base_uri": "https://localhost:8080/",
          "height": 542
        },
        "id": "Ej8PmQ40wWxH",
        "outputId": "61d31550-e6c3-4608-add8-684d14e2422e"
      },
      "execution_count": null,
      "outputs": [
        {
          "output_type": "display_data",
          "data": {
            "text/html": [
              "<html>\n",
              "<head><meta charset=\"utf-8\" /></head>\n",
              "<body>\n",
              "    <div>            <script src=\"https://cdnjs.cloudflare.com/ajax/libs/mathjax/2.7.5/MathJax.js?config=TeX-AMS-MML_SVG\"></script><script type=\"text/javascript\">if (window.MathJax) {MathJax.Hub.Config({SVG: {font: \"STIX-Web\"}});}</script>                <script type=\"text/javascript\">window.PlotlyConfig = {MathJaxConfig: 'local'};</script>\n",
              "        <script src=\"https://cdn.plot.ly/plotly-2.8.3.min.js\"></script>                <div id=\"71e3c6ee-75bc-4386-ac8f-d307dbfb714f\" class=\"plotly-graph-div\" style=\"height:525px; width:100%;\"></div>            <script type=\"text/javascript\">                                    window.PLOTLYENV=window.PLOTLYENV || {};                                    if (document.getElementById(\"71e3c6ee-75bc-4386-ac8f-d307dbfb714f\")) {                    Plotly.newPlot(                        \"71e3c6ee-75bc-4386-ac8f-d307dbfb714f\",                        [{\"hovertemplate\":\"sepal_width=%{x}<br>sepal_length=%{y}<extra></extra>\",\"legendgroup\":\"\",\"marker\":{\"color\":\"#636efa\",\"symbol\":\"circle\"},\"mode\":\"markers\",\"name\":\"\",\"orientation\":\"v\",\"showlegend\":false,\"x\":[3.5,3.0,3.2,3.1,3.6,3.9,3.4,3.4,2.9,3.1,3.7,3.4,3.0,3.0,4.0,4.4,3.9,3.5,3.8,3.8,3.4,3.7,3.6,3.3,3.4,3.0,3.4,3.5,3.4,3.2,3.1,3.4,4.1,4.2,3.1,3.2,3.5,3.1,3.0,3.4,3.5,2.3,3.2,3.5,3.8,3.0,3.8,3.2,3.7,3.3,3.2,3.2,3.1,2.3,2.8,2.8,3.3,2.4,2.9,2.7,2.0,3.0,2.2,2.9,2.9,3.1,3.0,2.7,2.2,2.5,3.2,2.8,2.5,2.8,2.9,3.0,2.8,3.0,2.9,2.6,2.4,2.4,2.7,2.7,3.0,3.4,3.1,2.3,3.0,2.5,2.6,3.0,2.6,2.3,2.7,3.0,2.9,2.9,2.5,2.8,3.3,2.7,3.0,2.9,3.0,3.0,2.5,2.9,2.5,3.6,3.2,2.7,3.0,2.5,2.8,3.2,3.0,3.8,2.6,2.2,3.2,2.8,2.8,2.7,3.3,3.2,2.8,3.0,2.8,3.0,2.8,3.8,2.8,2.8,2.6,3.0,3.4,3.1,3.0,3.1,3.1,3.1,2.7,3.2,3.3,3.0,2.5,3.0,3.4,3.0],\"xaxis\":\"x\",\"y\":[5.1,4.9,4.7,4.6,5.0,5.4,4.6,5.0,4.4,4.9,5.4,4.8,4.8,4.3,5.8,5.7,5.4,5.1,5.7,5.1,5.4,5.1,4.6,5.1,4.8,5.0,5.0,5.2,5.2,4.7,4.8,5.4,5.2,5.5,4.9,5.0,5.5,4.9,4.4,5.1,5.0,4.5,4.4,5.0,5.1,4.8,5.1,4.6,5.3,5.0,7.0,6.4,6.9,5.5,6.5,5.7,6.3,4.9,6.6,5.2,5.0,5.9,6.0,6.1,5.6,6.7,5.6,5.8,6.2,5.6,5.9,6.1,6.3,6.1,6.4,6.6,6.8,6.7,6.0,5.7,5.5,5.5,5.8,6.0,5.4,6.0,6.7,6.3,5.6,5.5,5.5,6.1,5.8,5.0,5.6,5.7,5.7,6.2,5.1,5.7,6.3,5.8,7.1,6.3,6.5,7.6,4.9,7.3,6.7,7.2,6.5,6.4,6.8,5.7,5.8,6.4,6.5,7.7,7.7,6.0,6.9,5.6,7.7,6.3,6.7,7.2,6.2,6.1,6.4,7.2,7.4,7.9,6.4,6.3,6.1,7.7,6.3,6.4,6.0,6.9,6.7,6.9,5.8,6.8,6.7,6.7,6.3,6.5,6.2,5.9],\"yaxis\":\"y\",\"type\":\"scatter\"}],                        {\"template\":{\"data\":{\"bar\":[{\"error_x\":{\"color\":\"#2a3f5f\"},\"error_y\":{\"color\":\"#2a3f5f\"},\"marker\":{\"line\":{\"color\":\"#E5ECF6\",\"width\":0.5},\"pattern\":{\"fillmode\":\"overlay\",\"size\":10,\"solidity\":0.2}},\"type\":\"bar\"}],\"barpolar\":[{\"marker\":{\"line\":{\"color\":\"#E5ECF6\",\"width\":0.5},\"pattern\":{\"fillmode\":\"overlay\",\"size\":10,\"solidity\":0.2}},\"type\":\"barpolar\"}],\"carpet\":[{\"aaxis\":{\"endlinecolor\":\"#2a3f5f\",\"gridcolor\":\"white\",\"linecolor\":\"white\",\"minorgridcolor\":\"white\",\"startlinecolor\":\"#2a3f5f\"},\"baxis\":{\"endlinecolor\":\"#2a3f5f\",\"gridcolor\":\"white\",\"linecolor\":\"white\",\"minorgridcolor\":\"white\",\"startlinecolor\":\"#2a3f5f\"},\"type\":\"carpet\"}],\"choropleth\":[{\"colorbar\":{\"outlinewidth\":0,\"ticks\":\"\"},\"type\":\"choropleth\"}],\"contour\":[{\"colorbar\":{\"outlinewidth\":0,\"ticks\":\"\"},\"colorscale\":[[0.0,\"#0d0887\"],[0.1111111111111111,\"#46039f\"],[0.2222222222222222,\"#7201a8\"],[0.3333333333333333,\"#9c179e\"],[0.4444444444444444,\"#bd3786\"],[0.5555555555555556,\"#d8576b\"],[0.6666666666666666,\"#ed7953\"],[0.7777777777777778,\"#fb9f3a\"],[0.8888888888888888,\"#fdca26\"],[1.0,\"#f0f921\"]],\"type\":\"contour\"}],\"contourcarpet\":[{\"colorbar\":{\"outlinewidth\":0,\"ticks\":\"\"},\"type\":\"contourcarpet\"}],\"heatmap\":[{\"colorbar\":{\"outlinewidth\":0,\"ticks\":\"\"},\"colorscale\":[[0.0,\"#0d0887\"],[0.1111111111111111,\"#46039f\"],[0.2222222222222222,\"#7201a8\"],[0.3333333333333333,\"#9c179e\"],[0.4444444444444444,\"#bd3786\"],[0.5555555555555556,\"#d8576b\"],[0.6666666666666666,\"#ed7953\"],[0.7777777777777778,\"#fb9f3a\"],[0.8888888888888888,\"#fdca26\"],[1.0,\"#f0f921\"]],\"type\":\"heatmap\"}],\"heatmapgl\":[{\"colorbar\":{\"outlinewidth\":0,\"ticks\":\"\"},\"colorscale\":[[0.0,\"#0d0887\"],[0.1111111111111111,\"#46039f\"],[0.2222222222222222,\"#7201a8\"],[0.3333333333333333,\"#9c179e\"],[0.4444444444444444,\"#bd3786\"],[0.5555555555555556,\"#d8576b\"],[0.6666666666666666,\"#ed7953\"],[0.7777777777777778,\"#fb9f3a\"],[0.8888888888888888,\"#fdca26\"],[1.0,\"#f0f921\"]],\"type\":\"heatmapgl\"}],\"histogram\":[{\"marker\":{\"pattern\":{\"fillmode\":\"overlay\",\"size\":10,\"solidity\":0.2}},\"type\":\"histogram\"}],\"histogram2d\":[{\"colorbar\":{\"outlinewidth\":0,\"ticks\":\"\"},\"colorscale\":[[0.0,\"#0d0887\"],[0.1111111111111111,\"#46039f\"],[0.2222222222222222,\"#7201a8\"],[0.3333333333333333,\"#9c179e\"],[0.4444444444444444,\"#bd3786\"],[0.5555555555555556,\"#d8576b\"],[0.6666666666666666,\"#ed7953\"],[0.7777777777777778,\"#fb9f3a\"],[0.8888888888888888,\"#fdca26\"],[1.0,\"#f0f921\"]],\"type\":\"histogram2d\"}],\"histogram2dcontour\":[{\"colorbar\":{\"outlinewidth\":0,\"ticks\":\"\"},\"colorscale\":[[0.0,\"#0d0887\"],[0.1111111111111111,\"#46039f\"],[0.2222222222222222,\"#7201a8\"],[0.3333333333333333,\"#9c179e\"],[0.4444444444444444,\"#bd3786\"],[0.5555555555555556,\"#d8576b\"],[0.6666666666666666,\"#ed7953\"],[0.7777777777777778,\"#fb9f3a\"],[0.8888888888888888,\"#fdca26\"],[1.0,\"#f0f921\"]],\"type\":\"histogram2dcontour\"}],\"mesh3d\":[{\"colorbar\":{\"outlinewidth\":0,\"ticks\":\"\"},\"type\":\"mesh3d\"}],\"parcoords\":[{\"line\":{\"colorbar\":{\"outlinewidth\":0,\"ticks\":\"\"}},\"type\":\"parcoords\"}],\"pie\":[{\"automargin\":true,\"type\":\"pie\"}],\"scatter\":[{\"marker\":{\"colorbar\":{\"outlinewidth\":0,\"ticks\":\"\"}},\"type\":\"scatter\"}],\"scatter3d\":[{\"line\":{\"colorbar\":{\"outlinewidth\":0,\"ticks\":\"\"}},\"marker\":{\"colorbar\":{\"outlinewidth\":0,\"ticks\":\"\"}},\"type\":\"scatter3d\"}],\"scattercarpet\":[{\"marker\":{\"colorbar\":{\"outlinewidth\":0,\"ticks\":\"\"}},\"type\":\"scattercarpet\"}],\"scattergeo\":[{\"marker\":{\"colorbar\":{\"outlinewidth\":0,\"ticks\":\"\"}},\"type\":\"scattergeo\"}],\"scattergl\":[{\"marker\":{\"colorbar\":{\"outlinewidth\":0,\"ticks\":\"\"}},\"type\":\"scattergl\"}],\"scattermapbox\":[{\"marker\":{\"colorbar\":{\"outlinewidth\":0,\"ticks\":\"\"}},\"type\":\"scattermapbox\"}],\"scatterpolar\":[{\"marker\":{\"colorbar\":{\"outlinewidth\":0,\"ticks\":\"\"}},\"type\":\"scatterpolar\"}],\"scatterpolargl\":[{\"marker\":{\"colorbar\":{\"outlinewidth\":0,\"ticks\":\"\"}},\"type\":\"scatterpolargl\"}],\"scatterternary\":[{\"marker\":{\"colorbar\":{\"outlinewidth\":0,\"ticks\":\"\"}},\"type\":\"scatterternary\"}],\"surface\":[{\"colorbar\":{\"outlinewidth\":0,\"ticks\":\"\"},\"colorscale\":[[0.0,\"#0d0887\"],[0.1111111111111111,\"#46039f\"],[0.2222222222222222,\"#7201a8\"],[0.3333333333333333,\"#9c179e\"],[0.4444444444444444,\"#bd3786\"],[0.5555555555555556,\"#d8576b\"],[0.6666666666666666,\"#ed7953\"],[0.7777777777777778,\"#fb9f3a\"],[0.8888888888888888,\"#fdca26\"],[1.0,\"#f0f921\"]],\"type\":\"surface\"}],\"table\":[{\"cells\":{\"fill\":{\"color\":\"#EBF0F8\"},\"line\":{\"color\":\"white\"}},\"header\":{\"fill\":{\"color\":\"#C8D4E3\"},\"line\":{\"color\":\"white\"}},\"type\":\"table\"}]},\"layout\":{\"annotationdefaults\":{\"arrowcolor\":\"#2a3f5f\",\"arrowhead\":0,\"arrowwidth\":1},\"autotypenumbers\":\"strict\",\"coloraxis\":{\"colorbar\":{\"outlinewidth\":0,\"ticks\":\"\"}},\"colorscale\":{\"diverging\":[[0,\"#8e0152\"],[0.1,\"#c51b7d\"],[0.2,\"#de77ae\"],[0.3,\"#f1b6da\"],[0.4,\"#fde0ef\"],[0.5,\"#f7f7f7\"],[0.6,\"#e6f5d0\"],[0.7,\"#b8e186\"],[0.8,\"#7fbc41\"],[0.9,\"#4d9221\"],[1,\"#276419\"]],\"sequential\":[[0.0,\"#0d0887\"],[0.1111111111111111,\"#46039f\"],[0.2222222222222222,\"#7201a8\"],[0.3333333333333333,\"#9c179e\"],[0.4444444444444444,\"#bd3786\"],[0.5555555555555556,\"#d8576b\"],[0.6666666666666666,\"#ed7953\"],[0.7777777777777778,\"#fb9f3a\"],[0.8888888888888888,\"#fdca26\"],[1.0,\"#f0f921\"]],\"sequentialminus\":[[0.0,\"#0d0887\"],[0.1111111111111111,\"#46039f\"],[0.2222222222222222,\"#7201a8\"],[0.3333333333333333,\"#9c179e\"],[0.4444444444444444,\"#bd3786\"],[0.5555555555555556,\"#d8576b\"],[0.6666666666666666,\"#ed7953\"],[0.7777777777777778,\"#fb9f3a\"],[0.8888888888888888,\"#fdca26\"],[1.0,\"#f0f921\"]]},\"colorway\":[\"#636efa\",\"#EF553B\",\"#00cc96\",\"#ab63fa\",\"#FFA15A\",\"#19d3f3\",\"#FF6692\",\"#B6E880\",\"#FF97FF\",\"#FECB52\"],\"font\":{\"color\":\"#2a3f5f\"},\"geo\":{\"bgcolor\":\"white\",\"lakecolor\":\"white\",\"landcolor\":\"#E5ECF6\",\"showlakes\":true,\"showland\":true,\"subunitcolor\":\"white\"},\"hoverlabel\":{\"align\":\"left\"},\"hovermode\":\"closest\",\"mapbox\":{\"style\":\"light\"},\"paper_bgcolor\":\"white\",\"plot_bgcolor\":\"#E5ECF6\",\"polar\":{\"angularaxis\":{\"gridcolor\":\"white\",\"linecolor\":\"white\",\"ticks\":\"\"},\"bgcolor\":\"#E5ECF6\",\"radialaxis\":{\"gridcolor\":\"white\",\"linecolor\":\"white\",\"ticks\":\"\"}},\"scene\":{\"xaxis\":{\"backgroundcolor\":\"#E5ECF6\",\"gridcolor\":\"white\",\"gridwidth\":2,\"linecolor\":\"white\",\"showbackground\":true,\"ticks\":\"\",\"zerolinecolor\":\"white\"},\"yaxis\":{\"backgroundcolor\":\"#E5ECF6\",\"gridcolor\":\"white\",\"gridwidth\":2,\"linecolor\":\"white\",\"showbackground\":true,\"ticks\":\"\",\"zerolinecolor\":\"white\"},\"zaxis\":{\"backgroundcolor\":\"#E5ECF6\",\"gridcolor\":\"white\",\"gridwidth\":2,\"linecolor\":\"white\",\"showbackground\":true,\"ticks\":\"\",\"zerolinecolor\":\"white\"}},\"shapedefaults\":{\"line\":{\"color\":\"#2a3f5f\"}},\"ternary\":{\"aaxis\":{\"gridcolor\":\"white\",\"linecolor\":\"white\",\"ticks\":\"\"},\"baxis\":{\"gridcolor\":\"white\",\"linecolor\":\"white\",\"ticks\":\"\"},\"bgcolor\":\"#E5ECF6\",\"caxis\":{\"gridcolor\":\"white\",\"linecolor\":\"white\",\"ticks\":\"\"}},\"title\":{\"x\":0.05},\"xaxis\":{\"automargin\":true,\"gridcolor\":\"white\",\"linecolor\":\"white\",\"ticks\":\"\",\"title\":{\"standoff\":15},\"zerolinecolor\":\"white\",\"zerolinewidth\":2},\"yaxis\":{\"automargin\":true,\"gridcolor\":\"white\",\"linecolor\":\"white\",\"ticks\":\"\",\"title\":{\"standoff\":15},\"zerolinecolor\":\"white\",\"zerolinewidth\":2}}},\"xaxis\":{\"anchor\":\"y\",\"domain\":[0.0,1.0],\"title\":{\"text\":\"sepal_width\"}},\"yaxis\":{\"anchor\":\"x\",\"domain\":[0.0,1.0],\"title\":{\"text\":\"sepal_length\"}},\"legend\":{\"tracegroupgap\":0},\"margin\":{\"t\":60}},                        {\"responsive\": true}                    ).then(function(){\n",
              "                            \n",
              "var gd = document.getElementById('71e3c6ee-75bc-4386-ac8f-d307dbfb714f');\n",
              "var x = new MutationObserver(function (mutations, observer) {{\n",
              "        var display = window.getComputedStyle(gd).display;\n",
              "        if (!display || display === 'none') {{\n",
              "            console.log([gd, 'removed!']);\n",
              "            Plotly.purge(gd);\n",
              "            observer.disconnect();\n",
              "        }}\n",
              "}});\n",
              "\n",
              "// Listen for the removal of the full notebook cells\n",
              "var notebookContainer = gd.closest('#notebook-container');\n",
              "if (notebookContainer) {{\n",
              "    x.observe(notebookContainer, {childList: true});\n",
              "}}\n",
              "\n",
              "// Listen for the clearing of the current output cell\n",
              "var outputEl = gd.closest('.output');\n",
              "if (outputEl) {{\n",
              "    x.observe(outputEl, {childList: true});\n",
              "}}\n",
              "\n",
              "                        })                };                            </script>        </div>\n",
              "</body>\n",
              "</html>"
            ]
          },
          "metadata": {}
        }
      ]
    },
    {
      "cell_type": "markdown",
      "source": [
        "# Plotly Exercise"
      ],
      "metadata": {
        "id": "__j38QZ8wI2n"
      }
    },
    {
      "cell_type": "markdown",
      "source": [
        "https://colab.research.google.com/drive/1u9UtBFgnJKxroV3h7XJw7JxbPaGuHGlL?usp=sharing"
      ],
      "metadata": {
        "id": "074xRN2agn-H"
      }
    },
    {
      "cell_type": "markdown",
      "source": [
        "Reference\n",
        "- https://pbpython.com/plotly-look.html\n",
        "- https://www.kaggle.com/crawford/80-cereals\n",
        "- http://seaborn.pydata.org/examples/index.html\n"
      ],
      "metadata": {
        "id": "gFJ-tFyegOe4"
      }
    },
    {
      "cell_type": "code",
      "source": [
        "# px.scatter()\n",
        "# px.line()\n",
        "# px.bar()\n",
        "# px.histogram()\n",
        "# px.box()\n",
        "# px.violin()\n",
        "# px.strip()\n",
        "# px.treemap\n",
        "# px.sunburst"
      ],
      "metadata": {
        "id": "oSFF8_UX42In"
      },
      "execution_count": null,
      "outputs": []
    },
    {
      "cell_type": "code",
      "execution_count": null,
      "metadata": {
        "colab": {
          "base_uri": "https://localhost:8080/",
          "height": 206
        },
        "id": "Vc6lXCuXfMJF",
        "outputId": "19f5971e-3c7e-4d71-ff44-570f9700b3de"
      },
      "outputs": [
        {
          "output_type": "execute_result",
          "data": {
            "text/plain": [
              "                        name             mfr  type  calories  protein  fat  \\\n",
              "0                  100% Bran         Nabisco  Cold        70        4    1   \n",
              "1          100% Natural Bran     Quaker Oats  Cold       120        3    5   \n",
              "2                   All-Bran         Kellogs  Cold        70        4    1   \n",
              "3  All-Bran with Extra Fiber         Kellogs  Cold        50        4    0   \n",
              "4             Almond Delight  Ralston Purina  Cold       110        2    2   \n",
              "\n",
              "   sodium  fiber  carbo  sugars  potass  vitamins shelf  weight  cups  rating  \\\n",
              "0     130   10.0    5.0       6     280        25   Top     1.0  0.33   68.40   \n",
              "1      15    2.0    8.0       8     135         0   Top     1.0  1.00   33.98   \n",
              "2     260    9.0    7.0       5     320        25   Top     1.0  0.33   59.43   \n",
              "3     140   14.0    8.0       0     330        25   Top     1.0  0.50   93.70   \n",
              "4     200    1.0   14.0       8      -1        25   Top     1.0  0.75   34.38   \n",
              "\n",
              "   cereal  \n",
              "0       1  \n",
              "1       1  \n",
              "2       1  \n",
              "3       1  \n",
              "4       1  "
            ],
            "text/html": [
              "\n",
              "  <div id=\"df-e114d7db-d9e7-451b-8914-b42c1364678e\">\n",
              "    <div class=\"colab-df-container\">\n",
              "      <div>\n",
              "<style scoped>\n",
              "    .dataframe tbody tr th:only-of-type {\n",
              "        vertical-align: middle;\n",
              "    }\n",
              "\n",
              "    .dataframe tbody tr th {\n",
              "        vertical-align: top;\n",
              "    }\n",
              "\n",
              "    .dataframe thead th {\n",
              "        text-align: right;\n",
              "    }\n",
              "</style>\n",
              "<table border=\"1\" class=\"dataframe\">\n",
              "  <thead>\n",
              "    <tr style=\"text-align: right;\">\n",
              "      <th></th>\n",
              "      <th>name</th>\n",
              "      <th>mfr</th>\n",
              "      <th>type</th>\n",
              "      <th>calories</th>\n",
              "      <th>protein</th>\n",
              "      <th>fat</th>\n",
              "      <th>sodium</th>\n",
              "      <th>fiber</th>\n",
              "      <th>carbo</th>\n",
              "      <th>sugars</th>\n",
              "      <th>potass</th>\n",
              "      <th>vitamins</th>\n",
              "      <th>shelf</th>\n",
              "      <th>weight</th>\n",
              "      <th>cups</th>\n",
              "      <th>rating</th>\n",
              "      <th>cereal</th>\n",
              "    </tr>\n",
              "  </thead>\n",
              "  <tbody>\n",
              "    <tr>\n",
              "      <th>0</th>\n",
              "      <td>100% Bran</td>\n",
              "      <td>Nabisco</td>\n",
              "      <td>Cold</td>\n",
              "      <td>70</td>\n",
              "      <td>4</td>\n",
              "      <td>1</td>\n",
              "      <td>130</td>\n",
              "      <td>10.0</td>\n",
              "      <td>5.0</td>\n",
              "      <td>6</td>\n",
              "      <td>280</td>\n",
              "      <td>25</td>\n",
              "      <td>Top</td>\n",
              "      <td>1.0</td>\n",
              "      <td>0.33</td>\n",
              "      <td>68.40</td>\n",
              "      <td>1</td>\n",
              "    </tr>\n",
              "    <tr>\n",
              "      <th>1</th>\n",
              "      <td>100% Natural Bran</td>\n",
              "      <td>Quaker Oats</td>\n",
              "      <td>Cold</td>\n",
              "      <td>120</td>\n",
              "      <td>3</td>\n",
              "      <td>5</td>\n",
              "      <td>15</td>\n",
              "      <td>2.0</td>\n",
              "      <td>8.0</td>\n",
              "      <td>8</td>\n",
              "      <td>135</td>\n",
              "      <td>0</td>\n",
              "      <td>Top</td>\n",
              "      <td>1.0</td>\n",
              "      <td>1.00</td>\n",
              "      <td>33.98</td>\n",
              "      <td>1</td>\n",
              "    </tr>\n",
              "    <tr>\n",
              "      <th>2</th>\n",
              "      <td>All-Bran</td>\n",
              "      <td>Kellogs</td>\n",
              "      <td>Cold</td>\n",
              "      <td>70</td>\n",
              "      <td>4</td>\n",
              "      <td>1</td>\n",
              "      <td>260</td>\n",
              "      <td>9.0</td>\n",
              "      <td>7.0</td>\n",
              "      <td>5</td>\n",
              "      <td>320</td>\n",
              "      <td>25</td>\n",
              "      <td>Top</td>\n",
              "      <td>1.0</td>\n",
              "      <td>0.33</td>\n",
              "      <td>59.43</td>\n",
              "      <td>1</td>\n",
              "    </tr>\n",
              "    <tr>\n",
              "      <th>3</th>\n",
              "      <td>All-Bran with Extra Fiber</td>\n",
              "      <td>Kellogs</td>\n",
              "      <td>Cold</td>\n",
              "      <td>50</td>\n",
              "      <td>4</td>\n",
              "      <td>0</td>\n",
              "      <td>140</td>\n",
              "      <td>14.0</td>\n",
              "      <td>8.0</td>\n",
              "      <td>0</td>\n",
              "      <td>330</td>\n",
              "      <td>25</td>\n",
              "      <td>Top</td>\n",
              "      <td>1.0</td>\n",
              "      <td>0.50</td>\n",
              "      <td>93.70</td>\n",
              "      <td>1</td>\n",
              "    </tr>\n",
              "    <tr>\n",
              "      <th>4</th>\n",
              "      <td>Almond Delight</td>\n",
              "      <td>Ralston Purina</td>\n",
              "      <td>Cold</td>\n",
              "      <td>110</td>\n",
              "      <td>2</td>\n",
              "      <td>2</td>\n",
              "      <td>200</td>\n",
              "      <td>1.0</td>\n",
              "      <td>14.0</td>\n",
              "      <td>8</td>\n",
              "      <td>-1</td>\n",
              "      <td>25</td>\n",
              "      <td>Top</td>\n",
              "      <td>1.0</td>\n",
              "      <td>0.75</td>\n",
              "      <td>34.38</td>\n",
              "      <td>1</td>\n",
              "    </tr>\n",
              "  </tbody>\n",
              "</table>\n",
              "</div>\n",
              "      <button class=\"colab-df-convert\" onclick=\"convertToInteractive('df-e114d7db-d9e7-451b-8914-b42c1364678e')\"\n",
              "              title=\"Convert this dataframe to an interactive table.\"\n",
              "              style=\"display:none;\">\n",
              "        \n",
              "  <svg xmlns=\"http://www.w3.org/2000/svg\" height=\"24px\"viewBox=\"0 0 24 24\"\n",
              "       width=\"24px\">\n",
              "    <path d=\"M0 0h24v24H0V0z\" fill=\"none\"/>\n",
              "    <path d=\"M18.56 5.44l.94 2.06.94-2.06 2.06-.94-2.06-.94-.94-2.06-.94 2.06-2.06.94zm-11 1L8.5 8.5l.94-2.06 2.06-.94-2.06-.94L8.5 2.5l-.94 2.06-2.06.94zm10 10l.94 2.06.94-2.06 2.06-.94-2.06-.94-.94-2.06-.94 2.06-2.06.94z\"/><path d=\"M17.41 7.96l-1.37-1.37c-.4-.4-.92-.59-1.43-.59-.52 0-1.04.2-1.43.59L10.3 9.45l-7.72 7.72c-.78.78-.78 2.05 0 2.83L4 21.41c.39.39.9.59 1.41.59.51 0 1.02-.2 1.41-.59l7.78-7.78 2.81-2.81c.8-.78.8-2.07 0-2.86zM5.41 20L4 18.59l7.72-7.72 1.47 1.35L5.41 20z\"/>\n",
              "  </svg>\n",
              "      </button>\n",
              "      \n",
              "  <style>\n",
              "    .colab-df-container {\n",
              "      display:flex;\n",
              "      flex-wrap:wrap;\n",
              "      gap: 12px;\n",
              "    }\n",
              "\n",
              "    .colab-df-convert {\n",
              "      background-color: #E8F0FE;\n",
              "      border: none;\n",
              "      border-radius: 50%;\n",
              "      cursor: pointer;\n",
              "      display: none;\n",
              "      fill: #1967D2;\n",
              "      height: 32px;\n",
              "      padding: 0 0 0 0;\n",
              "      width: 32px;\n",
              "    }\n",
              "\n",
              "    .colab-df-convert:hover {\n",
              "      background-color: #E2EBFA;\n",
              "      box-shadow: 0px 1px 2px rgba(60, 64, 67, 0.3), 0px 1px 3px 1px rgba(60, 64, 67, 0.15);\n",
              "      fill: #174EA6;\n",
              "    }\n",
              "\n",
              "    [theme=dark] .colab-df-convert {\n",
              "      background-color: #3B4455;\n",
              "      fill: #D2E3FC;\n",
              "    }\n",
              "\n",
              "    [theme=dark] .colab-df-convert:hover {\n",
              "      background-color: #434B5C;\n",
              "      box-shadow: 0px 1px 3px 1px rgba(0, 0, 0, 0.15);\n",
              "      filter: drop-shadow(0px 1px 2px rgba(0, 0, 0, 0.3));\n",
              "      fill: #FFFFFF;\n",
              "    }\n",
              "  </style>\n",
              "\n",
              "      <script>\n",
              "        const buttonEl =\n",
              "          document.querySelector('#df-e114d7db-d9e7-451b-8914-b42c1364678e button.colab-df-convert');\n",
              "        buttonEl.style.display =\n",
              "          google.colab.kernel.accessAllowed ? 'block' : 'none';\n",
              "\n",
              "        async function convertToInteractive(key) {\n",
              "          const element = document.querySelector('#df-e114d7db-d9e7-451b-8914-b42c1364678e');\n",
              "          const dataTable =\n",
              "            await google.colab.kernel.invokeFunction('convertToInteractive',\n",
              "                                                     [key], {});\n",
              "          if (!dataTable) return;\n",
              "\n",
              "          const docLinkHtml = 'Like what you see? Visit the ' +\n",
              "            '<a target=\"_blank\" href=https://colab.research.google.com/notebooks/data_table.ipynb>data table notebook</a>'\n",
              "            + ' to learn more about interactive tables.';\n",
              "          element.innerHTML = '';\n",
              "          dataTable['output_type'] = 'display_data';\n",
              "          await google.colab.output.renderOutput(dataTable, element);\n",
              "          const docLink = document.createElement('div');\n",
              "          docLink.innerHTML = docLinkHtml;\n",
              "          element.appendChild(docLink);\n",
              "        }\n",
              "      </script>\n",
              "    </div>\n",
              "  </div>\n",
              "  "
            ]
          },
          "metadata": {},
          "execution_count": 1
        }
      ],
      "source": [
        "import pandas as pd\n",
        "import plotly.express as px\n",
        "\n",
        "df = pd.read_csv('https://github.com/chris1610/pbpython/blob/master/data/cereal_data.csv?raw=True')\n",
        "df.head()"
      ]
    },
    {
      "cell_type": "code",
      "source": [
        "df.shape"
      ],
      "metadata": {
        "colab": {
          "base_uri": "https://localhost:8080/"
        },
        "id": "b3ZVpXUZ5pV4",
        "outputId": "19df7ff6-6a51-4c4e-a3d4-220d7c340e0c"
      },
      "execution_count": null,
      "outputs": [
        {
          "output_type": "execute_result",
          "data": {
            "text/plain": [
              "(77, 17)"
            ]
          },
          "metadata": {},
          "execution_count": 3
        }
      ]
    },
    {
      "cell_type": "code",
      "source": [
        "fig = px.scatter(df,\n",
        "                x='sugars',\n",
        "                y='rating',\n",
        "                hover_name='name',\n",
        "                title='Cereal ratings vs. sugars')\n",
        "fig.show()"
      ],
      "metadata": {
        "colab": {
          "base_uri": "https://localhost:8080/",
          "height": 542
        },
        "id": "deXHuGcOgSrt",
        "outputId": "9ebd4cf5-293d-495d-882d-055308160f2c"
      },
      "execution_count": null,
      "outputs": [
        {
          "output_type": "display_data",
          "data": {
            "text/html": [
              "<html>\n",
              "<head><meta charset=\"utf-8\" /></head>\n",
              "<body>\n",
              "    <div>            <script src=\"https://cdnjs.cloudflare.com/ajax/libs/mathjax/2.7.5/MathJax.js?config=TeX-AMS-MML_SVG\"></script><script type=\"text/javascript\">if (window.MathJax) {MathJax.Hub.Config({SVG: {font: \"STIX-Web\"}});}</script>                <script type=\"text/javascript\">window.PlotlyConfig = {MathJaxConfig: 'local'};</script>\n",
              "        <script src=\"https://cdn.plot.ly/plotly-2.8.3.min.js\"></script>                <div id=\"06b4b725-659d-4444-8a48-8774648270ff\" class=\"plotly-graph-div\" style=\"height:525px; width:100%;\"></div>            <script type=\"text/javascript\">                                    window.PLOTLYENV=window.PLOTLYENV || {};                                    if (document.getElementById(\"06b4b725-659d-4444-8a48-8774648270ff\")) {                    Plotly.newPlot(                        \"06b4b725-659d-4444-8a48-8774648270ff\",                        [{\"hovertemplate\":\"<b>%{hovertext}</b><br><br>sugars=%{x}<br>rating=%{y}<extra></extra>\",\"hovertext\":[\"100% Bran\",\"100% Natural Bran\",\"All-Bran\",\"All-Bran with Extra Fiber\",\"Almond Delight\",\"Apple Cinnamon Cheerios\",\"Apple Jacks\",\"Basic 4\",\"Bran Chex\",\"Bran Flakes\",\"Cap'n'Crunch\",\"Cheerios\",\"Cinnamon Toast Crunch\",\"Clusters\",\"Cocoa Puffs\",\"Corn Chex\",\"Corn Flakes\",\"Corn Pops\",\"Count Chocula\",\"Cracklin' Oat Bran\",\"Cream of Wheat (Quick)\",\"Crispix\",\"Crispy Wheat & Raisins\",\"Double Chex\",\"Froot Loops\",\"Frosted Flakes\",\"Frosted Mini-Wheats\",\"Fruit & Fibre Dates, Walnuts, and Oats\",\"Fruitful Bran\",\"Fruity Pebbles\",\"Golden Crisp\",\"Golden Grahams\",\"Grape Nuts Flakes\",\"Grape-Nuts\",\"Great Grains Pecan\",\"Honey Graham Ohs\",\"Honey Nut Cheerios\",\"Honey-comb\",\"Just Right Crunchy  Nuggets\",\"Just Right Fruit & Nut\",\"Kix\",\"Life\",\"Lucky Charms\",\"Maypo\",\"Muesli Raisins, Dates, & Almonds\",\"Muesli Raisins, Peaches, & Pecans\",\"Mueslix Crispy Blend\",\"Multi-Grain Cheerios\",\"Nut&Honey Crunch\",\"Nutri-Grain Almond-Raisin\",\"Nutri-grain Wheat\",\"Oatmeal Raisin Crisp\",\"Post Nat. Raisin Bran\",\"Product 19\",\"Puffed Rice\",\"Puffed Wheat\",\"Quaker Oat Squares\",\"Quaker Oatmeal\",\"Raisin Bran\",\"Raisin Nut Bran\",\"Raisin Squares\",\"Rice Chex\",\"Rice Krispies\",\"Shredded Wheat\",\"Shredded Wheat 'n'Bran\",\"Shredded Wheat spoon size\",\"Smacks\",\"Special K\",\"Strawberry Fruit Wheats\",\"Total Corn Flakes\",\"Total Raisin Bran\",\"Total Whole Grain\",\"Triples\",\"Trix\",\"Wheat Chex\",\"Wheaties\",\"Wheaties Honey Gold\"],\"legendgroup\":\"\",\"marker\":{\"color\":\"#636efa\",\"symbol\":\"circle\"},\"mode\":\"markers\",\"name\":\"\",\"orientation\":\"v\",\"showlegend\":false,\"x\":[6,8,5,0,8,10,14,8,6,5,12,1,9,7,13,3,2,12,13,7,0,3,10,5,13,11,7,10,12,12,15,9,5,3,4,11,10,11,6,9,3,6,12,3,11,11,13,6,9,7,2,10,14,3,0,0,6,-1,12,8,6,2,3,0,0,0,15,3,5,3,14,3,3,12,3,3,8],\"xaxis\":\"x\",\"y\":[68.4,33.98,59.43,93.7,34.38,29.51,33.17,37.04,49.12,53.31,18.04,50.76,19.82,40.4,22.74,41.45,45.86,35.78,22.4,40.45,64.53,46.9,36.18,44.33,32.21,31.44,58.35,40.92,41.02,28.03,35.25,23.8,52.08,53.37,45.81,21.87,31.07,28.74,36.52,36.47,39.24,45.33,26.73,54.85,37.14,34.14,30.31,40.11,29.92,40.69,59.64,30.45,37.84,41.5,60.76,63.01,49.51,50.83,39.26,39.7,55.33,42.0,40.56,68.24,74.47,72.8,31.23,53.13,59.36,38.84,28.59,46.66,39.11,27.75,49.79,51.59,36.19],\"yaxis\":\"y\",\"type\":\"scatter\"}],                        {\"template\":{\"data\":{\"bar\":[{\"error_x\":{\"color\":\"#2a3f5f\"},\"error_y\":{\"color\":\"#2a3f5f\"},\"marker\":{\"line\":{\"color\":\"#E5ECF6\",\"width\":0.5},\"pattern\":{\"fillmode\":\"overlay\",\"size\":10,\"solidity\":0.2}},\"type\":\"bar\"}],\"barpolar\":[{\"marker\":{\"line\":{\"color\":\"#E5ECF6\",\"width\":0.5},\"pattern\":{\"fillmode\":\"overlay\",\"size\":10,\"solidity\":0.2}},\"type\":\"barpolar\"}],\"carpet\":[{\"aaxis\":{\"endlinecolor\":\"#2a3f5f\",\"gridcolor\":\"white\",\"linecolor\":\"white\",\"minorgridcolor\":\"white\",\"startlinecolor\":\"#2a3f5f\"},\"baxis\":{\"endlinecolor\":\"#2a3f5f\",\"gridcolor\":\"white\",\"linecolor\":\"white\",\"minorgridcolor\":\"white\",\"startlinecolor\":\"#2a3f5f\"},\"type\":\"carpet\"}],\"choropleth\":[{\"colorbar\":{\"outlinewidth\":0,\"ticks\":\"\"},\"type\":\"choropleth\"}],\"contour\":[{\"colorbar\":{\"outlinewidth\":0,\"ticks\":\"\"},\"colorscale\":[[0.0,\"#0d0887\"],[0.1111111111111111,\"#46039f\"],[0.2222222222222222,\"#7201a8\"],[0.3333333333333333,\"#9c179e\"],[0.4444444444444444,\"#bd3786\"],[0.5555555555555556,\"#d8576b\"],[0.6666666666666666,\"#ed7953\"],[0.7777777777777778,\"#fb9f3a\"],[0.8888888888888888,\"#fdca26\"],[1.0,\"#f0f921\"]],\"type\":\"contour\"}],\"contourcarpet\":[{\"colorbar\":{\"outlinewidth\":0,\"ticks\":\"\"},\"type\":\"contourcarpet\"}],\"heatmap\":[{\"colorbar\":{\"outlinewidth\":0,\"ticks\":\"\"},\"colorscale\":[[0.0,\"#0d0887\"],[0.1111111111111111,\"#46039f\"],[0.2222222222222222,\"#7201a8\"],[0.3333333333333333,\"#9c179e\"],[0.4444444444444444,\"#bd3786\"],[0.5555555555555556,\"#d8576b\"],[0.6666666666666666,\"#ed7953\"],[0.7777777777777778,\"#fb9f3a\"],[0.8888888888888888,\"#fdca26\"],[1.0,\"#f0f921\"]],\"type\":\"heatmap\"}],\"heatmapgl\":[{\"colorbar\":{\"outlinewidth\":0,\"ticks\":\"\"},\"colorscale\":[[0.0,\"#0d0887\"],[0.1111111111111111,\"#46039f\"],[0.2222222222222222,\"#7201a8\"],[0.3333333333333333,\"#9c179e\"],[0.4444444444444444,\"#bd3786\"],[0.5555555555555556,\"#d8576b\"],[0.6666666666666666,\"#ed7953\"],[0.7777777777777778,\"#fb9f3a\"],[0.8888888888888888,\"#fdca26\"],[1.0,\"#f0f921\"]],\"type\":\"heatmapgl\"}],\"histogram\":[{\"marker\":{\"pattern\":{\"fillmode\":\"overlay\",\"size\":10,\"solidity\":0.2}},\"type\":\"histogram\"}],\"histogram2d\":[{\"colorbar\":{\"outlinewidth\":0,\"ticks\":\"\"},\"colorscale\":[[0.0,\"#0d0887\"],[0.1111111111111111,\"#46039f\"],[0.2222222222222222,\"#7201a8\"],[0.3333333333333333,\"#9c179e\"],[0.4444444444444444,\"#bd3786\"],[0.5555555555555556,\"#d8576b\"],[0.6666666666666666,\"#ed7953\"],[0.7777777777777778,\"#fb9f3a\"],[0.8888888888888888,\"#fdca26\"],[1.0,\"#f0f921\"]],\"type\":\"histogram2d\"}],\"histogram2dcontour\":[{\"colorbar\":{\"outlinewidth\":0,\"ticks\":\"\"},\"colorscale\":[[0.0,\"#0d0887\"],[0.1111111111111111,\"#46039f\"],[0.2222222222222222,\"#7201a8\"],[0.3333333333333333,\"#9c179e\"],[0.4444444444444444,\"#bd3786\"],[0.5555555555555556,\"#d8576b\"],[0.6666666666666666,\"#ed7953\"],[0.7777777777777778,\"#fb9f3a\"],[0.8888888888888888,\"#fdca26\"],[1.0,\"#f0f921\"]],\"type\":\"histogram2dcontour\"}],\"mesh3d\":[{\"colorbar\":{\"outlinewidth\":0,\"ticks\":\"\"},\"type\":\"mesh3d\"}],\"parcoords\":[{\"line\":{\"colorbar\":{\"outlinewidth\":0,\"ticks\":\"\"}},\"type\":\"parcoords\"}],\"pie\":[{\"automargin\":true,\"type\":\"pie\"}],\"scatter\":[{\"marker\":{\"colorbar\":{\"outlinewidth\":0,\"ticks\":\"\"}},\"type\":\"scatter\"}],\"scatter3d\":[{\"line\":{\"colorbar\":{\"outlinewidth\":0,\"ticks\":\"\"}},\"marker\":{\"colorbar\":{\"outlinewidth\":0,\"ticks\":\"\"}},\"type\":\"scatter3d\"}],\"scattercarpet\":[{\"marker\":{\"colorbar\":{\"outlinewidth\":0,\"ticks\":\"\"}},\"type\":\"scattercarpet\"}],\"scattergeo\":[{\"marker\":{\"colorbar\":{\"outlinewidth\":0,\"ticks\":\"\"}},\"type\":\"scattergeo\"}],\"scattergl\":[{\"marker\":{\"colorbar\":{\"outlinewidth\":0,\"ticks\":\"\"}},\"type\":\"scattergl\"}],\"scattermapbox\":[{\"marker\":{\"colorbar\":{\"outlinewidth\":0,\"ticks\":\"\"}},\"type\":\"scattermapbox\"}],\"scatterpolar\":[{\"marker\":{\"colorbar\":{\"outlinewidth\":0,\"ticks\":\"\"}},\"type\":\"scatterpolar\"}],\"scatterpolargl\":[{\"marker\":{\"colorbar\":{\"outlinewidth\":0,\"ticks\":\"\"}},\"type\":\"scatterpolargl\"}],\"scatterternary\":[{\"marker\":{\"colorbar\":{\"outlinewidth\":0,\"ticks\":\"\"}},\"type\":\"scatterternary\"}],\"surface\":[{\"colorbar\":{\"outlinewidth\":0,\"ticks\":\"\"},\"colorscale\":[[0.0,\"#0d0887\"],[0.1111111111111111,\"#46039f\"],[0.2222222222222222,\"#7201a8\"],[0.3333333333333333,\"#9c179e\"],[0.4444444444444444,\"#bd3786\"],[0.5555555555555556,\"#d8576b\"],[0.6666666666666666,\"#ed7953\"],[0.7777777777777778,\"#fb9f3a\"],[0.8888888888888888,\"#fdca26\"],[1.0,\"#f0f921\"]],\"type\":\"surface\"}],\"table\":[{\"cells\":{\"fill\":{\"color\":\"#EBF0F8\"},\"line\":{\"color\":\"white\"}},\"header\":{\"fill\":{\"color\":\"#C8D4E3\"},\"line\":{\"color\":\"white\"}},\"type\":\"table\"}]},\"layout\":{\"annotationdefaults\":{\"arrowcolor\":\"#2a3f5f\",\"arrowhead\":0,\"arrowwidth\":1},\"autotypenumbers\":\"strict\",\"coloraxis\":{\"colorbar\":{\"outlinewidth\":0,\"ticks\":\"\"}},\"colorscale\":{\"diverging\":[[0,\"#8e0152\"],[0.1,\"#c51b7d\"],[0.2,\"#de77ae\"],[0.3,\"#f1b6da\"],[0.4,\"#fde0ef\"],[0.5,\"#f7f7f7\"],[0.6,\"#e6f5d0\"],[0.7,\"#b8e186\"],[0.8,\"#7fbc41\"],[0.9,\"#4d9221\"],[1,\"#276419\"]],\"sequential\":[[0.0,\"#0d0887\"],[0.1111111111111111,\"#46039f\"],[0.2222222222222222,\"#7201a8\"],[0.3333333333333333,\"#9c179e\"],[0.4444444444444444,\"#bd3786\"],[0.5555555555555556,\"#d8576b\"],[0.6666666666666666,\"#ed7953\"],[0.7777777777777778,\"#fb9f3a\"],[0.8888888888888888,\"#fdca26\"],[1.0,\"#f0f921\"]],\"sequentialminus\":[[0.0,\"#0d0887\"],[0.1111111111111111,\"#46039f\"],[0.2222222222222222,\"#7201a8\"],[0.3333333333333333,\"#9c179e\"],[0.4444444444444444,\"#bd3786\"],[0.5555555555555556,\"#d8576b\"],[0.6666666666666666,\"#ed7953\"],[0.7777777777777778,\"#fb9f3a\"],[0.8888888888888888,\"#fdca26\"],[1.0,\"#f0f921\"]]},\"colorway\":[\"#636efa\",\"#EF553B\",\"#00cc96\",\"#ab63fa\",\"#FFA15A\",\"#19d3f3\",\"#FF6692\",\"#B6E880\",\"#FF97FF\",\"#FECB52\"],\"font\":{\"color\":\"#2a3f5f\"},\"geo\":{\"bgcolor\":\"white\",\"lakecolor\":\"white\",\"landcolor\":\"#E5ECF6\",\"showlakes\":true,\"showland\":true,\"subunitcolor\":\"white\"},\"hoverlabel\":{\"align\":\"left\"},\"hovermode\":\"closest\",\"mapbox\":{\"style\":\"light\"},\"paper_bgcolor\":\"white\",\"plot_bgcolor\":\"#E5ECF6\",\"polar\":{\"angularaxis\":{\"gridcolor\":\"white\",\"linecolor\":\"white\",\"ticks\":\"\"},\"bgcolor\":\"#E5ECF6\",\"radialaxis\":{\"gridcolor\":\"white\",\"linecolor\":\"white\",\"ticks\":\"\"}},\"scene\":{\"xaxis\":{\"backgroundcolor\":\"#E5ECF6\",\"gridcolor\":\"white\",\"gridwidth\":2,\"linecolor\":\"white\",\"showbackground\":true,\"ticks\":\"\",\"zerolinecolor\":\"white\"},\"yaxis\":{\"backgroundcolor\":\"#E5ECF6\",\"gridcolor\":\"white\",\"gridwidth\":2,\"linecolor\":\"white\",\"showbackground\":true,\"ticks\":\"\",\"zerolinecolor\":\"white\"},\"zaxis\":{\"backgroundcolor\":\"#E5ECF6\",\"gridcolor\":\"white\",\"gridwidth\":2,\"linecolor\":\"white\",\"showbackground\":true,\"ticks\":\"\",\"zerolinecolor\":\"white\"}},\"shapedefaults\":{\"line\":{\"color\":\"#2a3f5f\"}},\"ternary\":{\"aaxis\":{\"gridcolor\":\"white\",\"linecolor\":\"white\",\"ticks\":\"\"},\"baxis\":{\"gridcolor\":\"white\",\"linecolor\":\"white\",\"ticks\":\"\"},\"bgcolor\":\"#E5ECF6\",\"caxis\":{\"gridcolor\":\"white\",\"linecolor\":\"white\",\"ticks\":\"\"}},\"title\":{\"x\":0.05},\"xaxis\":{\"automargin\":true,\"gridcolor\":\"white\",\"linecolor\":\"white\",\"ticks\":\"\",\"title\":{\"standoff\":15},\"zerolinecolor\":\"white\",\"zerolinewidth\":2},\"yaxis\":{\"automargin\":true,\"gridcolor\":\"white\",\"linecolor\":\"white\",\"ticks\":\"\",\"title\":{\"standoff\":15},\"zerolinecolor\":\"white\",\"zerolinewidth\":2}}},\"xaxis\":{\"anchor\":\"y\",\"domain\":[0.0,1.0],\"title\":{\"text\":\"sugars\"}},\"yaxis\":{\"anchor\":\"x\",\"domain\":[0.0,1.0],\"title\":{\"text\":\"rating\"}},\"legend\":{\"tracegroupgap\":0},\"title\":{\"text\":\"Cereal ratings vs. sugars\"}},                        {\"responsive\": true}                    ).then(function(){\n",
              "                            \n",
              "var gd = document.getElementById('06b4b725-659d-4444-8a48-8774648270ff');\n",
              "var x = new MutationObserver(function (mutations, observer) {{\n",
              "        var display = window.getComputedStyle(gd).display;\n",
              "        if (!display || display === 'none') {{\n",
              "            console.log([gd, 'removed!']);\n",
              "            Plotly.purge(gd);\n",
              "            observer.disconnect();\n",
              "        }}\n",
              "}});\n",
              "\n",
              "// Listen for the removal of the full notebook cells\n",
              "var notebookContainer = gd.closest('#notebook-container');\n",
              "if (notebookContainer) {{\n",
              "    x.observe(notebookContainer, {childList: true});\n",
              "}}\n",
              "\n",
              "// Listen for the clearing of the current output cell\n",
              "var outputEl = gd.closest('.output');\n",
              "if (outputEl) {{\n",
              "    x.observe(outputEl, {childList: true});\n",
              "}}\n",
              "\n",
              "                        })                };                            </script>        </div>\n",
              "</body>\n",
              "</html>"
            ]
          },
          "metadata": {}
        }
      ]
    },
    {
      "cell_type": "code",
      "source": [
        "# A strip plot is very simple to understand. It is basically a scatter plot that differentiates different categories. So, all the data that corresponds to each category is shown as a scatter plot, and all the observations and collected data that are visualized are shown, side-by-side on a single graph.\n",
        "# better ถ้า เกิด diff category but same value,,, scatter มันจะ plot จุดเดียวกัน ทำให้ distort \\\n",
        "\n",
        "fig = px.strip(df,\n",
        "                x='sugars',\n",
        "                y='rating',\n",
        "                hover_name='name',\n",
        "                title='Cereal ratings vs. sugars')\n",
        "fig.show()\n",
        "\n",
        "# ที่ sugar 3 มัน calories เดียวกัน แต่ต่าง brand ถ้า scatter มันจะ plot ทับเลย แต่ strip ไม่ทับ ... ดีกว่า"
      ],
      "metadata": {
        "colab": {
          "base_uri": "https://localhost:8080/",
          "height": 542
        },
        "id": "JfKriaiwEMnG",
        "outputId": "7814eecf-5a0e-4b2c-f10c-4fcd15e25887"
      },
      "execution_count": null,
      "outputs": [
        {
          "output_type": "display_data",
          "data": {
            "text/html": [
              "<html>\n",
              "<head><meta charset=\"utf-8\" /></head>\n",
              "<body>\n",
              "    <div>            <script src=\"https://cdnjs.cloudflare.com/ajax/libs/mathjax/2.7.5/MathJax.js?config=TeX-AMS-MML_SVG\"></script><script type=\"text/javascript\">if (window.MathJax) {MathJax.Hub.Config({SVG: {font: \"STIX-Web\"}});}</script>                <script type=\"text/javascript\">window.PlotlyConfig = {MathJaxConfig: 'local'};</script>\n",
              "        <script src=\"https://cdn.plot.ly/plotly-2.8.3.min.js\"></script>                <div id=\"c70e79af-d640-4c49-a1d9-ca11bd86efcb\" class=\"plotly-graph-div\" style=\"height:525px; width:100%;\"></div>            <script type=\"text/javascript\">                                    window.PLOTLYENV=window.PLOTLYENV || {};                                    if (document.getElementById(\"c70e79af-d640-4c49-a1d9-ca11bd86efcb\")) {                    Plotly.newPlot(                        \"c70e79af-d640-4c49-a1d9-ca11bd86efcb\",                        [{\"alignmentgroup\":\"True\",\"boxpoints\":\"all\",\"fillcolor\":\"rgba(255,255,255,0)\",\"hoveron\":\"points\",\"hovertemplate\":\"<b>%{hovertext}</b><br><br>sugars=%{x}<br>rating=%{y}<extra></extra>\",\"hovertext\":[\"100% Bran\",\"100% Natural Bran\",\"All-Bran\",\"All-Bran with Extra Fiber\",\"Almond Delight\",\"Apple Cinnamon Cheerios\",\"Apple Jacks\",\"Basic 4\",\"Bran Chex\",\"Bran Flakes\",\"Cap'n'Crunch\",\"Cheerios\",\"Cinnamon Toast Crunch\",\"Clusters\",\"Cocoa Puffs\",\"Corn Chex\",\"Corn Flakes\",\"Corn Pops\",\"Count Chocula\",\"Cracklin' Oat Bran\",\"Cream of Wheat (Quick)\",\"Crispix\",\"Crispy Wheat & Raisins\",\"Double Chex\",\"Froot Loops\",\"Frosted Flakes\",\"Frosted Mini-Wheats\",\"Fruit & Fibre Dates, Walnuts, and Oats\",\"Fruitful Bran\",\"Fruity Pebbles\",\"Golden Crisp\",\"Golden Grahams\",\"Grape Nuts Flakes\",\"Grape-Nuts\",\"Great Grains Pecan\",\"Honey Graham Ohs\",\"Honey Nut Cheerios\",\"Honey-comb\",\"Just Right Crunchy  Nuggets\",\"Just Right Fruit & Nut\",\"Kix\",\"Life\",\"Lucky Charms\",\"Maypo\",\"Muesli Raisins, Dates, & Almonds\",\"Muesli Raisins, Peaches, & Pecans\",\"Mueslix Crispy Blend\",\"Multi-Grain Cheerios\",\"Nut&Honey Crunch\",\"Nutri-Grain Almond-Raisin\",\"Nutri-grain Wheat\",\"Oatmeal Raisin Crisp\",\"Post Nat. Raisin Bran\",\"Product 19\",\"Puffed Rice\",\"Puffed Wheat\",\"Quaker Oat Squares\",\"Quaker Oatmeal\",\"Raisin Bran\",\"Raisin Nut Bran\",\"Raisin Squares\",\"Rice Chex\",\"Rice Krispies\",\"Shredded Wheat\",\"Shredded Wheat 'n'Bran\",\"Shredded Wheat spoon size\",\"Smacks\",\"Special K\",\"Strawberry Fruit Wheats\",\"Total Corn Flakes\",\"Total Raisin Bran\",\"Total Whole Grain\",\"Triples\",\"Trix\",\"Wheat Chex\",\"Wheaties\",\"Wheaties Honey Gold\"],\"legendgroup\":\"\",\"line\":{\"color\":\"rgba(255,255,255,0)\"},\"marker\":{\"color\":\"#636efa\"},\"name\":\"\",\"offsetgroup\":\"\",\"orientation\":\"v\",\"pointpos\":0,\"showlegend\":false,\"x\":[6,8,5,0,8,10,14,8,6,5,12,1,9,7,13,3,2,12,13,7,0,3,10,5,13,11,7,10,12,12,15,9,5,3,4,11,10,11,6,9,3,6,12,3,11,11,13,6,9,7,2,10,14,3,0,0,6,-1,12,8,6,2,3,0,0,0,15,3,5,3,14,3,3,12,3,3,8],\"x0\":\" \",\"xaxis\":\"x\",\"y\":[68.4,33.98,59.43,93.7,34.38,29.51,33.17,37.04,49.12,53.31,18.04,50.76,19.82,40.4,22.74,41.45,45.86,35.78,22.4,40.45,64.53,46.9,36.18,44.33,32.21,31.44,58.35,40.92,41.02,28.03,35.25,23.8,52.08,53.37,45.81,21.87,31.07,28.74,36.52,36.47,39.24,45.33,26.73,54.85,37.14,34.14,30.31,40.11,29.92,40.69,59.64,30.45,37.84,41.5,60.76,63.01,49.51,50.83,39.26,39.7,55.33,42.0,40.56,68.24,74.47,72.8,31.23,53.13,59.36,38.84,28.59,46.66,39.11,27.75,49.79,51.59,36.19],\"y0\":\" \",\"yaxis\":\"y\",\"type\":\"box\"}],                        {\"template\":{\"data\":{\"bar\":[{\"error_x\":{\"color\":\"#2a3f5f\"},\"error_y\":{\"color\":\"#2a3f5f\"},\"marker\":{\"line\":{\"color\":\"#E5ECF6\",\"width\":0.5},\"pattern\":{\"fillmode\":\"overlay\",\"size\":10,\"solidity\":0.2}},\"type\":\"bar\"}],\"barpolar\":[{\"marker\":{\"line\":{\"color\":\"#E5ECF6\",\"width\":0.5},\"pattern\":{\"fillmode\":\"overlay\",\"size\":10,\"solidity\":0.2}},\"type\":\"barpolar\"}],\"carpet\":[{\"aaxis\":{\"endlinecolor\":\"#2a3f5f\",\"gridcolor\":\"white\",\"linecolor\":\"white\",\"minorgridcolor\":\"white\",\"startlinecolor\":\"#2a3f5f\"},\"baxis\":{\"endlinecolor\":\"#2a3f5f\",\"gridcolor\":\"white\",\"linecolor\":\"white\",\"minorgridcolor\":\"white\",\"startlinecolor\":\"#2a3f5f\"},\"type\":\"carpet\"}],\"choropleth\":[{\"colorbar\":{\"outlinewidth\":0,\"ticks\":\"\"},\"type\":\"choropleth\"}],\"contour\":[{\"colorbar\":{\"outlinewidth\":0,\"ticks\":\"\"},\"colorscale\":[[0.0,\"#0d0887\"],[0.1111111111111111,\"#46039f\"],[0.2222222222222222,\"#7201a8\"],[0.3333333333333333,\"#9c179e\"],[0.4444444444444444,\"#bd3786\"],[0.5555555555555556,\"#d8576b\"],[0.6666666666666666,\"#ed7953\"],[0.7777777777777778,\"#fb9f3a\"],[0.8888888888888888,\"#fdca26\"],[1.0,\"#f0f921\"]],\"type\":\"contour\"}],\"contourcarpet\":[{\"colorbar\":{\"outlinewidth\":0,\"ticks\":\"\"},\"type\":\"contourcarpet\"}],\"heatmap\":[{\"colorbar\":{\"outlinewidth\":0,\"ticks\":\"\"},\"colorscale\":[[0.0,\"#0d0887\"],[0.1111111111111111,\"#46039f\"],[0.2222222222222222,\"#7201a8\"],[0.3333333333333333,\"#9c179e\"],[0.4444444444444444,\"#bd3786\"],[0.5555555555555556,\"#d8576b\"],[0.6666666666666666,\"#ed7953\"],[0.7777777777777778,\"#fb9f3a\"],[0.8888888888888888,\"#fdca26\"],[1.0,\"#f0f921\"]],\"type\":\"heatmap\"}],\"heatmapgl\":[{\"colorbar\":{\"outlinewidth\":0,\"ticks\":\"\"},\"colorscale\":[[0.0,\"#0d0887\"],[0.1111111111111111,\"#46039f\"],[0.2222222222222222,\"#7201a8\"],[0.3333333333333333,\"#9c179e\"],[0.4444444444444444,\"#bd3786\"],[0.5555555555555556,\"#d8576b\"],[0.6666666666666666,\"#ed7953\"],[0.7777777777777778,\"#fb9f3a\"],[0.8888888888888888,\"#fdca26\"],[1.0,\"#f0f921\"]],\"type\":\"heatmapgl\"}],\"histogram\":[{\"marker\":{\"pattern\":{\"fillmode\":\"overlay\",\"size\":10,\"solidity\":0.2}},\"type\":\"histogram\"}],\"histogram2d\":[{\"colorbar\":{\"outlinewidth\":0,\"ticks\":\"\"},\"colorscale\":[[0.0,\"#0d0887\"],[0.1111111111111111,\"#46039f\"],[0.2222222222222222,\"#7201a8\"],[0.3333333333333333,\"#9c179e\"],[0.4444444444444444,\"#bd3786\"],[0.5555555555555556,\"#d8576b\"],[0.6666666666666666,\"#ed7953\"],[0.7777777777777778,\"#fb9f3a\"],[0.8888888888888888,\"#fdca26\"],[1.0,\"#f0f921\"]],\"type\":\"histogram2d\"}],\"histogram2dcontour\":[{\"colorbar\":{\"outlinewidth\":0,\"ticks\":\"\"},\"colorscale\":[[0.0,\"#0d0887\"],[0.1111111111111111,\"#46039f\"],[0.2222222222222222,\"#7201a8\"],[0.3333333333333333,\"#9c179e\"],[0.4444444444444444,\"#bd3786\"],[0.5555555555555556,\"#d8576b\"],[0.6666666666666666,\"#ed7953\"],[0.7777777777777778,\"#fb9f3a\"],[0.8888888888888888,\"#fdca26\"],[1.0,\"#f0f921\"]],\"type\":\"histogram2dcontour\"}],\"mesh3d\":[{\"colorbar\":{\"outlinewidth\":0,\"ticks\":\"\"},\"type\":\"mesh3d\"}],\"parcoords\":[{\"line\":{\"colorbar\":{\"outlinewidth\":0,\"ticks\":\"\"}},\"type\":\"parcoords\"}],\"pie\":[{\"automargin\":true,\"type\":\"pie\"}],\"scatter\":[{\"marker\":{\"colorbar\":{\"outlinewidth\":0,\"ticks\":\"\"}},\"type\":\"scatter\"}],\"scatter3d\":[{\"line\":{\"colorbar\":{\"outlinewidth\":0,\"ticks\":\"\"}},\"marker\":{\"colorbar\":{\"outlinewidth\":0,\"ticks\":\"\"}},\"type\":\"scatter3d\"}],\"scattercarpet\":[{\"marker\":{\"colorbar\":{\"outlinewidth\":0,\"ticks\":\"\"}},\"type\":\"scattercarpet\"}],\"scattergeo\":[{\"marker\":{\"colorbar\":{\"outlinewidth\":0,\"ticks\":\"\"}},\"type\":\"scattergeo\"}],\"scattergl\":[{\"marker\":{\"colorbar\":{\"outlinewidth\":0,\"ticks\":\"\"}},\"type\":\"scattergl\"}],\"scattermapbox\":[{\"marker\":{\"colorbar\":{\"outlinewidth\":0,\"ticks\":\"\"}},\"type\":\"scattermapbox\"}],\"scatterpolar\":[{\"marker\":{\"colorbar\":{\"outlinewidth\":0,\"ticks\":\"\"}},\"type\":\"scatterpolar\"}],\"scatterpolargl\":[{\"marker\":{\"colorbar\":{\"outlinewidth\":0,\"ticks\":\"\"}},\"type\":\"scatterpolargl\"}],\"scatterternary\":[{\"marker\":{\"colorbar\":{\"outlinewidth\":0,\"ticks\":\"\"}},\"type\":\"scatterternary\"}],\"surface\":[{\"colorbar\":{\"outlinewidth\":0,\"ticks\":\"\"},\"colorscale\":[[0.0,\"#0d0887\"],[0.1111111111111111,\"#46039f\"],[0.2222222222222222,\"#7201a8\"],[0.3333333333333333,\"#9c179e\"],[0.4444444444444444,\"#bd3786\"],[0.5555555555555556,\"#d8576b\"],[0.6666666666666666,\"#ed7953\"],[0.7777777777777778,\"#fb9f3a\"],[0.8888888888888888,\"#fdca26\"],[1.0,\"#f0f921\"]],\"type\":\"surface\"}],\"table\":[{\"cells\":{\"fill\":{\"color\":\"#EBF0F8\"},\"line\":{\"color\":\"white\"}},\"header\":{\"fill\":{\"color\":\"#C8D4E3\"},\"line\":{\"color\":\"white\"}},\"type\":\"table\"}]},\"layout\":{\"annotationdefaults\":{\"arrowcolor\":\"#2a3f5f\",\"arrowhead\":0,\"arrowwidth\":1},\"autotypenumbers\":\"strict\",\"coloraxis\":{\"colorbar\":{\"outlinewidth\":0,\"ticks\":\"\"}},\"colorscale\":{\"diverging\":[[0,\"#8e0152\"],[0.1,\"#c51b7d\"],[0.2,\"#de77ae\"],[0.3,\"#f1b6da\"],[0.4,\"#fde0ef\"],[0.5,\"#f7f7f7\"],[0.6,\"#e6f5d0\"],[0.7,\"#b8e186\"],[0.8,\"#7fbc41\"],[0.9,\"#4d9221\"],[1,\"#276419\"]],\"sequential\":[[0.0,\"#0d0887\"],[0.1111111111111111,\"#46039f\"],[0.2222222222222222,\"#7201a8\"],[0.3333333333333333,\"#9c179e\"],[0.4444444444444444,\"#bd3786\"],[0.5555555555555556,\"#d8576b\"],[0.6666666666666666,\"#ed7953\"],[0.7777777777777778,\"#fb9f3a\"],[0.8888888888888888,\"#fdca26\"],[1.0,\"#f0f921\"]],\"sequentialminus\":[[0.0,\"#0d0887\"],[0.1111111111111111,\"#46039f\"],[0.2222222222222222,\"#7201a8\"],[0.3333333333333333,\"#9c179e\"],[0.4444444444444444,\"#bd3786\"],[0.5555555555555556,\"#d8576b\"],[0.6666666666666666,\"#ed7953\"],[0.7777777777777778,\"#fb9f3a\"],[0.8888888888888888,\"#fdca26\"],[1.0,\"#f0f921\"]]},\"colorway\":[\"#636efa\",\"#EF553B\",\"#00cc96\",\"#ab63fa\",\"#FFA15A\",\"#19d3f3\",\"#FF6692\",\"#B6E880\",\"#FF97FF\",\"#FECB52\"],\"font\":{\"color\":\"#2a3f5f\"},\"geo\":{\"bgcolor\":\"white\",\"lakecolor\":\"white\",\"landcolor\":\"#E5ECF6\",\"showlakes\":true,\"showland\":true,\"subunitcolor\":\"white\"},\"hoverlabel\":{\"align\":\"left\"},\"hovermode\":\"closest\",\"mapbox\":{\"style\":\"light\"},\"paper_bgcolor\":\"white\",\"plot_bgcolor\":\"#E5ECF6\",\"polar\":{\"angularaxis\":{\"gridcolor\":\"white\",\"linecolor\":\"white\",\"ticks\":\"\"},\"bgcolor\":\"#E5ECF6\",\"radialaxis\":{\"gridcolor\":\"white\",\"linecolor\":\"white\",\"ticks\":\"\"}},\"scene\":{\"xaxis\":{\"backgroundcolor\":\"#E5ECF6\",\"gridcolor\":\"white\",\"gridwidth\":2,\"linecolor\":\"white\",\"showbackground\":true,\"ticks\":\"\",\"zerolinecolor\":\"white\"},\"yaxis\":{\"backgroundcolor\":\"#E5ECF6\",\"gridcolor\":\"white\",\"gridwidth\":2,\"linecolor\":\"white\",\"showbackground\":true,\"ticks\":\"\",\"zerolinecolor\":\"white\"},\"zaxis\":{\"backgroundcolor\":\"#E5ECF6\",\"gridcolor\":\"white\",\"gridwidth\":2,\"linecolor\":\"white\",\"showbackground\":true,\"ticks\":\"\",\"zerolinecolor\":\"white\"}},\"shapedefaults\":{\"line\":{\"color\":\"#2a3f5f\"}},\"ternary\":{\"aaxis\":{\"gridcolor\":\"white\",\"linecolor\":\"white\",\"ticks\":\"\"},\"baxis\":{\"gridcolor\":\"white\",\"linecolor\":\"white\",\"ticks\":\"\"},\"bgcolor\":\"#E5ECF6\",\"caxis\":{\"gridcolor\":\"white\",\"linecolor\":\"white\",\"ticks\":\"\"}},\"title\":{\"x\":0.05},\"xaxis\":{\"automargin\":true,\"gridcolor\":\"white\",\"linecolor\":\"white\",\"ticks\":\"\",\"title\":{\"standoff\":15},\"zerolinecolor\":\"white\",\"zerolinewidth\":2},\"yaxis\":{\"automargin\":true,\"gridcolor\":\"white\",\"linecolor\":\"white\",\"ticks\":\"\",\"title\":{\"standoff\":15},\"zerolinecolor\":\"white\",\"zerolinewidth\":2}}},\"xaxis\":{\"anchor\":\"y\",\"domain\":[0.0,1.0],\"title\":{\"text\":\"sugars\"}},\"yaxis\":{\"anchor\":\"x\",\"domain\":[0.0,1.0],\"title\":{\"text\":\"rating\"}},\"legend\":{\"tracegroupgap\":0},\"title\":{\"text\":\"Cereal ratings vs. sugars\"},\"boxmode\":\"group\"},                        {\"responsive\": true}                    ).then(function(){\n",
              "                            \n",
              "var gd = document.getElementById('c70e79af-d640-4c49-a1d9-ca11bd86efcb');\n",
              "var x = new MutationObserver(function (mutations, observer) {{\n",
              "        var display = window.getComputedStyle(gd).display;\n",
              "        if (!display || display === 'none') {{\n",
              "            console.log([gd, 'removed!']);\n",
              "            Plotly.purge(gd);\n",
              "            observer.disconnect();\n",
              "        }}\n",
              "}});\n",
              "\n",
              "// Listen for the removal of the full notebook cells\n",
              "var notebookContainer = gd.closest('#notebook-container');\n",
              "if (notebookContainer) {{\n",
              "    x.observe(notebookContainer, {childList: true});\n",
              "}}\n",
              "\n",
              "// Listen for the clearing of the current output cell\n",
              "var outputEl = gd.closest('.output');\n",
              "if (outputEl) {{\n",
              "    x.observe(outputEl, {childList: true});\n",
              "}}\n",
              "\n",
              "                        })                };                            </script>        </div>\n",
              "</body>\n",
              "</html>"
            ]
          },
          "metadata": {}
        }
      ]
    },
    {
      "cell_type": "code",
      "source": [
        "fig = px.histogram(df, x='rating', title='Rating distribution')\n",
        "fig.show()"
      ],
      "metadata": {
        "colab": {
          "base_uri": "https://localhost:8080/",
          "height": 542
        },
        "id": "R6xpYtyZguC2",
        "outputId": "0360cb91-fae3-4a0a-ee92-1db2db155c05"
      },
      "execution_count": null,
      "outputs": [
        {
          "output_type": "display_data",
          "data": {
            "text/html": [
              "<html>\n",
              "<head><meta charset=\"utf-8\" /></head>\n",
              "<body>\n",
              "    <div>            <script src=\"https://cdnjs.cloudflare.com/ajax/libs/mathjax/2.7.5/MathJax.js?config=TeX-AMS-MML_SVG\"></script><script type=\"text/javascript\">if (window.MathJax) {MathJax.Hub.Config({SVG: {font: \"STIX-Web\"}});}</script>                <script type=\"text/javascript\">window.PlotlyConfig = {MathJaxConfig: 'local'};</script>\n",
              "        <script src=\"https://cdn.plot.ly/plotly-2.8.3.min.js\"></script>                <div id=\"f606d4fa-8272-44c7-919d-86f9a1f3f6b2\" class=\"plotly-graph-div\" style=\"height:525px; width:100%;\"></div>            <script type=\"text/javascript\">                                    window.PLOTLYENV=window.PLOTLYENV || {};                                    if (document.getElementById(\"f606d4fa-8272-44c7-919d-86f9a1f3f6b2\")) {                    Plotly.newPlot(                        \"f606d4fa-8272-44c7-919d-86f9a1f3f6b2\",                        [{\"alignmentgroup\":\"True\",\"bingroup\":\"x\",\"hovertemplate\":\"rating=%{x}<br>count=%{y}<extra></extra>\",\"legendgroup\":\"\",\"marker\":{\"color\":\"#636efa\",\"pattern\":{\"shape\":\"\"}},\"name\":\"\",\"offsetgroup\":\"\",\"orientation\":\"v\",\"showlegend\":false,\"x\":[68.4,33.98,59.43,93.7,34.38,29.51,33.17,37.04,49.12,53.31,18.04,50.76,19.82,40.4,22.74,41.45,45.86,35.78,22.4,40.45,64.53,46.9,36.18,44.33,32.21,31.44,58.35,40.92,41.02,28.03,35.25,23.8,52.08,53.37,45.81,21.87,31.07,28.74,36.52,36.47,39.24,45.33,26.73,54.85,37.14,34.14,30.31,40.11,29.92,40.69,59.64,30.45,37.84,41.5,60.76,63.01,49.51,50.83,39.26,39.7,55.33,42.0,40.56,68.24,74.47,72.8,31.23,53.13,59.36,38.84,28.59,46.66,39.11,27.75,49.79,51.59,36.19],\"xaxis\":\"x\",\"yaxis\":\"y\",\"type\":\"histogram\"}],                        {\"template\":{\"data\":{\"bar\":[{\"error_x\":{\"color\":\"#2a3f5f\"},\"error_y\":{\"color\":\"#2a3f5f\"},\"marker\":{\"line\":{\"color\":\"#E5ECF6\",\"width\":0.5},\"pattern\":{\"fillmode\":\"overlay\",\"size\":10,\"solidity\":0.2}},\"type\":\"bar\"}],\"barpolar\":[{\"marker\":{\"line\":{\"color\":\"#E5ECF6\",\"width\":0.5},\"pattern\":{\"fillmode\":\"overlay\",\"size\":10,\"solidity\":0.2}},\"type\":\"barpolar\"}],\"carpet\":[{\"aaxis\":{\"endlinecolor\":\"#2a3f5f\",\"gridcolor\":\"white\",\"linecolor\":\"white\",\"minorgridcolor\":\"white\",\"startlinecolor\":\"#2a3f5f\"},\"baxis\":{\"endlinecolor\":\"#2a3f5f\",\"gridcolor\":\"white\",\"linecolor\":\"white\",\"minorgridcolor\":\"white\",\"startlinecolor\":\"#2a3f5f\"},\"type\":\"carpet\"}],\"choropleth\":[{\"colorbar\":{\"outlinewidth\":0,\"ticks\":\"\"},\"type\":\"choropleth\"}],\"contour\":[{\"colorbar\":{\"outlinewidth\":0,\"ticks\":\"\"},\"colorscale\":[[0.0,\"#0d0887\"],[0.1111111111111111,\"#46039f\"],[0.2222222222222222,\"#7201a8\"],[0.3333333333333333,\"#9c179e\"],[0.4444444444444444,\"#bd3786\"],[0.5555555555555556,\"#d8576b\"],[0.6666666666666666,\"#ed7953\"],[0.7777777777777778,\"#fb9f3a\"],[0.8888888888888888,\"#fdca26\"],[1.0,\"#f0f921\"]],\"type\":\"contour\"}],\"contourcarpet\":[{\"colorbar\":{\"outlinewidth\":0,\"ticks\":\"\"},\"type\":\"contourcarpet\"}],\"heatmap\":[{\"colorbar\":{\"outlinewidth\":0,\"ticks\":\"\"},\"colorscale\":[[0.0,\"#0d0887\"],[0.1111111111111111,\"#46039f\"],[0.2222222222222222,\"#7201a8\"],[0.3333333333333333,\"#9c179e\"],[0.4444444444444444,\"#bd3786\"],[0.5555555555555556,\"#d8576b\"],[0.6666666666666666,\"#ed7953\"],[0.7777777777777778,\"#fb9f3a\"],[0.8888888888888888,\"#fdca26\"],[1.0,\"#f0f921\"]],\"type\":\"heatmap\"}],\"heatmapgl\":[{\"colorbar\":{\"outlinewidth\":0,\"ticks\":\"\"},\"colorscale\":[[0.0,\"#0d0887\"],[0.1111111111111111,\"#46039f\"],[0.2222222222222222,\"#7201a8\"],[0.3333333333333333,\"#9c179e\"],[0.4444444444444444,\"#bd3786\"],[0.5555555555555556,\"#d8576b\"],[0.6666666666666666,\"#ed7953\"],[0.7777777777777778,\"#fb9f3a\"],[0.8888888888888888,\"#fdca26\"],[1.0,\"#f0f921\"]],\"type\":\"heatmapgl\"}],\"histogram\":[{\"marker\":{\"pattern\":{\"fillmode\":\"overlay\",\"size\":10,\"solidity\":0.2}},\"type\":\"histogram\"}],\"histogram2d\":[{\"colorbar\":{\"outlinewidth\":0,\"ticks\":\"\"},\"colorscale\":[[0.0,\"#0d0887\"],[0.1111111111111111,\"#46039f\"],[0.2222222222222222,\"#7201a8\"],[0.3333333333333333,\"#9c179e\"],[0.4444444444444444,\"#bd3786\"],[0.5555555555555556,\"#d8576b\"],[0.6666666666666666,\"#ed7953\"],[0.7777777777777778,\"#fb9f3a\"],[0.8888888888888888,\"#fdca26\"],[1.0,\"#f0f921\"]],\"type\":\"histogram2d\"}],\"histogram2dcontour\":[{\"colorbar\":{\"outlinewidth\":0,\"ticks\":\"\"},\"colorscale\":[[0.0,\"#0d0887\"],[0.1111111111111111,\"#46039f\"],[0.2222222222222222,\"#7201a8\"],[0.3333333333333333,\"#9c179e\"],[0.4444444444444444,\"#bd3786\"],[0.5555555555555556,\"#d8576b\"],[0.6666666666666666,\"#ed7953\"],[0.7777777777777778,\"#fb9f3a\"],[0.8888888888888888,\"#fdca26\"],[1.0,\"#f0f921\"]],\"type\":\"histogram2dcontour\"}],\"mesh3d\":[{\"colorbar\":{\"outlinewidth\":0,\"ticks\":\"\"},\"type\":\"mesh3d\"}],\"parcoords\":[{\"line\":{\"colorbar\":{\"outlinewidth\":0,\"ticks\":\"\"}},\"type\":\"parcoords\"}],\"pie\":[{\"automargin\":true,\"type\":\"pie\"}],\"scatter\":[{\"marker\":{\"colorbar\":{\"outlinewidth\":0,\"ticks\":\"\"}},\"type\":\"scatter\"}],\"scatter3d\":[{\"line\":{\"colorbar\":{\"outlinewidth\":0,\"ticks\":\"\"}},\"marker\":{\"colorbar\":{\"outlinewidth\":0,\"ticks\":\"\"}},\"type\":\"scatter3d\"}],\"scattercarpet\":[{\"marker\":{\"colorbar\":{\"outlinewidth\":0,\"ticks\":\"\"}},\"type\":\"scattercarpet\"}],\"scattergeo\":[{\"marker\":{\"colorbar\":{\"outlinewidth\":0,\"ticks\":\"\"}},\"type\":\"scattergeo\"}],\"scattergl\":[{\"marker\":{\"colorbar\":{\"outlinewidth\":0,\"ticks\":\"\"}},\"type\":\"scattergl\"}],\"scattermapbox\":[{\"marker\":{\"colorbar\":{\"outlinewidth\":0,\"ticks\":\"\"}},\"type\":\"scattermapbox\"}],\"scatterpolar\":[{\"marker\":{\"colorbar\":{\"outlinewidth\":0,\"ticks\":\"\"}},\"type\":\"scatterpolar\"}],\"scatterpolargl\":[{\"marker\":{\"colorbar\":{\"outlinewidth\":0,\"ticks\":\"\"}},\"type\":\"scatterpolargl\"}],\"scatterternary\":[{\"marker\":{\"colorbar\":{\"outlinewidth\":0,\"ticks\":\"\"}},\"type\":\"scatterternary\"}],\"surface\":[{\"colorbar\":{\"outlinewidth\":0,\"ticks\":\"\"},\"colorscale\":[[0.0,\"#0d0887\"],[0.1111111111111111,\"#46039f\"],[0.2222222222222222,\"#7201a8\"],[0.3333333333333333,\"#9c179e\"],[0.4444444444444444,\"#bd3786\"],[0.5555555555555556,\"#d8576b\"],[0.6666666666666666,\"#ed7953\"],[0.7777777777777778,\"#fb9f3a\"],[0.8888888888888888,\"#fdca26\"],[1.0,\"#f0f921\"]],\"type\":\"surface\"}],\"table\":[{\"cells\":{\"fill\":{\"color\":\"#EBF0F8\"},\"line\":{\"color\":\"white\"}},\"header\":{\"fill\":{\"color\":\"#C8D4E3\"},\"line\":{\"color\":\"white\"}},\"type\":\"table\"}]},\"layout\":{\"annotationdefaults\":{\"arrowcolor\":\"#2a3f5f\",\"arrowhead\":0,\"arrowwidth\":1},\"autotypenumbers\":\"strict\",\"coloraxis\":{\"colorbar\":{\"outlinewidth\":0,\"ticks\":\"\"}},\"colorscale\":{\"diverging\":[[0,\"#8e0152\"],[0.1,\"#c51b7d\"],[0.2,\"#de77ae\"],[0.3,\"#f1b6da\"],[0.4,\"#fde0ef\"],[0.5,\"#f7f7f7\"],[0.6,\"#e6f5d0\"],[0.7,\"#b8e186\"],[0.8,\"#7fbc41\"],[0.9,\"#4d9221\"],[1,\"#276419\"]],\"sequential\":[[0.0,\"#0d0887\"],[0.1111111111111111,\"#46039f\"],[0.2222222222222222,\"#7201a8\"],[0.3333333333333333,\"#9c179e\"],[0.4444444444444444,\"#bd3786\"],[0.5555555555555556,\"#d8576b\"],[0.6666666666666666,\"#ed7953\"],[0.7777777777777778,\"#fb9f3a\"],[0.8888888888888888,\"#fdca26\"],[1.0,\"#f0f921\"]],\"sequentialminus\":[[0.0,\"#0d0887\"],[0.1111111111111111,\"#46039f\"],[0.2222222222222222,\"#7201a8\"],[0.3333333333333333,\"#9c179e\"],[0.4444444444444444,\"#bd3786\"],[0.5555555555555556,\"#d8576b\"],[0.6666666666666666,\"#ed7953\"],[0.7777777777777778,\"#fb9f3a\"],[0.8888888888888888,\"#fdca26\"],[1.0,\"#f0f921\"]]},\"colorway\":[\"#636efa\",\"#EF553B\",\"#00cc96\",\"#ab63fa\",\"#FFA15A\",\"#19d3f3\",\"#FF6692\",\"#B6E880\",\"#FF97FF\",\"#FECB52\"],\"font\":{\"color\":\"#2a3f5f\"},\"geo\":{\"bgcolor\":\"white\",\"lakecolor\":\"white\",\"landcolor\":\"#E5ECF6\",\"showlakes\":true,\"showland\":true,\"subunitcolor\":\"white\"},\"hoverlabel\":{\"align\":\"left\"},\"hovermode\":\"closest\",\"mapbox\":{\"style\":\"light\"},\"paper_bgcolor\":\"white\",\"plot_bgcolor\":\"#E5ECF6\",\"polar\":{\"angularaxis\":{\"gridcolor\":\"white\",\"linecolor\":\"white\",\"ticks\":\"\"},\"bgcolor\":\"#E5ECF6\",\"radialaxis\":{\"gridcolor\":\"white\",\"linecolor\":\"white\",\"ticks\":\"\"}},\"scene\":{\"xaxis\":{\"backgroundcolor\":\"#E5ECF6\",\"gridcolor\":\"white\",\"gridwidth\":2,\"linecolor\":\"white\",\"showbackground\":true,\"ticks\":\"\",\"zerolinecolor\":\"white\"},\"yaxis\":{\"backgroundcolor\":\"#E5ECF6\",\"gridcolor\":\"white\",\"gridwidth\":2,\"linecolor\":\"white\",\"showbackground\":true,\"ticks\":\"\",\"zerolinecolor\":\"white\"},\"zaxis\":{\"backgroundcolor\":\"#E5ECF6\",\"gridcolor\":\"white\",\"gridwidth\":2,\"linecolor\":\"white\",\"showbackground\":true,\"ticks\":\"\",\"zerolinecolor\":\"white\"}},\"shapedefaults\":{\"line\":{\"color\":\"#2a3f5f\"}},\"ternary\":{\"aaxis\":{\"gridcolor\":\"white\",\"linecolor\":\"white\",\"ticks\":\"\"},\"baxis\":{\"gridcolor\":\"white\",\"linecolor\":\"white\",\"ticks\":\"\"},\"bgcolor\":\"#E5ECF6\",\"caxis\":{\"gridcolor\":\"white\",\"linecolor\":\"white\",\"ticks\":\"\"}},\"title\":{\"x\":0.05},\"xaxis\":{\"automargin\":true,\"gridcolor\":\"white\",\"linecolor\":\"white\",\"ticks\":\"\",\"title\":{\"standoff\":15},\"zerolinecolor\":\"white\",\"zerolinewidth\":2},\"yaxis\":{\"automargin\":true,\"gridcolor\":\"white\",\"linecolor\":\"white\",\"ticks\":\"\",\"title\":{\"standoff\":15},\"zerolinecolor\":\"white\",\"zerolinewidth\":2}}},\"xaxis\":{\"anchor\":\"y\",\"domain\":[0.0,1.0],\"title\":{\"text\":\"rating\"}},\"yaxis\":{\"anchor\":\"x\",\"domain\":[0.0,1.0],\"title\":{\"text\":\"count\"}},\"legend\":{\"tracegroupgap\":0},\"title\":{\"text\":\"Rating distribution\"},\"barmode\":\"relative\"},                        {\"responsive\": true}                    ).then(function(){\n",
              "                            \n",
              "var gd = document.getElementById('f606d4fa-8272-44c7-919d-86f9a1f3f6b2');\n",
              "var x = new MutationObserver(function (mutations, observer) {{\n",
              "        var display = window.getComputedStyle(gd).display;\n",
              "        if (!display || display === 'none') {{\n",
              "            console.log([gd, 'removed!']);\n",
              "            Plotly.purge(gd);\n",
              "            observer.disconnect();\n",
              "        }}\n",
              "}});\n",
              "\n",
              "// Listen for the removal of the full notebook cells\n",
              "var notebookContainer = gd.closest('#notebook-container');\n",
              "if (notebookContainer) {{\n",
              "    x.observe(notebookContainer, {childList: true});\n",
              "}}\n",
              "\n",
              "// Listen for the clearing of the current output cell\n",
              "var outputEl = gd.closest('.output');\n",
              "if (outputEl) {{\n",
              "    x.observe(outputEl, {childList: true});\n",
              "}}\n",
              "\n",
              "                        })                };                            </script>        </div>\n",
              "</body>\n",
              "</html>"
            ]
          },
          "metadata": {}
        }
      ]
    },
    {
      "cell_type": "code",
      "source": [
        "fig = px.scatter(df,\n",
        "                x='sugars',\n",
        "                y='rating',\n",
        "                color='mfr',\n",
        "                size='calories',\n",
        "                facet_row='shelf',\n",
        "                facet_col='type',\n",
        "                hover_name='name',\n",
        "                category_orders={'shelf': ['Top', 'Middle', 'Bottom']})\n",
        "# facet row = แต่ละ row คือ shelf\n",
        "# facet column = แต่ละ column คือ type cold hot\n",
        "# category_orders = เรียงตาม top middle bottom\n",
        "fig.show()"
      ],
      "metadata": {
        "colab": {
          "base_uri": "https://localhost:8080/",
          "height": 542
        },
        "id": "Y4G2ASAtgySR",
        "outputId": "b820638c-e018-4f69-9615-312a12ef1f46"
      },
      "execution_count": null,
      "outputs": [
        {
          "output_type": "display_data",
          "data": {
            "text/html": [
              "<html>\n",
              "<head><meta charset=\"utf-8\" /></head>\n",
              "<body>\n",
              "    <div>            <script src=\"https://cdnjs.cloudflare.com/ajax/libs/mathjax/2.7.5/MathJax.js?config=TeX-AMS-MML_SVG\"></script><script type=\"text/javascript\">if (window.MathJax) {MathJax.Hub.Config({SVG: {font: \"STIX-Web\"}});}</script>                <script type=\"text/javascript\">window.PlotlyConfig = {MathJaxConfig: 'local'};</script>\n",
              "        <script src=\"https://cdn.plot.ly/plotly-2.8.3.min.js\"></script>                <div id=\"82c45eaa-53c7-4e06-902c-cadee5cc4622\" class=\"plotly-graph-div\" style=\"height:525px; width:100%;\"></div>            <script type=\"text/javascript\">                                    window.PLOTLYENV=window.PLOTLYENV || {};                                    if (document.getElementById(\"82c45eaa-53c7-4e06-902c-cadee5cc4622\")) {                    Plotly.newPlot(                        \"82c45eaa-53c7-4e06-902c-cadee5cc4622\",                        [{\"hovertemplate\":\"<b>%{hovertext}</b><br><br>mfr=Nabisco<br>shelf=Top<br>type=Cold<br>sugars=%{x}<br>rating=%{y}<br>calories=%{marker.size}<extra></extra>\",\"hovertext\":[\"100% Bran\"],\"legendgroup\":\"Nabisco\",\"marker\":{\"color\":\"#636efa\",\"size\":[70],\"sizemode\":\"area\",\"sizeref\":0.4,\"symbol\":\"circle\"},\"mode\":\"markers\",\"name\":\"Nabisco\",\"orientation\":\"v\",\"showlegend\":true,\"x\":[6],\"xaxis\":\"x5\",\"y\":[68.4],\"yaxis\":\"y5\",\"type\":\"scatter\"},{\"hovertemplate\":\"<b>%{hovertext}</b><br><br>mfr=Nabisco<br>shelf=Middle<br>type=Cold<br>sugars=%{x}<br>rating=%{y}<br>calories=%{marker.size}<extra></extra>\",\"hovertext\":[\"Strawberry Fruit Wheats\"],\"legendgroup\":\"Nabisco\",\"marker\":{\"color\":\"#636efa\",\"size\":[90],\"sizemode\":\"area\",\"sizeref\":0.4,\"symbol\":\"circle\"},\"mode\":\"markers\",\"name\":\"Nabisco\",\"orientation\":\"v\",\"showlegend\":false,\"x\":[5],\"xaxis\":\"x3\",\"y\":[59.36],\"yaxis\":\"y3\",\"type\":\"scatter\"},{\"hovertemplate\":\"<b>%{hovertext}</b><br><br>mfr=Nabisco<br>shelf=Middle<br>type=Hot<br>sugars=%{x}<br>rating=%{y}<br>calories=%{marker.size}<extra></extra>\",\"hovertext\":[\"Cream of Wheat (Quick)\"],\"legendgroup\":\"Nabisco\",\"marker\":{\"color\":\"#636efa\",\"size\":[100],\"sizemode\":\"area\",\"sizeref\":0.4,\"symbol\":\"circle\"},\"mode\":\"markers\",\"name\":\"Nabisco\",\"orientation\":\"v\",\"showlegend\":false,\"x\":[0],\"xaxis\":\"x4\",\"y\":[64.53],\"yaxis\":\"y4\",\"type\":\"scatter\"},{\"hovertemplate\":\"<b>%{hovertext}</b><br><br>mfr=Nabisco<br>shelf=Bottom<br>type=Cold<br>sugars=%{x}<br>rating=%{y}<br>calories=%{marker.size}<extra></extra>\",\"hovertext\":[\"Shredded Wheat\",\"Shredded Wheat 'n'Bran\",\"Shredded Wheat spoon size\"],\"legendgroup\":\"Nabisco\",\"marker\":{\"color\":\"#636efa\",\"size\":[80,90,90],\"sizemode\":\"area\",\"sizeref\":0.4,\"symbol\":\"circle\"},\"mode\":\"markers\",\"name\":\"Nabisco\",\"orientation\":\"v\",\"showlegend\":false,\"x\":[0,0,0],\"xaxis\":\"x\",\"y\":[68.24,74.47,72.8],\"yaxis\":\"y\",\"type\":\"scatter\"},{\"hovertemplate\":\"<b>%{hovertext}</b><br><br>mfr=Quaker Oats<br>shelf=Top<br>type=Cold<br>sugars=%{x}<br>rating=%{y}<br>calories=%{marker.size}<extra></extra>\",\"hovertext\":[\"100% Natural Bran\",\"Puffed Rice\",\"Puffed Wheat\",\"Quaker Oat Squares\"],\"legendgroup\":\"Quaker Oats\",\"marker\":{\"color\":\"#EF553B\",\"size\":[120,50,50,100],\"sizemode\":\"area\",\"sizeref\":0.4,\"symbol\":\"circle\"},\"mode\":\"markers\",\"name\":\"Quaker Oats\",\"orientation\":\"v\",\"showlegend\":true,\"x\":[8,0,0,6],\"xaxis\":\"x5\",\"y\":[33.98,60.76,63.01,49.51],\"yaxis\":\"y5\",\"type\":\"scatter\"},{\"hovertemplate\":\"<b>%{hovertext}</b><br><br>mfr=Quaker Oats<br>shelf=Middle<br>type=Cold<br>sugars=%{x}<br>rating=%{y}<br>calories=%{marker.size}<extra></extra>\",\"hovertext\":[\"Cap'n'Crunch\",\"Honey Graham Ohs\",\"Life\"],\"legendgroup\":\"Quaker Oats\",\"marker\":{\"color\":\"#EF553B\",\"size\":[120,120,100],\"sizemode\":\"area\",\"sizeref\":0.4,\"symbol\":\"circle\"},\"mode\":\"markers\",\"name\":\"Quaker Oats\",\"orientation\":\"v\",\"showlegend\":false,\"x\":[12,11,6],\"xaxis\":\"x3\",\"y\":[18.04,21.87,45.33],\"yaxis\":\"y3\",\"type\":\"scatter\"},{\"hovertemplate\":\"<b>%{hovertext}</b><br><br>mfr=Quaker Oats<br>shelf=Bottom<br>type=Hot<br>sugars=%{x}<br>rating=%{y}<br>calories=%{marker.size}<extra></extra>\",\"hovertext\":[\"Quaker Oatmeal\"],\"legendgroup\":\"Quaker Oats\",\"marker\":{\"color\":\"#EF553B\",\"size\":[100],\"sizemode\":\"area\",\"sizeref\":0.4,\"symbol\":\"circle\"},\"mode\":\"markers\",\"name\":\"Quaker Oats\",\"orientation\":\"v\",\"showlegend\":false,\"x\":[-1],\"xaxis\":\"x2\",\"y\":[50.83],\"yaxis\":\"y2\",\"type\":\"scatter\"},{\"hovertemplate\":\"<b>%{hovertext}</b><br><br>mfr=Kellogs<br>shelf=Top<br>type=Cold<br>sugars=%{x}<br>rating=%{y}<br>calories=%{marker.size}<extra></extra>\",\"hovertext\":[\"All-Bran\",\"All-Bran with Extra Fiber\",\"Cracklin' Oat Bran\",\"Crispix\",\"Fruitful Bran\",\"Just Right Crunchy  Nuggets\",\"Just Right Fruit & Nut\",\"Mueslix Crispy Blend\",\"Nutri-Grain Almond-Raisin\",\"Nutri-grain Wheat\",\"Product 19\",\"Raisin Squares\"],\"legendgroup\":\"Kellogs\",\"marker\":{\"color\":\"#00cc96\",\"size\":[70,50,110,110,120,110,140,160,140,90,100,90],\"sizemode\":\"area\",\"sizeref\":0.4,\"symbol\":\"circle\"},\"mode\":\"markers\",\"name\":\"Kellogs\",\"orientation\":\"v\",\"showlegend\":true,\"x\":[5,0,7,3,12,6,9,13,7,2,3,6],\"xaxis\":\"x5\",\"y\":[59.43,93.7,40.45,46.9,41.02,36.52,36.47,30.31,40.69,59.64,41.5,55.33],\"yaxis\":\"y5\",\"type\":\"scatter\"},{\"hovertemplate\":\"<b>%{hovertext}</b><br><br>mfr=Kellogs<br>shelf=Middle<br>type=Cold<br>sugars=%{x}<br>rating=%{y}<br>calories=%{marker.size}<extra></extra>\",\"hovertext\":[\"Apple Jacks\",\"Corn Pops\",\"Froot Loops\",\"Frosted Mini-Wheats\",\"Nut&Honey Crunch\",\"Raisin Bran\",\"Smacks\"],\"legendgroup\":\"Kellogs\",\"marker\":{\"color\":\"#00cc96\",\"size\":[110,110,110,100,120,120,110],\"sizemode\":\"area\",\"sizeref\":0.4,\"symbol\":\"circle\"},\"mode\":\"markers\",\"name\":\"Kellogs\",\"orientation\":\"v\",\"showlegend\":false,\"x\":[14,12,13,7,9,12,15],\"xaxis\":\"x3\",\"y\":[33.17,35.78,32.21,58.35,29.92,39.26,31.23],\"yaxis\":\"y3\",\"type\":\"scatter\"},{\"hovertemplate\":\"<b>%{hovertext}</b><br><br>mfr=Kellogs<br>shelf=Bottom<br>type=Cold<br>sugars=%{x}<br>rating=%{y}<br>calories=%{marker.size}<extra></extra>\",\"hovertext\":[\"Corn Flakes\",\"Frosted Flakes\",\"Rice Krispies\",\"Special K\"],\"legendgroup\":\"Kellogs\",\"marker\":{\"color\":\"#00cc96\",\"size\":[100,110,110,110],\"sizemode\":\"area\",\"sizeref\":0.4,\"symbol\":\"circle\"},\"mode\":\"markers\",\"name\":\"Kellogs\",\"orientation\":\"v\",\"showlegend\":false,\"x\":[2,11,3,3],\"xaxis\":\"x\",\"y\":[45.86,31.44,40.56,53.13],\"yaxis\":\"y\",\"type\":\"scatter\"},{\"hovertemplate\":\"<b>%{hovertext}</b><br><br>mfr=Ralston Purina<br>shelf=Top<br>type=Cold<br>sugars=%{x}<br>rating=%{y}<br>calories=%{marker.size}<extra></extra>\",\"hovertext\":[\"Almond Delight\",\"Double Chex\",\"Muesli Raisins, Dates, & Almonds\",\"Muesli Raisins, Peaches, & Pecans\"],\"legendgroup\":\"Ralston Purina\",\"marker\":{\"color\":\"#ab63fa\",\"size\":[110,100,150,150],\"sizemode\":\"area\",\"sizeref\":0.4,\"symbol\":\"circle\"},\"mode\":\"markers\",\"name\":\"Ralston Purina\",\"orientation\":\"v\",\"showlegend\":true,\"x\":[8,5,11,11],\"xaxis\":\"x5\",\"y\":[34.38,44.33,37.14,34.14],\"yaxis\":\"y5\",\"type\":\"scatter\"},{\"hovertemplate\":\"<b>%{hovertext}</b><br><br>mfr=Ralston Purina<br>shelf=Bottom<br>type=Cold<br>sugars=%{x}<br>rating=%{y}<br>calories=%{marker.size}<extra></extra>\",\"hovertext\":[\"Bran Chex\",\"Corn Chex\",\"Rice Chex\",\"Wheat Chex\"],\"legendgroup\":\"Ralston Purina\",\"marker\":{\"color\":\"#ab63fa\",\"size\":[90,110,110,100],\"sizemode\":\"area\",\"sizeref\":0.4,\"symbol\":\"circle\"},\"mode\":\"markers\",\"name\":\"Ralston Purina\",\"orientation\":\"v\",\"showlegend\":false,\"x\":[6,3,2,3],\"xaxis\":\"x\",\"y\":[49.12,41.45,42.0,49.79],\"yaxis\":\"y\",\"type\":\"scatter\"},{\"hovertemplate\":\"<b>%{hovertext}</b><br><br>mfr=General Mills<br>shelf=Top<br>type=Cold<br>sugars=%{x}<br>rating=%{y}<br>calories=%{marker.size}<extra></extra>\",\"hovertext\":[\"Basic 4\",\"Clusters\",\"Crispy Wheat & Raisins\",\"Oatmeal Raisin Crisp\",\"Raisin Nut Bran\",\"Total Corn Flakes\",\"Total Raisin Bran\",\"Total Whole Grain\",\"Triples\"],\"legendgroup\":\"General Mills\",\"marker\":{\"color\":\"#FFA15A\",\"size\":[130,110,100,130,100,110,140,100,110],\"sizemode\":\"area\",\"sizeref\":0.4,\"symbol\":\"circle\"},\"mode\":\"markers\",\"name\":\"General Mills\",\"orientation\":\"v\",\"showlegend\":true,\"x\":[8,7,10,10,8,3,14,3,3],\"xaxis\":\"x5\",\"y\":[37.04,40.4,36.18,30.45,39.7,38.84,28.59,46.66,39.11],\"yaxis\":\"y5\",\"type\":\"scatter\"},{\"hovertemplate\":\"<b>%{hovertext}</b><br><br>mfr=General Mills<br>shelf=Middle<br>type=Cold<br>sugars=%{x}<br>rating=%{y}<br>calories=%{marker.size}<extra></extra>\",\"hovertext\":[\"Cinnamon Toast Crunch\",\"Cocoa Puffs\",\"Count Chocula\",\"Golden Grahams\",\"Kix\",\"Lucky Charms\",\"Trix\"],\"legendgroup\":\"General Mills\",\"marker\":{\"color\":\"#FFA15A\",\"size\":[120,110,110,110,110,110,110],\"sizemode\":\"area\",\"sizeref\":0.4,\"symbol\":\"circle\"},\"mode\":\"markers\",\"name\":\"General Mills\",\"orientation\":\"v\",\"showlegend\":false,\"x\":[9,13,13,9,3,12,12],\"xaxis\":\"x3\",\"y\":[19.82,22.74,22.4,23.8,39.24,26.73,27.75],\"yaxis\":\"y3\",\"type\":\"scatter\"},{\"hovertemplate\":\"<b>%{hovertext}</b><br><br>mfr=General Mills<br>shelf=Bottom<br>type=Cold<br>sugars=%{x}<br>rating=%{y}<br>calories=%{marker.size}<extra></extra>\",\"hovertext\":[\"Apple Cinnamon Cheerios\",\"Cheerios\",\"Honey Nut Cheerios\",\"Multi-Grain Cheerios\",\"Wheaties\",\"Wheaties Honey Gold\"],\"legendgroup\":\"General Mills\",\"marker\":{\"color\":\"#FFA15A\",\"size\":[110,110,110,100,100,110],\"sizemode\":\"area\",\"sizeref\":0.4,\"symbol\":\"circle\"},\"mode\":\"markers\",\"name\":\"General Mills\",\"orientation\":\"v\",\"showlegend\":false,\"x\":[10,1,10,6,3,8],\"xaxis\":\"x\",\"y\":[29.51,50.76,31.07,40.11,51.59,36.19],\"yaxis\":\"y\",\"type\":\"scatter\"},{\"hovertemplate\":\"<b>%{hovertext}</b><br><br>mfr=Post<br>shelf=Top<br>type=Cold<br>sugars=%{x}<br>rating=%{y}<br>calories=%{marker.size}<extra></extra>\",\"hovertext\":[\"Bran Flakes\",\"Fruit & Fibre Dates, Walnuts, and Oats\",\"Grape Nuts Flakes\",\"Grape-Nuts\",\"Great Grains Pecan\",\"Post Nat. Raisin Bran\"],\"legendgroup\":\"Post\",\"marker\":{\"color\":\"#19d3f3\",\"size\":[90,120,100,110,120,120],\"sizemode\":\"area\",\"sizeref\":0.4,\"symbol\":\"circle\"},\"mode\":\"markers\",\"name\":\"Post\",\"orientation\":\"v\",\"showlegend\":true,\"x\":[5,10,5,3,4,14],\"xaxis\":\"x5\",\"y\":[53.31,40.92,52.08,53.37,45.81,37.84],\"yaxis\":\"y5\",\"type\":\"scatter\"},{\"hovertemplate\":\"<b>%{hovertext}</b><br><br>mfr=Post<br>shelf=Middle<br>type=Cold<br>sugars=%{x}<br>rating=%{y}<br>calories=%{marker.size}<extra></extra>\",\"hovertext\":[\"Fruity Pebbles\"],\"legendgroup\":\"Post\",\"marker\":{\"color\":\"#19d3f3\",\"size\":[110],\"sizemode\":\"area\",\"sizeref\":0.4,\"symbol\":\"circle\"},\"mode\":\"markers\",\"name\":\"Post\",\"orientation\":\"v\",\"showlegend\":false,\"x\":[12],\"xaxis\":\"x3\",\"y\":[28.03],\"yaxis\":\"y3\",\"type\":\"scatter\"},{\"hovertemplate\":\"<b>%{hovertext}</b><br><br>mfr=Post<br>shelf=Bottom<br>type=Cold<br>sugars=%{x}<br>rating=%{y}<br>calories=%{marker.size}<extra></extra>\",\"hovertext\":[\"Golden Crisp\",\"Honey-comb\"],\"legendgroup\":\"Post\",\"marker\":{\"color\":\"#19d3f3\",\"size\":[100,110],\"sizemode\":\"area\",\"sizeref\":0.4,\"symbol\":\"circle\"},\"mode\":\"markers\",\"name\":\"Post\",\"orientation\":\"v\",\"showlegend\":false,\"x\":[15,11],\"xaxis\":\"x\",\"y\":[35.25,28.74],\"yaxis\":\"y\",\"type\":\"scatter\"},{\"hovertemplate\":\"<b>%{hovertext}</b><br><br>mfr=AM Home Food<br>shelf=Middle<br>type=Hot<br>sugars=%{x}<br>rating=%{y}<br>calories=%{marker.size}<extra></extra>\",\"hovertext\":[\"Maypo\"],\"legendgroup\":\"AM Home Food\",\"marker\":{\"color\":\"#FF6692\",\"size\":[100],\"sizemode\":\"area\",\"sizeref\":0.4,\"symbol\":\"circle\"},\"mode\":\"markers\",\"name\":\"AM Home Food\",\"orientation\":\"v\",\"showlegend\":true,\"x\":[3],\"xaxis\":\"x4\",\"y\":[54.85],\"yaxis\":\"y4\",\"type\":\"scatter\"}],                        {\"template\":{\"data\":{\"bar\":[{\"error_x\":{\"color\":\"#2a3f5f\"},\"error_y\":{\"color\":\"#2a3f5f\"},\"marker\":{\"line\":{\"color\":\"#E5ECF6\",\"width\":0.5},\"pattern\":{\"fillmode\":\"overlay\",\"size\":10,\"solidity\":0.2}},\"type\":\"bar\"}],\"barpolar\":[{\"marker\":{\"line\":{\"color\":\"#E5ECF6\",\"width\":0.5},\"pattern\":{\"fillmode\":\"overlay\",\"size\":10,\"solidity\":0.2}},\"type\":\"barpolar\"}],\"carpet\":[{\"aaxis\":{\"endlinecolor\":\"#2a3f5f\",\"gridcolor\":\"white\",\"linecolor\":\"white\",\"minorgridcolor\":\"white\",\"startlinecolor\":\"#2a3f5f\"},\"baxis\":{\"endlinecolor\":\"#2a3f5f\",\"gridcolor\":\"white\",\"linecolor\":\"white\",\"minorgridcolor\":\"white\",\"startlinecolor\":\"#2a3f5f\"},\"type\":\"carpet\"}],\"choropleth\":[{\"colorbar\":{\"outlinewidth\":0,\"ticks\":\"\"},\"type\":\"choropleth\"}],\"contour\":[{\"colorbar\":{\"outlinewidth\":0,\"ticks\":\"\"},\"colorscale\":[[0.0,\"#0d0887\"],[0.1111111111111111,\"#46039f\"],[0.2222222222222222,\"#7201a8\"],[0.3333333333333333,\"#9c179e\"],[0.4444444444444444,\"#bd3786\"],[0.5555555555555556,\"#d8576b\"],[0.6666666666666666,\"#ed7953\"],[0.7777777777777778,\"#fb9f3a\"],[0.8888888888888888,\"#fdca26\"],[1.0,\"#f0f921\"]],\"type\":\"contour\"}],\"contourcarpet\":[{\"colorbar\":{\"outlinewidth\":0,\"ticks\":\"\"},\"type\":\"contourcarpet\"}],\"heatmap\":[{\"colorbar\":{\"outlinewidth\":0,\"ticks\":\"\"},\"colorscale\":[[0.0,\"#0d0887\"],[0.1111111111111111,\"#46039f\"],[0.2222222222222222,\"#7201a8\"],[0.3333333333333333,\"#9c179e\"],[0.4444444444444444,\"#bd3786\"],[0.5555555555555556,\"#d8576b\"],[0.6666666666666666,\"#ed7953\"],[0.7777777777777778,\"#fb9f3a\"],[0.8888888888888888,\"#fdca26\"],[1.0,\"#f0f921\"]],\"type\":\"heatmap\"}],\"heatmapgl\":[{\"colorbar\":{\"outlinewidth\":0,\"ticks\":\"\"},\"colorscale\":[[0.0,\"#0d0887\"],[0.1111111111111111,\"#46039f\"],[0.2222222222222222,\"#7201a8\"],[0.3333333333333333,\"#9c179e\"],[0.4444444444444444,\"#bd3786\"],[0.5555555555555556,\"#d8576b\"],[0.6666666666666666,\"#ed7953\"],[0.7777777777777778,\"#fb9f3a\"],[0.8888888888888888,\"#fdca26\"],[1.0,\"#f0f921\"]],\"type\":\"heatmapgl\"}],\"histogram\":[{\"marker\":{\"pattern\":{\"fillmode\":\"overlay\",\"size\":10,\"solidity\":0.2}},\"type\":\"histogram\"}],\"histogram2d\":[{\"colorbar\":{\"outlinewidth\":0,\"ticks\":\"\"},\"colorscale\":[[0.0,\"#0d0887\"],[0.1111111111111111,\"#46039f\"],[0.2222222222222222,\"#7201a8\"],[0.3333333333333333,\"#9c179e\"],[0.4444444444444444,\"#bd3786\"],[0.5555555555555556,\"#d8576b\"],[0.6666666666666666,\"#ed7953\"],[0.7777777777777778,\"#fb9f3a\"],[0.8888888888888888,\"#fdca26\"],[1.0,\"#f0f921\"]],\"type\":\"histogram2d\"}],\"histogram2dcontour\":[{\"colorbar\":{\"outlinewidth\":0,\"ticks\":\"\"},\"colorscale\":[[0.0,\"#0d0887\"],[0.1111111111111111,\"#46039f\"],[0.2222222222222222,\"#7201a8\"],[0.3333333333333333,\"#9c179e\"],[0.4444444444444444,\"#bd3786\"],[0.5555555555555556,\"#d8576b\"],[0.6666666666666666,\"#ed7953\"],[0.7777777777777778,\"#fb9f3a\"],[0.8888888888888888,\"#fdca26\"],[1.0,\"#f0f921\"]],\"type\":\"histogram2dcontour\"}],\"mesh3d\":[{\"colorbar\":{\"outlinewidth\":0,\"ticks\":\"\"},\"type\":\"mesh3d\"}],\"parcoords\":[{\"line\":{\"colorbar\":{\"outlinewidth\":0,\"ticks\":\"\"}},\"type\":\"parcoords\"}],\"pie\":[{\"automargin\":true,\"type\":\"pie\"}],\"scatter\":[{\"marker\":{\"colorbar\":{\"outlinewidth\":0,\"ticks\":\"\"}},\"type\":\"scatter\"}],\"scatter3d\":[{\"line\":{\"colorbar\":{\"outlinewidth\":0,\"ticks\":\"\"}},\"marker\":{\"colorbar\":{\"outlinewidth\":0,\"ticks\":\"\"}},\"type\":\"scatter3d\"}],\"scattercarpet\":[{\"marker\":{\"colorbar\":{\"outlinewidth\":0,\"ticks\":\"\"}},\"type\":\"scattercarpet\"}],\"scattergeo\":[{\"marker\":{\"colorbar\":{\"outlinewidth\":0,\"ticks\":\"\"}},\"type\":\"scattergeo\"}],\"scattergl\":[{\"marker\":{\"colorbar\":{\"outlinewidth\":0,\"ticks\":\"\"}},\"type\":\"scattergl\"}],\"scattermapbox\":[{\"marker\":{\"colorbar\":{\"outlinewidth\":0,\"ticks\":\"\"}},\"type\":\"scattermapbox\"}],\"scatterpolar\":[{\"marker\":{\"colorbar\":{\"outlinewidth\":0,\"ticks\":\"\"}},\"type\":\"scatterpolar\"}],\"scatterpolargl\":[{\"marker\":{\"colorbar\":{\"outlinewidth\":0,\"ticks\":\"\"}},\"type\":\"scatterpolargl\"}],\"scatterternary\":[{\"marker\":{\"colorbar\":{\"outlinewidth\":0,\"ticks\":\"\"}},\"type\":\"scatterternary\"}],\"surface\":[{\"colorbar\":{\"outlinewidth\":0,\"ticks\":\"\"},\"colorscale\":[[0.0,\"#0d0887\"],[0.1111111111111111,\"#46039f\"],[0.2222222222222222,\"#7201a8\"],[0.3333333333333333,\"#9c179e\"],[0.4444444444444444,\"#bd3786\"],[0.5555555555555556,\"#d8576b\"],[0.6666666666666666,\"#ed7953\"],[0.7777777777777778,\"#fb9f3a\"],[0.8888888888888888,\"#fdca26\"],[1.0,\"#f0f921\"]],\"type\":\"surface\"}],\"table\":[{\"cells\":{\"fill\":{\"color\":\"#EBF0F8\"},\"line\":{\"color\":\"white\"}},\"header\":{\"fill\":{\"color\":\"#C8D4E3\"},\"line\":{\"color\":\"white\"}},\"type\":\"table\"}]},\"layout\":{\"annotationdefaults\":{\"arrowcolor\":\"#2a3f5f\",\"arrowhead\":0,\"arrowwidth\":1},\"autotypenumbers\":\"strict\",\"coloraxis\":{\"colorbar\":{\"outlinewidth\":0,\"ticks\":\"\"}},\"colorscale\":{\"diverging\":[[0,\"#8e0152\"],[0.1,\"#c51b7d\"],[0.2,\"#de77ae\"],[0.3,\"#f1b6da\"],[0.4,\"#fde0ef\"],[0.5,\"#f7f7f7\"],[0.6,\"#e6f5d0\"],[0.7,\"#b8e186\"],[0.8,\"#7fbc41\"],[0.9,\"#4d9221\"],[1,\"#276419\"]],\"sequential\":[[0.0,\"#0d0887\"],[0.1111111111111111,\"#46039f\"],[0.2222222222222222,\"#7201a8\"],[0.3333333333333333,\"#9c179e\"],[0.4444444444444444,\"#bd3786\"],[0.5555555555555556,\"#d8576b\"],[0.6666666666666666,\"#ed7953\"],[0.7777777777777778,\"#fb9f3a\"],[0.8888888888888888,\"#fdca26\"],[1.0,\"#f0f921\"]],\"sequentialminus\":[[0.0,\"#0d0887\"],[0.1111111111111111,\"#46039f\"],[0.2222222222222222,\"#7201a8\"],[0.3333333333333333,\"#9c179e\"],[0.4444444444444444,\"#bd3786\"],[0.5555555555555556,\"#d8576b\"],[0.6666666666666666,\"#ed7953\"],[0.7777777777777778,\"#fb9f3a\"],[0.8888888888888888,\"#fdca26\"],[1.0,\"#f0f921\"]]},\"colorway\":[\"#636efa\",\"#EF553B\",\"#00cc96\",\"#ab63fa\",\"#FFA15A\",\"#19d3f3\",\"#FF6692\",\"#B6E880\",\"#FF97FF\",\"#FECB52\"],\"font\":{\"color\":\"#2a3f5f\"},\"geo\":{\"bgcolor\":\"white\",\"lakecolor\":\"white\",\"landcolor\":\"#E5ECF6\",\"showlakes\":true,\"showland\":true,\"subunitcolor\":\"white\"},\"hoverlabel\":{\"align\":\"left\"},\"hovermode\":\"closest\",\"mapbox\":{\"style\":\"light\"},\"paper_bgcolor\":\"white\",\"plot_bgcolor\":\"#E5ECF6\",\"polar\":{\"angularaxis\":{\"gridcolor\":\"white\",\"linecolor\":\"white\",\"ticks\":\"\"},\"bgcolor\":\"#E5ECF6\",\"radialaxis\":{\"gridcolor\":\"white\",\"linecolor\":\"white\",\"ticks\":\"\"}},\"scene\":{\"xaxis\":{\"backgroundcolor\":\"#E5ECF6\",\"gridcolor\":\"white\",\"gridwidth\":2,\"linecolor\":\"white\",\"showbackground\":true,\"ticks\":\"\",\"zerolinecolor\":\"white\"},\"yaxis\":{\"backgroundcolor\":\"#E5ECF6\",\"gridcolor\":\"white\",\"gridwidth\":2,\"linecolor\":\"white\",\"showbackground\":true,\"ticks\":\"\",\"zerolinecolor\":\"white\"},\"zaxis\":{\"backgroundcolor\":\"#E5ECF6\",\"gridcolor\":\"white\",\"gridwidth\":2,\"linecolor\":\"white\",\"showbackground\":true,\"ticks\":\"\",\"zerolinecolor\":\"white\"}},\"shapedefaults\":{\"line\":{\"color\":\"#2a3f5f\"}},\"ternary\":{\"aaxis\":{\"gridcolor\":\"white\",\"linecolor\":\"white\",\"ticks\":\"\"},\"baxis\":{\"gridcolor\":\"white\",\"linecolor\":\"white\",\"ticks\":\"\"},\"bgcolor\":\"#E5ECF6\",\"caxis\":{\"gridcolor\":\"white\",\"linecolor\":\"white\",\"ticks\":\"\"}},\"title\":{\"x\":0.05},\"xaxis\":{\"automargin\":true,\"gridcolor\":\"white\",\"linecolor\":\"white\",\"ticks\":\"\",\"title\":{\"standoff\":15},\"zerolinecolor\":\"white\",\"zerolinewidth\":2},\"yaxis\":{\"automargin\":true,\"gridcolor\":\"white\",\"linecolor\":\"white\",\"ticks\":\"\",\"title\":{\"standoff\":15},\"zerolinecolor\":\"white\",\"zerolinewidth\":2}}},\"xaxis\":{\"anchor\":\"y\",\"domain\":[0.0,0.48],\"title\":{\"text\":\"sugars\"}},\"yaxis\":{\"anchor\":\"x\",\"domain\":[0.0,0.3133333333333333],\"title\":{\"text\":\"rating\"}},\"xaxis2\":{\"anchor\":\"y2\",\"domain\":[0.5,0.98],\"matches\":\"x\",\"title\":{\"text\":\"sugars\"}},\"yaxis2\":{\"anchor\":\"x2\",\"domain\":[0.0,0.3133333333333333],\"matches\":\"y\",\"showticklabels\":false},\"xaxis3\":{\"anchor\":\"y3\",\"domain\":[0.0,0.48],\"matches\":\"x\",\"showticklabels\":false},\"yaxis3\":{\"anchor\":\"x3\",\"domain\":[0.34333333333333327,0.6566666666666665],\"matches\":\"y\",\"title\":{\"text\":\"rating\"}},\"xaxis4\":{\"anchor\":\"y4\",\"domain\":[0.5,0.98],\"matches\":\"x\",\"showticklabels\":false},\"yaxis4\":{\"anchor\":\"x4\",\"domain\":[0.34333333333333327,0.6566666666666665],\"matches\":\"y\",\"showticklabels\":false},\"xaxis5\":{\"anchor\":\"y5\",\"domain\":[0.0,0.48],\"matches\":\"x\",\"showticklabels\":false},\"yaxis5\":{\"anchor\":\"x5\",\"domain\":[0.6866666666666665,0.9999999999999998],\"matches\":\"y\",\"title\":{\"text\":\"rating\"}},\"xaxis6\":{\"anchor\":\"y6\",\"domain\":[0.5,0.98],\"matches\":\"x\",\"showticklabels\":false},\"yaxis6\":{\"anchor\":\"x6\",\"domain\":[0.6866666666666665,0.9999999999999998],\"matches\":\"y\",\"showticklabels\":false},\"annotations\":[{\"font\":{},\"showarrow\":false,\"text\":\"type=Cold\",\"x\":0.24,\"xanchor\":\"center\",\"xref\":\"paper\",\"y\":0.9999999999999998,\"yanchor\":\"bottom\",\"yref\":\"paper\"},{\"font\":{},\"showarrow\":false,\"text\":\"type=Hot\",\"x\":0.74,\"xanchor\":\"center\",\"xref\":\"paper\",\"y\":0.9999999999999998,\"yanchor\":\"bottom\",\"yref\":\"paper\"},{\"font\":{},\"showarrow\":false,\"text\":\"shelf=Bottom\",\"textangle\":90,\"x\":0.98,\"xanchor\":\"left\",\"xref\":\"paper\",\"y\":0.15666666666666665,\"yanchor\":\"middle\",\"yref\":\"paper\"},{\"font\":{},\"showarrow\":false,\"text\":\"shelf=Middle\",\"textangle\":90,\"x\":0.98,\"xanchor\":\"left\",\"xref\":\"paper\",\"y\":0.4999999999999999,\"yanchor\":\"middle\",\"yref\":\"paper\"},{\"font\":{},\"showarrow\":false,\"text\":\"shelf=Top\",\"textangle\":90,\"x\":0.98,\"xanchor\":\"left\",\"xref\":\"paper\",\"y\":0.8433333333333332,\"yanchor\":\"middle\",\"yref\":\"paper\"}],\"legend\":{\"title\":{\"text\":\"mfr\"},\"tracegroupgap\":0,\"itemsizing\":\"constant\"},\"margin\":{\"t\":60}},                        {\"responsive\": true}                    ).then(function(){\n",
              "                            \n",
              "var gd = document.getElementById('82c45eaa-53c7-4e06-902c-cadee5cc4622');\n",
              "var x = new MutationObserver(function (mutations, observer) {{\n",
              "        var display = window.getComputedStyle(gd).display;\n",
              "        if (!display || display === 'none') {{\n",
              "            console.log([gd, 'removed!']);\n",
              "            Plotly.purge(gd);\n",
              "            observer.disconnect();\n",
              "        }}\n",
              "}});\n",
              "\n",
              "// Listen for the removal of the full notebook cells\n",
              "var notebookContainer = gd.closest('#notebook-container');\n",
              "if (notebookContainer) {{\n",
              "    x.observe(notebookContainer, {childList: true});\n",
              "}}\n",
              "\n",
              "// Listen for the clearing of the current output cell\n",
              "var outputEl = gd.closest('.output');\n",
              "if (outputEl) {{\n",
              "    x.observe(outputEl, {childList: true});\n",
              "}}\n",
              "\n",
              "                        })                };                            </script>        </div>\n",
              "</body>\n",
              "</html>"
            ]
          },
          "metadata": {}
        }
      ]
    },
    {
      "cell_type": "code",
      "source": [
        "fig = px.treemap(df, path=['shelf', 'mfr'], values='cereal', title='Cereals by shelf location')\n",
        "fig.show()"
      ],
      "metadata": {
        "colab": {
          "base_uri": "https://localhost:8080/",
          "height": 542
        },
        "id": "Bs4Wvsgdg7TD",
        "outputId": "1e929402-ed3d-4d2d-9977-cf1198f038cf"
      },
      "execution_count": null,
      "outputs": [
        {
          "output_type": "display_data",
          "data": {
            "text/html": [
              "<html>\n",
              "<head><meta charset=\"utf-8\" /></head>\n",
              "<body>\n",
              "    <div>            <script src=\"https://cdnjs.cloudflare.com/ajax/libs/mathjax/2.7.5/MathJax.js?config=TeX-AMS-MML_SVG\"></script><script type=\"text/javascript\">if (window.MathJax) {MathJax.Hub.Config({SVG: {font: \"STIX-Web\"}});}</script>                <script type=\"text/javascript\">window.PlotlyConfig = {MathJaxConfig: 'local'};</script>\n",
              "        <script src=\"https://cdn.plot.ly/plotly-2.8.3.min.js\"></script>                <div id=\"3426a0d4-6f6a-4fc8-8587-9222d376652a\" class=\"plotly-graph-div\" style=\"height:525px; width:100%;\"></div>            <script type=\"text/javascript\">                                    window.PLOTLYENV=window.PLOTLYENV || {};                                    if (document.getElementById(\"3426a0d4-6f6a-4fc8-8587-9222d376652a\")) {                    Plotly.newPlot(                        \"3426a0d4-6f6a-4fc8-8587-9222d376652a\",                        [{\"branchvalues\":\"total\",\"domain\":{\"x\":[0.0,1.0],\"y\":[0.0,1.0]},\"hovertemplate\":\"labels=%{label}<br>cereal=%{value}<br>parent=%{parent}<br>id=%{id}<extra></extra>\",\"ids\":[\"Middle/AM Home Food\",\"Bottom/General Mills\",\"Middle/General Mills\",\"Top/General Mills\",\"Bottom/Kellogs\",\"Middle/Kellogs\",\"Top/Kellogs\",\"Bottom/Nabisco\",\"Middle/Nabisco\",\"Top/Nabisco\",\"Bottom/Post\",\"Middle/Post\",\"Top/Post\",\"Bottom/Quaker Oats\",\"Middle/Quaker Oats\",\"Top/Quaker Oats\",\"Bottom/Ralston Purina\",\"Top/Ralston Purina\",\"Bottom\",\"Middle\",\"Top\"],\"labels\":[\"AM Home Food\",\"General Mills\",\"General Mills\",\"General Mills\",\"Kellogs\",\"Kellogs\",\"Kellogs\",\"Nabisco\",\"Nabisco\",\"Nabisco\",\"Post\",\"Post\",\"Post\",\"Quaker Oats\",\"Quaker Oats\",\"Quaker Oats\",\"Ralston Purina\",\"Ralston Purina\",\"Bottom\",\"Middle\",\"Top\"],\"name\":\"\",\"parents\":[\"Middle\",\"Bottom\",\"Middle\",\"Top\",\"Bottom\",\"Middle\",\"Top\",\"Bottom\",\"Middle\",\"Top\",\"Bottom\",\"Middle\",\"Top\",\"Bottom\",\"Middle\",\"Top\",\"Bottom\",\"Top\",\"\",\"\",\"\"],\"values\":[1,6,7,9,4,7,12,3,2,1,2,1,6,1,3,4,4,4,20,21,36],\"type\":\"treemap\"}],                        {\"template\":{\"data\":{\"bar\":[{\"error_x\":{\"color\":\"#2a3f5f\"},\"error_y\":{\"color\":\"#2a3f5f\"},\"marker\":{\"line\":{\"color\":\"#E5ECF6\",\"width\":0.5},\"pattern\":{\"fillmode\":\"overlay\",\"size\":10,\"solidity\":0.2}},\"type\":\"bar\"}],\"barpolar\":[{\"marker\":{\"line\":{\"color\":\"#E5ECF6\",\"width\":0.5},\"pattern\":{\"fillmode\":\"overlay\",\"size\":10,\"solidity\":0.2}},\"type\":\"barpolar\"}],\"carpet\":[{\"aaxis\":{\"endlinecolor\":\"#2a3f5f\",\"gridcolor\":\"white\",\"linecolor\":\"white\",\"minorgridcolor\":\"white\",\"startlinecolor\":\"#2a3f5f\"},\"baxis\":{\"endlinecolor\":\"#2a3f5f\",\"gridcolor\":\"white\",\"linecolor\":\"white\",\"minorgridcolor\":\"white\",\"startlinecolor\":\"#2a3f5f\"},\"type\":\"carpet\"}],\"choropleth\":[{\"colorbar\":{\"outlinewidth\":0,\"ticks\":\"\"},\"type\":\"choropleth\"}],\"contour\":[{\"colorbar\":{\"outlinewidth\":0,\"ticks\":\"\"},\"colorscale\":[[0.0,\"#0d0887\"],[0.1111111111111111,\"#46039f\"],[0.2222222222222222,\"#7201a8\"],[0.3333333333333333,\"#9c179e\"],[0.4444444444444444,\"#bd3786\"],[0.5555555555555556,\"#d8576b\"],[0.6666666666666666,\"#ed7953\"],[0.7777777777777778,\"#fb9f3a\"],[0.8888888888888888,\"#fdca26\"],[1.0,\"#f0f921\"]],\"type\":\"contour\"}],\"contourcarpet\":[{\"colorbar\":{\"outlinewidth\":0,\"ticks\":\"\"},\"type\":\"contourcarpet\"}],\"heatmap\":[{\"colorbar\":{\"outlinewidth\":0,\"ticks\":\"\"},\"colorscale\":[[0.0,\"#0d0887\"],[0.1111111111111111,\"#46039f\"],[0.2222222222222222,\"#7201a8\"],[0.3333333333333333,\"#9c179e\"],[0.4444444444444444,\"#bd3786\"],[0.5555555555555556,\"#d8576b\"],[0.6666666666666666,\"#ed7953\"],[0.7777777777777778,\"#fb9f3a\"],[0.8888888888888888,\"#fdca26\"],[1.0,\"#f0f921\"]],\"type\":\"heatmap\"}],\"heatmapgl\":[{\"colorbar\":{\"outlinewidth\":0,\"ticks\":\"\"},\"colorscale\":[[0.0,\"#0d0887\"],[0.1111111111111111,\"#46039f\"],[0.2222222222222222,\"#7201a8\"],[0.3333333333333333,\"#9c179e\"],[0.4444444444444444,\"#bd3786\"],[0.5555555555555556,\"#d8576b\"],[0.6666666666666666,\"#ed7953\"],[0.7777777777777778,\"#fb9f3a\"],[0.8888888888888888,\"#fdca26\"],[1.0,\"#f0f921\"]],\"type\":\"heatmapgl\"}],\"histogram\":[{\"marker\":{\"pattern\":{\"fillmode\":\"overlay\",\"size\":10,\"solidity\":0.2}},\"type\":\"histogram\"}],\"histogram2d\":[{\"colorbar\":{\"outlinewidth\":0,\"ticks\":\"\"},\"colorscale\":[[0.0,\"#0d0887\"],[0.1111111111111111,\"#46039f\"],[0.2222222222222222,\"#7201a8\"],[0.3333333333333333,\"#9c179e\"],[0.4444444444444444,\"#bd3786\"],[0.5555555555555556,\"#d8576b\"],[0.6666666666666666,\"#ed7953\"],[0.7777777777777778,\"#fb9f3a\"],[0.8888888888888888,\"#fdca26\"],[1.0,\"#f0f921\"]],\"type\":\"histogram2d\"}],\"histogram2dcontour\":[{\"colorbar\":{\"outlinewidth\":0,\"ticks\":\"\"},\"colorscale\":[[0.0,\"#0d0887\"],[0.1111111111111111,\"#46039f\"],[0.2222222222222222,\"#7201a8\"],[0.3333333333333333,\"#9c179e\"],[0.4444444444444444,\"#bd3786\"],[0.5555555555555556,\"#d8576b\"],[0.6666666666666666,\"#ed7953\"],[0.7777777777777778,\"#fb9f3a\"],[0.8888888888888888,\"#fdca26\"],[1.0,\"#f0f921\"]],\"type\":\"histogram2dcontour\"}],\"mesh3d\":[{\"colorbar\":{\"outlinewidth\":0,\"ticks\":\"\"},\"type\":\"mesh3d\"}],\"parcoords\":[{\"line\":{\"colorbar\":{\"outlinewidth\":0,\"ticks\":\"\"}},\"type\":\"parcoords\"}],\"pie\":[{\"automargin\":true,\"type\":\"pie\"}],\"scatter\":[{\"marker\":{\"colorbar\":{\"outlinewidth\":0,\"ticks\":\"\"}},\"type\":\"scatter\"}],\"scatter3d\":[{\"line\":{\"colorbar\":{\"outlinewidth\":0,\"ticks\":\"\"}},\"marker\":{\"colorbar\":{\"outlinewidth\":0,\"ticks\":\"\"}},\"type\":\"scatter3d\"}],\"scattercarpet\":[{\"marker\":{\"colorbar\":{\"outlinewidth\":0,\"ticks\":\"\"}},\"type\":\"scattercarpet\"}],\"scattergeo\":[{\"marker\":{\"colorbar\":{\"outlinewidth\":0,\"ticks\":\"\"}},\"type\":\"scattergeo\"}],\"scattergl\":[{\"marker\":{\"colorbar\":{\"outlinewidth\":0,\"ticks\":\"\"}},\"type\":\"scattergl\"}],\"scattermapbox\":[{\"marker\":{\"colorbar\":{\"outlinewidth\":0,\"ticks\":\"\"}},\"type\":\"scattermapbox\"}],\"scatterpolar\":[{\"marker\":{\"colorbar\":{\"outlinewidth\":0,\"ticks\":\"\"}},\"type\":\"scatterpolar\"}],\"scatterpolargl\":[{\"marker\":{\"colorbar\":{\"outlinewidth\":0,\"ticks\":\"\"}},\"type\":\"scatterpolargl\"}],\"scatterternary\":[{\"marker\":{\"colorbar\":{\"outlinewidth\":0,\"ticks\":\"\"}},\"type\":\"scatterternary\"}],\"surface\":[{\"colorbar\":{\"outlinewidth\":0,\"ticks\":\"\"},\"colorscale\":[[0.0,\"#0d0887\"],[0.1111111111111111,\"#46039f\"],[0.2222222222222222,\"#7201a8\"],[0.3333333333333333,\"#9c179e\"],[0.4444444444444444,\"#bd3786\"],[0.5555555555555556,\"#d8576b\"],[0.6666666666666666,\"#ed7953\"],[0.7777777777777778,\"#fb9f3a\"],[0.8888888888888888,\"#fdca26\"],[1.0,\"#f0f921\"]],\"type\":\"surface\"}],\"table\":[{\"cells\":{\"fill\":{\"color\":\"#EBF0F8\"},\"line\":{\"color\":\"white\"}},\"header\":{\"fill\":{\"color\":\"#C8D4E3\"},\"line\":{\"color\":\"white\"}},\"type\":\"table\"}]},\"layout\":{\"annotationdefaults\":{\"arrowcolor\":\"#2a3f5f\",\"arrowhead\":0,\"arrowwidth\":1},\"autotypenumbers\":\"strict\",\"coloraxis\":{\"colorbar\":{\"outlinewidth\":0,\"ticks\":\"\"}},\"colorscale\":{\"diverging\":[[0,\"#8e0152\"],[0.1,\"#c51b7d\"],[0.2,\"#de77ae\"],[0.3,\"#f1b6da\"],[0.4,\"#fde0ef\"],[0.5,\"#f7f7f7\"],[0.6,\"#e6f5d0\"],[0.7,\"#b8e186\"],[0.8,\"#7fbc41\"],[0.9,\"#4d9221\"],[1,\"#276419\"]],\"sequential\":[[0.0,\"#0d0887\"],[0.1111111111111111,\"#46039f\"],[0.2222222222222222,\"#7201a8\"],[0.3333333333333333,\"#9c179e\"],[0.4444444444444444,\"#bd3786\"],[0.5555555555555556,\"#d8576b\"],[0.6666666666666666,\"#ed7953\"],[0.7777777777777778,\"#fb9f3a\"],[0.8888888888888888,\"#fdca26\"],[1.0,\"#f0f921\"]],\"sequentialminus\":[[0.0,\"#0d0887\"],[0.1111111111111111,\"#46039f\"],[0.2222222222222222,\"#7201a8\"],[0.3333333333333333,\"#9c179e\"],[0.4444444444444444,\"#bd3786\"],[0.5555555555555556,\"#d8576b\"],[0.6666666666666666,\"#ed7953\"],[0.7777777777777778,\"#fb9f3a\"],[0.8888888888888888,\"#fdca26\"],[1.0,\"#f0f921\"]]},\"colorway\":[\"#636efa\",\"#EF553B\",\"#00cc96\",\"#ab63fa\",\"#FFA15A\",\"#19d3f3\",\"#FF6692\",\"#B6E880\",\"#FF97FF\",\"#FECB52\"],\"font\":{\"color\":\"#2a3f5f\"},\"geo\":{\"bgcolor\":\"white\",\"lakecolor\":\"white\",\"landcolor\":\"#E5ECF6\",\"showlakes\":true,\"showland\":true,\"subunitcolor\":\"white\"},\"hoverlabel\":{\"align\":\"left\"},\"hovermode\":\"closest\",\"mapbox\":{\"style\":\"light\"},\"paper_bgcolor\":\"white\",\"plot_bgcolor\":\"#E5ECF6\",\"polar\":{\"angularaxis\":{\"gridcolor\":\"white\",\"linecolor\":\"white\",\"ticks\":\"\"},\"bgcolor\":\"#E5ECF6\",\"radialaxis\":{\"gridcolor\":\"white\",\"linecolor\":\"white\",\"ticks\":\"\"}},\"scene\":{\"xaxis\":{\"backgroundcolor\":\"#E5ECF6\",\"gridcolor\":\"white\",\"gridwidth\":2,\"linecolor\":\"white\",\"showbackground\":true,\"ticks\":\"\",\"zerolinecolor\":\"white\"},\"yaxis\":{\"backgroundcolor\":\"#E5ECF6\",\"gridcolor\":\"white\",\"gridwidth\":2,\"linecolor\":\"white\",\"showbackground\":true,\"ticks\":\"\",\"zerolinecolor\":\"white\"},\"zaxis\":{\"backgroundcolor\":\"#E5ECF6\",\"gridcolor\":\"white\",\"gridwidth\":2,\"linecolor\":\"white\",\"showbackground\":true,\"ticks\":\"\",\"zerolinecolor\":\"white\"}},\"shapedefaults\":{\"line\":{\"color\":\"#2a3f5f\"}},\"ternary\":{\"aaxis\":{\"gridcolor\":\"white\",\"linecolor\":\"white\",\"ticks\":\"\"},\"baxis\":{\"gridcolor\":\"white\",\"linecolor\":\"white\",\"ticks\":\"\"},\"bgcolor\":\"#E5ECF6\",\"caxis\":{\"gridcolor\":\"white\",\"linecolor\":\"white\",\"ticks\":\"\"}},\"title\":{\"x\":0.05},\"xaxis\":{\"automargin\":true,\"gridcolor\":\"white\",\"linecolor\":\"white\",\"ticks\":\"\",\"title\":{\"standoff\":15},\"zerolinecolor\":\"white\",\"zerolinewidth\":2},\"yaxis\":{\"automargin\":true,\"gridcolor\":\"white\",\"linecolor\":\"white\",\"ticks\":\"\",\"title\":{\"standoff\":15},\"zerolinecolor\":\"white\",\"zerolinewidth\":2}}},\"legend\":{\"tracegroupgap\":0},\"title\":{\"text\":\"Cereals by shelf location\"}},                        {\"responsive\": true}                    ).then(function(){\n",
              "                            \n",
              "var gd = document.getElementById('3426a0d4-6f6a-4fc8-8587-9222d376652a');\n",
              "var x = new MutationObserver(function (mutations, observer) {{\n",
              "        var display = window.getComputedStyle(gd).display;\n",
              "        if (!display || display === 'none') {{\n",
              "            console.log([gd, 'removed!']);\n",
              "            Plotly.purge(gd);\n",
              "            observer.disconnect();\n",
              "        }}\n",
              "}});\n",
              "\n",
              "// Listen for the removal of the full notebook cells\n",
              "var notebookContainer = gd.closest('#notebook-container');\n",
              "if (notebookContainer) {{\n",
              "    x.observe(notebookContainer, {childList: true});\n",
              "}}\n",
              "\n",
              "// Listen for the clearing of the current output cell\n",
              "var outputEl = gd.closest('.output');\n",
              "if (outputEl) {{\n",
              "    x.observe(outputEl, {childList: true});\n",
              "}}\n",
              "\n",
              "                        })                };                            </script>        </div>\n",
              "</body>\n",
              "</html>"
            ]
          },
          "metadata": {}
        }
      ]
    },
    {
      "cell_type": "code",
      "source": [
        "df[(df['mfr'] == 'Kellogs')&(df['shelf'] == 'Top')]['shelf'].count()"
      ],
      "metadata": {
        "colab": {
          "base_uri": "https://localhost:8080/"
        },
        "id": "jW4_FbZOhycx",
        "outputId": "00c2ce4d-e105-45c0-e155-5821c991e2f3"
      },
      "execution_count": null,
      "outputs": [
        {
          "output_type": "execute_result",
          "data": {
            "text/plain": [
              "12"
            ]
          },
          "metadata": {},
          "execution_count": 14
        }
      ]
    },
    {
      "cell_type": "code",
      "source": [
        "fig = px.sunburst(df, path=['mfr','shelf','type'], values='cereal')\n",
        "fig.show()"
      ],
      "metadata": {
        "colab": {
          "base_uri": "https://localhost:8080/",
          "height": 542
        },
        "id": "35zNI8SRg9zf",
        "outputId": "b62e7326-7f9d-403d-db92-61d47083a8fa"
      },
      "execution_count": null,
      "outputs": [
        {
          "output_type": "display_data",
          "data": {
            "text/html": [
              "<html>\n",
              "<head><meta charset=\"utf-8\" /></head>\n",
              "<body>\n",
              "    <div>            <script src=\"https://cdnjs.cloudflare.com/ajax/libs/mathjax/2.7.5/MathJax.js?config=TeX-AMS-MML_SVG\"></script><script type=\"text/javascript\">if (window.MathJax) {MathJax.Hub.Config({SVG: {font: \"STIX-Web\"}});}</script>                <script type=\"text/javascript\">window.PlotlyConfig = {MathJaxConfig: 'local'};</script>\n",
              "        <script src=\"https://cdn.plot.ly/plotly-2.8.3.min.js\"></script>                <div id=\"5819f088-202e-4679-8a62-91e9b6a23b18\" class=\"plotly-graph-div\" style=\"height:525px; width:100%;\"></div>            <script type=\"text/javascript\">                                    window.PLOTLYENV=window.PLOTLYENV || {};                                    if (document.getElementById(\"5819f088-202e-4679-8a62-91e9b6a23b18\")) {                    Plotly.newPlot(                        \"5819f088-202e-4679-8a62-91e9b6a23b18\",                        [{\"branchvalues\":\"total\",\"domain\":{\"x\":[0.0,1.0],\"y\":[0.0,1.0]},\"hovertemplate\":\"labels=%{label}<br>cereal=%{value}<br>parent=%{parent}<br>id=%{id}<extra></extra>\",\"ids\":[\"General Mills/Bottom/Cold\",\"Kellogs/Bottom/Cold\",\"Nabisco/Bottom/Cold\",\"Post/Bottom/Cold\",\"Ralston Purina/Bottom/Cold\",\"General Mills/Middle/Cold\",\"Kellogs/Middle/Cold\",\"Nabisco/Middle/Cold\",\"Post/Middle/Cold\",\"Quaker Oats/Middle/Cold\",\"General Mills/Top/Cold\",\"Kellogs/Top/Cold\",\"Nabisco/Top/Cold\",\"Post/Top/Cold\",\"Quaker Oats/Top/Cold\",\"Ralston Purina/Top/Cold\",\"Quaker Oats/Bottom/Hot\",\"AM Home Food/Middle/Hot\",\"Nabisco/Middle/Hot\",\"General Mills/Bottom\",\"Kellogs/Bottom\",\"Nabisco/Bottom\",\"Post/Bottom\",\"Quaker Oats/Bottom\",\"Ralston Purina/Bottom\",\"AM Home Food/Middle\",\"General Mills/Middle\",\"Kellogs/Middle\",\"Nabisco/Middle\",\"Post/Middle\",\"Quaker Oats/Middle\",\"General Mills/Top\",\"Kellogs/Top\",\"Nabisco/Top\",\"Post/Top\",\"Quaker Oats/Top\",\"Ralston Purina/Top\",\"AM Home Food\",\"General Mills\",\"Kellogs\",\"Nabisco\",\"Post\",\"Quaker Oats\",\"Ralston Purina\"],\"labels\":[\"Cold\",\"Cold\",\"Cold\",\"Cold\",\"Cold\",\"Cold\",\"Cold\",\"Cold\",\"Cold\",\"Cold\",\"Cold\",\"Cold\",\"Cold\",\"Cold\",\"Cold\",\"Cold\",\"Hot\",\"Hot\",\"Hot\",\"Bottom\",\"Bottom\",\"Bottom\",\"Bottom\",\"Bottom\",\"Bottom\",\"Middle\",\"Middle\",\"Middle\",\"Middle\",\"Middle\",\"Middle\",\"Top\",\"Top\",\"Top\",\"Top\",\"Top\",\"Top\",\"AM Home Food\",\"General Mills\",\"Kellogs\",\"Nabisco\",\"Post\",\"Quaker Oats\",\"Ralston Purina\"],\"name\":\"\",\"parents\":[\"General Mills/Bottom\",\"Kellogs/Bottom\",\"Nabisco/Bottom\",\"Post/Bottom\",\"Ralston Purina/Bottom\",\"General Mills/Middle\",\"Kellogs/Middle\",\"Nabisco/Middle\",\"Post/Middle\",\"Quaker Oats/Middle\",\"General Mills/Top\",\"Kellogs/Top\",\"Nabisco/Top\",\"Post/Top\",\"Quaker Oats/Top\",\"Ralston Purina/Top\",\"Quaker Oats/Bottom\",\"AM Home Food/Middle\",\"Nabisco/Middle\",\"General Mills\",\"Kellogs\",\"Nabisco\",\"Post\",\"Quaker Oats\",\"Ralston Purina\",\"AM Home Food\",\"General Mills\",\"Kellogs\",\"Nabisco\",\"Post\",\"Quaker Oats\",\"General Mills\",\"Kellogs\",\"Nabisco\",\"Post\",\"Quaker Oats\",\"Ralston Purina\",\"\",\"\",\"\",\"\",\"\",\"\",\"\"],\"values\":[6,4,3,2,4,7,7,1,1,3,9,12,1,6,4,4,1,1,1,6,4,3,2,1,4,1,7,7,2,1,3,9,12,1,6,4,4,1,22,23,6,9,8,8],\"type\":\"sunburst\"}],                        {\"template\":{\"data\":{\"bar\":[{\"error_x\":{\"color\":\"#2a3f5f\"},\"error_y\":{\"color\":\"#2a3f5f\"},\"marker\":{\"line\":{\"color\":\"#E5ECF6\",\"width\":0.5},\"pattern\":{\"fillmode\":\"overlay\",\"size\":10,\"solidity\":0.2}},\"type\":\"bar\"}],\"barpolar\":[{\"marker\":{\"line\":{\"color\":\"#E5ECF6\",\"width\":0.5},\"pattern\":{\"fillmode\":\"overlay\",\"size\":10,\"solidity\":0.2}},\"type\":\"barpolar\"}],\"carpet\":[{\"aaxis\":{\"endlinecolor\":\"#2a3f5f\",\"gridcolor\":\"white\",\"linecolor\":\"white\",\"minorgridcolor\":\"white\",\"startlinecolor\":\"#2a3f5f\"},\"baxis\":{\"endlinecolor\":\"#2a3f5f\",\"gridcolor\":\"white\",\"linecolor\":\"white\",\"minorgridcolor\":\"white\",\"startlinecolor\":\"#2a3f5f\"},\"type\":\"carpet\"}],\"choropleth\":[{\"colorbar\":{\"outlinewidth\":0,\"ticks\":\"\"},\"type\":\"choropleth\"}],\"contour\":[{\"colorbar\":{\"outlinewidth\":0,\"ticks\":\"\"},\"colorscale\":[[0.0,\"#0d0887\"],[0.1111111111111111,\"#46039f\"],[0.2222222222222222,\"#7201a8\"],[0.3333333333333333,\"#9c179e\"],[0.4444444444444444,\"#bd3786\"],[0.5555555555555556,\"#d8576b\"],[0.6666666666666666,\"#ed7953\"],[0.7777777777777778,\"#fb9f3a\"],[0.8888888888888888,\"#fdca26\"],[1.0,\"#f0f921\"]],\"type\":\"contour\"}],\"contourcarpet\":[{\"colorbar\":{\"outlinewidth\":0,\"ticks\":\"\"},\"type\":\"contourcarpet\"}],\"heatmap\":[{\"colorbar\":{\"outlinewidth\":0,\"ticks\":\"\"},\"colorscale\":[[0.0,\"#0d0887\"],[0.1111111111111111,\"#46039f\"],[0.2222222222222222,\"#7201a8\"],[0.3333333333333333,\"#9c179e\"],[0.4444444444444444,\"#bd3786\"],[0.5555555555555556,\"#d8576b\"],[0.6666666666666666,\"#ed7953\"],[0.7777777777777778,\"#fb9f3a\"],[0.8888888888888888,\"#fdca26\"],[1.0,\"#f0f921\"]],\"type\":\"heatmap\"}],\"heatmapgl\":[{\"colorbar\":{\"outlinewidth\":0,\"ticks\":\"\"},\"colorscale\":[[0.0,\"#0d0887\"],[0.1111111111111111,\"#46039f\"],[0.2222222222222222,\"#7201a8\"],[0.3333333333333333,\"#9c179e\"],[0.4444444444444444,\"#bd3786\"],[0.5555555555555556,\"#d8576b\"],[0.6666666666666666,\"#ed7953\"],[0.7777777777777778,\"#fb9f3a\"],[0.8888888888888888,\"#fdca26\"],[1.0,\"#f0f921\"]],\"type\":\"heatmapgl\"}],\"histogram\":[{\"marker\":{\"pattern\":{\"fillmode\":\"overlay\",\"size\":10,\"solidity\":0.2}},\"type\":\"histogram\"}],\"histogram2d\":[{\"colorbar\":{\"outlinewidth\":0,\"ticks\":\"\"},\"colorscale\":[[0.0,\"#0d0887\"],[0.1111111111111111,\"#46039f\"],[0.2222222222222222,\"#7201a8\"],[0.3333333333333333,\"#9c179e\"],[0.4444444444444444,\"#bd3786\"],[0.5555555555555556,\"#d8576b\"],[0.6666666666666666,\"#ed7953\"],[0.7777777777777778,\"#fb9f3a\"],[0.8888888888888888,\"#fdca26\"],[1.0,\"#f0f921\"]],\"type\":\"histogram2d\"}],\"histogram2dcontour\":[{\"colorbar\":{\"outlinewidth\":0,\"ticks\":\"\"},\"colorscale\":[[0.0,\"#0d0887\"],[0.1111111111111111,\"#46039f\"],[0.2222222222222222,\"#7201a8\"],[0.3333333333333333,\"#9c179e\"],[0.4444444444444444,\"#bd3786\"],[0.5555555555555556,\"#d8576b\"],[0.6666666666666666,\"#ed7953\"],[0.7777777777777778,\"#fb9f3a\"],[0.8888888888888888,\"#fdca26\"],[1.0,\"#f0f921\"]],\"type\":\"histogram2dcontour\"}],\"mesh3d\":[{\"colorbar\":{\"outlinewidth\":0,\"ticks\":\"\"},\"type\":\"mesh3d\"}],\"parcoords\":[{\"line\":{\"colorbar\":{\"outlinewidth\":0,\"ticks\":\"\"}},\"type\":\"parcoords\"}],\"pie\":[{\"automargin\":true,\"type\":\"pie\"}],\"scatter\":[{\"marker\":{\"colorbar\":{\"outlinewidth\":0,\"ticks\":\"\"}},\"type\":\"scatter\"}],\"scatter3d\":[{\"line\":{\"colorbar\":{\"outlinewidth\":0,\"ticks\":\"\"}},\"marker\":{\"colorbar\":{\"outlinewidth\":0,\"ticks\":\"\"}},\"type\":\"scatter3d\"}],\"scattercarpet\":[{\"marker\":{\"colorbar\":{\"outlinewidth\":0,\"ticks\":\"\"}},\"type\":\"scattercarpet\"}],\"scattergeo\":[{\"marker\":{\"colorbar\":{\"outlinewidth\":0,\"ticks\":\"\"}},\"type\":\"scattergeo\"}],\"scattergl\":[{\"marker\":{\"colorbar\":{\"outlinewidth\":0,\"ticks\":\"\"}},\"type\":\"scattergl\"}],\"scattermapbox\":[{\"marker\":{\"colorbar\":{\"outlinewidth\":0,\"ticks\":\"\"}},\"type\":\"scattermapbox\"}],\"scatterpolar\":[{\"marker\":{\"colorbar\":{\"outlinewidth\":0,\"ticks\":\"\"}},\"type\":\"scatterpolar\"}],\"scatterpolargl\":[{\"marker\":{\"colorbar\":{\"outlinewidth\":0,\"ticks\":\"\"}},\"type\":\"scatterpolargl\"}],\"scatterternary\":[{\"marker\":{\"colorbar\":{\"outlinewidth\":0,\"ticks\":\"\"}},\"type\":\"scatterternary\"}],\"surface\":[{\"colorbar\":{\"outlinewidth\":0,\"ticks\":\"\"},\"colorscale\":[[0.0,\"#0d0887\"],[0.1111111111111111,\"#46039f\"],[0.2222222222222222,\"#7201a8\"],[0.3333333333333333,\"#9c179e\"],[0.4444444444444444,\"#bd3786\"],[0.5555555555555556,\"#d8576b\"],[0.6666666666666666,\"#ed7953\"],[0.7777777777777778,\"#fb9f3a\"],[0.8888888888888888,\"#fdca26\"],[1.0,\"#f0f921\"]],\"type\":\"surface\"}],\"table\":[{\"cells\":{\"fill\":{\"color\":\"#EBF0F8\"},\"line\":{\"color\":\"white\"}},\"header\":{\"fill\":{\"color\":\"#C8D4E3\"},\"line\":{\"color\":\"white\"}},\"type\":\"table\"}]},\"layout\":{\"annotationdefaults\":{\"arrowcolor\":\"#2a3f5f\",\"arrowhead\":0,\"arrowwidth\":1},\"autotypenumbers\":\"strict\",\"coloraxis\":{\"colorbar\":{\"outlinewidth\":0,\"ticks\":\"\"}},\"colorscale\":{\"diverging\":[[0,\"#8e0152\"],[0.1,\"#c51b7d\"],[0.2,\"#de77ae\"],[0.3,\"#f1b6da\"],[0.4,\"#fde0ef\"],[0.5,\"#f7f7f7\"],[0.6,\"#e6f5d0\"],[0.7,\"#b8e186\"],[0.8,\"#7fbc41\"],[0.9,\"#4d9221\"],[1,\"#276419\"]],\"sequential\":[[0.0,\"#0d0887\"],[0.1111111111111111,\"#46039f\"],[0.2222222222222222,\"#7201a8\"],[0.3333333333333333,\"#9c179e\"],[0.4444444444444444,\"#bd3786\"],[0.5555555555555556,\"#d8576b\"],[0.6666666666666666,\"#ed7953\"],[0.7777777777777778,\"#fb9f3a\"],[0.8888888888888888,\"#fdca26\"],[1.0,\"#f0f921\"]],\"sequentialminus\":[[0.0,\"#0d0887\"],[0.1111111111111111,\"#46039f\"],[0.2222222222222222,\"#7201a8\"],[0.3333333333333333,\"#9c179e\"],[0.4444444444444444,\"#bd3786\"],[0.5555555555555556,\"#d8576b\"],[0.6666666666666666,\"#ed7953\"],[0.7777777777777778,\"#fb9f3a\"],[0.8888888888888888,\"#fdca26\"],[1.0,\"#f0f921\"]]},\"colorway\":[\"#636efa\",\"#EF553B\",\"#00cc96\",\"#ab63fa\",\"#FFA15A\",\"#19d3f3\",\"#FF6692\",\"#B6E880\",\"#FF97FF\",\"#FECB52\"],\"font\":{\"color\":\"#2a3f5f\"},\"geo\":{\"bgcolor\":\"white\",\"lakecolor\":\"white\",\"landcolor\":\"#E5ECF6\",\"showlakes\":true,\"showland\":true,\"subunitcolor\":\"white\"},\"hoverlabel\":{\"align\":\"left\"},\"hovermode\":\"closest\",\"mapbox\":{\"style\":\"light\"},\"paper_bgcolor\":\"white\",\"plot_bgcolor\":\"#E5ECF6\",\"polar\":{\"angularaxis\":{\"gridcolor\":\"white\",\"linecolor\":\"white\",\"ticks\":\"\"},\"bgcolor\":\"#E5ECF6\",\"radialaxis\":{\"gridcolor\":\"white\",\"linecolor\":\"white\",\"ticks\":\"\"}},\"scene\":{\"xaxis\":{\"backgroundcolor\":\"#E5ECF6\",\"gridcolor\":\"white\",\"gridwidth\":2,\"linecolor\":\"white\",\"showbackground\":true,\"ticks\":\"\",\"zerolinecolor\":\"white\"},\"yaxis\":{\"backgroundcolor\":\"#E5ECF6\",\"gridcolor\":\"white\",\"gridwidth\":2,\"linecolor\":\"white\",\"showbackground\":true,\"ticks\":\"\",\"zerolinecolor\":\"white\"},\"zaxis\":{\"backgroundcolor\":\"#E5ECF6\",\"gridcolor\":\"white\",\"gridwidth\":2,\"linecolor\":\"white\",\"showbackground\":true,\"ticks\":\"\",\"zerolinecolor\":\"white\"}},\"shapedefaults\":{\"line\":{\"color\":\"#2a3f5f\"}},\"ternary\":{\"aaxis\":{\"gridcolor\":\"white\",\"linecolor\":\"white\",\"ticks\":\"\"},\"baxis\":{\"gridcolor\":\"white\",\"linecolor\":\"white\",\"ticks\":\"\"},\"bgcolor\":\"#E5ECF6\",\"caxis\":{\"gridcolor\":\"white\",\"linecolor\":\"white\",\"ticks\":\"\"}},\"title\":{\"x\":0.05},\"xaxis\":{\"automargin\":true,\"gridcolor\":\"white\",\"linecolor\":\"white\",\"ticks\":\"\",\"title\":{\"standoff\":15},\"zerolinecolor\":\"white\",\"zerolinewidth\":2},\"yaxis\":{\"automargin\":true,\"gridcolor\":\"white\",\"linecolor\":\"white\",\"ticks\":\"\",\"title\":{\"standoff\":15},\"zerolinecolor\":\"white\",\"zerolinewidth\":2}}},\"legend\":{\"tracegroupgap\":0},\"margin\":{\"t\":60}},                        {\"responsive\": true}                    ).then(function(){\n",
              "                            \n",
              "var gd = document.getElementById('5819f088-202e-4679-8a62-91e9b6a23b18');\n",
              "var x = new MutationObserver(function (mutations, observer) {{\n",
              "        var display = window.getComputedStyle(gd).display;\n",
              "        if (!display || display === 'none') {{\n",
              "            console.log([gd, 'removed!']);\n",
              "            Plotly.purge(gd);\n",
              "            observer.disconnect();\n",
              "        }}\n",
              "}});\n",
              "\n",
              "// Listen for the removal of the full notebook cells\n",
              "var notebookContainer = gd.closest('#notebook-container');\n",
              "if (notebookContainer) {{\n",
              "    x.observe(notebookContainer, {childList: true});\n",
              "}}\n",
              "\n",
              "// Listen for the clearing of the current output cell\n",
              "var outputEl = gd.closest('.output');\n",
              "if (outputEl) {{\n",
              "    x.observe(outputEl, {childList: true});\n",
              "}}\n",
              "\n",
              "                        })                };                            </script>        </div>\n",
              "</body>\n",
              "</html>"
            ]
          },
          "metadata": {}
        }
      ]
    },
    {
      "cell_type": "code",
      "source": [
        "fig = px.sunburst(df, path=['mfr','name'], values='calories')\n",
        "fig.show()"
      ],
      "metadata": {
        "colab": {
          "base_uri": "https://localhost:8080/",
          "height": 542
        },
        "id": "CAcs_8QKBTAU",
        "outputId": "f8a19a8c-d437-4b14-85dd-c596feb7ed2f"
      },
      "execution_count": null,
      "outputs": [
        {
          "output_type": "display_data",
          "data": {
            "text/html": [
              "<html>\n",
              "<head><meta charset=\"utf-8\" /></head>\n",
              "<body>\n",
              "    <div>            <script src=\"https://cdnjs.cloudflare.com/ajax/libs/mathjax/2.7.5/MathJax.js?config=TeX-AMS-MML_SVG\"></script><script type=\"text/javascript\">if (window.MathJax) {MathJax.Hub.Config({SVG: {font: \"STIX-Web\"}});}</script>                <script type=\"text/javascript\">window.PlotlyConfig = {MathJaxConfig: 'local'};</script>\n",
              "        <script src=\"https://cdn.plot.ly/plotly-2.8.3.min.js\"></script>                <div id=\"51fab35d-3afa-4250-bd42-7bc4dadf65ba\" class=\"plotly-graph-div\" style=\"height:525px; width:100%;\"></div>            <script type=\"text/javascript\">                                    window.PLOTLYENV=window.PLOTLYENV || {};                                    if (document.getElementById(\"51fab35d-3afa-4250-bd42-7bc4dadf65ba\")) {                    Plotly.newPlot(                        \"51fab35d-3afa-4250-bd42-7bc4dadf65ba\",                        [{\"branchvalues\":\"total\",\"domain\":{\"x\":[0.0,1.0],\"y\":[0.0,1.0]},\"hovertemplate\":\"labels=%{label}<br>calories=%{value}<br>parent=%{parent}<br>id=%{id}<extra></extra>\",\"ids\":[\"Nabisco/100% Bran\",\"Quaker Oats/100% Natural Bran\",\"Kellogs/All-Bran\",\"Kellogs/All-Bran with Extra Fiber\",\"Ralston Purina/Almond Delight\",\"General Mills/Apple Cinnamon Cheerios\",\"Kellogs/Apple Jacks\",\"General Mills/Basic 4\",\"Ralston Purina/Bran Chex\",\"Post/Bran Flakes\",\"Quaker Oats/Cap'n'Crunch\",\"General Mills/Cheerios\",\"General Mills/Cinnamon Toast Crunch\",\"General Mills/Clusters\",\"General Mills/Cocoa Puffs\",\"Ralston Purina/Corn Chex\",\"Kellogs/Corn Flakes\",\"Kellogs/Corn Pops\",\"General Mills/Count Chocula\",\"Kellogs/Cracklin' Oat Bran\",\"Nabisco/Cream of Wheat (Quick)\",\"Kellogs/Crispix\",\"General Mills/Crispy Wheat & Raisins\",\"Ralston Purina/Double Chex\",\"Kellogs/Froot Loops\",\"Kellogs/Frosted Flakes\",\"Kellogs/Frosted Mini-Wheats\",\"Post/Fruit & Fibre Dates, Walnuts, and Oats\",\"Kellogs/Fruitful Bran\",\"Post/Fruity Pebbles\",\"Post/Golden Crisp\",\"General Mills/Golden Grahams\",\"Post/Grape Nuts Flakes\",\"Post/Grape-Nuts\",\"Post/Great Grains Pecan\",\"Quaker Oats/Honey Graham Ohs\",\"General Mills/Honey Nut Cheerios\",\"Post/Honey-comb\",\"Kellogs/Just Right Crunchy  Nuggets\",\"Kellogs/Just Right Fruit & Nut\",\"General Mills/Kix\",\"Quaker Oats/Life\",\"General Mills/Lucky Charms\",\"AM Home Food/Maypo\",\"Ralston Purina/Muesli Raisins, Dates, & Almonds\",\"Ralston Purina/Muesli Raisins, Peaches, & Pecans\",\"Kellogs/Mueslix Crispy Blend\",\"General Mills/Multi-Grain Cheerios\",\"Kellogs/Nut&Honey Crunch\",\"Kellogs/Nutri-Grain Almond-Raisin\",\"Kellogs/Nutri-grain Wheat\",\"General Mills/Oatmeal Raisin Crisp\",\"Post/Post Nat. Raisin Bran\",\"Kellogs/Product 19\",\"Quaker Oats/Puffed Rice\",\"Quaker Oats/Puffed Wheat\",\"Quaker Oats/Quaker Oat Squares\",\"Quaker Oats/Quaker Oatmeal\",\"Kellogs/Raisin Bran\",\"General Mills/Raisin Nut Bran\",\"Kellogs/Raisin Squares\",\"Ralston Purina/Rice Chex\",\"Kellogs/Rice Krispies\",\"Nabisco/Shredded Wheat\",\"Nabisco/Shredded Wheat 'n'Bran\",\"Nabisco/Shredded Wheat spoon size\",\"Kellogs/Smacks\",\"Kellogs/Special K\",\"Nabisco/Strawberry Fruit Wheats\",\"General Mills/Total Corn Flakes\",\"General Mills/Total Raisin Bran\",\"General Mills/Total Whole Grain\",\"General Mills/Triples\",\"General Mills/Trix\",\"Ralston Purina/Wheat Chex\",\"General Mills/Wheaties\",\"General Mills/Wheaties Honey Gold\",\"AM Home Food\",\"General Mills\",\"Kellogs\",\"Nabisco\",\"Post\",\"Quaker Oats\",\"Ralston Purina\"],\"labels\":[\"100% Bran\",\"100% Natural Bran\",\"All-Bran\",\"All-Bran with Extra Fiber\",\"Almond Delight\",\"Apple Cinnamon Cheerios\",\"Apple Jacks\",\"Basic 4\",\"Bran Chex\",\"Bran Flakes\",\"Cap'n'Crunch\",\"Cheerios\",\"Cinnamon Toast Crunch\",\"Clusters\",\"Cocoa Puffs\",\"Corn Chex\",\"Corn Flakes\",\"Corn Pops\",\"Count Chocula\",\"Cracklin' Oat Bran\",\"Cream of Wheat (Quick)\",\"Crispix\",\"Crispy Wheat & Raisins\",\"Double Chex\",\"Froot Loops\",\"Frosted Flakes\",\"Frosted Mini-Wheats\",\"Fruit & Fibre Dates, Walnuts, and Oats\",\"Fruitful Bran\",\"Fruity Pebbles\",\"Golden Crisp\",\"Golden Grahams\",\"Grape Nuts Flakes\",\"Grape-Nuts\",\"Great Grains Pecan\",\"Honey Graham Ohs\",\"Honey Nut Cheerios\",\"Honey-comb\",\"Just Right Crunchy  Nuggets\",\"Just Right Fruit & Nut\",\"Kix\",\"Life\",\"Lucky Charms\",\"Maypo\",\"Muesli Raisins, Dates, & Almonds\",\"Muesli Raisins, Peaches, & Pecans\",\"Mueslix Crispy Blend\",\"Multi-Grain Cheerios\",\"Nut&Honey Crunch\",\"Nutri-Grain Almond-Raisin\",\"Nutri-grain Wheat\",\"Oatmeal Raisin Crisp\",\"Post Nat. Raisin Bran\",\"Product 19\",\"Puffed Rice\",\"Puffed Wheat\",\"Quaker Oat Squares\",\"Quaker Oatmeal\",\"Raisin Bran\",\"Raisin Nut Bran\",\"Raisin Squares\",\"Rice Chex\",\"Rice Krispies\",\"Shredded Wheat\",\"Shredded Wheat 'n'Bran\",\"Shredded Wheat spoon size\",\"Smacks\",\"Special K\",\"Strawberry Fruit Wheats\",\"Total Corn Flakes\",\"Total Raisin Bran\",\"Total Whole Grain\",\"Triples\",\"Trix\",\"Wheat Chex\",\"Wheaties\",\"Wheaties Honey Gold\",\"AM Home Food\",\"General Mills\",\"Kellogs\",\"Nabisco\",\"Post\",\"Quaker Oats\",\"Ralston Purina\"],\"name\":\"\",\"parents\":[\"Nabisco\",\"Quaker Oats\",\"Kellogs\",\"Kellogs\",\"Ralston Purina\",\"General Mills\",\"Kellogs\",\"General Mills\",\"Ralston Purina\",\"Post\",\"Quaker Oats\",\"General Mills\",\"General Mills\",\"General Mills\",\"General Mills\",\"Ralston Purina\",\"Kellogs\",\"Kellogs\",\"General Mills\",\"Kellogs\",\"Nabisco\",\"Kellogs\",\"General Mills\",\"Ralston Purina\",\"Kellogs\",\"Kellogs\",\"Kellogs\",\"Post\",\"Kellogs\",\"Post\",\"Post\",\"General Mills\",\"Post\",\"Post\",\"Post\",\"Quaker Oats\",\"General Mills\",\"Post\",\"Kellogs\",\"Kellogs\",\"General Mills\",\"Quaker Oats\",\"General Mills\",\"AM Home Food\",\"Ralston Purina\",\"Ralston Purina\",\"Kellogs\",\"General Mills\",\"Kellogs\",\"Kellogs\",\"Kellogs\",\"General Mills\",\"Post\",\"Kellogs\",\"Quaker Oats\",\"Quaker Oats\",\"Quaker Oats\",\"Quaker Oats\",\"Kellogs\",\"General Mills\",\"Kellogs\",\"Ralston Purina\",\"Kellogs\",\"Nabisco\",\"Nabisco\",\"Nabisco\",\"Kellogs\",\"Kellogs\",\"Nabisco\",\"General Mills\",\"General Mills\",\"General Mills\",\"General Mills\",\"General Mills\",\"Ralston Purina\",\"General Mills\",\"General Mills\",\"\",\"\",\"\",\"\",\"\",\"\",\"\"],\"values\":[70,120,70,50,110,110,110,130,90,90,120,110,120,110,110,110,100,110,110,110,100,110,100,100,110,110,100,120,120,110,100,110,100,110,120,120,110,110,110,140,110,100,110,100,150,150,160,100,120,140,90,130,120,100,50,50,100,100,120,100,90,110,110,80,90,90,110,110,90,110,140,100,110,110,100,100,110,100,2450,2500,520,980,760,920],\"type\":\"sunburst\"}],                        {\"template\":{\"data\":{\"bar\":[{\"error_x\":{\"color\":\"#2a3f5f\"},\"error_y\":{\"color\":\"#2a3f5f\"},\"marker\":{\"line\":{\"color\":\"#E5ECF6\",\"width\":0.5},\"pattern\":{\"fillmode\":\"overlay\",\"size\":10,\"solidity\":0.2}},\"type\":\"bar\"}],\"barpolar\":[{\"marker\":{\"line\":{\"color\":\"#E5ECF6\",\"width\":0.5},\"pattern\":{\"fillmode\":\"overlay\",\"size\":10,\"solidity\":0.2}},\"type\":\"barpolar\"}],\"carpet\":[{\"aaxis\":{\"endlinecolor\":\"#2a3f5f\",\"gridcolor\":\"white\",\"linecolor\":\"white\",\"minorgridcolor\":\"white\",\"startlinecolor\":\"#2a3f5f\"},\"baxis\":{\"endlinecolor\":\"#2a3f5f\",\"gridcolor\":\"white\",\"linecolor\":\"white\",\"minorgridcolor\":\"white\",\"startlinecolor\":\"#2a3f5f\"},\"type\":\"carpet\"}],\"choropleth\":[{\"colorbar\":{\"outlinewidth\":0,\"ticks\":\"\"},\"type\":\"choropleth\"}],\"contour\":[{\"colorbar\":{\"outlinewidth\":0,\"ticks\":\"\"},\"colorscale\":[[0.0,\"#0d0887\"],[0.1111111111111111,\"#46039f\"],[0.2222222222222222,\"#7201a8\"],[0.3333333333333333,\"#9c179e\"],[0.4444444444444444,\"#bd3786\"],[0.5555555555555556,\"#d8576b\"],[0.6666666666666666,\"#ed7953\"],[0.7777777777777778,\"#fb9f3a\"],[0.8888888888888888,\"#fdca26\"],[1.0,\"#f0f921\"]],\"type\":\"contour\"}],\"contourcarpet\":[{\"colorbar\":{\"outlinewidth\":0,\"ticks\":\"\"},\"type\":\"contourcarpet\"}],\"heatmap\":[{\"colorbar\":{\"outlinewidth\":0,\"ticks\":\"\"},\"colorscale\":[[0.0,\"#0d0887\"],[0.1111111111111111,\"#46039f\"],[0.2222222222222222,\"#7201a8\"],[0.3333333333333333,\"#9c179e\"],[0.4444444444444444,\"#bd3786\"],[0.5555555555555556,\"#d8576b\"],[0.6666666666666666,\"#ed7953\"],[0.7777777777777778,\"#fb9f3a\"],[0.8888888888888888,\"#fdca26\"],[1.0,\"#f0f921\"]],\"type\":\"heatmap\"}],\"heatmapgl\":[{\"colorbar\":{\"outlinewidth\":0,\"ticks\":\"\"},\"colorscale\":[[0.0,\"#0d0887\"],[0.1111111111111111,\"#46039f\"],[0.2222222222222222,\"#7201a8\"],[0.3333333333333333,\"#9c179e\"],[0.4444444444444444,\"#bd3786\"],[0.5555555555555556,\"#d8576b\"],[0.6666666666666666,\"#ed7953\"],[0.7777777777777778,\"#fb9f3a\"],[0.8888888888888888,\"#fdca26\"],[1.0,\"#f0f921\"]],\"type\":\"heatmapgl\"}],\"histogram\":[{\"marker\":{\"pattern\":{\"fillmode\":\"overlay\",\"size\":10,\"solidity\":0.2}},\"type\":\"histogram\"}],\"histogram2d\":[{\"colorbar\":{\"outlinewidth\":0,\"ticks\":\"\"},\"colorscale\":[[0.0,\"#0d0887\"],[0.1111111111111111,\"#46039f\"],[0.2222222222222222,\"#7201a8\"],[0.3333333333333333,\"#9c179e\"],[0.4444444444444444,\"#bd3786\"],[0.5555555555555556,\"#d8576b\"],[0.6666666666666666,\"#ed7953\"],[0.7777777777777778,\"#fb9f3a\"],[0.8888888888888888,\"#fdca26\"],[1.0,\"#f0f921\"]],\"type\":\"histogram2d\"}],\"histogram2dcontour\":[{\"colorbar\":{\"outlinewidth\":0,\"ticks\":\"\"},\"colorscale\":[[0.0,\"#0d0887\"],[0.1111111111111111,\"#46039f\"],[0.2222222222222222,\"#7201a8\"],[0.3333333333333333,\"#9c179e\"],[0.4444444444444444,\"#bd3786\"],[0.5555555555555556,\"#d8576b\"],[0.6666666666666666,\"#ed7953\"],[0.7777777777777778,\"#fb9f3a\"],[0.8888888888888888,\"#fdca26\"],[1.0,\"#f0f921\"]],\"type\":\"histogram2dcontour\"}],\"mesh3d\":[{\"colorbar\":{\"outlinewidth\":0,\"ticks\":\"\"},\"type\":\"mesh3d\"}],\"parcoords\":[{\"line\":{\"colorbar\":{\"outlinewidth\":0,\"ticks\":\"\"}},\"type\":\"parcoords\"}],\"pie\":[{\"automargin\":true,\"type\":\"pie\"}],\"scatter\":[{\"marker\":{\"colorbar\":{\"outlinewidth\":0,\"ticks\":\"\"}},\"type\":\"scatter\"}],\"scatter3d\":[{\"line\":{\"colorbar\":{\"outlinewidth\":0,\"ticks\":\"\"}},\"marker\":{\"colorbar\":{\"outlinewidth\":0,\"ticks\":\"\"}},\"type\":\"scatter3d\"}],\"scattercarpet\":[{\"marker\":{\"colorbar\":{\"outlinewidth\":0,\"ticks\":\"\"}},\"type\":\"scattercarpet\"}],\"scattergeo\":[{\"marker\":{\"colorbar\":{\"outlinewidth\":0,\"ticks\":\"\"}},\"type\":\"scattergeo\"}],\"scattergl\":[{\"marker\":{\"colorbar\":{\"outlinewidth\":0,\"ticks\":\"\"}},\"type\":\"scattergl\"}],\"scattermapbox\":[{\"marker\":{\"colorbar\":{\"outlinewidth\":0,\"ticks\":\"\"}},\"type\":\"scattermapbox\"}],\"scatterpolar\":[{\"marker\":{\"colorbar\":{\"outlinewidth\":0,\"ticks\":\"\"}},\"type\":\"scatterpolar\"}],\"scatterpolargl\":[{\"marker\":{\"colorbar\":{\"outlinewidth\":0,\"ticks\":\"\"}},\"type\":\"scatterpolargl\"}],\"scatterternary\":[{\"marker\":{\"colorbar\":{\"outlinewidth\":0,\"ticks\":\"\"}},\"type\":\"scatterternary\"}],\"surface\":[{\"colorbar\":{\"outlinewidth\":0,\"ticks\":\"\"},\"colorscale\":[[0.0,\"#0d0887\"],[0.1111111111111111,\"#46039f\"],[0.2222222222222222,\"#7201a8\"],[0.3333333333333333,\"#9c179e\"],[0.4444444444444444,\"#bd3786\"],[0.5555555555555556,\"#d8576b\"],[0.6666666666666666,\"#ed7953\"],[0.7777777777777778,\"#fb9f3a\"],[0.8888888888888888,\"#fdca26\"],[1.0,\"#f0f921\"]],\"type\":\"surface\"}],\"table\":[{\"cells\":{\"fill\":{\"color\":\"#EBF0F8\"},\"line\":{\"color\":\"white\"}},\"header\":{\"fill\":{\"color\":\"#C8D4E3\"},\"line\":{\"color\":\"white\"}},\"type\":\"table\"}]},\"layout\":{\"annotationdefaults\":{\"arrowcolor\":\"#2a3f5f\",\"arrowhead\":0,\"arrowwidth\":1},\"autotypenumbers\":\"strict\",\"coloraxis\":{\"colorbar\":{\"outlinewidth\":0,\"ticks\":\"\"}},\"colorscale\":{\"diverging\":[[0,\"#8e0152\"],[0.1,\"#c51b7d\"],[0.2,\"#de77ae\"],[0.3,\"#f1b6da\"],[0.4,\"#fde0ef\"],[0.5,\"#f7f7f7\"],[0.6,\"#e6f5d0\"],[0.7,\"#b8e186\"],[0.8,\"#7fbc41\"],[0.9,\"#4d9221\"],[1,\"#276419\"]],\"sequential\":[[0.0,\"#0d0887\"],[0.1111111111111111,\"#46039f\"],[0.2222222222222222,\"#7201a8\"],[0.3333333333333333,\"#9c179e\"],[0.4444444444444444,\"#bd3786\"],[0.5555555555555556,\"#d8576b\"],[0.6666666666666666,\"#ed7953\"],[0.7777777777777778,\"#fb9f3a\"],[0.8888888888888888,\"#fdca26\"],[1.0,\"#f0f921\"]],\"sequentialminus\":[[0.0,\"#0d0887\"],[0.1111111111111111,\"#46039f\"],[0.2222222222222222,\"#7201a8\"],[0.3333333333333333,\"#9c179e\"],[0.4444444444444444,\"#bd3786\"],[0.5555555555555556,\"#d8576b\"],[0.6666666666666666,\"#ed7953\"],[0.7777777777777778,\"#fb9f3a\"],[0.8888888888888888,\"#fdca26\"],[1.0,\"#f0f921\"]]},\"colorway\":[\"#636efa\",\"#EF553B\",\"#00cc96\",\"#ab63fa\",\"#FFA15A\",\"#19d3f3\",\"#FF6692\",\"#B6E880\",\"#FF97FF\",\"#FECB52\"],\"font\":{\"color\":\"#2a3f5f\"},\"geo\":{\"bgcolor\":\"white\",\"lakecolor\":\"white\",\"landcolor\":\"#E5ECF6\",\"showlakes\":true,\"showland\":true,\"subunitcolor\":\"white\"},\"hoverlabel\":{\"align\":\"left\"},\"hovermode\":\"closest\",\"mapbox\":{\"style\":\"light\"},\"paper_bgcolor\":\"white\",\"plot_bgcolor\":\"#E5ECF6\",\"polar\":{\"angularaxis\":{\"gridcolor\":\"white\",\"linecolor\":\"white\",\"ticks\":\"\"},\"bgcolor\":\"#E5ECF6\",\"radialaxis\":{\"gridcolor\":\"white\",\"linecolor\":\"white\",\"ticks\":\"\"}},\"scene\":{\"xaxis\":{\"backgroundcolor\":\"#E5ECF6\",\"gridcolor\":\"white\",\"gridwidth\":2,\"linecolor\":\"white\",\"showbackground\":true,\"ticks\":\"\",\"zerolinecolor\":\"white\"},\"yaxis\":{\"backgroundcolor\":\"#E5ECF6\",\"gridcolor\":\"white\",\"gridwidth\":2,\"linecolor\":\"white\",\"showbackground\":true,\"ticks\":\"\",\"zerolinecolor\":\"white\"},\"zaxis\":{\"backgroundcolor\":\"#E5ECF6\",\"gridcolor\":\"white\",\"gridwidth\":2,\"linecolor\":\"white\",\"showbackground\":true,\"ticks\":\"\",\"zerolinecolor\":\"white\"}},\"shapedefaults\":{\"line\":{\"color\":\"#2a3f5f\"}},\"ternary\":{\"aaxis\":{\"gridcolor\":\"white\",\"linecolor\":\"white\",\"ticks\":\"\"},\"baxis\":{\"gridcolor\":\"white\",\"linecolor\":\"white\",\"ticks\":\"\"},\"bgcolor\":\"#E5ECF6\",\"caxis\":{\"gridcolor\":\"white\",\"linecolor\":\"white\",\"ticks\":\"\"}},\"title\":{\"x\":0.05},\"xaxis\":{\"automargin\":true,\"gridcolor\":\"white\",\"linecolor\":\"white\",\"ticks\":\"\",\"title\":{\"standoff\":15},\"zerolinecolor\":\"white\",\"zerolinewidth\":2},\"yaxis\":{\"automargin\":true,\"gridcolor\":\"white\",\"linecolor\":\"white\",\"ticks\":\"\",\"title\":{\"standoff\":15},\"zerolinecolor\":\"white\",\"zerolinewidth\":2}}},\"legend\":{\"tracegroupgap\":0},\"margin\":{\"t\":60}},                        {\"responsive\": true}                    ).then(function(){\n",
              "                            \n",
              "var gd = document.getElementById('51fab35d-3afa-4250-bd42-7bc4dadf65ba');\n",
              "var x = new MutationObserver(function (mutations, observer) {{\n",
              "        var display = window.getComputedStyle(gd).display;\n",
              "        if (!display || display === 'none') {{\n",
              "            console.log([gd, 'removed!']);\n",
              "            Plotly.purge(gd);\n",
              "            observer.disconnect();\n",
              "        }}\n",
              "}});\n",
              "\n",
              "// Listen for the removal of the full notebook cells\n",
              "var notebookContainer = gd.closest('#notebook-container');\n",
              "if (notebookContainer) {{\n",
              "    x.observe(notebookContainer, {childList: true});\n",
              "}}\n",
              "\n",
              "// Listen for the clearing of the current output cell\n",
              "var outputEl = gd.closest('.output');\n",
              "if (outputEl) {{\n",
              "    x.observe(outputEl, {childList: true});\n",
              "}}\n",
              "\n",
              "                        })                };                            </script>        </div>\n",
              "</body>\n",
              "</html>"
            ]
          },
          "metadata": {}
        }
      ]
    },
    {
      "cell_type": "code",
      "source": [
        "fig = px.sunburst(df, path=['mfr','name'], values='sodium')\n",
        "fig.show()"
      ],
      "metadata": {
        "colab": {
          "base_uri": "https://localhost:8080/",
          "height": 542
        },
        "id": "SU83rlXSkrgh",
        "outputId": "50e72498-35f0-4f5e-b164-69d488082a77"
      },
      "execution_count": null,
      "outputs": [
        {
          "output_type": "display_data",
          "data": {
            "text/html": [
              "<html>\n",
              "<head><meta charset=\"utf-8\" /></head>\n",
              "<body>\n",
              "    <div>            <script src=\"https://cdnjs.cloudflare.com/ajax/libs/mathjax/2.7.5/MathJax.js?config=TeX-AMS-MML_SVG\"></script><script type=\"text/javascript\">if (window.MathJax) {MathJax.Hub.Config({SVG: {font: \"STIX-Web\"}});}</script>                <script type=\"text/javascript\">window.PlotlyConfig = {MathJaxConfig: 'local'};</script>\n",
              "        <script src=\"https://cdn.plot.ly/plotly-2.8.3.min.js\"></script>                <div id=\"dad2e0e8-f3fa-445b-af5a-fa5a1c54eb4b\" class=\"plotly-graph-div\" style=\"height:525px; width:100%;\"></div>            <script type=\"text/javascript\">                                    window.PLOTLYENV=window.PLOTLYENV || {};                                    if (document.getElementById(\"dad2e0e8-f3fa-445b-af5a-fa5a1c54eb4b\")) {                    Plotly.newPlot(                        \"dad2e0e8-f3fa-445b-af5a-fa5a1c54eb4b\",                        [{\"branchvalues\":\"total\",\"domain\":{\"x\":[0.0,1.0],\"y\":[0.0,1.0]},\"hovertemplate\":\"labels=%{label}<br>sodium=%{value}<br>parent=%{parent}<br>id=%{id}<extra></extra>\",\"ids\":[\"Nabisco/100% Bran\",\"Quaker Oats/100% Natural Bran\",\"Kellogs/All-Bran\",\"Kellogs/All-Bran with Extra Fiber\",\"Ralston Purina/Almond Delight\",\"General Mills/Apple Cinnamon Cheerios\",\"Kellogs/Apple Jacks\",\"General Mills/Basic 4\",\"Ralston Purina/Bran Chex\",\"Post/Bran Flakes\",\"Quaker Oats/Cap'n'Crunch\",\"General Mills/Cheerios\",\"General Mills/Cinnamon Toast Crunch\",\"General Mills/Clusters\",\"General Mills/Cocoa Puffs\",\"Ralston Purina/Corn Chex\",\"Kellogs/Corn Flakes\",\"Kellogs/Corn Pops\",\"General Mills/Count Chocula\",\"Kellogs/Cracklin' Oat Bran\",\"Nabisco/Cream of Wheat (Quick)\",\"Kellogs/Crispix\",\"General Mills/Crispy Wheat & Raisins\",\"Ralston Purina/Double Chex\",\"Kellogs/Froot Loops\",\"Kellogs/Frosted Flakes\",\"Kellogs/Frosted Mini-Wheats\",\"Post/Fruit & Fibre Dates, Walnuts, and Oats\",\"Kellogs/Fruitful Bran\",\"Post/Fruity Pebbles\",\"Post/Golden Crisp\",\"General Mills/Golden Grahams\",\"Post/Grape Nuts Flakes\",\"Post/Grape-Nuts\",\"Post/Great Grains Pecan\",\"Quaker Oats/Honey Graham Ohs\",\"General Mills/Honey Nut Cheerios\",\"Post/Honey-comb\",\"Kellogs/Just Right Crunchy  Nuggets\",\"Kellogs/Just Right Fruit & Nut\",\"General Mills/Kix\",\"Quaker Oats/Life\",\"General Mills/Lucky Charms\",\"AM Home Food/Maypo\",\"Ralston Purina/Muesli Raisins, Dates, & Almonds\",\"Ralston Purina/Muesli Raisins, Peaches, & Pecans\",\"Kellogs/Mueslix Crispy Blend\",\"General Mills/Multi-Grain Cheerios\",\"Kellogs/Nut&Honey Crunch\",\"Kellogs/Nutri-Grain Almond-Raisin\",\"Kellogs/Nutri-grain Wheat\",\"General Mills/Oatmeal Raisin Crisp\",\"Post/Post Nat. Raisin Bran\",\"Kellogs/Product 19\",\"Quaker Oats/Puffed Rice\",\"Quaker Oats/Puffed Wheat\",\"Quaker Oats/Quaker Oat Squares\",\"Quaker Oats/Quaker Oatmeal\",\"Kellogs/Raisin Bran\",\"General Mills/Raisin Nut Bran\",\"Kellogs/Raisin Squares\",\"Ralston Purina/Rice Chex\",\"Kellogs/Rice Krispies\",\"Nabisco/Shredded Wheat\",\"Nabisco/Shredded Wheat 'n'Bran\",\"Nabisco/Shredded Wheat spoon size\",\"Kellogs/Smacks\",\"Kellogs/Special K\",\"Nabisco/Strawberry Fruit Wheats\",\"General Mills/Total Corn Flakes\",\"General Mills/Total Raisin Bran\",\"General Mills/Total Whole Grain\",\"General Mills/Triples\",\"General Mills/Trix\",\"Ralston Purina/Wheat Chex\",\"General Mills/Wheaties\",\"General Mills/Wheaties Honey Gold\",\"AM Home Food\",\"General Mills\",\"Kellogs\",\"Nabisco\",\"Post\",\"Quaker Oats\",\"Ralston Purina\"],\"labels\":[\"100% Bran\",\"100% Natural Bran\",\"All-Bran\",\"All-Bran with Extra Fiber\",\"Almond Delight\",\"Apple Cinnamon Cheerios\",\"Apple Jacks\",\"Basic 4\",\"Bran Chex\",\"Bran Flakes\",\"Cap'n'Crunch\",\"Cheerios\",\"Cinnamon Toast Crunch\",\"Clusters\",\"Cocoa Puffs\",\"Corn Chex\",\"Corn Flakes\",\"Corn Pops\",\"Count Chocula\",\"Cracklin' Oat Bran\",\"Cream of Wheat (Quick)\",\"Crispix\",\"Crispy Wheat & Raisins\",\"Double Chex\",\"Froot Loops\",\"Frosted Flakes\",\"Frosted Mini-Wheats\",\"Fruit & Fibre Dates, Walnuts, and Oats\",\"Fruitful Bran\",\"Fruity Pebbles\",\"Golden Crisp\",\"Golden Grahams\",\"Grape Nuts Flakes\",\"Grape-Nuts\",\"Great Grains Pecan\",\"Honey Graham Ohs\",\"Honey Nut Cheerios\",\"Honey-comb\",\"Just Right Crunchy  Nuggets\",\"Just Right Fruit & Nut\",\"Kix\",\"Life\",\"Lucky Charms\",\"Maypo\",\"Muesli Raisins, Dates, & Almonds\",\"Muesli Raisins, Peaches, & Pecans\",\"Mueslix Crispy Blend\",\"Multi-Grain Cheerios\",\"Nut&Honey Crunch\",\"Nutri-Grain Almond-Raisin\",\"Nutri-grain Wheat\",\"Oatmeal Raisin Crisp\",\"Post Nat. Raisin Bran\",\"Product 19\",\"Puffed Rice\",\"Puffed Wheat\",\"Quaker Oat Squares\",\"Quaker Oatmeal\",\"Raisin Bran\",\"Raisin Nut Bran\",\"Raisin Squares\",\"Rice Chex\",\"Rice Krispies\",\"Shredded Wheat\",\"Shredded Wheat 'n'Bran\",\"Shredded Wheat spoon size\",\"Smacks\",\"Special K\",\"Strawberry Fruit Wheats\",\"Total Corn Flakes\",\"Total Raisin Bran\",\"Total Whole Grain\",\"Triples\",\"Trix\",\"Wheat Chex\",\"Wheaties\",\"Wheaties Honey Gold\",\"AM Home Food\",\"General Mills\",\"Kellogs\",\"Nabisco\",\"Post\",\"Quaker Oats\",\"Ralston Purina\"],\"name\":\"\",\"parents\":[\"Nabisco\",\"Quaker Oats\",\"Kellogs\",\"Kellogs\",\"Ralston Purina\",\"General Mills\",\"Kellogs\",\"General Mills\",\"Ralston Purina\",\"Post\",\"Quaker Oats\",\"General Mills\",\"General Mills\",\"General Mills\",\"General Mills\",\"Ralston Purina\",\"Kellogs\",\"Kellogs\",\"General Mills\",\"Kellogs\",\"Nabisco\",\"Kellogs\",\"General Mills\",\"Ralston Purina\",\"Kellogs\",\"Kellogs\",\"Kellogs\",\"Post\",\"Kellogs\",\"Post\",\"Post\",\"General Mills\",\"Post\",\"Post\",\"Post\",\"Quaker Oats\",\"General Mills\",\"Post\",\"Kellogs\",\"Kellogs\",\"General Mills\",\"Quaker Oats\",\"General Mills\",\"AM Home Food\",\"Ralston Purina\",\"Ralston Purina\",\"Kellogs\",\"General Mills\",\"Kellogs\",\"Kellogs\",\"Kellogs\",\"General Mills\",\"Post\",\"Kellogs\",\"Quaker Oats\",\"Quaker Oats\",\"Quaker Oats\",\"Quaker Oats\",\"Kellogs\",\"General Mills\",\"Kellogs\",\"Ralston Purina\",\"Kellogs\",\"Nabisco\",\"Nabisco\",\"Nabisco\",\"Kellogs\",\"Kellogs\",\"Nabisco\",\"General Mills\",\"General Mills\",\"General Mills\",\"General Mills\",\"General Mills\",\"Ralston Purina\",\"General Mills\",\"General Mills\",\"\",\"\",\"\",\"\",\"\",\"\",\"\"],\"values\":[130,15,260,140,200,180,125,210,200,210,220,290,210,140,180,280,290,90,180,140,80,220,140,190,125,200,0,160,240,135,45,280,140,170,75,220,250,180,170,170,260,150,180,0,95,150,150,220,190,220,170,170,200,320,0,0,135,0,210,140,0,240,290,0,0,0,70,230,15,200,190,200,250,140,230,200,200,0,4410,4020,225,1315,740,1585],\"type\":\"sunburst\"}],                        {\"template\":{\"data\":{\"bar\":[{\"error_x\":{\"color\":\"#2a3f5f\"},\"error_y\":{\"color\":\"#2a3f5f\"},\"marker\":{\"line\":{\"color\":\"#E5ECF6\",\"width\":0.5},\"pattern\":{\"fillmode\":\"overlay\",\"size\":10,\"solidity\":0.2}},\"type\":\"bar\"}],\"barpolar\":[{\"marker\":{\"line\":{\"color\":\"#E5ECF6\",\"width\":0.5},\"pattern\":{\"fillmode\":\"overlay\",\"size\":10,\"solidity\":0.2}},\"type\":\"barpolar\"}],\"carpet\":[{\"aaxis\":{\"endlinecolor\":\"#2a3f5f\",\"gridcolor\":\"white\",\"linecolor\":\"white\",\"minorgridcolor\":\"white\",\"startlinecolor\":\"#2a3f5f\"},\"baxis\":{\"endlinecolor\":\"#2a3f5f\",\"gridcolor\":\"white\",\"linecolor\":\"white\",\"minorgridcolor\":\"white\",\"startlinecolor\":\"#2a3f5f\"},\"type\":\"carpet\"}],\"choropleth\":[{\"colorbar\":{\"outlinewidth\":0,\"ticks\":\"\"},\"type\":\"choropleth\"}],\"contour\":[{\"colorbar\":{\"outlinewidth\":0,\"ticks\":\"\"},\"colorscale\":[[0.0,\"#0d0887\"],[0.1111111111111111,\"#46039f\"],[0.2222222222222222,\"#7201a8\"],[0.3333333333333333,\"#9c179e\"],[0.4444444444444444,\"#bd3786\"],[0.5555555555555556,\"#d8576b\"],[0.6666666666666666,\"#ed7953\"],[0.7777777777777778,\"#fb9f3a\"],[0.8888888888888888,\"#fdca26\"],[1.0,\"#f0f921\"]],\"type\":\"contour\"}],\"contourcarpet\":[{\"colorbar\":{\"outlinewidth\":0,\"ticks\":\"\"},\"type\":\"contourcarpet\"}],\"heatmap\":[{\"colorbar\":{\"outlinewidth\":0,\"ticks\":\"\"},\"colorscale\":[[0.0,\"#0d0887\"],[0.1111111111111111,\"#46039f\"],[0.2222222222222222,\"#7201a8\"],[0.3333333333333333,\"#9c179e\"],[0.4444444444444444,\"#bd3786\"],[0.5555555555555556,\"#d8576b\"],[0.6666666666666666,\"#ed7953\"],[0.7777777777777778,\"#fb9f3a\"],[0.8888888888888888,\"#fdca26\"],[1.0,\"#f0f921\"]],\"type\":\"heatmap\"}],\"heatmapgl\":[{\"colorbar\":{\"outlinewidth\":0,\"ticks\":\"\"},\"colorscale\":[[0.0,\"#0d0887\"],[0.1111111111111111,\"#46039f\"],[0.2222222222222222,\"#7201a8\"],[0.3333333333333333,\"#9c179e\"],[0.4444444444444444,\"#bd3786\"],[0.5555555555555556,\"#d8576b\"],[0.6666666666666666,\"#ed7953\"],[0.7777777777777778,\"#fb9f3a\"],[0.8888888888888888,\"#fdca26\"],[1.0,\"#f0f921\"]],\"type\":\"heatmapgl\"}],\"histogram\":[{\"marker\":{\"pattern\":{\"fillmode\":\"overlay\",\"size\":10,\"solidity\":0.2}},\"type\":\"histogram\"}],\"histogram2d\":[{\"colorbar\":{\"outlinewidth\":0,\"ticks\":\"\"},\"colorscale\":[[0.0,\"#0d0887\"],[0.1111111111111111,\"#46039f\"],[0.2222222222222222,\"#7201a8\"],[0.3333333333333333,\"#9c179e\"],[0.4444444444444444,\"#bd3786\"],[0.5555555555555556,\"#d8576b\"],[0.6666666666666666,\"#ed7953\"],[0.7777777777777778,\"#fb9f3a\"],[0.8888888888888888,\"#fdca26\"],[1.0,\"#f0f921\"]],\"type\":\"histogram2d\"}],\"histogram2dcontour\":[{\"colorbar\":{\"outlinewidth\":0,\"ticks\":\"\"},\"colorscale\":[[0.0,\"#0d0887\"],[0.1111111111111111,\"#46039f\"],[0.2222222222222222,\"#7201a8\"],[0.3333333333333333,\"#9c179e\"],[0.4444444444444444,\"#bd3786\"],[0.5555555555555556,\"#d8576b\"],[0.6666666666666666,\"#ed7953\"],[0.7777777777777778,\"#fb9f3a\"],[0.8888888888888888,\"#fdca26\"],[1.0,\"#f0f921\"]],\"type\":\"histogram2dcontour\"}],\"mesh3d\":[{\"colorbar\":{\"outlinewidth\":0,\"ticks\":\"\"},\"type\":\"mesh3d\"}],\"parcoords\":[{\"line\":{\"colorbar\":{\"outlinewidth\":0,\"ticks\":\"\"}},\"type\":\"parcoords\"}],\"pie\":[{\"automargin\":true,\"type\":\"pie\"}],\"scatter\":[{\"marker\":{\"colorbar\":{\"outlinewidth\":0,\"ticks\":\"\"}},\"type\":\"scatter\"}],\"scatter3d\":[{\"line\":{\"colorbar\":{\"outlinewidth\":0,\"ticks\":\"\"}},\"marker\":{\"colorbar\":{\"outlinewidth\":0,\"ticks\":\"\"}},\"type\":\"scatter3d\"}],\"scattercarpet\":[{\"marker\":{\"colorbar\":{\"outlinewidth\":0,\"ticks\":\"\"}},\"type\":\"scattercarpet\"}],\"scattergeo\":[{\"marker\":{\"colorbar\":{\"outlinewidth\":0,\"ticks\":\"\"}},\"type\":\"scattergeo\"}],\"scattergl\":[{\"marker\":{\"colorbar\":{\"outlinewidth\":0,\"ticks\":\"\"}},\"type\":\"scattergl\"}],\"scattermapbox\":[{\"marker\":{\"colorbar\":{\"outlinewidth\":0,\"ticks\":\"\"}},\"type\":\"scattermapbox\"}],\"scatterpolar\":[{\"marker\":{\"colorbar\":{\"outlinewidth\":0,\"ticks\":\"\"}},\"type\":\"scatterpolar\"}],\"scatterpolargl\":[{\"marker\":{\"colorbar\":{\"outlinewidth\":0,\"ticks\":\"\"}},\"type\":\"scatterpolargl\"}],\"scatterternary\":[{\"marker\":{\"colorbar\":{\"outlinewidth\":0,\"ticks\":\"\"}},\"type\":\"scatterternary\"}],\"surface\":[{\"colorbar\":{\"outlinewidth\":0,\"ticks\":\"\"},\"colorscale\":[[0.0,\"#0d0887\"],[0.1111111111111111,\"#46039f\"],[0.2222222222222222,\"#7201a8\"],[0.3333333333333333,\"#9c179e\"],[0.4444444444444444,\"#bd3786\"],[0.5555555555555556,\"#d8576b\"],[0.6666666666666666,\"#ed7953\"],[0.7777777777777778,\"#fb9f3a\"],[0.8888888888888888,\"#fdca26\"],[1.0,\"#f0f921\"]],\"type\":\"surface\"}],\"table\":[{\"cells\":{\"fill\":{\"color\":\"#EBF0F8\"},\"line\":{\"color\":\"white\"}},\"header\":{\"fill\":{\"color\":\"#C8D4E3\"},\"line\":{\"color\":\"white\"}},\"type\":\"table\"}]},\"layout\":{\"annotationdefaults\":{\"arrowcolor\":\"#2a3f5f\",\"arrowhead\":0,\"arrowwidth\":1},\"autotypenumbers\":\"strict\",\"coloraxis\":{\"colorbar\":{\"outlinewidth\":0,\"ticks\":\"\"}},\"colorscale\":{\"diverging\":[[0,\"#8e0152\"],[0.1,\"#c51b7d\"],[0.2,\"#de77ae\"],[0.3,\"#f1b6da\"],[0.4,\"#fde0ef\"],[0.5,\"#f7f7f7\"],[0.6,\"#e6f5d0\"],[0.7,\"#b8e186\"],[0.8,\"#7fbc41\"],[0.9,\"#4d9221\"],[1,\"#276419\"]],\"sequential\":[[0.0,\"#0d0887\"],[0.1111111111111111,\"#46039f\"],[0.2222222222222222,\"#7201a8\"],[0.3333333333333333,\"#9c179e\"],[0.4444444444444444,\"#bd3786\"],[0.5555555555555556,\"#d8576b\"],[0.6666666666666666,\"#ed7953\"],[0.7777777777777778,\"#fb9f3a\"],[0.8888888888888888,\"#fdca26\"],[1.0,\"#f0f921\"]],\"sequentialminus\":[[0.0,\"#0d0887\"],[0.1111111111111111,\"#46039f\"],[0.2222222222222222,\"#7201a8\"],[0.3333333333333333,\"#9c179e\"],[0.4444444444444444,\"#bd3786\"],[0.5555555555555556,\"#d8576b\"],[0.6666666666666666,\"#ed7953\"],[0.7777777777777778,\"#fb9f3a\"],[0.8888888888888888,\"#fdca26\"],[1.0,\"#f0f921\"]]},\"colorway\":[\"#636efa\",\"#EF553B\",\"#00cc96\",\"#ab63fa\",\"#FFA15A\",\"#19d3f3\",\"#FF6692\",\"#B6E880\",\"#FF97FF\",\"#FECB52\"],\"font\":{\"color\":\"#2a3f5f\"},\"geo\":{\"bgcolor\":\"white\",\"lakecolor\":\"white\",\"landcolor\":\"#E5ECF6\",\"showlakes\":true,\"showland\":true,\"subunitcolor\":\"white\"},\"hoverlabel\":{\"align\":\"left\"},\"hovermode\":\"closest\",\"mapbox\":{\"style\":\"light\"},\"paper_bgcolor\":\"white\",\"plot_bgcolor\":\"#E5ECF6\",\"polar\":{\"angularaxis\":{\"gridcolor\":\"white\",\"linecolor\":\"white\",\"ticks\":\"\"},\"bgcolor\":\"#E5ECF6\",\"radialaxis\":{\"gridcolor\":\"white\",\"linecolor\":\"white\",\"ticks\":\"\"}},\"scene\":{\"xaxis\":{\"backgroundcolor\":\"#E5ECF6\",\"gridcolor\":\"white\",\"gridwidth\":2,\"linecolor\":\"white\",\"showbackground\":true,\"ticks\":\"\",\"zerolinecolor\":\"white\"},\"yaxis\":{\"backgroundcolor\":\"#E5ECF6\",\"gridcolor\":\"white\",\"gridwidth\":2,\"linecolor\":\"white\",\"showbackground\":true,\"ticks\":\"\",\"zerolinecolor\":\"white\"},\"zaxis\":{\"backgroundcolor\":\"#E5ECF6\",\"gridcolor\":\"white\",\"gridwidth\":2,\"linecolor\":\"white\",\"showbackground\":true,\"ticks\":\"\",\"zerolinecolor\":\"white\"}},\"shapedefaults\":{\"line\":{\"color\":\"#2a3f5f\"}},\"ternary\":{\"aaxis\":{\"gridcolor\":\"white\",\"linecolor\":\"white\",\"ticks\":\"\"},\"baxis\":{\"gridcolor\":\"white\",\"linecolor\":\"white\",\"ticks\":\"\"},\"bgcolor\":\"#E5ECF6\",\"caxis\":{\"gridcolor\":\"white\",\"linecolor\":\"white\",\"ticks\":\"\"}},\"title\":{\"x\":0.05},\"xaxis\":{\"automargin\":true,\"gridcolor\":\"white\",\"linecolor\":\"white\",\"ticks\":\"\",\"title\":{\"standoff\":15},\"zerolinecolor\":\"white\",\"zerolinewidth\":2},\"yaxis\":{\"automargin\":true,\"gridcolor\":\"white\",\"linecolor\":\"white\",\"ticks\":\"\",\"title\":{\"standoff\":15},\"zerolinecolor\":\"white\",\"zerolinewidth\":2}}},\"legend\":{\"tracegroupgap\":0},\"margin\":{\"t\":60}},                        {\"responsive\": true}                    ).then(function(){\n",
              "                            \n",
              "var gd = document.getElementById('dad2e0e8-f3fa-445b-af5a-fa5a1c54eb4b');\n",
              "var x = new MutationObserver(function (mutations, observer) {{\n",
              "        var display = window.getComputedStyle(gd).display;\n",
              "        if (!display || display === 'none') {{\n",
              "            console.log([gd, 'removed!']);\n",
              "            Plotly.purge(gd);\n",
              "            observer.disconnect();\n",
              "        }}\n",
              "}});\n",
              "\n",
              "// Listen for the removal of the full notebook cells\n",
              "var notebookContainer = gd.closest('#notebook-container');\n",
              "if (notebookContainer) {{\n",
              "    x.observe(notebookContainer, {childList: true});\n",
              "}}\n",
              "\n",
              "// Listen for the clearing of the current output cell\n",
              "var outputEl = gd.closest('.output');\n",
              "if (outputEl) {{\n",
              "    x.observe(outputEl, {childList: true});\n",
              "}}\n",
              "\n",
              "                        })                };                            </script>        </div>\n",
              "</body>\n",
              "</html>"
            ]
          },
          "metadata": {}
        }
      ]
    },
    {
      "cell_type": "code",
      "source": [
        "fig = px.sunburst(df, path=['mfr','name','sugars'], values='protein')\n",
        "fig.show()\n",
        "## วงนอกสุด label คือ sugars แต่ค่าคือ protein"
      ],
      "metadata": {
        "colab": {
          "base_uri": "https://localhost:8080/",
          "height": 542
        },
        "id": "O5MfgCdlkshc",
        "outputId": "c65a5513-aa79-499d-ed01-4c96e034a74d"
      },
      "execution_count": null,
      "outputs": [
        {
          "output_type": "display_data",
          "data": {
            "text/html": [
              "<html>\n",
              "<head><meta charset=\"utf-8\" /></head>\n",
              "<body>\n",
              "    <div>            <script src=\"https://cdnjs.cloudflare.com/ajax/libs/mathjax/2.7.5/MathJax.js?config=TeX-AMS-MML_SVG\"></script><script type=\"text/javascript\">if (window.MathJax) {MathJax.Hub.Config({SVG: {font: \"STIX-Web\"}});}</script>                <script type=\"text/javascript\">window.PlotlyConfig = {MathJaxConfig: 'local'};</script>\n",
              "        <script src=\"https://cdn.plot.ly/plotly-2.8.3.min.js\"></script>                <div id=\"2f02c5e4-d85c-449d-9261-324b56707dfe\" class=\"plotly-graph-div\" style=\"height:525px; width:100%;\"></div>            <script type=\"text/javascript\">                                    window.PLOTLYENV=window.PLOTLYENV || {};                                    if (document.getElementById(\"2f02c5e4-d85c-449d-9261-324b56707dfe\")) {                    Plotly.newPlot(                        \"2f02c5e4-d85c-449d-9261-324b56707dfe\",                        [{\"branchvalues\":\"total\",\"domain\":{\"x\":[0.0,1.0],\"y\":[0.0,1.0]},\"hovertemplate\":\"labels=%{label}<br>protein=%{value}<br>parent=%{parent}<br>id=%{id}<extra></extra>\",\"ids\":[\"Quaker Oats/Quaker Oatmeal/-1\",\"Kellogs/All-Bran with Extra Fiber/0\",\"Nabisco/Cream of Wheat (Quick)/0\",\"Quaker Oats/Puffed Rice/0\",\"Quaker Oats/Puffed Wheat/0\",\"Nabisco/Shredded Wheat/0\",\"Nabisco/Shredded Wheat 'n'Bran/0\",\"Nabisco/Shredded Wheat spoon size/0\",\"General Mills/Cheerios/1\",\"Kellogs/Corn Flakes/2\",\"Kellogs/Nutri-grain Wheat/2\",\"Ralston Purina/Rice Chex/2\",\"Ralston Purina/Corn Chex/3\",\"Kellogs/Crispix/3\",\"Post/Grape-Nuts/3\",\"General Mills/Kix/3\",\"AM Home Food/Maypo/3\",\"Kellogs/Product 19/3\",\"Kellogs/Rice Krispies/3\",\"Kellogs/Special K/3\",\"General Mills/Total Corn Flakes/3\",\"General Mills/Total Whole Grain/3\",\"General Mills/Triples/3\",\"Ralston Purina/Wheat Chex/3\",\"General Mills/Wheaties/3\",\"Post/Great Grains Pecan/4\",\"Kellogs/All-Bran/5\",\"Post/Bran Flakes/5\",\"Ralston Purina/Double Chex/5\",\"Post/Grape Nuts Flakes/5\",\"Nabisco/Strawberry Fruit Wheats/5\",\"Nabisco/100% Bran/6\",\"Ralston Purina/Bran Chex/6\",\"Kellogs/Just Right Crunchy  Nuggets/6\",\"Quaker Oats/Life/6\",\"General Mills/Multi-Grain Cheerios/6\",\"Quaker Oats/Quaker Oat Squares/6\",\"Kellogs/Raisin Squares/6\",\"General Mills/Clusters/7\",\"Kellogs/Cracklin' Oat Bran/7\",\"Kellogs/Frosted Mini-Wheats/7\",\"Kellogs/Nutri-Grain Almond-Raisin/7\",\"Quaker Oats/100% Natural Bran/8\",\"Ralston Purina/Almond Delight/8\",\"General Mills/Basic 4/8\",\"General Mills/Raisin Nut Bran/8\",\"General Mills/Wheaties Honey Gold/8\",\"General Mills/Cinnamon Toast Crunch/9\",\"General Mills/Golden Grahams/9\",\"Kellogs/Just Right Fruit & Nut/9\",\"Kellogs/Nut&Honey Crunch/9\",\"General Mills/Apple Cinnamon Cheerios/10\",\"General Mills/Crispy Wheat & Raisins/10\",\"Post/Fruit & Fibre Dates, Walnuts, and Oats/10\",\"General Mills/Honey Nut Cheerios/10\",\"General Mills/Oatmeal Raisin Crisp/10\",\"Kellogs/Frosted Flakes/11\",\"Quaker Oats/Honey Graham Ohs/11\",\"Post/Honey-comb/11\",\"Ralston Purina/Muesli Raisins, Dates, & Almonds/11\",\"Ralston Purina/Muesli Raisins, Peaches, & Pecans/11\",\"Quaker Oats/Cap'n'Crunch/12\",\"Kellogs/Corn Pops/12\",\"Kellogs/Fruitful Bran/12\",\"Post/Fruity Pebbles/12\",\"General Mills/Lucky Charms/12\",\"Kellogs/Raisin Bran/12\",\"General Mills/Trix/12\",\"General Mills/Cocoa Puffs/13\",\"General Mills/Count Chocula/13\",\"Kellogs/Froot Loops/13\",\"Kellogs/Mueslix Crispy Blend/13\",\"Kellogs/Apple Jacks/14\",\"Post/Post Nat. Raisin Bran/14\",\"General Mills/Total Raisin Bran/14\",\"Post/Golden Crisp/15\",\"Kellogs/Smacks/15\",\"Nabisco/100% Bran\",\"Quaker Oats/100% Natural Bran\",\"Kellogs/All-Bran\",\"Kellogs/All-Bran with Extra Fiber\",\"Ralston Purina/Almond Delight\",\"General Mills/Apple Cinnamon Cheerios\",\"Kellogs/Apple Jacks\",\"General Mills/Basic 4\",\"Ralston Purina/Bran Chex\",\"Post/Bran Flakes\",\"Quaker Oats/Cap'n'Crunch\",\"General Mills/Cheerios\",\"General Mills/Cinnamon Toast Crunch\",\"General Mills/Clusters\",\"General Mills/Cocoa Puffs\",\"Ralston Purina/Corn Chex\",\"Kellogs/Corn Flakes\",\"Kellogs/Corn Pops\",\"General Mills/Count Chocula\",\"Kellogs/Cracklin' Oat Bran\",\"Nabisco/Cream of Wheat (Quick)\",\"Kellogs/Crispix\",\"General Mills/Crispy Wheat & Raisins\",\"Ralston Purina/Double Chex\",\"Kellogs/Froot Loops\",\"Kellogs/Frosted Flakes\",\"Kellogs/Frosted Mini-Wheats\",\"Post/Fruit & Fibre Dates, Walnuts, and Oats\",\"Kellogs/Fruitful Bran\",\"Post/Fruity Pebbles\",\"Post/Golden Crisp\",\"General Mills/Golden Grahams\",\"Post/Grape Nuts Flakes\",\"Post/Grape-Nuts\",\"Post/Great Grains Pecan\",\"Quaker Oats/Honey Graham Ohs\",\"General Mills/Honey Nut Cheerios\",\"Post/Honey-comb\",\"Kellogs/Just Right Crunchy  Nuggets\",\"Kellogs/Just Right Fruit & Nut\",\"General Mills/Kix\",\"Quaker Oats/Life\",\"General Mills/Lucky Charms\",\"AM Home Food/Maypo\",\"Ralston Purina/Muesli Raisins, Dates, & Almonds\",\"Ralston Purina/Muesli Raisins, Peaches, & Pecans\",\"Kellogs/Mueslix Crispy Blend\",\"General Mills/Multi-Grain Cheerios\",\"Kellogs/Nut&Honey Crunch\",\"Kellogs/Nutri-Grain Almond-Raisin\",\"Kellogs/Nutri-grain Wheat\",\"General Mills/Oatmeal Raisin Crisp\",\"Post/Post Nat. Raisin Bran\",\"Kellogs/Product 19\",\"Quaker Oats/Puffed Rice\",\"Quaker Oats/Puffed Wheat\",\"Quaker Oats/Quaker Oat Squares\",\"Quaker Oats/Quaker Oatmeal\",\"Kellogs/Raisin Bran\",\"General Mills/Raisin Nut Bran\",\"Kellogs/Raisin Squares\",\"Ralston Purina/Rice Chex\",\"Kellogs/Rice Krispies\",\"Nabisco/Shredded Wheat\",\"Nabisco/Shredded Wheat 'n'Bran\",\"Nabisco/Shredded Wheat spoon size\",\"Kellogs/Smacks\",\"Kellogs/Special K\",\"Nabisco/Strawberry Fruit Wheats\",\"General Mills/Total Corn Flakes\",\"General Mills/Total Raisin Bran\",\"General Mills/Total Whole Grain\",\"General Mills/Triples\",\"General Mills/Trix\",\"Ralston Purina/Wheat Chex\",\"General Mills/Wheaties\",\"General Mills/Wheaties Honey Gold\",\"AM Home Food\",\"General Mills\",\"Kellogs\",\"Nabisco\",\"Post\",\"Quaker Oats\",\"Ralston Purina\"],\"labels\":[\"-1\",\"0\",\"0\",\"0\",\"0\",\"0\",\"0\",\"0\",\"1\",\"2\",\"2\",\"2\",\"3\",\"3\",\"3\",\"3\",\"3\",\"3\",\"3\",\"3\",\"3\",\"3\",\"3\",\"3\",\"3\",\"4\",\"5\",\"5\",\"5\",\"5\",\"5\",\"6\",\"6\",\"6\",\"6\",\"6\",\"6\",\"6\",\"7\",\"7\",\"7\",\"7\",\"8\",\"8\",\"8\",\"8\",\"8\",\"9\",\"9\",\"9\",\"9\",\"10\",\"10\",\"10\",\"10\",\"10\",\"11\",\"11\",\"11\",\"11\",\"11\",\"12\",\"12\",\"12\",\"12\",\"12\",\"12\",\"12\",\"13\",\"13\",\"13\",\"13\",\"14\",\"14\",\"14\",\"15\",\"15\",\"100% Bran\",\"100% Natural Bran\",\"All-Bran\",\"All-Bran with Extra Fiber\",\"Almond Delight\",\"Apple Cinnamon Cheerios\",\"Apple Jacks\",\"Basic 4\",\"Bran Chex\",\"Bran Flakes\",\"Cap'n'Crunch\",\"Cheerios\",\"Cinnamon Toast Crunch\",\"Clusters\",\"Cocoa Puffs\",\"Corn Chex\",\"Corn Flakes\",\"Corn Pops\",\"Count Chocula\",\"Cracklin' Oat Bran\",\"Cream of Wheat (Quick)\",\"Crispix\",\"Crispy Wheat & Raisins\",\"Double Chex\",\"Froot Loops\",\"Frosted Flakes\",\"Frosted Mini-Wheats\",\"Fruit & Fibre Dates, Walnuts, and Oats\",\"Fruitful Bran\",\"Fruity Pebbles\",\"Golden Crisp\",\"Golden Grahams\",\"Grape Nuts Flakes\",\"Grape-Nuts\",\"Great Grains Pecan\",\"Honey Graham Ohs\",\"Honey Nut Cheerios\",\"Honey-comb\",\"Just Right Crunchy  Nuggets\",\"Just Right Fruit & Nut\",\"Kix\",\"Life\",\"Lucky Charms\",\"Maypo\",\"Muesli Raisins, Dates, & Almonds\",\"Muesli Raisins, Peaches, & Pecans\",\"Mueslix Crispy Blend\",\"Multi-Grain Cheerios\",\"Nut&Honey Crunch\",\"Nutri-Grain Almond-Raisin\",\"Nutri-grain Wheat\",\"Oatmeal Raisin Crisp\",\"Post Nat. Raisin Bran\",\"Product 19\",\"Puffed Rice\",\"Puffed Wheat\",\"Quaker Oat Squares\",\"Quaker Oatmeal\",\"Raisin Bran\",\"Raisin Nut Bran\",\"Raisin Squares\",\"Rice Chex\",\"Rice Krispies\",\"Shredded Wheat\",\"Shredded Wheat 'n'Bran\",\"Shredded Wheat spoon size\",\"Smacks\",\"Special K\",\"Strawberry Fruit Wheats\",\"Total Corn Flakes\",\"Total Raisin Bran\",\"Total Whole Grain\",\"Triples\",\"Trix\",\"Wheat Chex\",\"Wheaties\",\"Wheaties Honey Gold\",\"AM Home Food\",\"General Mills\",\"Kellogs\",\"Nabisco\",\"Post\",\"Quaker Oats\",\"Ralston Purina\"],\"name\":\"\",\"parents\":[\"Quaker Oats/Quaker Oatmeal\",\"Kellogs/All-Bran with Extra Fiber\",\"Nabisco/Cream of Wheat (Quick)\",\"Quaker Oats/Puffed Rice\",\"Quaker Oats/Puffed Wheat\",\"Nabisco/Shredded Wheat\",\"Nabisco/Shredded Wheat 'n'Bran\",\"Nabisco/Shredded Wheat spoon size\",\"General Mills/Cheerios\",\"Kellogs/Corn Flakes\",\"Kellogs/Nutri-grain Wheat\",\"Ralston Purina/Rice Chex\",\"Ralston Purina/Corn Chex\",\"Kellogs/Crispix\",\"Post/Grape-Nuts\",\"General Mills/Kix\",\"AM Home Food/Maypo\",\"Kellogs/Product 19\",\"Kellogs/Rice Krispies\",\"Kellogs/Special K\",\"General Mills/Total Corn Flakes\",\"General Mills/Total Whole Grain\",\"General Mills/Triples\",\"Ralston Purina/Wheat Chex\",\"General Mills/Wheaties\",\"Post/Great Grains Pecan\",\"Kellogs/All-Bran\",\"Post/Bran Flakes\",\"Ralston Purina/Double Chex\",\"Post/Grape Nuts Flakes\",\"Nabisco/Strawberry Fruit Wheats\",\"Nabisco/100% Bran\",\"Ralston Purina/Bran Chex\",\"Kellogs/Just Right Crunchy  Nuggets\",\"Quaker Oats/Life\",\"General Mills/Multi-Grain Cheerios\",\"Quaker Oats/Quaker Oat Squares\",\"Kellogs/Raisin Squares\",\"General Mills/Clusters\",\"Kellogs/Cracklin' Oat Bran\",\"Kellogs/Frosted Mini-Wheats\",\"Kellogs/Nutri-Grain Almond-Raisin\",\"Quaker Oats/100% Natural Bran\",\"Ralston Purina/Almond Delight\",\"General Mills/Basic 4\",\"General Mills/Raisin Nut Bran\",\"General Mills/Wheaties Honey Gold\",\"General Mills/Cinnamon Toast Crunch\",\"General Mills/Golden Grahams\",\"Kellogs/Just Right Fruit & Nut\",\"Kellogs/Nut&Honey Crunch\",\"General Mills/Apple Cinnamon Cheerios\",\"General Mills/Crispy Wheat & Raisins\",\"Post/Fruit & Fibre Dates, Walnuts, and Oats\",\"General Mills/Honey Nut Cheerios\",\"General Mills/Oatmeal Raisin Crisp\",\"Kellogs/Frosted Flakes\",\"Quaker Oats/Honey Graham Ohs\",\"Post/Honey-comb\",\"Ralston Purina/Muesli Raisins, Dates, & Almonds\",\"Ralston Purina/Muesli Raisins, Peaches, & Pecans\",\"Quaker Oats/Cap'n'Crunch\",\"Kellogs/Corn Pops\",\"Kellogs/Fruitful Bran\",\"Post/Fruity Pebbles\",\"General Mills/Lucky Charms\",\"Kellogs/Raisin Bran\",\"General Mills/Trix\",\"General Mills/Cocoa Puffs\",\"General Mills/Count Chocula\",\"Kellogs/Froot Loops\",\"Kellogs/Mueslix Crispy Blend\",\"Kellogs/Apple Jacks\",\"Post/Post Nat. Raisin Bran\",\"General Mills/Total Raisin Bran\",\"Post/Golden Crisp\",\"Kellogs/Smacks\",\"Nabisco\",\"Quaker Oats\",\"Kellogs\",\"Kellogs\",\"Ralston Purina\",\"General Mills\",\"Kellogs\",\"General Mills\",\"Ralston Purina\",\"Post\",\"Quaker Oats\",\"General Mills\",\"General Mills\",\"General Mills\",\"General Mills\",\"Ralston Purina\",\"Kellogs\",\"Kellogs\",\"General Mills\",\"Kellogs\",\"Nabisco\",\"Kellogs\",\"General Mills\",\"Ralston Purina\",\"Kellogs\",\"Kellogs\",\"Kellogs\",\"Post\",\"Kellogs\",\"Post\",\"Post\",\"General Mills\",\"Post\",\"Post\",\"Post\",\"Quaker Oats\",\"General Mills\",\"Post\",\"Kellogs\",\"Kellogs\",\"General Mills\",\"Quaker Oats\",\"General Mills\",\"AM Home Food\",\"Ralston Purina\",\"Ralston Purina\",\"Kellogs\",\"General Mills\",\"Kellogs\",\"Kellogs\",\"Kellogs\",\"General Mills\",\"Post\",\"Kellogs\",\"Quaker Oats\",\"Quaker Oats\",\"Quaker Oats\",\"Quaker Oats\",\"Kellogs\",\"General Mills\",\"Kellogs\",\"Ralston Purina\",\"Kellogs\",\"Nabisco\",\"Nabisco\",\"Nabisco\",\"Kellogs\",\"Kellogs\",\"Nabisco\",\"General Mills\",\"General Mills\",\"General Mills\",\"General Mills\",\"General Mills\",\"Ralston Purina\",\"General Mills\",\"General Mills\",\"\",\"\",\"\",\"\",\"\",\"\",\"\"],\"values\":[5,4,3,1,2,2,3,3,6,2,3,1,2,2,3,2,4,3,2,6,2,3,2,3,3,3,4,3,2,3,2,4,2,2,4,2,4,2,3,3,3,3,3,2,3,3,2,1,1,3,2,2,2,3,3,3,1,1,1,4,4,1,1,3,1,2,3,1,1,1,2,3,2,3,3,2,2,4,3,4,4,2,2,2,3,2,3,1,6,1,3,1,2,2,1,1,3,3,2,2,2,2,1,3,3,3,1,2,1,3,3,3,1,3,1,2,3,2,4,2,4,4,4,3,2,2,3,3,3,3,3,1,2,4,5,3,3,2,1,2,2,3,3,2,6,2,2,3,3,2,1,3,3,2,4,51,61,17,22,21,20],\"type\":\"sunburst\"}],                        {\"template\":{\"data\":{\"bar\":[{\"error_x\":{\"color\":\"#2a3f5f\"},\"error_y\":{\"color\":\"#2a3f5f\"},\"marker\":{\"line\":{\"color\":\"#E5ECF6\",\"width\":0.5},\"pattern\":{\"fillmode\":\"overlay\",\"size\":10,\"solidity\":0.2}},\"type\":\"bar\"}],\"barpolar\":[{\"marker\":{\"line\":{\"color\":\"#E5ECF6\",\"width\":0.5},\"pattern\":{\"fillmode\":\"overlay\",\"size\":10,\"solidity\":0.2}},\"type\":\"barpolar\"}],\"carpet\":[{\"aaxis\":{\"endlinecolor\":\"#2a3f5f\",\"gridcolor\":\"white\",\"linecolor\":\"white\",\"minorgridcolor\":\"white\",\"startlinecolor\":\"#2a3f5f\"},\"baxis\":{\"endlinecolor\":\"#2a3f5f\",\"gridcolor\":\"white\",\"linecolor\":\"white\",\"minorgridcolor\":\"white\",\"startlinecolor\":\"#2a3f5f\"},\"type\":\"carpet\"}],\"choropleth\":[{\"colorbar\":{\"outlinewidth\":0,\"ticks\":\"\"},\"type\":\"choropleth\"}],\"contour\":[{\"colorbar\":{\"outlinewidth\":0,\"ticks\":\"\"},\"colorscale\":[[0.0,\"#0d0887\"],[0.1111111111111111,\"#46039f\"],[0.2222222222222222,\"#7201a8\"],[0.3333333333333333,\"#9c179e\"],[0.4444444444444444,\"#bd3786\"],[0.5555555555555556,\"#d8576b\"],[0.6666666666666666,\"#ed7953\"],[0.7777777777777778,\"#fb9f3a\"],[0.8888888888888888,\"#fdca26\"],[1.0,\"#f0f921\"]],\"type\":\"contour\"}],\"contourcarpet\":[{\"colorbar\":{\"outlinewidth\":0,\"ticks\":\"\"},\"type\":\"contourcarpet\"}],\"heatmap\":[{\"colorbar\":{\"outlinewidth\":0,\"ticks\":\"\"},\"colorscale\":[[0.0,\"#0d0887\"],[0.1111111111111111,\"#46039f\"],[0.2222222222222222,\"#7201a8\"],[0.3333333333333333,\"#9c179e\"],[0.4444444444444444,\"#bd3786\"],[0.5555555555555556,\"#d8576b\"],[0.6666666666666666,\"#ed7953\"],[0.7777777777777778,\"#fb9f3a\"],[0.8888888888888888,\"#fdca26\"],[1.0,\"#f0f921\"]],\"type\":\"heatmap\"}],\"heatmapgl\":[{\"colorbar\":{\"outlinewidth\":0,\"ticks\":\"\"},\"colorscale\":[[0.0,\"#0d0887\"],[0.1111111111111111,\"#46039f\"],[0.2222222222222222,\"#7201a8\"],[0.3333333333333333,\"#9c179e\"],[0.4444444444444444,\"#bd3786\"],[0.5555555555555556,\"#d8576b\"],[0.6666666666666666,\"#ed7953\"],[0.7777777777777778,\"#fb9f3a\"],[0.8888888888888888,\"#fdca26\"],[1.0,\"#f0f921\"]],\"type\":\"heatmapgl\"}],\"histogram\":[{\"marker\":{\"pattern\":{\"fillmode\":\"overlay\",\"size\":10,\"solidity\":0.2}},\"type\":\"histogram\"}],\"histogram2d\":[{\"colorbar\":{\"outlinewidth\":0,\"ticks\":\"\"},\"colorscale\":[[0.0,\"#0d0887\"],[0.1111111111111111,\"#46039f\"],[0.2222222222222222,\"#7201a8\"],[0.3333333333333333,\"#9c179e\"],[0.4444444444444444,\"#bd3786\"],[0.5555555555555556,\"#d8576b\"],[0.6666666666666666,\"#ed7953\"],[0.7777777777777778,\"#fb9f3a\"],[0.8888888888888888,\"#fdca26\"],[1.0,\"#f0f921\"]],\"type\":\"histogram2d\"}],\"histogram2dcontour\":[{\"colorbar\":{\"outlinewidth\":0,\"ticks\":\"\"},\"colorscale\":[[0.0,\"#0d0887\"],[0.1111111111111111,\"#46039f\"],[0.2222222222222222,\"#7201a8\"],[0.3333333333333333,\"#9c179e\"],[0.4444444444444444,\"#bd3786\"],[0.5555555555555556,\"#d8576b\"],[0.6666666666666666,\"#ed7953\"],[0.7777777777777778,\"#fb9f3a\"],[0.8888888888888888,\"#fdca26\"],[1.0,\"#f0f921\"]],\"type\":\"histogram2dcontour\"}],\"mesh3d\":[{\"colorbar\":{\"outlinewidth\":0,\"ticks\":\"\"},\"type\":\"mesh3d\"}],\"parcoords\":[{\"line\":{\"colorbar\":{\"outlinewidth\":0,\"ticks\":\"\"}},\"type\":\"parcoords\"}],\"pie\":[{\"automargin\":true,\"type\":\"pie\"}],\"scatter\":[{\"marker\":{\"colorbar\":{\"outlinewidth\":0,\"ticks\":\"\"}},\"type\":\"scatter\"}],\"scatter3d\":[{\"line\":{\"colorbar\":{\"outlinewidth\":0,\"ticks\":\"\"}},\"marker\":{\"colorbar\":{\"outlinewidth\":0,\"ticks\":\"\"}},\"type\":\"scatter3d\"}],\"scattercarpet\":[{\"marker\":{\"colorbar\":{\"outlinewidth\":0,\"ticks\":\"\"}},\"type\":\"scattercarpet\"}],\"scattergeo\":[{\"marker\":{\"colorbar\":{\"outlinewidth\":0,\"ticks\":\"\"}},\"type\":\"scattergeo\"}],\"scattergl\":[{\"marker\":{\"colorbar\":{\"outlinewidth\":0,\"ticks\":\"\"}},\"type\":\"scattergl\"}],\"scattermapbox\":[{\"marker\":{\"colorbar\":{\"outlinewidth\":0,\"ticks\":\"\"}},\"type\":\"scattermapbox\"}],\"scatterpolar\":[{\"marker\":{\"colorbar\":{\"outlinewidth\":0,\"ticks\":\"\"}},\"type\":\"scatterpolar\"}],\"scatterpolargl\":[{\"marker\":{\"colorbar\":{\"outlinewidth\":0,\"ticks\":\"\"}},\"type\":\"scatterpolargl\"}],\"scatterternary\":[{\"marker\":{\"colorbar\":{\"outlinewidth\":0,\"ticks\":\"\"}},\"type\":\"scatterternary\"}],\"surface\":[{\"colorbar\":{\"outlinewidth\":0,\"ticks\":\"\"},\"colorscale\":[[0.0,\"#0d0887\"],[0.1111111111111111,\"#46039f\"],[0.2222222222222222,\"#7201a8\"],[0.3333333333333333,\"#9c179e\"],[0.4444444444444444,\"#bd3786\"],[0.5555555555555556,\"#d8576b\"],[0.6666666666666666,\"#ed7953\"],[0.7777777777777778,\"#fb9f3a\"],[0.8888888888888888,\"#fdca26\"],[1.0,\"#f0f921\"]],\"type\":\"surface\"}],\"table\":[{\"cells\":{\"fill\":{\"color\":\"#EBF0F8\"},\"line\":{\"color\":\"white\"}},\"header\":{\"fill\":{\"color\":\"#C8D4E3\"},\"line\":{\"color\":\"white\"}},\"type\":\"table\"}]},\"layout\":{\"annotationdefaults\":{\"arrowcolor\":\"#2a3f5f\",\"arrowhead\":0,\"arrowwidth\":1},\"autotypenumbers\":\"strict\",\"coloraxis\":{\"colorbar\":{\"outlinewidth\":0,\"ticks\":\"\"}},\"colorscale\":{\"diverging\":[[0,\"#8e0152\"],[0.1,\"#c51b7d\"],[0.2,\"#de77ae\"],[0.3,\"#f1b6da\"],[0.4,\"#fde0ef\"],[0.5,\"#f7f7f7\"],[0.6,\"#e6f5d0\"],[0.7,\"#b8e186\"],[0.8,\"#7fbc41\"],[0.9,\"#4d9221\"],[1,\"#276419\"]],\"sequential\":[[0.0,\"#0d0887\"],[0.1111111111111111,\"#46039f\"],[0.2222222222222222,\"#7201a8\"],[0.3333333333333333,\"#9c179e\"],[0.4444444444444444,\"#bd3786\"],[0.5555555555555556,\"#d8576b\"],[0.6666666666666666,\"#ed7953\"],[0.7777777777777778,\"#fb9f3a\"],[0.8888888888888888,\"#fdca26\"],[1.0,\"#f0f921\"]],\"sequentialminus\":[[0.0,\"#0d0887\"],[0.1111111111111111,\"#46039f\"],[0.2222222222222222,\"#7201a8\"],[0.3333333333333333,\"#9c179e\"],[0.4444444444444444,\"#bd3786\"],[0.5555555555555556,\"#d8576b\"],[0.6666666666666666,\"#ed7953\"],[0.7777777777777778,\"#fb9f3a\"],[0.8888888888888888,\"#fdca26\"],[1.0,\"#f0f921\"]]},\"colorway\":[\"#636efa\",\"#EF553B\",\"#00cc96\",\"#ab63fa\",\"#FFA15A\",\"#19d3f3\",\"#FF6692\",\"#B6E880\",\"#FF97FF\",\"#FECB52\"],\"font\":{\"color\":\"#2a3f5f\"},\"geo\":{\"bgcolor\":\"white\",\"lakecolor\":\"white\",\"landcolor\":\"#E5ECF6\",\"showlakes\":true,\"showland\":true,\"subunitcolor\":\"white\"},\"hoverlabel\":{\"align\":\"left\"},\"hovermode\":\"closest\",\"mapbox\":{\"style\":\"light\"},\"paper_bgcolor\":\"white\",\"plot_bgcolor\":\"#E5ECF6\",\"polar\":{\"angularaxis\":{\"gridcolor\":\"white\",\"linecolor\":\"white\",\"ticks\":\"\"},\"bgcolor\":\"#E5ECF6\",\"radialaxis\":{\"gridcolor\":\"white\",\"linecolor\":\"white\",\"ticks\":\"\"}},\"scene\":{\"xaxis\":{\"backgroundcolor\":\"#E5ECF6\",\"gridcolor\":\"white\",\"gridwidth\":2,\"linecolor\":\"white\",\"showbackground\":true,\"ticks\":\"\",\"zerolinecolor\":\"white\"},\"yaxis\":{\"backgroundcolor\":\"#E5ECF6\",\"gridcolor\":\"white\",\"gridwidth\":2,\"linecolor\":\"white\",\"showbackground\":true,\"ticks\":\"\",\"zerolinecolor\":\"white\"},\"zaxis\":{\"backgroundcolor\":\"#E5ECF6\",\"gridcolor\":\"white\",\"gridwidth\":2,\"linecolor\":\"white\",\"showbackground\":true,\"ticks\":\"\",\"zerolinecolor\":\"white\"}},\"shapedefaults\":{\"line\":{\"color\":\"#2a3f5f\"}},\"ternary\":{\"aaxis\":{\"gridcolor\":\"white\",\"linecolor\":\"white\",\"ticks\":\"\"},\"baxis\":{\"gridcolor\":\"white\",\"linecolor\":\"white\",\"ticks\":\"\"},\"bgcolor\":\"#E5ECF6\",\"caxis\":{\"gridcolor\":\"white\",\"linecolor\":\"white\",\"ticks\":\"\"}},\"title\":{\"x\":0.05},\"xaxis\":{\"automargin\":true,\"gridcolor\":\"white\",\"linecolor\":\"white\",\"ticks\":\"\",\"title\":{\"standoff\":15},\"zerolinecolor\":\"white\",\"zerolinewidth\":2},\"yaxis\":{\"automargin\":true,\"gridcolor\":\"white\",\"linecolor\":\"white\",\"ticks\":\"\",\"title\":{\"standoff\":15},\"zerolinecolor\":\"white\",\"zerolinewidth\":2}}},\"legend\":{\"tracegroupgap\":0},\"margin\":{\"t\":60}},                        {\"responsive\": true}                    ).then(function(){\n",
              "                            \n",
              "var gd = document.getElementById('2f02c5e4-d85c-449d-9261-324b56707dfe');\n",
              "var x = new MutationObserver(function (mutations, observer) {{\n",
              "        var display = window.getComputedStyle(gd).display;\n",
              "        if (!display || display === 'none') {{\n",
              "            console.log([gd, 'removed!']);\n",
              "            Plotly.purge(gd);\n",
              "            observer.disconnect();\n",
              "        }}\n",
              "}});\n",
              "\n",
              "// Listen for the removal of the full notebook cells\n",
              "var notebookContainer = gd.closest('#notebook-container');\n",
              "if (notebookContainer) {{\n",
              "    x.observe(notebookContainer, {childList: true});\n",
              "}}\n",
              "\n",
              "// Listen for the clearing of the current output cell\n",
              "var outputEl = gd.closest('.output');\n",
              "if (outputEl) {{\n",
              "    x.observe(outputEl, {childList: true});\n",
              "}}\n",
              "\n",
              "                        })                };                            </script>        </div>\n",
              "</body>\n",
              "</html>"
            ]
          },
          "metadata": {}
        }
      ]
    },
    {
      "cell_type": "code",
      "source": [
        "fig = px.treemap(df, path=['mfr', 'rating'], values='cereal', title='Cereals rating')\n",
        "fig.show()"
      ],
      "metadata": {
        "colab": {
          "base_uri": "https://localhost:8080/",
          "height": 542
        },
        "id": "dV61VH9nlnma",
        "outputId": "4c643214-0754-4a74-bbb5-04638104e6f3"
      },
      "execution_count": null,
      "outputs": [
        {
          "output_type": "display_data",
          "data": {
            "text/html": [
              "<html>\n",
              "<head><meta charset=\"utf-8\" /></head>\n",
              "<body>\n",
              "    <div>            <script src=\"https://cdnjs.cloudflare.com/ajax/libs/mathjax/2.7.5/MathJax.js?config=TeX-AMS-MML_SVG\"></script><script type=\"text/javascript\">if (window.MathJax) {MathJax.Hub.Config({SVG: {font: \"STIX-Web\"}});}</script>                <script type=\"text/javascript\">window.PlotlyConfig = {MathJaxConfig: 'local'};</script>\n",
              "        <script src=\"https://cdn.plot.ly/plotly-2.8.3.min.js\"></script>                <div id=\"d390ede2-2a46-4263-aceb-538ad45b3cde\" class=\"plotly-graph-div\" style=\"height:525px; width:100%;\"></div>            <script type=\"text/javascript\">                                    window.PLOTLYENV=window.PLOTLYENV || {};                                    if (document.getElementById(\"d390ede2-2a46-4263-aceb-538ad45b3cde\")) {                    Plotly.newPlot(                        \"d390ede2-2a46-4263-aceb-538ad45b3cde\",                        [{\"branchvalues\":\"total\",\"domain\":{\"x\":[0.0,1.0],\"y\":[0.0,1.0]},\"hovertemplate\":\"labels=%{label}<br>cereal=%{value}<br>parent=%{parent}<br>id=%{id}<extra></extra>\",\"ids\":[\"Quaker Oats/18.04\",\"General Mills/19.82\",\"Quaker Oats/21.87\",\"General Mills/22.4\",\"General Mills/22.74\",\"General Mills/23.8\",\"General Mills/26.73\",\"General Mills/27.75\",\"Post/28.03\",\"General Mills/28.59\",\"Post/28.74\",\"General Mills/29.51\",\"Kellogs/29.92\",\"Kellogs/30.31\",\"General Mills/30.45\",\"General Mills/31.07\",\"Kellogs/31.23\",\"Kellogs/31.44\",\"Kellogs/32.21\",\"Kellogs/33.17\",\"Quaker Oats/33.98\",\"Ralston Purina/34.14\",\"Ralston Purina/34.38\",\"Post/35.25\",\"Kellogs/35.78\",\"General Mills/36.18\",\"General Mills/36.19\",\"Kellogs/36.47\",\"Kellogs/36.52\",\"General Mills/37.04\",\"Ralston Purina/37.14\",\"Post/37.84\",\"General Mills/38.84\",\"General Mills/39.11\",\"General Mills/39.24\",\"Kellogs/39.26\",\"General Mills/39.7\",\"General Mills/40.11\",\"General Mills/40.4\",\"Kellogs/40.45\",\"Kellogs/40.56\",\"Kellogs/40.69\",\"Post/40.92\",\"Kellogs/41.02\",\"Ralston Purina/41.45\",\"Kellogs/41.5\",\"Ralston Purina/42.0\",\"Ralston Purina/44.33\",\"Quaker Oats/45.33\",\"Post/45.81\",\"Kellogs/45.86\",\"General Mills/46.66\",\"Kellogs/46.9\",\"Ralston Purina/49.12\",\"Quaker Oats/49.51\",\"Ralston Purina/49.79\",\"General Mills/50.76\",\"Quaker Oats/50.83\",\"General Mills/51.59\",\"Post/52.08\",\"Kellogs/53.13\",\"Post/53.31\",\"Post/53.37\",\"AM Home Food/54.85\",\"Kellogs/55.33\",\"Kellogs/58.35\",\"Nabisco/59.36\",\"Kellogs/59.43\",\"Kellogs/59.64\",\"Quaker Oats/60.76\",\"Quaker Oats/63.01\",\"Nabisco/64.53\",\"Nabisco/68.24\",\"Nabisco/68.4\",\"Nabisco/72.8\",\"Nabisco/74.47\",\"Kellogs/93.7\",\"AM Home Food\",\"General Mills\",\"Kellogs\",\"Nabisco\",\"Post\",\"Quaker Oats\",\"Ralston Purina\"],\"labels\":[\"18.04\",\"19.82\",\"21.87\",\"22.4\",\"22.74\",\"23.8\",\"26.73\",\"27.75\",\"28.03\",\"28.59\",\"28.74\",\"29.51\",\"29.92\",\"30.31\",\"30.45\",\"31.07\",\"31.23\",\"31.44\",\"32.21\",\"33.17\",\"33.98\",\"34.14\",\"34.38\",\"35.25\",\"35.78\",\"36.18\",\"36.19\",\"36.47\",\"36.52\",\"37.04\",\"37.14\",\"37.84\",\"38.84\",\"39.11\",\"39.24\",\"39.26\",\"39.7\",\"40.11\",\"40.4\",\"40.45\",\"40.56\",\"40.69\",\"40.92\",\"41.02\",\"41.45\",\"41.5\",\"42.0\",\"44.33\",\"45.33\",\"45.81\",\"45.86\",\"46.66\",\"46.9\",\"49.12\",\"49.51\",\"49.79\",\"50.76\",\"50.83\",\"51.59\",\"52.08\",\"53.13\",\"53.31\",\"53.37\",\"54.85\",\"55.33\",\"58.35\",\"59.36\",\"59.43\",\"59.64\",\"60.76\",\"63.01\",\"64.53\",\"68.24\",\"68.4\",\"72.8\",\"74.47\",\"93.7\",\"AM Home Food\",\"General Mills\",\"Kellogs\",\"Nabisco\",\"Post\",\"Quaker Oats\",\"Ralston Purina\"],\"name\":\"\",\"parents\":[\"Quaker Oats\",\"General Mills\",\"Quaker Oats\",\"General Mills\",\"General Mills\",\"General Mills\",\"General Mills\",\"General Mills\",\"Post\",\"General Mills\",\"Post\",\"General Mills\",\"Kellogs\",\"Kellogs\",\"General Mills\",\"General Mills\",\"Kellogs\",\"Kellogs\",\"Kellogs\",\"Kellogs\",\"Quaker Oats\",\"Ralston Purina\",\"Ralston Purina\",\"Post\",\"Kellogs\",\"General Mills\",\"General Mills\",\"Kellogs\",\"Kellogs\",\"General Mills\",\"Ralston Purina\",\"Post\",\"General Mills\",\"General Mills\",\"General Mills\",\"Kellogs\",\"General Mills\",\"General Mills\",\"General Mills\",\"Kellogs\",\"Kellogs\",\"Kellogs\",\"Post\",\"Kellogs\",\"Ralston Purina\",\"Kellogs\",\"Ralston Purina\",\"Ralston Purina\",\"Quaker Oats\",\"Post\",\"Kellogs\",\"General Mills\",\"Kellogs\",\"Ralston Purina\",\"Quaker Oats\",\"Ralston Purina\",\"General Mills\",\"Quaker Oats\",\"General Mills\",\"Post\",\"Kellogs\",\"Post\",\"Post\",\"AM Home Food\",\"Kellogs\",\"Kellogs\",\"Nabisco\",\"Kellogs\",\"Kellogs\",\"Quaker Oats\",\"Quaker Oats\",\"Nabisco\",\"Nabisco\",\"Nabisco\",\"Nabisco\",\"Nabisco\",\"Kellogs\",\"\",\"\",\"\",\"\",\"\",\"\",\"\"],\"values\":[1,1,1,1,1,1,1,1,1,1,1,1,1,1,1,1,1,1,1,1,1,1,1,1,1,1,1,1,1,1,1,1,1,1,1,1,1,1,1,1,1,1,1,1,1,1,1,1,1,1,1,1,1,1,1,1,1,1,1,1,1,1,1,1,1,1,1,1,1,1,1,1,1,1,1,1,1,1,22,23,6,9,8,8],\"type\":\"treemap\"}],                        {\"template\":{\"data\":{\"bar\":[{\"error_x\":{\"color\":\"#2a3f5f\"},\"error_y\":{\"color\":\"#2a3f5f\"},\"marker\":{\"line\":{\"color\":\"#E5ECF6\",\"width\":0.5},\"pattern\":{\"fillmode\":\"overlay\",\"size\":10,\"solidity\":0.2}},\"type\":\"bar\"}],\"barpolar\":[{\"marker\":{\"line\":{\"color\":\"#E5ECF6\",\"width\":0.5},\"pattern\":{\"fillmode\":\"overlay\",\"size\":10,\"solidity\":0.2}},\"type\":\"barpolar\"}],\"carpet\":[{\"aaxis\":{\"endlinecolor\":\"#2a3f5f\",\"gridcolor\":\"white\",\"linecolor\":\"white\",\"minorgridcolor\":\"white\",\"startlinecolor\":\"#2a3f5f\"},\"baxis\":{\"endlinecolor\":\"#2a3f5f\",\"gridcolor\":\"white\",\"linecolor\":\"white\",\"minorgridcolor\":\"white\",\"startlinecolor\":\"#2a3f5f\"},\"type\":\"carpet\"}],\"choropleth\":[{\"colorbar\":{\"outlinewidth\":0,\"ticks\":\"\"},\"type\":\"choropleth\"}],\"contour\":[{\"colorbar\":{\"outlinewidth\":0,\"ticks\":\"\"},\"colorscale\":[[0.0,\"#0d0887\"],[0.1111111111111111,\"#46039f\"],[0.2222222222222222,\"#7201a8\"],[0.3333333333333333,\"#9c179e\"],[0.4444444444444444,\"#bd3786\"],[0.5555555555555556,\"#d8576b\"],[0.6666666666666666,\"#ed7953\"],[0.7777777777777778,\"#fb9f3a\"],[0.8888888888888888,\"#fdca26\"],[1.0,\"#f0f921\"]],\"type\":\"contour\"}],\"contourcarpet\":[{\"colorbar\":{\"outlinewidth\":0,\"ticks\":\"\"},\"type\":\"contourcarpet\"}],\"heatmap\":[{\"colorbar\":{\"outlinewidth\":0,\"ticks\":\"\"},\"colorscale\":[[0.0,\"#0d0887\"],[0.1111111111111111,\"#46039f\"],[0.2222222222222222,\"#7201a8\"],[0.3333333333333333,\"#9c179e\"],[0.4444444444444444,\"#bd3786\"],[0.5555555555555556,\"#d8576b\"],[0.6666666666666666,\"#ed7953\"],[0.7777777777777778,\"#fb9f3a\"],[0.8888888888888888,\"#fdca26\"],[1.0,\"#f0f921\"]],\"type\":\"heatmap\"}],\"heatmapgl\":[{\"colorbar\":{\"outlinewidth\":0,\"ticks\":\"\"},\"colorscale\":[[0.0,\"#0d0887\"],[0.1111111111111111,\"#46039f\"],[0.2222222222222222,\"#7201a8\"],[0.3333333333333333,\"#9c179e\"],[0.4444444444444444,\"#bd3786\"],[0.5555555555555556,\"#d8576b\"],[0.6666666666666666,\"#ed7953\"],[0.7777777777777778,\"#fb9f3a\"],[0.8888888888888888,\"#fdca26\"],[1.0,\"#f0f921\"]],\"type\":\"heatmapgl\"}],\"histogram\":[{\"marker\":{\"pattern\":{\"fillmode\":\"overlay\",\"size\":10,\"solidity\":0.2}},\"type\":\"histogram\"}],\"histogram2d\":[{\"colorbar\":{\"outlinewidth\":0,\"ticks\":\"\"},\"colorscale\":[[0.0,\"#0d0887\"],[0.1111111111111111,\"#46039f\"],[0.2222222222222222,\"#7201a8\"],[0.3333333333333333,\"#9c179e\"],[0.4444444444444444,\"#bd3786\"],[0.5555555555555556,\"#d8576b\"],[0.6666666666666666,\"#ed7953\"],[0.7777777777777778,\"#fb9f3a\"],[0.8888888888888888,\"#fdca26\"],[1.0,\"#f0f921\"]],\"type\":\"histogram2d\"}],\"histogram2dcontour\":[{\"colorbar\":{\"outlinewidth\":0,\"ticks\":\"\"},\"colorscale\":[[0.0,\"#0d0887\"],[0.1111111111111111,\"#46039f\"],[0.2222222222222222,\"#7201a8\"],[0.3333333333333333,\"#9c179e\"],[0.4444444444444444,\"#bd3786\"],[0.5555555555555556,\"#d8576b\"],[0.6666666666666666,\"#ed7953\"],[0.7777777777777778,\"#fb9f3a\"],[0.8888888888888888,\"#fdca26\"],[1.0,\"#f0f921\"]],\"type\":\"histogram2dcontour\"}],\"mesh3d\":[{\"colorbar\":{\"outlinewidth\":0,\"ticks\":\"\"},\"type\":\"mesh3d\"}],\"parcoords\":[{\"line\":{\"colorbar\":{\"outlinewidth\":0,\"ticks\":\"\"}},\"type\":\"parcoords\"}],\"pie\":[{\"automargin\":true,\"type\":\"pie\"}],\"scatter\":[{\"marker\":{\"colorbar\":{\"outlinewidth\":0,\"ticks\":\"\"}},\"type\":\"scatter\"}],\"scatter3d\":[{\"line\":{\"colorbar\":{\"outlinewidth\":0,\"ticks\":\"\"}},\"marker\":{\"colorbar\":{\"outlinewidth\":0,\"ticks\":\"\"}},\"type\":\"scatter3d\"}],\"scattercarpet\":[{\"marker\":{\"colorbar\":{\"outlinewidth\":0,\"ticks\":\"\"}},\"type\":\"scattercarpet\"}],\"scattergeo\":[{\"marker\":{\"colorbar\":{\"outlinewidth\":0,\"ticks\":\"\"}},\"type\":\"scattergeo\"}],\"scattergl\":[{\"marker\":{\"colorbar\":{\"outlinewidth\":0,\"ticks\":\"\"}},\"type\":\"scattergl\"}],\"scattermapbox\":[{\"marker\":{\"colorbar\":{\"outlinewidth\":0,\"ticks\":\"\"}},\"type\":\"scattermapbox\"}],\"scatterpolar\":[{\"marker\":{\"colorbar\":{\"outlinewidth\":0,\"ticks\":\"\"}},\"type\":\"scatterpolar\"}],\"scatterpolargl\":[{\"marker\":{\"colorbar\":{\"outlinewidth\":0,\"ticks\":\"\"}},\"type\":\"scatterpolargl\"}],\"scatterternary\":[{\"marker\":{\"colorbar\":{\"outlinewidth\":0,\"ticks\":\"\"}},\"type\":\"scatterternary\"}],\"surface\":[{\"colorbar\":{\"outlinewidth\":0,\"ticks\":\"\"},\"colorscale\":[[0.0,\"#0d0887\"],[0.1111111111111111,\"#46039f\"],[0.2222222222222222,\"#7201a8\"],[0.3333333333333333,\"#9c179e\"],[0.4444444444444444,\"#bd3786\"],[0.5555555555555556,\"#d8576b\"],[0.6666666666666666,\"#ed7953\"],[0.7777777777777778,\"#fb9f3a\"],[0.8888888888888888,\"#fdca26\"],[1.0,\"#f0f921\"]],\"type\":\"surface\"}],\"table\":[{\"cells\":{\"fill\":{\"color\":\"#EBF0F8\"},\"line\":{\"color\":\"white\"}},\"header\":{\"fill\":{\"color\":\"#C8D4E3\"},\"line\":{\"color\":\"white\"}},\"type\":\"table\"}]},\"layout\":{\"annotationdefaults\":{\"arrowcolor\":\"#2a3f5f\",\"arrowhead\":0,\"arrowwidth\":1},\"autotypenumbers\":\"strict\",\"coloraxis\":{\"colorbar\":{\"outlinewidth\":0,\"ticks\":\"\"}},\"colorscale\":{\"diverging\":[[0,\"#8e0152\"],[0.1,\"#c51b7d\"],[0.2,\"#de77ae\"],[0.3,\"#f1b6da\"],[0.4,\"#fde0ef\"],[0.5,\"#f7f7f7\"],[0.6,\"#e6f5d0\"],[0.7,\"#b8e186\"],[0.8,\"#7fbc41\"],[0.9,\"#4d9221\"],[1,\"#276419\"]],\"sequential\":[[0.0,\"#0d0887\"],[0.1111111111111111,\"#46039f\"],[0.2222222222222222,\"#7201a8\"],[0.3333333333333333,\"#9c179e\"],[0.4444444444444444,\"#bd3786\"],[0.5555555555555556,\"#d8576b\"],[0.6666666666666666,\"#ed7953\"],[0.7777777777777778,\"#fb9f3a\"],[0.8888888888888888,\"#fdca26\"],[1.0,\"#f0f921\"]],\"sequentialminus\":[[0.0,\"#0d0887\"],[0.1111111111111111,\"#46039f\"],[0.2222222222222222,\"#7201a8\"],[0.3333333333333333,\"#9c179e\"],[0.4444444444444444,\"#bd3786\"],[0.5555555555555556,\"#d8576b\"],[0.6666666666666666,\"#ed7953\"],[0.7777777777777778,\"#fb9f3a\"],[0.8888888888888888,\"#fdca26\"],[1.0,\"#f0f921\"]]},\"colorway\":[\"#636efa\",\"#EF553B\",\"#00cc96\",\"#ab63fa\",\"#FFA15A\",\"#19d3f3\",\"#FF6692\",\"#B6E880\",\"#FF97FF\",\"#FECB52\"],\"font\":{\"color\":\"#2a3f5f\"},\"geo\":{\"bgcolor\":\"white\",\"lakecolor\":\"white\",\"landcolor\":\"#E5ECF6\",\"showlakes\":true,\"showland\":true,\"subunitcolor\":\"white\"},\"hoverlabel\":{\"align\":\"left\"},\"hovermode\":\"closest\",\"mapbox\":{\"style\":\"light\"},\"paper_bgcolor\":\"white\",\"plot_bgcolor\":\"#E5ECF6\",\"polar\":{\"angularaxis\":{\"gridcolor\":\"white\",\"linecolor\":\"white\",\"ticks\":\"\"},\"bgcolor\":\"#E5ECF6\",\"radialaxis\":{\"gridcolor\":\"white\",\"linecolor\":\"white\",\"ticks\":\"\"}},\"scene\":{\"xaxis\":{\"backgroundcolor\":\"#E5ECF6\",\"gridcolor\":\"white\",\"gridwidth\":2,\"linecolor\":\"white\",\"showbackground\":true,\"ticks\":\"\",\"zerolinecolor\":\"white\"},\"yaxis\":{\"backgroundcolor\":\"#E5ECF6\",\"gridcolor\":\"white\",\"gridwidth\":2,\"linecolor\":\"white\",\"showbackground\":true,\"ticks\":\"\",\"zerolinecolor\":\"white\"},\"zaxis\":{\"backgroundcolor\":\"#E5ECF6\",\"gridcolor\":\"white\",\"gridwidth\":2,\"linecolor\":\"white\",\"showbackground\":true,\"ticks\":\"\",\"zerolinecolor\":\"white\"}},\"shapedefaults\":{\"line\":{\"color\":\"#2a3f5f\"}},\"ternary\":{\"aaxis\":{\"gridcolor\":\"white\",\"linecolor\":\"white\",\"ticks\":\"\"},\"baxis\":{\"gridcolor\":\"white\",\"linecolor\":\"white\",\"ticks\":\"\"},\"bgcolor\":\"#E5ECF6\",\"caxis\":{\"gridcolor\":\"white\",\"linecolor\":\"white\",\"ticks\":\"\"}},\"title\":{\"x\":0.05},\"xaxis\":{\"automargin\":true,\"gridcolor\":\"white\",\"linecolor\":\"white\",\"ticks\":\"\",\"title\":{\"standoff\":15},\"zerolinecolor\":\"white\",\"zerolinewidth\":2},\"yaxis\":{\"automargin\":true,\"gridcolor\":\"white\",\"linecolor\":\"white\",\"ticks\":\"\",\"title\":{\"standoff\":15},\"zerolinecolor\":\"white\",\"zerolinewidth\":2}}},\"legend\":{\"tracegroupgap\":0},\"title\":{\"text\":\"Cereals rating\"}},                        {\"responsive\": true}                    ).then(function(){\n",
              "                            \n",
              "var gd = document.getElementById('d390ede2-2a46-4263-aceb-538ad45b3cde');\n",
              "var x = new MutationObserver(function (mutations, observer) {{\n",
              "        var display = window.getComputedStyle(gd).display;\n",
              "        if (!display || display === 'none') {{\n",
              "            console.log([gd, 'removed!']);\n",
              "            Plotly.purge(gd);\n",
              "            observer.disconnect();\n",
              "        }}\n",
              "}});\n",
              "\n",
              "// Listen for the removal of the full notebook cells\n",
              "var notebookContainer = gd.closest('#notebook-container');\n",
              "if (notebookContainer) {{\n",
              "    x.observe(notebookContainer, {childList: true});\n",
              "}}\n",
              "\n",
              "// Listen for the clearing of the current output cell\n",
              "var outputEl = gd.closest('.output');\n",
              "if (outputEl) {{\n",
              "    x.observe(outputEl, {childList: true});\n",
              "}}\n",
              "\n",
              "                        })                };                            </script>        </div>\n",
              "</body>\n",
              "</html>"
            ]
          },
          "metadata": {}
        }
      ]
    },
    {
      "cell_type": "code",
      "source": [
        "fig = px.strip(df,\n",
        "                x='calories',\n",
        "                y='rating',\n",
        "                color='mfr',\n",
        "                facet_row='shelf',\n",
        "                facet_col='type',\n",
        "                hover_name='name',\n",
        "                category_orders={'shelf': ['Top', 'Middle', 'Bottom']})\n",
        "fig.show()"
      ],
      "metadata": {
        "colab": {
          "base_uri": "https://localhost:8080/",
          "height": 542
        },
        "id": "prea7Cy7nxo9",
        "outputId": "b1b9153a-4682-4306-9a02-38a670f00675"
      },
      "execution_count": null,
      "outputs": [
        {
          "output_type": "display_data",
          "data": {
            "text/html": [
              "<html>\n",
              "<head><meta charset=\"utf-8\" /></head>\n",
              "<body>\n",
              "    <div>            <script src=\"https://cdnjs.cloudflare.com/ajax/libs/mathjax/2.7.5/MathJax.js?config=TeX-AMS-MML_SVG\"></script><script type=\"text/javascript\">if (window.MathJax) {MathJax.Hub.Config({SVG: {font: \"STIX-Web\"}});}</script>                <script type=\"text/javascript\">window.PlotlyConfig = {MathJaxConfig: 'local'};</script>\n",
              "        <script src=\"https://cdn.plot.ly/plotly-2.8.3.min.js\"></script>                <div id=\"d38eb929-aa64-4d6a-9f79-00333334f1fb\" class=\"plotly-graph-div\" style=\"height:525px; width:100%;\"></div>            <script type=\"text/javascript\">                                    window.PLOTLYENV=window.PLOTLYENV || {};                                    if (document.getElementById(\"d38eb929-aa64-4d6a-9f79-00333334f1fb\")) {                    Plotly.newPlot(                        \"d38eb929-aa64-4d6a-9f79-00333334f1fb\",                        [{\"alignmentgroup\":\"True\",\"boxpoints\":\"all\",\"fillcolor\":\"rgba(255,255,255,0)\",\"hoveron\":\"points\",\"hovertemplate\":\"<b>%{hovertext}</b><br><br>mfr=Nabisco<br>shelf=Top<br>type=Cold<br>calories=%{x}<br>rating=%{y}<extra></extra>\",\"hovertext\":[\"100% Bran\"],\"legendgroup\":\"Nabisco\",\"line\":{\"color\":\"rgba(255,255,255,0)\"},\"marker\":{\"color\":\"#636efa\"},\"name\":\"Nabisco\",\"offsetgroup\":\"Nabisco\",\"orientation\":\"v\",\"pointpos\":0,\"showlegend\":true,\"x\":[70],\"x0\":\" \",\"xaxis\":\"x5\",\"y\":[68.4],\"y0\":\" \",\"yaxis\":\"y5\",\"type\":\"box\"},{\"alignmentgroup\":\"True\",\"boxpoints\":\"all\",\"fillcolor\":\"rgba(255,255,255,0)\",\"hoveron\":\"points\",\"hovertemplate\":\"<b>%{hovertext}</b><br><br>mfr=Nabisco<br>shelf=Middle<br>type=Cold<br>calories=%{x}<br>rating=%{y}<extra></extra>\",\"hovertext\":[\"Strawberry Fruit Wheats\"],\"legendgroup\":\"Nabisco\",\"line\":{\"color\":\"rgba(255,255,255,0)\"},\"marker\":{\"color\":\"#636efa\"},\"name\":\"Nabisco\",\"offsetgroup\":\"Nabisco\",\"orientation\":\"v\",\"pointpos\":0,\"showlegend\":false,\"x\":[90],\"x0\":\" \",\"xaxis\":\"x3\",\"y\":[59.36],\"y0\":\" \",\"yaxis\":\"y3\",\"type\":\"box\"},{\"alignmentgroup\":\"True\",\"boxpoints\":\"all\",\"fillcolor\":\"rgba(255,255,255,0)\",\"hoveron\":\"points\",\"hovertemplate\":\"<b>%{hovertext}</b><br><br>mfr=Nabisco<br>shelf=Middle<br>type=Hot<br>calories=%{x}<br>rating=%{y}<extra></extra>\",\"hovertext\":[\"Cream of Wheat (Quick)\"],\"legendgroup\":\"Nabisco\",\"line\":{\"color\":\"rgba(255,255,255,0)\"},\"marker\":{\"color\":\"#636efa\"},\"name\":\"Nabisco\",\"offsetgroup\":\"Nabisco\",\"orientation\":\"v\",\"pointpos\":0,\"showlegend\":false,\"x\":[100],\"x0\":\" \",\"xaxis\":\"x4\",\"y\":[64.53],\"y0\":\" \",\"yaxis\":\"y4\",\"type\":\"box\"},{\"alignmentgroup\":\"True\",\"boxpoints\":\"all\",\"fillcolor\":\"rgba(255,255,255,0)\",\"hoveron\":\"points\",\"hovertemplate\":\"<b>%{hovertext}</b><br><br>mfr=Nabisco<br>shelf=Bottom<br>type=Cold<br>calories=%{x}<br>rating=%{y}<extra></extra>\",\"hovertext\":[\"Shredded Wheat\",\"Shredded Wheat 'n'Bran\",\"Shredded Wheat spoon size\"],\"legendgroup\":\"Nabisco\",\"line\":{\"color\":\"rgba(255,255,255,0)\"},\"marker\":{\"color\":\"#636efa\"},\"name\":\"Nabisco\",\"offsetgroup\":\"Nabisco\",\"orientation\":\"v\",\"pointpos\":0,\"showlegend\":false,\"x\":[80,90,90],\"x0\":\" \",\"xaxis\":\"x\",\"y\":[68.24,74.47,72.8],\"y0\":\" \",\"yaxis\":\"y\",\"type\":\"box\"},{\"alignmentgroup\":\"True\",\"boxpoints\":\"all\",\"fillcolor\":\"rgba(255,255,255,0)\",\"hoveron\":\"points\",\"hovertemplate\":\"<b>%{hovertext}</b><br><br>mfr=Quaker Oats<br>shelf=Top<br>type=Cold<br>calories=%{x}<br>rating=%{y}<extra></extra>\",\"hovertext\":[\"100% Natural Bran\",\"Puffed Rice\",\"Puffed Wheat\",\"Quaker Oat Squares\"],\"legendgroup\":\"Quaker Oats\",\"line\":{\"color\":\"rgba(255,255,255,0)\"},\"marker\":{\"color\":\"#EF553B\"},\"name\":\"Quaker Oats\",\"offsetgroup\":\"Quaker Oats\",\"orientation\":\"v\",\"pointpos\":0,\"showlegend\":true,\"x\":[120,50,50,100],\"x0\":\" \",\"xaxis\":\"x5\",\"y\":[33.98,60.76,63.01,49.51],\"y0\":\" \",\"yaxis\":\"y5\",\"type\":\"box\"},{\"alignmentgroup\":\"True\",\"boxpoints\":\"all\",\"fillcolor\":\"rgba(255,255,255,0)\",\"hoveron\":\"points\",\"hovertemplate\":\"<b>%{hovertext}</b><br><br>mfr=Quaker Oats<br>shelf=Middle<br>type=Cold<br>calories=%{x}<br>rating=%{y}<extra></extra>\",\"hovertext\":[\"Cap'n'Crunch\",\"Honey Graham Ohs\",\"Life\"],\"legendgroup\":\"Quaker Oats\",\"line\":{\"color\":\"rgba(255,255,255,0)\"},\"marker\":{\"color\":\"#EF553B\"},\"name\":\"Quaker Oats\",\"offsetgroup\":\"Quaker Oats\",\"orientation\":\"v\",\"pointpos\":0,\"showlegend\":false,\"x\":[120,120,100],\"x0\":\" \",\"xaxis\":\"x3\",\"y\":[18.04,21.87,45.33],\"y0\":\" \",\"yaxis\":\"y3\",\"type\":\"box\"},{\"alignmentgroup\":\"True\",\"boxpoints\":\"all\",\"fillcolor\":\"rgba(255,255,255,0)\",\"hoveron\":\"points\",\"hovertemplate\":\"<b>%{hovertext}</b><br><br>mfr=Quaker Oats<br>shelf=Bottom<br>type=Hot<br>calories=%{x}<br>rating=%{y}<extra></extra>\",\"hovertext\":[\"Quaker Oatmeal\"],\"legendgroup\":\"Quaker Oats\",\"line\":{\"color\":\"rgba(255,255,255,0)\"},\"marker\":{\"color\":\"#EF553B\"},\"name\":\"Quaker Oats\",\"offsetgroup\":\"Quaker Oats\",\"orientation\":\"v\",\"pointpos\":0,\"showlegend\":false,\"x\":[100],\"x0\":\" \",\"xaxis\":\"x2\",\"y\":[50.83],\"y0\":\" \",\"yaxis\":\"y2\",\"type\":\"box\"},{\"alignmentgroup\":\"True\",\"boxpoints\":\"all\",\"fillcolor\":\"rgba(255,255,255,0)\",\"hoveron\":\"points\",\"hovertemplate\":\"<b>%{hovertext}</b><br><br>mfr=Kellogs<br>shelf=Top<br>type=Cold<br>calories=%{x}<br>rating=%{y}<extra></extra>\",\"hovertext\":[\"All-Bran\",\"All-Bran with Extra Fiber\",\"Cracklin' Oat Bran\",\"Crispix\",\"Fruitful Bran\",\"Just Right Crunchy  Nuggets\",\"Just Right Fruit & Nut\",\"Mueslix Crispy Blend\",\"Nutri-Grain Almond-Raisin\",\"Nutri-grain Wheat\",\"Product 19\",\"Raisin Squares\"],\"legendgroup\":\"Kellogs\",\"line\":{\"color\":\"rgba(255,255,255,0)\"},\"marker\":{\"color\":\"#00cc96\"},\"name\":\"Kellogs\",\"offsetgroup\":\"Kellogs\",\"orientation\":\"v\",\"pointpos\":0,\"showlegend\":true,\"x\":[70,50,110,110,120,110,140,160,140,90,100,90],\"x0\":\" \",\"xaxis\":\"x5\",\"y\":[59.43,93.7,40.45,46.9,41.02,36.52,36.47,30.31,40.69,59.64,41.5,55.33],\"y0\":\" \",\"yaxis\":\"y5\",\"type\":\"box\"},{\"alignmentgroup\":\"True\",\"boxpoints\":\"all\",\"fillcolor\":\"rgba(255,255,255,0)\",\"hoveron\":\"points\",\"hovertemplate\":\"<b>%{hovertext}</b><br><br>mfr=Kellogs<br>shelf=Middle<br>type=Cold<br>calories=%{x}<br>rating=%{y}<extra></extra>\",\"hovertext\":[\"Apple Jacks\",\"Corn Pops\",\"Froot Loops\",\"Frosted Mini-Wheats\",\"Nut&Honey Crunch\",\"Raisin Bran\",\"Smacks\"],\"legendgroup\":\"Kellogs\",\"line\":{\"color\":\"rgba(255,255,255,0)\"},\"marker\":{\"color\":\"#00cc96\"},\"name\":\"Kellogs\",\"offsetgroup\":\"Kellogs\",\"orientation\":\"v\",\"pointpos\":0,\"showlegend\":false,\"x\":[110,110,110,100,120,120,110],\"x0\":\" \",\"xaxis\":\"x3\",\"y\":[33.17,35.78,32.21,58.35,29.92,39.26,31.23],\"y0\":\" \",\"yaxis\":\"y3\",\"type\":\"box\"},{\"alignmentgroup\":\"True\",\"boxpoints\":\"all\",\"fillcolor\":\"rgba(255,255,255,0)\",\"hoveron\":\"points\",\"hovertemplate\":\"<b>%{hovertext}</b><br><br>mfr=Kellogs<br>shelf=Bottom<br>type=Cold<br>calories=%{x}<br>rating=%{y}<extra></extra>\",\"hovertext\":[\"Corn Flakes\",\"Frosted Flakes\",\"Rice Krispies\",\"Special K\"],\"legendgroup\":\"Kellogs\",\"line\":{\"color\":\"rgba(255,255,255,0)\"},\"marker\":{\"color\":\"#00cc96\"},\"name\":\"Kellogs\",\"offsetgroup\":\"Kellogs\",\"orientation\":\"v\",\"pointpos\":0,\"showlegend\":false,\"x\":[100,110,110,110],\"x0\":\" \",\"xaxis\":\"x\",\"y\":[45.86,31.44,40.56,53.13],\"y0\":\" \",\"yaxis\":\"y\",\"type\":\"box\"},{\"alignmentgroup\":\"True\",\"boxpoints\":\"all\",\"fillcolor\":\"rgba(255,255,255,0)\",\"hoveron\":\"points\",\"hovertemplate\":\"<b>%{hovertext}</b><br><br>mfr=Ralston Purina<br>shelf=Top<br>type=Cold<br>calories=%{x}<br>rating=%{y}<extra></extra>\",\"hovertext\":[\"Almond Delight\",\"Double Chex\",\"Muesli Raisins, Dates, & Almonds\",\"Muesli Raisins, Peaches, & Pecans\"],\"legendgroup\":\"Ralston Purina\",\"line\":{\"color\":\"rgba(255,255,255,0)\"},\"marker\":{\"color\":\"#ab63fa\"},\"name\":\"Ralston Purina\",\"offsetgroup\":\"Ralston Purina\",\"orientation\":\"v\",\"pointpos\":0,\"showlegend\":true,\"x\":[110,100,150,150],\"x0\":\" \",\"xaxis\":\"x5\",\"y\":[34.38,44.33,37.14,34.14],\"y0\":\" \",\"yaxis\":\"y5\",\"type\":\"box\"},{\"alignmentgroup\":\"True\",\"boxpoints\":\"all\",\"fillcolor\":\"rgba(255,255,255,0)\",\"hoveron\":\"points\",\"hovertemplate\":\"<b>%{hovertext}</b><br><br>mfr=Ralston Purina<br>shelf=Bottom<br>type=Cold<br>calories=%{x}<br>rating=%{y}<extra></extra>\",\"hovertext\":[\"Bran Chex\",\"Corn Chex\",\"Rice Chex\",\"Wheat Chex\"],\"legendgroup\":\"Ralston Purina\",\"line\":{\"color\":\"rgba(255,255,255,0)\"},\"marker\":{\"color\":\"#ab63fa\"},\"name\":\"Ralston Purina\",\"offsetgroup\":\"Ralston Purina\",\"orientation\":\"v\",\"pointpos\":0,\"showlegend\":false,\"x\":[90,110,110,100],\"x0\":\" \",\"xaxis\":\"x\",\"y\":[49.12,41.45,42.0,49.79],\"y0\":\" \",\"yaxis\":\"y\",\"type\":\"box\"},{\"alignmentgroup\":\"True\",\"boxpoints\":\"all\",\"fillcolor\":\"rgba(255,255,255,0)\",\"hoveron\":\"points\",\"hovertemplate\":\"<b>%{hovertext}</b><br><br>mfr=General Mills<br>shelf=Top<br>type=Cold<br>calories=%{x}<br>rating=%{y}<extra></extra>\",\"hovertext\":[\"Basic 4\",\"Clusters\",\"Crispy Wheat & Raisins\",\"Oatmeal Raisin Crisp\",\"Raisin Nut Bran\",\"Total Corn Flakes\",\"Total Raisin Bran\",\"Total Whole Grain\",\"Triples\"],\"legendgroup\":\"General Mills\",\"line\":{\"color\":\"rgba(255,255,255,0)\"},\"marker\":{\"color\":\"#FFA15A\"},\"name\":\"General Mills\",\"offsetgroup\":\"General Mills\",\"orientation\":\"v\",\"pointpos\":0,\"showlegend\":true,\"x\":[130,110,100,130,100,110,140,100,110],\"x0\":\" \",\"xaxis\":\"x5\",\"y\":[37.04,40.4,36.18,30.45,39.7,38.84,28.59,46.66,39.11],\"y0\":\" \",\"yaxis\":\"y5\",\"type\":\"box\"},{\"alignmentgroup\":\"True\",\"boxpoints\":\"all\",\"fillcolor\":\"rgba(255,255,255,0)\",\"hoveron\":\"points\",\"hovertemplate\":\"<b>%{hovertext}</b><br><br>mfr=General Mills<br>shelf=Middle<br>type=Cold<br>calories=%{x}<br>rating=%{y}<extra></extra>\",\"hovertext\":[\"Cinnamon Toast Crunch\",\"Cocoa Puffs\",\"Count Chocula\",\"Golden Grahams\",\"Kix\",\"Lucky Charms\",\"Trix\"],\"legendgroup\":\"General Mills\",\"line\":{\"color\":\"rgba(255,255,255,0)\"},\"marker\":{\"color\":\"#FFA15A\"},\"name\":\"General Mills\",\"offsetgroup\":\"General Mills\",\"orientation\":\"v\",\"pointpos\":0,\"showlegend\":false,\"x\":[120,110,110,110,110,110,110],\"x0\":\" \",\"xaxis\":\"x3\",\"y\":[19.82,22.74,22.4,23.8,39.24,26.73,27.75],\"y0\":\" \",\"yaxis\":\"y3\",\"type\":\"box\"},{\"alignmentgroup\":\"True\",\"boxpoints\":\"all\",\"fillcolor\":\"rgba(255,255,255,0)\",\"hoveron\":\"points\",\"hovertemplate\":\"<b>%{hovertext}</b><br><br>mfr=General Mills<br>shelf=Bottom<br>type=Cold<br>calories=%{x}<br>rating=%{y}<extra></extra>\",\"hovertext\":[\"Apple Cinnamon Cheerios\",\"Cheerios\",\"Honey Nut Cheerios\",\"Multi-Grain Cheerios\",\"Wheaties\",\"Wheaties Honey Gold\"],\"legendgroup\":\"General Mills\",\"line\":{\"color\":\"rgba(255,255,255,0)\"},\"marker\":{\"color\":\"#FFA15A\"},\"name\":\"General Mills\",\"offsetgroup\":\"General Mills\",\"orientation\":\"v\",\"pointpos\":0,\"showlegend\":false,\"x\":[110,110,110,100,100,110],\"x0\":\" \",\"xaxis\":\"x\",\"y\":[29.51,50.76,31.07,40.11,51.59,36.19],\"y0\":\" \",\"yaxis\":\"y\",\"type\":\"box\"},{\"alignmentgroup\":\"True\",\"boxpoints\":\"all\",\"fillcolor\":\"rgba(255,255,255,0)\",\"hoveron\":\"points\",\"hovertemplate\":\"<b>%{hovertext}</b><br><br>mfr=Post<br>shelf=Top<br>type=Cold<br>calories=%{x}<br>rating=%{y}<extra></extra>\",\"hovertext\":[\"Bran Flakes\",\"Fruit & Fibre Dates, Walnuts, and Oats\",\"Grape Nuts Flakes\",\"Grape-Nuts\",\"Great Grains Pecan\",\"Post Nat. Raisin Bran\"],\"legendgroup\":\"Post\",\"line\":{\"color\":\"rgba(255,255,255,0)\"},\"marker\":{\"color\":\"#19d3f3\"},\"name\":\"Post\",\"offsetgroup\":\"Post\",\"orientation\":\"v\",\"pointpos\":0,\"showlegend\":true,\"x\":[90,120,100,110,120,120],\"x0\":\" \",\"xaxis\":\"x5\",\"y\":[53.31,40.92,52.08,53.37,45.81,37.84],\"y0\":\" \",\"yaxis\":\"y5\",\"type\":\"box\"},{\"alignmentgroup\":\"True\",\"boxpoints\":\"all\",\"fillcolor\":\"rgba(255,255,255,0)\",\"hoveron\":\"points\",\"hovertemplate\":\"<b>%{hovertext}</b><br><br>mfr=Post<br>shelf=Middle<br>type=Cold<br>calories=%{x}<br>rating=%{y}<extra></extra>\",\"hovertext\":[\"Fruity Pebbles\"],\"legendgroup\":\"Post\",\"line\":{\"color\":\"rgba(255,255,255,0)\"},\"marker\":{\"color\":\"#19d3f3\"},\"name\":\"Post\",\"offsetgroup\":\"Post\",\"orientation\":\"v\",\"pointpos\":0,\"showlegend\":false,\"x\":[110],\"x0\":\" \",\"xaxis\":\"x3\",\"y\":[28.03],\"y0\":\" \",\"yaxis\":\"y3\",\"type\":\"box\"},{\"alignmentgroup\":\"True\",\"boxpoints\":\"all\",\"fillcolor\":\"rgba(255,255,255,0)\",\"hoveron\":\"points\",\"hovertemplate\":\"<b>%{hovertext}</b><br><br>mfr=Post<br>shelf=Bottom<br>type=Cold<br>calories=%{x}<br>rating=%{y}<extra></extra>\",\"hovertext\":[\"Golden Crisp\",\"Honey-comb\"],\"legendgroup\":\"Post\",\"line\":{\"color\":\"rgba(255,255,255,0)\"},\"marker\":{\"color\":\"#19d3f3\"},\"name\":\"Post\",\"offsetgroup\":\"Post\",\"orientation\":\"v\",\"pointpos\":0,\"showlegend\":false,\"x\":[100,110],\"x0\":\" \",\"xaxis\":\"x\",\"y\":[35.25,28.74],\"y0\":\" \",\"yaxis\":\"y\",\"type\":\"box\"},{\"alignmentgroup\":\"True\",\"boxpoints\":\"all\",\"fillcolor\":\"rgba(255,255,255,0)\",\"hoveron\":\"points\",\"hovertemplate\":\"<b>%{hovertext}</b><br><br>mfr=AM Home Food<br>shelf=Middle<br>type=Hot<br>calories=%{x}<br>rating=%{y}<extra></extra>\",\"hovertext\":[\"Maypo\"],\"legendgroup\":\"AM Home Food\",\"line\":{\"color\":\"rgba(255,255,255,0)\"},\"marker\":{\"color\":\"#FF6692\"},\"name\":\"AM Home Food\",\"offsetgroup\":\"AM Home Food\",\"orientation\":\"v\",\"pointpos\":0,\"showlegend\":true,\"x\":[100],\"x0\":\" \",\"xaxis\":\"x4\",\"y\":[54.85],\"y0\":\" \",\"yaxis\":\"y4\",\"type\":\"box\"}],                        {\"template\":{\"data\":{\"bar\":[{\"error_x\":{\"color\":\"#2a3f5f\"},\"error_y\":{\"color\":\"#2a3f5f\"},\"marker\":{\"line\":{\"color\":\"#E5ECF6\",\"width\":0.5},\"pattern\":{\"fillmode\":\"overlay\",\"size\":10,\"solidity\":0.2}},\"type\":\"bar\"}],\"barpolar\":[{\"marker\":{\"line\":{\"color\":\"#E5ECF6\",\"width\":0.5},\"pattern\":{\"fillmode\":\"overlay\",\"size\":10,\"solidity\":0.2}},\"type\":\"barpolar\"}],\"carpet\":[{\"aaxis\":{\"endlinecolor\":\"#2a3f5f\",\"gridcolor\":\"white\",\"linecolor\":\"white\",\"minorgridcolor\":\"white\",\"startlinecolor\":\"#2a3f5f\"},\"baxis\":{\"endlinecolor\":\"#2a3f5f\",\"gridcolor\":\"white\",\"linecolor\":\"white\",\"minorgridcolor\":\"white\",\"startlinecolor\":\"#2a3f5f\"},\"type\":\"carpet\"}],\"choropleth\":[{\"colorbar\":{\"outlinewidth\":0,\"ticks\":\"\"},\"type\":\"choropleth\"}],\"contour\":[{\"colorbar\":{\"outlinewidth\":0,\"ticks\":\"\"},\"colorscale\":[[0.0,\"#0d0887\"],[0.1111111111111111,\"#46039f\"],[0.2222222222222222,\"#7201a8\"],[0.3333333333333333,\"#9c179e\"],[0.4444444444444444,\"#bd3786\"],[0.5555555555555556,\"#d8576b\"],[0.6666666666666666,\"#ed7953\"],[0.7777777777777778,\"#fb9f3a\"],[0.8888888888888888,\"#fdca26\"],[1.0,\"#f0f921\"]],\"type\":\"contour\"}],\"contourcarpet\":[{\"colorbar\":{\"outlinewidth\":0,\"ticks\":\"\"},\"type\":\"contourcarpet\"}],\"heatmap\":[{\"colorbar\":{\"outlinewidth\":0,\"ticks\":\"\"},\"colorscale\":[[0.0,\"#0d0887\"],[0.1111111111111111,\"#46039f\"],[0.2222222222222222,\"#7201a8\"],[0.3333333333333333,\"#9c179e\"],[0.4444444444444444,\"#bd3786\"],[0.5555555555555556,\"#d8576b\"],[0.6666666666666666,\"#ed7953\"],[0.7777777777777778,\"#fb9f3a\"],[0.8888888888888888,\"#fdca26\"],[1.0,\"#f0f921\"]],\"type\":\"heatmap\"}],\"heatmapgl\":[{\"colorbar\":{\"outlinewidth\":0,\"ticks\":\"\"},\"colorscale\":[[0.0,\"#0d0887\"],[0.1111111111111111,\"#46039f\"],[0.2222222222222222,\"#7201a8\"],[0.3333333333333333,\"#9c179e\"],[0.4444444444444444,\"#bd3786\"],[0.5555555555555556,\"#d8576b\"],[0.6666666666666666,\"#ed7953\"],[0.7777777777777778,\"#fb9f3a\"],[0.8888888888888888,\"#fdca26\"],[1.0,\"#f0f921\"]],\"type\":\"heatmapgl\"}],\"histogram\":[{\"marker\":{\"pattern\":{\"fillmode\":\"overlay\",\"size\":10,\"solidity\":0.2}},\"type\":\"histogram\"}],\"histogram2d\":[{\"colorbar\":{\"outlinewidth\":0,\"ticks\":\"\"},\"colorscale\":[[0.0,\"#0d0887\"],[0.1111111111111111,\"#46039f\"],[0.2222222222222222,\"#7201a8\"],[0.3333333333333333,\"#9c179e\"],[0.4444444444444444,\"#bd3786\"],[0.5555555555555556,\"#d8576b\"],[0.6666666666666666,\"#ed7953\"],[0.7777777777777778,\"#fb9f3a\"],[0.8888888888888888,\"#fdca26\"],[1.0,\"#f0f921\"]],\"type\":\"histogram2d\"}],\"histogram2dcontour\":[{\"colorbar\":{\"outlinewidth\":0,\"ticks\":\"\"},\"colorscale\":[[0.0,\"#0d0887\"],[0.1111111111111111,\"#46039f\"],[0.2222222222222222,\"#7201a8\"],[0.3333333333333333,\"#9c179e\"],[0.4444444444444444,\"#bd3786\"],[0.5555555555555556,\"#d8576b\"],[0.6666666666666666,\"#ed7953\"],[0.7777777777777778,\"#fb9f3a\"],[0.8888888888888888,\"#fdca26\"],[1.0,\"#f0f921\"]],\"type\":\"histogram2dcontour\"}],\"mesh3d\":[{\"colorbar\":{\"outlinewidth\":0,\"ticks\":\"\"},\"type\":\"mesh3d\"}],\"parcoords\":[{\"line\":{\"colorbar\":{\"outlinewidth\":0,\"ticks\":\"\"}},\"type\":\"parcoords\"}],\"pie\":[{\"automargin\":true,\"type\":\"pie\"}],\"scatter\":[{\"marker\":{\"colorbar\":{\"outlinewidth\":0,\"ticks\":\"\"}},\"type\":\"scatter\"}],\"scatter3d\":[{\"line\":{\"colorbar\":{\"outlinewidth\":0,\"ticks\":\"\"}},\"marker\":{\"colorbar\":{\"outlinewidth\":0,\"ticks\":\"\"}},\"type\":\"scatter3d\"}],\"scattercarpet\":[{\"marker\":{\"colorbar\":{\"outlinewidth\":0,\"ticks\":\"\"}},\"type\":\"scattercarpet\"}],\"scattergeo\":[{\"marker\":{\"colorbar\":{\"outlinewidth\":0,\"ticks\":\"\"}},\"type\":\"scattergeo\"}],\"scattergl\":[{\"marker\":{\"colorbar\":{\"outlinewidth\":0,\"ticks\":\"\"}},\"type\":\"scattergl\"}],\"scattermapbox\":[{\"marker\":{\"colorbar\":{\"outlinewidth\":0,\"ticks\":\"\"}},\"type\":\"scattermapbox\"}],\"scatterpolar\":[{\"marker\":{\"colorbar\":{\"outlinewidth\":0,\"ticks\":\"\"}},\"type\":\"scatterpolar\"}],\"scatterpolargl\":[{\"marker\":{\"colorbar\":{\"outlinewidth\":0,\"ticks\":\"\"}},\"type\":\"scatterpolargl\"}],\"scatterternary\":[{\"marker\":{\"colorbar\":{\"outlinewidth\":0,\"ticks\":\"\"}},\"type\":\"scatterternary\"}],\"surface\":[{\"colorbar\":{\"outlinewidth\":0,\"ticks\":\"\"},\"colorscale\":[[0.0,\"#0d0887\"],[0.1111111111111111,\"#46039f\"],[0.2222222222222222,\"#7201a8\"],[0.3333333333333333,\"#9c179e\"],[0.4444444444444444,\"#bd3786\"],[0.5555555555555556,\"#d8576b\"],[0.6666666666666666,\"#ed7953\"],[0.7777777777777778,\"#fb9f3a\"],[0.8888888888888888,\"#fdca26\"],[1.0,\"#f0f921\"]],\"type\":\"surface\"}],\"table\":[{\"cells\":{\"fill\":{\"color\":\"#EBF0F8\"},\"line\":{\"color\":\"white\"}},\"header\":{\"fill\":{\"color\":\"#C8D4E3\"},\"line\":{\"color\":\"white\"}},\"type\":\"table\"}]},\"layout\":{\"annotationdefaults\":{\"arrowcolor\":\"#2a3f5f\",\"arrowhead\":0,\"arrowwidth\":1},\"autotypenumbers\":\"strict\",\"coloraxis\":{\"colorbar\":{\"outlinewidth\":0,\"ticks\":\"\"}},\"colorscale\":{\"diverging\":[[0,\"#8e0152\"],[0.1,\"#c51b7d\"],[0.2,\"#de77ae\"],[0.3,\"#f1b6da\"],[0.4,\"#fde0ef\"],[0.5,\"#f7f7f7\"],[0.6,\"#e6f5d0\"],[0.7,\"#b8e186\"],[0.8,\"#7fbc41\"],[0.9,\"#4d9221\"],[1,\"#276419\"]],\"sequential\":[[0.0,\"#0d0887\"],[0.1111111111111111,\"#46039f\"],[0.2222222222222222,\"#7201a8\"],[0.3333333333333333,\"#9c179e\"],[0.4444444444444444,\"#bd3786\"],[0.5555555555555556,\"#d8576b\"],[0.6666666666666666,\"#ed7953\"],[0.7777777777777778,\"#fb9f3a\"],[0.8888888888888888,\"#fdca26\"],[1.0,\"#f0f921\"]],\"sequentialminus\":[[0.0,\"#0d0887\"],[0.1111111111111111,\"#46039f\"],[0.2222222222222222,\"#7201a8\"],[0.3333333333333333,\"#9c179e\"],[0.4444444444444444,\"#bd3786\"],[0.5555555555555556,\"#d8576b\"],[0.6666666666666666,\"#ed7953\"],[0.7777777777777778,\"#fb9f3a\"],[0.8888888888888888,\"#fdca26\"],[1.0,\"#f0f921\"]]},\"colorway\":[\"#636efa\",\"#EF553B\",\"#00cc96\",\"#ab63fa\",\"#FFA15A\",\"#19d3f3\",\"#FF6692\",\"#B6E880\",\"#FF97FF\",\"#FECB52\"],\"font\":{\"color\":\"#2a3f5f\"},\"geo\":{\"bgcolor\":\"white\",\"lakecolor\":\"white\",\"landcolor\":\"#E5ECF6\",\"showlakes\":true,\"showland\":true,\"subunitcolor\":\"white\"},\"hoverlabel\":{\"align\":\"left\"},\"hovermode\":\"closest\",\"mapbox\":{\"style\":\"light\"},\"paper_bgcolor\":\"white\",\"plot_bgcolor\":\"#E5ECF6\",\"polar\":{\"angularaxis\":{\"gridcolor\":\"white\",\"linecolor\":\"white\",\"ticks\":\"\"},\"bgcolor\":\"#E5ECF6\",\"radialaxis\":{\"gridcolor\":\"white\",\"linecolor\":\"white\",\"ticks\":\"\"}},\"scene\":{\"xaxis\":{\"backgroundcolor\":\"#E5ECF6\",\"gridcolor\":\"white\",\"gridwidth\":2,\"linecolor\":\"white\",\"showbackground\":true,\"ticks\":\"\",\"zerolinecolor\":\"white\"},\"yaxis\":{\"backgroundcolor\":\"#E5ECF6\",\"gridcolor\":\"white\",\"gridwidth\":2,\"linecolor\":\"white\",\"showbackground\":true,\"ticks\":\"\",\"zerolinecolor\":\"white\"},\"zaxis\":{\"backgroundcolor\":\"#E5ECF6\",\"gridcolor\":\"white\",\"gridwidth\":2,\"linecolor\":\"white\",\"showbackground\":true,\"ticks\":\"\",\"zerolinecolor\":\"white\"}},\"shapedefaults\":{\"line\":{\"color\":\"#2a3f5f\"}},\"ternary\":{\"aaxis\":{\"gridcolor\":\"white\",\"linecolor\":\"white\",\"ticks\":\"\"},\"baxis\":{\"gridcolor\":\"white\",\"linecolor\":\"white\",\"ticks\":\"\"},\"bgcolor\":\"#E5ECF6\",\"caxis\":{\"gridcolor\":\"white\",\"linecolor\":\"white\",\"ticks\":\"\"}},\"title\":{\"x\":0.05},\"xaxis\":{\"automargin\":true,\"gridcolor\":\"white\",\"linecolor\":\"white\",\"ticks\":\"\",\"title\":{\"standoff\":15},\"zerolinecolor\":\"white\",\"zerolinewidth\":2},\"yaxis\":{\"automargin\":true,\"gridcolor\":\"white\",\"linecolor\":\"white\",\"ticks\":\"\",\"title\":{\"standoff\":15},\"zerolinecolor\":\"white\",\"zerolinewidth\":2}}},\"xaxis\":{\"anchor\":\"y\",\"domain\":[0.0,0.48],\"title\":{\"text\":\"calories\"}},\"yaxis\":{\"anchor\":\"x\",\"domain\":[0.0,0.3133333333333333],\"title\":{\"text\":\"rating\"}},\"xaxis2\":{\"anchor\":\"y2\",\"domain\":[0.5,0.98],\"matches\":\"x\",\"title\":{\"text\":\"calories\"}},\"yaxis2\":{\"anchor\":\"x2\",\"domain\":[0.0,0.3133333333333333],\"matches\":\"y\",\"showticklabels\":false},\"xaxis3\":{\"anchor\":\"y3\",\"domain\":[0.0,0.48],\"matches\":\"x\",\"showticklabels\":false},\"yaxis3\":{\"anchor\":\"x3\",\"domain\":[0.34333333333333327,0.6566666666666665],\"matches\":\"y\",\"title\":{\"text\":\"rating\"}},\"xaxis4\":{\"anchor\":\"y4\",\"domain\":[0.5,0.98],\"matches\":\"x\",\"showticklabels\":false},\"yaxis4\":{\"anchor\":\"x4\",\"domain\":[0.34333333333333327,0.6566666666666665],\"matches\":\"y\",\"showticklabels\":false},\"xaxis5\":{\"anchor\":\"y5\",\"domain\":[0.0,0.48],\"matches\":\"x\",\"showticklabels\":false},\"yaxis5\":{\"anchor\":\"x5\",\"domain\":[0.6866666666666665,0.9999999999999998],\"matches\":\"y\",\"title\":{\"text\":\"rating\"}},\"xaxis6\":{\"anchor\":\"y6\",\"domain\":[0.5,0.98],\"matches\":\"x\",\"showticklabels\":false},\"yaxis6\":{\"anchor\":\"x6\",\"domain\":[0.6866666666666665,0.9999999999999998],\"matches\":\"y\",\"showticklabels\":false},\"annotations\":[{\"font\":{},\"showarrow\":false,\"text\":\"type=Cold\",\"x\":0.24,\"xanchor\":\"center\",\"xref\":\"paper\",\"y\":0.9999999999999998,\"yanchor\":\"bottom\",\"yref\":\"paper\"},{\"font\":{},\"showarrow\":false,\"text\":\"type=Hot\",\"x\":0.74,\"xanchor\":\"center\",\"xref\":\"paper\",\"y\":0.9999999999999998,\"yanchor\":\"bottom\",\"yref\":\"paper\"},{\"font\":{},\"showarrow\":false,\"text\":\"shelf=Bottom\",\"textangle\":90,\"x\":0.98,\"xanchor\":\"left\",\"xref\":\"paper\",\"y\":0.15666666666666665,\"yanchor\":\"middle\",\"yref\":\"paper\"},{\"font\":{},\"showarrow\":false,\"text\":\"shelf=Middle\",\"textangle\":90,\"x\":0.98,\"xanchor\":\"left\",\"xref\":\"paper\",\"y\":0.4999999999999999,\"yanchor\":\"middle\",\"yref\":\"paper\"},{\"font\":{},\"showarrow\":false,\"text\":\"shelf=Top\",\"textangle\":90,\"x\":0.98,\"xanchor\":\"left\",\"xref\":\"paper\",\"y\":0.8433333333333332,\"yanchor\":\"middle\",\"yref\":\"paper\"}],\"legend\":{\"title\":{\"text\":\"mfr\"},\"tracegroupgap\":0},\"margin\":{\"t\":60},\"boxmode\":\"group\"},                        {\"responsive\": true}                    ).then(function(){\n",
              "                            \n",
              "var gd = document.getElementById('d38eb929-aa64-4d6a-9f79-00333334f1fb');\n",
              "var x = new MutationObserver(function (mutations, observer) {{\n",
              "        var display = window.getComputedStyle(gd).display;\n",
              "        if (!display || display === 'none') {{\n",
              "            console.log([gd, 'removed!']);\n",
              "            Plotly.purge(gd);\n",
              "            observer.disconnect();\n",
              "        }}\n",
              "}});\n",
              "\n",
              "// Listen for the removal of the full notebook cells\n",
              "var notebookContainer = gd.closest('#notebook-container');\n",
              "if (notebookContainer) {{\n",
              "    x.observe(notebookContainer, {childList: true});\n",
              "}}\n",
              "\n",
              "// Listen for the clearing of the current output cell\n",
              "var outputEl = gd.closest('.output');\n",
              "if (outputEl) {{\n",
              "    x.observe(outputEl, {childList: true});\n",
              "}}\n",
              "\n",
              "                        })                };                            </script>        </div>\n",
              "</body>\n",
              "</html>"
            ]
          },
          "metadata": {}
        }
      ]
    },
    {
      "cell_type": "code",
      "source": [
        "fig = px.scatter(df,\n",
        "                x='sugars',\n",
        "                y='rating',\n",
        "                color = 'mfr', \n",
        "                size = 'calories',\n",
        "                facet_col='mfr',\n",
        "                hover_name='name')\n",
        "fig.show()"
      ],
      "metadata": {
        "colab": {
          "base_uri": "https://localhost:8080/",
          "height": 542
        },
        "id": "G10MwrsPoXHO",
        "outputId": "18326432-0c35-4b78-a20a-817a72c1d8a2"
      },
      "execution_count": null,
      "outputs": [
        {
          "output_type": "display_data",
          "data": {
            "text/html": [
              "<html>\n",
              "<head><meta charset=\"utf-8\" /></head>\n",
              "<body>\n",
              "    <div>            <script src=\"https://cdnjs.cloudflare.com/ajax/libs/mathjax/2.7.5/MathJax.js?config=TeX-AMS-MML_SVG\"></script><script type=\"text/javascript\">if (window.MathJax) {MathJax.Hub.Config({SVG: {font: \"STIX-Web\"}});}</script>                <script type=\"text/javascript\">window.PlotlyConfig = {MathJaxConfig: 'local'};</script>\n",
              "        <script src=\"https://cdn.plot.ly/plotly-2.8.3.min.js\"></script>                <div id=\"78510f55-6c83-45d3-aa41-afaffc59b04c\" class=\"plotly-graph-div\" style=\"height:525px; width:100%;\"></div>            <script type=\"text/javascript\">                                    window.PLOTLYENV=window.PLOTLYENV || {};                                    if (document.getElementById(\"78510f55-6c83-45d3-aa41-afaffc59b04c\")) {                    Plotly.newPlot(                        \"78510f55-6c83-45d3-aa41-afaffc59b04c\",                        [{\"hovertemplate\":\"<b>%{hovertext}</b><br><br>mfr=Nabisco<br>sugars=%{x}<br>rating=%{y}<br>calories=%{marker.size}<extra></extra>\",\"hovertext\":[\"100% Bran\",\"Cream of Wheat (Quick)\",\"Shredded Wheat\",\"Shredded Wheat 'n'Bran\",\"Shredded Wheat spoon size\",\"Strawberry Fruit Wheats\"],\"legendgroup\":\"Nabisco\",\"marker\":{\"color\":\"#636efa\",\"size\":[70,100,80,90,90,90],\"sizemode\":\"area\",\"sizeref\":0.4,\"symbol\":\"circle\"},\"mode\":\"markers\",\"name\":\"Nabisco\",\"orientation\":\"v\",\"showlegend\":true,\"x\":[6,0,0,0,0,5],\"xaxis\":\"x\",\"y\":[68.4,64.53,68.24,74.47,72.8,59.36],\"yaxis\":\"y\",\"type\":\"scatter\"},{\"hovertemplate\":\"<b>%{hovertext}</b><br><br>mfr=Quaker Oats<br>sugars=%{x}<br>rating=%{y}<br>calories=%{marker.size}<extra></extra>\",\"hovertext\":[\"100% Natural Bran\",\"Cap'n'Crunch\",\"Honey Graham Ohs\",\"Life\",\"Puffed Rice\",\"Puffed Wheat\",\"Quaker Oat Squares\",\"Quaker Oatmeal\"],\"legendgroup\":\"Quaker Oats\",\"marker\":{\"color\":\"#EF553B\",\"size\":[120,120,120,100,50,50,100,100],\"sizemode\":\"area\",\"sizeref\":0.4,\"symbol\":\"circle\"},\"mode\":\"markers\",\"name\":\"Quaker Oats\",\"orientation\":\"v\",\"showlegend\":true,\"x\":[8,12,11,6,0,0,6,-1],\"xaxis\":\"x2\",\"y\":[33.98,18.04,21.87,45.33,60.76,63.01,49.51,50.83],\"yaxis\":\"y2\",\"type\":\"scatter\"},{\"hovertemplate\":\"<b>%{hovertext}</b><br><br>mfr=Kellogs<br>sugars=%{x}<br>rating=%{y}<br>calories=%{marker.size}<extra></extra>\",\"hovertext\":[\"All-Bran\",\"All-Bran with Extra Fiber\",\"Apple Jacks\",\"Corn Flakes\",\"Corn Pops\",\"Cracklin' Oat Bran\",\"Crispix\",\"Froot Loops\",\"Frosted Flakes\",\"Frosted Mini-Wheats\",\"Fruitful Bran\",\"Just Right Crunchy  Nuggets\",\"Just Right Fruit & Nut\",\"Mueslix Crispy Blend\",\"Nut&Honey Crunch\",\"Nutri-Grain Almond-Raisin\",\"Nutri-grain Wheat\",\"Product 19\",\"Raisin Bran\",\"Raisin Squares\",\"Rice Krispies\",\"Smacks\",\"Special K\"],\"legendgroup\":\"Kellogs\",\"marker\":{\"color\":\"#00cc96\",\"size\":[70,50,110,100,110,110,110,110,110,100,120,110,140,160,120,140,90,100,120,90,110,110,110],\"sizemode\":\"area\",\"sizeref\":0.4,\"symbol\":\"circle\"},\"mode\":\"markers\",\"name\":\"Kellogs\",\"orientation\":\"v\",\"showlegend\":true,\"x\":[5,0,14,2,12,7,3,13,11,7,12,6,9,13,9,7,2,3,12,6,3,15,3],\"xaxis\":\"x3\",\"y\":[59.43,93.7,33.17,45.86,35.78,40.45,46.9,32.21,31.44,58.35,41.02,36.52,36.47,30.31,29.92,40.69,59.64,41.5,39.26,55.33,40.56,31.23,53.13],\"yaxis\":\"y3\",\"type\":\"scatter\"},{\"hovertemplate\":\"<b>%{hovertext}</b><br><br>mfr=Ralston Purina<br>sugars=%{x}<br>rating=%{y}<br>calories=%{marker.size}<extra></extra>\",\"hovertext\":[\"Almond Delight\",\"Bran Chex\",\"Corn Chex\",\"Double Chex\",\"Muesli Raisins, Dates, & Almonds\",\"Muesli Raisins, Peaches, & Pecans\",\"Rice Chex\",\"Wheat Chex\"],\"legendgroup\":\"Ralston Purina\",\"marker\":{\"color\":\"#ab63fa\",\"size\":[110,90,110,100,150,150,110,100],\"sizemode\":\"area\",\"sizeref\":0.4,\"symbol\":\"circle\"},\"mode\":\"markers\",\"name\":\"Ralston Purina\",\"orientation\":\"v\",\"showlegend\":true,\"x\":[8,6,3,5,11,11,2,3],\"xaxis\":\"x4\",\"y\":[34.38,49.12,41.45,44.33,37.14,34.14,42.0,49.79],\"yaxis\":\"y4\",\"type\":\"scatter\"},{\"hovertemplate\":\"<b>%{hovertext}</b><br><br>mfr=General Mills<br>sugars=%{x}<br>rating=%{y}<br>calories=%{marker.size}<extra></extra>\",\"hovertext\":[\"Apple Cinnamon Cheerios\",\"Basic 4\",\"Cheerios\",\"Cinnamon Toast Crunch\",\"Clusters\",\"Cocoa Puffs\",\"Count Chocula\",\"Crispy Wheat & Raisins\",\"Golden Grahams\",\"Honey Nut Cheerios\",\"Kix\",\"Lucky Charms\",\"Multi-Grain Cheerios\",\"Oatmeal Raisin Crisp\",\"Raisin Nut Bran\",\"Total Corn Flakes\",\"Total Raisin Bran\",\"Total Whole Grain\",\"Triples\",\"Trix\",\"Wheaties\",\"Wheaties Honey Gold\"],\"legendgroup\":\"General Mills\",\"marker\":{\"color\":\"#FFA15A\",\"size\":[110,130,110,120,110,110,110,100,110,110,110,110,100,130,100,110,140,100,110,110,100,110],\"sizemode\":\"area\",\"sizeref\":0.4,\"symbol\":\"circle\"},\"mode\":\"markers\",\"name\":\"General Mills\",\"orientation\":\"v\",\"showlegend\":true,\"x\":[10,8,1,9,7,13,13,10,9,10,3,12,6,10,8,3,14,3,3,12,3,8],\"xaxis\":\"x5\",\"y\":[29.51,37.04,50.76,19.82,40.4,22.74,22.4,36.18,23.8,31.07,39.24,26.73,40.11,30.45,39.7,38.84,28.59,46.66,39.11,27.75,51.59,36.19],\"yaxis\":\"y5\",\"type\":\"scatter\"},{\"hovertemplate\":\"<b>%{hovertext}</b><br><br>mfr=Post<br>sugars=%{x}<br>rating=%{y}<br>calories=%{marker.size}<extra></extra>\",\"hovertext\":[\"Bran Flakes\",\"Fruit & Fibre Dates, Walnuts, and Oats\",\"Fruity Pebbles\",\"Golden Crisp\",\"Grape Nuts Flakes\",\"Grape-Nuts\",\"Great Grains Pecan\",\"Honey-comb\",\"Post Nat. Raisin Bran\"],\"legendgroup\":\"Post\",\"marker\":{\"color\":\"#19d3f3\",\"size\":[90,120,110,100,100,110,120,110,120],\"sizemode\":\"area\",\"sizeref\":0.4,\"symbol\":\"circle\"},\"mode\":\"markers\",\"name\":\"Post\",\"orientation\":\"v\",\"showlegend\":true,\"x\":[5,10,12,15,5,3,4,11,14],\"xaxis\":\"x6\",\"y\":[53.31,40.92,28.03,35.25,52.08,53.37,45.81,28.74,37.84],\"yaxis\":\"y6\",\"type\":\"scatter\"},{\"hovertemplate\":\"<b>%{hovertext}</b><br><br>mfr=AM Home Food<br>sugars=%{x}<br>rating=%{y}<br>calories=%{marker.size}<extra></extra>\",\"hovertext\":[\"Maypo\"],\"legendgroup\":\"AM Home Food\",\"marker\":{\"color\":\"#FF6692\",\"size\":[100],\"sizemode\":\"area\",\"sizeref\":0.4,\"symbol\":\"circle\"},\"mode\":\"markers\",\"name\":\"AM Home Food\",\"orientation\":\"v\",\"showlegend\":true,\"x\":[3],\"xaxis\":\"x7\",\"y\":[54.85],\"yaxis\":\"y7\",\"type\":\"scatter\"}],                        {\"template\":{\"data\":{\"bar\":[{\"error_x\":{\"color\":\"#2a3f5f\"},\"error_y\":{\"color\":\"#2a3f5f\"},\"marker\":{\"line\":{\"color\":\"#E5ECF6\",\"width\":0.5},\"pattern\":{\"fillmode\":\"overlay\",\"size\":10,\"solidity\":0.2}},\"type\":\"bar\"}],\"barpolar\":[{\"marker\":{\"line\":{\"color\":\"#E5ECF6\",\"width\":0.5},\"pattern\":{\"fillmode\":\"overlay\",\"size\":10,\"solidity\":0.2}},\"type\":\"barpolar\"}],\"carpet\":[{\"aaxis\":{\"endlinecolor\":\"#2a3f5f\",\"gridcolor\":\"white\",\"linecolor\":\"white\",\"minorgridcolor\":\"white\",\"startlinecolor\":\"#2a3f5f\"},\"baxis\":{\"endlinecolor\":\"#2a3f5f\",\"gridcolor\":\"white\",\"linecolor\":\"white\",\"minorgridcolor\":\"white\",\"startlinecolor\":\"#2a3f5f\"},\"type\":\"carpet\"}],\"choropleth\":[{\"colorbar\":{\"outlinewidth\":0,\"ticks\":\"\"},\"type\":\"choropleth\"}],\"contour\":[{\"colorbar\":{\"outlinewidth\":0,\"ticks\":\"\"},\"colorscale\":[[0.0,\"#0d0887\"],[0.1111111111111111,\"#46039f\"],[0.2222222222222222,\"#7201a8\"],[0.3333333333333333,\"#9c179e\"],[0.4444444444444444,\"#bd3786\"],[0.5555555555555556,\"#d8576b\"],[0.6666666666666666,\"#ed7953\"],[0.7777777777777778,\"#fb9f3a\"],[0.8888888888888888,\"#fdca26\"],[1.0,\"#f0f921\"]],\"type\":\"contour\"}],\"contourcarpet\":[{\"colorbar\":{\"outlinewidth\":0,\"ticks\":\"\"},\"type\":\"contourcarpet\"}],\"heatmap\":[{\"colorbar\":{\"outlinewidth\":0,\"ticks\":\"\"},\"colorscale\":[[0.0,\"#0d0887\"],[0.1111111111111111,\"#46039f\"],[0.2222222222222222,\"#7201a8\"],[0.3333333333333333,\"#9c179e\"],[0.4444444444444444,\"#bd3786\"],[0.5555555555555556,\"#d8576b\"],[0.6666666666666666,\"#ed7953\"],[0.7777777777777778,\"#fb9f3a\"],[0.8888888888888888,\"#fdca26\"],[1.0,\"#f0f921\"]],\"type\":\"heatmap\"}],\"heatmapgl\":[{\"colorbar\":{\"outlinewidth\":0,\"ticks\":\"\"},\"colorscale\":[[0.0,\"#0d0887\"],[0.1111111111111111,\"#46039f\"],[0.2222222222222222,\"#7201a8\"],[0.3333333333333333,\"#9c179e\"],[0.4444444444444444,\"#bd3786\"],[0.5555555555555556,\"#d8576b\"],[0.6666666666666666,\"#ed7953\"],[0.7777777777777778,\"#fb9f3a\"],[0.8888888888888888,\"#fdca26\"],[1.0,\"#f0f921\"]],\"type\":\"heatmapgl\"}],\"histogram\":[{\"marker\":{\"pattern\":{\"fillmode\":\"overlay\",\"size\":10,\"solidity\":0.2}},\"type\":\"histogram\"}],\"histogram2d\":[{\"colorbar\":{\"outlinewidth\":0,\"ticks\":\"\"},\"colorscale\":[[0.0,\"#0d0887\"],[0.1111111111111111,\"#46039f\"],[0.2222222222222222,\"#7201a8\"],[0.3333333333333333,\"#9c179e\"],[0.4444444444444444,\"#bd3786\"],[0.5555555555555556,\"#d8576b\"],[0.6666666666666666,\"#ed7953\"],[0.7777777777777778,\"#fb9f3a\"],[0.8888888888888888,\"#fdca26\"],[1.0,\"#f0f921\"]],\"type\":\"histogram2d\"}],\"histogram2dcontour\":[{\"colorbar\":{\"outlinewidth\":0,\"ticks\":\"\"},\"colorscale\":[[0.0,\"#0d0887\"],[0.1111111111111111,\"#46039f\"],[0.2222222222222222,\"#7201a8\"],[0.3333333333333333,\"#9c179e\"],[0.4444444444444444,\"#bd3786\"],[0.5555555555555556,\"#d8576b\"],[0.6666666666666666,\"#ed7953\"],[0.7777777777777778,\"#fb9f3a\"],[0.8888888888888888,\"#fdca26\"],[1.0,\"#f0f921\"]],\"type\":\"histogram2dcontour\"}],\"mesh3d\":[{\"colorbar\":{\"outlinewidth\":0,\"ticks\":\"\"},\"type\":\"mesh3d\"}],\"parcoords\":[{\"line\":{\"colorbar\":{\"outlinewidth\":0,\"ticks\":\"\"}},\"type\":\"parcoords\"}],\"pie\":[{\"automargin\":true,\"type\":\"pie\"}],\"scatter\":[{\"marker\":{\"colorbar\":{\"outlinewidth\":0,\"ticks\":\"\"}},\"type\":\"scatter\"}],\"scatter3d\":[{\"line\":{\"colorbar\":{\"outlinewidth\":0,\"ticks\":\"\"}},\"marker\":{\"colorbar\":{\"outlinewidth\":0,\"ticks\":\"\"}},\"type\":\"scatter3d\"}],\"scattercarpet\":[{\"marker\":{\"colorbar\":{\"outlinewidth\":0,\"ticks\":\"\"}},\"type\":\"scattercarpet\"}],\"scattergeo\":[{\"marker\":{\"colorbar\":{\"outlinewidth\":0,\"ticks\":\"\"}},\"type\":\"scattergeo\"}],\"scattergl\":[{\"marker\":{\"colorbar\":{\"outlinewidth\":0,\"ticks\":\"\"}},\"type\":\"scattergl\"}],\"scattermapbox\":[{\"marker\":{\"colorbar\":{\"outlinewidth\":0,\"ticks\":\"\"}},\"type\":\"scattermapbox\"}],\"scatterpolar\":[{\"marker\":{\"colorbar\":{\"outlinewidth\":0,\"ticks\":\"\"}},\"type\":\"scatterpolar\"}],\"scatterpolargl\":[{\"marker\":{\"colorbar\":{\"outlinewidth\":0,\"ticks\":\"\"}},\"type\":\"scatterpolargl\"}],\"scatterternary\":[{\"marker\":{\"colorbar\":{\"outlinewidth\":0,\"ticks\":\"\"}},\"type\":\"scatterternary\"}],\"surface\":[{\"colorbar\":{\"outlinewidth\":0,\"ticks\":\"\"},\"colorscale\":[[0.0,\"#0d0887\"],[0.1111111111111111,\"#46039f\"],[0.2222222222222222,\"#7201a8\"],[0.3333333333333333,\"#9c179e\"],[0.4444444444444444,\"#bd3786\"],[0.5555555555555556,\"#d8576b\"],[0.6666666666666666,\"#ed7953\"],[0.7777777777777778,\"#fb9f3a\"],[0.8888888888888888,\"#fdca26\"],[1.0,\"#f0f921\"]],\"type\":\"surface\"}],\"table\":[{\"cells\":{\"fill\":{\"color\":\"#EBF0F8\"},\"line\":{\"color\":\"white\"}},\"header\":{\"fill\":{\"color\":\"#C8D4E3\"},\"line\":{\"color\":\"white\"}},\"type\":\"table\"}]},\"layout\":{\"annotationdefaults\":{\"arrowcolor\":\"#2a3f5f\",\"arrowhead\":0,\"arrowwidth\":1},\"autotypenumbers\":\"strict\",\"coloraxis\":{\"colorbar\":{\"outlinewidth\":0,\"ticks\":\"\"}},\"colorscale\":{\"diverging\":[[0,\"#8e0152\"],[0.1,\"#c51b7d\"],[0.2,\"#de77ae\"],[0.3,\"#f1b6da\"],[0.4,\"#fde0ef\"],[0.5,\"#f7f7f7\"],[0.6,\"#e6f5d0\"],[0.7,\"#b8e186\"],[0.8,\"#7fbc41\"],[0.9,\"#4d9221\"],[1,\"#276419\"]],\"sequential\":[[0.0,\"#0d0887\"],[0.1111111111111111,\"#46039f\"],[0.2222222222222222,\"#7201a8\"],[0.3333333333333333,\"#9c179e\"],[0.4444444444444444,\"#bd3786\"],[0.5555555555555556,\"#d8576b\"],[0.6666666666666666,\"#ed7953\"],[0.7777777777777778,\"#fb9f3a\"],[0.8888888888888888,\"#fdca26\"],[1.0,\"#f0f921\"]],\"sequentialminus\":[[0.0,\"#0d0887\"],[0.1111111111111111,\"#46039f\"],[0.2222222222222222,\"#7201a8\"],[0.3333333333333333,\"#9c179e\"],[0.4444444444444444,\"#bd3786\"],[0.5555555555555556,\"#d8576b\"],[0.6666666666666666,\"#ed7953\"],[0.7777777777777778,\"#fb9f3a\"],[0.8888888888888888,\"#fdca26\"],[1.0,\"#f0f921\"]]},\"colorway\":[\"#636efa\",\"#EF553B\",\"#00cc96\",\"#ab63fa\",\"#FFA15A\",\"#19d3f3\",\"#FF6692\",\"#B6E880\",\"#FF97FF\",\"#FECB52\"],\"font\":{\"color\":\"#2a3f5f\"},\"geo\":{\"bgcolor\":\"white\",\"lakecolor\":\"white\",\"landcolor\":\"#E5ECF6\",\"showlakes\":true,\"showland\":true,\"subunitcolor\":\"white\"},\"hoverlabel\":{\"align\":\"left\"},\"hovermode\":\"closest\",\"mapbox\":{\"style\":\"light\"},\"paper_bgcolor\":\"white\",\"plot_bgcolor\":\"#E5ECF6\",\"polar\":{\"angularaxis\":{\"gridcolor\":\"white\",\"linecolor\":\"white\",\"ticks\":\"\"},\"bgcolor\":\"#E5ECF6\",\"radialaxis\":{\"gridcolor\":\"white\",\"linecolor\":\"white\",\"ticks\":\"\"}},\"scene\":{\"xaxis\":{\"backgroundcolor\":\"#E5ECF6\",\"gridcolor\":\"white\",\"gridwidth\":2,\"linecolor\":\"white\",\"showbackground\":true,\"ticks\":\"\",\"zerolinecolor\":\"white\"},\"yaxis\":{\"backgroundcolor\":\"#E5ECF6\",\"gridcolor\":\"white\",\"gridwidth\":2,\"linecolor\":\"white\",\"showbackground\":true,\"ticks\":\"\",\"zerolinecolor\":\"white\"},\"zaxis\":{\"backgroundcolor\":\"#E5ECF6\",\"gridcolor\":\"white\",\"gridwidth\":2,\"linecolor\":\"white\",\"showbackground\":true,\"ticks\":\"\",\"zerolinecolor\":\"white\"}},\"shapedefaults\":{\"line\":{\"color\":\"#2a3f5f\"}},\"ternary\":{\"aaxis\":{\"gridcolor\":\"white\",\"linecolor\":\"white\",\"ticks\":\"\"},\"baxis\":{\"gridcolor\":\"white\",\"linecolor\":\"white\",\"ticks\":\"\"},\"bgcolor\":\"#E5ECF6\",\"caxis\":{\"gridcolor\":\"white\",\"linecolor\":\"white\",\"ticks\":\"\"}},\"title\":{\"x\":0.05},\"xaxis\":{\"automargin\":true,\"gridcolor\":\"white\",\"linecolor\":\"white\",\"ticks\":\"\",\"title\":{\"standoff\":15},\"zerolinecolor\":\"white\",\"zerolinewidth\":2},\"yaxis\":{\"automargin\":true,\"gridcolor\":\"white\",\"linecolor\":\"white\",\"ticks\":\"\",\"title\":{\"standoff\":15},\"zerolinecolor\":\"white\",\"zerolinewidth\":2}}},\"xaxis\":{\"anchor\":\"y\",\"domain\":[0.0,0.1257142857142857],\"title\":{\"text\":\"sugars\"}},\"yaxis\":{\"anchor\":\"x\",\"domain\":[0.0,1.0],\"title\":{\"text\":\"rating\"}},\"xaxis2\":{\"anchor\":\"y2\",\"domain\":[0.14571428571428569,0.27142857142857135],\"matches\":\"x\",\"title\":{\"text\":\"sugars\"}},\"yaxis2\":{\"anchor\":\"x2\",\"domain\":[0.0,1.0],\"matches\":\"y\",\"showticklabels\":false},\"xaxis3\":{\"anchor\":\"y3\",\"domain\":[0.29142857142857137,0.41714285714285704],\"matches\":\"x\",\"title\":{\"text\":\"sugars\"}},\"yaxis3\":{\"anchor\":\"x3\",\"domain\":[0.0,1.0],\"matches\":\"y\",\"showticklabels\":false},\"xaxis4\":{\"anchor\":\"y4\",\"domain\":[0.4371428571428571,0.5628571428571428],\"matches\":\"x\",\"title\":{\"text\":\"sugars\"}},\"yaxis4\":{\"anchor\":\"x4\",\"domain\":[0.0,1.0],\"matches\":\"y\",\"showticklabels\":false},\"xaxis5\":{\"anchor\":\"y5\",\"domain\":[0.5828571428571427,0.7085714285714284],\"matches\":\"x\",\"title\":{\"text\":\"sugars\"}},\"yaxis5\":{\"anchor\":\"x5\",\"domain\":[0.0,1.0],\"matches\":\"y\",\"showticklabels\":false},\"xaxis6\":{\"anchor\":\"y6\",\"domain\":[0.7285714285714284,0.8542857142857141],\"matches\":\"x\",\"title\":{\"text\":\"sugars\"}},\"yaxis6\":{\"anchor\":\"x6\",\"domain\":[0.0,1.0],\"matches\":\"y\",\"showticklabels\":false},\"xaxis7\":{\"anchor\":\"y7\",\"domain\":[0.8742857142857141,0.9999999999999998],\"matches\":\"x\",\"title\":{\"text\":\"sugars\"}},\"yaxis7\":{\"anchor\":\"x7\",\"domain\":[0.0,1.0],\"matches\":\"y\",\"showticklabels\":false},\"annotations\":[{\"font\":{},\"showarrow\":false,\"text\":\"mfr=Nabisco\",\"x\":0.06285714285714285,\"xanchor\":\"center\",\"xref\":\"paper\",\"y\":1.0,\"yanchor\":\"bottom\",\"yref\":\"paper\"},{\"font\":{},\"showarrow\":false,\"text\":\"mfr=Quaker Oats\",\"x\":0.20857142857142852,\"xanchor\":\"center\",\"xref\":\"paper\",\"y\":1.0,\"yanchor\":\"bottom\",\"yref\":\"paper\"},{\"font\":{},\"showarrow\":false,\"text\":\"mfr=Kellogs\",\"x\":0.3542857142857142,\"xanchor\":\"center\",\"xref\":\"paper\",\"y\":1.0,\"yanchor\":\"bottom\",\"yref\":\"paper\"},{\"font\":{},\"showarrow\":false,\"text\":\"mfr=Ralston Purina\",\"x\":0.5,\"xanchor\":\"center\",\"xref\":\"paper\",\"y\":1.0,\"yanchor\":\"bottom\",\"yref\":\"paper\"},{\"font\":{},\"showarrow\":false,\"text\":\"mfr=General Mills\",\"x\":0.6457142857142856,\"xanchor\":\"center\",\"xref\":\"paper\",\"y\":1.0,\"yanchor\":\"bottom\",\"yref\":\"paper\"},{\"font\":{},\"showarrow\":false,\"text\":\"mfr=Post\",\"x\":0.7914285714285713,\"xanchor\":\"center\",\"xref\":\"paper\",\"y\":1.0,\"yanchor\":\"bottom\",\"yref\":\"paper\"},{\"font\":{},\"showarrow\":false,\"text\":\"mfr=AM Home Food\",\"x\":0.9371428571428569,\"xanchor\":\"center\",\"xref\":\"paper\",\"y\":1.0,\"yanchor\":\"bottom\",\"yref\":\"paper\"}],\"legend\":{\"title\":{\"text\":\"mfr\"},\"tracegroupgap\":0,\"itemsizing\":\"constant\"},\"margin\":{\"t\":60}},                        {\"responsive\": true}                    ).then(function(){\n",
              "                            \n",
              "var gd = document.getElementById('78510f55-6c83-45d3-aa41-afaffc59b04c');\n",
              "var x = new MutationObserver(function (mutations, observer) {{\n",
              "        var display = window.getComputedStyle(gd).display;\n",
              "        if (!display || display === 'none') {{\n",
              "            console.log([gd, 'removed!']);\n",
              "            Plotly.purge(gd);\n",
              "            observer.disconnect();\n",
              "        }}\n",
              "}});\n",
              "\n",
              "// Listen for the removal of the full notebook cells\n",
              "var notebookContainer = gd.closest('#notebook-container');\n",
              "if (notebookContainer) {{\n",
              "    x.observe(notebookContainer, {childList: true});\n",
              "}}\n",
              "\n",
              "// Listen for the clearing of the current output cell\n",
              "var outputEl = gd.closest('.output');\n",
              "if (outputEl) {{\n",
              "    x.observe(outputEl, {childList: true});\n",
              "}}\n",
              "\n",
              "                        })                };                            </script>        </div>\n",
              "</body>\n",
              "</html>"
            ]
          },
          "metadata": {}
        }
      ]
    },
    {
      "cell_type": "code",
      "source": [
        ""
      ],
      "metadata": {
        "id": "X9ckR7qbrope"
      },
      "execution_count": null,
      "outputs": []
    },
    {
      "cell_type": "markdown",
      "source": [
        "# Starbuck Exercise"
      ],
      "metadata": {
        "id": "Cq8e_YaX5Z9X"
      }
    },
    {
      "cell_type": "code",
      "source": [
        "from google.colab import drive\n",
        "drive.mount('/content/drive')"
      ],
      "metadata": {
        "colab": {
          "base_uri": "https://localhost:8080/"
        },
        "id": "LGqfkIx35gfo",
        "outputId": "590f3602-0718-416d-fa17-910c319348ea"
      },
      "execution_count": null,
      "outputs": [
        {
          "output_type": "stream",
          "name": "stdout",
          "text": [
            "Drive already mounted at /content/drive; to attempt to forcibly remount, call drive.mount(\"/content/drive\", force_remount=True).\n"
          ]
        }
      ]
    },
    {
      "cell_type": "code",
      "source": [
        "import pandas as pd"
      ],
      "metadata": {
        "id": "lat_5_k155T_"
      },
      "execution_count": null,
      "outputs": []
    },
    {
      "cell_type": "code",
      "source": [
        "df = pd.read_csv('/content/drive/MyDrive/DADS/DADS5001/starbuck_data.csv')"
      ],
      "metadata": {
        "id": "MPn78jSl5h2O"
      },
      "execution_count": null,
      "outputs": []
    },
    {
      "cell_type": "code",
      "source": [
        "df_th = df[df['Country'] == 'TH']"
      ],
      "metadata": {
        "id": "IwlLx7wQ6L8n"
      },
      "execution_count": null,
      "outputs": []
    },
    {
      "cell_type": "code",
      "source": [
        "df_th"
      ],
      "metadata": {
        "id": "8QKQ8Uxr6l-2",
        "outputId": "67360537-ee7c-4b7a-8744-514bd4f2eb45",
        "colab": {
          "base_uri": "https://localhost:8080/",
          "height": 659
        }
      },
      "execution_count": null,
      "outputs": [
        {
          "output_type": "execute_result",
          "data": {
            "text/plain": [
              "           Brand  Store Number                Store Name Ownership Type  \\\n",
              "10952  Starbucks  32359-136499          The Mall Bangkae  Company Owned   \n",
              "10953  Starbucks   2046-141768                       CDC  Company Owned   \n",
              "10954  Starbucks   1478-142236         Vejthani Hospital  Company Owned   \n",
              "10955  Starbucks  17707-182486    The Scene Town in Town  Company Owned   \n",
              "10956  Starbucks  33741-253264     The Mall Bangkapi G/F  Company Owned   \n",
              "...          ...           ...                       ...            ...   \n",
              "11236  Starbucks  20838-188467  Central Festival Hat Yai  Company Owned   \n",
              "11237  Starbucks   33754-97972           Tuk Com Pattaya  Company Owned   \n",
              "11238  Starbucks  33761-143431      Royal Garden Pattaya  Company Owned   \n",
              "11239  Starbucks   33718-28447                   Pattaya  Company Owned   \n",
              "11240  Starbucks   1967-136510  Central Festival Pattaya  Company Owned   \n",
              "\n",
              "                                          Street Address        City  \\\n",
              "10952  275, G Zone Fashion Hall 1, Moo 1, Petchakasem...     Bangkae   \n",
              "10953  Crytal Design Center, Room No.Z2.143, Soi Lard...    Bangkapi   \n",
              "10954  Vejthani Hospital, No.1, Soi Lardprao 111, Lar...    Bangkapi   \n",
              "10955  Sriwara Road, Wana Thong Lang, Sriwara Road,, ...    Bangkapi   \n",
              "10956  3522, Food Center G Floor, The Mall Bangkapi, ...    Bangkapi   \n",
              "...                                                  ...         ...   \n",
              "11236       Central Had Yai, Karnjanavanit Road, Hat Yai    Songkhla   \n",
              "11237                       8, Moo 10 South Pattaya Road  Banglamung   \n",
              "11238                             218, Moo 10 Beach Road  Banglamung   \n",
              "11239               219/3, Yamamoto 13/1 Soi  Beach Road  Banglamung   \n",
              "11240  Unit 156, Central Festival Pattaya Beach, 333/...  Banglamung   \n",
              "\n",
              "      State/Province Country Postcode Phone Number                Timezone  \\\n",
              "10952             10      TH    10160    844387432  GMT+07:00 Asia/Bangkok   \n",
              "10953             10      TH    10240    819393806  GMT+07:00 Asia/Bangkok   \n",
              "10954             10      TH    10240    844387449  GMT+07:00 Asia/Bangkok   \n",
              "10955             10      TH    10310    847517727  GMT+07:00 Asia/Bangkok   \n",
              "10956             10      TH    10240    844387362  GMT+07:00 Asia/Bangkok   \n",
              "...              ...     ...      ...          ...                     ...   \n",
              "11236             90      TH    90110    922798164  GMT+07:00 Asia/Bangkok   \n",
              "11237              S      TH    20150    844387374  GMT+07:00 Asia/Bangkok   \n",
              "11238              S      TH    20260    844387377  GMT+07:00 Asia/Bangkok   \n",
              "11239              S      TH    20150    844387331  GMT+07:00 Asia/Bangkok   \n",
              "11240              S      TH    20150    844387451  GMT+07:00 Asia/Bangkok   \n",
              "\n",
              "       Longitude  Latitude  \n",
              "10952     100.41     13.71  \n",
              "10953     100.62     13.80  \n",
              "10954     100.64     13.77  \n",
              "10955     100.61     13.77  \n",
              "10956     100.64     13.77  \n",
              "...          ...       ...  \n",
              "11236     100.48      6.99  \n",
              "11237     100.88     12.92  \n",
              "11238     100.88     12.93  \n",
              "11239     100.88     12.93  \n",
              "11240     100.88     12.93  \n",
              "\n",
              "[289 rows x 13 columns]"
            ],
            "text/html": [
              "\n",
              "  <div id=\"df-13310c8c-2b20-46af-b6e5-5032def4825d\">\n",
              "    <div class=\"colab-df-container\">\n",
              "      <div>\n",
              "<style scoped>\n",
              "    .dataframe tbody tr th:only-of-type {\n",
              "        vertical-align: middle;\n",
              "    }\n",
              "\n",
              "    .dataframe tbody tr th {\n",
              "        vertical-align: top;\n",
              "    }\n",
              "\n",
              "    .dataframe thead th {\n",
              "        text-align: right;\n",
              "    }\n",
              "</style>\n",
              "<table border=\"1\" class=\"dataframe\">\n",
              "  <thead>\n",
              "    <tr style=\"text-align: right;\">\n",
              "      <th></th>\n",
              "      <th>Brand</th>\n",
              "      <th>Store Number</th>\n",
              "      <th>Store Name</th>\n",
              "      <th>Ownership Type</th>\n",
              "      <th>Street Address</th>\n",
              "      <th>City</th>\n",
              "      <th>State/Province</th>\n",
              "      <th>Country</th>\n",
              "      <th>Postcode</th>\n",
              "      <th>Phone Number</th>\n",
              "      <th>Timezone</th>\n",
              "      <th>Longitude</th>\n",
              "      <th>Latitude</th>\n",
              "    </tr>\n",
              "  </thead>\n",
              "  <tbody>\n",
              "    <tr>\n",
              "      <th>10952</th>\n",
              "      <td>Starbucks</td>\n",
              "      <td>32359-136499</td>\n",
              "      <td>The Mall Bangkae</td>\n",
              "      <td>Company Owned</td>\n",
              "      <td>275, G Zone Fashion Hall 1, Moo 1, Petchakasem...</td>\n",
              "      <td>Bangkae</td>\n",
              "      <td>10</td>\n",
              "      <td>TH</td>\n",
              "      <td>10160</td>\n",
              "      <td>844387432</td>\n",
              "      <td>GMT+07:00 Asia/Bangkok</td>\n",
              "      <td>100.41</td>\n",
              "      <td>13.71</td>\n",
              "    </tr>\n",
              "    <tr>\n",
              "      <th>10953</th>\n",
              "      <td>Starbucks</td>\n",
              "      <td>2046-141768</td>\n",
              "      <td>CDC</td>\n",
              "      <td>Company Owned</td>\n",
              "      <td>Crytal Design Center, Room No.Z2.143, Soi Lard...</td>\n",
              "      <td>Bangkapi</td>\n",
              "      <td>10</td>\n",
              "      <td>TH</td>\n",
              "      <td>10240</td>\n",
              "      <td>819393806</td>\n",
              "      <td>GMT+07:00 Asia/Bangkok</td>\n",
              "      <td>100.62</td>\n",
              "      <td>13.80</td>\n",
              "    </tr>\n",
              "    <tr>\n",
              "      <th>10954</th>\n",
              "      <td>Starbucks</td>\n",
              "      <td>1478-142236</td>\n",
              "      <td>Vejthani Hospital</td>\n",
              "      <td>Company Owned</td>\n",
              "      <td>Vejthani Hospital, No.1, Soi Lardprao 111, Lar...</td>\n",
              "      <td>Bangkapi</td>\n",
              "      <td>10</td>\n",
              "      <td>TH</td>\n",
              "      <td>10240</td>\n",
              "      <td>844387449</td>\n",
              "      <td>GMT+07:00 Asia/Bangkok</td>\n",
              "      <td>100.64</td>\n",
              "      <td>13.77</td>\n",
              "    </tr>\n",
              "    <tr>\n",
              "      <th>10955</th>\n",
              "      <td>Starbucks</td>\n",
              "      <td>17707-182486</td>\n",
              "      <td>The Scene Town in Town</td>\n",
              "      <td>Company Owned</td>\n",
              "      <td>Sriwara Road, Wana Thong Lang, Sriwara Road,, ...</td>\n",
              "      <td>Bangkapi</td>\n",
              "      <td>10</td>\n",
              "      <td>TH</td>\n",
              "      <td>10310</td>\n",
              "      <td>847517727</td>\n",
              "      <td>GMT+07:00 Asia/Bangkok</td>\n",
              "      <td>100.61</td>\n",
              "      <td>13.77</td>\n",
              "    </tr>\n",
              "    <tr>\n",
              "      <th>10956</th>\n",
              "      <td>Starbucks</td>\n",
              "      <td>33741-253264</td>\n",
              "      <td>The Mall Bangkapi G/F</td>\n",
              "      <td>Company Owned</td>\n",
              "      <td>3522, Food Center G Floor, The Mall Bangkapi, ...</td>\n",
              "      <td>Bangkapi</td>\n",
              "      <td>10</td>\n",
              "      <td>TH</td>\n",
              "      <td>10240</td>\n",
              "      <td>844387362</td>\n",
              "      <td>GMT+07:00 Asia/Bangkok</td>\n",
              "      <td>100.64</td>\n",
              "      <td>13.77</td>\n",
              "    </tr>\n",
              "    <tr>\n",
              "      <th>...</th>\n",
              "      <td>...</td>\n",
              "      <td>...</td>\n",
              "      <td>...</td>\n",
              "      <td>...</td>\n",
              "      <td>...</td>\n",
              "      <td>...</td>\n",
              "      <td>...</td>\n",
              "      <td>...</td>\n",
              "      <td>...</td>\n",
              "      <td>...</td>\n",
              "      <td>...</td>\n",
              "      <td>...</td>\n",
              "      <td>...</td>\n",
              "    </tr>\n",
              "    <tr>\n",
              "      <th>11236</th>\n",
              "      <td>Starbucks</td>\n",
              "      <td>20838-188467</td>\n",
              "      <td>Central Festival Hat Yai</td>\n",
              "      <td>Company Owned</td>\n",
              "      <td>Central Had Yai, Karnjanavanit Road, Hat Yai</td>\n",
              "      <td>Songkhla</td>\n",
              "      <td>90</td>\n",
              "      <td>TH</td>\n",
              "      <td>90110</td>\n",
              "      <td>922798164</td>\n",
              "      <td>GMT+07:00 Asia/Bangkok</td>\n",
              "      <td>100.48</td>\n",
              "      <td>6.99</td>\n",
              "    </tr>\n",
              "    <tr>\n",
              "      <th>11237</th>\n",
              "      <td>Starbucks</td>\n",
              "      <td>33754-97972</td>\n",
              "      <td>Tuk Com Pattaya</td>\n",
              "      <td>Company Owned</td>\n",
              "      <td>8, Moo 10 South Pattaya Road</td>\n",
              "      <td>Banglamung</td>\n",
              "      <td>S</td>\n",
              "      <td>TH</td>\n",
              "      <td>20150</td>\n",
              "      <td>844387374</td>\n",
              "      <td>GMT+07:00 Asia/Bangkok</td>\n",
              "      <td>100.88</td>\n",
              "      <td>12.92</td>\n",
              "    </tr>\n",
              "    <tr>\n",
              "      <th>11238</th>\n",
              "      <td>Starbucks</td>\n",
              "      <td>33761-143431</td>\n",
              "      <td>Royal Garden Pattaya</td>\n",
              "      <td>Company Owned</td>\n",
              "      <td>218, Moo 10 Beach Road</td>\n",
              "      <td>Banglamung</td>\n",
              "      <td>S</td>\n",
              "      <td>TH</td>\n",
              "      <td>20260</td>\n",
              "      <td>844387377</td>\n",
              "      <td>GMT+07:00 Asia/Bangkok</td>\n",
              "      <td>100.88</td>\n",
              "      <td>12.93</td>\n",
              "    </tr>\n",
              "    <tr>\n",
              "      <th>11239</th>\n",
              "      <td>Starbucks</td>\n",
              "      <td>33718-28447</td>\n",
              "      <td>Pattaya</td>\n",
              "      <td>Company Owned</td>\n",
              "      <td>219/3, Yamamoto 13/1 Soi  Beach Road</td>\n",
              "      <td>Banglamung</td>\n",
              "      <td>S</td>\n",
              "      <td>TH</td>\n",
              "      <td>20150</td>\n",
              "      <td>844387331</td>\n",
              "      <td>GMT+07:00 Asia/Bangkok</td>\n",
              "      <td>100.88</td>\n",
              "      <td>12.93</td>\n",
              "    </tr>\n",
              "    <tr>\n",
              "      <th>11240</th>\n",
              "      <td>Starbucks</td>\n",
              "      <td>1967-136510</td>\n",
              "      <td>Central Festival Pattaya</td>\n",
              "      <td>Company Owned</td>\n",
              "      <td>Unit 156, Central Festival Pattaya Beach, 333/...</td>\n",
              "      <td>Banglamung</td>\n",
              "      <td>S</td>\n",
              "      <td>TH</td>\n",
              "      <td>20150</td>\n",
              "      <td>844387451</td>\n",
              "      <td>GMT+07:00 Asia/Bangkok</td>\n",
              "      <td>100.88</td>\n",
              "      <td>12.93</td>\n",
              "    </tr>\n",
              "  </tbody>\n",
              "</table>\n",
              "<p>289 rows × 13 columns</p>\n",
              "</div>\n",
              "      <button class=\"colab-df-convert\" onclick=\"convertToInteractive('df-13310c8c-2b20-46af-b6e5-5032def4825d')\"\n",
              "              title=\"Convert this dataframe to an interactive table.\"\n",
              "              style=\"display:none;\">\n",
              "        \n",
              "  <svg xmlns=\"http://www.w3.org/2000/svg\" height=\"24px\"viewBox=\"0 0 24 24\"\n",
              "       width=\"24px\">\n",
              "    <path d=\"M0 0h24v24H0V0z\" fill=\"none\"/>\n",
              "    <path d=\"M18.56 5.44l.94 2.06.94-2.06 2.06-.94-2.06-.94-.94-2.06-.94 2.06-2.06.94zm-11 1L8.5 8.5l.94-2.06 2.06-.94-2.06-.94L8.5 2.5l-.94 2.06-2.06.94zm10 10l.94 2.06.94-2.06 2.06-.94-2.06-.94-.94-2.06-.94 2.06-2.06.94z\"/><path d=\"M17.41 7.96l-1.37-1.37c-.4-.4-.92-.59-1.43-.59-.52 0-1.04.2-1.43.59L10.3 9.45l-7.72 7.72c-.78.78-.78 2.05 0 2.83L4 21.41c.39.39.9.59 1.41.59.51 0 1.02-.2 1.41-.59l7.78-7.78 2.81-2.81c.8-.78.8-2.07 0-2.86zM5.41 20L4 18.59l7.72-7.72 1.47 1.35L5.41 20z\"/>\n",
              "  </svg>\n",
              "      </button>\n",
              "      \n",
              "  <style>\n",
              "    .colab-df-container {\n",
              "      display:flex;\n",
              "      flex-wrap:wrap;\n",
              "      gap: 12px;\n",
              "    }\n",
              "\n",
              "    .colab-df-convert {\n",
              "      background-color: #E8F0FE;\n",
              "      border: none;\n",
              "      border-radius: 50%;\n",
              "      cursor: pointer;\n",
              "      display: none;\n",
              "      fill: #1967D2;\n",
              "      height: 32px;\n",
              "      padding: 0 0 0 0;\n",
              "      width: 32px;\n",
              "    }\n",
              "\n",
              "    .colab-df-convert:hover {\n",
              "      background-color: #E2EBFA;\n",
              "      box-shadow: 0px 1px 2px rgba(60, 64, 67, 0.3), 0px 1px 3px 1px rgba(60, 64, 67, 0.15);\n",
              "      fill: #174EA6;\n",
              "    }\n",
              "\n",
              "    [theme=dark] .colab-df-convert {\n",
              "      background-color: #3B4455;\n",
              "      fill: #D2E3FC;\n",
              "    }\n",
              "\n",
              "    [theme=dark] .colab-df-convert:hover {\n",
              "      background-color: #434B5C;\n",
              "      box-shadow: 0px 1px 3px 1px rgba(0, 0, 0, 0.15);\n",
              "      filter: drop-shadow(0px 1px 2px rgba(0, 0, 0, 0.3));\n",
              "      fill: #FFFFFF;\n",
              "    }\n",
              "  </style>\n",
              "\n",
              "      <script>\n",
              "        const buttonEl =\n",
              "          document.querySelector('#df-13310c8c-2b20-46af-b6e5-5032def4825d button.colab-df-convert');\n",
              "        buttonEl.style.display =\n",
              "          google.colab.kernel.accessAllowed ? 'block' : 'none';\n",
              "\n",
              "        async function convertToInteractive(key) {\n",
              "          const element = document.querySelector('#df-13310c8c-2b20-46af-b6e5-5032def4825d');\n",
              "          const dataTable =\n",
              "            await google.colab.kernel.invokeFunction('convertToInteractive',\n",
              "                                                     [key], {});\n",
              "          if (!dataTable) return;\n",
              "\n",
              "          const docLinkHtml = 'Like what you see? Visit the ' +\n",
              "            '<a target=\"_blank\" href=https://colab.research.google.com/notebooks/data_table.ipynb>data table notebook</a>'\n",
              "            + ' to learn more about interactive tables.';\n",
              "          element.innerHTML = '';\n",
              "          dataTable['output_type'] = 'display_data';\n",
              "          await google.colab.output.renderOutput(dataTable, element);\n",
              "          const docLink = document.createElement('div');\n",
              "          docLink.innerHTML = docLinkHtml;\n",
              "          element.appendChild(docLink);\n",
              "        }\n",
              "      </script>\n",
              "    </div>\n",
              "  </div>\n",
              "  "
            ]
          },
          "metadata": {},
          "execution_count": 74
        }
      ]
    },
    {
      "cell_type": "code",
      "source": [
        "df_th.info()"
      ],
      "metadata": {
        "colab": {
          "base_uri": "https://localhost:8080/"
        },
        "id": "irvbODQ-9Vvb",
        "outputId": "cdc2f2e3-3aa3-4c73-f830-adea2fa58c3d"
      },
      "execution_count": null,
      "outputs": [
        {
          "output_type": "stream",
          "name": "stdout",
          "text": [
            "<class 'pandas.core.frame.DataFrame'>\n",
            "Int64Index: 289 entries, 10952 to 11240\n",
            "Data columns (total 13 columns):\n",
            " #   Column          Non-Null Count  Dtype  \n",
            "---  ------          --------------  -----  \n",
            " 0   Brand           289 non-null    object \n",
            " 1   Store Number    289 non-null    object \n",
            " 2   Store Name      289 non-null    object \n",
            " 3   Ownership Type  289 non-null    object \n",
            " 4   Street Address  289 non-null    object \n",
            " 5   City            289 non-null    object \n",
            " 6   State/Province  289 non-null    object \n",
            " 7   Country         289 non-null    object \n",
            " 8   Postcode        282 non-null    object \n",
            " 9   Phone Number    288 non-null    object \n",
            " 10  Timezone        289 non-null    object \n",
            " 11  Longitude       289 non-null    float64\n",
            " 12  Latitude        289 non-null    float64\n",
            "dtypes: float64(2), object(11)\n",
            "memory usage: 31.6+ KB\n"
          ]
        }
      ]
    },
    {
      "cell_type": "code",
      "source": [
        "fig = px.sunburst(df_th, path=['City', 'State/Province', 'Store Name'])\n",
        "fig.show()"
      ],
      "metadata": {
        "colab": {
          "base_uri": "https://localhost:8080/",
          "height": 542
        },
        "id": "OP7hdTG668LR",
        "outputId": "21c25b65-8071-407a-9f2f-58628d1dbf21"
      },
      "execution_count": null,
      "outputs": [
        {
          "output_type": "display_data",
          "data": {
            "text/html": [
              "<html>\n",
              "<head><meta charset=\"utf-8\" /></head>\n",
              "<body>\n",
              "    <div>            <script src=\"https://cdnjs.cloudflare.com/ajax/libs/mathjax/2.7.5/MathJax.js?config=TeX-AMS-MML_SVG\"></script><script type=\"text/javascript\">if (window.MathJax) {MathJax.Hub.Config({SVG: {font: \"STIX-Web\"}});}</script>                <script type=\"text/javascript\">window.PlotlyConfig = {MathJaxConfig: 'local'};</script>\n",
              "        <script src=\"https://cdn.plot.ly/plotly-2.8.3.min.js\"></script>                <div id=\"4dc0e469-7adb-4ad3-934e-e55369ef296b\" class=\"plotly-graph-div\" style=\"height:525px; width:100%;\"></div>            <script type=\"text/javascript\">                                    window.PLOTLYENV=window.PLOTLYENV || {};                                    if (document.getElementById(\"4dc0e469-7adb-4ad3-934e-e55369ef296b\")) {                    Plotly.newPlot(                        \"4dc0e469-7adb-4ad3-934e-e55369ef296b\",                        [{\"branchvalues\":\"total\",\"domain\":{\"x\":[0.0,1.0],\"y\":[0.0,1.0]},\"hovertemplate\":\"labels=%{label}<br>count=%{value}<br>parent=%{parent}<br>id=%{id}<extra></extra>\",\"ids\":[\"Bangkok/10/A Link Square\",\"Bangkok/10/Abdulrahim Place\",\"Patumwan/10/All Season Place\",\"Bangkok/10/All Season Place 2\",\"Patumwan/10/Amarin\",\"Bangkok/10/Amorini\",\"Muang Krabi/81/Ao Nang Cliff Beach-Krabi\",\"Samut Prakan/11/At United Bangna\",\"Bangkok/10/Athenee Tower\",\"Pathum Thani/13/Auto Mall - Navanakorn\",\"Phra Nakhon Si Ayutthaya/14/Ayutthaya City Park\",\"Saimai/10/B.Care Medical Center Hospital\",\"Patumwan/10/B2S (Chidlom2)\",\"Pranakorn/10/Baan Chart\",\"Bangrak/10/Baan Silom\",\"Ayutthaya/14/Baan Yai Wangnoi\",\"Phuket/83/Banana Walk Phuket\",\"Sathorn/10/Bangkok City\",\"Wangtonglang/10/Bangkok Hospital\",\"Klongtoey/10/Bangkok Mediplex\",\"Wangtonglang/10/Bangkok Plaza-BKH2\",\"Bangna/10/Bangna\",\"Chomthong/10/Bangpakok9 Inter Hosp\",\"Nonthaburi/10/Bee Hive\",\"Yannawa/10/Belle Park\",\"Muang,/43/Big Jieng NongKhai\",\"Koh Samui/84/BigC Samui\",\"Prachuap Khirikhan/77/Blu Port Hua Hin\",\"Bangrak/10/Boonmitr Building\",\"Wattana/10/Bumrungrad Hospital\",\"Wattana/10/Bumrungrad Hospital 2\",\"Bangkapi/10/CDC\",\"Bangkok/10/CTI Tower\",\"Bangkok/10/Camp Davis\",\"Klongtoey/10/Carrefour Rama IV\",\"Bangkok/10/Central Bangna 1st Floor\",\"Bangkok/10/Central Chaengwattana\",\"Muang Chiangrai/57/Central Chiangrai\",\"Muang/20/Central Chonburi\",\"Bangkok/10/Central East Ville-Fashion Zone\",\"Bangkok/10/Central East Ville-Think Spaze\",\"Bangkok/10/Central Embassy\",\"Chaing Mai/50/Central Festival Chiang Mai\",\"Songkhla/90/Central Festival Hat Yai\",\"Banglamung/S/Central Festival Pattaya\",\"Surat Thani/84/Central Festival Samui\",\"Muang/40/Central Khonkaen\",\"Muang/52/Central Lampang\",\"Chon Buri/20/Central Marina\",\"Nakhonsithamarat/80/Central Nakhonsithammarat\",\"Muang Phitsanulok/65/Central Phitsanulok\",\"Muang/83/Central Phuket\",\"Rayong/21/Central Plaza Rayong\",\"Nakhon Pathom/73/Central Plaza Salaya\",\"Yannawa/10/Central Rama 3\",\"Huay Kwang/10/Central Rama 9\",\"Bangkhen/10/Central Ramindra\",\"Muang/84/Central Suratthani\",\"Muang Ubon Ratchathani/34/Central Ubonratchathani\",\"Muang Udon Thani/41/Central Udon Thani\",\"Nontha Buri/12/Central West Gate-1st Floor\",\"Nontha Buri/12/Central West Gate-2nd Floor\",\"Pathumwan/10/Central World Plaza-Third Floor\",\"Pathumwan/10/Chamchuri Square\",\"Muang/50/Chiangmai\",\"Chiang Mai/50/Chiangmai Airport\",\"Muang/50/Chiangmai Nimmanhemin\",\"Chiang Mai/50/Chiangmai Ram Hospital\",\"Muang/50/Chiangmai Tha Pae\",\"Muang/50/Chiangmai2\",\"Wattana/10/Citi Resort\",\"Bangphi/11/ConcourseB-Airside-SAP\",\"Bangluck/10/Convent\",\"Don Muang/10/DonMuang Airport (Domestic)\",\"Don Muang/10/DonMuang Airport (Inter)\",\"Bangkok/10/Ease Park\",\"Sathorn/10/Empire Tower\",\"Bangkok/10/Emporium Atelier\",\"Klongtoey/10/Emporium Mall\",\"Klongtoey/10/Emporium Tower\",\"Bangkok/10/Emquartier\",\"klongtoey/10/Exchange Tower\",\"Khannayao/10/Fashion Island-\",\"Bangkok/10/Fashion Island-2nd Floor\",\"Phra Nakhon Si Ayutthaya/14/Fast Fac\",\"Bangkok/10/Food Villa\",\"Bangkok/10/Fortune Town\",\"Thunburi/13/Future Park Rangsit\",\"Bangkok/10/Gaysorn Shopping Centre\",\"Wattana/10/Grammy\",\"Klong Toey/10/Grand 5\",\"Bangkok/10/Grand China Hotel\",\"Phayathai/10/Grand Diamond Plaza - Bangkok\",\"Bangkok/10/Grand President Hotel\",\"Bangkok/10/Ha Ha\",\"Bangkok/10/Happy Avenue Ladprao 101\",\"Sriracha/20/Harbormall Laemchabung\",\"Chonburi/20/Harbormall Pattaya Klang\",\"Muang/12/HomeWorks Rattanathibeth\",\"Phuket/83/Homepro Village Phuket Chalong\",\"Hua Hin/77/Hua Hin\",\"Hua Hin/77/Hua Hin Market Village\",\"Rajthewi/10/IDEO Phayathai\",\"Bangkok/10/Ideo Mobi Charan-Interchange\",\"Bangkok/10/Ideo Q Chula-Samyan\",\"Bangkok/10/Im Park Sam Yan\",\"Pakkred/12/Impact\",\"Pakkred/10/Impact Challenger\",\"Yannawa/10/Int Rama 3\",\"Huaykwang/10/Ital Thai Tower\",\"Bangkok/11/JAS Urban Srinakarin\",\"Wattana/10/Jasmine City\",\"Kathu/83/Jungceylon 2\",\"Kathu/83/Jungceylon Patong\",\"Chiangmai/50/Kad Farang\",\"Muang Chiangmai/50/Kad Suan Kaew\",\"Bangkok/10/Kasetsart University\",\"Muang/83/Kata Center-Karon-phuket\",\"Katu/83/La Flora Avenue - Patong - Phuket\",\"Chatuchak/10/Ladprao\",\"Chonburi/20/Laemthong Bangsaen\",\"Muang Rayong/21/Laemthong Rayong\",\"Patumwan/10/Langsuan\",\"Sathorn/10/Life Center\",\"Bangkok/10/Little Walk Bangna\",\"Phuket/83/Lotus Phuket\",\"Muang/11/Lotus Srinakarin-Samut Prakarn\",\"Bangkok/10/Lotus Sukhapiban 1\",\"Huay Kwang/10/M Theatre-New Petchburi Road\",\"Bangkok/10/MBK-Pathumwan Princess Hotel\",\"Patumwan/10/MBK-SF Cinema City\",\"Patumwan/10/Mahboonkrong\",\"Bangkok Noi/10/Major Pinklao\",\"Samutprakarn/11/Market Village Suvarnabhumi\",\"Chiang Mai/50/Maya Chiang Mai\",\"Bang Plea/11/Mega Bangna\",\"Bangkok/10/Mercury Ville\",\"Bangkok/10/Metro West Town\",\"Bangrak/10/Montien\",\"Bangpakong/24/Motorway Inbound\",\"Chachoengsao/24/Motorway Inbound 2\",\"Bangpakong/24/Motorway Outbound\",\"Bangpakong/24/Motorway Outbound 2\",\"Huaykwang/10/Muang Thai Phatra\",\"Wattana/10/Nana Square\",\"Pakkred/12/Nichada Thani\",\"Hatyai/90/Odean Fashion Mall\",\"Patumwan/10/Office Central World\",\"Pakchong/30/Outlet Village-KhaoYai\",\"Sriracha/20/Pacific Park Sriracha\",\"Prawet/10/Paradise Park - Bangkok\",\"Bangkok/10/Paseo Mall Ladkrabang\",\"Bangkok/10/Paseo Town Ramkhamhaeng\",\"Banglamung/S/Pattaya\",\"Wangthonglang/10/PharMax\",\"Kratoo/83/Phuket\",\"Phuket/83/Phuket Airport-Landside\",\"Bangkok/10/Phyathai 2 Hospital\",\"Bangkok/10/Phyathai 3 Hospital\",\"Bangkok Noi/10/Pinklao-Relo\",\"Bangkok/10/Platinum Novotel Pratunum\",\"Bangkok/10/Platinum Pratunam Basement\",\"Bangkok/10/Plearnary Mall Watcharapol\",\"Klongtey/10/Ploenchit Center\",\"Muang/74/Porto Chino\",\"Bangkok/10/Praram 9 Hospital\",\"Saphansung/10/Pure Place Sammakorn - Bangkok\",\"Bangkok/10/Quartier Cineart\",\"Klongtoey/10/Queen Sirikit Center\",\"Huaykwang/10/RCA\",\"Bangkhuntien/10/Rama2\",\"Ratchathewi/10/Ramathibodi Hospital\",\"Prathumthani/13/Rangsit University\",\"Bangkhorlaem/10/Riverside Garden\",\"Bangkok/10/Riverside Plaza\",\"Bangkok/10/Robinson Bangrak\",\"Burirum/31/Robinson Burirum\",\"Chachoengsao/24/Robinson Chachoengsao\",\"Lopburi/16/Robinson Lopburi\",\"Ratchaburi/70/Robinson Ratchaburi\",\"Roi Et/45/Robinson Roi Et\",\"Samutprakarn/11/Robinson Samutprakarn\",\"Saraburi/10/Robinson Saraburi\",\"Nonthaburi/12/Robinson Srisamarn\",\"Surin/32/Robinson Surin\",\"Banglamung/S/Royal Garden Pattaya\",\"Chatuchak/10/SCB\",\"Bangkok/10/SCG Experience\",\"Bangkok/10/SCG Head Office 3\",\"Lanksi/12/SF Chaengwattana\",\"Ladprao/10/SF Nawamin City Avenue\",\"Banglamung/20/SF Pattaya\",\"Phayathai/10/SF Phaholyothin\",\"Prakanong/10/SF Piyarom\",\"Chatuchak/10/SFX Ladprao\",\"Pomprabsutrupai/10/SOHO\",\"Wattana/10/Samitivej Hospital\",\"Suanluang/10/Samitivej Srinakarin Hospital\",\"Chonburi/20/Samitivej Sriracha Hospital\",\"Sathorn/10/Sathorn City Tower\",\"Bangkok/10/Sathorn Square\",\"Prawet/10/Seacon Square\",\"Phasi Charoen/10/Seacon Square Bangkae\",\"Klongsan/10/Sena Fest\",\"Maha Sarakham/44/Sermthai Complex\",\"Ratchathewi/10/Shibuya 19.\",\"Bangkok/10/Show DC\",\"Bangkok/10/Siam Center\",\"Bangkok/10/Siam Discovery\",\"Wattana/10/Siam Future Ekkamai\",\"Huaykwang/10/Siam Future Esplanade\",\"Klongklum/10/Siam Future Nawamin\",\"Chatujak/10/Siam Future Ratchayothin\",\"Pathumwan/10/Siam Paragon 1st Floor\",\"Patumwan/10/Siam Paragon-Major\",\"Patumwan/10/Siam Paragon-QConcept\",\"Patumwan/10/Siam Paragon-Street Level\",\"Pathumwan/10/Siam Square - Block L\",\"Bangkok/10/Siam Square 1\",\"Bangkok/10/Sikarin Hospital\",\"Bangrak/10/Silom Complex\",\"Patumwan/10/Sindhorn Tower\",\"Bangkok Noi/10/Siriraj Hospital\",\"Pakkred/12/Sport City\",\"Klong-toey Nua/10/Srinakharinwirot University\",\"Bangrak/10/State Tower\",\"Bangkok/10/Station One\",\"Bangkok/10/Suanplern Market\",\"Bangkok/10/Sun Towers\",\"Ubon Ratchathani/34/Sunee Tower\",\"Dusit/10/Supreme Plaza - Bangkok\",\"Bangphi/11/Suvarnabhumi Airport\",\"Wattana/10/Terminal 21\",\"Nakhon Ratchasima/30/Terminal 21 Korat\",\"Phranakorn/10/Tha Maharaj\",\"Prathumthani/13/Thammasat U. Rangsit Library\",\"Pathumwan/10/The 19th Chidlom - Bangkok\",\"Wattana/10/The 49 Terrace\",\"Chonburi/20/The Bay Pattaya\",\"Bangkok/10/The Bright Rama 2\",\"Talingchan/10/The Circle Ratchapruk-Bangkok\",\"Lardprao/10/The Crystal\",\"Nonthaburi/12/The Crystal PTT Chaiyapruek\",\"Nonthaburi/12/The Crystal Ratchapruek\",\"Bangkok/10/The JAS Ramintra\",\"Bangkok/10/The JAS Wanghin\",\"Bangkapi/10/The Mall 3 Ramkhamhaeng\",\"Bangkae/10/The Mall Bangkae\",\"Bangkapi/10/The Mall Bangkapi G/F\",\"Bangkok/10/The Mall Bangkapi-4th Floor\",\"Bangkapi/10/The Mall Bangkapi-Main Hall\",\"Muang Nakhonratchasima/30/The Mall Khorat\",\"Bangkhen/10/The Mall Ngamwongwan-GF\",\"Thonburi/10/The Mall Tha Phra-Main Hall\",\"Nakhon Pathom/73/The Mood\",\"Saunlaung/10/The Nine Neighborhood Center\",\"Bangkok/10/The Ninth Towers\",\"Bangkok/10/The Paseo Park Kanchanaphisek\",\"Kannayao/10/The Promenade\",\"Bangkok/10/The Rest Area at Prachachuen\",\"Bangkapi/10/The Scene Town in Town\",\"Bangkok/10/The Street\",\"Bangkok/10/The Walk Kaset Nawamintra\",\"Bang Kruai/12/The Walk Ratchapruek\",\"Bangkok/10/The X Place\",\"Wattana/10/Thonglor\",\"Wattana/10/Thonglor2\",\"Klong Toey/10/Time Square\",\"Bangkok/10/Tree on 3\",\"Muang/40/Tuk Com KhonKaen\",\"Banglamung/S/Tuk Com Pattaya\",\"Muang/41/Tuk Com Udon\",\"Kathu/83/Twilight of Bangla\",\"Bangrak/10/U Chu Liang\",\"Huaykwang/10/U-Place\",\"Bangkok/10/UBC 2\",\"Muang/41/UD Town\",\"Bangrak/10/United Center\",\"Bangkok/10/V Market\",\"Nakhonsawan/60/V-Square Plaza\",\"Bangkok/10/Vanilla Moon\",\"Bangkok/10/Vanit Place\",\"Bangkapi/10/Vejthani Hospital\",\"Bangkok/10/Victoria Garden\",\"Bangkok/10/Wangburapha\",\"Patumwan/10/World Trade Center\",\"Khon Kaen/40/Wufoo Khonkaen\",\"Bangkok/10/Yodpiman River Walk\",\"Pathum Thani/13/ZPELL\",\"Bangkae/10\",\"Bangkapi/10\",\"Bangkhen/10\",\"Bangkhorlaem/10\",\"Bangkhuntien/10\",\"Bangkok/10\",\"Bangkok Noi/10\",\"Bangluck/10\",\"Bangna/10\",\"Bangrak/10\",\"Chatuchak/10\",\"Chatujak/10\",\"Chomthong/10\",\"Don Muang/10\",\"Dusit/10\",\"Huay Kwang/10\",\"Huaykwang/10\",\"Kannayao/10\",\"Khannayao/10\",\"Klong Toey/10\",\"Klong-toey Nua/10\",\"Klongklum/10\",\"Klongsan/10\",\"Klongtey/10\",\"Klongtoey/10\",\"Ladprao/10\",\"Lardprao/10\",\"Nonthaburi/10\",\"Pakkred/10\",\"Pathumwan/10\",\"Patumwan/10\",\"Phasi Charoen/10\",\"Phayathai/10\",\"Phranakorn/10\",\"Pomprabsutrupai/10\",\"Prakanong/10\",\"Pranakorn/10\",\"Prawet/10\",\"Rajthewi/10\",\"Ratchathewi/10\",\"Saimai/10\",\"Saphansung/10\",\"Saraburi/10\",\"Sathorn/10\",\"Saunlaung/10\",\"Suanluang/10\",\"Talingchan/10\",\"Thonburi/10\",\"Wangthonglang/10\",\"Wangtonglang/10\",\"Wattana/10\",\"Yannawa/10\",\"klongtoey/10\",\"Bang Plea/11\",\"Bangkok/11\",\"Bangphi/11\",\"Muang/11\",\"Samut Prakan/11\",\"Samutprakarn/11\",\"Bang Kruai/12\",\"Lanksi/12\",\"Muang/12\",\"Nontha Buri/12\",\"Nonthaburi/12\",\"Pakkred/12\",\"Pathum Thani/13\",\"Prathumthani/13\",\"Thunburi/13\",\"Ayutthaya/14\",\"Phra Nakhon Si Ayutthaya/14\",\"Lopburi/16\",\"Banglamung/20\",\"Chon Buri/20\",\"Chonburi/20\",\"Muang/20\",\"Sriracha/20\",\"Muang Rayong/21\",\"Rayong/21\",\"Bangpakong/24\",\"Chachoengsao/24\",\"Muang Nakhonratchasima/30\",\"Nakhon Ratchasima/30\",\"Pakchong/30\",\"Burirum/31\",\"Surin/32\",\"Muang Ubon Ratchathani/34\",\"Ubon Ratchathani/34\",\"Khon Kaen/40\",\"Muang/40\",\"Muang/41\",\"Muang Udon Thani/41\",\"Muang,/43\",\"Maha Sarakham/44\",\"Roi Et/45\",\"Chaing Mai/50\",\"Chiang Mai/50\",\"Chiangmai/50\",\"Muang/50\",\"Muang Chiangmai/50\",\"Muang/52\",\"Muang Chiangrai/57\",\"Nakhonsawan/60\",\"Muang Phitsanulok/65\",\"Ratchaburi/70\",\"Nakhon Pathom/73\",\"Muang/74\",\"Hua Hin/77\",\"Prachuap Khirikhan/77\",\"Nakhonsithamarat/80\",\"Muang Krabi/81\",\"Kathu/83\",\"Katu/83\",\"Kratoo/83\",\"Muang/83\",\"Phuket/83\",\"Koh Samui/84\",\"Muang/84\",\"Surat Thani/84\",\"Hatyai/90\",\"Songkhla/90\",\"Banglamung/S\",\"Ayutthaya\",\"Bang Kruai\",\"Bang Plea\",\"Bangkae\",\"Bangkapi\",\"Bangkhen\",\"Bangkhorlaem\",\"Bangkhuntien\",\"Bangkok\",\"Bangkok Noi\",\"Banglamung\",\"Bangluck\",\"Bangna\",\"Bangpakong\",\"Bangphi\",\"Bangrak\",\"Burirum\",\"Chachoengsao\",\"Chaing Mai\",\"Chatuchak\",\"Chatujak\",\"Chiang Mai\",\"Chiangmai\",\"Chomthong\",\"Chon Buri\",\"Chonburi\",\"Don Muang\",\"Dusit\",\"Hatyai\",\"Hua Hin\",\"Huay Kwang\",\"Huaykwang\",\"Kannayao\",\"Kathu\",\"Katu\",\"Khannayao\",\"Khon Kaen\",\"Klong Toey\",\"Klong-toey Nua\",\"Klongklum\",\"Klongsan\",\"Klongtey\",\"Klongtoey\",\"Koh Samui\",\"Kratoo\",\"Ladprao\",\"Lanksi\",\"Lardprao\",\"Lopburi\",\"Maha Sarakham\",\"Muang\",\"Muang Chiangmai\",\"Muang Chiangrai\",\"Muang Krabi\",\"Muang Nakhonratchasima\",\"Muang Phitsanulok\",\"Muang Rayong\",\"Muang Ubon Ratchathani\",\"Muang Udon Thani\",\"Muang,\",\"Nakhon Pathom\",\"Nakhon Ratchasima\",\"Nakhonsawan\",\"Nakhonsithamarat\",\"Nontha Buri\",\"Nonthaburi\",\"Pakchong\",\"Pakkred\",\"Pathum Thani\",\"Pathumwan\",\"Patumwan\",\"Phasi Charoen\",\"Phayathai\",\"Phra Nakhon Si Ayutthaya\",\"Phranakorn\",\"Phuket\",\"Pomprabsutrupai\",\"Prachuap Khirikhan\",\"Prakanong\",\"Pranakorn\",\"Prathumthani\",\"Prawet\",\"Rajthewi\",\"Ratchaburi\",\"Ratchathewi\",\"Rayong\",\"Roi Et\",\"Saimai\",\"Samut Prakan\",\"Samutprakarn\",\"Saphansung\",\"Saraburi\",\"Sathorn\",\"Saunlaung\",\"Songkhla\",\"Sriracha\",\"Suanluang\",\"Surat Thani\",\"Surin\",\"Talingchan\",\"Thonburi\",\"Thunburi\",\"Ubon Ratchathani\",\"Wangthonglang\",\"Wangtonglang\",\"Wattana\",\"Yannawa\",\"klongtoey\"],\"labels\":[\"A Link Square\",\"Abdulrahim Place\",\"All Season Place\",\"All Season Place 2\",\"Amarin\",\"Amorini\",\"Ao Nang Cliff Beach-Krabi\",\"At United Bangna\",\"Athenee Tower\",\"Auto Mall - Navanakorn\",\"Ayutthaya City Park\",\"B.Care Medical Center Hospital\",\"B2S (Chidlom2)\",\"Baan Chart\",\"Baan Silom\",\"Baan Yai Wangnoi\",\"Banana Walk Phuket\",\"Bangkok City\",\"Bangkok Hospital\",\"Bangkok Mediplex\",\"Bangkok Plaza-BKH2\",\"Bangna\",\"Bangpakok9 Inter Hosp\",\"Bee Hive\",\"Belle Park\",\"Big Jieng NongKhai\",\"BigC Samui\",\"Blu Port Hua Hin\",\"Boonmitr Building\",\"Bumrungrad Hospital\",\"Bumrungrad Hospital 2\",\"CDC\",\"CTI Tower\",\"Camp Davis\",\"Carrefour Rama IV\",\"Central Bangna 1st Floor\",\"Central Chaengwattana\",\"Central Chiangrai\",\"Central Chonburi\",\"Central East Ville-Fashion Zone\",\"Central East Ville-Think Spaze\",\"Central Embassy\",\"Central Festival Chiang Mai\",\"Central Festival Hat Yai\",\"Central Festival Pattaya\",\"Central Festival Samui\",\"Central Khonkaen\",\"Central Lampang\",\"Central Marina\",\"Central Nakhonsithammarat\",\"Central Phitsanulok\",\"Central Phuket\",\"Central Plaza Rayong\",\"Central Plaza Salaya\",\"Central Rama 3\",\"Central Rama 9\",\"Central Ramindra\",\"Central Suratthani\",\"Central Ubonratchathani\",\"Central Udon Thani\",\"Central West Gate-1st Floor\",\"Central West Gate-2nd Floor\",\"Central World Plaza-Third Floor\",\"Chamchuri Square\",\"Chiangmai\",\"Chiangmai Airport\",\"Chiangmai Nimmanhemin\",\"Chiangmai Ram Hospital\",\"Chiangmai Tha Pae\",\"Chiangmai2\",\"Citi Resort\",\"ConcourseB-Airside-SAP\",\"Convent\",\"DonMuang Airport (Domestic)\",\"DonMuang Airport (Inter)\",\"Ease Park\",\"Empire Tower\",\"Emporium Atelier\",\"Emporium Mall\",\"Emporium Tower\",\"Emquartier\",\"Exchange Tower\",\"Fashion Island-\",\"Fashion Island-2nd Floor\",\"Fast Fac\",\"Food Villa\",\"Fortune Town\",\"Future Park Rangsit\",\"Gaysorn Shopping Centre\",\"Grammy\",\"Grand 5\",\"Grand China Hotel\",\"Grand Diamond Plaza - Bangkok\",\"Grand President Hotel\",\"Ha Ha\",\"Happy Avenue Ladprao 101\",\"Harbormall Laemchabung\",\"Harbormall Pattaya Klang\",\"HomeWorks Rattanathibeth\",\"Homepro Village Phuket Chalong\",\"Hua Hin\",\"Hua Hin Market Village\",\"IDEO Phayathai\",\"Ideo Mobi Charan-Interchange\",\"Ideo Q Chula-Samyan\",\"Im Park Sam Yan\",\"Impact\",\"Impact Challenger\",\"Int Rama 3\",\"Ital Thai Tower\",\"JAS Urban Srinakarin\",\"Jasmine City\",\"Jungceylon 2\",\"Jungceylon Patong\",\"Kad Farang\",\"Kad Suan Kaew\",\"Kasetsart University\",\"Kata Center-Karon-phuket\",\"La Flora Avenue - Patong - Phuket\",\"Ladprao\",\"Laemthong Bangsaen\",\"Laemthong Rayong\",\"Langsuan\",\"Life Center\",\"Little Walk Bangna\",\"Lotus Phuket\",\"Lotus Srinakarin-Samut Prakarn\",\"Lotus Sukhapiban 1\",\"M Theatre-New Petchburi Road\",\"MBK-Pathumwan Princess Hotel\",\"MBK-SF Cinema City\",\"Mahboonkrong\",\"Major Pinklao\",\"Market Village Suvarnabhumi\",\"Maya Chiang Mai\",\"Mega Bangna\",\"Mercury Ville\",\"Metro West Town\",\"Montien\",\"Motorway Inbound\",\"Motorway Inbound 2\",\"Motorway Outbound\",\"Motorway Outbound 2\",\"Muang Thai Phatra\",\"Nana Square\",\"Nichada Thani\",\"Odean Fashion Mall\",\"Office Central World\",\"Outlet Village-KhaoYai\",\"Pacific Park Sriracha\",\"Paradise Park - Bangkok\",\"Paseo Mall Ladkrabang\",\"Paseo Town Ramkhamhaeng\",\"Pattaya\",\"PharMax\",\"Phuket\",\"Phuket Airport-Landside\",\"Phyathai 2 Hospital\",\"Phyathai 3 Hospital\",\"Pinklao-Relo\",\"Platinum Novotel Pratunum\",\"Platinum Pratunam Basement\",\"Plearnary Mall Watcharapol\",\"Ploenchit Center\",\"Porto Chino\",\"Praram 9 Hospital\",\"Pure Place Sammakorn - Bangkok\",\"Quartier Cineart\",\"Queen Sirikit Center\",\"RCA\",\"Rama2\",\"Ramathibodi Hospital\",\"Rangsit University\",\"Riverside Garden\",\"Riverside Plaza\",\"Robinson Bangrak\",\"Robinson Burirum\",\"Robinson Chachoengsao\",\"Robinson Lopburi\",\"Robinson Ratchaburi\",\"Robinson Roi Et\",\"Robinson Samutprakarn\",\"Robinson Saraburi\",\"Robinson Srisamarn\",\"Robinson Surin\",\"Royal Garden Pattaya\",\"SCB\",\"SCG Experience\",\"SCG Head Office 3\",\"SF Chaengwattana\",\"SF Nawamin City Avenue\",\"SF Pattaya\",\"SF Phaholyothin\",\"SF Piyarom\",\"SFX Ladprao\",\"SOHO\",\"Samitivej Hospital\",\"Samitivej Srinakarin Hospital\",\"Samitivej Sriracha Hospital\",\"Sathorn City Tower\",\"Sathorn Square\",\"Seacon Square\",\"Seacon Square Bangkae\",\"Sena Fest\",\"Sermthai Complex\",\"Shibuya 19.\",\"Show DC\",\"Siam Center\",\"Siam Discovery\",\"Siam Future Ekkamai\",\"Siam Future Esplanade\",\"Siam Future Nawamin\",\"Siam Future Ratchayothin\",\"Siam Paragon 1st Floor\",\"Siam Paragon-Major\",\"Siam Paragon-QConcept\",\"Siam Paragon-Street Level\",\"Siam Square - Block L\",\"Siam Square 1\",\"Sikarin Hospital\",\"Silom Complex\",\"Sindhorn Tower\",\"Siriraj Hospital\",\"Sport City\",\"Srinakharinwirot University\",\"State Tower\",\"Station One\",\"Suanplern Market\",\"Sun Towers\",\"Sunee Tower\",\"Supreme Plaza - Bangkok\",\"Suvarnabhumi Airport\",\"Terminal 21\",\"Terminal 21 Korat\",\"Tha Maharaj\",\"Thammasat U. Rangsit Library\",\"The 19th Chidlom - Bangkok\",\"The 49 Terrace\",\"The Bay Pattaya\",\"The Bright Rama 2\",\"The Circle Ratchapruk-Bangkok\",\"The Crystal\",\"The Crystal PTT Chaiyapruek\",\"The Crystal Ratchapruek\",\"The JAS Ramintra\",\"The JAS Wanghin\",\"The Mall 3 Ramkhamhaeng\",\"The Mall Bangkae\",\"The Mall Bangkapi G/F\",\"The Mall Bangkapi-4th Floor\",\"The Mall Bangkapi-Main Hall\",\"The Mall Khorat\",\"The Mall Ngamwongwan-GF\",\"The Mall Tha Phra-Main Hall\",\"The Mood\",\"The Nine Neighborhood Center\",\"The Ninth Towers\",\"The Paseo Park Kanchanaphisek\",\"The Promenade\",\"The Rest Area at Prachachuen\",\"The Scene Town in Town\",\"The Street\",\"The Walk Kaset Nawamintra\",\"The Walk Ratchapruek\",\"The X Place\",\"Thonglor\",\"Thonglor2\",\"Time Square\",\"Tree on 3\",\"Tuk Com KhonKaen\",\"Tuk Com Pattaya\",\"Tuk Com Udon\",\"Twilight of Bangla\",\"U Chu Liang\",\"U-Place\",\"UBC 2\",\"UD Town\",\"United Center\",\"V Market\",\"V-Square Plaza\",\"Vanilla Moon\",\"Vanit Place\",\"Vejthani Hospital\",\"Victoria Garden\",\"Wangburapha\",\"World Trade Center\",\"Wufoo Khonkaen\",\"Yodpiman River Walk\",\"ZPELL\",\"10\",\"10\",\"10\",\"10\",\"10\",\"10\",\"10\",\"10\",\"10\",\"10\",\"10\",\"10\",\"10\",\"10\",\"10\",\"10\",\"10\",\"10\",\"10\",\"10\",\"10\",\"10\",\"10\",\"10\",\"10\",\"10\",\"10\",\"10\",\"10\",\"10\",\"10\",\"10\",\"10\",\"10\",\"10\",\"10\",\"10\",\"10\",\"10\",\"10\",\"10\",\"10\",\"10\",\"10\",\"10\",\"10\",\"10\",\"10\",\"10\",\"10\",\"10\",\"10\",\"10\",\"11\",\"11\",\"11\",\"11\",\"11\",\"11\",\"12\",\"12\",\"12\",\"12\",\"12\",\"12\",\"13\",\"13\",\"13\",\"14\",\"14\",\"16\",\"20\",\"20\",\"20\",\"20\",\"20\",\"21\",\"21\",\"24\",\"24\",\"30\",\"30\",\"30\",\"31\",\"32\",\"34\",\"34\",\"40\",\"40\",\"41\",\"41\",\"43\",\"44\",\"45\",\"50\",\"50\",\"50\",\"50\",\"50\",\"52\",\"57\",\"60\",\"65\",\"70\",\"73\",\"74\",\"77\",\"77\",\"80\",\"81\",\"83\",\"83\",\"83\",\"83\",\"83\",\"84\",\"84\",\"84\",\"90\",\"90\",\"S\",\"Ayutthaya\",\"Bang Kruai\",\"Bang Plea\",\"Bangkae\",\"Bangkapi\",\"Bangkhen\",\"Bangkhorlaem\",\"Bangkhuntien\",\"Bangkok\",\"Bangkok Noi\",\"Banglamung\",\"Bangluck\",\"Bangna\",\"Bangpakong\",\"Bangphi\",\"Bangrak\",\"Burirum\",\"Chachoengsao\",\"Chaing Mai\",\"Chatuchak\",\"Chatujak\",\"Chiang Mai\",\"Chiangmai\",\"Chomthong\",\"Chon Buri\",\"Chonburi\",\"Don Muang\",\"Dusit\",\"Hatyai\",\"Hua Hin\",\"Huay Kwang\",\"Huaykwang\",\"Kannayao\",\"Kathu\",\"Katu\",\"Khannayao\",\"Khon Kaen\",\"Klong Toey\",\"Klong-toey Nua\",\"Klongklum\",\"Klongsan\",\"Klongtey\",\"Klongtoey\",\"Koh Samui\",\"Kratoo\",\"Ladprao\",\"Lanksi\",\"Lardprao\",\"Lopburi\",\"Maha Sarakham\",\"Muang\",\"Muang Chiangmai\",\"Muang Chiangrai\",\"Muang Krabi\",\"Muang Nakhonratchasima\",\"Muang Phitsanulok\",\"Muang Rayong\",\"Muang Ubon Ratchathani\",\"Muang Udon Thani\",\"Muang,\",\"Nakhon Pathom\",\"Nakhon Ratchasima\",\"Nakhonsawan\",\"Nakhonsithamarat\",\"Nontha Buri\",\"Nonthaburi\",\"Pakchong\",\"Pakkred\",\"Pathum Thani\",\"Pathumwan\",\"Patumwan\",\"Phasi Charoen\",\"Phayathai\",\"Phra Nakhon Si Ayutthaya\",\"Phranakorn\",\"Phuket\",\"Pomprabsutrupai\",\"Prachuap Khirikhan\",\"Prakanong\",\"Pranakorn\",\"Prathumthani\",\"Prawet\",\"Rajthewi\",\"Ratchaburi\",\"Ratchathewi\",\"Rayong\",\"Roi Et\",\"Saimai\",\"Samut Prakan\",\"Samutprakarn\",\"Saphansung\",\"Saraburi\",\"Sathorn\",\"Saunlaung\",\"Songkhla\",\"Sriracha\",\"Suanluang\",\"Surat Thani\",\"Surin\",\"Talingchan\",\"Thonburi\",\"Thunburi\",\"Ubon Ratchathani\",\"Wangthonglang\",\"Wangtonglang\",\"Wattana\",\"Yannawa\",\"klongtoey\"],\"name\":\"\",\"parents\":[\"Bangkok/10\",\"Bangkok/10\",\"Patumwan/10\",\"Bangkok/10\",\"Patumwan/10\",\"Bangkok/10\",\"Muang Krabi/81\",\"Samut Prakan/11\",\"Bangkok/10\",\"Pathum Thani/13\",\"Phra Nakhon Si Ayutthaya/14\",\"Saimai/10\",\"Patumwan/10\",\"Pranakorn/10\",\"Bangrak/10\",\"Ayutthaya/14\",\"Phuket/83\",\"Sathorn/10\",\"Wangtonglang/10\",\"Klongtoey/10\",\"Wangtonglang/10\",\"Bangna/10\",\"Chomthong/10\",\"Nonthaburi/10\",\"Yannawa/10\",\"Muang,/43\",\"Koh Samui/84\",\"Prachuap Khirikhan/77\",\"Bangrak/10\",\"Wattana/10\",\"Wattana/10\",\"Bangkapi/10\",\"Bangkok/10\",\"Bangkok/10\",\"Klongtoey/10\",\"Bangkok/10\",\"Bangkok/10\",\"Muang Chiangrai/57\",\"Muang/20\",\"Bangkok/10\",\"Bangkok/10\",\"Bangkok/10\",\"Chaing Mai/50\",\"Songkhla/90\",\"Banglamung/S\",\"Surat Thani/84\",\"Muang/40\",\"Muang/52\",\"Chon Buri/20\",\"Nakhonsithamarat/80\",\"Muang Phitsanulok/65\",\"Muang/83\",\"Rayong/21\",\"Nakhon Pathom/73\",\"Yannawa/10\",\"Huay Kwang/10\",\"Bangkhen/10\",\"Muang/84\",\"Muang Ubon Ratchathani/34\",\"Muang Udon Thani/41\",\"Nontha Buri/12\",\"Nontha Buri/12\",\"Pathumwan/10\",\"Pathumwan/10\",\"Muang/50\",\"Chiang Mai/50\",\"Muang/50\",\"Chiang Mai/50\",\"Muang/50\",\"Muang/50\",\"Wattana/10\",\"Bangphi/11\",\"Bangluck/10\",\"Don Muang/10\",\"Don Muang/10\",\"Bangkok/10\",\"Sathorn/10\",\"Bangkok/10\",\"Klongtoey/10\",\"Klongtoey/10\",\"Bangkok/10\",\"klongtoey/10\",\"Khannayao/10\",\"Bangkok/10\",\"Phra Nakhon Si Ayutthaya/14\",\"Bangkok/10\",\"Bangkok/10\",\"Thunburi/13\",\"Bangkok/10\",\"Wattana/10\",\"Klong Toey/10\",\"Bangkok/10\",\"Phayathai/10\",\"Bangkok/10\",\"Bangkok/10\",\"Bangkok/10\",\"Sriracha/20\",\"Chonburi/20\",\"Muang/12\",\"Phuket/83\",\"Hua Hin/77\",\"Hua Hin/77\",\"Rajthewi/10\",\"Bangkok/10\",\"Bangkok/10\",\"Bangkok/10\",\"Pakkred/12\",\"Pakkred/10\",\"Yannawa/10\",\"Huaykwang/10\",\"Bangkok/11\",\"Wattana/10\",\"Kathu/83\",\"Kathu/83\",\"Chiangmai/50\",\"Muang Chiangmai/50\",\"Bangkok/10\",\"Muang/83\",\"Katu/83\",\"Chatuchak/10\",\"Chonburi/20\",\"Muang Rayong/21\",\"Patumwan/10\",\"Sathorn/10\",\"Bangkok/10\",\"Phuket/83\",\"Muang/11\",\"Bangkok/10\",\"Huay Kwang/10\",\"Bangkok/10\",\"Patumwan/10\",\"Patumwan/10\",\"Bangkok Noi/10\",\"Samutprakarn/11\",\"Chiang Mai/50\",\"Bang Plea/11\",\"Bangkok/10\",\"Bangkok/10\",\"Bangrak/10\",\"Bangpakong/24\",\"Chachoengsao/24\",\"Bangpakong/24\",\"Bangpakong/24\",\"Huaykwang/10\",\"Wattana/10\",\"Pakkred/12\",\"Hatyai/90\",\"Patumwan/10\",\"Pakchong/30\",\"Sriracha/20\",\"Prawet/10\",\"Bangkok/10\",\"Bangkok/10\",\"Banglamung/S\",\"Wangthonglang/10\",\"Kratoo/83\",\"Phuket/83\",\"Bangkok/10\",\"Bangkok/10\",\"Bangkok Noi/10\",\"Bangkok/10\",\"Bangkok/10\",\"Bangkok/10\",\"Klongtey/10\",\"Muang/74\",\"Bangkok/10\",\"Saphansung/10\",\"Bangkok/10\",\"Klongtoey/10\",\"Huaykwang/10\",\"Bangkhuntien/10\",\"Ratchathewi/10\",\"Prathumthani/13\",\"Bangkhorlaem/10\",\"Bangkok/10\",\"Bangkok/10\",\"Burirum/31\",\"Chachoengsao/24\",\"Lopburi/16\",\"Ratchaburi/70\",\"Roi Et/45\",\"Samutprakarn/11\",\"Saraburi/10\",\"Nonthaburi/12\",\"Surin/32\",\"Banglamung/S\",\"Chatuchak/10\",\"Bangkok/10\",\"Bangkok/10\",\"Lanksi/12\",\"Ladprao/10\",\"Banglamung/20\",\"Phayathai/10\",\"Prakanong/10\",\"Chatuchak/10\",\"Pomprabsutrupai/10\",\"Wattana/10\",\"Suanluang/10\",\"Chonburi/20\",\"Sathorn/10\",\"Bangkok/10\",\"Prawet/10\",\"Phasi Charoen/10\",\"Klongsan/10\",\"Maha Sarakham/44\",\"Ratchathewi/10\",\"Bangkok/10\",\"Bangkok/10\",\"Bangkok/10\",\"Wattana/10\",\"Huaykwang/10\",\"Klongklum/10\",\"Chatujak/10\",\"Pathumwan/10\",\"Patumwan/10\",\"Patumwan/10\",\"Patumwan/10\",\"Pathumwan/10\",\"Bangkok/10\",\"Bangkok/10\",\"Bangrak/10\",\"Patumwan/10\",\"Bangkok Noi/10\",\"Pakkred/12\",\"Klong-toey Nua/10\",\"Bangrak/10\",\"Bangkok/10\",\"Bangkok/10\",\"Bangkok/10\",\"Ubon Ratchathani/34\",\"Dusit/10\",\"Bangphi/11\",\"Wattana/10\",\"Nakhon Ratchasima/30\",\"Phranakorn/10\",\"Prathumthani/13\",\"Pathumwan/10\",\"Wattana/10\",\"Chonburi/20\",\"Bangkok/10\",\"Talingchan/10\",\"Lardprao/10\",\"Nonthaburi/12\",\"Nonthaburi/12\",\"Bangkok/10\",\"Bangkok/10\",\"Bangkapi/10\",\"Bangkae/10\",\"Bangkapi/10\",\"Bangkok/10\",\"Bangkapi/10\",\"Muang Nakhonratchasima/30\",\"Bangkhen/10\",\"Thonburi/10\",\"Nakhon Pathom/73\",\"Saunlaung/10\",\"Bangkok/10\",\"Bangkok/10\",\"Kannayao/10\",\"Bangkok/10\",\"Bangkapi/10\",\"Bangkok/10\",\"Bangkok/10\",\"Bang Kruai/12\",\"Bangkok/10\",\"Wattana/10\",\"Wattana/10\",\"Klong Toey/10\",\"Bangkok/10\",\"Muang/40\",\"Banglamung/S\",\"Muang/41\",\"Kathu/83\",\"Bangrak/10\",\"Huaykwang/10\",\"Bangkok/10\",\"Muang/41\",\"Bangrak/10\",\"Bangkok/10\",\"Nakhonsawan/60\",\"Bangkok/10\",\"Bangkok/10\",\"Bangkapi/10\",\"Bangkok/10\",\"Bangkok/10\",\"Patumwan/10\",\"Khon Kaen/40\",\"Bangkok/10\",\"Pathum Thani/13\",\"Bangkae\",\"Bangkapi\",\"Bangkhen\",\"Bangkhorlaem\",\"Bangkhuntien\",\"Bangkok\",\"Bangkok Noi\",\"Bangluck\",\"Bangna\",\"Bangrak\",\"Chatuchak\",\"Chatujak\",\"Chomthong\",\"Don Muang\",\"Dusit\",\"Huay Kwang\",\"Huaykwang\",\"Kannayao\",\"Khannayao\",\"Klong Toey\",\"Klong-toey Nua\",\"Klongklum\",\"Klongsan\",\"Klongtey\",\"Klongtoey\",\"Ladprao\",\"Lardprao\",\"Nonthaburi\",\"Pakkred\",\"Pathumwan\",\"Patumwan\",\"Phasi Charoen\",\"Phayathai\",\"Phranakorn\",\"Pomprabsutrupai\",\"Prakanong\",\"Pranakorn\",\"Prawet\",\"Rajthewi\",\"Ratchathewi\",\"Saimai\",\"Saphansung\",\"Saraburi\",\"Sathorn\",\"Saunlaung\",\"Suanluang\",\"Talingchan\",\"Thonburi\",\"Wangthonglang\",\"Wangtonglang\",\"Wattana\",\"Yannawa\",\"klongtoey\",\"Bang Plea\",\"Bangkok\",\"Bangphi\",\"Muang\",\"Samut Prakan\",\"Samutprakarn\",\"Bang Kruai\",\"Lanksi\",\"Muang\",\"Nontha Buri\",\"Nonthaburi\",\"Pakkred\",\"Pathum Thani\",\"Prathumthani\",\"Thunburi\",\"Ayutthaya\",\"Phra Nakhon Si Ayutthaya\",\"Lopburi\",\"Banglamung\",\"Chon Buri\",\"Chonburi\",\"Muang\",\"Sriracha\",\"Muang Rayong\",\"Rayong\",\"Bangpakong\",\"Chachoengsao\",\"Muang Nakhonratchasima\",\"Nakhon Ratchasima\",\"Pakchong\",\"Burirum\",\"Surin\",\"Muang Ubon Ratchathani\",\"Ubon Ratchathani\",\"Khon Kaen\",\"Muang\",\"Muang\",\"Muang Udon Thani\",\"Muang,\",\"Maha Sarakham\",\"Roi Et\",\"Chaing Mai\",\"Chiang Mai\",\"Chiangmai\",\"Muang\",\"Muang Chiangmai\",\"Muang\",\"Muang Chiangrai\",\"Nakhonsawan\",\"Muang Phitsanulok\",\"Ratchaburi\",\"Nakhon Pathom\",\"Muang\",\"Hua Hin\",\"Prachuap Khirikhan\",\"Nakhonsithamarat\",\"Muang Krabi\",\"Kathu\",\"Katu\",\"Kratoo\",\"Muang\",\"Phuket\",\"Koh Samui\",\"Muang\",\"Surat Thani\",\"Hatyai\",\"Songkhla\",\"Banglamung\",\"\",\"\",\"\",\"\",\"\",\"\",\"\",\"\",\"\",\"\",\"\",\"\",\"\",\"\",\"\",\"\",\"\",\"\",\"\",\"\",\"\",\"\",\"\",\"\",\"\",\"\",\"\",\"\",\"\",\"\",\"\",\"\",\"\",\"\",\"\",\"\",\"\",\"\",\"\",\"\",\"\",\"\",\"\",\"\",\"\",\"\",\"\",\"\",\"\",\"\",\"\",\"\",\"\",\"\",\"\",\"\",\"\",\"\",\"\",\"\",\"\",\"\",\"\",\"\",\"\",\"\",\"\",\"\",\"\",\"\",\"\",\"\",\"\",\"\",\"\",\"\",\"\",\"\",\"\",\"\",\"\",\"\",\"\",\"\",\"\",\"\",\"\",\"\",\"\",\"\",\"\",\"\",\"\",\"\",\"\",\"\",\"\",\"\",\"\",\"\",\"\",\"\",\"\",\"\",\"\",\"\",\"\",\"\"],\"values\":[1,1,1,1,1,1,1,1,1,1,1,1,1,1,1,1,1,1,1,1,1,1,1,1,1,1,1,1,1,1,1,1,1,1,1,1,1,1,1,1,1,1,1,1,1,1,1,1,1,1,1,1,1,1,1,1,1,1,1,1,1,1,1,1,1,1,1,1,1,1,1,1,1,1,1,1,1,1,1,1,1,1,1,1,1,1,1,1,1,1,1,1,1,1,1,1,1,1,1,1,1,1,1,1,1,1,1,1,1,1,1,1,1,1,1,1,1,1,1,1,1,1,1,1,1,1,1,1,1,1,1,1,1,1,1,1,1,1,1,1,1,1,1,1,1,1,1,1,1,1,1,1,1,1,1,1,1,1,1,1,1,1,1,1,1,1,1,1,1,1,1,1,1,1,1,1,1,1,1,1,1,1,1,1,1,1,1,1,1,1,1,1,1,1,1,1,1,1,1,1,1,1,1,1,1,1,1,1,1,1,1,1,1,1,1,1,1,1,1,1,1,1,1,1,1,1,1,1,1,1,1,1,1,1,1,1,1,1,1,1,1,1,1,1,1,1,1,1,1,1,1,1,1,1,1,1,1,1,1,1,1,1,1,1,1,1,1,1,1,1,1,1,1,1,1,1,1,1,1,1,1,1,1,1,1,1,1,1,1,1,6,2,1,1,72,3,1,1,7,3,1,1,2,1,2,5,1,1,2,1,1,1,1,5,1,1,1,1,5,12,1,2,1,1,1,1,2,1,2,1,1,1,4,1,1,1,1,1,2,12,3,1,1,1,2,1,1,2,1,1,1,2,3,3,2,2,1,1,2,1,1,1,4,1,2,1,1,3,2,1,1,1,1,1,1,1,1,2,2,1,1,1,1,1,3,1,4,1,1,1,1,1,1,2,1,2,1,1,1,3,1,1,2,4,1,1,1,1,1,4,1,1,1,1,6,2,1,1,73,3,5,1,1,3,2,7,1,2,1,3,1,3,1,1,1,4,2,1,1,2,2,5,1,3,1,1,1,2,1,1,1,1,5,1,1,1,1,1,1,1,16,1,1,1,1,1,1,1,1,1,2,1,1,1,2,4,1,4,2,5,12,1,2,2,1,4,1,1,1,1,2,2,1,1,2,1,1,1,1,2,1,1,4,1,1,2,1,1,1,1,1,1,1,1,2,12,3,1],\"type\":\"sunburst\"}],                        {\"template\":{\"data\":{\"bar\":[{\"error_x\":{\"color\":\"#2a3f5f\"},\"error_y\":{\"color\":\"#2a3f5f\"},\"marker\":{\"line\":{\"color\":\"#E5ECF6\",\"width\":0.5},\"pattern\":{\"fillmode\":\"overlay\",\"size\":10,\"solidity\":0.2}},\"type\":\"bar\"}],\"barpolar\":[{\"marker\":{\"line\":{\"color\":\"#E5ECF6\",\"width\":0.5},\"pattern\":{\"fillmode\":\"overlay\",\"size\":10,\"solidity\":0.2}},\"type\":\"barpolar\"}],\"carpet\":[{\"aaxis\":{\"endlinecolor\":\"#2a3f5f\",\"gridcolor\":\"white\",\"linecolor\":\"white\",\"minorgridcolor\":\"white\",\"startlinecolor\":\"#2a3f5f\"},\"baxis\":{\"endlinecolor\":\"#2a3f5f\",\"gridcolor\":\"white\",\"linecolor\":\"white\",\"minorgridcolor\":\"white\",\"startlinecolor\":\"#2a3f5f\"},\"type\":\"carpet\"}],\"choropleth\":[{\"colorbar\":{\"outlinewidth\":0,\"ticks\":\"\"},\"type\":\"choropleth\"}],\"contour\":[{\"colorbar\":{\"outlinewidth\":0,\"ticks\":\"\"},\"colorscale\":[[0.0,\"#0d0887\"],[0.1111111111111111,\"#46039f\"],[0.2222222222222222,\"#7201a8\"],[0.3333333333333333,\"#9c179e\"],[0.4444444444444444,\"#bd3786\"],[0.5555555555555556,\"#d8576b\"],[0.6666666666666666,\"#ed7953\"],[0.7777777777777778,\"#fb9f3a\"],[0.8888888888888888,\"#fdca26\"],[1.0,\"#f0f921\"]],\"type\":\"contour\"}],\"contourcarpet\":[{\"colorbar\":{\"outlinewidth\":0,\"ticks\":\"\"},\"type\":\"contourcarpet\"}],\"heatmap\":[{\"colorbar\":{\"outlinewidth\":0,\"ticks\":\"\"},\"colorscale\":[[0.0,\"#0d0887\"],[0.1111111111111111,\"#46039f\"],[0.2222222222222222,\"#7201a8\"],[0.3333333333333333,\"#9c179e\"],[0.4444444444444444,\"#bd3786\"],[0.5555555555555556,\"#d8576b\"],[0.6666666666666666,\"#ed7953\"],[0.7777777777777778,\"#fb9f3a\"],[0.8888888888888888,\"#fdca26\"],[1.0,\"#f0f921\"]],\"type\":\"heatmap\"}],\"heatmapgl\":[{\"colorbar\":{\"outlinewidth\":0,\"ticks\":\"\"},\"colorscale\":[[0.0,\"#0d0887\"],[0.1111111111111111,\"#46039f\"],[0.2222222222222222,\"#7201a8\"],[0.3333333333333333,\"#9c179e\"],[0.4444444444444444,\"#bd3786\"],[0.5555555555555556,\"#d8576b\"],[0.6666666666666666,\"#ed7953\"],[0.7777777777777778,\"#fb9f3a\"],[0.8888888888888888,\"#fdca26\"],[1.0,\"#f0f921\"]],\"type\":\"heatmapgl\"}],\"histogram\":[{\"marker\":{\"pattern\":{\"fillmode\":\"overlay\",\"size\":10,\"solidity\":0.2}},\"type\":\"histogram\"}],\"histogram2d\":[{\"colorbar\":{\"outlinewidth\":0,\"ticks\":\"\"},\"colorscale\":[[0.0,\"#0d0887\"],[0.1111111111111111,\"#46039f\"],[0.2222222222222222,\"#7201a8\"],[0.3333333333333333,\"#9c179e\"],[0.4444444444444444,\"#bd3786\"],[0.5555555555555556,\"#d8576b\"],[0.6666666666666666,\"#ed7953\"],[0.7777777777777778,\"#fb9f3a\"],[0.8888888888888888,\"#fdca26\"],[1.0,\"#f0f921\"]],\"type\":\"histogram2d\"}],\"histogram2dcontour\":[{\"colorbar\":{\"outlinewidth\":0,\"ticks\":\"\"},\"colorscale\":[[0.0,\"#0d0887\"],[0.1111111111111111,\"#46039f\"],[0.2222222222222222,\"#7201a8\"],[0.3333333333333333,\"#9c179e\"],[0.4444444444444444,\"#bd3786\"],[0.5555555555555556,\"#d8576b\"],[0.6666666666666666,\"#ed7953\"],[0.7777777777777778,\"#fb9f3a\"],[0.8888888888888888,\"#fdca26\"],[1.0,\"#f0f921\"]],\"type\":\"histogram2dcontour\"}],\"mesh3d\":[{\"colorbar\":{\"outlinewidth\":0,\"ticks\":\"\"},\"type\":\"mesh3d\"}],\"parcoords\":[{\"line\":{\"colorbar\":{\"outlinewidth\":0,\"ticks\":\"\"}},\"type\":\"parcoords\"}],\"pie\":[{\"automargin\":true,\"type\":\"pie\"}],\"scatter\":[{\"marker\":{\"colorbar\":{\"outlinewidth\":0,\"ticks\":\"\"}},\"type\":\"scatter\"}],\"scatter3d\":[{\"line\":{\"colorbar\":{\"outlinewidth\":0,\"ticks\":\"\"}},\"marker\":{\"colorbar\":{\"outlinewidth\":0,\"ticks\":\"\"}},\"type\":\"scatter3d\"}],\"scattercarpet\":[{\"marker\":{\"colorbar\":{\"outlinewidth\":0,\"ticks\":\"\"}},\"type\":\"scattercarpet\"}],\"scattergeo\":[{\"marker\":{\"colorbar\":{\"outlinewidth\":0,\"ticks\":\"\"}},\"type\":\"scattergeo\"}],\"scattergl\":[{\"marker\":{\"colorbar\":{\"outlinewidth\":0,\"ticks\":\"\"}},\"type\":\"scattergl\"}],\"scattermapbox\":[{\"marker\":{\"colorbar\":{\"outlinewidth\":0,\"ticks\":\"\"}},\"type\":\"scattermapbox\"}],\"scatterpolar\":[{\"marker\":{\"colorbar\":{\"outlinewidth\":0,\"ticks\":\"\"}},\"type\":\"scatterpolar\"}],\"scatterpolargl\":[{\"marker\":{\"colorbar\":{\"outlinewidth\":0,\"ticks\":\"\"}},\"type\":\"scatterpolargl\"}],\"scatterternary\":[{\"marker\":{\"colorbar\":{\"outlinewidth\":0,\"ticks\":\"\"}},\"type\":\"scatterternary\"}],\"surface\":[{\"colorbar\":{\"outlinewidth\":0,\"ticks\":\"\"},\"colorscale\":[[0.0,\"#0d0887\"],[0.1111111111111111,\"#46039f\"],[0.2222222222222222,\"#7201a8\"],[0.3333333333333333,\"#9c179e\"],[0.4444444444444444,\"#bd3786\"],[0.5555555555555556,\"#d8576b\"],[0.6666666666666666,\"#ed7953\"],[0.7777777777777778,\"#fb9f3a\"],[0.8888888888888888,\"#fdca26\"],[1.0,\"#f0f921\"]],\"type\":\"surface\"}],\"table\":[{\"cells\":{\"fill\":{\"color\":\"#EBF0F8\"},\"line\":{\"color\":\"white\"}},\"header\":{\"fill\":{\"color\":\"#C8D4E3\"},\"line\":{\"color\":\"white\"}},\"type\":\"table\"}]},\"layout\":{\"annotationdefaults\":{\"arrowcolor\":\"#2a3f5f\",\"arrowhead\":0,\"arrowwidth\":1},\"autotypenumbers\":\"strict\",\"coloraxis\":{\"colorbar\":{\"outlinewidth\":0,\"ticks\":\"\"}},\"colorscale\":{\"diverging\":[[0,\"#8e0152\"],[0.1,\"#c51b7d\"],[0.2,\"#de77ae\"],[0.3,\"#f1b6da\"],[0.4,\"#fde0ef\"],[0.5,\"#f7f7f7\"],[0.6,\"#e6f5d0\"],[0.7,\"#b8e186\"],[0.8,\"#7fbc41\"],[0.9,\"#4d9221\"],[1,\"#276419\"]],\"sequential\":[[0.0,\"#0d0887\"],[0.1111111111111111,\"#46039f\"],[0.2222222222222222,\"#7201a8\"],[0.3333333333333333,\"#9c179e\"],[0.4444444444444444,\"#bd3786\"],[0.5555555555555556,\"#d8576b\"],[0.6666666666666666,\"#ed7953\"],[0.7777777777777778,\"#fb9f3a\"],[0.8888888888888888,\"#fdca26\"],[1.0,\"#f0f921\"]],\"sequentialminus\":[[0.0,\"#0d0887\"],[0.1111111111111111,\"#46039f\"],[0.2222222222222222,\"#7201a8\"],[0.3333333333333333,\"#9c179e\"],[0.4444444444444444,\"#bd3786\"],[0.5555555555555556,\"#d8576b\"],[0.6666666666666666,\"#ed7953\"],[0.7777777777777778,\"#fb9f3a\"],[0.8888888888888888,\"#fdca26\"],[1.0,\"#f0f921\"]]},\"colorway\":[\"#636efa\",\"#EF553B\",\"#00cc96\",\"#ab63fa\",\"#FFA15A\",\"#19d3f3\",\"#FF6692\",\"#B6E880\",\"#FF97FF\",\"#FECB52\"],\"font\":{\"color\":\"#2a3f5f\"},\"geo\":{\"bgcolor\":\"white\",\"lakecolor\":\"white\",\"landcolor\":\"#E5ECF6\",\"showlakes\":true,\"showland\":true,\"subunitcolor\":\"white\"},\"hoverlabel\":{\"align\":\"left\"},\"hovermode\":\"closest\",\"mapbox\":{\"style\":\"light\"},\"paper_bgcolor\":\"white\",\"plot_bgcolor\":\"#E5ECF6\",\"polar\":{\"angularaxis\":{\"gridcolor\":\"white\",\"linecolor\":\"white\",\"ticks\":\"\"},\"bgcolor\":\"#E5ECF6\",\"radialaxis\":{\"gridcolor\":\"white\",\"linecolor\":\"white\",\"ticks\":\"\"}},\"scene\":{\"xaxis\":{\"backgroundcolor\":\"#E5ECF6\",\"gridcolor\":\"white\",\"gridwidth\":2,\"linecolor\":\"white\",\"showbackground\":true,\"ticks\":\"\",\"zerolinecolor\":\"white\"},\"yaxis\":{\"backgroundcolor\":\"#E5ECF6\",\"gridcolor\":\"white\",\"gridwidth\":2,\"linecolor\":\"white\",\"showbackground\":true,\"ticks\":\"\",\"zerolinecolor\":\"white\"},\"zaxis\":{\"backgroundcolor\":\"#E5ECF6\",\"gridcolor\":\"white\",\"gridwidth\":2,\"linecolor\":\"white\",\"showbackground\":true,\"ticks\":\"\",\"zerolinecolor\":\"white\"}},\"shapedefaults\":{\"line\":{\"color\":\"#2a3f5f\"}},\"ternary\":{\"aaxis\":{\"gridcolor\":\"white\",\"linecolor\":\"white\",\"ticks\":\"\"},\"baxis\":{\"gridcolor\":\"white\",\"linecolor\":\"white\",\"ticks\":\"\"},\"bgcolor\":\"#E5ECF6\",\"caxis\":{\"gridcolor\":\"white\",\"linecolor\":\"white\",\"ticks\":\"\"}},\"title\":{\"x\":0.05},\"xaxis\":{\"automargin\":true,\"gridcolor\":\"white\",\"linecolor\":\"white\",\"ticks\":\"\",\"title\":{\"standoff\":15},\"zerolinecolor\":\"white\",\"zerolinewidth\":2},\"yaxis\":{\"automargin\":true,\"gridcolor\":\"white\",\"linecolor\":\"white\",\"ticks\":\"\",\"title\":{\"standoff\":15},\"zerolinecolor\":\"white\",\"zerolinewidth\":2}}},\"legend\":{\"tracegroupgap\":0},\"margin\":{\"t\":60}},                        {\"responsive\": true}                    ).then(function(){\n",
              "                            \n",
              "var gd = document.getElementById('4dc0e469-7adb-4ad3-934e-e55369ef296b');\n",
              "var x = new MutationObserver(function (mutations, observer) {{\n",
              "        var display = window.getComputedStyle(gd).display;\n",
              "        if (!display || display === 'none') {{\n",
              "            console.log([gd, 'removed!']);\n",
              "            Plotly.purge(gd);\n",
              "            observer.disconnect();\n",
              "        }}\n",
              "}});\n",
              "\n",
              "// Listen for the removal of the full notebook cells\n",
              "var notebookContainer = gd.closest('#notebook-container');\n",
              "if (notebookContainer) {{\n",
              "    x.observe(notebookContainer, {childList: true});\n",
              "}}\n",
              "\n",
              "// Listen for the clearing of the current output cell\n",
              "var outputEl = gd.closest('.output');\n",
              "if (outputEl) {{\n",
              "    x.observe(outputEl, {childList: true});\n",
              "}}\n",
              "\n",
              "                        })                };                            </script>        </div>\n",
              "</body>\n",
              "</html>"
            ]
          },
          "metadata": {}
        }
      ]
    },
    {
      "cell_type": "code",
      "source": [
        "fig = px.treemap(df_th, path=['City','State/Province', 'Store Name'])\n",
        "fig.show()"
      ],
      "metadata": {
        "colab": {
          "base_uri": "https://localhost:8080/",
          "height": 542
        },
        "id": "KngJFO917ypB",
        "outputId": "dd0e0477-acff-4b04-e2f9-1ec9573b736b"
      },
      "execution_count": null,
      "outputs": [
        {
          "output_type": "display_data",
          "data": {
            "text/html": [
              "<html>\n",
              "<head><meta charset=\"utf-8\" /></head>\n",
              "<body>\n",
              "    <div>            <script src=\"https://cdnjs.cloudflare.com/ajax/libs/mathjax/2.7.5/MathJax.js?config=TeX-AMS-MML_SVG\"></script><script type=\"text/javascript\">if (window.MathJax) {MathJax.Hub.Config({SVG: {font: \"STIX-Web\"}});}</script>                <script type=\"text/javascript\">window.PlotlyConfig = {MathJaxConfig: 'local'};</script>\n",
              "        <script src=\"https://cdn.plot.ly/plotly-2.8.3.min.js\"></script>                <div id=\"785e0f72-9619-4638-a1c2-eeda0fae5a4f\" class=\"plotly-graph-div\" style=\"height:525px; width:100%;\"></div>            <script type=\"text/javascript\">                                    window.PLOTLYENV=window.PLOTLYENV || {};                                    if (document.getElementById(\"785e0f72-9619-4638-a1c2-eeda0fae5a4f\")) {                    Plotly.newPlot(                        \"785e0f72-9619-4638-a1c2-eeda0fae5a4f\",                        [{\"branchvalues\":\"total\",\"domain\":{\"x\":[0.0,1.0],\"y\":[0.0,1.0]},\"hovertemplate\":\"labels=%{label}<br>count=%{value}<br>parent=%{parent}<br>id=%{id}<extra></extra>\",\"ids\":[\"Bangkok/10/A Link Square\",\"Bangkok/10/Abdulrahim Place\",\"Patumwan/10/All Season Place\",\"Bangkok/10/All Season Place 2\",\"Patumwan/10/Amarin\",\"Bangkok/10/Amorini\",\"Muang Krabi/81/Ao Nang Cliff Beach-Krabi\",\"Samut Prakan/11/At United Bangna\",\"Bangkok/10/Athenee Tower\",\"Pathum Thani/13/Auto Mall - Navanakorn\",\"Phra Nakhon Si Ayutthaya/14/Ayutthaya City Park\",\"Saimai/10/B.Care Medical Center Hospital\",\"Patumwan/10/B2S (Chidlom2)\",\"Pranakorn/10/Baan Chart\",\"Bangrak/10/Baan Silom\",\"Ayutthaya/14/Baan Yai Wangnoi\",\"Phuket/83/Banana Walk Phuket\",\"Sathorn/10/Bangkok City\",\"Wangtonglang/10/Bangkok Hospital\",\"Klongtoey/10/Bangkok Mediplex\",\"Wangtonglang/10/Bangkok Plaza-BKH2\",\"Bangna/10/Bangna\",\"Chomthong/10/Bangpakok9 Inter Hosp\",\"Nonthaburi/10/Bee Hive\",\"Yannawa/10/Belle Park\",\"Muang,/43/Big Jieng NongKhai\",\"Koh Samui/84/BigC Samui\",\"Prachuap Khirikhan/77/Blu Port Hua Hin\",\"Bangrak/10/Boonmitr Building\",\"Wattana/10/Bumrungrad Hospital\",\"Wattana/10/Bumrungrad Hospital 2\",\"Bangkapi/10/CDC\",\"Bangkok/10/CTI Tower\",\"Bangkok/10/Camp Davis\",\"Klongtoey/10/Carrefour Rama IV\",\"Bangkok/10/Central Bangna 1st Floor\",\"Bangkok/10/Central Chaengwattana\",\"Muang Chiangrai/57/Central Chiangrai\",\"Muang/20/Central Chonburi\",\"Bangkok/10/Central East Ville-Fashion Zone\",\"Bangkok/10/Central East Ville-Think Spaze\",\"Bangkok/10/Central Embassy\",\"Chaing Mai/50/Central Festival Chiang Mai\",\"Songkhla/90/Central Festival Hat Yai\",\"Banglamung/S/Central Festival Pattaya\",\"Surat Thani/84/Central Festival Samui\",\"Muang/40/Central Khonkaen\",\"Muang/52/Central Lampang\",\"Chon Buri/20/Central Marina\",\"Nakhonsithamarat/80/Central Nakhonsithammarat\",\"Muang Phitsanulok/65/Central Phitsanulok\",\"Muang/83/Central Phuket\",\"Rayong/21/Central Plaza Rayong\",\"Nakhon Pathom/73/Central Plaza Salaya\",\"Yannawa/10/Central Rama 3\",\"Huay Kwang/10/Central Rama 9\",\"Bangkhen/10/Central Ramindra\",\"Muang/84/Central Suratthani\",\"Muang Ubon Ratchathani/34/Central Ubonratchathani\",\"Muang Udon Thani/41/Central Udon Thani\",\"Nontha Buri/12/Central West Gate-1st Floor\",\"Nontha Buri/12/Central West Gate-2nd Floor\",\"Pathumwan/10/Central World Plaza-Third Floor\",\"Pathumwan/10/Chamchuri Square\",\"Muang/50/Chiangmai\",\"Chiang Mai/50/Chiangmai Airport\",\"Muang/50/Chiangmai Nimmanhemin\",\"Chiang Mai/50/Chiangmai Ram Hospital\",\"Muang/50/Chiangmai Tha Pae\",\"Muang/50/Chiangmai2\",\"Wattana/10/Citi Resort\",\"Bangphi/11/ConcourseB-Airside-SAP\",\"Bangluck/10/Convent\",\"Don Muang/10/DonMuang Airport (Domestic)\",\"Don Muang/10/DonMuang Airport (Inter)\",\"Bangkok/10/Ease Park\",\"Sathorn/10/Empire Tower\",\"Bangkok/10/Emporium Atelier\",\"Klongtoey/10/Emporium Mall\",\"Klongtoey/10/Emporium Tower\",\"Bangkok/10/Emquartier\",\"klongtoey/10/Exchange Tower\",\"Khannayao/10/Fashion Island-\",\"Bangkok/10/Fashion Island-2nd Floor\",\"Phra Nakhon Si Ayutthaya/14/Fast Fac\",\"Bangkok/10/Food Villa\",\"Bangkok/10/Fortune Town\",\"Thunburi/13/Future Park Rangsit\",\"Bangkok/10/Gaysorn Shopping Centre\",\"Wattana/10/Grammy\",\"Klong Toey/10/Grand 5\",\"Bangkok/10/Grand China Hotel\",\"Phayathai/10/Grand Diamond Plaza - Bangkok\",\"Bangkok/10/Grand President Hotel\",\"Bangkok/10/Ha Ha\",\"Bangkok/10/Happy Avenue Ladprao 101\",\"Sriracha/20/Harbormall Laemchabung\",\"Chonburi/20/Harbormall Pattaya Klang\",\"Muang/12/HomeWorks Rattanathibeth\",\"Phuket/83/Homepro Village Phuket Chalong\",\"Hua Hin/77/Hua Hin\",\"Hua Hin/77/Hua Hin Market Village\",\"Rajthewi/10/IDEO Phayathai\",\"Bangkok/10/Ideo Mobi Charan-Interchange\",\"Bangkok/10/Ideo Q Chula-Samyan\",\"Bangkok/10/Im Park Sam Yan\",\"Pakkred/12/Impact\",\"Pakkred/10/Impact Challenger\",\"Yannawa/10/Int Rama 3\",\"Huaykwang/10/Ital Thai Tower\",\"Bangkok/11/JAS Urban Srinakarin\",\"Wattana/10/Jasmine City\",\"Kathu/83/Jungceylon 2\",\"Kathu/83/Jungceylon Patong\",\"Chiangmai/50/Kad Farang\",\"Muang Chiangmai/50/Kad Suan Kaew\",\"Bangkok/10/Kasetsart University\",\"Muang/83/Kata Center-Karon-phuket\",\"Katu/83/La Flora Avenue - Patong - Phuket\",\"Chatuchak/10/Ladprao\",\"Chonburi/20/Laemthong Bangsaen\",\"Muang Rayong/21/Laemthong Rayong\",\"Patumwan/10/Langsuan\",\"Sathorn/10/Life Center\",\"Bangkok/10/Little Walk Bangna\",\"Phuket/83/Lotus Phuket\",\"Muang/11/Lotus Srinakarin-Samut Prakarn\",\"Bangkok/10/Lotus Sukhapiban 1\",\"Huay Kwang/10/M Theatre-New Petchburi Road\",\"Bangkok/10/MBK-Pathumwan Princess Hotel\",\"Patumwan/10/MBK-SF Cinema City\",\"Patumwan/10/Mahboonkrong\",\"Bangkok Noi/10/Major Pinklao\",\"Samutprakarn/11/Market Village Suvarnabhumi\",\"Chiang Mai/50/Maya Chiang Mai\",\"Bang Plea/11/Mega Bangna\",\"Bangkok/10/Mercury Ville\",\"Bangkok/10/Metro West Town\",\"Bangrak/10/Montien\",\"Bangpakong/24/Motorway Inbound\",\"Chachoengsao/24/Motorway Inbound 2\",\"Bangpakong/24/Motorway Outbound\",\"Bangpakong/24/Motorway Outbound 2\",\"Huaykwang/10/Muang Thai Phatra\",\"Wattana/10/Nana Square\",\"Pakkred/12/Nichada Thani\",\"Hatyai/90/Odean Fashion Mall\",\"Patumwan/10/Office Central World\",\"Pakchong/30/Outlet Village-KhaoYai\",\"Sriracha/20/Pacific Park Sriracha\",\"Prawet/10/Paradise Park - Bangkok\",\"Bangkok/10/Paseo Mall Ladkrabang\",\"Bangkok/10/Paseo Town Ramkhamhaeng\",\"Banglamung/S/Pattaya\",\"Wangthonglang/10/PharMax\",\"Kratoo/83/Phuket\",\"Phuket/83/Phuket Airport-Landside\",\"Bangkok/10/Phyathai 2 Hospital\",\"Bangkok/10/Phyathai 3 Hospital\",\"Bangkok Noi/10/Pinklao-Relo\",\"Bangkok/10/Platinum Novotel Pratunum\",\"Bangkok/10/Platinum Pratunam Basement\",\"Bangkok/10/Plearnary Mall Watcharapol\",\"Klongtey/10/Ploenchit Center\",\"Muang/74/Porto Chino\",\"Bangkok/10/Praram 9 Hospital\",\"Saphansung/10/Pure Place Sammakorn - Bangkok\",\"Bangkok/10/Quartier Cineart\",\"Klongtoey/10/Queen Sirikit Center\",\"Huaykwang/10/RCA\",\"Bangkhuntien/10/Rama2\",\"Ratchathewi/10/Ramathibodi Hospital\",\"Prathumthani/13/Rangsit University\",\"Bangkhorlaem/10/Riverside Garden\",\"Bangkok/10/Riverside Plaza\",\"Bangkok/10/Robinson Bangrak\",\"Burirum/31/Robinson Burirum\",\"Chachoengsao/24/Robinson Chachoengsao\",\"Lopburi/16/Robinson Lopburi\",\"Ratchaburi/70/Robinson Ratchaburi\",\"Roi Et/45/Robinson Roi Et\",\"Samutprakarn/11/Robinson Samutprakarn\",\"Saraburi/10/Robinson Saraburi\",\"Nonthaburi/12/Robinson Srisamarn\",\"Surin/32/Robinson Surin\",\"Banglamung/S/Royal Garden Pattaya\",\"Chatuchak/10/SCB\",\"Bangkok/10/SCG Experience\",\"Bangkok/10/SCG Head Office 3\",\"Lanksi/12/SF Chaengwattana\",\"Ladprao/10/SF Nawamin City Avenue\",\"Banglamung/20/SF Pattaya\",\"Phayathai/10/SF Phaholyothin\",\"Prakanong/10/SF Piyarom\",\"Chatuchak/10/SFX Ladprao\",\"Pomprabsutrupai/10/SOHO\",\"Wattana/10/Samitivej Hospital\",\"Suanluang/10/Samitivej Srinakarin Hospital\",\"Chonburi/20/Samitivej Sriracha Hospital\",\"Sathorn/10/Sathorn City Tower\",\"Bangkok/10/Sathorn Square\",\"Prawet/10/Seacon Square\",\"Phasi Charoen/10/Seacon Square Bangkae\",\"Klongsan/10/Sena Fest\",\"Maha Sarakham/44/Sermthai Complex\",\"Ratchathewi/10/Shibuya 19.\",\"Bangkok/10/Show DC\",\"Bangkok/10/Siam Center\",\"Bangkok/10/Siam Discovery\",\"Wattana/10/Siam Future Ekkamai\",\"Huaykwang/10/Siam Future Esplanade\",\"Klongklum/10/Siam Future Nawamin\",\"Chatujak/10/Siam Future Ratchayothin\",\"Pathumwan/10/Siam Paragon 1st Floor\",\"Patumwan/10/Siam Paragon-Major\",\"Patumwan/10/Siam Paragon-QConcept\",\"Patumwan/10/Siam Paragon-Street Level\",\"Pathumwan/10/Siam Square - Block L\",\"Bangkok/10/Siam Square 1\",\"Bangkok/10/Sikarin Hospital\",\"Bangrak/10/Silom Complex\",\"Patumwan/10/Sindhorn Tower\",\"Bangkok Noi/10/Siriraj Hospital\",\"Pakkred/12/Sport City\",\"Klong-toey Nua/10/Srinakharinwirot University\",\"Bangrak/10/State Tower\",\"Bangkok/10/Station One\",\"Bangkok/10/Suanplern Market\",\"Bangkok/10/Sun Towers\",\"Ubon Ratchathani/34/Sunee Tower\",\"Dusit/10/Supreme Plaza - Bangkok\",\"Bangphi/11/Suvarnabhumi Airport\",\"Wattana/10/Terminal 21\",\"Nakhon Ratchasima/30/Terminal 21 Korat\",\"Phranakorn/10/Tha Maharaj\",\"Prathumthani/13/Thammasat U. Rangsit Library\",\"Pathumwan/10/The 19th Chidlom - Bangkok\",\"Wattana/10/The 49 Terrace\",\"Chonburi/20/The Bay Pattaya\",\"Bangkok/10/The Bright Rama 2\",\"Talingchan/10/The Circle Ratchapruk-Bangkok\",\"Lardprao/10/The Crystal\",\"Nonthaburi/12/The Crystal PTT Chaiyapruek\",\"Nonthaburi/12/The Crystal Ratchapruek\",\"Bangkok/10/The JAS Ramintra\",\"Bangkok/10/The JAS Wanghin\",\"Bangkapi/10/The Mall 3 Ramkhamhaeng\",\"Bangkae/10/The Mall Bangkae\",\"Bangkapi/10/The Mall Bangkapi G/F\",\"Bangkok/10/The Mall Bangkapi-4th Floor\",\"Bangkapi/10/The Mall Bangkapi-Main Hall\",\"Muang Nakhonratchasima/30/The Mall Khorat\",\"Bangkhen/10/The Mall Ngamwongwan-GF\",\"Thonburi/10/The Mall Tha Phra-Main Hall\",\"Nakhon Pathom/73/The Mood\",\"Saunlaung/10/The Nine Neighborhood Center\",\"Bangkok/10/The Ninth Towers\",\"Bangkok/10/The Paseo Park Kanchanaphisek\",\"Kannayao/10/The Promenade\",\"Bangkok/10/The Rest Area at Prachachuen\",\"Bangkapi/10/The Scene Town in Town\",\"Bangkok/10/The Street\",\"Bangkok/10/The Walk Kaset Nawamintra\",\"Bang Kruai/12/The Walk Ratchapruek\",\"Bangkok/10/The X Place\",\"Wattana/10/Thonglor\",\"Wattana/10/Thonglor2\",\"Klong Toey/10/Time Square\",\"Bangkok/10/Tree on 3\",\"Muang/40/Tuk Com KhonKaen\",\"Banglamung/S/Tuk Com Pattaya\",\"Muang/41/Tuk Com Udon\",\"Kathu/83/Twilight of Bangla\",\"Bangrak/10/U Chu Liang\",\"Huaykwang/10/U-Place\",\"Bangkok/10/UBC 2\",\"Muang/41/UD Town\",\"Bangrak/10/United Center\",\"Bangkok/10/V Market\",\"Nakhonsawan/60/V-Square Plaza\",\"Bangkok/10/Vanilla Moon\",\"Bangkok/10/Vanit Place\",\"Bangkapi/10/Vejthani Hospital\",\"Bangkok/10/Victoria Garden\",\"Bangkok/10/Wangburapha\",\"Patumwan/10/World Trade Center\",\"Khon Kaen/40/Wufoo Khonkaen\",\"Bangkok/10/Yodpiman River Walk\",\"Pathum Thani/13/ZPELL\",\"Bangkae/10\",\"Bangkapi/10\",\"Bangkhen/10\",\"Bangkhorlaem/10\",\"Bangkhuntien/10\",\"Bangkok/10\",\"Bangkok Noi/10\",\"Bangluck/10\",\"Bangna/10\",\"Bangrak/10\",\"Chatuchak/10\",\"Chatujak/10\",\"Chomthong/10\",\"Don Muang/10\",\"Dusit/10\",\"Huay Kwang/10\",\"Huaykwang/10\",\"Kannayao/10\",\"Khannayao/10\",\"Klong Toey/10\",\"Klong-toey Nua/10\",\"Klongklum/10\",\"Klongsan/10\",\"Klongtey/10\",\"Klongtoey/10\",\"Ladprao/10\",\"Lardprao/10\",\"Nonthaburi/10\",\"Pakkred/10\",\"Pathumwan/10\",\"Patumwan/10\",\"Phasi Charoen/10\",\"Phayathai/10\",\"Phranakorn/10\",\"Pomprabsutrupai/10\",\"Prakanong/10\",\"Pranakorn/10\",\"Prawet/10\",\"Rajthewi/10\",\"Ratchathewi/10\",\"Saimai/10\",\"Saphansung/10\",\"Saraburi/10\",\"Sathorn/10\",\"Saunlaung/10\",\"Suanluang/10\",\"Talingchan/10\",\"Thonburi/10\",\"Wangthonglang/10\",\"Wangtonglang/10\",\"Wattana/10\",\"Yannawa/10\",\"klongtoey/10\",\"Bang Plea/11\",\"Bangkok/11\",\"Bangphi/11\",\"Muang/11\",\"Samut Prakan/11\",\"Samutprakarn/11\",\"Bang Kruai/12\",\"Lanksi/12\",\"Muang/12\",\"Nontha Buri/12\",\"Nonthaburi/12\",\"Pakkred/12\",\"Pathum Thani/13\",\"Prathumthani/13\",\"Thunburi/13\",\"Ayutthaya/14\",\"Phra Nakhon Si Ayutthaya/14\",\"Lopburi/16\",\"Banglamung/20\",\"Chon Buri/20\",\"Chonburi/20\",\"Muang/20\",\"Sriracha/20\",\"Muang Rayong/21\",\"Rayong/21\",\"Bangpakong/24\",\"Chachoengsao/24\",\"Muang Nakhonratchasima/30\",\"Nakhon Ratchasima/30\",\"Pakchong/30\",\"Burirum/31\",\"Surin/32\",\"Muang Ubon Ratchathani/34\",\"Ubon Ratchathani/34\",\"Khon Kaen/40\",\"Muang/40\",\"Muang/41\",\"Muang Udon Thani/41\",\"Muang,/43\",\"Maha Sarakham/44\",\"Roi Et/45\",\"Chaing Mai/50\",\"Chiang Mai/50\",\"Chiangmai/50\",\"Muang/50\",\"Muang Chiangmai/50\",\"Muang/52\",\"Muang Chiangrai/57\",\"Nakhonsawan/60\",\"Muang Phitsanulok/65\",\"Ratchaburi/70\",\"Nakhon Pathom/73\",\"Muang/74\",\"Hua Hin/77\",\"Prachuap Khirikhan/77\",\"Nakhonsithamarat/80\",\"Muang Krabi/81\",\"Kathu/83\",\"Katu/83\",\"Kratoo/83\",\"Muang/83\",\"Phuket/83\",\"Koh Samui/84\",\"Muang/84\",\"Surat Thani/84\",\"Hatyai/90\",\"Songkhla/90\",\"Banglamung/S\",\"Ayutthaya\",\"Bang Kruai\",\"Bang Plea\",\"Bangkae\",\"Bangkapi\",\"Bangkhen\",\"Bangkhorlaem\",\"Bangkhuntien\",\"Bangkok\",\"Bangkok Noi\",\"Banglamung\",\"Bangluck\",\"Bangna\",\"Bangpakong\",\"Bangphi\",\"Bangrak\",\"Burirum\",\"Chachoengsao\",\"Chaing Mai\",\"Chatuchak\",\"Chatujak\",\"Chiang Mai\",\"Chiangmai\",\"Chomthong\",\"Chon Buri\",\"Chonburi\",\"Don Muang\",\"Dusit\",\"Hatyai\",\"Hua Hin\",\"Huay Kwang\",\"Huaykwang\",\"Kannayao\",\"Kathu\",\"Katu\",\"Khannayao\",\"Khon Kaen\",\"Klong Toey\",\"Klong-toey Nua\",\"Klongklum\",\"Klongsan\",\"Klongtey\",\"Klongtoey\",\"Koh Samui\",\"Kratoo\",\"Ladprao\",\"Lanksi\",\"Lardprao\",\"Lopburi\",\"Maha Sarakham\",\"Muang\",\"Muang Chiangmai\",\"Muang Chiangrai\",\"Muang Krabi\",\"Muang Nakhonratchasima\",\"Muang Phitsanulok\",\"Muang Rayong\",\"Muang Ubon Ratchathani\",\"Muang Udon Thani\",\"Muang,\",\"Nakhon Pathom\",\"Nakhon Ratchasima\",\"Nakhonsawan\",\"Nakhonsithamarat\",\"Nontha Buri\",\"Nonthaburi\",\"Pakchong\",\"Pakkred\",\"Pathum Thani\",\"Pathumwan\",\"Patumwan\",\"Phasi Charoen\",\"Phayathai\",\"Phra Nakhon Si Ayutthaya\",\"Phranakorn\",\"Phuket\",\"Pomprabsutrupai\",\"Prachuap Khirikhan\",\"Prakanong\",\"Pranakorn\",\"Prathumthani\",\"Prawet\",\"Rajthewi\",\"Ratchaburi\",\"Ratchathewi\",\"Rayong\",\"Roi Et\",\"Saimai\",\"Samut Prakan\",\"Samutprakarn\",\"Saphansung\",\"Saraburi\",\"Sathorn\",\"Saunlaung\",\"Songkhla\",\"Sriracha\",\"Suanluang\",\"Surat Thani\",\"Surin\",\"Talingchan\",\"Thonburi\",\"Thunburi\",\"Ubon Ratchathani\",\"Wangthonglang\",\"Wangtonglang\",\"Wattana\",\"Yannawa\",\"klongtoey\"],\"labels\":[\"A Link Square\",\"Abdulrahim Place\",\"All Season Place\",\"All Season Place 2\",\"Amarin\",\"Amorini\",\"Ao Nang Cliff Beach-Krabi\",\"At United Bangna\",\"Athenee Tower\",\"Auto Mall - Navanakorn\",\"Ayutthaya City Park\",\"B.Care Medical Center Hospital\",\"B2S (Chidlom2)\",\"Baan Chart\",\"Baan Silom\",\"Baan Yai Wangnoi\",\"Banana Walk Phuket\",\"Bangkok City\",\"Bangkok Hospital\",\"Bangkok Mediplex\",\"Bangkok Plaza-BKH2\",\"Bangna\",\"Bangpakok9 Inter Hosp\",\"Bee Hive\",\"Belle Park\",\"Big Jieng NongKhai\",\"BigC Samui\",\"Blu Port Hua Hin\",\"Boonmitr Building\",\"Bumrungrad Hospital\",\"Bumrungrad Hospital 2\",\"CDC\",\"CTI Tower\",\"Camp Davis\",\"Carrefour Rama IV\",\"Central Bangna 1st Floor\",\"Central Chaengwattana\",\"Central Chiangrai\",\"Central Chonburi\",\"Central East Ville-Fashion Zone\",\"Central East Ville-Think Spaze\",\"Central Embassy\",\"Central Festival Chiang Mai\",\"Central Festival Hat Yai\",\"Central Festival Pattaya\",\"Central Festival Samui\",\"Central Khonkaen\",\"Central Lampang\",\"Central Marina\",\"Central Nakhonsithammarat\",\"Central Phitsanulok\",\"Central Phuket\",\"Central Plaza Rayong\",\"Central Plaza Salaya\",\"Central Rama 3\",\"Central Rama 9\",\"Central Ramindra\",\"Central Suratthani\",\"Central Ubonratchathani\",\"Central Udon Thani\",\"Central West Gate-1st Floor\",\"Central West Gate-2nd Floor\",\"Central World Plaza-Third Floor\",\"Chamchuri Square\",\"Chiangmai\",\"Chiangmai Airport\",\"Chiangmai Nimmanhemin\",\"Chiangmai Ram Hospital\",\"Chiangmai Tha Pae\",\"Chiangmai2\",\"Citi Resort\",\"ConcourseB-Airside-SAP\",\"Convent\",\"DonMuang Airport (Domestic)\",\"DonMuang Airport (Inter)\",\"Ease Park\",\"Empire Tower\",\"Emporium Atelier\",\"Emporium Mall\",\"Emporium Tower\",\"Emquartier\",\"Exchange Tower\",\"Fashion Island-\",\"Fashion Island-2nd Floor\",\"Fast Fac\",\"Food Villa\",\"Fortune Town\",\"Future Park Rangsit\",\"Gaysorn Shopping Centre\",\"Grammy\",\"Grand 5\",\"Grand China Hotel\",\"Grand Diamond Plaza - Bangkok\",\"Grand President Hotel\",\"Ha Ha\",\"Happy Avenue Ladprao 101\",\"Harbormall Laemchabung\",\"Harbormall Pattaya Klang\",\"HomeWorks Rattanathibeth\",\"Homepro Village Phuket Chalong\",\"Hua Hin\",\"Hua Hin Market Village\",\"IDEO Phayathai\",\"Ideo Mobi Charan-Interchange\",\"Ideo Q Chula-Samyan\",\"Im Park Sam Yan\",\"Impact\",\"Impact Challenger\",\"Int Rama 3\",\"Ital Thai Tower\",\"JAS Urban Srinakarin\",\"Jasmine City\",\"Jungceylon 2\",\"Jungceylon Patong\",\"Kad Farang\",\"Kad Suan Kaew\",\"Kasetsart University\",\"Kata Center-Karon-phuket\",\"La Flora Avenue - Patong - Phuket\",\"Ladprao\",\"Laemthong Bangsaen\",\"Laemthong Rayong\",\"Langsuan\",\"Life Center\",\"Little Walk Bangna\",\"Lotus Phuket\",\"Lotus Srinakarin-Samut Prakarn\",\"Lotus Sukhapiban 1\",\"M Theatre-New Petchburi Road\",\"MBK-Pathumwan Princess Hotel\",\"MBK-SF Cinema City\",\"Mahboonkrong\",\"Major Pinklao\",\"Market Village Suvarnabhumi\",\"Maya Chiang Mai\",\"Mega Bangna\",\"Mercury Ville\",\"Metro West Town\",\"Montien\",\"Motorway Inbound\",\"Motorway Inbound 2\",\"Motorway Outbound\",\"Motorway Outbound 2\",\"Muang Thai Phatra\",\"Nana Square\",\"Nichada Thani\",\"Odean Fashion Mall\",\"Office Central World\",\"Outlet Village-KhaoYai\",\"Pacific Park Sriracha\",\"Paradise Park - Bangkok\",\"Paseo Mall Ladkrabang\",\"Paseo Town Ramkhamhaeng\",\"Pattaya\",\"PharMax\",\"Phuket\",\"Phuket Airport-Landside\",\"Phyathai 2 Hospital\",\"Phyathai 3 Hospital\",\"Pinklao-Relo\",\"Platinum Novotel Pratunum\",\"Platinum Pratunam Basement\",\"Plearnary Mall Watcharapol\",\"Ploenchit Center\",\"Porto Chino\",\"Praram 9 Hospital\",\"Pure Place Sammakorn - Bangkok\",\"Quartier Cineart\",\"Queen Sirikit Center\",\"RCA\",\"Rama2\",\"Ramathibodi Hospital\",\"Rangsit University\",\"Riverside Garden\",\"Riverside Plaza\",\"Robinson Bangrak\",\"Robinson Burirum\",\"Robinson Chachoengsao\",\"Robinson Lopburi\",\"Robinson Ratchaburi\",\"Robinson Roi Et\",\"Robinson Samutprakarn\",\"Robinson Saraburi\",\"Robinson Srisamarn\",\"Robinson Surin\",\"Royal Garden Pattaya\",\"SCB\",\"SCG Experience\",\"SCG Head Office 3\",\"SF Chaengwattana\",\"SF Nawamin City Avenue\",\"SF Pattaya\",\"SF Phaholyothin\",\"SF Piyarom\",\"SFX Ladprao\",\"SOHO\",\"Samitivej Hospital\",\"Samitivej Srinakarin Hospital\",\"Samitivej Sriracha Hospital\",\"Sathorn City Tower\",\"Sathorn Square\",\"Seacon Square\",\"Seacon Square Bangkae\",\"Sena Fest\",\"Sermthai Complex\",\"Shibuya 19.\",\"Show DC\",\"Siam Center\",\"Siam Discovery\",\"Siam Future Ekkamai\",\"Siam Future Esplanade\",\"Siam Future Nawamin\",\"Siam Future Ratchayothin\",\"Siam Paragon 1st Floor\",\"Siam Paragon-Major\",\"Siam Paragon-QConcept\",\"Siam Paragon-Street Level\",\"Siam Square - Block L\",\"Siam Square 1\",\"Sikarin Hospital\",\"Silom Complex\",\"Sindhorn Tower\",\"Siriraj Hospital\",\"Sport City\",\"Srinakharinwirot University\",\"State Tower\",\"Station One\",\"Suanplern Market\",\"Sun Towers\",\"Sunee Tower\",\"Supreme Plaza - Bangkok\",\"Suvarnabhumi Airport\",\"Terminal 21\",\"Terminal 21 Korat\",\"Tha Maharaj\",\"Thammasat U. Rangsit Library\",\"The 19th Chidlom - Bangkok\",\"The 49 Terrace\",\"The Bay Pattaya\",\"The Bright Rama 2\",\"The Circle Ratchapruk-Bangkok\",\"The Crystal\",\"The Crystal PTT Chaiyapruek\",\"The Crystal Ratchapruek\",\"The JAS Ramintra\",\"The JAS Wanghin\",\"The Mall 3 Ramkhamhaeng\",\"The Mall Bangkae\",\"The Mall Bangkapi G/F\",\"The Mall Bangkapi-4th Floor\",\"The Mall Bangkapi-Main Hall\",\"The Mall Khorat\",\"The Mall Ngamwongwan-GF\",\"The Mall Tha Phra-Main Hall\",\"The Mood\",\"The Nine Neighborhood Center\",\"The Ninth Towers\",\"The Paseo Park Kanchanaphisek\",\"The Promenade\",\"The Rest Area at Prachachuen\",\"The Scene Town in Town\",\"The Street\",\"The Walk Kaset Nawamintra\",\"The Walk Ratchapruek\",\"The X Place\",\"Thonglor\",\"Thonglor2\",\"Time Square\",\"Tree on 3\",\"Tuk Com KhonKaen\",\"Tuk Com Pattaya\",\"Tuk Com Udon\",\"Twilight of Bangla\",\"U Chu Liang\",\"U-Place\",\"UBC 2\",\"UD Town\",\"United Center\",\"V Market\",\"V-Square Plaza\",\"Vanilla Moon\",\"Vanit Place\",\"Vejthani Hospital\",\"Victoria Garden\",\"Wangburapha\",\"World Trade Center\",\"Wufoo Khonkaen\",\"Yodpiman River Walk\",\"ZPELL\",\"10\",\"10\",\"10\",\"10\",\"10\",\"10\",\"10\",\"10\",\"10\",\"10\",\"10\",\"10\",\"10\",\"10\",\"10\",\"10\",\"10\",\"10\",\"10\",\"10\",\"10\",\"10\",\"10\",\"10\",\"10\",\"10\",\"10\",\"10\",\"10\",\"10\",\"10\",\"10\",\"10\",\"10\",\"10\",\"10\",\"10\",\"10\",\"10\",\"10\",\"10\",\"10\",\"10\",\"10\",\"10\",\"10\",\"10\",\"10\",\"10\",\"10\",\"10\",\"10\",\"10\",\"11\",\"11\",\"11\",\"11\",\"11\",\"11\",\"12\",\"12\",\"12\",\"12\",\"12\",\"12\",\"13\",\"13\",\"13\",\"14\",\"14\",\"16\",\"20\",\"20\",\"20\",\"20\",\"20\",\"21\",\"21\",\"24\",\"24\",\"30\",\"30\",\"30\",\"31\",\"32\",\"34\",\"34\",\"40\",\"40\",\"41\",\"41\",\"43\",\"44\",\"45\",\"50\",\"50\",\"50\",\"50\",\"50\",\"52\",\"57\",\"60\",\"65\",\"70\",\"73\",\"74\",\"77\",\"77\",\"80\",\"81\",\"83\",\"83\",\"83\",\"83\",\"83\",\"84\",\"84\",\"84\",\"90\",\"90\",\"S\",\"Ayutthaya\",\"Bang Kruai\",\"Bang Plea\",\"Bangkae\",\"Bangkapi\",\"Bangkhen\",\"Bangkhorlaem\",\"Bangkhuntien\",\"Bangkok\",\"Bangkok Noi\",\"Banglamung\",\"Bangluck\",\"Bangna\",\"Bangpakong\",\"Bangphi\",\"Bangrak\",\"Burirum\",\"Chachoengsao\",\"Chaing Mai\",\"Chatuchak\",\"Chatujak\",\"Chiang Mai\",\"Chiangmai\",\"Chomthong\",\"Chon Buri\",\"Chonburi\",\"Don Muang\",\"Dusit\",\"Hatyai\",\"Hua Hin\",\"Huay Kwang\",\"Huaykwang\",\"Kannayao\",\"Kathu\",\"Katu\",\"Khannayao\",\"Khon Kaen\",\"Klong Toey\",\"Klong-toey Nua\",\"Klongklum\",\"Klongsan\",\"Klongtey\",\"Klongtoey\",\"Koh Samui\",\"Kratoo\",\"Ladprao\",\"Lanksi\",\"Lardprao\",\"Lopburi\",\"Maha Sarakham\",\"Muang\",\"Muang Chiangmai\",\"Muang Chiangrai\",\"Muang Krabi\",\"Muang Nakhonratchasima\",\"Muang Phitsanulok\",\"Muang Rayong\",\"Muang Ubon Ratchathani\",\"Muang Udon Thani\",\"Muang,\",\"Nakhon Pathom\",\"Nakhon Ratchasima\",\"Nakhonsawan\",\"Nakhonsithamarat\",\"Nontha Buri\",\"Nonthaburi\",\"Pakchong\",\"Pakkred\",\"Pathum Thani\",\"Pathumwan\",\"Patumwan\",\"Phasi Charoen\",\"Phayathai\",\"Phra Nakhon Si Ayutthaya\",\"Phranakorn\",\"Phuket\",\"Pomprabsutrupai\",\"Prachuap Khirikhan\",\"Prakanong\",\"Pranakorn\",\"Prathumthani\",\"Prawet\",\"Rajthewi\",\"Ratchaburi\",\"Ratchathewi\",\"Rayong\",\"Roi Et\",\"Saimai\",\"Samut Prakan\",\"Samutprakarn\",\"Saphansung\",\"Saraburi\",\"Sathorn\",\"Saunlaung\",\"Songkhla\",\"Sriracha\",\"Suanluang\",\"Surat Thani\",\"Surin\",\"Talingchan\",\"Thonburi\",\"Thunburi\",\"Ubon Ratchathani\",\"Wangthonglang\",\"Wangtonglang\",\"Wattana\",\"Yannawa\",\"klongtoey\"],\"name\":\"\",\"parents\":[\"Bangkok/10\",\"Bangkok/10\",\"Patumwan/10\",\"Bangkok/10\",\"Patumwan/10\",\"Bangkok/10\",\"Muang Krabi/81\",\"Samut Prakan/11\",\"Bangkok/10\",\"Pathum Thani/13\",\"Phra Nakhon Si Ayutthaya/14\",\"Saimai/10\",\"Patumwan/10\",\"Pranakorn/10\",\"Bangrak/10\",\"Ayutthaya/14\",\"Phuket/83\",\"Sathorn/10\",\"Wangtonglang/10\",\"Klongtoey/10\",\"Wangtonglang/10\",\"Bangna/10\",\"Chomthong/10\",\"Nonthaburi/10\",\"Yannawa/10\",\"Muang,/43\",\"Koh Samui/84\",\"Prachuap Khirikhan/77\",\"Bangrak/10\",\"Wattana/10\",\"Wattana/10\",\"Bangkapi/10\",\"Bangkok/10\",\"Bangkok/10\",\"Klongtoey/10\",\"Bangkok/10\",\"Bangkok/10\",\"Muang Chiangrai/57\",\"Muang/20\",\"Bangkok/10\",\"Bangkok/10\",\"Bangkok/10\",\"Chaing Mai/50\",\"Songkhla/90\",\"Banglamung/S\",\"Surat Thani/84\",\"Muang/40\",\"Muang/52\",\"Chon Buri/20\",\"Nakhonsithamarat/80\",\"Muang Phitsanulok/65\",\"Muang/83\",\"Rayong/21\",\"Nakhon Pathom/73\",\"Yannawa/10\",\"Huay Kwang/10\",\"Bangkhen/10\",\"Muang/84\",\"Muang Ubon Ratchathani/34\",\"Muang Udon Thani/41\",\"Nontha Buri/12\",\"Nontha Buri/12\",\"Pathumwan/10\",\"Pathumwan/10\",\"Muang/50\",\"Chiang Mai/50\",\"Muang/50\",\"Chiang Mai/50\",\"Muang/50\",\"Muang/50\",\"Wattana/10\",\"Bangphi/11\",\"Bangluck/10\",\"Don Muang/10\",\"Don Muang/10\",\"Bangkok/10\",\"Sathorn/10\",\"Bangkok/10\",\"Klongtoey/10\",\"Klongtoey/10\",\"Bangkok/10\",\"klongtoey/10\",\"Khannayao/10\",\"Bangkok/10\",\"Phra Nakhon Si Ayutthaya/14\",\"Bangkok/10\",\"Bangkok/10\",\"Thunburi/13\",\"Bangkok/10\",\"Wattana/10\",\"Klong Toey/10\",\"Bangkok/10\",\"Phayathai/10\",\"Bangkok/10\",\"Bangkok/10\",\"Bangkok/10\",\"Sriracha/20\",\"Chonburi/20\",\"Muang/12\",\"Phuket/83\",\"Hua Hin/77\",\"Hua Hin/77\",\"Rajthewi/10\",\"Bangkok/10\",\"Bangkok/10\",\"Bangkok/10\",\"Pakkred/12\",\"Pakkred/10\",\"Yannawa/10\",\"Huaykwang/10\",\"Bangkok/11\",\"Wattana/10\",\"Kathu/83\",\"Kathu/83\",\"Chiangmai/50\",\"Muang Chiangmai/50\",\"Bangkok/10\",\"Muang/83\",\"Katu/83\",\"Chatuchak/10\",\"Chonburi/20\",\"Muang Rayong/21\",\"Patumwan/10\",\"Sathorn/10\",\"Bangkok/10\",\"Phuket/83\",\"Muang/11\",\"Bangkok/10\",\"Huay Kwang/10\",\"Bangkok/10\",\"Patumwan/10\",\"Patumwan/10\",\"Bangkok Noi/10\",\"Samutprakarn/11\",\"Chiang Mai/50\",\"Bang Plea/11\",\"Bangkok/10\",\"Bangkok/10\",\"Bangrak/10\",\"Bangpakong/24\",\"Chachoengsao/24\",\"Bangpakong/24\",\"Bangpakong/24\",\"Huaykwang/10\",\"Wattana/10\",\"Pakkred/12\",\"Hatyai/90\",\"Patumwan/10\",\"Pakchong/30\",\"Sriracha/20\",\"Prawet/10\",\"Bangkok/10\",\"Bangkok/10\",\"Banglamung/S\",\"Wangthonglang/10\",\"Kratoo/83\",\"Phuket/83\",\"Bangkok/10\",\"Bangkok/10\",\"Bangkok Noi/10\",\"Bangkok/10\",\"Bangkok/10\",\"Bangkok/10\",\"Klongtey/10\",\"Muang/74\",\"Bangkok/10\",\"Saphansung/10\",\"Bangkok/10\",\"Klongtoey/10\",\"Huaykwang/10\",\"Bangkhuntien/10\",\"Ratchathewi/10\",\"Prathumthani/13\",\"Bangkhorlaem/10\",\"Bangkok/10\",\"Bangkok/10\",\"Burirum/31\",\"Chachoengsao/24\",\"Lopburi/16\",\"Ratchaburi/70\",\"Roi Et/45\",\"Samutprakarn/11\",\"Saraburi/10\",\"Nonthaburi/12\",\"Surin/32\",\"Banglamung/S\",\"Chatuchak/10\",\"Bangkok/10\",\"Bangkok/10\",\"Lanksi/12\",\"Ladprao/10\",\"Banglamung/20\",\"Phayathai/10\",\"Prakanong/10\",\"Chatuchak/10\",\"Pomprabsutrupai/10\",\"Wattana/10\",\"Suanluang/10\",\"Chonburi/20\",\"Sathorn/10\",\"Bangkok/10\",\"Prawet/10\",\"Phasi Charoen/10\",\"Klongsan/10\",\"Maha Sarakham/44\",\"Ratchathewi/10\",\"Bangkok/10\",\"Bangkok/10\",\"Bangkok/10\",\"Wattana/10\",\"Huaykwang/10\",\"Klongklum/10\",\"Chatujak/10\",\"Pathumwan/10\",\"Patumwan/10\",\"Patumwan/10\",\"Patumwan/10\",\"Pathumwan/10\",\"Bangkok/10\",\"Bangkok/10\",\"Bangrak/10\",\"Patumwan/10\",\"Bangkok Noi/10\",\"Pakkred/12\",\"Klong-toey Nua/10\",\"Bangrak/10\",\"Bangkok/10\",\"Bangkok/10\",\"Bangkok/10\",\"Ubon Ratchathani/34\",\"Dusit/10\",\"Bangphi/11\",\"Wattana/10\",\"Nakhon Ratchasima/30\",\"Phranakorn/10\",\"Prathumthani/13\",\"Pathumwan/10\",\"Wattana/10\",\"Chonburi/20\",\"Bangkok/10\",\"Talingchan/10\",\"Lardprao/10\",\"Nonthaburi/12\",\"Nonthaburi/12\",\"Bangkok/10\",\"Bangkok/10\",\"Bangkapi/10\",\"Bangkae/10\",\"Bangkapi/10\",\"Bangkok/10\",\"Bangkapi/10\",\"Muang Nakhonratchasima/30\",\"Bangkhen/10\",\"Thonburi/10\",\"Nakhon Pathom/73\",\"Saunlaung/10\",\"Bangkok/10\",\"Bangkok/10\",\"Kannayao/10\",\"Bangkok/10\",\"Bangkapi/10\",\"Bangkok/10\",\"Bangkok/10\",\"Bang Kruai/12\",\"Bangkok/10\",\"Wattana/10\",\"Wattana/10\",\"Klong Toey/10\",\"Bangkok/10\",\"Muang/40\",\"Banglamung/S\",\"Muang/41\",\"Kathu/83\",\"Bangrak/10\",\"Huaykwang/10\",\"Bangkok/10\",\"Muang/41\",\"Bangrak/10\",\"Bangkok/10\",\"Nakhonsawan/60\",\"Bangkok/10\",\"Bangkok/10\",\"Bangkapi/10\",\"Bangkok/10\",\"Bangkok/10\",\"Patumwan/10\",\"Khon Kaen/40\",\"Bangkok/10\",\"Pathum Thani/13\",\"Bangkae\",\"Bangkapi\",\"Bangkhen\",\"Bangkhorlaem\",\"Bangkhuntien\",\"Bangkok\",\"Bangkok Noi\",\"Bangluck\",\"Bangna\",\"Bangrak\",\"Chatuchak\",\"Chatujak\",\"Chomthong\",\"Don Muang\",\"Dusit\",\"Huay Kwang\",\"Huaykwang\",\"Kannayao\",\"Khannayao\",\"Klong Toey\",\"Klong-toey Nua\",\"Klongklum\",\"Klongsan\",\"Klongtey\",\"Klongtoey\",\"Ladprao\",\"Lardprao\",\"Nonthaburi\",\"Pakkred\",\"Pathumwan\",\"Patumwan\",\"Phasi Charoen\",\"Phayathai\",\"Phranakorn\",\"Pomprabsutrupai\",\"Prakanong\",\"Pranakorn\",\"Prawet\",\"Rajthewi\",\"Ratchathewi\",\"Saimai\",\"Saphansung\",\"Saraburi\",\"Sathorn\",\"Saunlaung\",\"Suanluang\",\"Talingchan\",\"Thonburi\",\"Wangthonglang\",\"Wangtonglang\",\"Wattana\",\"Yannawa\",\"klongtoey\",\"Bang Plea\",\"Bangkok\",\"Bangphi\",\"Muang\",\"Samut Prakan\",\"Samutprakarn\",\"Bang Kruai\",\"Lanksi\",\"Muang\",\"Nontha Buri\",\"Nonthaburi\",\"Pakkred\",\"Pathum Thani\",\"Prathumthani\",\"Thunburi\",\"Ayutthaya\",\"Phra Nakhon Si Ayutthaya\",\"Lopburi\",\"Banglamung\",\"Chon Buri\",\"Chonburi\",\"Muang\",\"Sriracha\",\"Muang Rayong\",\"Rayong\",\"Bangpakong\",\"Chachoengsao\",\"Muang Nakhonratchasima\",\"Nakhon Ratchasima\",\"Pakchong\",\"Burirum\",\"Surin\",\"Muang Ubon Ratchathani\",\"Ubon Ratchathani\",\"Khon Kaen\",\"Muang\",\"Muang\",\"Muang Udon Thani\",\"Muang,\",\"Maha Sarakham\",\"Roi Et\",\"Chaing Mai\",\"Chiang Mai\",\"Chiangmai\",\"Muang\",\"Muang Chiangmai\",\"Muang\",\"Muang Chiangrai\",\"Nakhonsawan\",\"Muang Phitsanulok\",\"Ratchaburi\",\"Nakhon Pathom\",\"Muang\",\"Hua Hin\",\"Prachuap Khirikhan\",\"Nakhonsithamarat\",\"Muang Krabi\",\"Kathu\",\"Katu\",\"Kratoo\",\"Muang\",\"Phuket\",\"Koh Samui\",\"Muang\",\"Surat Thani\",\"Hatyai\",\"Songkhla\",\"Banglamung\",\"\",\"\",\"\",\"\",\"\",\"\",\"\",\"\",\"\",\"\",\"\",\"\",\"\",\"\",\"\",\"\",\"\",\"\",\"\",\"\",\"\",\"\",\"\",\"\",\"\",\"\",\"\",\"\",\"\",\"\",\"\",\"\",\"\",\"\",\"\",\"\",\"\",\"\",\"\",\"\",\"\",\"\",\"\",\"\",\"\",\"\",\"\",\"\",\"\",\"\",\"\",\"\",\"\",\"\",\"\",\"\",\"\",\"\",\"\",\"\",\"\",\"\",\"\",\"\",\"\",\"\",\"\",\"\",\"\",\"\",\"\",\"\",\"\",\"\",\"\",\"\",\"\",\"\",\"\",\"\",\"\",\"\",\"\",\"\",\"\",\"\",\"\",\"\",\"\",\"\",\"\",\"\",\"\",\"\",\"\",\"\",\"\",\"\",\"\",\"\",\"\",\"\",\"\",\"\",\"\",\"\",\"\",\"\"],\"values\":[1,1,1,1,1,1,1,1,1,1,1,1,1,1,1,1,1,1,1,1,1,1,1,1,1,1,1,1,1,1,1,1,1,1,1,1,1,1,1,1,1,1,1,1,1,1,1,1,1,1,1,1,1,1,1,1,1,1,1,1,1,1,1,1,1,1,1,1,1,1,1,1,1,1,1,1,1,1,1,1,1,1,1,1,1,1,1,1,1,1,1,1,1,1,1,1,1,1,1,1,1,1,1,1,1,1,1,1,1,1,1,1,1,1,1,1,1,1,1,1,1,1,1,1,1,1,1,1,1,1,1,1,1,1,1,1,1,1,1,1,1,1,1,1,1,1,1,1,1,1,1,1,1,1,1,1,1,1,1,1,1,1,1,1,1,1,1,1,1,1,1,1,1,1,1,1,1,1,1,1,1,1,1,1,1,1,1,1,1,1,1,1,1,1,1,1,1,1,1,1,1,1,1,1,1,1,1,1,1,1,1,1,1,1,1,1,1,1,1,1,1,1,1,1,1,1,1,1,1,1,1,1,1,1,1,1,1,1,1,1,1,1,1,1,1,1,1,1,1,1,1,1,1,1,1,1,1,1,1,1,1,1,1,1,1,1,1,1,1,1,1,1,1,1,1,1,1,1,1,1,1,1,1,1,1,1,1,1,1,1,6,2,1,1,72,3,1,1,7,3,1,1,2,1,2,5,1,1,2,1,1,1,1,5,1,1,1,1,5,12,1,2,1,1,1,1,2,1,2,1,1,1,4,1,1,1,1,1,2,12,3,1,1,1,2,1,1,2,1,1,1,2,3,3,2,2,1,1,2,1,1,1,4,1,2,1,1,3,2,1,1,1,1,1,1,1,1,2,2,1,1,1,1,1,3,1,4,1,1,1,1,1,1,2,1,2,1,1,1,3,1,1,2,4,1,1,1,1,1,4,1,1,1,1,6,2,1,1,73,3,5,1,1,3,2,7,1,2,1,3,1,3,1,1,1,4,2,1,1,2,2,5,1,3,1,1,1,2,1,1,1,1,5,1,1,1,1,1,1,1,16,1,1,1,1,1,1,1,1,1,2,1,1,1,2,4,1,4,2,5,12,1,2,2,1,4,1,1,1,1,2,2,1,1,2,1,1,1,1,2,1,1,4,1,1,2,1,1,1,1,1,1,1,1,2,12,3,1],\"type\":\"treemap\"}],                        {\"template\":{\"data\":{\"bar\":[{\"error_x\":{\"color\":\"#2a3f5f\"},\"error_y\":{\"color\":\"#2a3f5f\"},\"marker\":{\"line\":{\"color\":\"#E5ECF6\",\"width\":0.5},\"pattern\":{\"fillmode\":\"overlay\",\"size\":10,\"solidity\":0.2}},\"type\":\"bar\"}],\"barpolar\":[{\"marker\":{\"line\":{\"color\":\"#E5ECF6\",\"width\":0.5},\"pattern\":{\"fillmode\":\"overlay\",\"size\":10,\"solidity\":0.2}},\"type\":\"barpolar\"}],\"carpet\":[{\"aaxis\":{\"endlinecolor\":\"#2a3f5f\",\"gridcolor\":\"white\",\"linecolor\":\"white\",\"minorgridcolor\":\"white\",\"startlinecolor\":\"#2a3f5f\"},\"baxis\":{\"endlinecolor\":\"#2a3f5f\",\"gridcolor\":\"white\",\"linecolor\":\"white\",\"minorgridcolor\":\"white\",\"startlinecolor\":\"#2a3f5f\"},\"type\":\"carpet\"}],\"choropleth\":[{\"colorbar\":{\"outlinewidth\":0,\"ticks\":\"\"},\"type\":\"choropleth\"}],\"contour\":[{\"colorbar\":{\"outlinewidth\":0,\"ticks\":\"\"},\"colorscale\":[[0.0,\"#0d0887\"],[0.1111111111111111,\"#46039f\"],[0.2222222222222222,\"#7201a8\"],[0.3333333333333333,\"#9c179e\"],[0.4444444444444444,\"#bd3786\"],[0.5555555555555556,\"#d8576b\"],[0.6666666666666666,\"#ed7953\"],[0.7777777777777778,\"#fb9f3a\"],[0.8888888888888888,\"#fdca26\"],[1.0,\"#f0f921\"]],\"type\":\"contour\"}],\"contourcarpet\":[{\"colorbar\":{\"outlinewidth\":0,\"ticks\":\"\"},\"type\":\"contourcarpet\"}],\"heatmap\":[{\"colorbar\":{\"outlinewidth\":0,\"ticks\":\"\"},\"colorscale\":[[0.0,\"#0d0887\"],[0.1111111111111111,\"#46039f\"],[0.2222222222222222,\"#7201a8\"],[0.3333333333333333,\"#9c179e\"],[0.4444444444444444,\"#bd3786\"],[0.5555555555555556,\"#d8576b\"],[0.6666666666666666,\"#ed7953\"],[0.7777777777777778,\"#fb9f3a\"],[0.8888888888888888,\"#fdca26\"],[1.0,\"#f0f921\"]],\"type\":\"heatmap\"}],\"heatmapgl\":[{\"colorbar\":{\"outlinewidth\":0,\"ticks\":\"\"},\"colorscale\":[[0.0,\"#0d0887\"],[0.1111111111111111,\"#46039f\"],[0.2222222222222222,\"#7201a8\"],[0.3333333333333333,\"#9c179e\"],[0.4444444444444444,\"#bd3786\"],[0.5555555555555556,\"#d8576b\"],[0.6666666666666666,\"#ed7953\"],[0.7777777777777778,\"#fb9f3a\"],[0.8888888888888888,\"#fdca26\"],[1.0,\"#f0f921\"]],\"type\":\"heatmapgl\"}],\"histogram\":[{\"marker\":{\"pattern\":{\"fillmode\":\"overlay\",\"size\":10,\"solidity\":0.2}},\"type\":\"histogram\"}],\"histogram2d\":[{\"colorbar\":{\"outlinewidth\":0,\"ticks\":\"\"},\"colorscale\":[[0.0,\"#0d0887\"],[0.1111111111111111,\"#46039f\"],[0.2222222222222222,\"#7201a8\"],[0.3333333333333333,\"#9c179e\"],[0.4444444444444444,\"#bd3786\"],[0.5555555555555556,\"#d8576b\"],[0.6666666666666666,\"#ed7953\"],[0.7777777777777778,\"#fb9f3a\"],[0.8888888888888888,\"#fdca26\"],[1.0,\"#f0f921\"]],\"type\":\"histogram2d\"}],\"histogram2dcontour\":[{\"colorbar\":{\"outlinewidth\":0,\"ticks\":\"\"},\"colorscale\":[[0.0,\"#0d0887\"],[0.1111111111111111,\"#46039f\"],[0.2222222222222222,\"#7201a8\"],[0.3333333333333333,\"#9c179e\"],[0.4444444444444444,\"#bd3786\"],[0.5555555555555556,\"#d8576b\"],[0.6666666666666666,\"#ed7953\"],[0.7777777777777778,\"#fb9f3a\"],[0.8888888888888888,\"#fdca26\"],[1.0,\"#f0f921\"]],\"type\":\"histogram2dcontour\"}],\"mesh3d\":[{\"colorbar\":{\"outlinewidth\":0,\"ticks\":\"\"},\"type\":\"mesh3d\"}],\"parcoords\":[{\"line\":{\"colorbar\":{\"outlinewidth\":0,\"ticks\":\"\"}},\"type\":\"parcoords\"}],\"pie\":[{\"automargin\":true,\"type\":\"pie\"}],\"scatter\":[{\"marker\":{\"colorbar\":{\"outlinewidth\":0,\"ticks\":\"\"}},\"type\":\"scatter\"}],\"scatter3d\":[{\"line\":{\"colorbar\":{\"outlinewidth\":0,\"ticks\":\"\"}},\"marker\":{\"colorbar\":{\"outlinewidth\":0,\"ticks\":\"\"}},\"type\":\"scatter3d\"}],\"scattercarpet\":[{\"marker\":{\"colorbar\":{\"outlinewidth\":0,\"ticks\":\"\"}},\"type\":\"scattercarpet\"}],\"scattergeo\":[{\"marker\":{\"colorbar\":{\"outlinewidth\":0,\"ticks\":\"\"}},\"type\":\"scattergeo\"}],\"scattergl\":[{\"marker\":{\"colorbar\":{\"outlinewidth\":0,\"ticks\":\"\"}},\"type\":\"scattergl\"}],\"scattermapbox\":[{\"marker\":{\"colorbar\":{\"outlinewidth\":0,\"ticks\":\"\"}},\"type\":\"scattermapbox\"}],\"scatterpolar\":[{\"marker\":{\"colorbar\":{\"outlinewidth\":0,\"ticks\":\"\"}},\"type\":\"scatterpolar\"}],\"scatterpolargl\":[{\"marker\":{\"colorbar\":{\"outlinewidth\":0,\"ticks\":\"\"}},\"type\":\"scatterpolargl\"}],\"scatterternary\":[{\"marker\":{\"colorbar\":{\"outlinewidth\":0,\"ticks\":\"\"}},\"type\":\"scatterternary\"}],\"surface\":[{\"colorbar\":{\"outlinewidth\":0,\"ticks\":\"\"},\"colorscale\":[[0.0,\"#0d0887\"],[0.1111111111111111,\"#46039f\"],[0.2222222222222222,\"#7201a8\"],[0.3333333333333333,\"#9c179e\"],[0.4444444444444444,\"#bd3786\"],[0.5555555555555556,\"#d8576b\"],[0.6666666666666666,\"#ed7953\"],[0.7777777777777778,\"#fb9f3a\"],[0.8888888888888888,\"#fdca26\"],[1.0,\"#f0f921\"]],\"type\":\"surface\"}],\"table\":[{\"cells\":{\"fill\":{\"color\":\"#EBF0F8\"},\"line\":{\"color\":\"white\"}},\"header\":{\"fill\":{\"color\":\"#C8D4E3\"},\"line\":{\"color\":\"white\"}},\"type\":\"table\"}]},\"layout\":{\"annotationdefaults\":{\"arrowcolor\":\"#2a3f5f\",\"arrowhead\":0,\"arrowwidth\":1},\"autotypenumbers\":\"strict\",\"coloraxis\":{\"colorbar\":{\"outlinewidth\":0,\"ticks\":\"\"}},\"colorscale\":{\"diverging\":[[0,\"#8e0152\"],[0.1,\"#c51b7d\"],[0.2,\"#de77ae\"],[0.3,\"#f1b6da\"],[0.4,\"#fde0ef\"],[0.5,\"#f7f7f7\"],[0.6,\"#e6f5d0\"],[0.7,\"#b8e186\"],[0.8,\"#7fbc41\"],[0.9,\"#4d9221\"],[1,\"#276419\"]],\"sequential\":[[0.0,\"#0d0887\"],[0.1111111111111111,\"#46039f\"],[0.2222222222222222,\"#7201a8\"],[0.3333333333333333,\"#9c179e\"],[0.4444444444444444,\"#bd3786\"],[0.5555555555555556,\"#d8576b\"],[0.6666666666666666,\"#ed7953\"],[0.7777777777777778,\"#fb9f3a\"],[0.8888888888888888,\"#fdca26\"],[1.0,\"#f0f921\"]],\"sequentialminus\":[[0.0,\"#0d0887\"],[0.1111111111111111,\"#46039f\"],[0.2222222222222222,\"#7201a8\"],[0.3333333333333333,\"#9c179e\"],[0.4444444444444444,\"#bd3786\"],[0.5555555555555556,\"#d8576b\"],[0.6666666666666666,\"#ed7953\"],[0.7777777777777778,\"#fb9f3a\"],[0.8888888888888888,\"#fdca26\"],[1.0,\"#f0f921\"]]},\"colorway\":[\"#636efa\",\"#EF553B\",\"#00cc96\",\"#ab63fa\",\"#FFA15A\",\"#19d3f3\",\"#FF6692\",\"#B6E880\",\"#FF97FF\",\"#FECB52\"],\"font\":{\"color\":\"#2a3f5f\"},\"geo\":{\"bgcolor\":\"white\",\"lakecolor\":\"white\",\"landcolor\":\"#E5ECF6\",\"showlakes\":true,\"showland\":true,\"subunitcolor\":\"white\"},\"hoverlabel\":{\"align\":\"left\"},\"hovermode\":\"closest\",\"mapbox\":{\"style\":\"light\"},\"paper_bgcolor\":\"white\",\"plot_bgcolor\":\"#E5ECF6\",\"polar\":{\"angularaxis\":{\"gridcolor\":\"white\",\"linecolor\":\"white\",\"ticks\":\"\"},\"bgcolor\":\"#E5ECF6\",\"radialaxis\":{\"gridcolor\":\"white\",\"linecolor\":\"white\",\"ticks\":\"\"}},\"scene\":{\"xaxis\":{\"backgroundcolor\":\"#E5ECF6\",\"gridcolor\":\"white\",\"gridwidth\":2,\"linecolor\":\"white\",\"showbackground\":true,\"ticks\":\"\",\"zerolinecolor\":\"white\"},\"yaxis\":{\"backgroundcolor\":\"#E5ECF6\",\"gridcolor\":\"white\",\"gridwidth\":2,\"linecolor\":\"white\",\"showbackground\":true,\"ticks\":\"\",\"zerolinecolor\":\"white\"},\"zaxis\":{\"backgroundcolor\":\"#E5ECF6\",\"gridcolor\":\"white\",\"gridwidth\":2,\"linecolor\":\"white\",\"showbackground\":true,\"ticks\":\"\",\"zerolinecolor\":\"white\"}},\"shapedefaults\":{\"line\":{\"color\":\"#2a3f5f\"}},\"ternary\":{\"aaxis\":{\"gridcolor\":\"white\",\"linecolor\":\"white\",\"ticks\":\"\"},\"baxis\":{\"gridcolor\":\"white\",\"linecolor\":\"white\",\"ticks\":\"\"},\"bgcolor\":\"#E5ECF6\",\"caxis\":{\"gridcolor\":\"white\",\"linecolor\":\"white\",\"ticks\":\"\"}},\"title\":{\"x\":0.05},\"xaxis\":{\"automargin\":true,\"gridcolor\":\"white\",\"linecolor\":\"white\",\"ticks\":\"\",\"title\":{\"standoff\":15},\"zerolinecolor\":\"white\",\"zerolinewidth\":2},\"yaxis\":{\"automargin\":true,\"gridcolor\":\"white\",\"linecolor\":\"white\",\"ticks\":\"\",\"title\":{\"standoff\":15},\"zerolinecolor\":\"white\",\"zerolinewidth\":2}}},\"legend\":{\"tracegroupgap\":0},\"margin\":{\"t\":60}},                        {\"responsive\": true}                    ).then(function(){\n",
              "                            \n",
              "var gd = document.getElementById('785e0f72-9619-4638-a1c2-eeda0fae5a4f');\n",
              "var x = new MutationObserver(function (mutations, observer) {{\n",
              "        var display = window.getComputedStyle(gd).display;\n",
              "        if (!display || display === 'none') {{\n",
              "            console.log([gd, 'removed!']);\n",
              "            Plotly.purge(gd);\n",
              "            observer.disconnect();\n",
              "        }}\n",
              "}});\n",
              "\n",
              "// Listen for the removal of the full notebook cells\n",
              "var notebookContainer = gd.closest('#notebook-container');\n",
              "if (notebookContainer) {{\n",
              "    x.observe(notebookContainer, {childList: true});\n",
              "}}\n",
              "\n",
              "// Listen for the clearing of the current output cell\n",
              "var outputEl = gd.closest('.output');\n",
              "if (outputEl) {{\n",
              "    x.observe(outputEl, {childList: true});\n",
              "}}\n",
              "\n",
              "                        })                };                            </script>        </div>\n",
              "</body>\n",
              "</html>"
            ]
          },
          "metadata": {}
        }
      ]
    },
    {
      "cell_type": "code",
      "source": [
        ""
      ],
      "metadata": {
        "id": "yGNxT7sD8S8E"
      },
      "execution_count": null,
      "outputs": []
    }
  ]
}