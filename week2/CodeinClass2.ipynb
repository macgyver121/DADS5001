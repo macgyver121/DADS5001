{
  "nbformat": 4,
  "nbformat_minor": 0,
  "metadata": {
    "colab": {
      "name": "CodeinClass2.ipynb",
      "provenance": [],
      "authorship_tag": "ABX9TyPTn9bX6doGIydhQeztrOLO",
      "include_colab_link": true
    },
    "kernelspec": {
      "name": "python3",
      "display_name": "Python 3"
    },
    "language_info": {
      "name": "python"
    }
  },
  "cells": [
    {
      "cell_type": "markdown",
      "metadata": {
        "id": "view-in-github",
        "colab_type": "text"
      },
      "source": [
        "<a href=\"https://colab.research.google.com/github/macgyver121/DADS5001/blob/main/week2/CodeinClass2.ipynb\" target=\"_parent\"><img src=\"https://colab.research.google.com/assets/colab-badge.svg\" alt=\"Open In Colab\"/></a>"
      ]
    },
    {
      "cell_type": "code",
      "execution_count": null,
      "metadata": {
        "colab": {
          "base_uri": "https://localhost:8080/"
        },
        "id": "jFQrjdLVABAJ",
        "outputId": "d6d79a38-ccc3-4fda-fb31-052671d781c5"
      },
      "outputs": [
        {
          "output_type": "stream",
          "name": "stdout",
          "text": [
            "week2\n"
          ]
        }
      ],
      "source": [
        "print('week2')"
      ]
    },
    {
      "cell_type": "code",
      "source": [
        "print('week2')"
      ],
      "metadata": {
        "id": "3HpCGN9eAEsF",
        "outputId": "d7775e98-23d0-4e74-bde5-1ccf77666115",
        "colab": {
          "base_uri": "https://localhost:8080/"
        }
      },
      "execution_count": 1,
      "outputs": [
        {
          "output_type": "stream",
          "name": "stdout",
          "text": [
            "week2\n"
          ]
        }
      ]
    },
    {
      "cell_type": "code",
      "source": [
        ""
      ],
      "metadata": {
        "id": "W0Sz1mJsASru"
      },
      "execution_count": null,
      "outputs": []
    }
  ]
}